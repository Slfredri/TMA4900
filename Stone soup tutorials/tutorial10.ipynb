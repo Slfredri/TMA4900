{
 "cells": [
  {
   "cell_type": "code",
   "execution_count": 36,
   "metadata": {},
   "outputs": [],
   "source": [
    "import numpy as np\n",
    "import datetime"
   ]
  },
  {
   "cell_type": "markdown",
   "metadata": {},
   "source": [
    "### Initialize ground truth"
   ]
  },
  {
   "cell_type": "code",
   "execution_count": 37,
   "metadata": {},
   "outputs": [],
   "source": [
    "from stonesoup.types.array import StateVector, CovarianceMatrix\n",
    "from stonesoup.types.state import GaussianState\n",
    "initial_state_mean = StateVector([[0], [0], [0], [0]])\n",
    "initial_state_covariance = CovarianceMatrix(np.diag([4,0.5,4,0.5]))\n",
    "timestep_size = datetime.timedelta(seconds=5)\n",
    "number_of_steps = 20\n",
    "birth_rate = 0.3\n",
    "death_probability = 0.05\n",
    "start_time = datetime.datetime.now().replace(microsecond=0)\n",
    "initial_state = GaussianState(initial_state_mean, initial_state_covariance, start_time)"
   ]
  },
  {
   "cell_type": "markdown",
   "metadata": {},
   "source": [
    "### Create transition model\n"
   ]
  },
  {
   "cell_type": "code",
   "execution_count": 38,
   "metadata": {},
   "outputs": [],
   "source": [
    "from stonesoup.models.transition.linear import CombinedLinearGaussianTransitionModel, ConstantVelocity\n",
    "transition_model = CombinedLinearGaussianTransitionModel([ConstantVelocity(0.05), ConstantVelocity(0.05)])"
   ]
  },
  {
   "cell_type": "markdown",
   "metadata": {},
   "source": [
    "### Create multi target ground truth simulator"
   ]
  },
  {
   "cell_type": "code",
   "execution_count": 39,
   "metadata": {},
   "outputs": [],
   "source": [
    "from stonesoup.simulator.simple import MultiTargetGroundTruthSimulator\n",
    "groundtruth_sim = MultiTargetGroundTruthSimulator(\n",
    "    transition_model = transition_model,\n",
    "    initial_state = initial_state,\n",
    "    timestep = timestep_size,\n",
    "    number_steps = number_of_steps,\n",
    "    birth_rate = birth_rate,\n",
    "    death_probability = death_probability\n",
    ")"
   ]
  },
  {
   "cell_type": "markdown",
   "metadata": {},
   "source": [
    "### Create measurement model"
   ]
  },
  {
   "cell_type": "code",
   "execution_count": 40,
   "metadata": {},
   "outputs": [],
   "source": [
    "from stonesoup.simulator.simple import SimpleDetectionSimulator\n",
    "from stonesoup.models.measurement.linear import LinearGaussian\n",
    "\n",
    "measurement_model_covariance = np.diag([0.25, 0.25])\n",
    "measurement_model = LinearGaussian(4, [0,2], measurement_model_covariance)\n",
    "\n",
    "probability_detection = 0.9\n",
    "\n",
    "clutter_area = np.array([[-1, 1], [-1, 1]])*100\n",
    "clutter_rate = 1"
   ]
  },
  {
   "cell_type": "code",
   "execution_count": 41,
   "metadata": {},
   "outputs": [],
   "source": [
    "detection_sim = SimpleDetectionSimulator(\n",
    "    groundtruth = groundtruth_sim,\n",
    "    measurement_model = measurement_model,\n",
    "    detection_probability = probability_detection,\n",
    "    meas_range = clutter_area,\n",
    "    clutter_rate = clutter_rate\n",
    "\n",
    ")"
   ]
  },
  {
   "cell_type": "markdown",
   "metadata": {},
   "source": [
    "### Create predictor and updater"
   ]
  },
  {
   "cell_type": "code",
   "execution_count": 42,
   "metadata": {},
   "outputs": [],
   "source": [
    "from stonesoup.predictor.kalman import KalmanPredictor\n",
    "predictor = KalmanPredictor(transition_model)\n",
    "from stonesoup.updater.kalman import KalmanUpdater\n",
    "updater = KalmanUpdater(measurement_model)"
   ]
  },
  {
   "cell_type": "markdown",
   "metadata": {},
   "source": [
    "### Create data associator (GNN)"
   ]
  },
  {
   "cell_type": "code",
   "execution_count": 43,
   "metadata": {},
   "outputs": [],
   "source": [
    "from stonesoup.hypothesiser.distance import DistanceHypothesiser\n",
    "from stonesoup.measures import Mahalanobis\n",
    "hypothesiser = DistanceHypothesiser(predictor, updater, measure = Mahalanobis(), missed_distance = 3)"
   ]
  },
  {
   "cell_type": "code",
   "execution_count": 44,
   "metadata": {},
   "outputs": [],
   "source": [
    "from stonesoup.dataassociator.neighbour import GNNWith2DAssignment\n",
    "data_associator = GNNWith2DAssignment(hypothesiser)"
   ]
  },
  {
   "cell_type": "markdown",
   "metadata": {},
   "source": [
    "### Create initiator and deleter"
   ]
  },
  {
   "cell_type": "code",
   "execution_count": 45,
   "metadata": {},
   "outputs": [],
   "source": [
    "from stonesoup.deleter.error import CovarianceBasedDeleter\n",
    "covariance_limit_for_delete = 2\n",
    "deleter = CovarianceBasedDeleter(covar_trace_thresh = covariance_limit_for_delete)\n",
    "\n",
    "s_prior_state = GaussianState([[0],[0],[0],[0]], np.diag([0, 0.5, 0, 0.5]))\n",
    "min_detections = 3\n",
    "\n",
    "from stonesoup.initiator.simple import MultiMeasurementInitiator\n",
    "initiator = MultiMeasurementInitiator(\n",
    "    prior_state = s_prior_state,\n",
    "    measurement_model = measurement_model,\n",
    "    deleter = deleter,\n",
    "    data_associator = data_associator,\n",
    "    updater = updater,\n",
    "    min_points = min_detections\n",
    ")"
   ]
  },
  {
   "cell_type": "markdown",
   "metadata": {},
   "source": [
    "### Run the tracker"
   ]
  },
  {
   "cell_type": "code",
   "execution_count": 46,
   "metadata": {},
   "outputs": [],
   "source": [
    "from stonesoup.tracker.simple import MultiTargetTracker\n",
    "\n",
    "tracker = MultiTargetTracker(\n",
    "    initiator = initiator,\n",
    "    deleter = deleter,\n",
    "    detector = detection_sim,\n",
    "    data_associator = data_associator,\n",
    "    updater = updater\n",
    ")"
   ]
  },
  {
   "cell_type": "code",
   "execution_count": 47,
   "metadata": {},
   "outputs": [],
   "source": [
    "groundtruth = set()\n",
    "detections = set()\n",
    "tracks = set()\n",
    "\n",
    "for time, ctracks in tracker:\n",
    "    groundtruth.update(groundtruth_sim.groundtruth_paths)\n",
    "    detections.update(detection_sim.detections)\n",
    "    tracks.update(ctracks)\n",
    "    "
   ]
  },
  {
   "cell_type": "code",
   "execution_count": 48,
   "metadata": {},
   "outputs": [
    {
     "data": {
      "application/vnd.plotly.v1+json": {
       "config": {
        "plotlyServerURL": "https://plot.ly"
       },
       "data": [
        {
         "hoverinfo": "none",
         "legendgroup": "Ground Truth",
         "legendrank": 100,
         "line": {
          "color": "#EF553B",
          "dash": "dash"
         },
         "mode": "lines",
         "name": "Ground Truth",
         "showlegend": true,
         "type": "scatter",
         "x": [],
         "y": []
        },
        {
         "hoverinfo": "none",
         "legendgroup": "Ground Truth",
         "legendrank": 100,
         "line": {
          "color": "#EF553B",
          "dash": "dash"
         },
         "mode": "lines",
         "name": "Ground Truth",
         "showlegend": false,
         "type": "scatter",
         "x": [],
         "y": []
        },
        {
         "hoverinfo": "none",
         "legendgroup": "Ground Truth",
         "legendrank": 100,
         "line": {
          "color": "#00CC96",
          "dash": "dash"
         },
         "mode": "lines",
         "name": "Ground Truth",
         "showlegend": false,
         "type": "scatter",
         "x": [],
         "y": []
        },
        {
         "hoverinfo": "none",
         "legendgroup": "Ground Truth",
         "legendrank": 100,
         "line": {
          "color": "#AB63FA",
          "dash": "dash"
         },
         "mode": "lines",
         "name": "Ground Truth",
         "showlegend": false,
         "type": "scatter",
         "x": [],
         "y": []
        },
        {
         "hoverinfo": "none",
         "legendgroup": "Ground Truth",
         "legendrank": 100,
         "line": {
          "color": "#FFA15A",
          "dash": "dash"
         },
         "mode": "lines",
         "name": "Ground Truth",
         "showlegend": false,
         "type": "scatter",
         "x": [],
         "y": []
        },
        {
         "hoverinfo": "none",
         "legendgroup": "Ground Truth",
         "legendrank": 100,
         "line": {
          "color": "#19D3F3",
          "dash": "dash"
         },
         "mode": "lines",
         "name": "Ground Truth",
         "showlegend": false,
         "type": "scatter",
         "x": [],
         "y": []
        },
        {
         "hoverinfo": "none",
         "legendgroup": "Detections (Measurements)",
         "legendrank": 200,
         "marker": {
          "color": "#636EFA"
         },
         "mode": "markers",
         "name": "Measurements<br>(Detections)",
         "showlegend": true,
         "type": "scatter",
         "x": [],
         "y": []
        },
        {
         "hoverinfo": "none",
         "legendgroup": "Detections (Measurements)",
         "legendrank": 200,
         "marker": {
          "color": "#636EFA"
         },
         "mode": "markers",
         "name": "Measurements<br>(Detections)",
         "showlegend": false,
         "type": "scatter",
         "x": [],
         "y": []
        },
        {
         "hoverinfo": "none",
         "legendgroup": "Clutter",
         "legendrank": 300,
         "marker": {
          "color": "#FECB52",
          "symbol": "star-triangle-up"
         },
         "mode": "markers",
         "name": "Measurements<br>(Clutter)",
         "showlegend": true,
         "type": "scatter",
         "x": [],
         "y": []
        },
        {
         "legendgroup": "Tracks",
         "legendrank": 400,
         "line": {
          "color": "#AB63FA"
         },
         "mode": "markers+lines",
         "name": "Tracks",
         "showlegend": true,
         "type": "scatter",
         "x": [],
         "y": []
        },
        {
         "legendgroup": "Tracks",
         "legendrank": 400,
         "line": {
          "color": "#AB63FA"
         },
         "mode": "markers+lines",
         "name": "Tracks",
         "showlegend": false,
         "type": "scatter",
         "x": [],
         "y": []
        },
        {
         "legendgroup": "Tracks",
         "legendrank": 400,
         "line": {
          "color": "#FFA15A"
         },
         "mode": "markers+lines",
         "name": "Tracks",
         "showlegend": false,
         "type": "scatter",
         "x": [],
         "y": []
        },
        {
         "legendgroup": "Tracks",
         "legendrank": 400,
         "line": {
          "color": "#19D3F3"
         },
         "mode": "markers+lines",
         "name": "Tracks",
         "showlegend": false,
         "type": "scatter",
         "x": [],
         "y": []
        },
        {
         "legendgroup": "Tracks",
         "legendrank": 400,
         "line": {
          "color": "#FF6692"
         },
         "mode": "markers+lines",
         "name": "Tracks",
         "showlegend": false,
         "type": "scatter",
         "x": [],
         "y": []
        }
       ],
       "frames": [
        {
         "data": [
          {
           "type": "scatter",
           "x": [
            0,
            0
           ],
           "y": [
            0,
            0
           ]
          },
          {
           "hovertemplate": "GroundTruthState<br>(%{x}, %{y})<br>Time: %{meta}",
           "meta": [],
           "type": "scatter",
           "x": [
            null
           ],
           "y": [
            null
           ]
          },
          {
           "hovertemplate": "GroundTruthState<br>(%{x}, %{y})<br>Time: %{meta}",
           "meta": [],
           "type": "scatter",
           "x": [
            null
           ],
           "y": [
            null
           ]
          },
          {
           "hovertemplate": "GroundTruthState<br>(%{x}, %{y})<br>Time: %{meta}",
           "meta": [],
           "type": "scatter",
           "x": [
            null
           ],
           "y": [
            null
           ]
          },
          {
           "hovertemplate": "GroundTruthState<br>(%{x}, %{y})<br>Time: %{meta}",
           "meta": [],
           "type": "scatter",
           "x": [
            null
           ],
           "y": [
            null
           ]
          },
          {
           "hovertemplate": "GroundTruthState<br>(%{x}, %{y})<br>Time: %{meta}",
           "meta": [],
           "type": "scatter",
           "x": [
            null
           ],
           "y": [
            null
           ]
          },
          {
           "type": "scatter",
           "x": [
            null,
            null
           ],
           "y": [
            null,
            null
           ]
          },
          {
           "hovertemplate": "Detection<br>(%{x}, %{y})<br>Time: %{meta}",
           "meta": [],
           "type": "scatter",
           "x": [
            null
           ],
           "y": [
            null
           ]
          },
          {
           "hovertemplate": "Clutter<br>(%{x}, %{y})<br>Time: %{meta}",
           "meta": [],
           "type": "scatter",
           "x": [
            null
           ],
           "y": [
            null
           ]
          },
          {
           "type": "scatter",
           "x": [
            null,
            null
           ],
           "y": [
            null,
            null
           ]
          },
          {
           "customdata": [],
           "hovertemplate": "%{meta}<br>(%{x}, %{y})<br>Time: %{customdata}",
           "meta": [],
           "type": "scatter",
           "x": [
            null
           ],
           "y": [
            null
           ]
          },
          {
           "customdata": [],
           "hovertemplate": "%{meta}<br>(%{x}, %{y})<br>Time: %{customdata}",
           "meta": [],
           "type": "scatter",
           "x": [
            null
           ],
           "y": [
            null
           ]
          },
          {
           "customdata": [],
           "hovertemplate": "%{meta}<br>(%{x}, %{y})<br>Time: %{customdata}",
           "meta": [],
           "type": "scatter",
           "x": [
            null
           ],
           "y": [
            null
           ]
          },
          {
           "customdata": [],
           "hovertemplate": "%{meta}<br>(%{x}, %{y})<br>Time: %{customdata}",
           "meta": [],
           "type": "scatter",
           "x": [
            null
           ],
           "y": [
            null
           ]
          }
         ],
         "name": "2023-09-09 13:15:13",
         "traces": [
          0,
          1,
          2,
          3,
          4,
          5,
          6,
          7,
          8,
          9,
          10,
          11,
          12,
          13
         ]
        },
        {
         "data": [
          {
           "type": "scatter",
           "x": [
            0,
            0
           ],
           "y": [
            0,
            0
           ]
          },
          {
           "hovertemplate": "GroundTruthState<br>(%{x}, %{y})<br>Time: %{meta}",
           "meta": [],
           "type": "scatter",
           "x": [
            null
           ],
           "y": [
            null
           ]
          },
          {
           "hovertemplate": "GroundTruthState<br>(%{x}, %{y})<br>Time: %{meta}",
           "meta": [],
           "type": "scatter",
           "x": [
            null
           ],
           "y": [
            null
           ]
          },
          {
           "hovertemplate": "GroundTruthState<br>(%{x}, %{y})<br>Time: %{meta}",
           "meta": [],
           "type": "scatter",
           "x": [
            null
           ],
           "y": [
            null
           ]
          },
          {
           "hovertemplate": "GroundTruthState<br>(%{x}, %{y})<br>Time: %{meta}",
           "meta": [],
           "type": "scatter",
           "x": [
            null
           ],
           "y": [
            null
           ]
          },
          {
           "hovertemplate": "GroundTruthState<br>(%{x}, %{y})<br>Time: %{meta}",
           "meta": [],
           "type": "scatter",
           "x": [
            null
           ],
           "y": [
            null
           ]
          },
          {
           "type": "scatter",
           "x": [
            null,
            null
           ],
           "y": [
            null,
            null
           ]
          },
          {
           "hovertemplate": "Detection<br>(%{x}, %{y})<br>Time: %{meta}",
           "meta": [],
           "type": "scatter",
           "x": [
            null
           ],
           "y": [
            null
           ]
          },
          {
           "hovertemplate": "Clutter<br>(%{x}, %{y})<br>Time: %{meta}",
           "meta": [
            "2023-09-09 13:15:18"
           ],
           "type": "scatter",
           "x": [
            35.13802684242958,
            null
           ],
           "y": [
            -62.08572070126384,
            null
           ]
          },
          {
           "type": "scatter",
           "x": [
            null,
            null
           ],
           "y": [
            null,
            null
           ]
          },
          {
           "customdata": [],
           "hovertemplate": "%{meta}<br>(%{x}, %{y})<br>Time: %{customdata}",
           "meta": [],
           "type": "scatter",
           "x": [
            null
           ],
           "y": [
            null
           ]
          },
          {
           "customdata": [],
           "hovertemplate": "%{meta}<br>(%{x}, %{y})<br>Time: %{customdata}",
           "meta": [],
           "type": "scatter",
           "x": [
            null
           ],
           "y": [
            null
           ]
          },
          {
           "customdata": [],
           "hovertemplate": "%{meta}<br>(%{x}, %{y})<br>Time: %{customdata}",
           "meta": [],
           "type": "scatter",
           "x": [
            null
           ],
           "y": [
            null
           ]
          },
          {
           "customdata": [],
           "hovertemplate": "%{meta}<br>(%{x}, %{y})<br>Time: %{customdata}",
           "meta": [],
           "type": "scatter",
           "x": [
            null
           ],
           "y": [
            null
           ]
          }
         ],
         "name": "2023-09-09 13:15:18",
         "traces": [
          0,
          1,
          2,
          3,
          4,
          5,
          6,
          7,
          8,
          9,
          10,
          11,
          12,
          13
         ]
        },
        {
         "data": [
          {
           "type": "scatter",
           "x": [
            0,
            0
           ],
           "y": [
            0,
            0
           ]
          },
          {
           "hovertemplate": "GroundTruthState<br>(%{x}, %{y})<br>Time: %{meta}",
           "meta": [],
           "type": "scatter",
           "x": [
            null
           ],
           "y": [
            null
           ]
          },
          {
           "hovertemplate": "GroundTruthState<br>(%{x}, %{y})<br>Time: %{meta}",
           "meta": [],
           "type": "scatter",
           "x": [
            null
           ],
           "y": [
            null
           ]
          },
          {
           "hovertemplate": "GroundTruthState<br>(%{x}, %{y})<br>Time: %{meta}",
           "meta": [],
           "type": "scatter",
           "x": [
            null
           ],
           "y": [
            null
           ]
          },
          {
           "hovertemplate": "GroundTruthState<br>(%{x}, %{y})<br>Time: %{meta}",
           "meta": [],
           "type": "scatter",
           "x": [
            null
           ],
           "y": [
            null
           ]
          },
          {
           "hovertemplate": "GroundTruthState<br>(%{x}, %{y})<br>Time: %{meta}",
           "meta": [],
           "type": "scatter",
           "x": [
            null
           ],
           "y": [
            null
           ]
          },
          {
           "type": "scatter",
           "x": [
            null,
            null
           ],
           "y": [
            null,
            null
           ]
          },
          {
           "hovertemplate": "Detection<br>(%{x}, %{y})<br>Time: %{meta}",
           "meta": [],
           "type": "scatter",
           "x": [
            null
           ],
           "y": [
            null
           ]
          },
          {
           "hovertemplate": "Clutter<br>(%{x}, %{y})<br>Time: %{meta}",
           "meta": [
            "2023-09-09 13:15:18"
           ],
           "type": "scatter",
           "x": [
            35.13802684242958,
            null
           ],
           "y": [
            -62.08572070126384,
            null
           ]
          },
          {
           "type": "scatter",
           "x": [
            null,
            null
           ],
           "y": [
            null,
            null
           ]
          },
          {
           "customdata": [],
           "hovertemplate": "%{meta}<br>(%{x}, %{y})<br>Time: %{customdata}",
           "meta": [],
           "type": "scatter",
           "x": [
            null
           ],
           "y": [
            null
           ]
          },
          {
           "customdata": [],
           "hovertemplate": "%{meta}<br>(%{x}, %{y})<br>Time: %{customdata}",
           "meta": [],
           "type": "scatter",
           "x": [
            null
           ],
           "y": [
            null
           ]
          },
          {
           "customdata": [],
           "hovertemplate": "%{meta}<br>(%{x}, %{y})<br>Time: %{customdata}",
           "meta": [],
           "type": "scatter",
           "x": [
            null
           ],
           "y": [
            null
           ]
          },
          {
           "customdata": [],
           "hovertemplate": "%{meta}<br>(%{x}, %{y})<br>Time: %{customdata}",
           "meta": [],
           "type": "scatter",
           "x": [
            null
           ],
           "y": [
            null
           ]
          }
         ],
         "name": "2023-09-09 13:15:23",
         "traces": [
          0,
          1,
          2,
          3,
          4,
          5,
          6,
          7,
          8,
          9,
          10,
          11,
          12,
          13
         ]
        },
        {
         "data": [
          {
           "type": "scatter",
           "x": [
            0,
            0
           ],
           "y": [
            0,
            0
           ]
          },
          {
           "hovertemplate": "GroundTruthState<br>(%{x}, %{y})<br>Time: %{meta}",
           "meta": [],
           "type": "scatter",
           "x": [
            null
           ],
           "y": [
            null
           ]
          },
          {
           "hovertemplate": "GroundTruthState<br>(%{x}, %{y})<br>Time: %{meta}",
           "meta": [],
           "type": "scatter",
           "x": [
            null
           ],
           "y": [
            null
           ]
          },
          {
           "hovertemplate": "GroundTruthState<br>(%{x}, %{y})<br>Time: %{meta}",
           "meta": [],
           "type": "scatter",
           "x": [
            null
           ],
           "y": [
            null
           ]
          },
          {
           "hovertemplate": "GroundTruthState<br>(%{x}, %{y})<br>Time: %{meta}",
           "meta": [],
           "type": "scatter",
           "x": [
            null
           ],
           "y": [
            null
           ]
          },
          {
           "hovertemplate": "GroundTruthState<br>(%{x}, %{y})<br>Time: %{meta}",
           "meta": [
            "2023-09-09 13:15:28"
           ],
           "type": "scatter",
           "x": [
            -2.9503352638213713,
            null
           ],
           "y": [
            -5.6677773232862885,
            null
           ]
          },
          {
           "type": "scatter",
           "x": [
            null,
            null
           ],
           "y": [
            null,
            null
           ]
          },
          {
           "hovertemplate": "Detection<br>(%{x}, %{y})<br>Time: %{meta}",
           "meta": [
            "2023-09-09 13:15:28"
           ],
           "type": "scatter",
           "x": [
            -2.9529063347662494,
            null
           ],
           "y": [
            -6.157689410516123,
            null
           ]
          },
          {
           "hovertemplate": "Clutter<br>(%{x}, %{y})<br>Time: %{meta}",
           "meta": [
            "2023-09-09 13:15:28",
            "2023-09-09 13:15:18",
            "2023-09-09 13:15:28"
           ],
           "type": "scatter",
           "x": [
            -18.91585115541183,
            35.13802684242958,
            -2.866737544372782,
            null
           ],
           "y": [
            21.311429176712025,
            -62.08572070126384,
            53.465669126499506,
            null
           ]
          },
          {
           "type": "scatter",
           "x": [
            null,
            null
           ],
           "y": [
            null,
            null
           ]
          },
          {
           "customdata": [
            "2023-09-09 13:15:28"
           ],
           "hovertemplate": "%{meta}<br>(%{x}, %{y})<br>Time: %{customdata}",
           "meta": [
            "GaussianStateUpdate"
           ],
           "type": "scatter",
           "x": [
            -2.9529063347662494,
            null
           ],
           "y": [
            -6.157689410516123,
            null
           ]
          },
          {
           "customdata": [],
           "hovertemplate": "%{meta}<br>(%{x}, %{y})<br>Time: %{customdata}",
           "meta": [],
           "type": "scatter",
           "x": [
            null
           ],
           "y": [
            null
           ]
          },
          {
           "customdata": [],
           "hovertemplate": "%{meta}<br>(%{x}, %{y})<br>Time: %{customdata}",
           "meta": [],
           "type": "scatter",
           "x": [
            null
           ],
           "y": [
            null
           ]
          },
          {
           "customdata": [],
           "hovertemplate": "%{meta}<br>(%{x}, %{y})<br>Time: %{customdata}",
           "meta": [],
           "type": "scatter",
           "x": [
            null
           ],
           "y": [
            null
           ]
          }
         ],
         "name": "2023-09-09 13:15:28",
         "traces": [
          0,
          1,
          2,
          3,
          4,
          5,
          6,
          7,
          8,
          9,
          10,
          11,
          12,
          13
         ]
        },
        {
         "data": [
          {
           "type": "scatter",
           "x": [
            0,
            0
           ],
           "y": [
            0,
            0
           ]
          },
          {
           "hovertemplate": "GroundTruthState<br>(%{x}, %{y})<br>Time: %{meta}",
           "meta": [],
           "type": "scatter",
           "x": [
            null
           ],
           "y": [
            null
           ]
          },
          {
           "hovertemplate": "GroundTruthState<br>(%{x}, %{y})<br>Time: %{meta}",
           "meta": [],
           "type": "scatter",
           "x": [
            null
           ],
           "y": [
            null
           ]
          },
          {
           "hovertemplate": "GroundTruthState<br>(%{x}, %{y})<br>Time: %{meta}",
           "meta": [],
           "type": "scatter",
           "x": [
            null
           ],
           "y": [
            null
           ]
          },
          {
           "hovertemplate": "GroundTruthState<br>(%{x}, %{y})<br>Time: %{meta}",
           "meta": [],
           "type": "scatter",
           "x": [
            null
           ],
           "y": [
            null
           ]
          },
          {
           "hovertemplate": "GroundTruthState<br>(%{x}, %{y})<br>Time: %{meta}",
           "meta": [
            "2023-09-09 13:15:28",
            "2023-09-09 13:15:33"
           ],
           "type": "scatter",
           "x": [
            -2.9503352638213713,
            -0.9385851092464608,
            null
           ],
           "y": [
            -5.6677773232862885,
            0.49974518663368006,
            null
           ]
          },
          {
           "type": "scatter",
           "x": [
            null,
            null
           ],
           "y": [
            null,
            null
           ]
          },
          {
           "hovertemplate": "Detection<br>(%{x}, %{y})<br>Time: %{meta}",
           "meta": [
            "2023-09-09 13:15:28",
            "2023-09-09 13:15:33"
           ],
           "type": "scatter",
           "x": [
            -2.9529063347662494,
            -0.414974513607573,
            null
           ],
           "y": [
            -6.157689410516123,
            0.008967925780332398,
            null
           ]
          },
          {
           "hovertemplate": "Clutter<br>(%{x}, %{y})<br>Time: %{meta}",
           "meta": [
            "2023-09-09 13:15:28",
            "2023-09-09 13:15:18",
            "2023-09-09 13:15:33",
            "2023-09-09 13:15:28"
           ],
           "type": "scatter",
           "x": [
            -18.91585115541183,
            35.13802684242958,
            82.91502473574982,
            -2.866737544372782,
            null
           ],
           "y": [
            21.311429176712025,
            -62.08572070126384,
            73.95603534960517,
            53.465669126499506,
            null
           ]
          },
          {
           "type": "scatter",
           "x": [
            null,
            null
           ],
           "y": [
            null,
            null
           ]
          },
          {
           "customdata": [
            "2023-09-09 13:15:28",
            "2023-09-09 13:15:33"
           ],
           "hovertemplate": "%{meta}<br>(%{x}, %{y})<br>Time: %{customdata}",
           "meta": [
            "GaussianStateUpdate",
            "GaussianStateUpdate"
           ],
           "type": "scatter",
           "x": [
            -2.9529063347662494,
            -0.4570396819140701,
            null
           ],
           "y": [
            -6.157689410516123,
            -0.09324186432402826,
            null
           ]
          },
          {
           "customdata": [],
           "hovertemplate": "%{meta}<br>(%{x}, %{y})<br>Time: %{customdata}",
           "meta": [],
           "type": "scatter",
           "x": [
            null
           ],
           "y": [
            null
           ]
          },
          {
           "customdata": [],
           "hovertemplate": "%{meta}<br>(%{x}, %{y})<br>Time: %{customdata}",
           "meta": [],
           "type": "scatter",
           "x": [
            null
           ],
           "y": [
            null
           ]
          },
          {
           "customdata": [],
           "hovertemplate": "%{meta}<br>(%{x}, %{y})<br>Time: %{customdata}",
           "meta": [],
           "type": "scatter",
           "x": [
            null
           ],
           "y": [
            null
           ]
          }
         ],
         "name": "2023-09-09 13:15:33",
         "traces": [
          0,
          1,
          2,
          3,
          4,
          5,
          6,
          7,
          8,
          9,
          10,
          11,
          12,
          13
         ]
        },
        {
         "data": [
          {
           "type": "scatter",
           "x": [
            0,
            0
           ],
           "y": [
            0,
            0
           ]
          },
          {
           "hovertemplate": "GroundTruthState<br>(%{x}, %{y})<br>Time: %{meta}",
           "meta": [],
           "type": "scatter",
           "x": [
            null
           ],
           "y": [
            null
           ]
          },
          {
           "hovertemplate": "GroundTruthState<br>(%{x}, %{y})<br>Time: %{meta}",
           "meta": [],
           "type": "scatter",
           "x": [
            null
           ],
           "y": [
            null
           ]
          },
          {
           "hovertemplate": "GroundTruthState<br>(%{x}, %{y})<br>Time: %{meta}",
           "meta": [],
           "type": "scatter",
           "x": [
            null
           ],
           "y": [
            null
           ]
          },
          {
           "hovertemplate": "GroundTruthState<br>(%{x}, %{y})<br>Time: %{meta}",
           "meta": [],
           "type": "scatter",
           "x": [
            null
           ],
           "y": [
            null
           ]
          },
          {
           "hovertemplate": "GroundTruthState<br>(%{x}, %{y})<br>Time: %{meta}",
           "meta": [
            "2023-09-09 13:15:28",
            "2023-09-09 13:15:33",
            "2023-09-09 13:15:38"
           ],
           "type": "scatter",
           "x": [
            -2.9503352638213713,
            -0.9385851092464608,
            0.01009809649314719,
            null
           ],
           "y": [
            -5.6677773232862885,
            0.49974518663368006,
            9.099937466353685,
            null
           ]
          },
          {
           "type": "scatter",
           "x": [
            null,
            null
           ],
           "y": [
            null,
            null
           ]
          },
          {
           "hovertemplate": "Detection<br>(%{x}, %{y})<br>Time: %{meta}",
           "meta": [
            "2023-09-09 13:15:28",
            "2023-09-09 13:15:38",
            "2023-09-09 13:15:33"
           ],
           "type": "scatter",
           "x": [
            -2.9529063347662494,
            -0.12971653658369425,
            -0.414974513607573,
            null
           ],
           "y": [
            -6.157689410516123,
            8.779938209975892,
            0.008967925780332398,
            null
           ]
          },
          {
           "hovertemplate": "Clutter<br>(%{x}, %{y})<br>Time: %{meta}",
           "meta": [
            "2023-09-09 13:15:28",
            "2023-09-09 13:15:18",
            "2023-09-09 13:15:33",
            "2023-09-09 13:15:28"
           ],
           "type": "scatter",
           "x": [
            -18.91585115541183,
            35.13802684242958,
            82.91502473574982,
            -2.866737544372782,
            null
           ],
           "y": [
            21.311429176712025,
            -62.08572070126384,
            73.95603534960517,
            53.465669126499506,
            null
           ]
          },
          {
           "type": "scatter",
           "x": [
            null,
            null
           ],
           "y": [
            null,
            null
           ]
          },
          {
           "customdata": [
            "2023-09-09 13:15:28",
            "2023-09-09 13:15:33",
            "2023-09-09 13:15:38"
           ],
           "hovertemplate": "%{meta}<br>(%{x}, %{y})<br>Time: %{customdata}",
           "meta": [
            "GaussianStateUpdate",
            "GaussianStateUpdate",
            "GaussianStateUpdate"
           ],
           "type": "scatter",
           "x": [
            -2.9529063347662494,
            -0.4570396819140701,
            -0.02806757808280036,
            null
           ],
           "y": [
            -6.157689410516123,
            -0.09324186432402826,
            8.670193621099402,
            null
           ]
          },
          {
           "customdata": [],
           "hovertemplate": "%{meta}<br>(%{x}, %{y})<br>Time: %{customdata}",
           "meta": [],
           "type": "scatter",
           "x": [
            null
           ],
           "y": [
            null
           ]
          },
          {
           "customdata": [],
           "hovertemplate": "%{meta}<br>(%{x}, %{y})<br>Time: %{customdata}",
           "meta": [],
           "type": "scatter",
           "x": [
            null
           ],
           "y": [
            null
           ]
          },
          {
           "customdata": [],
           "hovertemplate": "%{meta}<br>(%{x}, %{y})<br>Time: %{customdata}",
           "meta": [],
           "type": "scatter",
           "x": [
            null
           ],
           "y": [
            null
           ]
          }
         ],
         "name": "2023-09-09 13:15:38",
         "traces": [
          0,
          1,
          2,
          3,
          4,
          5,
          6,
          7,
          8,
          9,
          10,
          11,
          12,
          13
         ]
        },
        {
         "data": [
          {
           "type": "scatter",
           "x": [
            0,
            0
           ],
           "y": [
            0,
            0
           ]
          },
          {
           "hovertemplate": "GroundTruthState<br>(%{x}, %{y})<br>Time: %{meta}",
           "meta": [
            "2023-09-09 13:15:43"
           ],
           "type": "scatter",
           "x": [
            0.2937944603447359,
            null
           ],
           "y": [
            -1.5124423615079887,
            null
           ]
          },
          {
           "hovertemplate": "GroundTruthState<br>(%{x}, %{y})<br>Time: %{meta}",
           "meta": [],
           "type": "scatter",
           "x": [
            null
           ],
           "y": [
            null
           ]
          },
          {
           "hovertemplate": "GroundTruthState<br>(%{x}, %{y})<br>Time: %{meta}",
           "meta": [],
           "type": "scatter",
           "x": [
            null
           ],
           "y": [
            null
           ]
          },
          {
           "hovertemplate": "GroundTruthState<br>(%{x}, %{y})<br>Time: %{meta}",
           "meta": [],
           "type": "scatter",
           "x": [
            null
           ],
           "y": [
            null
           ]
          },
          {
           "hovertemplate": "GroundTruthState<br>(%{x}, %{y})<br>Time: %{meta}",
           "meta": [
            "2023-09-09 13:15:28",
            "2023-09-09 13:15:33",
            "2023-09-09 13:15:38",
            "2023-09-09 13:15:43"
           ],
           "type": "scatter",
           "x": [
            -2.9503352638213713,
            -0.9385851092464608,
            0.01009809649314719,
            0.30799302457095024,
            null
           ],
           "y": [
            -5.6677773232862885,
            0.49974518663368006,
            9.099937466353685,
            17.701365469919434,
            null
           ]
          },
          {
           "type": "scatter",
           "x": [
            null,
            null
           ],
           "y": [
            null,
            null
           ]
          },
          {
           "hovertemplate": "Detection<br>(%{x}, %{y})<br>Time: %{meta}",
           "meta": [
            "2023-09-09 13:15:28",
            "2023-09-09 13:15:43",
            "2023-09-09 13:15:43",
            "2023-09-09 13:15:38",
            "2023-09-09 13:15:33"
           ],
           "type": "scatter",
           "x": [
            -2.9529063347662494,
            0.16751715763101957,
            0.6665598266834138,
            -0.12971653658369425,
            -0.414974513607573,
            null
           ],
           "y": [
            -6.157689410516123,
            17.08173882592794,
            -1.4698901560981477,
            8.779938209975892,
            0.008967925780332398,
            null
           ]
          },
          {
           "hovertemplate": "Clutter<br>(%{x}, %{y})<br>Time: %{meta}",
           "meta": [
            "2023-09-09 13:15:28",
            "2023-09-09 13:15:43",
            "2023-09-09 13:15:18",
            "2023-09-09 13:15:43",
            "2023-09-09 13:15:33",
            "2023-09-09 13:15:28"
           ],
           "type": "scatter",
           "x": [
            -18.91585115541183,
            97.44023897962586,
            35.13802684242958,
            77.73222141398784,
            82.91502473574982,
            -2.866737544372782,
            null
           ],
           "y": [
            21.311429176712025,
            58.10543563898801,
            -62.08572070126384,
            -71.16870400917821,
            73.95603534960517,
            53.465669126499506,
            null
           ]
          },
          {
           "type": "scatter",
           "x": [
            null,
            null
           ],
           "y": [
            null,
            null
           ]
          },
          {
           "customdata": [
            "2023-09-09 13:15:28",
            "2023-09-09 13:15:33",
            "2023-09-09 13:15:38",
            "2023-09-09 13:15:43"
           ],
           "hovertemplate": "%{meta}<br>(%{x}, %{y})<br>Time: %{customdata}",
           "meta": [
            "GaussianStateUpdate",
            "GaussianStateUpdate",
            "GaussianStateUpdate",
            "GaussianStateUpdate"
           ],
           "type": "scatter",
           "x": [
            -2.9529063347662494,
            -0.4570396819140701,
            -0.02806757808280036,
            0.1681844478662966,
            null
           ],
           "y": [
            -6.157689410516123,
            -0.09324186432402826,
            8.670193621099402,
            17.107680131365257,
            null
           ]
          },
          {
           "customdata": [],
           "hovertemplate": "%{meta}<br>(%{x}, %{y})<br>Time: %{customdata}",
           "meta": [],
           "type": "scatter",
           "x": [
            null
           ],
           "y": [
            null
           ]
          },
          {
           "customdata": [],
           "hovertemplate": "%{meta}<br>(%{x}, %{y})<br>Time: %{customdata}",
           "meta": [],
           "type": "scatter",
           "x": [
            null
           ],
           "y": [
            null
           ]
          },
          {
           "customdata": [
            "2023-09-09 13:15:43"
           ],
           "hovertemplate": "%{meta}<br>(%{x}, %{y})<br>Time: %{customdata}",
           "meta": [
            "GaussianStateUpdate"
           ],
           "type": "scatter",
           "x": [
            0.6665598266834138,
            null
           ],
           "y": [
            -1.4698901560981477,
            null
           ]
          }
         ],
         "name": "2023-09-09 13:15:43",
         "traces": [
          0,
          1,
          2,
          3,
          4,
          5,
          6,
          7,
          8,
          9,
          10,
          11,
          12,
          13
         ]
        },
        {
         "data": [
          {
           "type": "scatter",
           "x": [
            0,
            0
           ],
           "y": [
            0,
            0
           ]
          },
          {
           "hovertemplate": "GroundTruthState<br>(%{x}, %{y})<br>Time: %{meta}",
           "meta": [
            "2023-09-09 13:15:43",
            "2023-09-09 13:15:48"
           ],
           "type": "scatter",
           "x": [
            0.2937944603447359,
            1.276816736466913,
            null
           ],
           "y": [
            -1.5124423615079887,
            -8.002708575847954,
            null
           ]
          },
          {
           "hovertemplate": "GroundTruthState<br>(%{x}, %{y})<br>Time: %{meta}",
           "meta": [],
           "type": "scatter",
           "x": [
            null
           ],
           "y": [
            null
           ]
          },
          {
           "hovertemplate": "GroundTruthState<br>(%{x}, %{y})<br>Time: %{meta}",
           "meta": [],
           "type": "scatter",
           "x": [
            null
           ],
           "y": [
            null
           ]
          },
          {
           "hovertemplate": "GroundTruthState<br>(%{x}, %{y})<br>Time: %{meta}",
           "meta": [],
           "type": "scatter",
           "x": [
            null
           ],
           "y": [
            null
           ]
          },
          {
           "hovertemplate": "GroundTruthState<br>(%{x}, %{y})<br>Time: %{meta}",
           "meta": [
            "2023-09-09 13:15:28",
            "2023-09-09 13:15:33",
            "2023-09-09 13:15:38",
            "2023-09-09 13:15:43",
            "2023-09-09 13:15:48"
           ],
           "type": "scatter",
           "x": [
            -2.9503352638213713,
            -0.9385851092464608,
            0.01009809649314719,
            0.30799302457095024,
            -2.4030313613021077,
            null
           ],
           "y": [
            -5.6677773232862885,
            0.49974518663368006,
            9.099937466353685,
            17.701365469919434,
            22.501291361664848,
            null
           ]
          },
          {
           "type": "scatter",
           "x": [
            null,
            null
           ],
           "y": [
            null,
            null
           ]
          },
          {
           "hovertemplate": "Detection<br>(%{x}, %{y})<br>Time: %{meta}",
           "meta": [
            "2023-09-09 13:15:28",
            "2023-09-09 13:15:48",
            "2023-09-09 13:15:43",
            "2023-09-09 13:15:48",
            "2023-09-09 13:15:43",
            "2023-09-09 13:15:38",
            "2023-09-09 13:15:33"
           ],
           "type": "scatter",
           "x": [
            -2.9529063347662494,
            -2.8846866467319123,
            0.16751715763101957,
            0.9243646335745327,
            0.6665598266834138,
            -0.12971653658369425,
            -0.414974513607573,
            null
           ],
           "y": [
            -6.157689410516123,
            22.587455686278346,
            17.08173882592794,
            -8.17728966372461,
            -1.4698901560981477,
            8.779938209975892,
            0.008967925780332398,
            null
           ]
          },
          {
           "hovertemplate": "Clutter<br>(%{x}, %{y})<br>Time: %{meta}",
           "meta": [
            "2023-09-09 13:15:28",
            "2023-09-09 13:15:43",
            "2023-09-09 13:15:48",
            "2023-09-09 13:15:18",
            "2023-09-09 13:15:43",
            "2023-09-09 13:15:33",
            "2023-09-09 13:15:28"
           ],
           "type": "scatter",
           "x": [
            -18.91585115541183,
            97.44023897962586,
            -63.30490533094144,
            35.13802684242958,
            77.73222141398784,
            82.91502473574982,
            -2.866737544372782,
            null
           ],
           "y": [
            21.311429176712025,
            58.10543563898801,
            -36.48876688177134,
            -62.08572070126384,
            -71.16870400917821,
            73.95603534960517,
            53.465669126499506,
            null
           ]
          },
          {
           "type": "scatter",
           "x": [
            null,
            null
           ],
           "y": [
            null,
            null
           ]
          },
          {
           "customdata": [
            "2023-09-09 13:15:28",
            "2023-09-09 13:15:33",
            "2023-09-09 13:15:38",
            "2023-09-09 13:15:43",
            "2023-09-09 13:15:48"
           ],
           "hovertemplate": "%{meta}<br>(%{x}, %{y})<br>Time: %{customdata}",
           "meta": [
            "GaussianStateUpdate",
            "GaussianStateUpdate",
            "GaussianStateUpdate",
            "GaussianStateUpdate",
            "GaussianStateUpdate"
           ],
           "type": "scatter",
           "x": [
            -2.9529063347662494,
            -0.4570396819140701,
            -0.02806757808280036,
            0.1681844478662966,
            -2.741119687445037,
            null
           ],
           "y": [
            -6.157689410516123,
            -0.09324186432402826,
            8.670193621099402,
            17.107680131365257,
            22.715727017919114,
            null
           ]
          },
          {
           "customdata": [],
           "hovertemplate": "%{meta}<br>(%{x}, %{y})<br>Time: %{customdata}",
           "meta": [],
           "type": "scatter",
           "x": [
            null
           ],
           "y": [
            null
           ]
          },
          {
           "customdata": [],
           "hovertemplate": "%{meta}<br>(%{x}, %{y})<br>Time: %{customdata}",
           "meta": [],
           "type": "scatter",
           "x": [
            null
           ],
           "y": [
            null
           ]
          },
          {
           "customdata": [
            "2023-09-09 13:15:43",
            "2023-09-09 13:15:48"
           ],
           "hovertemplate": "%{meta}<br>(%{x}, %{y})<br>Time: %{customdata}",
           "meta": [
            "GaussianStateUpdate",
            "GaussianStateUpdate"
           ],
           "type": "scatter",
           "x": [
            0.6665598266834138,
            0.9200916257255086,
            null
           ],
           "y": [
            -1.4698901560981477,
            -8.06611729619489,
            null
           ]
          }
         ],
         "name": "2023-09-09 13:15:48",
         "traces": [
          0,
          1,
          2,
          3,
          4,
          5,
          6,
          7,
          8,
          9,
          10,
          11,
          12,
          13
         ]
        },
        {
         "data": [
          {
           "type": "scatter",
           "x": [
            0,
            0
           ],
           "y": [
            0,
            0
           ]
          },
          {
           "hovertemplate": "GroundTruthState<br>(%{x}, %{y})<br>Time: %{meta}",
           "meta": [
            "2023-09-09 13:15:43",
            "2023-09-09 13:15:48",
            "2023-09-09 13:15:53"
           ],
           "type": "scatter",
           "x": [
            0.2937944603447359,
            1.276816736466913,
            2.433540299360508,
            null
           ],
           "y": [
            -1.5124423615079887,
            -8.002708575847954,
            -14.530938442143638,
            null
           ]
          },
          {
           "hovertemplate": "GroundTruthState<br>(%{x}, %{y})<br>Time: %{meta}",
           "meta": [],
           "type": "scatter",
           "x": [
            null
           ],
           "y": [
            null
           ]
          },
          {
           "hovertemplate": "GroundTruthState<br>(%{x}, %{y})<br>Time: %{meta}",
           "meta": [],
           "type": "scatter",
           "x": [
            null
           ],
           "y": [
            null
           ]
          },
          {
           "hovertemplate": "GroundTruthState<br>(%{x}, %{y})<br>Time: %{meta}",
           "meta": [],
           "type": "scatter",
           "x": [
            null
           ],
           "y": [
            null
           ]
          },
          {
           "hovertemplate": "GroundTruthState<br>(%{x}, %{y})<br>Time: %{meta}",
           "meta": [
            "2023-09-09 13:15:28",
            "2023-09-09 13:15:33",
            "2023-09-09 13:15:38",
            "2023-09-09 13:15:43",
            "2023-09-09 13:15:48",
            "2023-09-09 13:15:53"
           ],
           "type": "scatter",
           "x": [
            -2.9503352638213713,
            -0.9385851092464608,
            0.01009809649314719,
            0.30799302457095024,
            -2.4030313613021077,
            -0.5914365921869056,
            null
           ],
           "y": [
            -5.6677773232862885,
            0.49974518663368006,
            9.099937466353685,
            17.701365469919434,
            22.501291361664848,
            28.553863289383393,
            null
           ]
          },
          {
           "type": "scatter",
           "x": [
            null,
            null
           ],
           "y": [
            null,
            null
           ]
          },
          {
           "hovertemplate": "Detection<br>(%{x}, %{y})<br>Time: %{meta}",
           "meta": [
            "2023-09-09 13:15:53",
            "2023-09-09 13:15:28",
            "2023-09-09 13:15:48",
            "2023-09-09 13:15:43",
            "2023-09-09 13:15:48",
            "2023-09-09 13:15:43",
            "2023-09-09 13:15:38",
            "2023-09-09 13:15:33"
           ],
           "type": "scatter",
           "x": [
            2.7732145459661828,
            -2.9529063347662494,
            -2.8846866467319123,
            0.16751715763101957,
            0.9243646335745327,
            0.6665598266834138,
            -0.12971653658369425,
            -0.414974513607573,
            null
           ],
           "y": [
            -14.294614274786923,
            -6.157689410516123,
            22.587455686278346,
            17.08173882592794,
            -8.17728966372461,
            -1.4698901560981477,
            8.779938209975892,
            0.008967925780332398,
            null
           ]
          },
          {
           "hovertemplate": "Clutter<br>(%{x}, %{y})<br>Time: %{meta}",
           "meta": [
            "2023-09-09 13:15:28",
            "2023-09-09 13:15:43",
            "2023-09-09 13:15:48",
            "2023-09-09 13:15:18",
            "2023-09-09 13:15:43",
            "2023-09-09 13:15:33",
            "2023-09-09 13:15:28"
           ],
           "type": "scatter",
           "x": [
            -18.91585115541183,
            97.44023897962586,
            -63.30490533094144,
            35.13802684242958,
            77.73222141398784,
            82.91502473574982,
            -2.866737544372782,
            null
           ],
           "y": [
            21.311429176712025,
            58.10543563898801,
            -36.48876688177134,
            -62.08572070126384,
            -71.16870400917821,
            73.95603534960517,
            53.465669126499506,
            null
           ]
          },
          {
           "type": "scatter",
           "x": [
            null,
            null
           ],
           "y": [
            null,
            null
           ]
          },
          {
           "customdata": [
            "2023-09-09 13:15:28",
            "2023-09-09 13:15:33",
            "2023-09-09 13:15:38",
            "2023-09-09 13:15:43",
            "2023-09-09 13:15:48",
            "2023-09-09 13:15:53"
           ],
           "hovertemplate": "%{meta}<br>(%{x}, %{y})<br>Time: %{customdata}",
           "meta": [
            "GaussianStateUpdate",
            "GaussianStateUpdate",
            "GaussianStateUpdate",
            "GaussianStateUpdate",
            "GaussianStateUpdate",
            "GaussianStatePrediction"
           ],
           "type": "scatter",
           "x": [
            -2.9529063347662494,
            -0.4570396819140701,
            -0.02806757808280036,
            0.1681844478662966,
            -2.741119687445037,
            -5.960470353104115,
            null
           ],
           "y": [
            -6.157689410516123,
            -0.09324186432402826,
            8.670193621099402,
            17.107680131365257,
            22.715727017919114,
            28.04675973968289,
            null
           ]
          },
          {
           "customdata": [],
           "hovertemplate": "%{meta}<br>(%{x}, %{y})<br>Time: %{customdata}",
           "meta": [],
           "type": "scatter",
           "x": [
            null
           ],
           "y": [
            null
           ]
          },
          {
           "customdata": [],
           "hovertemplate": "%{meta}<br>(%{x}, %{y})<br>Time: %{customdata}",
           "meta": [],
           "type": "scatter",
           "x": [
            null
           ],
           "y": [
            null
           ]
          },
          {
           "customdata": [
            "2023-09-09 13:15:43",
            "2023-09-09 13:15:48",
            "2023-09-09 13:15:53"
           ],
           "hovertemplate": "%{meta}<br>(%{x}, %{y})<br>Time: %{customdata}",
           "meta": [
            "GaussianStateUpdate",
            "GaussianStateUpdate",
            "GaussianStateUpdate"
           ],
           "type": "scatter",
           "x": [
            0.6665598266834138,
            0.9200916257255086,
            2.7031716008986244,
            null
           ],
           "y": [
            -1.4698901560981477,
            -8.06611729619489,
            -14.326400734633976,
            null
           ]
          }
         ],
         "name": "2023-09-09 13:15:53",
         "traces": [
          0,
          1,
          2,
          3,
          4,
          5,
          6,
          7,
          8,
          9,
          10,
          11,
          12,
          13
         ]
        },
        {
         "data": [
          {
           "type": "scatter",
           "x": [
            0,
            0
           ],
           "y": [
            0,
            0
           ]
          },
          {
           "hovertemplate": "GroundTruthState<br>(%{x}, %{y})<br>Time: %{meta}",
           "meta": [
            "2023-09-09 13:15:43",
            "2023-09-09 13:15:48",
            "2023-09-09 13:15:53",
            "2023-09-09 13:15:58"
           ],
           "type": "scatter",
           "x": [
            0.2937944603447359,
            1.276816736466913,
            2.433540299360508,
            4.506513407145024,
            null
           ],
           "y": [
            -1.5124423615079887,
            -8.002708575847954,
            -14.530938442143638,
            -20.053656362306967,
            null
           ]
          },
          {
           "hovertemplate": "GroundTruthState<br>(%{x}, %{y})<br>Time: %{meta}",
           "meta": [],
           "type": "scatter",
           "x": [
            null
           ],
           "y": [
            null
           ]
          },
          {
           "hovertemplate": "GroundTruthState<br>(%{x}, %{y})<br>Time: %{meta}",
           "meta": [],
           "type": "scatter",
           "x": [
            null
           ],
           "y": [
            null
           ]
          },
          {
           "hovertemplate": "GroundTruthState<br>(%{x}, %{y})<br>Time: %{meta}",
           "meta": [],
           "type": "scatter",
           "x": [
            null
           ],
           "y": [
            null
           ]
          },
          {
           "hovertemplate": "GroundTruthState<br>(%{x}, %{y})<br>Time: %{meta}",
           "meta": [
            "2023-09-09 13:15:28",
            "2023-09-09 13:15:33",
            "2023-09-09 13:15:38",
            "2023-09-09 13:15:43",
            "2023-09-09 13:15:48",
            "2023-09-09 13:15:53",
            "2023-09-09 13:15:58"
           ],
           "type": "scatter",
           "x": [
            -2.9503352638213713,
            -0.9385851092464608,
            0.01009809649314719,
            0.30799302457095024,
            -2.4030313613021077,
            -0.5914365921869056,
            1.2764708399624658,
            null
           ],
           "y": [
            -5.6677773232862885,
            0.49974518663368006,
            9.099937466353685,
            17.701365469919434,
            22.501291361664848,
            28.553863289383393,
            37.9847878483823,
            null
           ]
          },
          {
           "type": "scatter",
           "x": [
            null,
            null
           ],
           "y": [
            null,
            null
           ]
          },
          {
           "hovertemplate": "Detection<br>(%{x}, %{y})<br>Time: %{meta}",
           "meta": [
            "2023-09-09 13:15:53",
            "2023-09-09 13:15:28",
            "2023-09-09 13:15:48",
            "2023-09-09 13:15:43",
            "2023-09-09 13:15:48",
            "2023-09-09 13:15:43",
            "2023-09-09 13:15:58",
            "2023-09-09 13:15:38",
            "2023-09-09 13:15:33"
           ],
           "type": "scatter",
           "x": [
            2.7732145459661828,
            -2.9529063347662494,
            -2.8846866467319123,
            0.16751715763101957,
            0.9243646335745327,
            0.6665598266834138,
            1.7816401364334373,
            -0.12971653658369425,
            -0.414974513607573,
            null
           ],
           "y": [
            -14.294614274786923,
            -6.157689410516123,
            22.587455686278346,
            17.08173882592794,
            -8.17728966372461,
            -1.4698901560981477,
            37.37184117537889,
            8.779938209975892,
            0.008967925780332398,
            null
           ]
          },
          {
           "hovertemplate": "Clutter<br>(%{x}, %{y})<br>Time: %{meta}",
           "meta": [
            "2023-09-09 13:15:28",
            "2023-09-09 13:15:43",
            "2023-09-09 13:15:48",
            "2023-09-09 13:15:18",
            "2023-09-09 13:15:43",
            "2023-09-09 13:15:33",
            "2023-09-09 13:15:28"
           ],
           "type": "scatter",
           "x": [
            -18.91585115541183,
            97.44023897962586,
            -63.30490533094144,
            35.13802684242958,
            77.73222141398784,
            82.91502473574982,
            -2.866737544372782,
            null
           ],
           "y": [
            21.311429176712025,
            58.10543563898801,
            -36.48876688177134,
            -62.08572070126384,
            -71.16870400917821,
            73.95603534960517,
            53.465669126499506,
            null
           ]
          },
          {
           "type": "scatter",
           "x": [
            null,
            null
           ],
           "y": [
            null,
            null
           ]
          },
          {
           "customdata": [
            "2023-09-09 13:15:28",
            "2023-09-09 13:15:33",
            "2023-09-09 13:15:38",
            "2023-09-09 13:15:43",
            "2023-09-09 13:15:48",
            "2023-09-09 13:15:53"
           ],
           "hovertemplate": "%{meta}<br>(%{x}, %{y})<br>Time: %{customdata}",
           "meta": [
            "GaussianStateUpdate",
            "GaussianStateUpdate",
            "GaussianStateUpdate",
            "GaussianStateUpdate",
            "GaussianStateUpdate",
            "GaussianStatePrediction"
           ],
           "type": "scatter",
           "x": [
            -2.9529063347662494,
            -0.4570396819140701,
            -0.02806757808280036,
            0.1681844478662966,
            -2.741119687445037,
            -5.960470353104115,
            null
           ],
           "y": [
            -6.157689410516123,
            -0.09324186432402826,
            8.670193621099402,
            17.107680131365257,
            22.715727017919114,
            28.04675973968289,
            null
           ]
          },
          {
           "customdata": [],
           "hovertemplate": "%{meta}<br>(%{x}, %{y})<br>Time: %{customdata}",
           "meta": [],
           "type": "scatter",
           "x": [
            null
           ],
           "y": [
            null
           ]
          },
          {
           "customdata": [],
           "hovertemplate": "%{meta}<br>(%{x}, %{y})<br>Time: %{customdata}",
           "meta": [],
           "type": "scatter",
           "x": [
            null
           ],
           "y": [
            null
           ]
          },
          {
           "customdata": [
            "2023-09-09 13:15:43",
            "2023-09-09 13:15:48",
            "2023-09-09 13:15:53",
            "2023-09-09 13:15:58"
           ],
           "hovertemplate": "%{meta}<br>(%{x}, %{y})<br>Time: %{customdata}",
           "meta": [
            "GaussianStateUpdate",
            "GaussianStateUpdate",
            "GaussianStateUpdate",
            "GaussianStatePrediction"
           ],
           "type": "scatter",
           "x": [
            0.6665598266834138,
            0.9200916257255086,
            2.7031716008986244,
            4.636656868795079,
            null
           ],
           "y": [
            -1.4698901560981477,
            -8.06611729619489,
            -14.326400734633976,
            -20.518428165372026,
            null
           ]
          }
         ],
         "name": "2023-09-09 13:15:58",
         "traces": [
          0,
          1,
          2,
          3,
          4,
          5,
          6,
          7,
          8,
          9,
          10,
          11,
          12,
          13
         ]
        },
        {
         "data": [
          {
           "type": "scatter",
           "x": [
            0,
            0
           ],
           "y": [
            0,
            0
           ]
          },
          {
           "hovertemplate": "GroundTruthState<br>(%{x}, %{y})<br>Time: %{meta}",
           "meta": [
            "2023-09-09 13:15:43",
            "2023-09-09 13:15:48",
            "2023-09-09 13:15:53",
            "2023-09-09 13:15:58",
            "2023-09-09 13:16:03"
           ],
           "type": "scatter",
           "x": [
            0.2937944603447359,
            1.276816736466913,
            2.433540299360508,
            4.506513407145024,
            6.870327674964499,
            null
           ],
           "y": [
            -1.5124423615079887,
            -8.002708575847954,
            -14.530938442143638,
            -20.053656362306967,
            -22.883128714113507,
            null
           ]
          },
          {
           "hovertemplate": "GroundTruthState<br>(%{x}, %{y})<br>Time: %{meta}",
           "meta": [],
           "type": "scatter",
           "x": [
            null
           ],
           "y": [
            null
           ]
          },
          {
           "hovertemplate": "GroundTruthState<br>(%{x}, %{y})<br>Time: %{meta}",
           "meta": [],
           "type": "scatter",
           "x": [
            null
           ],
           "y": [
            null
           ]
          },
          {
           "hovertemplate": "GroundTruthState<br>(%{x}, %{y})<br>Time: %{meta}",
           "meta": [],
           "type": "scatter",
           "x": [
            null
           ],
           "y": [
            null
           ]
          },
          {
           "hovertemplate": "GroundTruthState<br>(%{x}, %{y})<br>Time: %{meta}",
           "meta": [
            "2023-09-09 13:15:28",
            "2023-09-09 13:15:33",
            "2023-09-09 13:15:38",
            "2023-09-09 13:15:43",
            "2023-09-09 13:15:48",
            "2023-09-09 13:15:53",
            "2023-09-09 13:15:58",
            "2023-09-09 13:16:03"
           ],
           "type": "scatter",
           "x": [
            -2.9503352638213713,
            -0.9385851092464608,
            0.01009809649314719,
            0.30799302457095024,
            -2.4030313613021077,
            -0.5914365921869056,
            1.2764708399624658,
            6.055704751357165,
            null
           ],
           "y": [
            -5.6677773232862885,
            0.49974518663368006,
            9.099937466353685,
            17.701365469919434,
            22.501291361664848,
            28.553863289383393,
            37.9847878483823,
            49.35854659835166,
            null
           ]
          },
          {
           "type": "scatter",
           "x": [
            null,
            null
           ],
           "y": [
            null,
            null
           ]
          },
          {
           "hovertemplate": "Detection<br>(%{x}, %{y})<br>Time: %{meta}",
           "meta": [
            "2023-09-09 13:15:53",
            "2023-09-09 13:16:03",
            "2023-09-09 13:15:28",
            "2023-09-09 13:16:03",
            "2023-09-09 13:15:48",
            "2023-09-09 13:15:43",
            "2023-09-09 13:15:48",
            "2023-09-09 13:15:43",
            "2023-09-09 13:15:58",
            "2023-09-09 13:15:38",
            "2023-09-09 13:15:33"
           ],
           "type": "scatter",
           "x": [
            2.7732145459661828,
            7.313585549468086,
            -2.9529063347662494,
            5.380150596647081,
            -2.8846866467319123,
            0.16751715763101957,
            0.9243646335745327,
            0.6665598266834138,
            1.7816401364334373,
            -0.12971653658369425,
            -0.414974513607573,
            null
           ],
           "y": [
            -14.294614274786923,
            -23.110915560251623,
            -6.157689410516123,
            49.808037897918375,
            22.587455686278346,
            17.08173882592794,
            -8.17728966372461,
            -1.4698901560981477,
            37.37184117537889,
            8.779938209975892,
            0.008967925780332398,
            null
           ]
          },
          {
           "hovertemplate": "Clutter<br>(%{x}, %{y})<br>Time: %{meta}",
           "meta": [
            "2023-09-09 13:15:28",
            "2023-09-09 13:16:03",
            "2023-09-09 13:16:03",
            "2023-09-09 13:15:43",
            "2023-09-09 13:15:48",
            "2023-09-09 13:15:18",
            "2023-09-09 13:15:43",
            "2023-09-09 13:15:33",
            "2023-09-09 13:16:03",
            "2023-09-09 13:15:28"
           ],
           "type": "scatter",
           "x": [
            -18.91585115541183,
            -84.02178018015387,
            26.569796360324546,
            97.44023897962586,
            -63.30490533094144,
            35.13802684242958,
            77.73222141398784,
            82.91502473574982,
            -28.50548968800004,
            -2.866737544372782,
            null
           ],
           "y": [
            21.311429176712025,
            -47.81776950261685,
            9.239636892370754,
            58.10543563898801,
            -36.48876688177134,
            -62.08572070126384,
            -71.16870400917821,
            73.95603534960517,
            -18.796880795797463,
            53.465669126499506,
            null
           ]
          },
          {
           "type": "scatter",
           "x": [
            null,
            null
           ],
           "y": [
            null,
            null
           ]
          },
          {
           "customdata": [
            "2023-09-09 13:15:28",
            "2023-09-09 13:15:33",
            "2023-09-09 13:15:38",
            "2023-09-09 13:15:43",
            "2023-09-09 13:15:48",
            "2023-09-09 13:15:53"
           ],
           "hovertemplate": "%{meta}<br>(%{x}, %{y})<br>Time: %{customdata}",
           "meta": [
            "GaussianStateUpdate",
            "GaussianStateUpdate",
            "GaussianStateUpdate",
            "GaussianStateUpdate",
            "GaussianStateUpdate",
            "GaussianStatePrediction"
           ],
           "type": "scatter",
           "x": [
            -2.9529063347662494,
            -0.4570396819140701,
            -0.02806757808280036,
            0.1681844478662966,
            -2.741119687445037,
            -5.960470353104115,
            null
           ],
           "y": [
            -6.157689410516123,
            -0.09324186432402826,
            8.670193621099402,
            17.107680131365257,
            22.715727017919114,
            28.04675973968289,
            null
           ]
          },
          {
           "customdata": [],
           "hovertemplate": "%{meta}<br>(%{x}, %{y})<br>Time: %{customdata}",
           "meta": [],
           "type": "scatter",
           "x": [
            null
           ],
           "y": [
            null
           ]
          },
          {
           "customdata": [
            "2023-09-09 13:16:03"
           ],
           "hovertemplate": "%{meta}<br>(%{x}, %{y})<br>Time: %{customdata}",
           "meta": [
            "GaussianStateUpdate"
           ],
           "type": "scatter",
           "x": [
            7.313585549468086,
            null
           ],
           "y": [
            -23.110915560251623,
            null
           ]
          },
          {
           "customdata": [
            "2023-09-09 13:15:43",
            "2023-09-09 13:15:48",
            "2023-09-09 13:15:53",
            "2023-09-09 13:15:58"
           ],
           "hovertemplate": "%{meta}<br>(%{x}, %{y})<br>Time: %{customdata}",
           "meta": [
            "GaussianStateUpdate",
            "GaussianStateUpdate",
            "GaussianStateUpdate",
            "GaussianStatePrediction"
           ],
           "type": "scatter",
           "x": [
            0.6665598266834138,
            0.9200916257255086,
            2.7031716008986244,
            4.636656868795079,
            null
           ],
           "y": [
            -1.4698901560981477,
            -8.06611729619489,
            -14.326400734633976,
            -20.518428165372026,
            null
           ]
          }
         ],
         "name": "2023-09-09 13:16:03",
         "traces": [
          0,
          1,
          2,
          3,
          4,
          5,
          6,
          7,
          8,
          9,
          10,
          11,
          12,
          13
         ]
        },
        {
         "data": [
          {
           "type": "scatter",
           "x": [
            0,
            0
           ],
           "y": [
            0,
            0
           ]
          },
          {
           "hovertemplate": "GroundTruthState<br>(%{x}, %{y})<br>Time: %{meta}",
           "meta": [
            "2023-09-09 13:15:43",
            "2023-09-09 13:15:48",
            "2023-09-09 13:15:53",
            "2023-09-09 13:15:58",
            "2023-09-09 13:16:03",
            "2023-09-09 13:16:08"
           ],
           "type": "scatter",
           "x": [
            0.2937944603447359,
            1.276816736466913,
            2.433540299360508,
            4.506513407145024,
            6.870327674964499,
            7.741593494564171,
            null
           ],
           "y": [
            -1.5124423615079887,
            -8.002708575847954,
            -14.530938442143638,
            -20.053656362306967,
            -22.883128714113507,
            -25.354251242120537,
            null
           ]
          },
          {
           "hovertemplate": "GroundTruthState<br>(%{x}, %{y})<br>Time: %{meta}",
           "meta": [],
           "type": "scatter",
           "x": [
            null
           ],
           "y": [
            null
           ]
          },
          {
           "hovertemplate": "GroundTruthState<br>(%{x}, %{y})<br>Time: %{meta}",
           "meta": [],
           "type": "scatter",
           "x": [
            null
           ],
           "y": [
            null
           ]
          },
          {
           "hovertemplate": "GroundTruthState<br>(%{x}, %{y})<br>Time: %{meta}",
           "meta": [],
           "type": "scatter",
           "x": [
            null
           ],
           "y": [
            null
           ]
          },
          {
           "hovertemplate": "GroundTruthState<br>(%{x}, %{y})<br>Time: %{meta}",
           "meta": [
            "2023-09-09 13:15:28",
            "2023-09-09 13:15:33",
            "2023-09-09 13:15:38",
            "2023-09-09 13:15:43",
            "2023-09-09 13:15:48",
            "2023-09-09 13:15:53",
            "2023-09-09 13:15:58",
            "2023-09-09 13:16:03",
            "2023-09-09 13:16:08"
           ],
           "type": "scatter",
           "x": [
            -2.9503352638213713,
            -0.9385851092464608,
            0.01009809649314719,
            0.30799302457095024,
            -2.4030313613021077,
            -0.5914365921869056,
            1.2764708399624658,
            6.055704751357165,
            11.94061529832056,
            null
           ],
           "y": [
            -5.6677773232862885,
            0.49974518663368006,
            9.099937466353685,
            17.701365469919434,
            22.501291361664848,
            28.553863289383393,
            37.9847878483823,
            49.35854659835166,
            61.05308109551309,
            null
           ]
          },
          {
           "type": "scatter",
           "x": [
            null,
            null
           ],
           "y": [
            null,
            null
           ]
          },
          {
           "hovertemplate": "Detection<br>(%{x}, %{y})<br>Time: %{meta}",
           "meta": [
            "2023-09-09 13:15:53",
            "2023-09-09 13:16:08",
            "2023-09-09 13:16:08",
            "2023-09-09 13:16:03",
            "2023-09-09 13:15:28",
            "2023-09-09 13:16:03",
            "2023-09-09 13:15:48",
            "2023-09-09 13:15:43",
            "2023-09-09 13:15:48",
            "2023-09-09 13:15:43",
            "2023-09-09 13:15:58",
            "2023-09-09 13:15:38",
            "2023-09-09 13:15:33"
           ],
           "type": "scatter",
           "x": [
            2.7732145459661828,
            7.955858376480022,
            12.049839569512823,
            7.313585549468086,
            -2.9529063347662494,
            5.380150596647081,
            -2.8846866467319123,
            0.16751715763101957,
            0.9243646335745327,
            0.6665598266834138,
            1.7816401364334373,
            -0.12971653658369425,
            -0.414974513607573,
            null
           ],
           "y": [
            -14.294614274786923,
            -24.6566298921489,
            62.141569320982676,
            -23.110915560251623,
            -6.157689410516123,
            49.808037897918375,
            22.587455686278346,
            17.08173882592794,
            -8.17728966372461,
            -1.4698901560981477,
            37.37184117537889,
            8.779938209975892,
            0.008967925780332398,
            null
           ]
          },
          {
           "hovertemplate": "Clutter<br>(%{x}, %{y})<br>Time: %{meta}",
           "meta": [
            "2023-09-09 13:15:28",
            "2023-09-09 13:16:03",
            "2023-09-09 13:16:03",
            "2023-09-09 13:15:43",
            "2023-09-09 13:15:48",
            "2023-09-09 13:15:18",
            "2023-09-09 13:15:43",
            "2023-09-09 13:15:33",
            "2023-09-09 13:16:03",
            "2023-09-09 13:15:28"
           ],
           "type": "scatter",
           "x": [
            -18.91585115541183,
            -84.02178018015387,
            26.569796360324546,
            97.44023897962586,
            -63.30490533094144,
            35.13802684242958,
            77.73222141398784,
            82.91502473574982,
            -28.50548968800004,
            -2.866737544372782,
            null
           ],
           "y": [
            21.311429176712025,
            -47.81776950261685,
            9.239636892370754,
            58.10543563898801,
            -36.48876688177134,
            -62.08572070126384,
            -71.16870400917821,
            73.95603534960517,
            -18.796880795797463,
            53.465669126499506,
            null
           ]
          },
          {
           "type": "scatter",
           "x": [
            null,
            null
           ],
           "y": [
            null,
            null
           ]
          },
          {
           "customdata": [
            "2023-09-09 13:15:28",
            "2023-09-09 13:15:33",
            "2023-09-09 13:15:38",
            "2023-09-09 13:15:43",
            "2023-09-09 13:15:48",
            "2023-09-09 13:15:53"
           ],
           "hovertemplate": "%{meta}<br>(%{x}, %{y})<br>Time: %{customdata}",
           "meta": [
            "GaussianStateUpdate",
            "GaussianStateUpdate",
            "GaussianStateUpdate",
            "GaussianStateUpdate",
            "GaussianStateUpdate",
            "GaussianStatePrediction"
           ],
           "type": "scatter",
           "x": [
            -2.9529063347662494,
            -0.4570396819140701,
            -0.02806757808280036,
            0.1681844478662966,
            -2.741119687445037,
            -5.960470353104115,
            null
           ],
           "y": [
            -6.157689410516123,
            -0.09324186432402826,
            8.670193621099402,
            17.107680131365257,
            22.715727017919114,
            28.04675973968289,
            null
           ]
          },
          {
           "customdata": [],
           "hovertemplate": "%{meta}<br>(%{x}, %{y})<br>Time: %{customdata}",
           "meta": [],
           "type": "scatter",
           "x": [
            null
           ],
           "y": [
            null
           ]
          },
          {
           "customdata": [
            "2023-09-09 13:16:03",
            "2023-09-09 13:16:08"
           ],
           "hovertemplate": "%{meta}<br>(%{x}, %{y})<br>Time: %{customdata}",
           "meta": [
            "GaussianStateUpdate",
            "GaussianStateUpdate"
           ],
           "type": "scatter",
           "x": [
            7.313585549468086,
            7.945212970507449,
            null
           ],
           "y": [
            -23.110915560251623,
            -24.631010317587066,
            null
           ]
          },
          {
           "customdata": [
            "2023-09-09 13:15:43",
            "2023-09-09 13:15:48",
            "2023-09-09 13:15:53",
            "2023-09-09 13:15:58"
           ],
           "hovertemplate": "%{meta}<br>(%{x}, %{y})<br>Time: %{customdata}",
           "meta": [
            "GaussianStateUpdate",
            "GaussianStateUpdate",
            "GaussianStateUpdate",
            "GaussianStatePrediction"
           ],
           "type": "scatter",
           "x": [
            0.6665598266834138,
            0.9200916257255086,
            2.7031716008986244,
            4.636656868795079,
            null
           ],
           "y": [
            -1.4698901560981477,
            -8.06611729619489,
            -14.326400734633976,
            -20.518428165372026,
            null
           ]
          }
         ],
         "name": "2023-09-09 13:16:08",
         "traces": [
          0,
          1,
          2,
          3,
          4,
          5,
          6,
          7,
          8,
          9,
          10,
          11,
          12,
          13
         ]
        },
        {
         "data": [
          {
           "type": "scatter",
           "x": [
            0,
            0
           ],
           "y": [
            0,
            0
           ]
          },
          {
           "hovertemplate": "GroundTruthState<br>(%{x}, %{y})<br>Time: %{meta}",
           "meta": [
            "2023-09-09 13:15:43",
            "2023-09-09 13:15:48",
            "2023-09-09 13:15:53",
            "2023-09-09 13:15:58",
            "2023-09-09 13:16:03",
            "2023-09-09 13:16:08",
            "2023-09-09 13:16:13"
           ],
           "type": "scatter",
           "x": [
            0.2937944603447359,
            1.276816736466913,
            2.433540299360508,
            4.506513407145024,
            6.870327674964499,
            7.741593494564171,
            8.815682511230099,
            null
           ],
           "y": [
            -1.5124423615079887,
            -8.002708575847954,
            -14.530938442143638,
            -20.053656362306967,
            -22.883128714113507,
            -25.354251242120537,
            -26.977952464456358,
            null
           ]
          },
          {
           "hovertemplate": "GroundTruthState<br>(%{x}, %{y})<br>Time: %{meta}",
           "meta": [],
           "type": "scatter",
           "x": [
            null
           ],
           "y": [
            null
           ]
          },
          {
           "hovertemplate": "GroundTruthState<br>(%{x}, %{y})<br>Time: %{meta}",
           "meta": [],
           "type": "scatter",
           "x": [
            null
           ],
           "y": [
            null
           ]
          },
          {
           "hovertemplate": "GroundTruthState<br>(%{x}, %{y})<br>Time: %{meta}",
           "meta": [],
           "type": "scatter",
           "x": [
            null
           ],
           "y": [
            null
           ]
          },
          {
           "hovertemplate": "GroundTruthState<br>(%{x}, %{y})<br>Time: %{meta}",
           "meta": [
            "2023-09-09 13:15:28",
            "2023-09-09 13:15:33",
            "2023-09-09 13:15:38",
            "2023-09-09 13:15:43",
            "2023-09-09 13:15:48",
            "2023-09-09 13:15:53",
            "2023-09-09 13:15:58",
            "2023-09-09 13:16:03",
            "2023-09-09 13:16:08"
           ],
           "type": "scatter",
           "x": [
            -2.9503352638213713,
            -0.9385851092464608,
            0.01009809649314719,
            0.30799302457095024,
            -2.4030313613021077,
            -0.5914365921869056,
            1.2764708399624658,
            6.055704751357165,
            11.94061529832056,
            null
           ],
           "y": [
            -5.6677773232862885,
            0.49974518663368006,
            9.099937466353685,
            17.701365469919434,
            22.501291361664848,
            28.553863289383393,
            37.9847878483823,
            49.35854659835166,
            61.05308109551309,
            null
           ]
          },
          {
           "type": "scatter",
           "x": [
            null,
            null
           ],
           "y": [
            null,
            null
           ]
          },
          {
           "hovertemplate": "Detection<br>(%{x}, %{y})<br>Time: %{meta}",
           "meta": [
            "2023-09-09 13:15:53",
            "2023-09-09 13:16:08",
            "2023-09-09 13:16:08",
            "2023-09-09 13:16:03",
            "2023-09-09 13:15:28",
            "2023-09-09 13:16:03",
            "2023-09-09 13:16:13",
            "2023-09-09 13:15:48",
            "2023-09-09 13:15:43",
            "2023-09-09 13:15:48",
            "2023-09-09 13:15:43",
            "2023-09-09 13:15:58",
            "2023-09-09 13:15:38",
            "2023-09-09 13:15:33"
           ],
           "type": "scatter",
           "x": [
            2.7732145459661828,
            7.955858376480022,
            12.049839569512823,
            7.313585549468086,
            -2.9529063347662494,
            5.380150596647081,
            8.805911336766856,
            -2.8846866467319123,
            0.16751715763101957,
            0.9243646335745327,
            0.6665598266834138,
            1.7816401364334373,
            -0.12971653658369425,
            -0.414974513607573,
            null
           ],
           "y": [
            -14.294614274786923,
            -24.6566298921489,
            62.141569320982676,
            -23.110915560251623,
            -6.157689410516123,
            49.808037897918375,
            -27.40995909509806,
            22.587455686278346,
            17.08173882592794,
            -8.17728966372461,
            -1.4698901560981477,
            37.37184117537889,
            8.779938209975892,
            0.008967925780332398,
            null
           ]
          },
          {
           "hovertemplate": "Clutter<br>(%{x}, %{y})<br>Time: %{meta}",
           "meta": [
            "2023-09-09 13:15:28",
            "2023-09-09 13:16:03",
            "2023-09-09 13:16:03",
            "2023-09-09 13:15:43",
            "2023-09-09 13:15:48",
            "2023-09-09 13:16:13",
            "2023-09-09 13:15:18",
            "2023-09-09 13:15:43",
            "2023-09-09 13:15:33",
            "2023-09-09 13:16:03",
            "2023-09-09 13:15:28"
           ],
           "type": "scatter",
           "x": [
            -18.91585115541183,
            -84.02178018015387,
            26.569796360324546,
            97.44023897962586,
            -63.30490533094144,
            -74.10387516381311,
            35.13802684242958,
            77.73222141398784,
            82.91502473574982,
            -28.50548968800004,
            -2.866737544372782,
            null
           ],
           "y": [
            21.311429176712025,
            -47.81776950261685,
            9.239636892370754,
            58.10543563898801,
            -36.48876688177134,
            78.06453587255322,
            -62.08572070126384,
            -71.16870400917821,
            73.95603534960517,
            -18.796880795797463,
            53.465669126499506,
            null
           ]
          },
          {
           "type": "scatter",
           "x": [
            null,
            null
           ],
           "y": [
            null,
            null
           ]
          },
          {
           "customdata": [
            "2023-09-09 13:15:28",
            "2023-09-09 13:15:33",
            "2023-09-09 13:15:38",
            "2023-09-09 13:15:43",
            "2023-09-09 13:15:48",
            "2023-09-09 13:15:53"
           ],
           "hovertemplate": "%{meta}<br>(%{x}, %{y})<br>Time: %{customdata}",
           "meta": [
            "GaussianStateUpdate",
            "GaussianStateUpdate",
            "GaussianStateUpdate",
            "GaussianStateUpdate",
            "GaussianStateUpdate",
            "GaussianStatePrediction"
           ],
           "type": "scatter",
           "x": [
            -2.9529063347662494,
            -0.4570396819140701,
            -0.02806757808280036,
            0.1681844478662966,
            -2.741119687445037,
            -5.960470353104115,
            null
           ],
           "y": [
            -6.157689410516123,
            -0.09324186432402826,
            8.670193621099402,
            17.107680131365257,
            22.715727017919114,
            28.04675973968289,
            null
           ]
          },
          {
           "customdata": [],
           "hovertemplate": "%{meta}<br>(%{x}, %{y})<br>Time: %{customdata}",
           "meta": [],
           "type": "scatter",
           "x": [
            null
           ],
           "y": [
            null
           ]
          },
          {
           "customdata": [
            "2023-09-09 13:16:03",
            "2023-09-09 13:16:08",
            "2023-09-09 13:16:13"
           ],
           "hovertemplate": "%{meta}<br>(%{x}, %{y})<br>Time: %{customdata}",
           "meta": [
            "GaussianStateUpdate",
            "GaussianStateUpdate",
            "GaussianStateUpdate"
           ],
           "type": "scatter",
           "x": [
            7.313585549468086,
            7.945212970507449,
            8.797283904712314,
            null
           ],
           "y": [
            -23.110915560251623,
            -24.631010317587066,
            -27.35794885786192,
            null
           ]
          },
          {
           "customdata": [
            "2023-09-09 13:15:43",
            "2023-09-09 13:15:48",
            "2023-09-09 13:15:53",
            "2023-09-09 13:15:58"
           ],
           "hovertemplate": "%{meta}<br>(%{x}, %{y})<br>Time: %{customdata}",
           "meta": [
            "GaussianStateUpdate",
            "GaussianStateUpdate",
            "GaussianStateUpdate",
            "GaussianStatePrediction"
           ],
           "type": "scatter",
           "x": [
            0.6665598266834138,
            0.9200916257255086,
            2.7031716008986244,
            4.636656868795079,
            null
           ],
           "y": [
            -1.4698901560981477,
            -8.06611729619489,
            -14.326400734633976,
            -20.518428165372026,
            null
           ]
          }
         ],
         "name": "2023-09-09 13:16:13",
         "traces": [
          0,
          1,
          2,
          3,
          4,
          5,
          6,
          7,
          8,
          9,
          10,
          11,
          12,
          13
         ]
        },
        {
         "data": [
          {
           "type": "scatter",
           "x": [
            0,
            0
           ],
           "y": [
            0,
            0
           ]
          },
          {
           "hovertemplate": "GroundTruthState<br>(%{x}, %{y})<br>Time: %{meta}",
           "meta": [
            "2023-09-09 13:15:43",
            "2023-09-09 13:15:48",
            "2023-09-09 13:15:53",
            "2023-09-09 13:15:58",
            "2023-09-09 13:16:03",
            "2023-09-09 13:16:08",
            "2023-09-09 13:16:13"
           ],
           "type": "scatter",
           "x": [
            0.2937944603447359,
            1.276816736466913,
            2.433540299360508,
            4.506513407145024,
            6.870327674964499,
            7.741593494564171,
            8.815682511230099,
            null
           ],
           "y": [
            -1.5124423615079887,
            -8.002708575847954,
            -14.530938442143638,
            -20.053656362306967,
            -22.883128714113507,
            -25.354251242120537,
            -26.977952464456358,
            null
           ]
          },
          {
           "hovertemplate": "GroundTruthState<br>(%{x}, %{y})<br>Time: %{meta}",
           "meta": [
            "2023-09-09 13:16:18"
           ],
           "type": "scatter",
           "x": [
            0.32205190919322113,
            null
           ],
           "y": [
            1.6040529425573238,
            null
           ]
          },
          {
           "hovertemplate": "GroundTruthState<br>(%{x}, %{y})<br>Time: %{meta}",
           "meta": [],
           "type": "scatter",
           "x": [
            null
           ],
           "y": [
            null
           ]
          },
          {
           "hovertemplate": "GroundTruthState<br>(%{x}, %{y})<br>Time: %{meta}",
           "meta": [],
           "type": "scatter",
           "x": [
            null
           ],
           "y": [
            null
           ]
          },
          {
           "hovertemplate": "GroundTruthState<br>(%{x}, %{y})<br>Time: %{meta}",
           "meta": [
            "2023-09-09 13:15:28",
            "2023-09-09 13:15:33",
            "2023-09-09 13:15:38",
            "2023-09-09 13:15:43",
            "2023-09-09 13:15:48",
            "2023-09-09 13:15:53",
            "2023-09-09 13:15:58",
            "2023-09-09 13:16:03",
            "2023-09-09 13:16:08"
           ],
           "type": "scatter",
           "x": [
            -2.9503352638213713,
            -0.9385851092464608,
            0.01009809649314719,
            0.30799302457095024,
            -2.4030313613021077,
            -0.5914365921869056,
            1.2764708399624658,
            6.055704751357165,
            11.94061529832056,
            null
           ],
           "y": [
            -5.6677773232862885,
            0.49974518663368006,
            9.099937466353685,
            17.701365469919434,
            22.501291361664848,
            28.553863289383393,
            37.9847878483823,
            49.35854659835166,
            61.05308109551309,
            null
           ]
          },
          {
           "type": "scatter",
           "x": [
            null,
            null
           ],
           "y": [
            null,
            null
           ]
          },
          {
           "hovertemplate": "Detection<br>(%{x}, %{y})<br>Time: %{meta}",
           "meta": [
            "2023-09-09 13:15:53",
            "2023-09-09 13:16:08",
            "2023-09-09 13:16:08",
            "2023-09-09 13:16:03",
            "2023-09-09 13:15:28",
            "2023-09-09 13:16:03",
            "2023-09-09 13:16:13",
            "2023-09-09 13:15:48",
            "2023-09-09 13:15:43",
            "2023-09-09 13:15:48",
            "2023-09-09 13:15:43",
            "2023-09-09 13:15:58",
            "2023-09-09 13:15:38",
            "2023-09-09 13:15:33",
            "2023-09-09 13:16:18"
           ],
           "type": "scatter",
           "x": [
            2.7732145459661828,
            7.955858376480022,
            12.049839569512823,
            7.313585549468086,
            -2.9529063347662494,
            5.380150596647081,
            8.805911336766856,
            -2.8846866467319123,
            0.16751715763101957,
            0.9243646335745327,
            0.6665598266834138,
            1.7816401364334373,
            -0.12971653658369425,
            -0.414974513607573,
            -0.6409476674231213,
            null
           ],
           "y": [
            -14.294614274786923,
            -24.6566298921489,
            62.141569320982676,
            -23.110915560251623,
            -6.157689410516123,
            49.808037897918375,
            -27.40995909509806,
            22.587455686278346,
            17.08173882592794,
            -8.17728966372461,
            -1.4698901560981477,
            37.37184117537889,
            8.779938209975892,
            0.008967925780332398,
            2.1239614579283033,
            null
           ]
          },
          {
           "hovertemplate": "Clutter<br>(%{x}, %{y})<br>Time: %{meta}",
           "meta": [
            "2023-09-09 13:15:28",
            "2023-09-09 13:16:03",
            "2023-09-09 13:16:03",
            "2023-09-09 13:15:43",
            "2023-09-09 13:15:48",
            "2023-09-09 13:16:13",
            "2023-09-09 13:15:18",
            "2023-09-09 13:15:43",
            "2023-09-09 13:16:18",
            "2023-09-09 13:15:33",
            "2023-09-09 13:16:03",
            "2023-09-09 13:15:28"
           ],
           "type": "scatter",
           "x": [
            -18.91585115541183,
            -84.02178018015387,
            26.569796360324546,
            97.44023897962586,
            -63.30490533094144,
            -74.10387516381311,
            35.13802684242958,
            77.73222141398784,
            -32.27050379816403,
            82.91502473574982,
            -28.50548968800004,
            -2.866737544372782,
            null
           ],
           "y": [
            21.311429176712025,
            -47.81776950261685,
            9.239636892370754,
            58.10543563898801,
            -36.48876688177134,
            78.06453587255322,
            -62.08572070126384,
            -71.16870400917821,
            -77.98535848550767,
            73.95603534960517,
            -18.796880795797463,
            53.465669126499506,
            null
           ]
          },
          {
           "type": "scatter",
           "x": [
            null,
            null
           ],
           "y": [
            null,
            null
           ]
          },
          {
           "customdata": [
            "2023-09-09 13:15:28",
            "2023-09-09 13:15:33",
            "2023-09-09 13:15:38",
            "2023-09-09 13:15:43",
            "2023-09-09 13:15:48",
            "2023-09-09 13:15:53"
           ],
           "hovertemplate": "%{meta}<br>(%{x}, %{y})<br>Time: %{customdata}",
           "meta": [
            "GaussianStateUpdate",
            "GaussianStateUpdate",
            "GaussianStateUpdate",
            "GaussianStateUpdate",
            "GaussianStateUpdate",
            "GaussianStatePrediction"
           ],
           "type": "scatter",
           "x": [
            -2.9529063347662494,
            -0.4570396819140701,
            -0.02806757808280036,
            0.1681844478662966,
            -2.741119687445037,
            -5.960470353104115,
            null
           ],
           "y": [
            -6.157689410516123,
            -0.09324186432402826,
            8.670193621099402,
            17.107680131365257,
            22.715727017919114,
            28.04675973968289,
            null
           ]
          },
          {
           "customdata": [
            "2023-09-09 13:16:18"
           ],
           "hovertemplate": "%{meta}<br>(%{x}, %{y})<br>Time: %{customdata}",
           "meta": [
            "GaussianStateUpdate"
           ],
           "type": "scatter",
           "x": [
            -0.6409476674231213,
            null
           ],
           "y": [
            2.1239614579283033,
            null
           ]
          },
          {
           "customdata": [
            "2023-09-09 13:16:03",
            "2023-09-09 13:16:08",
            "2023-09-09 13:16:13",
            "2023-09-09 13:16:18"
           ],
           "hovertemplate": "%{meta}<br>(%{x}, %{y})<br>Time: %{customdata}",
           "meta": [
            "GaussianStateUpdate",
            "GaussianStateUpdate",
            "GaussianStateUpdate",
            "GaussianStatePrediction"
           ],
           "type": "scatter",
           "x": [
            7.313585549468086,
            7.945212970507449,
            8.797283904712314,
            9.667880779572053,
            null
           ],
           "y": [
            -23.110915560251623,
            -24.631010317587066,
            -27.35794885786192,
            -30.19657052266226,
            null
           ]
          },
          {
           "customdata": [
            "2023-09-09 13:15:43",
            "2023-09-09 13:15:48",
            "2023-09-09 13:15:53",
            "2023-09-09 13:15:58"
           ],
           "hovertemplate": "%{meta}<br>(%{x}, %{y})<br>Time: %{customdata}",
           "meta": [
            "GaussianStateUpdate",
            "GaussianStateUpdate",
            "GaussianStateUpdate",
            "GaussianStatePrediction"
           ],
           "type": "scatter",
           "x": [
            0.6665598266834138,
            0.9200916257255086,
            2.7031716008986244,
            4.636656868795079,
            null
           ],
           "y": [
            -1.4698901560981477,
            -8.06611729619489,
            -14.326400734633976,
            -20.518428165372026,
            null
           ]
          }
         ],
         "name": "2023-09-09 13:16:18",
         "traces": [
          0,
          1,
          2,
          3,
          4,
          5,
          6,
          7,
          8,
          9,
          10,
          11,
          12,
          13
         ]
        },
        {
         "data": [
          {
           "type": "scatter",
           "x": [
            0,
            0
           ],
           "y": [
            0,
            0
           ]
          },
          {
           "hovertemplate": "GroundTruthState<br>(%{x}, %{y})<br>Time: %{meta}",
           "meta": [
            "2023-09-09 13:15:43",
            "2023-09-09 13:15:48",
            "2023-09-09 13:15:53",
            "2023-09-09 13:15:58",
            "2023-09-09 13:16:03",
            "2023-09-09 13:16:08",
            "2023-09-09 13:16:13"
           ],
           "type": "scatter",
           "x": [
            0.2937944603447359,
            1.276816736466913,
            2.433540299360508,
            4.506513407145024,
            6.870327674964499,
            7.741593494564171,
            8.815682511230099,
            null
           ],
           "y": [
            -1.5124423615079887,
            -8.002708575847954,
            -14.530938442143638,
            -20.053656362306967,
            -22.883128714113507,
            -25.354251242120537,
            -26.977952464456358,
            null
           ]
          },
          {
           "hovertemplate": "GroundTruthState<br>(%{x}, %{y})<br>Time: %{meta}",
           "meta": [
            "2023-09-09 13:16:18",
            "2023-09-09 13:16:23"
           ],
           "type": "scatter",
           "x": [
            0.32205190919322113,
            -0.5924433860858392,
            null
           ],
           "y": [
            1.6040529425573238,
            -2.0954769968956706,
            null
           ]
          },
          {
           "hovertemplate": "GroundTruthState<br>(%{x}, %{y})<br>Time: %{meta}",
           "meta": [],
           "type": "scatter",
           "x": [
            null
           ],
           "y": [
            null
           ]
          },
          {
           "hovertemplate": "GroundTruthState<br>(%{x}, %{y})<br>Time: %{meta}",
           "meta": [],
           "type": "scatter",
           "x": [
            null
           ],
           "y": [
            null
           ]
          },
          {
           "hovertemplate": "GroundTruthState<br>(%{x}, %{y})<br>Time: %{meta}",
           "meta": [
            "2023-09-09 13:15:28",
            "2023-09-09 13:15:33",
            "2023-09-09 13:15:38",
            "2023-09-09 13:15:43",
            "2023-09-09 13:15:48",
            "2023-09-09 13:15:53",
            "2023-09-09 13:15:58",
            "2023-09-09 13:16:03",
            "2023-09-09 13:16:08"
           ],
           "type": "scatter",
           "x": [
            -2.9503352638213713,
            -0.9385851092464608,
            0.01009809649314719,
            0.30799302457095024,
            -2.4030313613021077,
            -0.5914365921869056,
            1.2764708399624658,
            6.055704751357165,
            11.94061529832056,
            null
           ],
           "y": [
            -5.6677773232862885,
            0.49974518663368006,
            9.099937466353685,
            17.701365469919434,
            22.501291361664848,
            28.553863289383393,
            37.9847878483823,
            49.35854659835166,
            61.05308109551309,
            null
           ]
          },
          {
           "type": "scatter",
           "x": [
            null,
            null
           ],
           "y": [
            null,
            null
           ]
          },
          {
           "hovertemplate": "Detection<br>(%{x}, %{y})<br>Time: %{meta}",
           "meta": [
            "2023-09-09 13:15:53",
            "2023-09-09 13:16:08",
            "2023-09-09 13:16:08",
            "2023-09-09 13:16:03",
            "2023-09-09 13:15:28",
            "2023-09-09 13:16:03",
            "2023-09-09 13:16:13",
            "2023-09-09 13:15:48",
            "2023-09-09 13:15:43",
            "2023-09-09 13:15:48",
            "2023-09-09 13:15:43",
            "2023-09-09 13:16:23",
            "2023-09-09 13:15:58",
            "2023-09-09 13:15:38",
            "2023-09-09 13:15:33",
            "2023-09-09 13:16:18"
           ],
           "type": "scatter",
           "x": [
            2.7732145459661828,
            7.955858376480022,
            12.049839569512823,
            7.313585549468086,
            -2.9529063347662494,
            5.380150596647081,
            8.805911336766856,
            -2.8846866467319123,
            0.16751715763101957,
            0.9243646335745327,
            0.6665598266834138,
            -1.1881145786424745,
            1.7816401364334373,
            -0.12971653658369425,
            -0.414974513607573,
            -0.6409476674231213,
            null
           ],
           "y": [
            -14.294614274786923,
            -24.6566298921489,
            62.141569320982676,
            -23.110915560251623,
            -6.157689410516123,
            49.808037897918375,
            -27.40995909509806,
            22.587455686278346,
            17.08173882592794,
            -8.17728966372461,
            -1.4698901560981477,
            -1.982519719333509,
            37.37184117537889,
            8.779938209975892,
            0.008967925780332398,
            2.1239614579283033,
            null
           ]
          },
          {
           "hovertemplate": "Clutter<br>(%{x}, %{y})<br>Time: %{meta}",
           "meta": [
            "2023-09-09 13:15:28",
            "2023-09-09 13:16:03",
            "2023-09-09 13:16:03",
            "2023-09-09 13:15:43",
            "2023-09-09 13:15:48",
            "2023-09-09 13:16:13",
            "2023-09-09 13:15:18",
            "2023-09-09 13:15:43",
            "2023-09-09 13:16:18",
            "2023-09-09 13:15:33",
            "2023-09-09 13:16:03",
            "2023-09-09 13:15:28"
           ],
           "type": "scatter",
           "x": [
            -18.91585115541183,
            -84.02178018015387,
            26.569796360324546,
            97.44023897962586,
            -63.30490533094144,
            -74.10387516381311,
            35.13802684242958,
            77.73222141398784,
            -32.27050379816403,
            82.91502473574982,
            -28.50548968800004,
            -2.866737544372782,
            null
           ],
           "y": [
            21.311429176712025,
            -47.81776950261685,
            9.239636892370754,
            58.10543563898801,
            -36.48876688177134,
            78.06453587255322,
            -62.08572070126384,
            -71.16870400917821,
            -77.98535848550767,
            73.95603534960517,
            -18.796880795797463,
            53.465669126499506,
            null
           ]
          },
          {
           "type": "scatter",
           "x": [
            null,
            null
           ],
           "y": [
            null,
            null
           ]
          },
          {
           "customdata": [
            "2023-09-09 13:15:28",
            "2023-09-09 13:15:33",
            "2023-09-09 13:15:38",
            "2023-09-09 13:15:43",
            "2023-09-09 13:15:48",
            "2023-09-09 13:15:53"
           ],
           "hovertemplate": "%{meta}<br>(%{x}, %{y})<br>Time: %{customdata}",
           "meta": [
            "GaussianStateUpdate",
            "GaussianStateUpdate",
            "GaussianStateUpdate",
            "GaussianStateUpdate",
            "GaussianStateUpdate",
            "GaussianStatePrediction"
           ],
           "type": "scatter",
           "x": [
            -2.9529063347662494,
            -0.4570396819140701,
            -0.02806757808280036,
            0.1681844478662966,
            -2.741119687445037,
            -5.960470353104115,
            null
           ],
           "y": [
            -6.157689410516123,
            -0.09324186432402826,
            8.670193621099402,
            17.107680131365257,
            22.715727017919114,
            28.04675973968289,
            null
           ]
          },
          {
           "customdata": [
            "2023-09-09 13:16:18",
            "2023-09-09 13:16:23"
           ],
           "hovertemplate": "%{meta}<br>(%{x}, %{y})<br>Time: %{customdata}",
           "meta": [
            "GaussianStateUpdate",
            "GaussianStateUpdate"
           ],
           "type": "scatter",
           "x": [
            -0.6409476674231213,
            -1.1790455138156344,
            null
           ],
           "y": [
            2.1239614579283033,
            -1.914456495400993,
            null
           ]
          },
          {
           "customdata": [
            "2023-09-09 13:16:03",
            "2023-09-09 13:16:08",
            "2023-09-09 13:16:13",
            "2023-09-09 13:16:18"
           ],
           "hovertemplate": "%{meta}<br>(%{x}, %{y})<br>Time: %{customdata}",
           "meta": [
            "GaussianStateUpdate",
            "GaussianStateUpdate",
            "GaussianStateUpdate",
            "GaussianStatePrediction"
           ],
           "type": "scatter",
           "x": [
            7.313585549468086,
            7.945212970507449,
            8.797283904712314,
            9.667880779572053,
            null
           ],
           "y": [
            -23.110915560251623,
            -24.631010317587066,
            -27.35794885786192,
            -30.19657052266226,
            null
           ]
          },
          {
           "customdata": [
            "2023-09-09 13:15:43",
            "2023-09-09 13:15:48",
            "2023-09-09 13:15:53",
            "2023-09-09 13:15:58"
           ],
           "hovertemplate": "%{meta}<br>(%{x}, %{y})<br>Time: %{customdata}",
           "meta": [
            "GaussianStateUpdate",
            "GaussianStateUpdate",
            "GaussianStateUpdate",
            "GaussianStatePrediction"
           ],
           "type": "scatter",
           "x": [
            0.6665598266834138,
            0.9200916257255086,
            2.7031716008986244,
            4.636656868795079,
            null
           ],
           "y": [
            -1.4698901560981477,
            -8.06611729619489,
            -14.326400734633976,
            -20.518428165372026,
            null
           ]
          }
         ],
         "name": "2023-09-09 13:16:23",
         "traces": [
          0,
          1,
          2,
          3,
          4,
          5,
          6,
          7,
          8,
          9,
          10,
          11,
          12,
          13
         ]
        },
        {
         "data": [
          {
           "type": "scatter",
           "x": [
            0,
            0
           ],
           "y": [
            0,
            0
           ]
          },
          {
           "hovertemplate": "GroundTruthState<br>(%{x}, %{y})<br>Time: %{meta}",
           "meta": [
            "2023-09-09 13:15:43",
            "2023-09-09 13:15:48",
            "2023-09-09 13:15:53",
            "2023-09-09 13:15:58",
            "2023-09-09 13:16:03",
            "2023-09-09 13:16:08",
            "2023-09-09 13:16:13"
           ],
           "type": "scatter",
           "x": [
            0.2937944603447359,
            1.276816736466913,
            2.433540299360508,
            4.506513407145024,
            6.870327674964499,
            7.741593494564171,
            8.815682511230099,
            null
           ],
           "y": [
            -1.5124423615079887,
            -8.002708575847954,
            -14.530938442143638,
            -20.053656362306967,
            -22.883128714113507,
            -25.354251242120537,
            -26.977952464456358,
            null
           ]
          },
          {
           "hovertemplate": "GroundTruthState<br>(%{x}, %{y})<br>Time: %{meta}",
           "meta": [
            "2023-09-09 13:16:18",
            "2023-09-09 13:16:23",
            "2023-09-09 13:16:28"
           ],
           "type": "scatter",
           "x": [
            0.32205190919322113,
            -0.5924433860858392,
            -0.32259915283820395,
            null
           ],
           "y": [
            1.6040529425573238,
            -2.0954769968956706,
            -5.966808132355531,
            null
           ]
          },
          {
           "hovertemplate": "GroundTruthState<br>(%{x}, %{y})<br>Time: %{meta}",
           "meta": [],
           "type": "scatter",
           "x": [
            null
           ],
           "y": [
            null
           ]
          },
          {
           "hovertemplate": "GroundTruthState<br>(%{x}, %{y})<br>Time: %{meta}",
           "meta": [],
           "type": "scatter",
           "x": [
            null
           ],
           "y": [
            null
           ]
          },
          {
           "hovertemplate": "GroundTruthState<br>(%{x}, %{y})<br>Time: %{meta}",
           "meta": [
            "2023-09-09 13:15:28",
            "2023-09-09 13:15:33",
            "2023-09-09 13:15:38",
            "2023-09-09 13:15:43",
            "2023-09-09 13:15:48",
            "2023-09-09 13:15:53",
            "2023-09-09 13:15:58",
            "2023-09-09 13:16:03",
            "2023-09-09 13:16:08"
           ],
           "type": "scatter",
           "x": [
            -2.9503352638213713,
            -0.9385851092464608,
            0.01009809649314719,
            0.30799302457095024,
            -2.4030313613021077,
            -0.5914365921869056,
            1.2764708399624658,
            6.055704751357165,
            11.94061529832056,
            null
           ],
           "y": [
            -5.6677773232862885,
            0.49974518663368006,
            9.099937466353685,
            17.701365469919434,
            22.501291361664848,
            28.553863289383393,
            37.9847878483823,
            49.35854659835166,
            61.05308109551309,
            null
           ]
          },
          {
           "type": "scatter",
           "x": [
            null,
            null
           ],
           "y": [
            null,
            null
           ]
          },
          {
           "hovertemplate": "Detection<br>(%{x}, %{y})<br>Time: %{meta}",
           "meta": [
            "2023-09-09 13:15:53",
            "2023-09-09 13:16:08",
            "2023-09-09 13:16:08",
            "2023-09-09 13:16:03",
            "2023-09-09 13:15:28",
            "2023-09-09 13:16:03",
            "2023-09-09 13:16:13",
            "2023-09-09 13:16:28",
            "2023-09-09 13:15:48",
            "2023-09-09 13:15:43",
            "2023-09-09 13:15:48",
            "2023-09-09 13:15:43",
            "2023-09-09 13:16:23",
            "2023-09-09 13:15:58",
            "2023-09-09 13:15:38",
            "2023-09-09 13:15:33",
            "2023-09-09 13:16:18"
           ],
           "type": "scatter",
           "x": [
            2.7732145459661828,
            7.955858376480022,
            12.049839569512823,
            7.313585549468086,
            -2.9529063347662494,
            5.380150596647081,
            8.805911336766856,
            -0.018164069688945517,
            -2.8846866467319123,
            0.16751715763101957,
            0.9243646335745327,
            0.6665598266834138,
            -1.1881145786424745,
            1.7816401364334373,
            -0.12971653658369425,
            -0.414974513607573,
            -0.6409476674231213,
            null
           ],
           "y": [
            -14.294614274786923,
            -24.6566298921489,
            62.141569320982676,
            -23.110915560251623,
            -6.157689410516123,
            49.808037897918375,
            -27.40995909509806,
            -5.883484284262865,
            22.587455686278346,
            17.08173882592794,
            -8.17728966372461,
            -1.4698901560981477,
            -1.982519719333509,
            37.37184117537889,
            8.779938209975892,
            0.008967925780332398,
            2.1239614579283033,
            null
           ]
          },
          {
           "hovertemplate": "Clutter<br>(%{x}, %{y})<br>Time: %{meta}",
           "meta": [
            "2023-09-09 13:15:28",
            "2023-09-09 13:16:03",
            "2023-09-09 13:16:03",
            "2023-09-09 13:15:43",
            "2023-09-09 13:15:48",
            "2023-09-09 13:16:13",
            "2023-09-09 13:15:18",
            "2023-09-09 13:15:43",
            "2023-09-09 13:16:18",
            "2023-09-09 13:15:33",
            "2023-09-09 13:16:03",
            "2023-09-09 13:15:28"
           ],
           "type": "scatter",
           "x": [
            -18.91585115541183,
            -84.02178018015387,
            26.569796360324546,
            97.44023897962586,
            -63.30490533094144,
            -74.10387516381311,
            35.13802684242958,
            77.73222141398784,
            -32.27050379816403,
            82.91502473574982,
            -28.50548968800004,
            -2.866737544372782,
            null
           ],
           "y": [
            21.311429176712025,
            -47.81776950261685,
            9.239636892370754,
            58.10543563898801,
            -36.48876688177134,
            78.06453587255322,
            -62.08572070126384,
            -71.16870400917821,
            -77.98535848550767,
            73.95603534960517,
            -18.796880795797463,
            53.465669126499506,
            null
           ]
          },
          {
           "type": "scatter",
           "x": [
            null,
            null
           ],
           "y": [
            null,
            null
           ]
          },
          {
           "customdata": [
            "2023-09-09 13:15:28",
            "2023-09-09 13:15:33",
            "2023-09-09 13:15:38",
            "2023-09-09 13:15:43",
            "2023-09-09 13:15:48",
            "2023-09-09 13:15:53"
           ],
           "hovertemplate": "%{meta}<br>(%{x}, %{y})<br>Time: %{customdata}",
           "meta": [
            "GaussianStateUpdate",
            "GaussianStateUpdate",
            "GaussianStateUpdate",
            "GaussianStateUpdate",
            "GaussianStateUpdate",
            "GaussianStatePrediction"
           ],
           "type": "scatter",
           "x": [
            -2.9529063347662494,
            -0.4570396819140701,
            -0.02806757808280036,
            0.1681844478662966,
            -2.741119687445037,
            -5.960470353104115,
            null
           ],
           "y": [
            -6.157689410516123,
            -0.09324186432402826,
            8.670193621099402,
            17.107680131365257,
            22.715727017919114,
            28.04675973968289,
            null
           ]
          },
          {
           "customdata": [
            "2023-09-09 13:16:18",
            "2023-09-09 13:16:23",
            "2023-09-09 13:16:28"
           ],
           "hovertemplate": "%{meta}<br>(%{x}, %{y})<br>Time: %{customdata}",
           "meta": [
            "GaussianStateUpdate",
            "GaussianStateUpdate",
            "GaussianStateUpdate"
           ],
           "type": "scatter",
           "x": [
            -0.6409476674231213,
            -1.1790455138156344,
            -0.0944619784559324,
            null
           ],
           "y": [
            2.1239614579283033,
            -1.914456495400993,
            -5.896066971195974,
            null
           ]
          },
          {
           "customdata": [
            "2023-09-09 13:16:03",
            "2023-09-09 13:16:08",
            "2023-09-09 13:16:13",
            "2023-09-09 13:16:18"
           ],
           "hovertemplate": "%{meta}<br>(%{x}, %{y})<br>Time: %{customdata}",
           "meta": [
            "GaussianStateUpdate",
            "GaussianStateUpdate",
            "GaussianStateUpdate",
            "GaussianStatePrediction"
           ],
           "type": "scatter",
           "x": [
            7.313585549468086,
            7.945212970507449,
            8.797283904712314,
            9.667880779572053,
            null
           ],
           "y": [
            -23.110915560251623,
            -24.631010317587066,
            -27.35794885786192,
            -30.19657052266226,
            null
           ]
          },
          {
           "customdata": [
            "2023-09-09 13:15:43",
            "2023-09-09 13:15:48",
            "2023-09-09 13:15:53",
            "2023-09-09 13:15:58"
           ],
           "hovertemplate": "%{meta}<br>(%{x}, %{y})<br>Time: %{customdata}",
           "meta": [
            "GaussianStateUpdate",
            "GaussianStateUpdate",
            "GaussianStateUpdate",
            "GaussianStatePrediction"
           ],
           "type": "scatter",
           "x": [
            0.6665598266834138,
            0.9200916257255086,
            2.7031716008986244,
            4.636656868795079,
            null
           ],
           "y": [
            -1.4698901560981477,
            -8.06611729619489,
            -14.326400734633976,
            -20.518428165372026,
            null
           ]
          }
         ],
         "name": "2023-09-09 13:16:28",
         "traces": [
          0,
          1,
          2,
          3,
          4,
          5,
          6,
          7,
          8,
          9,
          10,
          11,
          12,
          13
         ]
        },
        {
         "data": [
          {
           "type": "scatter",
           "x": [
            0,
            0
           ],
           "y": [
            0,
            0
           ]
          },
          {
           "hovertemplate": "GroundTruthState<br>(%{x}, %{y})<br>Time: %{meta}",
           "meta": [
            "2023-09-09 13:15:43",
            "2023-09-09 13:15:48",
            "2023-09-09 13:15:53",
            "2023-09-09 13:15:58",
            "2023-09-09 13:16:03",
            "2023-09-09 13:16:08",
            "2023-09-09 13:16:13"
           ],
           "type": "scatter",
           "x": [
            0.2937944603447359,
            1.276816736466913,
            2.433540299360508,
            4.506513407145024,
            6.870327674964499,
            7.741593494564171,
            8.815682511230099,
            null
           ],
           "y": [
            -1.5124423615079887,
            -8.002708575847954,
            -14.530938442143638,
            -20.053656362306967,
            -22.883128714113507,
            -25.354251242120537,
            -26.977952464456358,
            null
           ]
          },
          {
           "hovertemplate": "GroundTruthState<br>(%{x}, %{y})<br>Time: %{meta}",
           "meta": [
            "2023-09-09 13:16:18",
            "2023-09-09 13:16:23",
            "2023-09-09 13:16:28",
            "2023-09-09 13:16:33"
           ],
           "type": "scatter",
           "x": [
            0.32205190919322113,
            -0.5924433860858392,
            -0.32259915283820395,
            -0.09191116064916804,
            null
           ],
           "y": [
            1.6040529425573238,
            -2.0954769968956706,
            -5.966808132355531,
            -8.150774433035675,
            null
           ]
          },
          {
           "hovertemplate": "GroundTruthState<br>(%{x}, %{y})<br>Time: %{meta}",
           "meta": [],
           "type": "scatter",
           "x": [
            null
           ],
           "y": [
            null
           ]
          },
          {
           "hovertemplate": "GroundTruthState<br>(%{x}, %{y})<br>Time: %{meta}",
           "meta": [],
           "type": "scatter",
           "x": [
            null
           ],
           "y": [
            null
           ]
          },
          {
           "hovertemplate": "GroundTruthState<br>(%{x}, %{y})<br>Time: %{meta}",
           "meta": [
            "2023-09-09 13:15:28",
            "2023-09-09 13:15:33",
            "2023-09-09 13:15:38",
            "2023-09-09 13:15:43",
            "2023-09-09 13:15:48",
            "2023-09-09 13:15:53",
            "2023-09-09 13:15:58",
            "2023-09-09 13:16:03",
            "2023-09-09 13:16:08"
           ],
           "type": "scatter",
           "x": [
            -2.9503352638213713,
            -0.9385851092464608,
            0.01009809649314719,
            0.30799302457095024,
            -2.4030313613021077,
            -0.5914365921869056,
            1.2764708399624658,
            6.055704751357165,
            11.94061529832056,
            null
           ],
           "y": [
            -5.6677773232862885,
            0.49974518663368006,
            9.099937466353685,
            17.701365469919434,
            22.501291361664848,
            28.553863289383393,
            37.9847878483823,
            49.35854659835166,
            61.05308109551309,
            null
           ]
          },
          {
           "type": "scatter",
           "x": [
            null,
            null
           ],
           "y": [
            null,
            null
           ]
          },
          {
           "hovertemplate": "Detection<br>(%{x}, %{y})<br>Time: %{meta}",
           "meta": [
            "2023-09-09 13:15:53",
            "2023-09-09 13:16:08",
            "2023-09-09 13:16:08",
            "2023-09-09 13:16:03",
            "2023-09-09 13:15:28",
            "2023-09-09 13:16:03",
            "2023-09-09 13:16:13",
            "2023-09-09 13:16:28",
            "2023-09-09 13:15:48",
            "2023-09-09 13:15:43",
            "2023-09-09 13:15:48",
            "2023-09-09 13:15:43",
            "2023-09-09 13:16:23",
            "2023-09-09 13:16:33",
            "2023-09-09 13:15:58",
            "2023-09-09 13:15:38",
            "2023-09-09 13:15:33",
            "2023-09-09 13:16:18"
           ],
           "type": "scatter",
           "x": [
            2.7732145459661828,
            7.955858376480022,
            12.049839569512823,
            7.313585549468086,
            -2.9529063347662494,
            5.380150596647081,
            8.805911336766856,
            -0.018164069688945517,
            -2.8846866467319123,
            0.16751715763101957,
            0.9243646335745327,
            0.6665598266834138,
            -1.1881145786424745,
            0.13977055187811624,
            1.7816401364334373,
            -0.12971653658369425,
            -0.414974513607573,
            -0.6409476674231213,
            null
           ],
           "y": [
            -14.294614274786923,
            -24.6566298921489,
            62.141569320982676,
            -23.110915560251623,
            -6.157689410516123,
            49.808037897918375,
            -27.40995909509806,
            -5.883484284262865,
            22.587455686278346,
            17.08173882592794,
            -8.17728966372461,
            -1.4698901560981477,
            -1.982519719333509,
            -8.255795366402394,
            37.37184117537889,
            8.779938209975892,
            0.008967925780332398,
            2.1239614579283033,
            null
           ]
          },
          {
           "hovertemplate": "Clutter<br>(%{x}, %{y})<br>Time: %{meta}",
           "meta": [
            "2023-09-09 13:15:28",
            "2023-09-09 13:16:03",
            "2023-09-09 13:16:03",
            "2023-09-09 13:15:43",
            "2023-09-09 13:16:33",
            "2023-09-09 13:15:48",
            "2023-09-09 13:16:13",
            "2023-09-09 13:16:33",
            "2023-09-09 13:15:18",
            "2023-09-09 13:15:43",
            "2023-09-09 13:16:18",
            "2023-09-09 13:15:33",
            "2023-09-09 13:16:03",
            "2023-09-09 13:15:28"
           ],
           "type": "scatter",
           "x": [
            -18.91585115541183,
            -84.02178018015387,
            26.569796360324546,
            97.44023897962586,
            27.249469348084475,
            -63.30490533094144,
            -74.10387516381311,
            -9.696137469284949,
            35.13802684242958,
            77.73222141398784,
            -32.27050379816403,
            82.91502473574982,
            -28.50548968800004,
            -2.866737544372782,
            null
           ],
           "y": [
            21.311429176712025,
            -47.81776950261685,
            9.239636892370754,
            58.10543563898801,
            0.981857763760388,
            -36.48876688177134,
            78.06453587255322,
            -39.651026722888915,
            -62.08572070126384,
            -71.16870400917821,
            -77.98535848550767,
            73.95603534960517,
            -18.796880795797463,
            53.465669126499506,
            null
           ]
          },
          {
           "type": "scatter",
           "x": [
            null,
            null
           ],
           "y": [
            null,
            null
           ]
          },
          {
           "customdata": [
            "2023-09-09 13:15:28",
            "2023-09-09 13:15:33",
            "2023-09-09 13:15:38",
            "2023-09-09 13:15:43",
            "2023-09-09 13:15:48",
            "2023-09-09 13:15:53"
           ],
           "hovertemplate": "%{meta}<br>(%{x}, %{y})<br>Time: %{customdata}",
           "meta": [
            "GaussianStateUpdate",
            "GaussianStateUpdate",
            "GaussianStateUpdate",
            "GaussianStateUpdate",
            "GaussianStateUpdate",
            "GaussianStatePrediction"
           ],
           "type": "scatter",
           "x": [
            -2.9529063347662494,
            -0.4570396819140701,
            -0.02806757808280036,
            0.1681844478662966,
            -2.741119687445037,
            -5.960470353104115,
            null
           ],
           "y": [
            -6.157689410516123,
            -0.09324186432402826,
            8.670193621099402,
            17.107680131365257,
            22.715727017919114,
            28.04675973968289,
            null
           ]
          },
          {
           "customdata": [
            "2023-09-09 13:16:18",
            "2023-09-09 13:16:23",
            "2023-09-09 13:16:28",
            "2023-09-09 13:16:33"
           ],
           "hovertemplate": "%{meta}<br>(%{x}, %{y})<br>Time: %{customdata}",
           "meta": [
            "GaussianStateUpdate",
            "GaussianStateUpdate",
            "GaussianStateUpdate",
            "GaussianStateUpdate"
           ],
           "type": "scatter",
           "x": [
            -0.6409476674231213,
            -1.1790455138156344,
            -0.0944619784559324,
            0.18454876674422893,
            null
           ],
           "y": [
            2.1239614579283033,
            -1.914456495400993,
            -5.896066971195974,
            -8.326211433457786,
            null
           ]
          },
          {
           "customdata": [
            "2023-09-09 13:16:03",
            "2023-09-09 13:16:08",
            "2023-09-09 13:16:13",
            "2023-09-09 13:16:18"
           ],
           "hovertemplate": "%{meta}<br>(%{x}, %{y})<br>Time: %{customdata}",
           "meta": [
            "GaussianStateUpdate",
            "GaussianStateUpdate",
            "GaussianStateUpdate",
            "GaussianStatePrediction"
           ],
           "type": "scatter",
           "x": [
            7.313585549468086,
            7.945212970507449,
            8.797283904712314,
            9.667880779572053,
            null
           ],
           "y": [
            -23.110915560251623,
            -24.631010317587066,
            -27.35794885786192,
            -30.19657052266226,
            null
           ]
          },
          {
           "customdata": [
            "2023-09-09 13:15:43",
            "2023-09-09 13:15:48",
            "2023-09-09 13:15:53",
            "2023-09-09 13:15:58"
           ],
           "hovertemplate": "%{meta}<br>(%{x}, %{y})<br>Time: %{customdata}",
           "meta": [
            "GaussianStateUpdate",
            "GaussianStateUpdate",
            "GaussianStateUpdate",
            "GaussianStatePrediction"
           ],
           "type": "scatter",
           "x": [
            0.6665598266834138,
            0.9200916257255086,
            2.7031716008986244,
            4.636656868795079,
            null
           ],
           "y": [
            -1.4698901560981477,
            -8.06611729619489,
            -14.326400734633976,
            -20.518428165372026,
            null
           ]
          }
         ],
         "name": "2023-09-09 13:16:33",
         "traces": [
          0,
          1,
          2,
          3,
          4,
          5,
          6,
          7,
          8,
          9,
          10,
          11,
          12,
          13
         ]
        },
        {
         "data": [
          {
           "type": "scatter",
           "x": [
            0,
            0
           ],
           "y": [
            0,
            0
           ]
          },
          {
           "hovertemplate": "GroundTruthState<br>(%{x}, %{y})<br>Time: %{meta}",
           "meta": [
            "2023-09-09 13:15:43",
            "2023-09-09 13:15:48",
            "2023-09-09 13:15:53",
            "2023-09-09 13:15:58",
            "2023-09-09 13:16:03",
            "2023-09-09 13:16:08",
            "2023-09-09 13:16:13"
           ],
           "type": "scatter",
           "x": [
            0.2937944603447359,
            1.276816736466913,
            2.433540299360508,
            4.506513407145024,
            6.870327674964499,
            7.741593494564171,
            8.815682511230099,
            null
           ],
           "y": [
            -1.5124423615079887,
            -8.002708575847954,
            -14.530938442143638,
            -20.053656362306967,
            -22.883128714113507,
            -25.354251242120537,
            -26.977952464456358,
            null
           ]
          },
          {
           "hovertemplate": "GroundTruthState<br>(%{x}, %{y})<br>Time: %{meta}",
           "meta": [
            "2023-09-09 13:16:18",
            "2023-09-09 13:16:23",
            "2023-09-09 13:16:28",
            "2023-09-09 13:16:33",
            "2023-09-09 13:16:38"
           ],
           "type": "scatter",
           "x": [
            0.32205190919322113,
            -0.5924433860858392,
            -0.32259915283820395,
            -0.09191116064916804,
            -0.4602412044654328,
            null
           ],
           "y": [
            1.6040529425573238,
            -2.0954769968956706,
            -5.966808132355531,
            -8.150774433035675,
            -8.807399107117854,
            null
           ]
          },
          {
           "hovertemplate": "GroundTruthState<br>(%{x}, %{y})<br>Time: %{meta}",
           "meta": [],
           "type": "scatter",
           "x": [
            null
           ],
           "y": [
            null
           ]
          },
          {
           "hovertemplate": "GroundTruthState<br>(%{x}, %{y})<br>Time: %{meta}",
           "meta": [
            "2023-09-09 13:16:38"
           ],
           "type": "scatter",
           "x": [
            -3.0202951270512717,
            null
           ],
           "y": [
            -3.0909730221854215,
            null
           ]
          },
          {
           "hovertemplate": "GroundTruthState<br>(%{x}, %{y})<br>Time: %{meta}",
           "meta": [
            "2023-09-09 13:15:28",
            "2023-09-09 13:15:33",
            "2023-09-09 13:15:38",
            "2023-09-09 13:15:43",
            "2023-09-09 13:15:48",
            "2023-09-09 13:15:53",
            "2023-09-09 13:15:58",
            "2023-09-09 13:16:03",
            "2023-09-09 13:16:08"
           ],
           "type": "scatter",
           "x": [
            -2.9503352638213713,
            -0.9385851092464608,
            0.01009809649314719,
            0.30799302457095024,
            -2.4030313613021077,
            -0.5914365921869056,
            1.2764708399624658,
            6.055704751357165,
            11.94061529832056,
            null
           ],
           "y": [
            -5.6677773232862885,
            0.49974518663368006,
            9.099937466353685,
            17.701365469919434,
            22.501291361664848,
            28.553863289383393,
            37.9847878483823,
            49.35854659835166,
            61.05308109551309,
            null
           ]
          },
          {
           "type": "scatter",
           "x": [
            null,
            null
           ],
           "y": [
            null,
            null
           ]
          },
          {
           "hovertemplate": "Detection<br>(%{x}, %{y})<br>Time: %{meta}",
           "meta": [
            "2023-09-09 13:15:53",
            "2023-09-09 13:16:08",
            "2023-09-09 13:16:08",
            "2023-09-09 13:16:03",
            "2023-09-09 13:15:28",
            "2023-09-09 13:16:03",
            "2023-09-09 13:16:13",
            "2023-09-09 13:16:28",
            "2023-09-09 13:15:48",
            "2023-09-09 13:15:43",
            "2023-09-09 13:15:48",
            "2023-09-09 13:15:43",
            "2023-09-09 13:16:23",
            "2023-09-09 13:16:33",
            "2023-09-09 13:15:58",
            "2023-09-09 13:16:38",
            "2023-09-09 13:15:38",
            "2023-09-09 13:16:38",
            "2023-09-09 13:15:33",
            "2023-09-09 13:16:18"
           ],
           "type": "scatter",
           "x": [
            2.7732145459661828,
            7.955858376480022,
            12.049839569512823,
            7.313585549468086,
            -2.9529063347662494,
            5.380150596647081,
            8.805911336766856,
            -0.018164069688945517,
            -2.8846866467319123,
            0.16751715763101957,
            0.9243646335745327,
            0.6665598266834138,
            -1.1881145786424745,
            0.13977055187811624,
            1.7816401364334373,
            -1.0336304556735674,
            -0.12971653658369425,
            -2.5766317263718705,
            -0.414974513607573,
            -0.6409476674231213,
            null
           ],
           "y": [
            -14.294614274786923,
            -24.6566298921489,
            62.141569320982676,
            -23.110915560251623,
            -6.157689410516123,
            49.808037897918375,
            -27.40995909509806,
            -5.883484284262865,
            22.587455686278346,
            17.08173882592794,
            -8.17728966372461,
            -1.4698901560981477,
            -1.982519719333509,
            -8.255795366402394,
            37.37184117537889,
            -9.264542666341878,
            8.779938209975892,
            -2.193375708647734,
            0.008967925780332398,
            2.1239614579283033,
            null
           ]
          },
          {
           "hovertemplate": "Clutter<br>(%{x}, %{y})<br>Time: %{meta}",
           "meta": [
            "2023-09-09 13:15:28",
            "2023-09-09 13:16:03",
            "2023-09-09 13:16:38",
            "2023-09-09 13:16:03",
            "2023-09-09 13:15:43",
            "2023-09-09 13:16:38",
            "2023-09-09 13:16:33",
            "2023-09-09 13:15:48",
            "2023-09-09 13:16:13",
            "2023-09-09 13:16:33",
            "2023-09-09 13:15:18",
            "2023-09-09 13:15:43",
            "2023-09-09 13:16:18",
            "2023-09-09 13:16:38",
            "2023-09-09 13:15:33",
            "2023-09-09 13:16:03",
            "2023-09-09 13:15:28"
           ],
           "type": "scatter",
           "x": [
            -18.91585115541183,
            -84.02178018015387,
            -69.30037992904099,
            26.569796360324546,
            97.44023897962586,
            31.05604938147465,
            27.249469348084475,
            -63.30490533094144,
            -74.10387516381311,
            -9.696137469284949,
            35.13802684242958,
            77.73222141398784,
            -32.27050379816403,
            88.11197785624702,
            82.91502473574982,
            -28.50548968800004,
            -2.866737544372782,
            null
           ],
           "y": [
            21.311429176712025,
            -47.81776950261685,
            32.7254450759319,
            9.239636892370754,
            58.10543563898801,
            64.77351544544777,
            0.981857763760388,
            -36.48876688177134,
            78.06453587255322,
            -39.651026722888915,
            -62.08572070126384,
            -71.16870400917821,
            -77.98535848550767,
            70.66413560338566,
            73.95603534960517,
            -18.796880795797463,
            53.465669126499506,
            null
           ]
          },
          {
           "type": "scatter",
           "x": [
            null,
            null
           ],
           "y": [
            null,
            null
           ]
          },
          {
           "customdata": [
            "2023-09-09 13:15:28",
            "2023-09-09 13:15:33",
            "2023-09-09 13:15:38",
            "2023-09-09 13:15:43",
            "2023-09-09 13:15:48",
            "2023-09-09 13:15:53"
           ],
           "hovertemplate": "%{meta}<br>(%{x}, %{y})<br>Time: %{customdata}",
           "meta": [
            "GaussianStateUpdate",
            "GaussianStateUpdate",
            "GaussianStateUpdate",
            "GaussianStateUpdate",
            "GaussianStateUpdate",
            "GaussianStatePrediction"
           ],
           "type": "scatter",
           "x": [
            -2.9529063347662494,
            -0.4570396819140701,
            -0.02806757808280036,
            0.1681844478662966,
            -2.741119687445037,
            -5.960470353104115,
            null
           ],
           "y": [
            -6.157689410516123,
            -0.09324186432402826,
            8.670193621099402,
            17.107680131365257,
            22.715727017919114,
            28.04675973968289,
            null
           ]
          },
          {
           "customdata": [
            "2023-09-09 13:16:18",
            "2023-09-09 13:16:23",
            "2023-09-09 13:16:28",
            "2023-09-09 13:16:33",
            "2023-09-09 13:16:38"
           ],
           "hovertemplate": "%{meta}<br>(%{x}, %{y})<br>Time: %{customdata}",
           "meta": [
            "GaussianStateUpdate",
            "GaussianStateUpdate",
            "GaussianStateUpdate",
            "GaussianStateUpdate",
            "GaussianStateUpdate"
           ],
           "type": "scatter",
           "x": [
            -0.6409476674231213,
            -1.1790455138156344,
            -0.0944619784559324,
            0.18454876674422893,
            -0.971721663784967,
            null
           ],
           "y": [
            2.1239614579283033,
            -1.914456495400993,
            -5.896066971195974,
            -8.326211433457786,
            -9.323765564169328,
            null
           ]
          },
          {
           "customdata": [
            "2023-09-09 13:16:03",
            "2023-09-09 13:16:08",
            "2023-09-09 13:16:13",
            "2023-09-09 13:16:18"
           ],
           "hovertemplate": "%{meta}<br>(%{x}, %{y})<br>Time: %{customdata}",
           "meta": [
            "GaussianStateUpdate",
            "GaussianStateUpdate",
            "GaussianStateUpdate",
            "GaussianStatePrediction"
           ],
           "type": "scatter",
           "x": [
            7.313585549468086,
            7.945212970507449,
            8.797283904712314,
            9.667880779572053,
            null
           ],
           "y": [
            -23.110915560251623,
            -24.631010317587066,
            -27.35794885786192,
            -30.19657052266226,
            null
           ]
          },
          {
           "customdata": [
            "2023-09-09 13:15:43",
            "2023-09-09 13:15:48",
            "2023-09-09 13:15:53",
            "2023-09-09 13:15:58"
           ],
           "hovertemplate": "%{meta}<br>(%{x}, %{y})<br>Time: %{customdata}",
           "meta": [
            "GaussianStateUpdate",
            "GaussianStateUpdate",
            "GaussianStateUpdate",
            "GaussianStatePrediction"
           ],
           "type": "scatter",
           "x": [
            0.6665598266834138,
            0.9200916257255086,
            2.7031716008986244,
            4.636656868795079,
            null
           ],
           "y": [
            -1.4698901560981477,
            -8.06611729619489,
            -14.326400734633976,
            -20.518428165372026,
            null
           ]
          }
         ],
         "name": "2023-09-09 13:16:38",
         "traces": [
          0,
          1,
          2,
          3,
          4,
          5,
          6,
          7,
          8,
          9,
          10,
          11,
          12,
          13
         ]
        },
        {
         "data": [
          {
           "type": "scatter",
           "x": [
            0,
            0
           ],
           "y": [
            0,
            0
           ]
          },
          {
           "hovertemplate": "GroundTruthState<br>(%{x}, %{y})<br>Time: %{meta}",
           "meta": [
            "2023-09-09 13:15:43",
            "2023-09-09 13:15:48",
            "2023-09-09 13:15:53",
            "2023-09-09 13:15:58",
            "2023-09-09 13:16:03",
            "2023-09-09 13:16:08",
            "2023-09-09 13:16:13"
           ],
           "type": "scatter",
           "x": [
            0.2937944603447359,
            1.276816736466913,
            2.433540299360508,
            4.506513407145024,
            6.870327674964499,
            7.741593494564171,
            8.815682511230099,
            null
           ],
           "y": [
            -1.5124423615079887,
            -8.002708575847954,
            -14.530938442143638,
            -20.053656362306967,
            -22.883128714113507,
            -25.354251242120537,
            -26.977952464456358,
            null
           ]
          },
          {
           "hovertemplate": "GroundTruthState<br>(%{x}, %{y})<br>Time: %{meta}",
           "meta": [
            "2023-09-09 13:16:18",
            "2023-09-09 13:16:23",
            "2023-09-09 13:16:28",
            "2023-09-09 13:16:33",
            "2023-09-09 13:16:38",
            "2023-09-09 13:16:43"
           ],
           "type": "scatter",
           "x": [
            0.32205190919322113,
            -0.5924433860858392,
            -0.32259915283820395,
            -0.09191116064916804,
            -0.4602412044654328,
            -5.533090399607735,
            null
           ],
           "y": [
            1.6040529425573238,
            -2.0954769968956706,
            -5.966808132355531,
            -8.150774433035675,
            -8.807399107117854,
            -7.279686013575756,
            null
           ]
          },
          {
           "hovertemplate": "GroundTruthState<br>(%{x}, %{y})<br>Time: %{meta}",
           "meta": [],
           "type": "scatter",
           "x": [
            null
           ],
           "y": [
            null
           ]
          },
          {
           "hovertemplate": "GroundTruthState<br>(%{x}, %{y})<br>Time: %{meta}",
           "meta": [
            "2023-09-09 13:16:38",
            "2023-09-09 13:16:43"
           ],
           "type": "scatter",
           "x": [
            -3.0202951270512717,
            -7.89645420225457,
            null
           ],
           "y": [
            -3.0909730221854215,
            -0.8745092562232772,
            null
           ]
          },
          {
           "hovertemplate": "GroundTruthState<br>(%{x}, %{y})<br>Time: %{meta}",
           "meta": [
            "2023-09-09 13:15:28",
            "2023-09-09 13:15:33",
            "2023-09-09 13:15:38",
            "2023-09-09 13:15:43",
            "2023-09-09 13:15:48",
            "2023-09-09 13:15:53",
            "2023-09-09 13:15:58",
            "2023-09-09 13:16:03",
            "2023-09-09 13:16:08"
           ],
           "type": "scatter",
           "x": [
            -2.9503352638213713,
            -0.9385851092464608,
            0.01009809649314719,
            0.30799302457095024,
            -2.4030313613021077,
            -0.5914365921869056,
            1.2764708399624658,
            6.055704751357165,
            11.94061529832056,
            null
           ],
           "y": [
            -5.6677773232862885,
            0.49974518663368006,
            9.099937466353685,
            17.701365469919434,
            22.501291361664848,
            28.553863289383393,
            37.9847878483823,
            49.35854659835166,
            61.05308109551309,
            null
           ]
          },
          {
           "type": "scatter",
           "x": [
            null,
            null
           ],
           "y": [
            null,
            null
           ]
          },
          {
           "hovertemplate": "Detection<br>(%{x}, %{y})<br>Time: %{meta}",
           "meta": [
            "2023-09-09 13:15:53",
            "2023-09-09 13:16:08",
            "2023-09-09 13:16:08",
            "2023-09-09 13:16:03",
            "2023-09-09 13:16:43",
            "2023-09-09 13:15:28",
            "2023-09-09 13:16:03",
            "2023-09-09 13:16:13",
            "2023-09-09 13:16:43",
            "2023-09-09 13:16:28",
            "2023-09-09 13:15:48",
            "2023-09-09 13:15:43",
            "2023-09-09 13:15:48",
            "2023-09-09 13:15:43",
            "2023-09-09 13:16:23",
            "2023-09-09 13:16:33",
            "2023-09-09 13:15:58",
            "2023-09-09 13:16:38",
            "2023-09-09 13:15:38",
            "2023-09-09 13:16:38",
            "2023-09-09 13:15:33",
            "2023-09-09 13:16:18"
           ],
           "type": "scatter",
           "x": [
            2.7732145459661828,
            7.955858376480022,
            12.049839569512823,
            7.313585549468086,
            -6.430356330345894,
            -2.9529063347662494,
            5.380150596647081,
            8.805911336766856,
            -8.175065577213221,
            -0.018164069688945517,
            -2.8846866467319123,
            0.16751715763101957,
            0.9243646335745327,
            0.6665598266834138,
            -1.1881145786424745,
            0.13977055187811624,
            1.7816401364334373,
            -1.0336304556735674,
            -0.12971653658369425,
            -2.5766317263718705,
            -0.414974513607573,
            -0.6409476674231213,
            null
           ],
           "y": [
            -14.294614274786923,
            -24.6566298921489,
            62.141569320982676,
            -23.110915560251623,
            -8.217117699146277,
            -6.157689410516123,
            49.808037897918375,
            -27.40995909509806,
            -1.2015047088676567,
            -5.883484284262865,
            22.587455686278346,
            17.08173882592794,
            -8.17728966372461,
            -1.4698901560981477,
            -1.982519719333509,
            -8.255795366402394,
            37.37184117537889,
            -9.264542666341878,
            8.779938209975892,
            -2.193375708647734,
            0.008967925780332398,
            2.1239614579283033,
            null
           ]
          },
          {
           "hovertemplate": "Clutter<br>(%{x}, %{y})<br>Time: %{meta}",
           "meta": [
            "2023-09-09 13:15:28",
            "2023-09-09 13:16:03",
            "2023-09-09 13:16:38",
            "2023-09-09 13:16:03",
            "2023-09-09 13:16:43",
            "2023-09-09 13:15:43",
            "2023-09-09 13:16:38",
            "2023-09-09 13:16:33",
            "2023-09-09 13:15:48",
            "2023-09-09 13:16:13",
            "2023-09-09 13:16:33",
            "2023-09-09 13:15:18",
            "2023-09-09 13:15:43",
            "2023-09-09 13:16:18",
            "2023-09-09 13:16:38",
            "2023-09-09 13:15:33",
            "2023-09-09 13:16:03",
            "2023-09-09 13:15:28"
           ],
           "type": "scatter",
           "x": [
            -18.91585115541183,
            -84.02178018015387,
            -69.30037992904099,
            26.569796360324546,
            -77.65856338945994,
            97.44023897962586,
            31.05604938147465,
            27.249469348084475,
            -63.30490533094144,
            -74.10387516381311,
            -9.696137469284949,
            35.13802684242958,
            77.73222141398784,
            -32.27050379816403,
            88.11197785624702,
            82.91502473574982,
            -28.50548968800004,
            -2.866737544372782,
            null
           ],
           "y": [
            21.311429176712025,
            -47.81776950261685,
            32.7254450759319,
            9.239636892370754,
            57.87319484526975,
            58.10543563898801,
            64.77351544544777,
            0.981857763760388,
            -36.48876688177134,
            78.06453587255322,
            -39.651026722888915,
            -62.08572070126384,
            -71.16870400917821,
            -77.98535848550767,
            70.66413560338566,
            73.95603534960517,
            -18.796880795797463,
            53.465669126499506,
            null
           ]
          },
          {
           "type": "scatter",
           "x": [
            null,
            null
           ],
           "y": [
            null,
            null
           ]
          },
          {
           "customdata": [
            "2023-09-09 13:15:28",
            "2023-09-09 13:15:33",
            "2023-09-09 13:15:38",
            "2023-09-09 13:15:43",
            "2023-09-09 13:15:48",
            "2023-09-09 13:15:53"
           ],
           "hovertemplate": "%{meta}<br>(%{x}, %{y})<br>Time: %{customdata}",
           "meta": [
            "GaussianStateUpdate",
            "GaussianStateUpdate",
            "GaussianStateUpdate",
            "GaussianStateUpdate",
            "GaussianStateUpdate",
            "GaussianStatePrediction"
           ],
           "type": "scatter",
           "x": [
            -2.9529063347662494,
            -0.4570396819140701,
            -0.02806757808280036,
            0.1681844478662966,
            -2.741119687445037,
            -5.960470353104115,
            null
           ],
           "y": [
            -6.157689410516123,
            -0.09324186432402826,
            8.670193621099402,
            17.107680131365257,
            22.715727017919114,
            28.04675973968289,
            null
           ]
          },
          {
           "customdata": [
            "2023-09-09 13:16:18",
            "2023-09-09 13:16:23",
            "2023-09-09 13:16:28",
            "2023-09-09 13:16:33",
            "2023-09-09 13:16:38",
            "2023-09-09 13:16:43"
           ],
           "hovertemplate": "%{meta}<br>(%{x}, %{y})<br>Time: %{customdata}",
           "meta": [
            "GaussianStateUpdate",
            "GaussianStateUpdate",
            "GaussianStateUpdate",
            "GaussianStateUpdate",
            "GaussianStateUpdate",
            "GaussianStateUpdate"
           ],
           "type": "scatter",
           "x": [
            -0.6409476674231213,
            -1.1790455138156344,
            -0.0944619784559324,
            0.18454876674422893,
            -0.971721663784967,
            -6.2460764739506125,
            null
           ],
           "y": [
            2.1239614579283033,
            -1.914456495400993,
            -5.896066971195974,
            -8.326211433457786,
            -9.323765564169328,
            -8.304482118356578,
            null
           ]
          },
          {
           "customdata": [
            "2023-09-09 13:16:03",
            "2023-09-09 13:16:08",
            "2023-09-09 13:16:13",
            "2023-09-09 13:16:18"
           ],
           "hovertemplate": "%{meta}<br>(%{x}, %{y})<br>Time: %{customdata}",
           "meta": [
            "GaussianStateUpdate",
            "GaussianStateUpdate",
            "GaussianStateUpdate",
            "GaussianStatePrediction"
           ],
           "type": "scatter",
           "x": [
            7.313585549468086,
            7.945212970507449,
            8.797283904712314,
            9.667880779572053,
            null
           ],
           "y": [
            -23.110915560251623,
            -24.631010317587066,
            -27.35794885786192,
            -30.19657052266226,
            null
           ]
          },
          {
           "customdata": [
            "2023-09-09 13:15:43",
            "2023-09-09 13:15:48",
            "2023-09-09 13:15:53",
            "2023-09-09 13:15:58"
           ],
           "hovertemplate": "%{meta}<br>(%{x}, %{y})<br>Time: %{customdata}",
           "meta": [
            "GaussianStateUpdate",
            "GaussianStateUpdate",
            "GaussianStateUpdate",
            "GaussianStatePrediction"
           ],
           "type": "scatter",
           "x": [
            0.6665598266834138,
            0.9200916257255086,
            2.7031716008986244,
            4.636656868795079,
            null
           ],
           "y": [
            -1.4698901560981477,
            -8.06611729619489,
            -14.326400734633976,
            -20.518428165372026,
            null
           ]
          }
         ],
         "name": "2023-09-09 13:16:43",
         "traces": [
          0,
          1,
          2,
          3,
          4,
          5,
          6,
          7,
          8,
          9,
          10,
          11,
          12,
          13
         ]
        },
        {
         "data": [
          {
           "type": "scatter",
           "x": [
            0,
            0
           ],
           "y": [
            0,
            0
           ]
          },
          {
           "hovertemplate": "GroundTruthState<br>(%{x}, %{y})<br>Time: %{meta}",
           "meta": [
            "2023-09-09 13:15:43",
            "2023-09-09 13:15:48",
            "2023-09-09 13:15:53",
            "2023-09-09 13:15:58",
            "2023-09-09 13:16:03",
            "2023-09-09 13:16:08",
            "2023-09-09 13:16:13"
           ],
           "type": "scatter",
           "x": [
            0.2937944603447359,
            1.276816736466913,
            2.433540299360508,
            4.506513407145024,
            6.870327674964499,
            7.741593494564171,
            8.815682511230099,
            null
           ],
           "y": [
            -1.5124423615079887,
            -8.002708575847954,
            -14.530938442143638,
            -20.053656362306967,
            -22.883128714113507,
            -25.354251242120537,
            -26.977952464456358,
            null
           ]
          },
          {
           "hovertemplate": "GroundTruthState<br>(%{x}, %{y})<br>Time: %{meta}",
           "meta": [
            "2023-09-09 13:16:18",
            "2023-09-09 13:16:23",
            "2023-09-09 13:16:28",
            "2023-09-09 13:16:33",
            "2023-09-09 13:16:38",
            "2023-09-09 13:16:43",
            "2023-09-09 13:16:48"
           ],
           "type": "scatter",
           "x": [
            0.32205190919322113,
            -0.5924433860858392,
            -0.32259915283820395,
            -0.09191116064916804,
            -0.4602412044654328,
            -5.533090399607735,
            -11.966024949856669,
            null
           ],
           "y": [
            1.6040529425573238,
            -2.0954769968956706,
            -5.966808132355531,
            -8.150774433035675,
            -8.807399107117854,
            -7.279686013575756,
            -6.246011017733866,
            null
           ]
          },
          {
           "hovertemplate": "GroundTruthState<br>(%{x}, %{y})<br>Time: %{meta}",
           "meta": [
            "2023-09-09 13:16:48"
           ],
           "type": "scatter",
           "x": [
            2.1254170920615434,
            null
           ],
           "y": [
            4.066656111804975,
            null
           ]
          },
          {
           "hovertemplate": "GroundTruthState<br>(%{x}, %{y})<br>Time: %{meta}",
           "meta": [
            "2023-09-09 13:16:38",
            "2023-09-09 13:16:43",
            "2023-09-09 13:16:48"
           ],
           "type": "scatter",
           "x": [
            -3.0202951270512717,
            -7.89645420225457,
            -12.450036616664516,
            null
           ],
           "y": [
            -3.0909730221854215,
            -0.8745092562232772,
            2.1953610464860778,
            null
           ]
          },
          {
           "hovertemplate": "GroundTruthState<br>(%{x}, %{y})<br>Time: %{meta}",
           "meta": [
            "2023-09-09 13:15:28",
            "2023-09-09 13:15:33",
            "2023-09-09 13:15:38",
            "2023-09-09 13:15:43",
            "2023-09-09 13:15:48",
            "2023-09-09 13:15:53",
            "2023-09-09 13:15:58",
            "2023-09-09 13:16:03",
            "2023-09-09 13:16:08"
           ],
           "type": "scatter",
           "x": [
            -2.9503352638213713,
            -0.9385851092464608,
            0.01009809649314719,
            0.30799302457095024,
            -2.4030313613021077,
            -0.5914365921869056,
            1.2764708399624658,
            6.055704751357165,
            11.94061529832056,
            null
           ],
           "y": [
            -5.6677773232862885,
            0.49974518663368006,
            9.099937466353685,
            17.701365469919434,
            22.501291361664848,
            28.553863289383393,
            37.9847878483823,
            49.35854659835166,
            61.05308109551309,
            null
           ]
          },
          {
           "type": "scatter",
           "x": [
            null,
            null
           ],
           "y": [
            null,
            null
           ]
          },
          {
           "hovertemplate": "Detection<br>(%{x}, %{y})<br>Time: %{meta}",
           "meta": [
            "2023-09-09 13:15:53",
            "2023-09-09 13:16:08",
            "2023-09-09 13:16:08",
            "2023-09-09 13:16:03",
            "2023-09-09 13:16:43",
            "2023-09-09 13:15:28",
            "2023-09-09 13:16:03",
            "2023-09-09 13:16:13",
            "2023-09-09 13:16:43",
            "2023-09-09 13:16:28",
            "2023-09-09 13:15:48",
            "2023-09-09 13:15:43",
            "2023-09-09 13:15:48",
            "2023-09-09 13:15:43",
            "2023-09-09 13:16:23",
            "2023-09-09 13:16:33",
            "2023-09-09 13:15:58",
            "2023-09-09 13:16:38",
            "2023-09-09 13:16:48",
            "2023-09-09 13:15:38",
            "2023-09-09 13:16:38",
            "2023-09-09 13:15:33",
            "2023-09-09 13:16:18"
           ],
           "type": "scatter",
           "x": [
            2.7732145459661828,
            7.955858376480022,
            12.049839569512823,
            7.313585549468086,
            -6.430356330345894,
            -2.9529063347662494,
            5.380150596647081,
            8.805911336766856,
            -8.175065577213221,
            -0.018164069688945517,
            -2.8846866467319123,
            0.16751715763101957,
            0.9243646335745327,
            0.6665598266834138,
            -1.1881145786424745,
            0.13977055187811624,
            1.7816401364334373,
            -1.0336304556735674,
            2.428056878335161,
            -0.12971653658369425,
            -2.5766317263718705,
            -0.414974513607573,
            -0.6409476674231213,
            null
           ],
           "y": [
            -14.294614274786923,
            -24.6566298921489,
            62.141569320982676,
            -23.110915560251623,
            -8.217117699146277,
            -6.157689410516123,
            49.808037897918375,
            -27.40995909509806,
            -1.2015047088676567,
            -5.883484284262865,
            22.587455686278346,
            17.08173882592794,
            -8.17728966372461,
            -1.4698901560981477,
            -1.982519719333509,
            -8.255795366402394,
            37.37184117537889,
            -9.264542666341878,
            5.395917673911123,
            8.779938209975892,
            -2.193375708647734,
            0.008967925780332398,
            2.1239614579283033,
            null
           ]
          },
          {
           "hovertemplate": "Clutter<br>(%{x}, %{y})<br>Time: %{meta}",
           "meta": [
            "2023-09-09 13:15:28",
            "2023-09-09 13:16:03",
            "2023-09-09 13:16:38",
            "2023-09-09 13:16:03",
            "2023-09-09 13:16:43",
            "2023-09-09 13:15:43",
            "2023-09-09 13:16:38",
            "2023-09-09 13:16:33",
            "2023-09-09 13:15:48",
            "2023-09-09 13:16:13",
            "2023-09-09 13:16:33",
            "2023-09-09 13:15:18",
            "2023-09-09 13:15:43",
            "2023-09-09 13:16:18",
            "2023-09-09 13:16:38",
            "2023-09-09 13:15:33",
            "2023-09-09 13:16:03",
            "2023-09-09 13:15:28"
           ],
           "type": "scatter",
           "x": [
            -18.91585115541183,
            -84.02178018015387,
            -69.30037992904099,
            26.569796360324546,
            -77.65856338945994,
            97.44023897962586,
            31.05604938147465,
            27.249469348084475,
            -63.30490533094144,
            -74.10387516381311,
            -9.696137469284949,
            35.13802684242958,
            77.73222141398784,
            -32.27050379816403,
            88.11197785624702,
            82.91502473574982,
            -28.50548968800004,
            -2.866737544372782,
            null
           ],
           "y": [
            21.311429176712025,
            -47.81776950261685,
            32.7254450759319,
            9.239636892370754,
            57.87319484526975,
            58.10543563898801,
            64.77351544544777,
            0.981857763760388,
            -36.48876688177134,
            78.06453587255322,
            -39.651026722888915,
            -62.08572070126384,
            -71.16870400917821,
            -77.98535848550767,
            70.66413560338566,
            73.95603534960517,
            -18.796880795797463,
            53.465669126499506,
            null
           ]
          },
          {
           "type": "scatter",
           "x": [
            null,
            null
           ],
           "y": [
            null,
            null
           ]
          },
          {
           "customdata": [
            "2023-09-09 13:15:28",
            "2023-09-09 13:15:33",
            "2023-09-09 13:15:38",
            "2023-09-09 13:15:43",
            "2023-09-09 13:15:48",
            "2023-09-09 13:15:53"
           ],
           "hovertemplate": "%{meta}<br>(%{x}, %{y})<br>Time: %{customdata}",
           "meta": [
            "GaussianStateUpdate",
            "GaussianStateUpdate",
            "GaussianStateUpdate",
            "GaussianStateUpdate",
            "GaussianStateUpdate",
            "GaussianStatePrediction"
           ],
           "type": "scatter",
           "x": [
            -2.9529063347662494,
            -0.4570396819140701,
            -0.02806757808280036,
            0.1681844478662966,
            -2.741119687445037,
            -5.960470353104115,
            null
           ],
           "y": [
            -6.157689410516123,
            -0.09324186432402826,
            8.670193621099402,
            17.107680131365257,
            22.715727017919114,
            28.04675973968289,
            null
           ]
          },
          {
           "customdata": [
            "2023-09-09 13:16:18",
            "2023-09-09 13:16:23",
            "2023-09-09 13:16:28",
            "2023-09-09 13:16:33",
            "2023-09-09 13:16:38",
            "2023-09-09 13:16:43",
            "2023-09-09 13:16:48"
           ],
           "hovertemplate": "%{meta}<br>(%{x}, %{y})<br>Time: %{customdata}",
           "meta": [
            "GaussianStateUpdate",
            "GaussianStateUpdate",
            "GaussianStateUpdate",
            "GaussianStateUpdate",
            "GaussianStateUpdate",
            "GaussianStateUpdate",
            "GaussianStatePrediction"
           ],
           "type": "scatter",
           "x": [
            -0.6409476674231213,
            -1.1790455138156344,
            -0.0944619784559324,
            0.18454876674422893,
            -0.971721663784967,
            -6.2460764739506125,
            -11.918404199571214,
            null
           ],
           "y": [
            2.1239614579283033,
            -1.914456495400993,
            -5.896066971195974,
            -8.326211433457786,
            -9.323765564169328,
            -8.304482118356578,
            -7.096525459419691,
            null
           ]
          },
          {
           "customdata": [
            "2023-09-09 13:16:03",
            "2023-09-09 13:16:08",
            "2023-09-09 13:16:13",
            "2023-09-09 13:16:18"
           ],
           "hovertemplate": "%{meta}<br>(%{x}, %{y})<br>Time: %{customdata}",
           "meta": [
            "GaussianStateUpdate",
            "GaussianStateUpdate",
            "GaussianStateUpdate",
            "GaussianStatePrediction"
           ],
           "type": "scatter",
           "x": [
            7.313585549468086,
            7.945212970507449,
            8.797283904712314,
            9.667880779572053,
            null
           ],
           "y": [
            -23.110915560251623,
            -24.631010317587066,
            -27.35794885786192,
            -30.19657052266226,
            null
           ]
          },
          {
           "customdata": [
            "2023-09-09 13:15:43",
            "2023-09-09 13:15:48",
            "2023-09-09 13:15:53",
            "2023-09-09 13:15:58"
           ],
           "hovertemplate": "%{meta}<br>(%{x}, %{y})<br>Time: %{customdata}",
           "meta": [
            "GaussianStateUpdate",
            "GaussianStateUpdate",
            "GaussianStateUpdate",
            "GaussianStatePrediction"
           ],
           "type": "scatter",
           "x": [
            0.6665598266834138,
            0.9200916257255086,
            2.7031716008986244,
            4.636656868795079,
            null
           ],
           "y": [
            -1.4698901560981477,
            -8.06611729619489,
            -14.326400734633976,
            -20.518428165372026,
            null
           ]
          }
         ],
         "name": "2023-09-09 13:16:48",
         "traces": [
          0,
          1,
          2,
          3,
          4,
          5,
          6,
          7,
          8,
          9,
          10,
          11,
          12,
          13
         ]
        }
       ],
       "layout": {
        "autosize": true,
        "colorway": [
         "#EF553B",
         "#00CC96",
         "#AB63FA",
         "#FFA15A",
         "#19D3F3",
         "#FF6692",
         "#B6E880",
         "#FF97FF",
         "#FECB52"
        ],
        "height": 550,
        "sliders": [
         {
          "currentvalue": {
           "font": {
            "size": 16
           },
           "prefix": "Time: ",
           "visible": true,
           "xanchor": "right"
          },
          "len": 0.9,
          "pad": {
           "b": 10,
           "t": 50
          },
          "steps": [
           {
            "args": [
             [
              "2023-09-09 13:15:13"
             ],
             {
              "frame": {
               "duration": 1,
               "easing": "linear",
               "redraw": true
              },
              "transition": {
               "duration": 0,
               "easing": "linear"
              }
             }
            ],
            "label": "13:15:13",
            "method": "animate"
           },
           {
            "args": [
             [
              "2023-09-09 13:15:18"
             ],
             {
              "frame": {
               "duration": 1,
               "easing": "linear",
               "redraw": true
              },
              "transition": {
               "duration": 0,
               "easing": "linear"
              }
             }
            ],
            "label": "13:15:18",
            "method": "animate"
           },
           {
            "args": [
             [
              "2023-09-09 13:15:23"
             ],
             {
              "frame": {
               "duration": 1,
               "easing": "linear",
               "redraw": true
              },
              "transition": {
               "duration": 0,
               "easing": "linear"
              }
             }
            ],
            "label": "13:15:23",
            "method": "animate"
           },
           {
            "args": [
             [
              "2023-09-09 13:15:28"
             ],
             {
              "frame": {
               "duration": 1,
               "easing": "linear",
               "redraw": true
              },
              "transition": {
               "duration": 0,
               "easing": "linear"
              }
             }
            ],
            "label": "13:15:28",
            "method": "animate"
           },
           {
            "args": [
             [
              "2023-09-09 13:15:33"
             ],
             {
              "frame": {
               "duration": 1,
               "easing": "linear",
               "redraw": true
              },
              "transition": {
               "duration": 0,
               "easing": "linear"
              }
             }
            ],
            "label": "13:15:33",
            "method": "animate"
           },
           {
            "args": [
             [
              "2023-09-09 13:15:38"
             ],
             {
              "frame": {
               "duration": 1,
               "easing": "linear",
               "redraw": true
              },
              "transition": {
               "duration": 0,
               "easing": "linear"
              }
             }
            ],
            "label": "13:15:38",
            "method": "animate"
           },
           {
            "args": [
             [
              "2023-09-09 13:15:43"
             ],
             {
              "frame": {
               "duration": 1,
               "easing": "linear",
               "redraw": true
              },
              "transition": {
               "duration": 0,
               "easing": "linear"
              }
             }
            ],
            "label": "13:15:43",
            "method": "animate"
           },
           {
            "args": [
             [
              "2023-09-09 13:15:48"
             ],
             {
              "frame": {
               "duration": 1,
               "easing": "linear",
               "redraw": true
              },
              "transition": {
               "duration": 0,
               "easing": "linear"
              }
             }
            ],
            "label": "13:15:48",
            "method": "animate"
           },
           {
            "args": [
             [
              "2023-09-09 13:15:53"
             ],
             {
              "frame": {
               "duration": 1,
               "easing": "linear",
               "redraw": true
              },
              "transition": {
               "duration": 0,
               "easing": "linear"
              }
             }
            ],
            "label": "13:15:53",
            "method": "animate"
           },
           {
            "args": [
             [
              "2023-09-09 13:15:58"
             ],
             {
              "frame": {
               "duration": 1,
               "easing": "linear",
               "redraw": true
              },
              "transition": {
               "duration": 0,
               "easing": "linear"
              }
             }
            ],
            "label": "13:15:58",
            "method": "animate"
           },
           {
            "args": [
             [
              "2023-09-09 13:16:03"
             ],
             {
              "frame": {
               "duration": 1,
               "easing": "linear",
               "redraw": true
              },
              "transition": {
               "duration": 0,
               "easing": "linear"
              }
             }
            ],
            "label": "13:16:03",
            "method": "animate"
           },
           {
            "args": [
             [
              "2023-09-09 13:16:08"
             ],
             {
              "frame": {
               "duration": 1,
               "easing": "linear",
               "redraw": true
              },
              "transition": {
               "duration": 0,
               "easing": "linear"
              }
             }
            ],
            "label": "13:16:08",
            "method": "animate"
           },
           {
            "args": [
             [
              "2023-09-09 13:16:13"
             ],
             {
              "frame": {
               "duration": 1,
               "easing": "linear",
               "redraw": true
              },
              "transition": {
               "duration": 0,
               "easing": "linear"
              }
             }
            ],
            "label": "13:16:13",
            "method": "animate"
           },
           {
            "args": [
             [
              "2023-09-09 13:16:18"
             ],
             {
              "frame": {
               "duration": 1,
               "easing": "linear",
               "redraw": true
              },
              "transition": {
               "duration": 0,
               "easing": "linear"
              }
             }
            ],
            "label": "13:16:18",
            "method": "animate"
           },
           {
            "args": [
             [
              "2023-09-09 13:16:23"
             ],
             {
              "frame": {
               "duration": 1,
               "easing": "linear",
               "redraw": true
              },
              "transition": {
               "duration": 0,
               "easing": "linear"
              }
             }
            ],
            "label": "13:16:23",
            "method": "animate"
           },
           {
            "args": [
             [
              "2023-09-09 13:16:28"
             ],
             {
              "frame": {
               "duration": 1,
               "easing": "linear",
               "redraw": true
              },
              "transition": {
               "duration": 0,
               "easing": "linear"
              }
             }
            ],
            "label": "13:16:28",
            "method": "animate"
           },
           {
            "args": [
             [
              "2023-09-09 13:16:33"
             ],
             {
              "frame": {
               "duration": 1,
               "easing": "linear",
               "redraw": true
              },
              "transition": {
               "duration": 0,
               "easing": "linear"
              }
             }
            ],
            "label": "13:16:33",
            "method": "animate"
           },
           {
            "args": [
             [
              "2023-09-09 13:16:38"
             ],
             {
              "frame": {
               "duration": 1,
               "easing": "linear",
               "redraw": true
              },
              "transition": {
               "duration": 0,
               "easing": "linear"
              }
             }
            ],
            "label": "13:16:38",
            "method": "animate"
           },
           {
            "args": [
             [
              "2023-09-09 13:16:43"
             ],
             {
              "frame": {
               "duration": 1,
               "easing": "linear",
               "redraw": true
              },
              "transition": {
               "duration": 0,
               "easing": "linear"
              }
             }
            ],
            "label": "13:16:43",
            "method": "animate"
           },
           {
            "args": [
             [
              "2023-09-09 13:16:48"
             ],
             {
              "frame": {
               "duration": 1,
               "easing": "linear",
               "redraw": true
              },
              "transition": {
               "duration": 0,
               "easing": "linear"
              }
             }
            ],
            "label": "13:16:48",
            "method": "animate"
           }
          ],
          "transition": {
           "duration": 300,
           "easing": "linear"
          },
          "x": 0.1,
          "xanchor": "left",
          "y": 0,
          "yanchor": "top"
         }
        ],
        "template": {
         "data": {
          "bar": [
           {
            "error_x": {
             "color": "#2a3f5f"
            },
            "error_y": {
             "color": "#2a3f5f"
            },
            "marker": {
             "line": {
              "color": "#E5ECF6",
              "width": 0.5
             },
             "pattern": {
              "fillmode": "overlay",
              "size": 10,
              "solidity": 0.2
             }
            },
            "type": "bar"
           }
          ],
          "barpolar": [
           {
            "marker": {
             "line": {
              "color": "#E5ECF6",
              "width": 0.5
             },
             "pattern": {
              "fillmode": "overlay",
              "size": 10,
              "solidity": 0.2
             }
            },
            "type": "barpolar"
           }
          ],
          "carpet": [
           {
            "aaxis": {
             "endlinecolor": "#2a3f5f",
             "gridcolor": "white",
             "linecolor": "white",
             "minorgridcolor": "white",
             "startlinecolor": "#2a3f5f"
            },
            "baxis": {
             "endlinecolor": "#2a3f5f",
             "gridcolor": "white",
             "linecolor": "white",
             "minorgridcolor": "white",
             "startlinecolor": "#2a3f5f"
            },
            "type": "carpet"
           }
          ],
          "choropleth": [
           {
            "colorbar": {
             "outlinewidth": 0,
             "ticks": ""
            },
            "type": "choropleth"
           }
          ],
          "contour": [
           {
            "colorbar": {
             "outlinewidth": 0,
             "ticks": ""
            },
            "colorscale": [
             [
              0,
              "#0d0887"
             ],
             [
              0.1111111111111111,
              "#46039f"
             ],
             [
              0.2222222222222222,
              "#7201a8"
             ],
             [
              0.3333333333333333,
              "#9c179e"
             ],
             [
              0.4444444444444444,
              "#bd3786"
             ],
             [
              0.5555555555555556,
              "#d8576b"
             ],
             [
              0.6666666666666666,
              "#ed7953"
             ],
             [
              0.7777777777777778,
              "#fb9f3a"
             ],
             [
              0.8888888888888888,
              "#fdca26"
             ],
             [
              1,
              "#f0f921"
             ]
            ],
            "type": "contour"
           }
          ],
          "contourcarpet": [
           {
            "colorbar": {
             "outlinewidth": 0,
             "ticks": ""
            },
            "type": "contourcarpet"
           }
          ],
          "heatmap": [
           {
            "colorbar": {
             "outlinewidth": 0,
             "ticks": ""
            },
            "colorscale": [
             [
              0,
              "#0d0887"
             ],
             [
              0.1111111111111111,
              "#46039f"
             ],
             [
              0.2222222222222222,
              "#7201a8"
             ],
             [
              0.3333333333333333,
              "#9c179e"
             ],
             [
              0.4444444444444444,
              "#bd3786"
             ],
             [
              0.5555555555555556,
              "#d8576b"
             ],
             [
              0.6666666666666666,
              "#ed7953"
             ],
             [
              0.7777777777777778,
              "#fb9f3a"
             ],
             [
              0.8888888888888888,
              "#fdca26"
             ],
             [
              1,
              "#f0f921"
             ]
            ],
            "type": "heatmap"
           }
          ],
          "heatmapgl": [
           {
            "colorbar": {
             "outlinewidth": 0,
             "ticks": ""
            },
            "colorscale": [
             [
              0,
              "#0d0887"
             ],
             [
              0.1111111111111111,
              "#46039f"
             ],
             [
              0.2222222222222222,
              "#7201a8"
             ],
             [
              0.3333333333333333,
              "#9c179e"
             ],
             [
              0.4444444444444444,
              "#bd3786"
             ],
             [
              0.5555555555555556,
              "#d8576b"
             ],
             [
              0.6666666666666666,
              "#ed7953"
             ],
             [
              0.7777777777777778,
              "#fb9f3a"
             ],
             [
              0.8888888888888888,
              "#fdca26"
             ],
             [
              1,
              "#f0f921"
             ]
            ],
            "type": "heatmapgl"
           }
          ],
          "histogram": [
           {
            "marker": {
             "pattern": {
              "fillmode": "overlay",
              "size": 10,
              "solidity": 0.2
             }
            },
            "type": "histogram"
           }
          ],
          "histogram2d": [
           {
            "colorbar": {
             "outlinewidth": 0,
             "ticks": ""
            },
            "colorscale": [
             [
              0,
              "#0d0887"
             ],
             [
              0.1111111111111111,
              "#46039f"
             ],
             [
              0.2222222222222222,
              "#7201a8"
             ],
             [
              0.3333333333333333,
              "#9c179e"
             ],
             [
              0.4444444444444444,
              "#bd3786"
             ],
             [
              0.5555555555555556,
              "#d8576b"
             ],
             [
              0.6666666666666666,
              "#ed7953"
             ],
             [
              0.7777777777777778,
              "#fb9f3a"
             ],
             [
              0.8888888888888888,
              "#fdca26"
             ],
             [
              1,
              "#f0f921"
             ]
            ],
            "type": "histogram2d"
           }
          ],
          "histogram2dcontour": [
           {
            "colorbar": {
             "outlinewidth": 0,
             "ticks": ""
            },
            "colorscale": [
             [
              0,
              "#0d0887"
             ],
             [
              0.1111111111111111,
              "#46039f"
             ],
             [
              0.2222222222222222,
              "#7201a8"
             ],
             [
              0.3333333333333333,
              "#9c179e"
             ],
             [
              0.4444444444444444,
              "#bd3786"
             ],
             [
              0.5555555555555556,
              "#d8576b"
             ],
             [
              0.6666666666666666,
              "#ed7953"
             ],
             [
              0.7777777777777778,
              "#fb9f3a"
             ],
             [
              0.8888888888888888,
              "#fdca26"
             ],
             [
              1,
              "#f0f921"
             ]
            ],
            "type": "histogram2dcontour"
           }
          ],
          "mesh3d": [
           {
            "colorbar": {
             "outlinewidth": 0,
             "ticks": ""
            },
            "type": "mesh3d"
           }
          ],
          "parcoords": [
           {
            "line": {
             "colorbar": {
              "outlinewidth": 0,
              "ticks": ""
             }
            },
            "type": "parcoords"
           }
          ],
          "pie": [
           {
            "automargin": true,
            "type": "pie"
           }
          ],
          "scatter": [
           {
            "fillpattern": {
             "fillmode": "overlay",
             "size": 10,
             "solidity": 0.2
            },
            "type": "scatter"
           }
          ],
          "scatter3d": [
           {
            "line": {
             "colorbar": {
              "outlinewidth": 0,
              "ticks": ""
             }
            },
            "marker": {
             "colorbar": {
              "outlinewidth": 0,
              "ticks": ""
             }
            },
            "type": "scatter3d"
           }
          ],
          "scattercarpet": [
           {
            "marker": {
             "colorbar": {
              "outlinewidth": 0,
              "ticks": ""
             }
            },
            "type": "scattercarpet"
           }
          ],
          "scattergeo": [
           {
            "marker": {
             "colorbar": {
              "outlinewidth": 0,
              "ticks": ""
             }
            },
            "type": "scattergeo"
           }
          ],
          "scattergl": [
           {
            "marker": {
             "colorbar": {
              "outlinewidth": 0,
              "ticks": ""
             }
            },
            "type": "scattergl"
           }
          ],
          "scattermapbox": [
           {
            "marker": {
             "colorbar": {
              "outlinewidth": 0,
              "ticks": ""
             }
            },
            "type": "scattermapbox"
           }
          ],
          "scatterpolar": [
           {
            "marker": {
             "colorbar": {
              "outlinewidth": 0,
              "ticks": ""
             }
            },
            "type": "scatterpolar"
           }
          ],
          "scatterpolargl": [
           {
            "marker": {
             "colorbar": {
              "outlinewidth": 0,
              "ticks": ""
             }
            },
            "type": "scatterpolargl"
           }
          ],
          "scatterternary": [
           {
            "marker": {
             "colorbar": {
              "outlinewidth": 0,
              "ticks": ""
             }
            },
            "type": "scatterternary"
           }
          ],
          "surface": [
           {
            "colorbar": {
             "outlinewidth": 0,
             "ticks": ""
            },
            "colorscale": [
             [
              0,
              "#0d0887"
             ],
             [
              0.1111111111111111,
              "#46039f"
             ],
             [
              0.2222222222222222,
              "#7201a8"
             ],
             [
              0.3333333333333333,
              "#9c179e"
             ],
             [
              0.4444444444444444,
              "#bd3786"
             ],
             [
              0.5555555555555556,
              "#d8576b"
             ],
             [
              0.6666666666666666,
              "#ed7953"
             ],
             [
              0.7777777777777778,
              "#fb9f3a"
             ],
             [
              0.8888888888888888,
              "#fdca26"
             ],
             [
              1,
              "#f0f921"
             ]
            ],
            "type": "surface"
           }
          ],
          "table": [
           {
            "cells": {
             "fill": {
              "color": "#EBF0F8"
             },
             "line": {
              "color": "white"
             }
            },
            "header": {
             "fill": {
              "color": "#C8D4E3"
             },
             "line": {
              "color": "white"
             }
            },
            "type": "table"
           }
          ]
         },
         "layout": {
          "annotationdefaults": {
           "arrowcolor": "#2a3f5f",
           "arrowhead": 0,
           "arrowwidth": 1
          },
          "autotypenumbers": "strict",
          "coloraxis": {
           "colorbar": {
            "outlinewidth": 0,
            "ticks": ""
           }
          },
          "colorscale": {
           "diverging": [
            [
             0,
             "#8e0152"
            ],
            [
             0.1,
             "#c51b7d"
            ],
            [
             0.2,
             "#de77ae"
            ],
            [
             0.3,
             "#f1b6da"
            ],
            [
             0.4,
             "#fde0ef"
            ],
            [
             0.5,
             "#f7f7f7"
            ],
            [
             0.6,
             "#e6f5d0"
            ],
            [
             0.7,
             "#b8e186"
            ],
            [
             0.8,
             "#7fbc41"
            ],
            [
             0.9,
             "#4d9221"
            ],
            [
             1,
             "#276419"
            ]
           ],
           "sequential": [
            [
             0,
             "#0d0887"
            ],
            [
             0.1111111111111111,
             "#46039f"
            ],
            [
             0.2222222222222222,
             "#7201a8"
            ],
            [
             0.3333333333333333,
             "#9c179e"
            ],
            [
             0.4444444444444444,
             "#bd3786"
            ],
            [
             0.5555555555555556,
             "#d8576b"
            ],
            [
             0.6666666666666666,
             "#ed7953"
            ],
            [
             0.7777777777777778,
             "#fb9f3a"
            ],
            [
             0.8888888888888888,
             "#fdca26"
            ],
            [
             1,
             "#f0f921"
            ]
           ],
           "sequentialminus": [
            [
             0,
             "#0d0887"
            ],
            [
             0.1111111111111111,
             "#46039f"
            ],
            [
             0.2222222222222222,
             "#7201a8"
            ],
            [
             0.3333333333333333,
             "#9c179e"
            ],
            [
             0.4444444444444444,
             "#bd3786"
            ],
            [
             0.5555555555555556,
             "#d8576b"
            ],
            [
             0.6666666666666666,
             "#ed7953"
            ],
            [
             0.7777777777777778,
             "#fb9f3a"
            ],
            [
             0.8888888888888888,
             "#fdca26"
            ],
            [
             1,
             "#f0f921"
            ]
           ]
          },
          "colorway": [
           "#636efa",
           "#EF553B",
           "#00cc96",
           "#ab63fa",
           "#FFA15A",
           "#19d3f3",
           "#FF6692",
           "#B6E880",
           "#FF97FF",
           "#FECB52"
          ],
          "font": {
           "color": "#2a3f5f"
          },
          "geo": {
           "bgcolor": "white",
           "lakecolor": "white",
           "landcolor": "#E5ECF6",
           "showlakes": true,
           "showland": true,
           "subunitcolor": "white"
          },
          "hoverlabel": {
           "align": "left"
          },
          "hovermode": "closest",
          "mapbox": {
           "style": "light"
          },
          "paper_bgcolor": "white",
          "plot_bgcolor": "#E5ECF6",
          "polar": {
           "angularaxis": {
            "gridcolor": "white",
            "linecolor": "white",
            "ticks": ""
           },
           "bgcolor": "#E5ECF6",
           "radialaxis": {
            "gridcolor": "white",
            "linecolor": "white",
            "ticks": ""
           }
          },
          "scene": {
           "xaxis": {
            "backgroundcolor": "#E5ECF6",
            "gridcolor": "white",
            "gridwidth": 2,
            "linecolor": "white",
            "showbackground": true,
            "ticks": "",
            "zerolinecolor": "white"
           },
           "yaxis": {
            "backgroundcolor": "#E5ECF6",
            "gridcolor": "white",
            "gridwidth": 2,
            "linecolor": "white",
            "showbackground": true,
            "ticks": "",
            "zerolinecolor": "white"
           },
           "zaxis": {
            "backgroundcolor": "#E5ECF6",
            "gridcolor": "white",
            "gridwidth": 2,
            "linecolor": "white",
            "showbackground": true,
            "ticks": "",
            "zerolinecolor": "white"
           }
          },
          "shapedefaults": {
           "line": {
            "color": "#2a3f5f"
           }
          },
          "ternary": {
           "aaxis": {
            "gridcolor": "white",
            "linecolor": "white",
            "ticks": ""
           },
           "baxis": {
            "gridcolor": "white",
            "linecolor": "white",
            "ticks": ""
           },
           "bgcolor": "#E5ECF6",
           "caxis": {
            "gridcolor": "white",
            "linecolor": "white",
            "ticks": ""
           }
          },
          "title": {
           "x": 0.05
          },
          "xaxis": {
           "automargin": true,
           "gridcolor": "white",
           "linecolor": "white",
           "ticks": "",
           "title": {
            "standoff": 15
           },
           "zerolinecolor": "white",
           "zerolinewidth": 2
          },
          "yaxis": {
           "automargin": true,
           "gridcolor": "white",
           "linecolor": "white",
           "ticks": "",
           "title": {
            "standoff": 15
           },
           "zerolinecolor": "white",
           "zerolinewidth": 2
          }
         }
        },
        "updatemenus": [
         {
          "buttons": [
           {
            "args": [
             null,
             {
              "frame": {
               "duration": 300,
               "redraw": true
              },
              "fromcurrent": true,
              "transition": {
               "duration": 0
              }
             }
            ],
            "label": "Play",
            "method": "animate"
           },
           {
            "args": [
             [
              null
             ],
             {
              "frame": {
               "duration": 0,
               "redraw": true
              },
              "mode": "immediate",
              "transition": {
               "duration": 0
              }
             }
            ],
            "label": "Stop",
            "method": "animate"
           }
          ],
          "direction": "left",
          "pad": {
           "r": 10,
           "t": 75
          },
          "showactive": true,
          "type": "buttons",
          "x": 0.1,
          "xanchor": "right",
          "y": 0,
          "yanchor": "top"
         }
        ],
        "xaxis": {
         "range": [
          -93.09488113814285,
          106.51333993761484
         ],
         "title": {
          "text": "<i>x</i>"
         }
        },
        "yaxis": {
         "range": [
          -85.78785320341072,
          85.86703059045627
         ],
         "title": {
          "text": "<i>y</i>"
         }
        }
       }
      }
     },
     "metadata": {},
     "output_type": "display_data"
    }
   ],
   "source": [
    "from stonesoup.plotter import AnimatedPlotterly\n",
    "\n",
    "timesteps = [start_time + timestep_size*k for k in range(number_of_steps)]\n",
    "\n",
    "plotter = AnimatedPlotterly(timesteps, tail_length=1)\n",
    "plotter.plot_ground_truths(groundtruth, mapping = [0,2])\n",
    "plotter.plot_measurements(detections, mapping = [0,2])\n",
    "plotter.plot_tracks(tracks, mapping = [0,2])\n",
    "plotter.fig"
   ]
  }
 ],
 "metadata": {
  "kernelspec": {
   "display_name": "Python 3",
   "language": "python",
   "name": "python3"
  },
  "language_info": {
   "codemirror_mode": {
    "name": "ipython",
    "version": 3
   },
   "file_extension": ".py",
   "mimetype": "text/x-python",
   "name": "python",
   "nbconvert_exporter": "python",
   "pygments_lexer": "ipython3",
   "version": "3.8.5"
  },
  "orig_nbformat": 4
 },
 "nbformat": 4,
 "nbformat_minor": 2
}
