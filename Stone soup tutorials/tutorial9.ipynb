{
 "cells": [
  {
   "cell_type": "code",
   "execution_count": 57,
   "metadata": {},
   "outputs": [],
   "source": [
    "from datetime import datetime, timedelta\n",
    "import numpy as np\n",
    "from ordered_set import OrderedSet\n",
    "from stonesoup.models.transition.linear import CombinedLinearGaussianTransitionModel, ConstantVelocity\n",
    "from stonesoup.types.groundtruth import GroundTruthPath, GroundTruthState\n",
    "\n",
    "np.random.seed(1992)\n",
    "\n",
    "num_steps = 50\n",
    "pos_range = 50\n",
    "vel_range = 1\n",
    "birth_rate = 0.1  # Adjust the birth rate as needed\n",
    "\n",
    "start_time = datetime.now().replace(microsecond=0)\n",
    "truths = OrderedSet()  # Truths across all time\n",
    "current_truths = set() # Truths alive at the current time\n",
    "\n",
    "# Define a transition model with some noise\n",
    "transition_model = CombinedLinearGaussianTransitionModel([ConstantVelocity(0.05), ConstantVelocity(0.05)])\n",
    "\n",
    "# Calculate the FOV center\n",
    "fov_center = [pos_range / 2, pos_range / 2]\n",
    "\n",
    "# Function to calculate inward velocity vector towards FOV center\n",
    "def inward_velocity_vector(position):\n",
    "    # Calculate the vector pointing from the position to the FOV center\n",
    "    direction_vector = [fov_center[0] - position[0], fov_center[1] - position[1]]\n",
    "    # Normalize the direction vector\n",
    "    norm = np.linalg.norm(direction_vector)\n",
    "    if norm == 0:\n",
    "        return [0, 0]  # Handle the case where position is already at the FOV center\n",
    "    return [direction_vector[0] / norm * vel_range, direction_vector[1] / norm * vel_range]\n",
    "\n",
    "\n",
    "# Function to generate random position at the edges of the FOV\n",
    "def random_edge_position():\n",
    "    edge = np.random.choice([0, 1, 2, 3])  # 0: left, 1: right, 2: top, 3: bottom\n",
    "    if edge == 0:\n",
    "        return [0, np.random.uniform(0, pos_range)]\n",
    "    elif edge == 1:\n",
    "        return [pos_range, np.random.uniform(0, pos_range)]\n",
    "    elif edge == 2:\n",
    "        return [np.random.uniform(0, pos_range), pos_range]\n",
    "    else:\n",
    "        return [np.random.uniform(0, pos_range), 0]\n",
    "\n",
    "\n",
    "\n",
    "\n",
    "\n",
    "timesteps = []\n",
    "for k in range(num_steps):\n",
    "    timesteps.append(start_time + timedelta(seconds=k))\n",
    "\n",
    "    # Death (Only for truths within FOV)\n",
    "    for truth in current_truths.copy():\n",
    "        if (truth[-1].state_vector[0] < 0 or truth[-1].state_vector[0] > pos_range or\n",
    "            truth[-1].state_vector[2] < 0 or truth[-1].state_vector[2] > pos_range):\n",
    "            current_truths.remove(truth)\n",
    "\n",
    "    # Update truths\n",
    "    for truth in current_truths:\n",
    "        truth.append(GroundTruthState(transition_model.function(truth[-1], noise=True, time_interval=timedelta(seconds=1)), timestamp=timesteps[k]))\n",
    "\n",
    "    # Birth based on Poisson process\n",
    "    num_births = np.random.poisson(birth_rate)\n",
    "    for _ in range(num_births):\n",
    "        initial_position = random_edge_position()\n",
    "        initial_velocity = inward_velocity_vector(initial_position)  # Inward velocity\n",
    "        state = GroundTruthState([initial_position[0], initial_velocity[0], initial_position[1], initial_velocity[1]], timestamp=timesteps[k])\n",
    "        truth = GroundTruthPath([state])\n",
    "        current_truths.add(truth)\n",
    "        truths.add(truth)\n",
    "\n",
    "\n"
   ]
  },
  {
   "cell_type": "code",
   "execution_count": 58,
   "metadata": {},
   "outputs": [],
   "source": [
    "#from stonesoup.plotter import AnimatedPlotterly\n",
    "#plotter = AnimatedPlotterly(timesteps, tail_length=1)\n",
    "#plotter.plot_ground_truths(truths, [0, 2])\n",
    "#plotter.fig"
   ]
  },
  {
   "cell_type": "code",
   "execution_count": 59,
   "metadata": {},
   "outputs": [],
   "source": [
    "from scipy.stats import uniform\n",
    "from stonesoup.types.detection import TrueDetection\n",
    "from stonesoup.types.detection import Clutter\n",
    "from stonesoup.models.measurement.linear import LinearGaussian\n",
    "\n",
    "clutter_rate = 1.5\n",
    "\n",
    "measurement_model = LinearGaussian(\n",
    "    ndim_state=4,\n",
    "    mapping=(0, 2),\n",
    "    noise_covar=np.array([[0.25, 0],\n",
    "                          [0, 0.25]])\n",
    "    )\n",
    "all_measurements = []\n",
    "\n",
    "for k in range(num_steps):\n",
    "    measurement_set = set()\n",
    "    timestamp = start_time + timedelta(seconds=k)\n",
    "\n",
    "    for truth in truths:\n",
    "        try:\n",
    "            truth_state = truth[timestamp]\n",
    "        except IndexError:\n",
    "            # This truth not alive at this time.\n",
    "            continue\n",
    "        # Generate actual detection from the state with a 10% chance that no detection is received.\n",
    "        if np.random.rand() <= 0.9:\n",
    "            # Generate actual detection from the state\n",
    "            measurement = measurement_model.function(truth_state, noise=True)\n",
    "            measurement_set.add(TrueDetection(state_vector=measurement,\n",
    "                                              groundtruth_path=truth,\n",
    "                                              timestamp=truth_state.timestamp,\n",
    "                                              measurement_model=measurement_model))\n",
    "\n",
    "        # Generate clutter at this time-step\n",
    "        truth_x = truth_state.state_vector[0]\n",
    "        truth_y = truth_state.state_vector[2]\n",
    "        num_clutter = np.random.poisson(clutter_rate)\n",
    "        for _ in range(num_clutter):\n",
    "            x = uniform.rvs(truth_x - 10, 20)\n",
    "            y = uniform.rvs(truth_y - 10, 20)\n",
    "            measurement_set.add(Clutter(np.array([[x], [y]]), timestamp=timestamp,\n",
    "                                        measurement_model=measurement_model))\n",
    "    all_measurements.append(measurement_set)\n",
    "\n",
    "# Plot true detections and clutter.\n",
    "#plotter.plot_measurements(all_measurements, [0, 2])\n",
    "#plotter.fig"
   ]
  },
  {
   "cell_type": "code",
   "execution_count": 60,
   "metadata": {},
   "outputs": [],
   "source": [
    "from stonesoup.predictor.kalman import KalmanPredictor\n",
    "predictor = KalmanPredictor(transition_model)\n",
    "\n",
    "from stonesoup.updater.kalman import KalmanUpdater\n",
    "updater = KalmanUpdater(measurement_model)\n",
    "\n",
    "from stonesoup.hypothesiser.distance import DistanceHypothesiser\n",
    "from stonesoup.measures import Mahalanobis\n",
    "hypothesiser = DistanceHypothesiser(predictor, updater, measure=Mahalanobis(), missed_distance=3)\n",
    "\n",
    "from stonesoup.dataassociator.neighbour import GNNWith2DAssignment\n",
    "data_associator = GNNWith2DAssignment(hypothesiser)\n",
    "\n",
    "from stonesoup.deleter.error import CovarianceBasedDeleter\n",
    "deleter = CovarianceBasedDeleter(covar_trace_thresh=3)\n",
    "\n",
    "from stonesoup.types.state import GaussianState\n",
    "from stonesoup.initiator.simple import MultiMeasurementInitiator\n",
    "initiator = MultiMeasurementInitiator(\n",
    "    prior_state=GaussianState([[0], [0], [0], [0]], np.diag([0, 1, 0, 1])),\n",
    "    measurement_model=measurement_model,\n",
    "    deleter=deleter,\n",
    "    data_associator=data_associator,\n",
    "    updater=updater,\n",
    "    min_points=5,\n",
    "    )"
   ]
  },
  {
   "cell_type": "code",
   "execution_count": 61,
   "metadata": {},
   "outputs": [],
   "source": [
    "tracks, all_tracks = set(), set()\n",
    "\n",
    "for n, measurements in enumerate(all_measurements):\n",
    "    # Calculate all hypothesis pairs and associate the elements in the best subset to the tracks.\n",
    "    hypotheses = data_associator.associate(tracks,\n",
    "                                           measurements,\n",
    "                                           start_time + timedelta(seconds=n))\n",
    "    associated_measurements = set()\n",
    "    for track in tracks:\n",
    "        hypothesis = hypotheses[track]\n",
    "        if hypothesis.measurement:\n",
    "            post = updater.update(hypothesis)\n",
    "            track.append(post)\n",
    "            associated_measurements.add(hypothesis.measurement)\n",
    "        else:  # When data associator says no detections are good enough, we'll keep the prediction\n",
    "            track.append(hypothesis.prediction)\n",
    "\n",
    "    # Carry out deletion and initiation\n",
    "    tracks -= deleter.delete_tracks(tracks)\n",
    "    tracks |= initiator.initiate(measurements - associated_measurements,\n",
    "                                 start_time + timedelta(seconds=n))\n",
    "    all_tracks |= tracks"
   ]
  },
  {
   "cell_type": "code",
   "execution_count": 62,
   "metadata": {},
   "outputs": [],
   "source": [
    "#plotter.plot_tracks(all_tracks, [0, 2], uncertainty=True)\n",
    "#plotter.fig"
   ]
  },
  {
   "cell_type": "code",
   "execution_count": 63,
   "metadata": {},
   "outputs": [
    {
     "data": {
      "application/vnd.plotly.v1+json": {
       "config": {
        "plotlyServerURL": "https://plot.ly"
       },
       "data": [
        {
         "fill": "toself",
         "fillcolor": "rgba(255, 0, 0, 0.2)",
         "line": {
          "color": "red",
          "width": 2
         },
         "mode": "lines",
         "name": "Field of View (FOV)",
         "type": "scatter",
         "x": [
          0,
          50,
          50,
          0,
          0
         ],
         "y": [
          0,
          0,
          50,
          50,
          0
         ]
        }
       ],
       "layout": {
        "template": {
         "data": {
          "bar": [
           {
            "error_x": {
             "color": "#2a3f5f"
            },
            "error_y": {
             "color": "#2a3f5f"
            },
            "marker": {
             "line": {
              "color": "#E5ECF6",
              "width": 0.5
             },
             "pattern": {
              "fillmode": "overlay",
              "size": 10,
              "solidity": 0.2
             }
            },
            "type": "bar"
           }
          ],
          "barpolar": [
           {
            "marker": {
             "line": {
              "color": "#E5ECF6",
              "width": 0.5
             },
             "pattern": {
              "fillmode": "overlay",
              "size": 10,
              "solidity": 0.2
             }
            },
            "type": "barpolar"
           }
          ],
          "carpet": [
           {
            "aaxis": {
             "endlinecolor": "#2a3f5f",
             "gridcolor": "white",
             "linecolor": "white",
             "minorgridcolor": "white",
             "startlinecolor": "#2a3f5f"
            },
            "baxis": {
             "endlinecolor": "#2a3f5f",
             "gridcolor": "white",
             "linecolor": "white",
             "minorgridcolor": "white",
             "startlinecolor": "#2a3f5f"
            },
            "type": "carpet"
           }
          ],
          "choropleth": [
           {
            "colorbar": {
             "outlinewidth": 0,
             "ticks": ""
            },
            "type": "choropleth"
           }
          ],
          "contour": [
           {
            "colorbar": {
             "outlinewidth": 0,
             "ticks": ""
            },
            "colorscale": [
             [
              0,
              "#0d0887"
             ],
             [
              0.1111111111111111,
              "#46039f"
             ],
             [
              0.2222222222222222,
              "#7201a8"
             ],
             [
              0.3333333333333333,
              "#9c179e"
             ],
             [
              0.4444444444444444,
              "#bd3786"
             ],
             [
              0.5555555555555556,
              "#d8576b"
             ],
             [
              0.6666666666666666,
              "#ed7953"
             ],
             [
              0.7777777777777778,
              "#fb9f3a"
             ],
             [
              0.8888888888888888,
              "#fdca26"
             ],
             [
              1,
              "#f0f921"
             ]
            ],
            "type": "contour"
           }
          ],
          "contourcarpet": [
           {
            "colorbar": {
             "outlinewidth": 0,
             "ticks": ""
            },
            "type": "contourcarpet"
           }
          ],
          "heatmap": [
           {
            "colorbar": {
             "outlinewidth": 0,
             "ticks": ""
            },
            "colorscale": [
             [
              0,
              "#0d0887"
             ],
             [
              0.1111111111111111,
              "#46039f"
             ],
             [
              0.2222222222222222,
              "#7201a8"
             ],
             [
              0.3333333333333333,
              "#9c179e"
             ],
             [
              0.4444444444444444,
              "#bd3786"
             ],
             [
              0.5555555555555556,
              "#d8576b"
             ],
             [
              0.6666666666666666,
              "#ed7953"
             ],
             [
              0.7777777777777778,
              "#fb9f3a"
             ],
             [
              0.8888888888888888,
              "#fdca26"
             ],
             [
              1,
              "#f0f921"
             ]
            ],
            "type": "heatmap"
           }
          ],
          "heatmapgl": [
           {
            "colorbar": {
             "outlinewidth": 0,
             "ticks": ""
            },
            "colorscale": [
             [
              0,
              "#0d0887"
             ],
             [
              0.1111111111111111,
              "#46039f"
             ],
             [
              0.2222222222222222,
              "#7201a8"
             ],
             [
              0.3333333333333333,
              "#9c179e"
             ],
             [
              0.4444444444444444,
              "#bd3786"
             ],
             [
              0.5555555555555556,
              "#d8576b"
             ],
             [
              0.6666666666666666,
              "#ed7953"
             ],
             [
              0.7777777777777778,
              "#fb9f3a"
             ],
             [
              0.8888888888888888,
              "#fdca26"
             ],
             [
              1,
              "#f0f921"
             ]
            ],
            "type": "heatmapgl"
           }
          ],
          "histogram": [
           {
            "marker": {
             "pattern": {
              "fillmode": "overlay",
              "size": 10,
              "solidity": 0.2
             }
            },
            "type": "histogram"
           }
          ],
          "histogram2d": [
           {
            "colorbar": {
             "outlinewidth": 0,
             "ticks": ""
            },
            "colorscale": [
             [
              0,
              "#0d0887"
             ],
             [
              0.1111111111111111,
              "#46039f"
             ],
             [
              0.2222222222222222,
              "#7201a8"
             ],
             [
              0.3333333333333333,
              "#9c179e"
             ],
             [
              0.4444444444444444,
              "#bd3786"
             ],
             [
              0.5555555555555556,
              "#d8576b"
             ],
             [
              0.6666666666666666,
              "#ed7953"
             ],
             [
              0.7777777777777778,
              "#fb9f3a"
             ],
             [
              0.8888888888888888,
              "#fdca26"
             ],
             [
              1,
              "#f0f921"
             ]
            ],
            "type": "histogram2d"
           }
          ],
          "histogram2dcontour": [
           {
            "colorbar": {
             "outlinewidth": 0,
             "ticks": ""
            },
            "colorscale": [
             [
              0,
              "#0d0887"
             ],
             [
              0.1111111111111111,
              "#46039f"
             ],
             [
              0.2222222222222222,
              "#7201a8"
             ],
             [
              0.3333333333333333,
              "#9c179e"
             ],
             [
              0.4444444444444444,
              "#bd3786"
             ],
             [
              0.5555555555555556,
              "#d8576b"
             ],
             [
              0.6666666666666666,
              "#ed7953"
             ],
             [
              0.7777777777777778,
              "#fb9f3a"
             ],
             [
              0.8888888888888888,
              "#fdca26"
             ],
             [
              1,
              "#f0f921"
             ]
            ],
            "type": "histogram2dcontour"
           }
          ],
          "mesh3d": [
           {
            "colorbar": {
             "outlinewidth": 0,
             "ticks": ""
            },
            "type": "mesh3d"
           }
          ],
          "parcoords": [
           {
            "line": {
             "colorbar": {
              "outlinewidth": 0,
              "ticks": ""
             }
            },
            "type": "parcoords"
           }
          ],
          "pie": [
           {
            "automargin": true,
            "type": "pie"
           }
          ],
          "scatter": [
           {
            "fillpattern": {
             "fillmode": "overlay",
             "size": 10,
             "solidity": 0.2
            },
            "type": "scatter"
           }
          ],
          "scatter3d": [
           {
            "line": {
             "colorbar": {
              "outlinewidth": 0,
              "ticks": ""
             }
            },
            "marker": {
             "colorbar": {
              "outlinewidth": 0,
              "ticks": ""
             }
            },
            "type": "scatter3d"
           }
          ],
          "scattercarpet": [
           {
            "marker": {
             "colorbar": {
              "outlinewidth": 0,
              "ticks": ""
             }
            },
            "type": "scattercarpet"
           }
          ],
          "scattergeo": [
           {
            "marker": {
             "colorbar": {
              "outlinewidth": 0,
              "ticks": ""
             }
            },
            "type": "scattergeo"
           }
          ],
          "scattergl": [
           {
            "marker": {
             "colorbar": {
              "outlinewidth": 0,
              "ticks": ""
             }
            },
            "type": "scattergl"
           }
          ],
          "scattermapbox": [
           {
            "marker": {
             "colorbar": {
              "outlinewidth": 0,
              "ticks": ""
             }
            },
            "type": "scattermapbox"
           }
          ],
          "scatterpolar": [
           {
            "marker": {
             "colorbar": {
              "outlinewidth": 0,
              "ticks": ""
             }
            },
            "type": "scatterpolar"
           }
          ],
          "scatterpolargl": [
           {
            "marker": {
             "colorbar": {
              "outlinewidth": 0,
              "ticks": ""
             }
            },
            "type": "scatterpolargl"
           }
          ],
          "scatterternary": [
           {
            "marker": {
             "colorbar": {
              "outlinewidth": 0,
              "ticks": ""
             }
            },
            "type": "scatterternary"
           }
          ],
          "surface": [
           {
            "colorbar": {
             "outlinewidth": 0,
             "ticks": ""
            },
            "colorscale": [
             [
              0,
              "#0d0887"
             ],
             [
              0.1111111111111111,
              "#46039f"
             ],
             [
              0.2222222222222222,
              "#7201a8"
             ],
             [
              0.3333333333333333,
              "#9c179e"
             ],
             [
              0.4444444444444444,
              "#bd3786"
             ],
             [
              0.5555555555555556,
              "#d8576b"
             ],
             [
              0.6666666666666666,
              "#ed7953"
             ],
             [
              0.7777777777777778,
              "#fb9f3a"
             ],
             [
              0.8888888888888888,
              "#fdca26"
             ],
             [
              1,
              "#f0f921"
             ]
            ],
            "type": "surface"
           }
          ],
          "table": [
           {
            "cells": {
             "fill": {
              "color": "#EBF0F8"
             },
             "line": {
              "color": "white"
             }
            },
            "header": {
             "fill": {
              "color": "#C8D4E3"
             },
             "line": {
              "color": "white"
             }
            },
            "type": "table"
           }
          ]
         },
         "layout": {
          "annotationdefaults": {
           "arrowcolor": "#2a3f5f",
           "arrowhead": 0,
           "arrowwidth": 1
          },
          "autotypenumbers": "strict",
          "coloraxis": {
           "colorbar": {
            "outlinewidth": 0,
            "ticks": ""
           }
          },
          "colorscale": {
           "diverging": [
            [
             0,
             "#8e0152"
            ],
            [
             0.1,
             "#c51b7d"
            ],
            [
             0.2,
             "#de77ae"
            ],
            [
             0.3,
             "#f1b6da"
            ],
            [
             0.4,
             "#fde0ef"
            ],
            [
             0.5,
             "#f7f7f7"
            ],
            [
             0.6,
             "#e6f5d0"
            ],
            [
             0.7,
             "#b8e186"
            ],
            [
             0.8,
             "#7fbc41"
            ],
            [
             0.9,
             "#4d9221"
            ],
            [
             1,
             "#276419"
            ]
           ],
           "sequential": [
            [
             0,
             "#0d0887"
            ],
            [
             0.1111111111111111,
             "#46039f"
            ],
            [
             0.2222222222222222,
             "#7201a8"
            ],
            [
             0.3333333333333333,
             "#9c179e"
            ],
            [
             0.4444444444444444,
             "#bd3786"
            ],
            [
             0.5555555555555556,
             "#d8576b"
            ],
            [
             0.6666666666666666,
             "#ed7953"
            ],
            [
             0.7777777777777778,
             "#fb9f3a"
            ],
            [
             0.8888888888888888,
             "#fdca26"
            ],
            [
             1,
             "#f0f921"
            ]
           ],
           "sequentialminus": [
            [
             0,
             "#0d0887"
            ],
            [
             0.1111111111111111,
             "#46039f"
            ],
            [
             0.2222222222222222,
             "#7201a8"
            ],
            [
             0.3333333333333333,
             "#9c179e"
            ],
            [
             0.4444444444444444,
             "#bd3786"
            ],
            [
             0.5555555555555556,
             "#d8576b"
            ],
            [
             0.6666666666666666,
             "#ed7953"
            ],
            [
             0.7777777777777778,
             "#fb9f3a"
            ],
            [
             0.8888888888888888,
             "#fdca26"
            ],
            [
             1,
             "#f0f921"
            ]
           ]
          },
          "colorway": [
           "#636efa",
           "#EF553B",
           "#00cc96",
           "#ab63fa",
           "#FFA15A",
           "#19d3f3",
           "#FF6692",
           "#B6E880",
           "#FF97FF",
           "#FECB52"
          ],
          "font": {
           "color": "#2a3f5f"
          },
          "geo": {
           "bgcolor": "white",
           "lakecolor": "white",
           "landcolor": "#E5ECF6",
           "showlakes": true,
           "showland": true,
           "subunitcolor": "white"
          },
          "hoverlabel": {
           "align": "left"
          },
          "hovermode": "closest",
          "mapbox": {
           "style": "light"
          },
          "paper_bgcolor": "white",
          "plot_bgcolor": "#E5ECF6",
          "polar": {
           "angularaxis": {
            "gridcolor": "white",
            "linecolor": "white",
            "ticks": ""
           },
           "bgcolor": "#E5ECF6",
           "radialaxis": {
            "gridcolor": "white",
            "linecolor": "white",
            "ticks": ""
           }
          },
          "scene": {
           "xaxis": {
            "backgroundcolor": "#E5ECF6",
            "gridcolor": "white",
            "gridwidth": 2,
            "linecolor": "white",
            "showbackground": true,
            "ticks": "",
            "zerolinecolor": "white"
           },
           "yaxis": {
            "backgroundcolor": "#E5ECF6",
            "gridcolor": "white",
            "gridwidth": 2,
            "linecolor": "white",
            "showbackground": true,
            "ticks": "",
            "zerolinecolor": "white"
           },
           "zaxis": {
            "backgroundcolor": "#E5ECF6",
            "gridcolor": "white",
            "gridwidth": 2,
            "linecolor": "white",
            "showbackground": true,
            "ticks": "",
            "zerolinecolor": "white"
           }
          },
          "shapedefaults": {
           "line": {
            "color": "#2a3f5f"
           }
          },
          "ternary": {
           "aaxis": {
            "gridcolor": "white",
            "linecolor": "white",
            "ticks": ""
           },
           "baxis": {
            "gridcolor": "white",
            "linecolor": "white",
            "ticks": ""
           },
           "bgcolor": "#E5ECF6",
           "caxis": {
            "gridcolor": "white",
            "linecolor": "white",
            "ticks": ""
           }
          },
          "title": {
           "x": 0.05
          },
          "xaxis": {
           "automargin": true,
           "gridcolor": "white",
           "linecolor": "white",
           "ticks": "",
           "title": {
            "standoff": 15
           },
           "zerolinecolor": "white",
           "zerolinewidth": 2
          },
          "yaxis": {
           "automargin": true,
           "gridcolor": "white",
           "linecolor": "white",
           "ticks": "",
           "title": {
            "standoff": 15
           },
           "zerolinecolor": "white",
           "zerolinewidth": 2
          }
         }
        },
        "xaxis": {
         "range": [
          -10,
          60
         ]
        },
        "yaxis": {
         "range": [
          -10,
          60
         ]
        }
       }
      }
     },
     "metadata": {},
     "output_type": "display_data"
    },
    {
     "data": {
      "application/vnd.plotly.v1+json": {
       "config": {
        "plotlyServerURL": "https://plot.ly"
       },
       "data": [
        {
         "hoverinfo": "none",
         "legendgroup": "Ground Truth",
         "legendrank": 100,
         "line": {
          "color": "#EF553B",
          "dash": "dash"
         },
         "mode": "lines",
         "name": "Ground Truth",
         "showlegend": true,
         "type": "scatter",
         "x": [],
         "y": []
        },
        {
         "hoverinfo": "none",
         "legendgroup": "Ground Truth",
         "legendrank": 100,
         "line": {
          "color": "#EF553B",
          "dash": "dash"
         },
         "mode": "lines",
         "name": "Ground Truth",
         "showlegend": false,
         "type": "scatter",
         "x": [],
         "y": []
        },
        {
         "hoverinfo": "none",
         "legendgroup": "Ground Truth",
         "legendrank": 100,
         "line": {
          "color": "#00CC96",
          "dash": "dash"
         },
         "mode": "lines",
         "name": "Ground Truth",
         "showlegend": false,
         "type": "scatter",
         "x": [],
         "y": []
        },
        {
         "hoverinfo": "none",
         "legendgroup": "Ground Truth",
         "legendrank": 100,
         "line": {
          "color": "#AB63FA",
          "dash": "dash"
         },
         "mode": "lines",
         "name": "Ground Truth",
         "showlegend": false,
         "type": "scatter",
         "x": [],
         "y": []
        },
        {
         "hoverinfo": "none",
         "legendgroup": "Ground Truth",
         "legendrank": 100,
         "line": {
          "color": "#FFA15A",
          "dash": "dash"
         },
         "mode": "lines",
         "name": "Ground Truth",
         "showlegend": false,
         "type": "scatter",
         "x": [],
         "y": []
        },
        {
         "hoverinfo": "none",
         "legendgroup": "Detections (Measurements)",
         "legendrank": 200,
         "marker": {
          "color": "#636EFA"
         },
         "mode": "markers",
         "name": "Measurements<br>(Detections)",
         "showlegend": true,
         "type": "scatter",
         "x": [],
         "y": []
        },
        {
         "hoverinfo": "none",
         "legendgroup": "Detections (Measurements)",
         "legendrank": 200,
         "marker": {
          "color": "#636EFA"
         },
         "mode": "markers",
         "name": "Measurements<br>(Detections)",
         "showlegend": false,
         "type": "scatter",
         "x": [],
         "y": []
        },
        {
         "hoverinfo": "none",
         "legendgroup": "Clutter",
         "legendrank": 300,
         "marker": {
          "color": "#FECB52",
          "symbol": "star-triangle-up"
         },
         "mode": "markers",
         "name": "Measurements<br>(Clutter)",
         "showlegend": true,
         "type": "scatter",
         "x": [],
         "y": []
        },
        {
         "legendgroup": "Tracks",
         "legendrank": 400,
         "line": {
          "color": "#AB63FA"
         },
         "mode": "markers+lines",
         "name": "Tracks",
         "showlegend": true,
         "type": "scatter",
         "x": [],
         "y": []
        },
        {
         "legendgroup": "Tracks",
         "legendrank": 400,
         "line": {
          "color": "#AB63FA"
         },
         "mode": "markers+lines",
         "name": "Tracks",
         "showlegend": false,
         "type": "scatter",
         "x": [],
         "y": []
        },
        {
         "legendgroup": "Tracks",
         "legendrank": 400,
         "line": {
          "color": "#FFA15A"
         },
         "mode": "markers+lines",
         "name": "Tracks",
         "showlegend": false,
         "type": "scatter",
         "x": [],
         "y": []
        },
        {
         "legendgroup": "Tracks",
         "legendrank": 400,
         "line": {
          "color": "#19D3F3"
         },
         "mode": "markers+lines",
         "name": "Tracks",
         "showlegend": false,
         "type": "scatter",
         "x": [],
         "y": []
        },
        {
         "fill": "toself",
         "fillcolor": "#AB63FA",
         "hoverinfo": "skip",
         "legendgroup": "Uncertainty",
         "legendrank": 500,
         "mode": "none",
         "name": "Track<br>Uncertainty",
         "opacity": 0.2,
         "showlegend": true,
         "type": "scatter",
         "x": [],
         "y": []
        },
        {
         "fill": "toself",
         "fillcolor": "#AB63FA",
         "hoverinfo": "skip",
         "legendgroup": "Uncertainty",
         "legendrank": 500,
         "mode": "none",
         "name": "Track<br>Uncertainty",
         "opacity": 0.2,
         "showlegend": false,
         "type": "scatter",
         "x": [],
         "y": []
        },
        {
         "fill": "toself",
         "fillcolor": "#FFA15A",
         "hoverinfo": "skip",
         "legendgroup": "Uncertainty",
         "legendrank": 500,
         "mode": "none",
         "name": "Track<br>Uncertainty",
         "opacity": 0.2,
         "showlegend": false,
         "type": "scatter",
         "x": [],
         "y": []
        },
        {
         "fill": "toself",
         "fillcolor": "#19D3F3",
         "hoverinfo": "skip",
         "legendgroup": "Uncertainty",
         "legendrank": 500,
         "mode": "none",
         "name": "Track<br>Uncertainty",
         "opacity": 0.2,
         "showlegend": false,
         "type": "scatter",
         "x": [],
         "y": []
        }
       ],
       "frames": [
        {
         "data": [
          {
           "type": "scatter",
           "x": [
            0,
            0
           ],
           "y": [
            0,
            0
           ]
          },
          {
           "hovertemplate": "GroundTruthState<br>(%{x}, %{y})<br>Time: %{meta}",
           "meta": [],
           "type": "scatter",
           "x": [
            null
           ],
           "y": [
            null
           ]
          },
          {
           "hovertemplate": "GroundTruthState<br>(%{x}, %{y})<br>Time: %{meta}",
           "meta": [],
           "type": "scatter",
           "x": [
            null
           ],
           "y": [
            null
           ]
          },
          {
           "hovertemplate": "GroundTruthState<br>(%{x}, %{y})<br>Time: %{meta}",
           "meta": [],
           "type": "scatter",
           "x": [
            null
           ],
           "y": [
            null
           ]
          },
          {
           "hovertemplate": "GroundTruthState<br>(%{x}, %{y})<br>Time: %{meta}",
           "meta": [],
           "type": "scatter",
           "x": [
            null
           ],
           "y": [
            null
           ]
          },
          {
           "type": "scatter",
           "x": [
            null,
            null
           ],
           "y": [
            null,
            null
           ]
          },
          {
           "hovertemplate": "Detection<br>(%{x}, %{y})<br>Time: %{meta}",
           "meta": [],
           "type": "scatter",
           "x": [
            null
           ],
           "y": [
            null
           ]
          },
          {
           "hovertemplate": "Clutter<br>(%{x}, %{y})<br>Time: %{meta}",
           "meta": [],
           "type": "scatter",
           "x": [
            null
           ],
           "y": [
            null
           ]
          },
          {
           "type": "scatter",
           "x": [
            null,
            null
           ],
           "y": [
            null,
            null
           ]
          },
          {
           "customdata": [],
           "hovertemplate": "%{meta}<br>(%{x}, %{y})<br>Time: %{customdata}",
           "meta": [],
           "type": "scatter",
           "x": [
            null
           ],
           "y": [
            null
           ]
          },
          {
           "customdata": [],
           "hovertemplate": "%{meta}<br>(%{x}, %{y})<br>Time: %{customdata}",
           "meta": [],
           "type": "scatter",
           "x": [
            null
           ],
           "y": [
            null
           ]
          },
          {
           "customdata": [],
           "hovertemplate": "%{meta}<br>(%{x}, %{y})<br>Time: %{customdata}",
           "meta": [],
           "type": "scatter",
           "x": [
            null
           ],
           "y": [
            null
           ]
          },
          {
           "type": "scatter",
           "x": [
            null
           ],
           "y": [
            null
           ]
          },
          {
           "type": "scatter",
           "x": [
            null
           ],
           "y": [
            null
           ]
          },
          {
           "type": "scatter",
           "x": [
            null
           ],
           "y": [
            null
           ]
          },
          {
           "type": "scatter",
           "x": [
            null
           ],
           "y": [
            null
           ]
          }
         ],
         "name": "2023-09-07 15:00:32",
         "traces": [
          0,
          1,
          2,
          3,
          4,
          5,
          6,
          7,
          8,
          9,
          10,
          11,
          12,
          13,
          14,
          15
         ]
        },
        {
         "data": [
          {
           "type": "scatter",
           "x": [
            0,
            0
           ],
           "y": [
            0,
            0
           ]
          },
          {
           "hovertemplate": "GroundTruthState<br>(%{x}, %{y})<br>Time: %{meta}",
           "meta": [],
           "type": "scatter",
           "x": [
            null
           ],
           "y": [
            null
           ]
          },
          {
           "hovertemplate": "GroundTruthState<br>(%{x}, %{y})<br>Time: %{meta}",
           "meta": [],
           "type": "scatter",
           "x": [
            null
           ],
           "y": [
            null
           ]
          },
          {
           "hovertemplate": "GroundTruthState<br>(%{x}, %{y})<br>Time: %{meta}",
           "meta": [],
           "type": "scatter",
           "x": [
            null
           ],
           "y": [
            null
           ]
          },
          {
           "hovertemplate": "GroundTruthState<br>(%{x}, %{y})<br>Time: %{meta}",
           "meta": [],
           "type": "scatter",
           "x": [
            null
           ],
           "y": [
            null
           ]
          },
          {
           "type": "scatter",
           "x": [
            null,
            null
           ],
           "y": [
            null,
            null
           ]
          },
          {
           "hovertemplate": "Detection<br>(%{x}, %{y})<br>Time: %{meta}",
           "meta": [],
           "type": "scatter",
           "x": [
            null
           ],
           "y": [
            null
           ]
          },
          {
           "hovertemplate": "Clutter<br>(%{x}, %{y})<br>Time: %{meta}",
           "meta": [],
           "type": "scatter",
           "x": [
            null
           ],
           "y": [
            null
           ]
          },
          {
           "type": "scatter",
           "x": [
            null,
            null
           ],
           "y": [
            null,
            null
           ]
          },
          {
           "customdata": [],
           "hovertemplate": "%{meta}<br>(%{x}, %{y})<br>Time: %{customdata}",
           "meta": [],
           "type": "scatter",
           "x": [
            null
           ],
           "y": [
            null
           ]
          },
          {
           "customdata": [],
           "hovertemplate": "%{meta}<br>(%{x}, %{y})<br>Time: %{customdata}",
           "meta": [],
           "type": "scatter",
           "x": [
            null
           ],
           "y": [
            null
           ]
          },
          {
           "customdata": [],
           "hovertemplate": "%{meta}<br>(%{x}, %{y})<br>Time: %{customdata}",
           "meta": [],
           "type": "scatter",
           "x": [
            null
           ],
           "y": [
            null
           ]
          },
          {
           "type": "scatter",
           "x": [
            null
           ],
           "y": [
            null
           ]
          },
          {
           "type": "scatter",
           "x": [
            null
           ],
           "y": [
            null
           ]
          },
          {
           "type": "scatter",
           "x": [
            null
           ],
           "y": [
            null
           ]
          },
          {
           "type": "scatter",
           "x": [
            null
           ],
           "y": [
            null
           ]
          }
         ],
         "name": "2023-09-07 15:00:33",
         "traces": [
          0,
          1,
          2,
          3,
          4,
          5,
          6,
          7,
          8,
          9,
          10,
          11,
          12,
          13,
          14,
          15
         ]
        },
        {
         "data": [
          {
           "type": "scatter",
           "x": [
            0,
            0
           ],
           "y": [
            0,
            0
           ]
          },
          {
           "hovertemplate": "GroundTruthState<br>(%{x}, %{y})<br>Time: %{meta}",
           "meta": [],
           "type": "scatter",
           "x": [
            null
           ],
           "y": [
            null
           ]
          },
          {
           "hovertemplate": "GroundTruthState<br>(%{x}, %{y})<br>Time: %{meta}",
           "meta": [],
           "type": "scatter",
           "x": [
            null
           ],
           "y": [
            null
           ]
          },
          {
           "hovertemplate": "GroundTruthState<br>(%{x}, %{y})<br>Time: %{meta}",
           "meta": [],
           "type": "scatter",
           "x": [
            null
           ],
           "y": [
            null
           ]
          },
          {
           "hovertemplate": "GroundTruthState<br>(%{x}, %{y})<br>Time: %{meta}",
           "meta": [],
           "type": "scatter",
           "x": [
            null
           ],
           "y": [
            null
           ]
          },
          {
           "type": "scatter",
           "x": [
            null,
            null
           ],
           "y": [
            null,
            null
           ]
          },
          {
           "hovertemplate": "Detection<br>(%{x}, %{y})<br>Time: %{meta}",
           "meta": [],
           "type": "scatter",
           "x": [
            null
           ],
           "y": [
            null
           ]
          },
          {
           "hovertemplate": "Clutter<br>(%{x}, %{y})<br>Time: %{meta}",
           "meta": [],
           "type": "scatter",
           "x": [
            null
           ],
           "y": [
            null
           ]
          },
          {
           "type": "scatter",
           "x": [
            null,
            null
           ],
           "y": [
            null,
            null
           ]
          },
          {
           "customdata": [],
           "hovertemplate": "%{meta}<br>(%{x}, %{y})<br>Time: %{customdata}",
           "meta": [],
           "type": "scatter",
           "x": [
            null
           ],
           "y": [
            null
           ]
          },
          {
           "customdata": [],
           "hovertemplate": "%{meta}<br>(%{x}, %{y})<br>Time: %{customdata}",
           "meta": [],
           "type": "scatter",
           "x": [
            null
           ],
           "y": [
            null
           ]
          },
          {
           "customdata": [],
           "hovertemplate": "%{meta}<br>(%{x}, %{y})<br>Time: %{customdata}",
           "meta": [],
           "type": "scatter",
           "x": [
            null
           ],
           "y": [
            null
           ]
          },
          {
           "type": "scatter",
           "x": [
            null
           ],
           "y": [
            null
           ]
          },
          {
           "type": "scatter",
           "x": [
            null
           ],
           "y": [
            null
           ]
          },
          {
           "type": "scatter",
           "x": [
            null
           ],
           "y": [
            null
           ]
          },
          {
           "type": "scatter",
           "x": [
            null
           ],
           "y": [
            null
           ]
          }
         ],
         "name": "2023-09-07 15:00:34",
         "traces": [
          0,
          1,
          2,
          3,
          4,
          5,
          6,
          7,
          8,
          9,
          10,
          11,
          12,
          13,
          14,
          15
         ]
        },
        {
         "data": [
          {
           "type": "scatter",
           "x": [
            0,
            0
           ],
           "y": [
            0,
            0
           ]
          },
          {
           "hovertemplate": "GroundTruthState<br>(%{x}, %{y})<br>Time: %{meta}",
           "meta": [],
           "type": "scatter",
           "x": [
            null
           ],
           "y": [
            null
           ]
          },
          {
           "hovertemplate": "GroundTruthState<br>(%{x}, %{y})<br>Time: %{meta}",
           "meta": [],
           "type": "scatter",
           "x": [
            null
           ],
           "y": [
            null
           ]
          },
          {
           "hovertemplate": "GroundTruthState<br>(%{x}, %{y})<br>Time: %{meta}",
           "meta": [],
           "type": "scatter",
           "x": [
            null
           ],
           "y": [
            null
           ]
          },
          {
           "hovertemplate": "GroundTruthState<br>(%{x}, %{y})<br>Time: %{meta}",
           "meta": [],
           "type": "scatter",
           "x": [
            null
           ],
           "y": [
            null
           ]
          },
          {
           "type": "scatter",
           "x": [
            null,
            null
           ],
           "y": [
            null,
            null
           ]
          },
          {
           "hovertemplate": "Detection<br>(%{x}, %{y})<br>Time: %{meta}",
           "meta": [],
           "type": "scatter",
           "x": [
            null
           ],
           "y": [
            null
           ]
          },
          {
           "hovertemplate": "Clutter<br>(%{x}, %{y})<br>Time: %{meta}",
           "meta": [],
           "type": "scatter",
           "x": [
            null
           ],
           "y": [
            null
           ]
          },
          {
           "type": "scatter",
           "x": [
            null,
            null
           ],
           "y": [
            null,
            null
           ]
          },
          {
           "customdata": [],
           "hovertemplate": "%{meta}<br>(%{x}, %{y})<br>Time: %{customdata}",
           "meta": [],
           "type": "scatter",
           "x": [
            null
           ],
           "y": [
            null
           ]
          },
          {
           "customdata": [],
           "hovertemplate": "%{meta}<br>(%{x}, %{y})<br>Time: %{customdata}",
           "meta": [],
           "type": "scatter",
           "x": [
            null
           ],
           "y": [
            null
           ]
          },
          {
           "customdata": [],
           "hovertemplate": "%{meta}<br>(%{x}, %{y})<br>Time: %{customdata}",
           "meta": [],
           "type": "scatter",
           "x": [
            null
           ],
           "y": [
            null
           ]
          },
          {
           "type": "scatter",
           "x": [
            null
           ],
           "y": [
            null
           ]
          },
          {
           "type": "scatter",
           "x": [
            null
           ],
           "y": [
            null
           ]
          },
          {
           "type": "scatter",
           "x": [
            null
           ],
           "y": [
            null
           ]
          },
          {
           "type": "scatter",
           "x": [
            null
           ],
           "y": [
            null
           ]
          }
         ],
         "name": "2023-09-07 15:00:35",
         "traces": [
          0,
          1,
          2,
          3,
          4,
          5,
          6,
          7,
          8,
          9,
          10,
          11,
          12,
          13,
          14,
          15
         ]
        },
        {
         "data": [
          {
           "type": "scatter",
           "x": [
            0,
            0
           ],
           "y": [
            0,
            0
           ]
          },
          {
           "hovertemplate": "GroundTruthState<br>(%{x}, %{y})<br>Time: %{meta}",
           "meta": [],
           "type": "scatter",
           "x": [
            null
           ],
           "y": [
            null
           ]
          },
          {
           "hovertemplate": "GroundTruthState<br>(%{x}, %{y})<br>Time: %{meta}",
           "meta": [],
           "type": "scatter",
           "x": [
            null
           ],
           "y": [
            null
           ]
          },
          {
           "hovertemplate": "GroundTruthState<br>(%{x}, %{y})<br>Time: %{meta}",
           "meta": [],
           "type": "scatter",
           "x": [
            null
           ],
           "y": [
            null
           ]
          },
          {
           "hovertemplate": "GroundTruthState<br>(%{x}, %{y})<br>Time: %{meta}",
           "meta": [],
           "type": "scatter",
           "x": [
            null
           ],
           "y": [
            null
           ]
          },
          {
           "type": "scatter",
           "x": [
            null,
            null
           ],
           "y": [
            null,
            null
           ]
          },
          {
           "hovertemplate": "Detection<br>(%{x}, %{y})<br>Time: %{meta}",
           "meta": [],
           "type": "scatter",
           "x": [
            null
           ],
           "y": [
            null
           ]
          },
          {
           "hovertemplate": "Clutter<br>(%{x}, %{y})<br>Time: %{meta}",
           "meta": [],
           "type": "scatter",
           "x": [
            null
           ],
           "y": [
            null
           ]
          },
          {
           "type": "scatter",
           "x": [
            null,
            null
           ],
           "y": [
            null,
            null
           ]
          },
          {
           "customdata": [],
           "hovertemplate": "%{meta}<br>(%{x}, %{y})<br>Time: %{customdata}",
           "meta": [],
           "type": "scatter",
           "x": [
            null
           ],
           "y": [
            null
           ]
          },
          {
           "customdata": [],
           "hovertemplate": "%{meta}<br>(%{x}, %{y})<br>Time: %{customdata}",
           "meta": [],
           "type": "scatter",
           "x": [
            null
           ],
           "y": [
            null
           ]
          },
          {
           "customdata": [],
           "hovertemplate": "%{meta}<br>(%{x}, %{y})<br>Time: %{customdata}",
           "meta": [],
           "type": "scatter",
           "x": [
            null
           ],
           "y": [
            null
           ]
          },
          {
           "type": "scatter",
           "x": [
            null
           ],
           "y": [
            null
           ]
          },
          {
           "type": "scatter",
           "x": [
            null
           ],
           "y": [
            null
           ]
          },
          {
           "type": "scatter",
           "x": [
            null
           ],
           "y": [
            null
           ]
          },
          {
           "type": "scatter",
           "x": [
            null
           ],
           "y": [
            null
           ]
          }
         ],
         "name": "2023-09-07 15:00:36",
         "traces": [
          0,
          1,
          2,
          3,
          4,
          5,
          6,
          7,
          8,
          9,
          10,
          11,
          12,
          13,
          14,
          15
         ]
        },
        {
         "data": [
          {
           "type": "scatter",
           "x": [
            0,
            0
           ],
           "y": [
            0,
            0
           ]
          },
          {
           "hovertemplate": "GroundTruthState<br>(%{x}, %{y})<br>Time: %{meta}",
           "meta": [],
           "type": "scatter",
           "x": [
            null
           ],
           "y": [
            null
           ]
          },
          {
           "hovertemplate": "GroundTruthState<br>(%{x}, %{y})<br>Time: %{meta}",
           "meta": [],
           "type": "scatter",
           "x": [
            null
           ],
           "y": [
            null
           ]
          },
          {
           "hovertemplate": "GroundTruthState<br>(%{x}, %{y})<br>Time: %{meta}",
           "meta": [],
           "type": "scatter",
           "x": [
            null
           ],
           "y": [
            null
           ]
          },
          {
           "hovertemplate": "GroundTruthState<br>(%{x}, %{y})<br>Time: %{meta}",
           "meta": [],
           "type": "scatter",
           "x": [
            null
           ],
           "y": [
            null
           ]
          },
          {
           "type": "scatter",
           "x": [
            null,
            null
           ],
           "y": [
            null,
            null
           ]
          },
          {
           "hovertemplate": "Detection<br>(%{x}, %{y})<br>Time: %{meta}",
           "meta": [],
           "type": "scatter",
           "x": [
            null
           ],
           "y": [
            null
           ]
          },
          {
           "hovertemplate": "Clutter<br>(%{x}, %{y})<br>Time: %{meta}",
           "meta": [],
           "type": "scatter",
           "x": [
            null
           ],
           "y": [
            null
           ]
          },
          {
           "type": "scatter",
           "x": [
            null,
            null
           ],
           "y": [
            null,
            null
           ]
          },
          {
           "customdata": [],
           "hovertemplate": "%{meta}<br>(%{x}, %{y})<br>Time: %{customdata}",
           "meta": [],
           "type": "scatter",
           "x": [
            null
           ],
           "y": [
            null
           ]
          },
          {
           "customdata": [],
           "hovertemplate": "%{meta}<br>(%{x}, %{y})<br>Time: %{customdata}",
           "meta": [],
           "type": "scatter",
           "x": [
            null
           ],
           "y": [
            null
           ]
          },
          {
           "customdata": [],
           "hovertemplate": "%{meta}<br>(%{x}, %{y})<br>Time: %{customdata}",
           "meta": [],
           "type": "scatter",
           "x": [
            null
           ],
           "y": [
            null
           ]
          },
          {
           "type": "scatter",
           "x": [
            null
           ],
           "y": [
            null
           ]
          },
          {
           "type": "scatter",
           "x": [
            null
           ],
           "y": [
            null
           ]
          },
          {
           "type": "scatter",
           "x": [
            null
           ],
           "y": [
            null
           ]
          },
          {
           "type": "scatter",
           "x": [
            null
           ],
           "y": [
            null
           ]
          }
         ],
         "name": "2023-09-07 15:00:37",
         "traces": [
          0,
          1,
          2,
          3,
          4,
          5,
          6,
          7,
          8,
          9,
          10,
          11,
          12,
          13,
          14,
          15
         ]
        },
        {
         "data": [
          {
           "type": "scatter",
           "x": [
            0,
            0
           ],
           "y": [
            0,
            0
           ]
          },
          {
           "hovertemplate": "GroundTruthState<br>(%{x}, %{y})<br>Time: %{meta}",
           "meta": [],
           "type": "scatter",
           "x": [
            null
           ],
           "y": [
            null
           ]
          },
          {
           "hovertemplate": "GroundTruthState<br>(%{x}, %{y})<br>Time: %{meta}",
           "meta": [],
           "type": "scatter",
           "x": [
            null
           ],
           "y": [
            null
           ]
          },
          {
           "hovertemplate": "GroundTruthState<br>(%{x}, %{y})<br>Time: %{meta}",
           "meta": [],
           "type": "scatter",
           "x": [
            null
           ],
           "y": [
            null
           ]
          },
          {
           "hovertemplate": "GroundTruthState<br>(%{x}, %{y})<br>Time: %{meta}",
           "meta": [],
           "type": "scatter",
           "x": [
            null
           ],
           "y": [
            null
           ]
          },
          {
           "type": "scatter",
           "x": [
            null,
            null
           ],
           "y": [
            null,
            null
           ]
          },
          {
           "hovertemplate": "Detection<br>(%{x}, %{y})<br>Time: %{meta}",
           "meta": [],
           "type": "scatter",
           "x": [
            null
           ],
           "y": [
            null
           ]
          },
          {
           "hovertemplate": "Clutter<br>(%{x}, %{y})<br>Time: %{meta}",
           "meta": [],
           "type": "scatter",
           "x": [
            null
           ],
           "y": [
            null
           ]
          },
          {
           "type": "scatter",
           "x": [
            null,
            null
           ],
           "y": [
            null,
            null
           ]
          },
          {
           "customdata": [],
           "hovertemplate": "%{meta}<br>(%{x}, %{y})<br>Time: %{customdata}",
           "meta": [],
           "type": "scatter",
           "x": [
            null
           ],
           "y": [
            null
           ]
          },
          {
           "customdata": [],
           "hovertemplate": "%{meta}<br>(%{x}, %{y})<br>Time: %{customdata}",
           "meta": [],
           "type": "scatter",
           "x": [
            null
           ],
           "y": [
            null
           ]
          },
          {
           "customdata": [],
           "hovertemplate": "%{meta}<br>(%{x}, %{y})<br>Time: %{customdata}",
           "meta": [],
           "type": "scatter",
           "x": [
            null
           ],
           "y": [
            null
           ]
          },
          {
           "type": "scatter",
           "x": [
            null
           ],
           "y": [
            null
           ]
          },
          {
           "type": "scatter",
           "x": [
            null
           ],
           "y": [
            null
           ]
          },
          {
           "type": "scatter",
           "x": [
            null
           ],
           "y": [
            null
           ]
          },
          {
           "type": "scatter",
           "x": [
            null
           ],
           "y": [
            null
           ]
          }
         ],
         "name": "2023-09-07 15:00:38",
         "traces": [
          0,
          1,
          2,
          3,
          4,
          5,
          6,
          7,
          8,
          9,
          10,
          11,
          12,
          13,
          14,
          15
         ]
        },
        {
         "data": [
          {
           "type": "scatter",
           "x": [
            0,
            0
           ],
           "y": [
            0,
            0
           ]
          },
          {
           "hovertemplate": "GroundTruthState<br>(%{x}, %{y})<br>Time: %{meta}",
           "meta": [],
           "type": "scatter",
           "x": [
            null
           ],
           "y": [
            null
           ]
          },
          {
           "hovertemplate": "GroundTruthState<br>(%{x}, %{y})<br>Time: %{meta}",
           "meta": [],
           "type": "scatter",
           "x": [
            null
           ],
           "y": [
            null
           ]
          },
          {
           "hovertemplate": "GroundTruthState<br>(%{x}, %{y})<br>Time: %{meta}",
           "meta": [],
           "type": "scatter",
           "x": [
            null
           ],
           "y": [
            null
           ]
          },
          {
           "hovertemplate": "GroundTruthState<br>(%{x}, %{y})<br>Time: %{meta}",
           "meta": [],
           "type": "scatter",
           "x": [
            null
           ],
           "y": [
            null
           ]
          },
          {
           "type": "scatter",
           "x": [
            null,
            null
           ],
           "y": [
            null,
            null
           ]
          },
          {
           "hovertemplate": "Detection<br>(%{x}, %{y})<br>Time: %{meta}",
           "meta": [],
           "type": "scatter",
           "x": [
            null
           ],
           "y": [
            null
           ]
          },
          {
           "hovertemplate": "Clutter<br>(%{x}, %{y})<br>Time: %{meta}",
           "meta": [],
           "type": "scatter",
           "x": [
            null
           ],
           "y": [
            null
           ]
          },
          {
           "type": "scatter",
           "x": [
            null,
            null
           ],
           "y": [
            null,
            null
           ]
          },
          {
           "customdata": [],
           "hovertemplate": "%{meta}<br>(%{x}, %{y})<br>Time: %{customdata}",
           "meta": [],
           "type": "scatter",
           "x": [
            null
           ],
           "y": [
            null
           ]
          },
          {
           "customdata": [],
           "hovertemplate": "%{meta}<br>(%{x}, %{y})<br>Time: %{customdata}",
           "meta": [],
           "type": "scatter",
           "x": [
            null
           ],
           "y": [
            null
           ]
          },
          {
           "customdata": [],
           "hovertemplate": "%{meta}<br>(%{x}, %{y})<br>Time: %{customdata}",
           "meta": [],
           "type": "scatter",
           "x": [
            null
           ],
           "y": [
            null
           ]
          },
          {
           "type": "scatter",
           "x": [
            null
           ],
           "y": [
            null
           ]
          },
          {
           "type": "scatter",
           "x": [
            null
           ],
           "y": [
            null
           ]
          },
          {
           "type": "scatter",
           "x": [
            null
           ],
           "y": [
            null
           ]
          },
          {
           "type": "scatter",
           "x": [
            null
           ],
           "y": [
            null
           ]
          }
         ],
         "name": "2023-09-07 15:00:39",
         "traces": [
          0,
          1,
          2,
          3,
          4,
          5,
          6,
          7,
          8,
          9,
          10,
          11,
          12,
          13,
          14,
          15
         ]
        },
        {
         "data": [
          {
           "type": "scatter",
           "x": [
            0,
            0
           ],
           "y": [
            0,
            0
           ]
          },
          {
           "hovertemplate": "GroundTruthState<br>(%{x}, %{y})<br>Time: %{meta}",
           "meta": [
            "2023-09-07 15:00:40"
           ],
           "type": "scatter",
           "x": [
            0,
            null
           ],
           "y": [
            41.55127793935055,
            null
           ]
          },
          {
           "hovertemplate": "GroundTruthState<br>(%{x}, %{y})<br>Time: %{meta}",
           "meta": [],
           "type": "scatter",
           "x": [
            null
           ],
           "y": [
            null
           ]
          },
          {
           "hovertemplate": "GroundTruthState<br>(%{x}, %{y})<br>Time: %{meta}",
           "meta": [],
           "type": "scatter",
           "x": [
            null
           ],
           "y": [
            null
           ]
          },
          {
           "hovertemplate": "GroundTruthState<br>(%{x}, %{y})<br>Time: %{meta}",
           "meta": [],
           "type": "scatter",
           "x": [
            null
           ],
           "y": [
            null
           ]
          },
          {
           "type": "scatter",
           "x": [
            null,
            null
           ],
           "y": [
            null,
            null
           ]
          },
          {
           "hovertemplate": "Detection<br>(%{x}, %{y})<br>Time: %{meta}",
           "meta": [
            "2023-09-07 15:00:40"
           ],
           "type": "scatter",
           "x": [
            -0.43005629247898636,
            null
           ],
           "y": [
            41.49312990045806,
            null
           ]
          },
          {
           "hovertemplate": "Clutter<br>(%{x}, %{y})<br>Time: %{meta}",
           "meta": [
            "2023-09-07 15:00:40"
           ],
           "type": "scatter",
           "x": [
            0.2628629860147935,
            null
           ],
           "y": [
            45.565386681545874,
            null
           ]
          },
          {
           "type": "scatter",
           "x": [
            null,
            null
           ],
           "y": [
            null,
            null
           ]
          },
          {
           "customdata": [],
           "hovertemplate": "%{meta}<br>(%{x}, %{y})<br>Time: %{customdata}",
           "meta": [],
           "type": "scatter",
           "x": [
            null
           ],
           "y": [
            null
           ]
          },
          {
           "customdata": [
            "2023-09-07 15:00:40"
           ],
           "hovertemplate": "%{meta}<br>(%{x}, %{y})<br>Time: %{customdata}",
           "meta": [
            "GaussianStateUpdate"
           ],
           "type": "scatter",
           "x": [
            -0.43005629247898636,
            null
           ],
           "y": [
            41.49312990045806,
            null
           ]
          },
          {
           "customdata": [],
           "hovertemplate": "%{meta}<br>(%{x}, %{y})<br>Time: %{customdata}",
           "meta": [],
           "type": "scatter",
           "x": [
            null
           ],
           "y": [
            null
           ]
          },
          {
           "type": "scatter",
           "x": [
            null
           ],
           "y": [
            null
           ]
          },
          {
           "type": "scatter",
           "x": [
            null
           ],
           "y": [
            null
           ]
          },
          {
           "type": "scatter",
           "x": [
            -0.43005629247898636,
            -0.3261004470701067,
            -0.22668797094108628,
            -0.1361636663327498,
            -0.05848387974028929,
            0.002956409413232941,
            0.04547196566859041,
            0.06720465520515029,
            0.06720465520515034,
            0.045471965668590464,
            0.0029564094132329966,
            -0.058483879740289124,
            -0.13616366633274973,
            -0.22668797094108634,
            -0.3261004470701067,
            -0.4300562924789863,
            -0.534012137887866,
            -0.6334246140168862,
            -0.7239489186252228,
            -0.8016287052176834,
            -0.8630689943712055,
            -0.9055845506265632,
            -0.927317240163123,
            -0.927317240163123,
            -0.9055845506265632,
            -0.8630689943712057,
            -0.8016287052176834,
            -0.723948918625223,
            -0.6334246140168864,
            -0.5340121378878663,
            null,
            null
           ],
           "y": [
            41.99312990045806,
            41.98220370082496,
            41.94990262927936,
            41.89763839764553,
            41.82769520363749,
            41.74312990045806,
            41.64763839764553,
            41.545394132091886,
            41.44086566882423,
            41.33862140327059,
            41.24312990045806,
            41.15856459727863,
            41.08862140327059,
            41.03635717163676,
            41.004056100091155,
            40.99312990045806,
            41.004056100091155,
            41.03635717163676,
            41.08862140327059,
            41.15856459727863,
            41.24312990045806,
            41.33862140327059,
            41.44086566882423,
            41.545394132091886,
            41.64763839764553,
            41.74312990045806,
            41.82769520363749,
            41.89763839764553,
            41.94990262927936,
            41.98220370082496,
            null,
            null
           ]
          },
          {
           "type": "scatter",
           "x": [
            null
           ],
           "y": [
            null
           ]
          }
         ],
         "name": "2023-09-07 15:00:40",
         "traces": [
          0,
          1,
          2,
          3,
          4,
          5,
          6,
          7,
          8,
          9,
          10,
          11,
          12,
          13,
          14,
          15
         ]
        },
        {
         "data": [
          {
           "type": "scatter",
           "x": [
            0,
            0
           ],
           "y": [
            0,
            0
           ]
          },
          {
           "hovertemplate": "GroundTruthState<br>(%{x}, %{y})<br>Time: %{meta}",
           "meta": [
            "2023-09-07 15:00:40",
            "2023-09-07 15:00:41"
           ],
           "type": "scatter",
           "x": [
            0,
            0.8091562802362998,
            null
           ],
           "y": [
            41.55127793935055,
            41.14739075037148,
            null
           ]
          },
          {
           "hovertemplate": "GroundTruthState<br>(%{x}, %{y})<br>Time: %{meta}",
           "meta": [],
           "type": "scatter",
           "x": [
            null
           ],
           "y": [
            null
           ]
          },
          {
           "hovertemplate": "GroundTruthState<br>(%{x}, %{y})<br>Time: %{meta}",
           "meta": [],
           "type": "scatter",
           "x": [
            null
           ],
           "y": [
            null
           ]
          },
          {
           "hovertemplate": "GroundTruthState<br>(%{x}, %{y})<br>Time: %{meta}",
           "meta": [],
           "type": "scatter",
           "x": [
            null
           ],
           "y": [
            null
           ]
          },
          {
           "type": "scatter",
           "x": [
            null,
            null
           ],
           "y": [
            null,
            null
           ]
          },
          {
           "hovertemplate": "Detection<br>(%{x}, %{y})<br>Time: %{meta}",
           "meta": [
            "2023-09-07 15:00:40",
            "2023-09-07 15:00:41"
           ],
           "type": "scatter",
           "x": [
            -0.43005629247898636,
            1.9613126588341832,
            null
           ],
           "y": [
            41.49312990045806,
            41.29578777553558,
            null
           ]
          },
          {
           "hovertemplate": "Clutter<br>(%{x}, %{y})<br>Time: %{meta}",
           "meta": [
            "2023-09-07 15:00:40",
            "2023-09-07 15:00:41",
            "2023-09-07 15:00:41",
            "2023-09-07 15:00:41"
           ],
           "type": "scatter",
           "x": [
            0.2628629860147935,
            -5.947186089536171,
            7.511234499194794,
            1.2368016066430076,
            null
           ],
           "y": [
            45.565386681545874,
            45.05366061755791,
            46.35592175810034,
            32.05905379580751,
            null
           ]
          },
          {
           "type": "scatter",
           "x": [
            null,
            null
           ],
           "y": [
            null,
            null
           ]
          },
          {
           "customdata": [],
           "hovertemplate": "%{meta}<br>(%{x}, %{y})<br>Time: %{customdata}",
           "meta": [],
           "type": "scatter",
           "x": [
            null
           ],
           "y": [
            null
           ]
          },
          {
           "customdata": [
            "2023-09-07 15:00:40",
            "2023-09-07 15:00:41"
           ],
           "hovertemplate": "%{meta}<br>(%{x}, %{y})<br>Time: %{customdata}",
           "meta": [
            "GaussianStateUpdate",
            "GaussianStateUpdate"
           ],
           "type": "scatter",
           "x": [
            -0.43005629247898636,
            1.5671309635627815,
            null
           ],
           "y": [
            41.49312990045806,
            41.3283166972261,
            null
           ]
          },
          {
           "customdata": [],
           "hovertemplate": "%{meta}<br>(%{x}, %{y})<br>Time: %{customdata}",
           "meta": [],
           "type": "scatter",
           "x": [
            null
           ],
           "y": [
            null
           ]
          },
          {
           "type": "scatter",
           "x": [
            null
           ],
           "y": [
            null
           ]
          },
          {
           "type": "scatter",
           "x": [
            null
           ],
           "y": [
            null
           ]
          },
          {
           "type": "scatter",
           "x": [
            1.5671309635627815,
            1.6621334593307668,
            1.7529838901611383,
            1.8357116562778737,
            1.9067011573298065,
            1.9628498114755475,
            2.001703653097792,
            2.0215645828762305,
            2.0215645828762305,
            2.001703653097792,
            1.9628498114755475,
            1.9067011573298067,
            1.8357116562778737,
            1.752983890161138,
            1.6621334593307668,
            1.5671309635627815,
            1.4721284677947963,
            1.3812780369644249,
            1.2985502708476893,
            1.2275607697957565,
            1.1714121156500155,
            1.132558274027771,
            1.1126973442493324,
            1.1126973442493324,
            1.1325582740277709,
            1.1714121156500155,
            1.2275607697957565,
            1.2985502708476893,
            1.3812780369644246,
            1.472128467794796,
            null,
            null
           ],
           "y": [
            41.78525346395779,
            41.77526829929176,
            41.74574920490373,
            41.697986306866774,
            41.63406707301693,
            41.55678508059194,
            41.46951792350093,
            41.37607959526305,
            41.28055379918915,
            41.18711547095127,
            41.09984831386026,
            41.02256632143527,
            40.958647087585426,
            40.91088418954847,
            40.88136509516044,
            40.87137993049441,
            40.88136509516044,
            40.91088418954847,
            40.958647087585426,
            41.02256632143527,
            41.09984831386026,
            41.18711547095127,
            41.28055379918914,
            41.37607959526306,
            41.46951792350093,
            41.55678508059194,
            41.63406707301693,
            41.697986306866774,
            41.74574920490373,
            41.77526829929176,
            null,
            null
           ]
          },
          {
           "type": "scatter",
           "x": [
            null
           ],
           "y": [
            null
           ]
          }
         ],
         "name": "2023-09-07 15:00:41",
         "traces": [
          0,
          1,
          2,
          3,
          4,
          5,
          6,
          7,
          8,
          9,
          10,
          11,
          12,
          13,
          14,
          15
         ]
        },
        {
         "data": [
          {
           "type": "scatter",
           "x": [
            0,
            0
           ],
           "y": [
            0,
            0
           ]
          },
          {
           "hovertemplate": "GroundTruthState<br>(%{x}, %{y})<br>Time: %{meta}",
           "meta": [
            "2023-09-07 15:00:40",
            "2023-09-07 15:00:41",
            "2023-09-07 15:00:42"
           ],
           "type": "scatter",
           "x": [
            0,
            0.8091562802362998,
            1.4187778862009663,
            null
           ],
           "y": [
            41.55127793935055,
            41.14739075037148,
            40.71022742116085,
            null
           ]
          },
          {
           "hovertemplate": "GroundTruthState<br>(%{x}, %{y})<br>Time: %{meta}",
           "meta": [],
           "type": "scatter",
           "x": [
            null
           ],
           "y": [
            null
           ]
          },
          {
           "hovertemplate": "GroundTruthState<br>(%{x}, %{y})<br>Time: %{meta}",
           "meta": [],
           "type": "scatter",
           "x": [
            null
           ],
           "y": [
            null
           ]
          },
          {
           "hovertemplate": "GroundTruthState<br>(%{x}, %{y})<br>Time: %{meta}",
           "meta": [],
           "type": "scatter",
           "x": [
            null
           ],
           "y": [
            null
           ]
          },
          {
           "type": "scatter",
           "x": [
            null,
            null
           ],
           "y": [
            null,
            null
           ]
          },
          {
           "hovertemplate": "Detection<br>(%{x}, %{y})<br>Time: %{meta}",
           "meta": [
            "2023-09-07 15:00:40",
            "2023-09-07 15:00:41",
            "2023-09-07 15:00:42"
           ],
           "type": "scatter",
           "x": [
            -0.43005629247898636,
            1.9613126588341832,
            1.328760915097623,
            null
           ],
           "y": [
            41.49312990045806,
            41.29578777553558,
            40.56025765481257,
            null
           ]
          },
          {
           "hovertemplate": "Clutter<br>(%{x}, %{y})<br>Time: %{meta}",
           "meta": [
            "2023-09-07 15:00:40",
            "2023-09-07 15:00:41",
            "2023-09-07 15:00:41",
            "2023-09-07 15:00:41"
           ],
           "type": "scatter",
           "x": [
            0.2628629860147935,
            -5.947186089536171,
            7.511234499194794,
            1.2368016066430076,
            null
           ],
           "y": [
            45.565386681545874,
            45.05366061755791,
            46.35592175810034,
            32.05905379580751,
            null
           ]
          },
          {
           "type": "scatter",
           "x": [
            null,
            null
           ],
           "y": [
            null,
            null
           ]
          },
          {
           "customdata": [],
           "hovertemplate": "%{meta}<br>(%{x}, %{y})<br>Time: %{customdata}",
           "meta": [],
           "type": "scatter",
           "x": [
            null
           ],
           "y": [
            null
           ]
          },
          {
           "customdata": [
            "2023-09-07 15:00:40",
            "2023-09-07 15:00:41",
            "2023-09-07 15:00:42"
           ],
           "hovertemplate": "%{meta}<br>(%{x}, %{y})<br>Time: %{customdata}",
           "meta": [
            "GaussianStateUpdate",
            "GaussianStateUpdate",
            "GaussianStateUpdate"
           ],
           "type": "scatter",
           "x": [
            -0.43005629247898636,
            1.5671309635627815,
            1.7248047174586882,
            null
           ],
           "y": [
            41.49312990045806,
            41.3283166972261,
            40.69579995272057,
            null
           ]
          },
          {
           "customdata": [],
           "hovertemplate": "%{meta}<br>(%{x}, %{y})<br>Time: %{customdata}",
           "meta": [],
           "type": "scatter",
           "x": [
            null
           ],
           "y": [
            null
           ]
          },
          {
           "type": "scatter",
           "x": [
            null
           ],
           "y": [
            null
           ]
          },
          {
           "type": "scatter",
           "x": [
            null
           ],
           "y": [
            null
           ]
          },
          {
           "type": "scatter",
           "x": [
            1.7248047174586882,
            1.8169944739537869,
            1.9051550957145171,
            1.9854335405283365,
            2.054321255138163,
            2.1088075158556183,
            2.1465110116332617,
            2.1657839187841654,
            2.1657839187841654,
            2.1465110116332617,
            2.108807515855618,
            2.0543212551381633,
            1.9854335405283363,
            1.9051550957145171,
            1.8169944739537869,
            1.7248047174586882,
            1.6326149609635898,
            1.5444543392028596,
            1.4641758943890402,
            1.3952881797792136,
            1.3408019190617586,
            1.3030984232841147,
            1.283825516133211,
            1.283825516133211,
            1.303098423284115,
            1.3408019190617582,
            1.3952881797792136,
            1.46417589438904,
            1.5444543392028593,
            1.6326149609635894,
            null,
            null
           ],
           "y": [
            41.13920819076864,
            41.1295186569129,
            41.1008735344707,
            41.05452475274731,
            40.99249797591019,
            40.91750407174461,
            40.83282063372328,
            40.74214873444395,
            40.64945117099719,
            40.55877927171786,
            40.47409583369653,
            40.39910192953095,
            40.33707515269383,
            40.29072637097044,
            40.26208124852824,
            40.2523917146725,
            40.26208124852824,
            40.29072637097044,
            40.33707515269383,
            40.39910192953095,
            40.47409583369653,
            40.55877927171786,
            40.64945117099719,
            40.74214873444395,
            40.83282063372328,
            40.91750407174461,
            40.99249797591019,
            41.05452475274731,
            41.1008735344707,
            41.1295186569129,
            null,
            null
           ]
          },
          {
           "type": "scatter",
           "x": [
            null
           ],
           "y": [
            null
           ]
          }
         ],
         "name": "2023-09-07 15:00:42",
         "traces": [
          0,
          1,
          2,
          3,
          4,
          5,
          6,
          7,
          8,
          9,
          10,
          11,
          12,
          13,
          14,
          15
         ]
        },
        {
         "data": [
          {
           "type": "scatter",
           "x": [
            0,
            0
           ],
           "y": [
            0,
            0
           ]
          },
          {
           "hovertemplate": "GroundTruthState<br>(%{x}, %{y})<br>Time: %{meta}",
           "meta": [
            "2023-09-07 15:00:40",
            "2023-09-07 15:00:41",
            "2023-09-07 15:00:42",
            "2023-09-07 15:00:43"
           ],
           "type": "scatter",
           "x": [
            0,
            0.8091562802362998,
            1.4187778862009663,
            1.9340594175080428,
            null
           ],
           "y": [
            41.55127793935055,
            41.14739075037148,
            40.71022742116085,
            40.33576258703677,
            null
           ]
          },
          {
           "hovertemplate": "GroundTruthState<br>(%{x}, %{y})<br>Time: %{meta}",
           "meta": [],
           "type": "scatter",
           "x": [
            null
           ],
           "y": [
            null
           ]
          },
          {
           "hovertemplate": "GroundTruthState<br>(%{x}, %{y})<br>Time: %{meta}",
           "meta": [],
           "type": "scatter",
           "x": [
            null
           ],
           "y": [
            null
           ]
          },
          {
           "hovertemplate": "GroundTruthState<br>(%{x}, %{y})<br>Time: %{meta}",
           "meta": [],
           "type": "scatter",
           "x": [
            null
           ],
           "y": [
            null
           ]
          },
          {
           "type": "scatter",
           "x": [
            null,
            null
           ],
           "y": [
            null,
            null
           ]
          },
          {
           "hovertemplate": "Detection<br>(%{x}, %{y})<br>Time: %{meta}",
           "meta": [
            "2023-09-07 15:00:40",
            "2023-09-07 15:00:41",
            "2023-09-07 15:00:42",
            "2023-09-07 15:00:43"
           ],
           "type": "scatter",
           "x": [
            -0.43005629247898636,
            1.9613126588341832,
            1.328760915097623,
            1.6486342541080825,
            null
           ],
           "y": [
            41.49312990045806,
            41.29578777553558,
            40.56025765481257,
            40.943137598599904,
            null
           ]
          },
          {
           "hovertemplate": "Clutter<br>(%{x}, %{y})<br>Time: %{meta}",
           "meta": [
            "2023-09-07 15:00:40",
            "2023-09-07 15:00:41",
            "2023-09-07 15:00:41",
            "2023-09-07 15:00:41",
            "2023-09-07 15:00:43"
           ],
           "type": "scatter",
           "x": [
            0.2628629860147935,
            -5.947186089536171,
            7.511234499194794,
            1.2368016066430076,
            -3.9383022083791523,
            null
           ],
           "y": [
            45.565386681545874,
            45.05366061755791,
            46.35592175810034,
            32.05905379580751,
            47.28393730753255,
            null
           ]
          },
          {
           "type": "scatter",
           "x": [
            null,
            null
           ],
           "y": [
            null,
            null
           ]
          },
          {
           "customdata": [],
           "hovertemplate": "%{meta}<br>(%{x}, %{y})<br>Time: %{customdata}",
           "meta": [],
           "type": "scatter",
           "x": [
            null
           ],
           "y": [
            null
           ]
          },
          {
           "customdata": [
            "2023-09-07 15:00:40",
            "2023-09-07 15:00:41",
            "2023-09-07 15:00:42",
            "2023-09-07 15:00:43"
           ],
           "hovertemplate": "%{meta}<br>(%{x}, %{y})<br>Time: %{customdata}",
           "meta": [
            "GaussianStateUpdate",
            "GaussianStateUpdate",
            "GaussianStateUpdate",
            "GaussianStateUpdate"
           ],
           "type": "scatter",
           "x": [
            -0.43005629247898636,
            1.5671309635627815,
            1.7248047174586882,
            1.8905500191617137,
            null
           ],
           "y": [
            41.49312990045806,
            41.3283166972261,
            40.69579995272057,
            40.74242157325732,
            null
           ]
          },
          {
           "customdata": [],
           "hovertemplate": "%{meta}<br>(%{x}, %{y})<br>Time: %{customdata}",
           "meta": [],
           "type": "scatter",
           "x": [
            null
           ],
           "y": [
            null
           ]
          },
          {
           "type": "scatter",
           "x": [
            null
           ],
           "y": [
            null
           ]
          },
          {
           "type": "scatter",
           "x": [
            null
           ],
           "y": [
            null
           ]
          },
          {
           "type": "scatter",
           "x": [
            1.8905500191617137,
            1.977813654747163,
            2.0612634507201464,
            2.1372522505600955,
            2.202458979079288,
            2.2540337893448354,
            2.289722614664737,
            2.307965682118528,
            2.307965682118528,
            2.289722614664737,
            2.2540337893448354,
            2.202458979079288,
            2.1372522505600955,
            2.061263450720146,
            1.977813654747163,
            1.8905500191617137,
            1.8032863835762645,
            1.7198365876032815,
            1.6438477877633322,
            1.5786410592441398,
            1.5270662489785918,
            1.4913774236586905,
            1.4731343562048995,
            1.4731343562048995,
            1.4913774236586905,
            1.527066248978592,
            1.5786410592441398,
            1.643847787763332,
            1.719836587603281,
            1.8032863835762647,
            null,
            null
           ],
           "y": [
            41.162136478379885,
            41.15296470069518,
            41.125850218336936,
            41.08197806429395,
            41.023265662219835,
            40.952279025818605,
            40.87212061173266,
            40.78629372730031,
            40.698549419214324,
            40.61272253478197,
            40.53256412069603,
            40.4615774842948,
            40.402865082220686,
            40.3589929281777,
            40.331878445819456,
            40.32270666813475,
            40.331878445819456,
            40.3589929281777,
            40.402865082220686,
            40.4615774842948,
            40.53256412069603,
            40.61272253478197,
            40.698549419214324,
            40.78629372730031,
            40.87212061173266,
            40.952279025818605,
            41.023265662219835,
            41.08197806429395,
            41.125850218336936,
            41.15296470069518,
            null,
            null
           ]
          },
          {
           "type": "scatter",
           "x": [
            null
           ],
           "y": [
            null
           ]
          }
         ],
         "name": "2023-09-07 15:00:43",
         "traces": [
          0,
          1,
          2,
          3,
          4,
          5,
          6,
          7,
          8,
          9,
          10,
          11,
          12,
          13,
          14,
          15
         ]
        },
        {
         "data": [
          {
           "type": "scatter",
           "x": [
            0,
            0
           ],
           "y": [
            0,
            0
           ]
          },
          {
           "hovertemplate": "GroundTruthState<br>(%{x}, %{y})<br>Time: %{meta}",
           "meta": [
            "2023-09-07 15:00:40",
            "2023-09-07 15:00:41",
            "2023-09-07 15:00:42",
            "2023-09-07 15:00:43",
            "2023-09-07 15:00:44"
           ],
           "type": "scatter",
           "x": [
            0,
            0.8091562802362998,
            1.4187778862009663,
            1.9340594175080428,
            2.7291599722274826,
            null
           ],
           "y": [
            41.55127793935055,
            41.14739075037148,
            40.71022742116085,
            40.33576258703677,
            40.11469426682165,
            null
           ]
          },
          {
           "hovertemplate": "GroundTruthState<br>(%{x}, %{y})<br>Time: %{meta}",
           "meta": [],
           "type": "scatter",
           "x": [
            null
           ],
           "y": [
            null
           ]
          },
          {
           "hovertemplate": "GroundTruthState<br>(%{x}, %{y})<br>Time: %{meta}",
           "meta": [],
           "type": "scatter",
           "x": [
            null
           ],
           "y": [
            null
           ]
          },
          {
           "hovertemplate": "GroundTruthState<br>(%{x}, %{y})<br>Time: %{meta}",
           "meta": [],
           "type": "scatter",
           "x": [
            null
           ],
           "y": [
            null
           ]
          },
          {
           "type": "scatter",
           "x": [
            null,
            null
           ],
           "y": [
            null,
            null
           ]
          },
          {
           "hovertemplate": "Detection<br>(%{x}, %{y})<br>Time: %{meta}",
           "meta": [
            "2023-09-07 15:00:40",
            "2023-09-07 15:00:41",
            "2023-09-07 15:00:42",
            "2023-09-07 15:00:43",
            "2023-09-07 15:00:44"
           ],
           "type": "scatter",
           "x": [
            -0.43005629247898636,
            1.9613126588341832,
            1.328760915097623,
            1.6486342541080825,
            3.391167130241921,
            null
           ],
           "y": [
            41.49312990045806,
            41.29578777553558,
            40.56025765481257,
            40.943137598599904,
            39.64105359377544,
            null
           ]
          },
          {
           "hovertemplate": "Clutter<br>(%{x}, %{y})<br>Time: %{meta}",
           "meta": [
            "2023-09-07 15:00:40",
            "2023-09-07 15:00:41",
            "2023-09-07 15:00:41",
            "2023-09-07 15:00:41",
            "2023-09-07 15:00:43"
           ],
           "type": "scatter",
           "x": [
            0.2628629860147935,
            -5.947186089536171,
            7.511234499194794,
            1.2368016066430076,
            -3.9383022083791523,
            null
           ],
           "y": [
            45.565386681545874,
            45.05366061755791,
            46.35592175810034,
            32.05905379580751,
            47.28393730753255,
            null
           ]
          },
          {
           "type": "scatter",
           "x": [
            null,
            null
           ],
           "y": [
            null,
            null
           ]
          },
          {
           "customdata": [],
           "hovertemplate": "%{meta}<br>(%{x}, %{y})<br>Time: %{customdata}",
           "meta": [],
           "type": "scatter",
           "x": [
            null
           ],
           "y": [
            null
           ]
          },
          {
           "customdata": [
            "2023-09-07 15:00:40",
            "2023-09-07 15:00:41",
            "2023-09-07 15:00:42",
            "2023-09-07 15:00:43",
            "2023-09-07 15:00:44"
           ],
           "hovertemplate": "%{meta}<br>(%{x}, %{y})<br>Time: %{customdata}",
           "meta": [
            "GaussianStateUpdate",
            "GaussianStateUpdate",
            "GaussianStateUpdate",
            "GaussianStateUpdate",
            "GaussianStateUpdate"
           ],
           "type": "scatter",
           "x": [
            -0.43005629247898636,
            1.5671309635627815,
            1.7248047174586882,
            1.8905500191617137,
            3.0266606144206634,
            null
           ],
           "y": [
            41.49312990045806,
            41.3283166972261,
            40.69579995272057,
            40.74242157325732,
            39.9576780440993,
            null
           ]
          },
          {
           "customdata": [],
           "hovertemplate": "%{meta}<br>(%{x}, %{y})<br>Time: %{customdata}",
           "meta": [],
           "type": "scatter",
           "x": [
            null
           ],
           "y": [
            null
           ]
          },
          {
           "type": "scatter",
           "x": [
            null
           ],
           "y": [
            null
           ]
          },
          {
           "type": "scatter",
           "x": [
            null
           ],
           "y": [
            null
           ]
          },
          {
           "type": "scatter",
           "x": [
            3.0266606144206634,
            3.110414303368566,
            3.1905075542146557,
            3.2634399075669007,
            3.3260238696155477,
            3.375524220907903,
            3.40977755856345,
            3.427286847360893,
            3.427286847360893,
            3.40977755856345,
            3.375524220907903,
            3.326023869615548,
            3.2634399075669007,
            3.1905075542146557,
            3.110414303368566,
            3.0266606144206634,
            2.942906925472761,
            2.862813674626671,
            2.789881321274426,
            2.727297359225779,
            2.6777970079334237,
            2.6435436702778765,
            2.6260343814804337,
            2.6260343814804337,
            2.6435436702778765,
            2.677797007933424,
            2.727297359225779,
            2.789881321274426,
            2.862813674626671,
            2.9429069254727613,
            null,
            null
           ],
           "y": [
            40.36051103833105,
            40.3517081709035,
            40.325684296168276,
            40.28357678232773,
            40.22722592979095,
            40.159094541215175,
            40.082160285211856,
            39.99978555793985,
            39.915570530258755,
            39.83319580298675,
            39.75626154698343,
            39.68813015840766,
            39.63177930587088,
            39.58967179203033,
            39.56364791729511,
            39.55484504986756,
            39.56364791729511,
            39.58967179203033,
            39.63177930587088,
            39.68813015840766,
            39.75626154698343,
            39.83319580298675,
            39.915570530258755,
            39.99978555793985,
            40.082160285211856,
            40.159094541215175,
            40.22722592979095,
            40.28357678232773,
            40.325684296168276,
            40.3517081709035,
            null,
            null
           ]
          },
          {
           "type": "scatter",
           "x": [
            null
           ],
           "y": [
            null
           ]
          }
         ],
         "name": "2023-09-07 15:00:44",
         "traces": [
          0,
          1,
          2,
          3,
          4,
          5,
          6,
          7,
          8,
          9,
          10,
          11,
          12,
          13,
          14,
          15
         ]
        },
        {
         "data": [
          {
           "type": "scatter",
           "x": [
            0,
            0
           ],
           "y": [
            0,
            0
           ]
          },
          {
           "hovertemplate": "GroundTruthState<br>(%{x}, %{y})<br>Time: %{meta}",
           "meta": [
            "2023-09-07 15:00:40",
            "2023-09-07 15:00:41",
            "2023-09-07 15:00:42",
            "2023-09-07 15:00:43",
            "2023-09-07 15:00:44",
            "2023-09-07 15:00:45"
           ],
           "type": "scatter",
           "x": [
            0,
            0.8091562802362998,
            1.4187778862009663,
            1.9340594175080428,
            2.7291599722274826,
            3.736499927988022,
            null
           ],
           "y": [
            41.55127793935055,
            41.14739075037148,
            40.71022742116085,
            40.33576258703677,
            40.11469426682165,
            40.0218978369037,
            null
           ]
          },
          {
           "hovertemplate": "GroundTruthState<br>(%{x}, %{y})<br>Time: %{meta}",
           "meta": [],
           "type": "scatter",
           "x": [
            null
           ],
           "y": [
            null
           ]
          },
          {
           "hovertemplate": "GroundTruthState<br>(%{x}, %{y})<br>Time: %{meta}",
           "meta": [],
           "type": "scatter",
           "x": [
            null
           ],
           "y": [
            null
           ]
          },
          {
           "hovertemplate": "GroundTruthState<br>(%{x}, %{y})<br>Time: %{meta}",
           "meta": [],
           "type": "scatter",
           "x": [
            null
           ],
           "y": [
            null
           ]
          },
          {
           "type": "scatter",
           "x": [
            null,
            null
           ],
           "y": [
            null,
            null
           ]
          },
          {
           "hovertemplate": "Detection<br>(%{x}, %{y})<br>Time: %{meta}",
           "meta": [
            "2023-09-07 15:00:40",
            "2023-09-07 15:00:41",
            "2023-09-07 15:00:42",
            "2023-09-07 15:00:43",
            "2023-09-07 15:00:44"
           ],
           "type": "scatter",
           "x": [
            -0.43005629247898636,
            1.9613126588341832,
            1.328760915097623,
            1.6486342541080825,
            3.391167130241921,
            null
           ],
           "y": [
            41.49312990045806,
            41.29578777553558,
            40.56025765481257,
            40.943137598599904,
            39.64105359377544,
            null
           ]
          },
          {
           "hovertemplate": "Clutter<br>(%{x}, %{y})<br>Time: %{meta}",
           "meta": [
            "2023-09-07 15:00:40",
            "2023-09-07 15:00:41",
            "2023-09-07 15:00:41",
            "2023-09-07 15:00:41",
            "2023-09-07 15:00:43",
            "2023-09-07 15:00:45",
            "2023-09-07 15:00:45"
           ],
           "type": "scatter",
           "x": [
            0.2628629860147935,
            -5.947186089536171,
            7.511234499194794,
            1.2368016066430076,
            -3.9383022083791523,
            9.519502944212656,
            8.816880016344196,
            null
           ],
           "y": [
            45.565386681545874,
            45.05366061755791,
            46.35592175810034,
            32.05905379580751,
            47.28393730753255,
            31.456987364994728,
            34.167845538700334,
            null
           ]
          },
          {
           "type": "scatter",
           "x": [
            null,
            null
           ],
           "y": [
            null,
            null
           ]
          },
          {
           "customdata": [],
           "hovertemplate": "%{meta}<br>(%{x}, %{y})<br>Time: %{customdata}",
           "meta": [],
           "type": "scatter",
           "x": [
            null
           ],
           "y": [
            null
           ]
          },
          {
           "customdata": [
            "2023-09-07 15:00:40",
            "2023-09-07 15:00:41",
            "2023-09-07 15:00:42",
            "2023-09-07 15:00:43",
            "2023-09-07 15:00:44",
            "2023-09-07 15:00:45"
           ],
           "hovertemplate": "%{meta}<br>(%{x}, %{y})<br>Time: %{customdata}",
           "meta": [
            "GaussianStateUpdate",
            "GaussianStateUpdate",
            "GaussianStateUpdate",
            "GaussianStateUpdate",
            "GaussianStateUpdate",
            "GaussianStatePrediction"
           ],
           "type": "scatter",
           "x": [
            -0.43005629247898636,
            1.5671309635627815,
            1.7248047174586882,
            1.8905500191617137,
            3.0266606144206634,
            3.7930024690710495,
            null
           ],
           "y": [
            41.49312990045806,
            41.3283166972261,
            40.69579995272057,
            40.74242157325732,
            39.9576780440993,
            39.494129937136556,
            null
           ]
          },
          {
           "customdata": [],
           "hovertemplate": "%{meta}<br>(%{x}, %{y})<br>Time: %{customdata}",
           "meta": [],
           "type": "scatter",
           "x": [
            null
           ],
           "y": [
            null
           ]
          },
          {
           "type": "scatter",
           "x": [
            null
           ],
           "y": [
            null
           ]
          },
          {
           "type": "scatter",
           "x": [
            null
           ],
           "y": [
            null
           ]
          },
          {
           "type": "scatter",
           "x": [
            3.7930024690710495,
            3.926511355425989,
            4.054185262800503,
            4.170444228794944,
            4.270207178722941,
            4.349113992956896,
            4.403716065077881,
            4.431627022524396,
            4.431627022524396,
            4.403716065077881,
            4.349113992956897,
            4.270207178722941,
            4.170444228794944,
            4.054185262800503,
            3.926511355425989,
            3.7930024690710495,
            3.6594935827161104,
            3.5318196753415965,
            3.4155607093471554,
            3.315797759419157,
            3.236890945185202,
            3.182288873064218,
            3.1543779156177028,
            3.1543779156177028,
            3.182288873064218,
            3.2368909451852024,
            3.315797759419157,
            3.4155607093471554,
            3.5318196753415965,
            3.6594935827161104,
            null,
            null
           ],
           "y": [
            40.13627221316645,
            40.12223986376494,
            40.080756096563945,
            40.01363395125135,
            39.923806987665095,
            39.815201075151506,
            39.6925628132364,
            39.56125208244915,
            39.42700779182396,
            39.29569706103671,
            39.17305879912161,
            39.06445288660802,
            38.97462592302176,
            38.90750377770917,
            38.86602001050817,
            38.85198766110666,
            38.86602001050817,
            38.90750377770917,
            38.97462592302176,
            39.06445288660802,
            39.17305879912161,
            39.29569706103671,
            39.42700779182396,
            39.56125208244915,
            39.6925628132364,
            39.815201075151506,
            39.923806987665095,
            40.01363395125135,
            40.080756096563945,
            40.12223986376494,
            null,
            null
           ]
          },
          {
           "type": "scatter",
           "x": [
            null
           ],
           "y": [
            null
           ]
          }
         ],
         "name": "2023-09-07 15:00:45",
         "traces": [
          0,
          1,
          2,
          3,
          4,
          5,
          6,
          7,
          8,
          9,
          10,
          11,
          12,
          13,
          14,
          15
         ]
        },
        {
         "data": [
          {
           "type": "scatter",
           "x": [
            0,
            0
           ],
           "y": [
            0,
            0
           ]
          },
          {
           "hovertemplate": "GroundTruthState<br>(%{x}, %{y})<br>Time: %{meta}",
           "meta": [
            "2023-09-07 15:00:40",
            "2023-09-07 15:00:41",
            "2023-09-07 15:00:42",
            "2023-09-07 15:00:43",
            "2023-09-07 15:00:44",
            "2023-09-07 15:00:45",
            "2023-09-07 15:00:46"
           ],
           "type": "scatter",
           "x": [
            0,
            0.8091562802362998,
            1.4187778862009663,
            1.9340594175080428,
            2.7291599722274826,
            3.736499927988022,
            5.119411483348772,
            null
           ],
           "y": [
            41.55127793935055,
            41.14739075037148,
            40.71022742116085,
            40.33576258703677,
            40.11469426682165,
            40.0218978369037,
            40.11795936277245,
            null
           ]
          },
          {
           "hovertemplate": "GroundTruthState<br>(%{x}, %{y})<br>Time: %{meta}",
           "meta": [],
           "type": "scatter",
           "x": [
            null
           ],
           "y": [
            null
           ]
          },
          {
           "hovertemplate": "GroundTruthState<br>(%{x}, %{y})<br>Time: %{meta}",
           "meta": [],
           "type": "scatter",
           "x": [
            null
           ],
           "y": [
            null
           ]
          },
          {
           "hovertemplate": "GroundTruthState<br>(%{x}, %{y})<br>Time: %{meta}",
           "meta": [],
           "type": "scatter",
           "x": [
            null
           ],
           "y": [
            null
           ]
          },
          {
           "type": "scatter",
           "x": [
            null,
            null
           ],
           "y": [
            null,
            null
           ]
          },
          {
           "hovertemplate": "Detection<br>(%{x}, %{y})<br>Time: %{meta}",
           "meta": [
            "2023-09-07 15:00:40",
            "2023-09-07 15:00:41",
            "2023-09-07 15:00:42",
            "2023-09-07 15:00:43",
            "2023-09-07 15:00:44",
            "2023-09-07 15:00:46"
           ],
           "type": "scatter",
           "x": [
            -0.43005629247898636,
            1.9613126588341832,
            1.328760915097623,
            1.6486342541080825,
            3.391167130241921,
            5.198613247790583,
            null
           ],
           "y": [
            41.49312990045806,
            41.29578777553558,
            40.56025765481257,
            40.943137598599904,
            39.64105359377544,
            39.7539260798625,
            null
           ]
          },
          {
           "hovertemplate": "Clutter<br>(%{x}, %{y})<br>Time: %{meta}",
           "meta": [
            "2023-09-07 15:00:40",
            "2023-09-07 15:00:41",
            "2023-09-07 15:00:41",
            "2023-09-07 15:00:41",
            "2023-09-07 15:00:43",
            "2023-09-07 15:00:45",
            "2023-09-07 15:00:45"
           ],
           "type": "scatter",
           "x": [
            0.2628629860147935,
            -5.947186089536171,
            7.511234499194794,
            1.2368016066430076,
            -3.9383022083791523,
            9.519502944212656,
            8.816880016344196,
            null
           ],
           "y": [
            45.565386681545874,
            45.05366061755791,
            46.35592175810034,
            32.05905379580751,
            47.28393730753255,
            31.456987364994728,
            34.167845538700334,
            null
           ]
          },
          {
           "type": "scatter",
           "x": [
            null,
            null
           ],
           "y": [
            null,
            null
           ]
          },
          {
           "customdata": [],
           "hovertemplate": "%{meta}<br>(%{x}, %{y})<br>Time: %{customdata}",
           "meta": [],
           "type": "scatter",
           "x": [
            null
           ],
           "y": [
            null
           ]
          },
          {
           "customdata": [
            "2023-09-07 15:00:40",
            "2023-09-07 15:00:41",
            "2023-09-07 15:00:42",
            "2023-09-07 15:00:43",
            "2023-09-07 15:00:44",
            "2023-09-07 15:00:45",
            "2023-09-07 15:00:46"
           ],
           "hovertemplate": "%{meta}<br>(%{x}, %{y})<br>Time: %{customdata}",
           "meta": [
            "GaussianStateUpdate",
            "GaussianStateUpdate",
            "GaussianStateUpdate",
            "GaussianStateUpdate",
            "GaussianStateUpdate",
            "GaussianStatePrediction",
            "GaussianStateUpdate"
           ],
           "type": "scatter",
           "x": [
            -0.43005629247898636,
            1.5671309635627815,
            1.7248047174586882,
            1.8905500191617137,
            3.0266606144206634,
            3.7930024690710495,
            5.063871539095284,
            null
           ],
           "y": [
            41.49312990045806,
            41.3283166972261,
            40.69579995272057,
            40.74242157325732,
            39.9576780440993,
            39.494129937136556,
            39.60146342055227,
            null
           ]
          },
          {
           "customdata": [],
           "hovertemplate": "%{meta}<br>(%{x}, %{y})<br>Time: %{customdata}",
           "meta": [],
           "type": "scatter",
           "x": [
            null
           ],
           "y": [
            null
           ]
          },
          {
           "type": "scatter",
           "x": [
            null
           ],
           "y": [
            null
           ]
          },
          {
           "type": "scatter",
           "x": [
            null
           ],
           "y": [
            null
           ]
          },
          {
           "type": "scatter",
           "x": [
            5.063871539095284,
            5.156224200856019,
            5.244540608140571,
            5.324960910161465,
            5.393970353820963,
            5.448552895287095,
            5.486323015581698,
            5.505629979206752,
            5.505629979206752,
            5.486323015581698,
            5.448552895287095,
            5.393970353820963,
            5.324960910161465,
            5.244540608140571,
            5.156224200856019,
            5.063871539095284,
            4.971518877334549,
            4.883202470049996,
            4.802782168029102,
            4.733772724369604,
            4.679190182903472,
            4.641420062608869,
            4.6221130989838155,
            4.6221130989838155,
            4.641420062608869,
            4.679190182903472,
            4.733772724369604,
            4.802782168029102,
            4.883202470049996,
            4.971518877334549,
            null,
            null
           ],
           "y": [
            40.04565518965142,
            40.03594853376231,
            40.007252793535024,
            39.960822110514954,
            39.89868572834919,
            39.823559305101845,
            39.73872622596538,
            39.64789410357235,
            39.555032737532194,
            39.46420061513916,
            39.3793675360027,
            39.30424111275535,
            39.24210473058959,
            39.19567404756952,
            39.166978307342234,
            39.15727165145312,
            39.166978307342234,
            39.19567404756952,
            39.24210473058959,
            39.30424111275535,
            39.3793675360027,
            39.46420061513916,
            39.555032737532194,
            39.64789410357235,
            39.73872622596538,
            39.823559305101845,
            39.89868572834919,
            39.960822110514954,
            40.007252793535024,
            40.03594853376231,
            null,
            null
           ]
          },
          {
           "type": "scatter",
           "x": [
            null
           ],
           "y": [
            null
           ]
          }
         ],
         "name": "2023-09-07 15:00:46",
         "traces": [
          0,
          1,
          2,
          3,
          4,
          5,
          6,
          7,
          8,
          9,
          10,
          11,
          12,
          13,
          14,
          15
         ]
        },
        {
         "data": [
          {
           "type": "scatter",
           "x": [
            0,
            0
           ],
           "y": [
            0,
            0
           ]
          },
          {
           "hovertemplate": "GroundTruthState<br>(%{x}, %{y})<br>Time: %{meta}",
           "meta": [
            "2023-09-07 15:00:40",
            "2023-09-07 15:00:41",
            "2023-09-07 15:00:42",
            "2023-09-07 15:00:43",
            "2023-09-07 15:00:44",
            "2023-09-07 15:00:45",
            "2023-09-07 15:00:46",
            "2023-09-07 15:00:47"
           ],
           "type": "scatter",
           "x": [
            0,
            0.8091562802362998,
            1.4187778862009663,
            1.9340594175080428,
            2.7291599722274826,
            3.736499927988022,
            5.119411483348772,
            6.216732395332771,
            null
           ],
           "y": [
            41.55127793935055,
            41.14739075037148,
            40.71022742116085,
            40.33576258703677,
            40.11469426682165,
            40.0218978369037,
            40.11795936277245,
            40.23397761081491,
            null
           ]
          },
          {
           "hovertemplate": "GroundTruthState<br>(%{x}, %{y})<br>Time: %{meta}",
           "meta": [],
           "type": "scatter",
           "x": [
            null
           ],
           "y": [
            null
           ]
          },
          {
           "hovertemplate": "GroundTruthState<br>(%{x}, %{y})<br>Time: %{meta}",
           "meta": [],
           "type": "scatter",
           "x": [
            null
           ],
           "y": [
            null
           ]
          },
          {
           "hovertemplate": "GroundTruthState<br>(%{x}, %{y})<br>Time: %{meta}",
           "meta": [],
           "type": "scatter",
           "x": [
            null
           ],
           "y": [
            null
           ]
          },
          {
           "type": "scatter",
           "x": [
            null,
            null
           ],
           "y": [
            null,
            null
           ]
          },
          {
           "hovertemplate": "Detection<br>(%{x}, %{y})<br>Time: %{meta}",
           "meta": [
            "2023-09-07 15:00:40",
            "2023-09-07 15:00:41",
            "2023-09-07 15:00:42",
            "2023-09-07 15:00:43",
            "2023-09-07 15:00:44",
            "2023-09-07 15:00:46",
            "2023-09-07 15:00:47"
           ],
           "type": "scatter",
           "x": [
            -0.43005629247898636,
            1.9613126588341832,
            1.328760915097623,
            1.6486342541080825,
            3.391167130241921,
            5.198613247790583,
            5.5997844867706466,
            null
           ],
           "y": [
            41.49312990045806,
            41.29578777553558,
            40.56025765481257,
            40.943137598599904,
            39.64105359377544,
            39.7539260798625,
            40.62749687000739,
            null
           ]
          },
          {
           "hovertemplate": "Clutter<br>(%{x}, %{y})<br>Time: %{meta}",
           "meta": [
            "2023-09-07 15:00:40",
            "2023-09-07 15:00:41",
            "2023-09-07 15:00:41",
            "2023-09-07 15:00:41",
            "2023-09-07 15:00:43",
            "2023-09-07 15:00:45",
            "2023-09-07 15:00:45",
            "2023-09-07 15:00:47",
            "2023-09-07 15:00:47",
            "2023-09-07 15:00:47",
            "2023-09-07 15:00:47",
            "2023-09-07 15:00:47"
           ],
           "type": "scatter",
           "x": [
            0.2628629860147935,
            -5.947186089536171,
            7.511234499194794,
            1.2368016066430076,
            -3.9383022083791523,
            9.519502944212656,
            8.816880016344196,
            15.208121856273904,
            14.025710879284519,
            -2.1359261723065925,
            7.05768093084308,
            1.592790739428831,
            null
           ],
           "y": [
            45.565386681545874,
            45.05366061755791,
            46.35592175810034,
            32.05905379580751,
            47.28393730753255,
            31.456987364994728,
            34.167845538700334,
            41.39926162025145,
            30.523269059328186,
            39.91303043863957,
            48.67691635585126,
            36.21792645246228,
            null
           ]
          },
          {
           "type": "scatter",
           "x": [
            null,
            null
           ],
           "y": [
            null,
            null
           ]
          },
          {
           "customdata": [],
           "hovertemplate": "%{meta}<br>(%{x}, %{y})<br>Time: %{customdata}",
           "meta": [],
           "type": "scatter",
           "x": [
            null
           ],
           "y": [
            null
           ]
          },
          {
           "customdata": [
            "2023-09-07 15:00:40",
            "2023-09-07 15:00:41",
            "2023-09-07 15:00:42",
            "2023-09-07 15:00:43",
            "2023-09-07 15:00:44",
            "2023-09-07 15:00:45",
            "2023-09-07 15:00:46",
            "2023-09-07 15:00:47"
           ],
           "hovertemplate": "%{meta}<br>(%{x}, %{y})<br>Time: %{customdata}",
           "meta": [
            "GaussianStateUpdate",
            "GaussianStateUpdate",
            "GaussianStateUpdate",
            "GaussianStateUpdate",
            "GaussianStateUpdate",
            "GaussianStatePrediction",
            "GaussianStateUpdate",
            "GaussianStateUpdate"
           ],
           "type": "scatter",
           "x": [
            -0.43005629247898636,
            1.5671309635627815,
            1.7248047174586882,
            1.8905500191617137,
            3.0266606144206634,
            3.7930024690710495,
            5.063871539095284,
            5.749814186180568,
            null
           ],
           "y": [
            41.49312990045806,
            41.3283166972261,
            40.69579995272057,
            40.74242157325732,
            39.9576780440993,
            39.494129937136556,
            39.60146342055227,
            40.16817369119637,
            null
           ]
          },
          {
           "customdata": [],
           "hovertemplate": "%{meta}<br>(%{x}, %{y})<br>Time: %{customdata}",
           "meta": [],
           "type": "scatter",
           "x": [
            null
           ],
           "y": [
            null
           ]
          },
          {
           "type": "scatter",
           "x": [
            null
           ],
           "y": [
            null
           ]
          },
          {
           "type": "scatter",
           "x": [
            null
           ],
           "y": [
            null
           ]
          },
          {
           "type": "scatter",
           "x": [
            5.749814186180568,
            5.833017061187537,
            5.912583571305011,
            5.985036278238381,
            6.047208651027996,
            6.096383458646808,
            6.130411526034965,
            6.147805663362824,
            6.147805663362824,
            6.130411526034965,
            6.096383458646808,
            6.047208651027996,
            5.985036278238381,
            5.912583571305011,
            5.833017061187537,
            5.749814186180568,
            5.6666113111735985,
            5.587044801056124,
            5.514592094122754,
            5.452419721333139,
            5.403244913714327,
            5.36921684632617,
            5.351822708998311,
            5.351822708998311,
            5.36921684632617,
            5.403244913714327,
            5.452419721333139,
            5.514592094122754,
            5.587044801056124,
            5.6666113111735985,
            null,
            null
           ],
           "y": [
            40.568357416698845,
            40.55961244214933,
            40.53375971585165,
            40.49192912600015,
            40.43594887009679,
            40.36826555394761,
            40.291837263248915,
            40.21000428104787,
            40.12634310134487,
            40.04451011914383,
            39.968081828445136,
            39.90039851229596,
            39.84441825639259,
            39.80258766654109,
            39.776734940243415,
            39.7679899656939,
            39.776734940243415,
            39.80258766654109,
            39.84441825639259,
            39.90039851229596,
            39.968081828445136,
            40.04451011914383,
            40.12634310134487,
            40.21000428104787,
            40.291837263248915,
            40.36826555394761,
            40.43594887009679,
            40.49192912600015,
            40.53375971585165,
            40.55961244214933,
            null,
            null
           ]
          },
          {
           "type": "scatter",
           "x": [
            null
           ],
           "y": [
            null
           ]
          }
         ],
         "name": "2023-09-07 15:00:47",
         "traces": [
          0,
          1,
          2,
          3,
          4,
          5,
          6,
          7,
          8,
          9,
          10,
          11,
          12,
          13,
          14,
          15
         ]
        },
        {
         "data": [
          {
           "type": "scatter",
           "x": [
            0,
            0
           ],
           "y": [
            0,
            0
           ]
          },
          {
           "hovertemplate": "GroundTruthState<br>(%{x}, %{y})<br>Time: %{meta}",
           "meta": [
            "2023-09-07 15:00:40",
            "2023-09-07 15:00:41",
            "2023-09-07 15:00:42",
            "2023-09-07 15:00:43",
            "2023-09-07 15:00:44",
            "2023-09-07 15:00:45",
            "2023-09-07 15:00:46",
            "2023-09-07 15:00:47",
            "2023-09-07 15:00:48"
           ],
           "type": "scatter",
           "x": [
            0,
            0.8091562802362998,
            1.4187778862009663,
            1.9340594175080428,
            2.7291599722274826,
            3.736499927988022,
            5.119411483348772,
            6.216732395332771,
            7.088723290570684,
            null
           ],
           "y": [
            41.55127793935055,
            41.14739075037148,
            40.71022742116085,
            40.33576258703677,
            40.11469426682165,
            40.0218978369037,
            40.11795936277245,
            40.23397761081491,
            40.45410408807201,
            null
           ]
          },
          {
           "hovertemplate": "GroundTruthState<br>(%{x}, %{y})<br>Time: %{meta}",
           "meta": [],
           "type": "scatter",
           "x": [
            null
           ],
           "y": [
            null
           ]
          },
          {
           "hovertemplate": "GroundTruthState<br>(%{x}, %{y})<br>Time: %{meta}",
           "meta": [],
           "type": "scatter",
           "x": [
            null
           ],
           "y": [
            null
           ]
          },
          {
           "hovertemplate": "GroundTruthState<br>(%{x}, %{y})<br>Time: %{meta}",
           "meta": [],
           "type": "scatter",
           "x": [
            null
           ],
           "y": [
            null
           ]
          },
          {
           "type": "scatter",
           "x": [
            null,
            null
           ],
           "y": [
            null,
            null
           ]
          },
          {
           "hovertemplate": "Detection<br>(%{x}, %{y})<br>Time: %{meta}",
           "meta": [
            "2023-09-07 15:00:40",
            "2023-09-07 15:00:41",
            "2023-09-07 15:00:42",
            "2023-09-07 15:00:43",
            "2023-09-07 15:00:44",
            "2023-09-07 15:00:46",
            "2023-09-07 15:00:47",
            "2023-09-07 15:00:48"
           ],
           "type": "scatter",
           "x": [
            -0.43005629247898636,
            1.9613126588341832,
            1.328760915097623,
            1.6486342541080825,
            3.391167130241921,
            5.198613247790583,
            5.5997844867706466,
            6.935456692747284,
            null
           ],
           "y": [
            41.49312990045806,
            41.29578777553558,
            40.56025765481257,
            40.943137598599904,
            39.64105359377544,
            39.7539260798625,
            40.62749687000739,
            40.351899248824374,
            null
           ]
          },
          {
           "hovertemplate": "Clutter<br>(%{x}, %{y})<br>Time: %{meta}",
           "meta": [
            "2023-09-07 15:00:40",
            "2023-09-07 15:00:41",
            "2023-09-07 15:00:41",
            "2023-09-07 15:00:41",
            "2023-09-07 15:00:43",
            "2023-09-07 15:00:45",
            "2023-09-07 15:00:45",
            "2023-09-07 15:00:47",
            "2023-09-07 15:00:47",
            "2023-09-07 15:00:47",
            "2023-09-07 15:00:47",
            "2023-09-07 15:00:47"
           ],
           "type": "scatter",
           "x": [
            0.2628629860147935,
            -5.947186089536171,
            7.511234499194794,
            1.2368016066430076,
            -3.9383022083791523,
            9.519502944212656,
            8.816880016344196,
            15.208121856273904,
            14.025710879284519,
            -2.1359261723065925,
            7.05768093084308,
            1.592790739428831,
            null
           ],
           "y": [
            45.565386681545874,
            45.05366061755791,
            46.35592175810034,
            32.05905379580751,
            47.28393730753255,
            31.456987364994728,
            34.167845538700334,
            41.39926162025145,
            30.523269059328186,
            39.91303043863957,
            48.67691635585126,
            36.21792645246228,
            null
           ]
          },
          {
           "type": "scatter",
           "x": [
            null,
            null
           ],
           "y": [
            null,
            null
           ]
          },
          {
           "customdata": [],
           "hovertemplate": "%{meta}<br>(%{x}, %{y})<br>Time: %{customdata}",
           "meta": [],
           "type": "scatter",
           "x": [
            null
           ],
           "y": [
            null
           ]
          },
          {
           "customdata": [
            "2023-09-07 15:00:40",
            "2023-09-07 15:00:41",
            "2023-09-07 15:00:42",
            "2023-09-07 15:00:43",
            "2023-09-07 15:00:44",
            "2023-09-07 15:00:45",
            "2023-09-07 15:00:46",
            "2023-09-07 15:00:47",
            "2023-09-07 15:00:48"
           ],
           "hovertemplate": "%{meta}<br>(%{x}, %{y})<br>Time: %{customdata}",
           "meta": [
            "GaussianStateUpdate",
            "GaussianStateUpdate",
            "GaussianStateUpdate",
            "GaussianStateUpdate",
            "GaussianStateUpdate",
            "GaussianStatePrediction",
            "GaussianStateUpdate",
            "GaussianStateUpdate",
            "GaussianStateUpdate"
           ],
           "type": "scatter",
           "x": [
            -0.43005629247898636,
            1.5671309635627815,
            1.7248047174586882,
            1.8905500191617137,
            3.0266606144206634,
            3.7930024690710495,
            5.063871539095284,
            5.749814186180568,
            6.802874669121355,
            null
           ],
           "y": [
            41.49312990045806,
            41.3283166972261,
            40.69579995272057,
            40.74242157325732,
            39.9576780440993,
            39.494129937136556,
            39.60146342055227,
            40.16817369119637,
            40.313729365629904,
            null
           ]
          },
          {
           "customdata": [],
           "hovertemplate": "%{meta}<br>(%{x}, %{y})<br>Time: %{customdata}",
           "meta": [],
           "type": "scatter",
           "x": [
            null
           ],
           "y": [
            null
           ]
          },
          {
           "type": "scatter",
           "x": [
            null
           ],
           "y": [
            null
           ]
          },
          {
           "type": "scatter",
           "x": [
            null
           ],
           "y": [
            null
           ]
          },
          {
           "type": "scatter",
           "x": [
            6.802874669121355,
            6.884252453177522,
            6.962073637576504,
            7.032937063132588,
            7.093745658108532,
            7.141841795111875,
            7.1751234421647,
            7.1921360315877365,
            7.1921360315877365,
            7.1751234421647,
            7.141841795111875,
            7.093745658108532,
            7.032937063132588,
            6.962073637576503,
            6.884252453177522,
            6.802874669121355,
            6.7214968850651875,
            6.643675700666207,
            6.572812275110122,
            6.512003680134177,
            6.463907543130834,
            6.43062589607801,
            6.413613306654973,
            6.413613306654973,
            6.43062589607801,
            6.463907543130834,
            6.512003680134177,
            6.572812275110122,
            6.643675700666206,
            6.721496885065187,
            null,
            null
           ],
           "y": [
            40.70513488850403,
            40.696581738743184,
            40.67129610314778,
            40.63038308532728,
            40.57563078048287,
            40.509432127066965,
            40.43468032389022,
            40.35464238345041,
            40.272816347809396,
            40.19277840736959,
            40.11802660419284,
            40.05182795077694,
            39.997075645932526,
            39.956162628112025,
            39.93087699251662,
            39.92232384275578,
            39.93087699251662,
            39.956162628112025,
            39.997075645932526,
            40.05182795077694,
            40.11802660419284,
            40.19277840736959,
            40.272816347809396,
            40.35464238345041,
            40.43468032389022,
            40.509432127066965,
            40.57563078048287,
            40.63038308532728,
            40.67129610314778,
            40.696581738743184,
            null,
            null
           ]
          },
          {
           "type": "scatter",
           "x": [
            null
           ],
           "y": [
            null
           ]
          }
         ],
         "name": "2023-09-07 15:00:48",
         "traces": [
          0,
          1,
          2,
          3,
          4,
          5,
          6,
          7,
          8,
          9,
          10,
          11,
          12,
          13,
          14,
          15
         ]
        },
        {
         "data": [
          {
           "type": "scatter",
           "x": [
            0,
            0
           ],
           "y": [
            0,
            0
           ]
          },
          {
           "hovertemplate": "GroundTruthState<br>(%{x}, %{y})<br>Time: %{meta}",
           "meta": [
            "2023-09-07 15:00:40",
            "2023-09-07 15:00:41",
            "2023-09-07 15:00:42",
            "2023-09-07 15:00:43",
            "2023-09-07 15:00:44",
            "2023-09-07 15:00:45",
            "2023-09-07 15:00:46",
            "2023-09-07 15:00:47",
            "2023-09-07 15:00:48",
            "2023-09-07 15:00:49"
           ],
           "type": "scatter",
           "x": [
            0,
            0.8091562802362998,
            1.4187778862009663,
            1.9340594175080428,
            2.7291599722274826,
            3.736499927988022,
            5.119411483348772,
            6.216732395332771,
            7.088723290570684,
            7.663354901814838,
            null
           ],
           "y": [
            41.55127793935055,
            41.14739075037148,
            40.71022742116085,
            40.33576258703677,
            40.11469426682165,
            40.0218978369037,
            40.11795936277245,
            40.23397761081491,
            40.45410408807201,
            40.66784873441858,
            null
           ]
          },
          {
           "hovertemplate": "GroundTruthState<br>(%{x}, %{y})<br>Time: %{meta}",
           "meta": [],
           "type": "scatter",
           "x": [
            null
           ],
           "y": [
            null
           ]
          },
          {
           "hovertemplate": "GroundTruthState<br>(%{x}, %{y})<br>Time: %{meta}",
           "meta": [],
           "type": "scatter",
           "x": [
            null
           ],
           "y": [
            null
           ]
          },
          {
           "hovertemplate": "GroundTruthState<br>(%{x}, %{y})<br>Time: %{meta}",
           "meta": [],
           "type": "scatter",
           "x": [
            null
           ],
           "y": [
            null
           ]
          },
          {
           "type": "scatter",
           "x": [
            null,
            null
           ],
           "y": [
            null,
            null
           ]
          },
          {
           "hovertemplate": "Detection<br>(%{x}, %{y})<br>Time: %{meta}",
           "meta": [
            "2023-09-07 15:00:40",
            "2023-09-07 15:00:41",
            "2023-09-07 15:00:42",
            "2023-09-07 15:00:43",
            "2023-09-07 15:00:44",
            "2023-09-07 15:00:46",
            "2023-09-07 15:00:47",
            "2023-09-07 15:00:48",
            "2023-09-07 15:00:49"
           ],
           "type": "scatter",
           "x": [
            -0.43005629247898636,
            1.9613126588341832,
            1.328760915097623,
            1.6486342541080825,
            3.391167130241921,
            5.198613247790583,
            5.5997844867706466,
            6.935456692747284,
            8.51160294626042,
            null
           ],
           "y": [
            41.49312990045806,
            41.29578777553558,
            40.56025765481257,
            40.943137598599904,
            39.64105359377544,
            39.7539260798625,
            40.62749687000739,
            40.351899248824374,
            41.209034178881836,
            null
           ]
          },
          {
           "hovertemplate": "Clutter<br>(%{x}, %{y})<br>Time: %{meta}",
           "meta": [
            "2023-09-07 15:00:40",
            "2023-09-07 15:00:41",
            "2023-09-07 15:00:41",
            "2023-09-07 15:00:41",
            "2023-09-07 15:00:43",
            "2023-09-07 15:00:45",
            "2023-09-07 15:00:45",
            "2023-09-07 15:00:47",
            "2023-09-07 15:00:47",
            "2023-09-07 15:00:47",
            "2023-09-07 15:00:47",
            "2023-09-07 15:00:47",
            "2023-09-07 15:00:49"
           ],
           "type": "scatter",
           "x": [
            0.2628629860147935,
            -5.947186089536171,
            7.511234499194794,
            1.2368016066430076,
            -3.9383022083791523,
            9.519502944212656,
            8.816880016344196,
            15.208121856273904,
            14.025710879284519,
            -2.1359261723065925,
            7.05768093084308,
            1.592790739428831,
            0.7285176578468473,
            null
           ],
           "y": [
            45.565386681545874,
            45.05366061755791,
            46.35592175810034,
            32.05905379580751,
            47.28393730753255,
            31.456987364994728,
            34.167845538700334,
            41.39926162025145,
            30.523269059328186,
            39.91303043863957,
            48.67691635585126,
            36.21792645246228,
            49.91527833476793,
            null
           ]
          },
          {
           "type": "scatter",
           "x": [
            null,
            null
           ],
           "y": [
            null,
            null
           ]
          },
          {
           "customdata": [],
           "hovertemplate": "%{meta}<br>(%{x}, %{y})<br>Time: %{customdata}",
           "meta": [],
           "type": "scatter",
           "x": [
            null
           ],
           "y": [
            null
           ]
          },
          {
           "customdata": [
            "2023-09-07 15:00:40",
            "2023-09-07 15:00:41",
            "2023-09-07 15:00:42",
            "2023-09-07 15:00:43",
            "2023-09-07 15:00:44",
            "2023-09-07 15:00:45",
            "2023-09-07 15:00:46",
            "2023-09-07 15:00:47",
            "2023-09-07 15:00:48",
            "2023-09-07 15:00:49"
           ],
           "hovertemplate": "%{meta}<br>(%{x}, %{y})<br>Time: %{customdata}",
           "meta": [
            "GaussianStateUpdate",
            "GaussianStateUpdate",
            "GaussianStateUpdate",
            "GaussianStateUpdate",
            "GaussianStateUpdate",
            "GaussianStatePrediction",
            "GaussianStateUpdate",
            "GaussianStateUpdate",
            "GaussianStateUpdate",
            "GaussianStateUpdate"
           ],
           "type": "scatter",
           "x": [
            -0.43005629247898636,
            1.5671309635627815,
            1.7248047174586882,
            1.8905500191617137,
            3.0266606144206634,
            3.7930024690710495,
            5.063871539095284,
            5.749814186180568,
            6.802874669121355,
            8.2129677138972,
            null
           ],
           "y": [
            41.49312990045806,
            41.3283166972261,
            40.69579995272057,
            40.74242157325732,
            39.9576780440993,
            39.494129937136556,
            39.60146342055227,
            40.16817369119637,
            40.313729365629904,
            40.905811622898376,
            null
           ]
          },
          {
           "customdata": [],
           "hovertemplate": "%{meta}<br>(%{x}, %{y})<br>Time: %{customdata}",
           "meta": [],
           "type": "scatter",
           "x": [
            null
           ],
           "y": [
            null
           ]
          },
          {
           "type": "scatter",
           "x": [
            null
           ],
           "y": [
            null
           ]
          },
          {
           "type": "scatter",
           "x": [
            null
           ],
           "y": [
            null
           ]
          },
          {
           "type": "scatter",
           "x": [
            8.2129677138972,
            8.294342017437458,
            8.372159873435777,
            8.443020268173527,
            8.503826262374767,
            8.551920342313373,
            8.585200565915025,
            8.602212427712104,
            8.602212427712104,
            8.585200565915025,
            8.551920342313373,
            8.503826262374767,
            8.443020268173527,
            8.372159873435777,
            8.294342017437458,
            8.2129677138972,
            8.131593410356942,
            8.053775554358623,
            7.982915159620874,
            7.9221091654196325,
            7.874015085481027,
            7.840734861879374,
            7.823723000082296,
            7.823723000082296,
            7.8407348618793735,
            7.874015085481028,
            7.9221091654196325,
            7.982915159620873,
            8.053775554358623,
            8.13159341035694,
            null,
            null
           ],
           "y": [
            41.297200405415595,
            41.28864762147172,
            41.26336306733925,
            41.222451799362524,
            41.167701836266176,
            41.10150601415698,
            41.02675740810392,
            40.9467228908751,
            40.86490035492165,
            40.784865837692834,
            40.71011723163977,
            40.64392140953058,
            40.58917144643423,
            40.548260178457504,
            40.522975624325035,
            40.51442284038116,
            40.522975624325035,
            40.548260178457504,
            40.58917144643423,
            40.64392140953058,
            40.71011723163977,
            40.784865837692834,
            40.86490035492165,
            40.9467228908751,
            41.02675740810392,
            41.10150601415698,
            41.167701836266176,
            41.222451799362524,
            41.26336306733925,
            41.28864762147172,
            null,
            null
           ]
          },
          {
           "type": "scatter",
           "x": [
            null
           ],
           "y": [
            null
           ]
          }
         ],
         "name": "2023-09-07 15:00:49",
         "traces": [
          0,
          1,
          2,
          3,
          4,
          5,
          6,
          7,
          8,
          9,
          10,
          11,
          12,
          13,
          14,
          15
         ]
        },
        {
         "data": [
          {
           "type": "scatter",
           "x": [
            0,
            0
           ],
           "y": [
            0,
            0
           ]
          },
          {
           "hovertemplate": "GroundTruthState<br>(%{x}, %{y})<br>Time: %{meta}",
           "meta": [
            "2023-09-07 15:00:40",
            "2023-09-07 15:00:41",
            "2023-09-07 15:00:42",
            "2023-09-07 15:00:43",
            "2023-09-07 15:00:44",
            "2023-09-07 15:00:45",
            "2023-09-07 15:00:46",
            "2023-09-07 15:00:47",
            "2023-09-07 15:00:48",
            "2023-09-07 15:00:49",
            "2023-09-07 15:00:50"
           ],
           "type": "scatter",
           "x": [
            0,
            0.8091562802362998,
            1.4187778862009663,
            1.9340594175080428,
            2.7291599722274826,
            3.736499927988022,
            5.119411483348772,
            6.216732395332771,
            7.088723290570684,
            7.663354901814838,
            8.096722636252593,
            null
           ],
           "y": [
            41.55127793935055,
            41.14739075037148,
            40.71022742116085,
            40.33576258703677,
            40.11469426682165,
            40.0218978369037,
            40.11795936277245,
            40.23397761081491,
            40.45410408807201,
            40.66784873441858,
            41.10916580043645,
            null
           ]
          },
          {
           "hovertemplate": "GroundTruthState<br>(%{x}, %{y})<br>Time: %{meta}",
           "meta": [],
           "type": "scatter",
           "x": [
            null
           ],
           "y": [
            null
           ]
          },
          {
           "hovertemplate": "GroundTruthState<br>(%{x}, %{y})<br>Time: %{meta}",
           "meta": [],
           "type": "scatter",
           "x": [
            null
           ],
           "y": [
            null
           ]
          },
          {
           "hovertemplate": "GroundTruthState<br>(%{x}, %{y})<br>Time: %{meta}",
           "meta": [],
           "type": "scatter",
           "x": [
            null
           ],
           "y": [
            null
           ]
          },
          {
           "type": "scatter",
           "x": [
            null,
            null
           ],
           "y": [
            null,
            null
           ]
          },
          {
           "hovertemplate": "Detection<br>(%{x}, %{y})<br>Time: %{meta}",
           "meta": [
            "2023-09-07 15:00:40",
            "2023-09-07 15:00:41",
            "2023-09-07 15:00:42",
            "2023-09-07 15:00:43",
            "2023-09-07 15:00:44",
            "2023-09-07 15:00:46",
            "2023-09-07 15:00:47",
            "2023-09-07 15:00:48",
            "2023-09-07 15:00:49",
            "2023-09-07 15:00:50"
           ],
           "type": "scatter",
           "x": [
            -0.43005629247898636,
            1.9613126588341832,
            1.328760915097623,
            1.6486342541080825,
            3.391167130241921,
            5.198613247790583,
            5.5997844867706466,
            6.935456692747284,
            8.51160294626042,
            6.938136290313291,
            null
           ],
           "y": [
            41.49312990045806,
            41.29578777553558,
            40.56025765481257,
            40.943137598599904,
            39.64105359377544,
            39.7539260798625,
            40.62749687000739,
            40.351899248824374,
            41.209034178881836,
            41.088704044823054,
            null
           ]
          },
          {
           "hovertemplate": "Clutter<br>(%{x}, %{y})<br>Time: %{meta}",
           "meta": [
            "2023-09-07 15:00:40",
            "2023-09-07 15:00:41",
            "2023-09-07 15:00:41",
            "2023-09-07 15:00:41",
            "2023-09-07 15:00:43",
            "2023-09-07 15:00:45",
            "2023-09-07 15:00:45",
            "2023-09-07 15:00:47",
            "2023-09-07 15:00:47",
            "2023-09-07 15:00:47",
            "2023-09-07 15:00:47",
            "2023-09-07 15:00:47",
            "2023-09-07 15:00:49"
           ],
           "type": "scatter",
           "x": [
            0.2628629860147935,
            -5.947186089536171,
            7.511234499194794,
            1.2368016066430076,
            -3.9383022083791523,
            9.519502944212656,
            8.816880016344196,
            15.208121856273904,
            14.025710879284519,
            -2.1359261723065925,
            7.05768093084308,
            1.592790739428831,
            0.7285176578468473,
            null
           ],
           "y": [
            45.565386681545874,
            45.05366061755791,
            46.35592175810034,
            32.05905379580751,
            47.28393730753255,
            31.456987364994728,
            34.167845538700334,
            41.39926162025145,
            30.523269059328186,
            39.91303043863957,
            48.67691635585126,
            36.21792645246228,
            49.91527833476793,
            null
           ]
          },
          {
           "type": "scatter",
           "x": [
            null,
            null
           ],
           "y": [
            null,
            null
           ]
          },
          {
           "customdata": [],
           "hovertemplate": "%{meta}<br>(%{x}, %{y})<br>Time: %{customdata}",
           "meta": [],
           "type": "scatter",
           "x": [
            null
           ],
           "y": [
            null
           ]
          },
          {
           "customdata": [
            "2023-09-07 15:00:40",
            "2023-09-07 15:00:41",
            "2023-09-07 15:00:42",
            "2023-09-07 15:00:43",
            "2023-09-07 15:00:44",
            "2023-09-07 15:00:45",
            "2023-09-07 15:00:46",
            "2023-09-07 15:00:47",
            "2023-09-07 15:00:48",
            "2023-09-07 15:00:49",
            "2023-09-07 15:00:50"
           ],
           "hovertemplate": "%{meta}<br>(%{x}, %{y})<br>Time: %{customdata}",
           "meta": [
            "GaussianStateUpdate",
            "GaussianStateUpdate",
            "GaussianStateUpdate",
            "GaussianStateUpdate",
            "GaussianStateUpdate",
            "GaussianStatePrediction",
            "GaussianStateUpdate",
            "GaussianStateUpdate",
            "GaussianStateUpdate",
            "GaussianStateUpdate",
            "GaussianStatePrediction"
           ],
           "type": "scatter",
           "x": [
            -0.43005629247898636,
            1.5671309635627815,
            1.7248047174586882,
            1.8905500191617137,
            3.0266606144206634,
            3.7930024690710495,
            5.063871539095284,
            5.749814186180568,
            6.802874669121355,
            8.2129677138972,
            9.367732280484283,
            null
           ],
           "y": [
            41.49312990045806,
            41.3283166972261,
            40.69579995272057,
            40.74242157325732,
            39.9576780440993,
            39.494129937136556,
            39.60146342055227,
            40.16817369119637,
            40.313729365629904,
            40.905811622898376,
            41.23864331164184,
            null
           ]
          },
          {
           "customdata": [],
           "hovertemplate": "%{meta}<br>(%{x}, %{y})<br>Time: %{customdata}",
           "meta": [],
           "type": "scatter",
           "x": [
            null
           ],
           "y": [
            null
           ]
          },
          {
           "type": "scatter",
           "x": [
            null
           ],
           "y": [
            null
           ]
          },
          {
           "type": "scatter",
           "x": [
            null
           ],
           "y": [
            null
           ]
          },
          {
           "type": "scatter",
           "x": [
            9.367732280484283,
            9.498799155760693,
            9.624137779658877,
            9.73827025287304,
            9.836208438655351,
            9.91367196832757,
            9.967275313931761,
            9.994675752047634,
            9.994675752047634,
            9.967275313931761,
            9.91367196832757,
            9.836208438655353,
            9.73827025287304,
            9.624137779658877,
            9.498799155760693,
            9.367732280484283,
            9.236665405207873,
            9.111326781309689,
            8.997194308095526,
            8.899256122313215,
            8.821792592640996,
            8.768189247036805,
            8.740788808920932,
            8.740788808920932,
            8.768189247036805,
            8.821792592640996,
            8.899256122313215,
            8.997194308095526,
            9.111326781309689,
            9.236665405207873,
            null,
            null
           ],
           "y": [
            41.869040163117084,
            41.855264479422495,
            41.81453949181925,
            41.74864507768577,
            41.66046113911618,
            41.55384173737946,
            41.433446651948145,
            41.30453772577531,
            41.17274889750836,
            41.04383997133553,
            40.92344488590422,
            40.816825484167495,
            40.7286415455979,
            40.66274713146443,
            40.62202214386118,
            40.60824646016659,
            40.62202214386118,
            40.66274713146443,
            40.7286415455979,
            40.816825484167495,
            40.92344488590422,
            41.04383997133553,
            41.17274889750836,
            41.30453772577531,
            41.433446651948145,
            41.55384173737946,
            41.66046113911618,
            41.74864507768577,
            41.81453949181925,
            41.855264479422495,
            null,
            null
           ]
          },
          {
           "type": "scatter",
           "x": [
            null
           ],
           "y": [
            null
           ]
          }
         ],
         "name": "2023-09-07 15:00:50",
         "traces": [
          0,
          1,
          2,
          3,
          4,
          5,
          6,
          7,
          8,
          9,
          10,
          11,
          12,
          13,
          14,
          15
         ]
        },
        {
         "data": [
          {
           "type": "scatter",
           "x": [
            0,
            0
           ],
           "y": [
            0,
            0
           ]
          },
          {
           "hovertemplate": "GroundTruthState<br>(%{x}, %{y})<br>Time: %{meta}",
           "meta": [
            "2023-09-07 15:00:40",
            "2023-09-07 15:00:41",
            "2023-09-07 15:00:42",
            "2023-09-07 15:00:43",
            "2023-09-07 15:00:44",
            "2023-09-07 15:00:45",
            "2023-09-07 15:00:46",
            "2023-09-07 15:00:47",
            "2023-09-07 15:00:48",
            "2023-09-07 15:00:49",
            "2023-09-07 15:00:50",
            "2023-09-07 15:00:51"
           ],
           "type": "scatter",
           "x": [
            0,
            0.8091562802362998,
            1.4187778862009663,
            1.9340594175080428,
            2.7291599722274826,
            3.736499927988022,
            5.119411483348772,
            6.216732395332771,
            7.088723290570684,
            7.663354901814838,
            8.096722636252593,
            8.358906371025952,
            null
           ],
           "y": [
            41.55127793935055,
            41.14739075037148,
            40.71022742116085,
            40.33576258703677,
            40.11469426682165,
            40.0218978369037,
            40.11795936277245,
            40.23397761081491,
            40.45410408807201,
            40.66784873441858,
            41.10916580043645,
            41.59034958414012,
            null
           ]
          },
          {
           "hovertemplate": "GroundTruthState<br>(%{x}, %{y})<br>Time: %{meta}",
           "meta": [],
           "type": "scatter",
           "x": [
            null
           ],
           "y": [
            null
           ]
          },
          {
           "hovertemplate": "GroundTruthState<br>(%{x}, %{y})<br>Time: %{meta}",
           "meta": [],
           "type": "scatter",
           "x": [
            null
           ],
           "y": [
            null
           ]
          },
          {
           "hovertemplate": "GroundTruthState<br>(%{x}, %{y})<br>Time: %{meta}",
           "meta": [],
           "type": "scatter",
           "x": [
            null
           ],
           "y": [
            null
           ]
          },
          {
           "type": "scatter",
           "x": [
            null,
            null
           ],
           "y": [
            null,
            null
           ]
          },
          {
           "hovertemplate": "Detection<br>(%{x}, %{y})<br>Time: %{meta}",
           "meta": [
            "2023-09-07 15:00:40",
            "2023-09-07 15:00:41",
            "2023-09-07 15:00:42",
            "2023-09-07 15:00:43",
            "2023-09-07 15:00:44",
            "2023-09-07 15:00:46",
            "2023-09-07 15:00:47",
            "2023-09-07 15:00:48",
            "2023-09-07 15:00:49",
            "2023-09-07 15:00:50",
            "2023-09-07 15:00:51"
           ],
           "type": "scatter",
           "x": [
            -0.43005629247898636,
            1.9613126588341832,
            1.328760915097623,
            1.6486342541080825,
            3.391167130241921,
            5.198613247790583,
            5.5997844867706466,
            6.935456692747284,
            8.51160294626042,
            6.938136290313291,
            8.00171047550961,
            null
           ],
           "y": [
            41.49312990045806,
            41.29578777553558,
            40.56025765481257,
            40.943137598599904,
            39.64105359377544,
            39.7539260798625,
            40.62749687000739,
            40.351899248824374,
            41.209034178881836,
            41.088704044823054,
            41.05099188880684,
            null
           ]
          },
          {
           "hovertemplate": "Clutter<br>(%{x}, %{y})<br>Time: %{meta}",
           "meta": [
            "2023-09-07 15:00:40",
            "2023-09-07 15:00:41",
            "2023-09-07 15:00:41",
            "2023-09-07 15:00:41",
            "2023-09-07 15:00:43",
            "2023-09-07 15:00:45",
            "2023-09-07 15:00:45",
            "2023-09-07 15:00:47",
            "2023-09-07 15:00:47",
            "2023-09-07 15:00:47",
            "2023-09-07 15:00:47",
            "2023-09-07 15:00:47",
            "2023-09-07 15:00:49",
            "2023-09-07 15:00:51"
           ],
           "type": "scatter",
           "x": [
            0.2628629860147935,
            -5.947186089536171,
            7.511234499194794,
            1.2368016066430076,
            -3.9383022083791523,
            9.519502944212656,
            8.816880016344196,
            15.208121856273904,
            14.025710879284519,
            -2.1359261723065925,
            7.05768093084308,
            1.592790739428831,
            0.7285176578468473,
            12.242518424828313,
            null
           ],
           "y": [
            45.565386681545874,
            45.05366061755791,
            46.35592175810034,
            32.05905379580751,
            47.28393730753255,
            31.456987364994728,
            34.167845538700334,
            41.39926162025145,
            30.523269059328186,
            39.91303043863957,
            48.67691635585126,
            36.21792645246228,
            49.91527833476793,
            47.603344842135236,
            null
           ]
          },
          {
           "type": "scatter",
           "x": [
            null,
            null
           ],
           "y": [
            null,
            null
           ]
          },
          {
           "customdata": [],
           "hovertemplate": "%{meta}<br>(%{x}, %{y})<br>Time: %{customdata}",
           "meta": [],
           "type": "scatter",
           "x": [
            null
           ],
           "y": [
            null
           ]
          },
          {
           "customdata": [
            "2023-09-07 15:00:40",
            "2023-09-07 15:00:41",
            "2023-09-07 15:00:42",
            "2023-09-07 15:00:43",
            "2023-09-07 15:00:44",
            "2023-09-07 15:00:45",
            "2023-09-07 15:00:46",
            "2023-09-07 15:00:47",
            "2023-09-07 15:00:48",
            "2023-09-07 15:00:49",
            "2023-09-07 15:00:50",
            "2023-09-07 15:00:51"
           ],
           "hovertemplate": "%{meta}<br>(%{x}, %{y})<br>Time: %{customdata}",
           "meta": [
            "GaussianStateUpdate",
            "GaussianStateUpdate",
            "GaussianStateUpdate",
            "GaussianStateUpdate",
            "GaussianStateUpdate",
            "GaussianStatePrediction",
            "GaussianStateUpdate",
            "GaussianStateUpdate",
            "GaussianStateUpdate",
            "GaussianStateUpdate",
            "GaussianStatePrediction",
            "GaussianStateUpdate"
           ],
           "type": "scatter",
           "x": [
            -0.43005629247898636,
            1.5671309635627815,
            1.7248047174586882,
            1.8905500191617137,
            3.0266606144206634,
            3.7930024690710495,
            5.063871539095284,
            5.749814186180568,
            6.802874669121355,
            8.2129677138972,
            9.367732280484283,
            8.542618402693721,
            null
           ],
           "y": [
            41.49312990045806,
            41.3283166972261,
            40.69579995272057,
            40.74242157325732,
            39.9576780440993,
            39.494129937136556,
            39.60146342055227,
            40.16817369119637,
            40.313729365629904,
            40.905811622898376,
            41.23864331164184,
            41.162676656780185,
            null
           ]
          },
          {
           "customdata": [],
           "hovertemplate": "%{meta}<br>(%{x}, %{y})<br>Time: %{customdata}",
           "meta": [],
           "type": "scatter",
           "x": [
            null
           ],
           "y": [
            null
           ]
          },
          {
           "type": "scatter",
           "x": [
            null
           ],
           "y": [
            null
           ]
          },
          {
           "type": "scatter",
           "x": [
            null
           ],
           "y": [
            null
           ]
          },
          {
           "type": "scatter",
           "x": [
            8.542618402693721,
            8.634748208807485,
            8.72285150030622,
            8.803077740584932,
            8.87192065797523,
            8.926371486642187,
            8.964050464088995,
            8.983310838197431,
            8.983310838197431,
            8.964050464088995,
            8.926371486642187,
            8.87192065797523,
            8.803077740584932,
            8.72285150030622,
            8.634748208807485,
            8.542618402693721,
            8.450488596579957,
            8.362385305081222,
            8.28215906480251,
            8.213316147412213,
            8.158865318745255,
            8.121186341298447,
            8.101925967190011,
            8.101925967190011,
            8.121186341298447,
            8.158865318745255,
            8.213316147412213,
            8.28215906480251,
            8.362385305081222,
            8.450488596579957,
            null,
            null
           ],
           "y": [
            41.60579654942018,
            41.596113316603414,
            41.56748682189253,
            41.52116818047154,
            41.45918173923206,
            41.384236603100184,
            41.29960823415154,
            41.208995298201174,
            41.1163580153592,
            41.02574507940883,
            40.941116710460186,
            40.86617157432831,
            40.80418513308883,
            40.75786649166784,
            40.729239996956956,
            40.719556764140194,
            40.729239996956956,
            40.75786649166784,
            40.80418513308883,
            40.86617157432831,
            40.941116710460186,
            41.02574507940883,
            41.1163580153592,
            41.208995298201174,
            41.29960823415154,
            41.384236603100184,
            41.45918173923206,
            41.52116818047154,
            41.56748682189253,
            41.596113316603414,
            null,
            null
           ]
          },
          {
           "type": "scatter",
           "x": [
            null
           ],
           "y": [
            null
           ]
          }
         ],
         "name": "2023-09-07 15:00:51",
         "traces": [
          0,
          1,
          2,
          3,
          4,
          5,
          6,
          7,
          8,
          9,
          10,
          11,
          12,
          13,
          14,
          15
         ]
        },
        {
         "data": [
          {
           "type": "scatter",
           "x": [
            0,
            0
           ],
           "y": [
            0,
            0
           ]
          },
          {
           "hovertemplate": "GroundTruthState<br>(%{x}, %{y})<br>Time: %{meta}",
           "meta": [
            "2023-09-07 15:00:40",
            "2023-09-07 15:00:41",
            "2023-09-07 15:00:42",
            "2023-09-07 15:00:43",
            "2023-09-07 15:00:44",
            "2023-09-07 15:00:45",
            "2023-09-07 15:00:46",
            "2023-09-07 15:00:47",
            "2023-09-07 15:00:48",
            "2023-09-07 15:00:49",
            "2023-09-07 15:00:50",
            "2023-09-07 15:00:51",
            "2023-09-07 15:00:52"
           ],
           "type": "scatter",
           "x": [
            0,
            0.8091562802362998,
            1.4187778862009663,
            1.9340594175080428,
            2.7291599722274826,
            3.736499927988022,
            5.119411483348772,
            6.216732395332771,
            7.088723290570684,
            7.663354901814838,
            8.096722636252593,
            8.358906371025952,
            8.54822310121289,
            null
           ],
           "y": [
            41.55127793935055,
            41.14739075037148,
            40.71022742116085,
            40.33576258703677,
            40.11469426682165,
            40.0218978369037,
            40.11795936277245,
            40.23397761081491,
            40.45410408807201,
            40.66784873441858,
            41.10916580043645,
            41.59034958414012,
            42.15920554432621,
            null
           ]
          },
          {
           "hovertemplate": "GroundTruthState<br>(%{x}, %{y})<br>Time: %{meta}",
           "meta": [],
           "type": "scatter",
           "x": [
            null
           ],
           "y": [
            null
           ]
          },
          {
           "hovertemplate": "GroundTruthState<br>(%{x}, %{y})<br>Time: %{meta}",
           "meta": [],
           "type": "scatter",
           "x": [
            null
           ],
           "y": [
            null
           ]
          },
          {
           "hovertemplate": "GroundTruthState<br>(%{x}, %{y})<br>Time: %{meta}",
           "meta": [],
           "type": "scatter",
           "x": [
            null
           ],
           "y": [
            null
           ]
          },
          {
           "type": "scatter",
           "x": [
            null,
            null
           ],
           "y": [
            null,
            null
           ]
          },
          {
           "hovertemplate": "Detection<br>(%{x}, %{y})<br>Time: %{meta}",
           "meta": [
            "2023-09-07 15:00:40",
            "2023-09-07 15:00:41",
            "2023-09-07 15:00:42",
            "2023-09-07 15:00:43",
            "2023-09-07 15:00:44",
            "2023-09-07 15:00:46",
            "2023-09-07 15:00:47",
            "2023-09-07 15:00:48",
            "2023-09-07 15:00:49",
            "2023-09-07 15:00:50",
            "2023-09-07 15:00:51",
            "2023-09-07 15:00:52"
           ],
           "type": "scatter",
           "x": [
            -0.43005629247898636,
            1.9613126588341832,
            1.328760915097623,
            1.6486342541080825,
            3.391167130241921,
            5.198613247790583,
            5.5997844867706466,
            6.935456692747284,
            8.51160294626042,
            6.938136290313291,
            8.00171047550961,
            8.455481513912613,
            null
           ],
           "y": [
            41.49312990045806,
            41.29578777553558,
            40.56025765481257,
            40.943137598599904,
            39.64105359377544,
            39.7539260798625,
            40.62749687000739,
            40.351899248824374,
            41.209034178881836,
            41.088704044823054,
            41.05099188880684,
            42.74592512474356,
            null
           ]
          },
          {
           "hovertemplate": "Clutter<br>(%{x}, %{y})<br>Time: %{meta}",
           "meta": [
            "2023-09-07 15:00:40",
            "2023-09-07 15:00:41",
            "2023-09-07 15:00:41",
            "2023-09-07 15:00:41",
            "2023-09-07 15:00:43",
            "2023-09-07 15:00:45",
            "2023-09-07 15:00:45",
            "2023-09-07 15:00:47",
            "2023-09-07 15:00:47",
            "2023-09-07 15:00:47",
            "2023-09-07 15:00:47",
            "2023-09-07 15:00:47",
            "2023-09-07 15:00:49",
            "2023-09-07 15:00:51"
           ],
           "type": "scatter",
           "x": [
            0.2628629860147935,
            -5.947186089536171,
            7.511234499194794,
            1.2368016066430076,
            -3.9383022083791523,
            9.519502944212656,
            8.816880016344196,
            15.208121856273904,
            14.025710879284519,
            -2.1359261723065925,
            7.05768093084308,
            1.592790739428831,
            0.7285176578468473,
            12.242518424828313,
            null
           ],
           "y": [
            45.565386681545874,
            45.05366061755791,
            46.35592175810034,
            32.05905379580751,
            47.28393730753255,
            31.456987364994728,
            34.167845538700334,
            41.39926162025145,
            30.523269059328186,
            39.91303043863957,
            48.67691635585126,
            36.21792645246228,
            49.91527833476793,
            47.603344842135236,
            null
           ]
          },
          {
           "type": "scatter",
           "x": [
            null,
            null
           ],
           "y": [
            null,
            null
           ]
          },
          {
           "customdata": [],
           "hovertemplate": "%{meta}<br>(%{x}, %{y})<br>Time: %{customdata}",
           "meta": [],
           "type": "scatter",
           "x": [
            null
           ],
           "y": [
            null
           ]
          },
          {
           "customdata": [
            "2023-09-07 15:00:40",
            "2023-09-07 15:00:41",
            "2023-09-07 15:00:42",
            "2023-09-07 15:00:43",
            "2023-09-07 15:00:44",
            "2023-09-07 15:00:45",
            "2023-09-07 15:00:46",
            "2023-09-07 15:00:47",
            "2023-09-07 15:00:48",
            "2023-09-07 15:00:49",
            "2023-09-07 15:00:50",
            "2023-09-07 15:00:51",
            "2023-09-07 15:00:52"
           ],
           "hovertemplate": "%{meta}<br>(%{x}, %{y})<br>Time: %{customdata}",
           "meta": [
            "GaussianStateUpdate",
            "GaussianStateUpdate",
            "GaussianStateUpdate",
            "GaussianStateUpdate",
            "GaussianStateUpdate",
            "GaussianStatePrediction",
            "GaussianStateUpdate",
            "GaussianStateUpdate",
            "GaussianStateUpdate",
            "GaussianStateUpdate",
            "GaussianStatePrediction",
            "GaussianStateUpdate",
            "GaussianStateUpdate"
           ],
           "type": "scatter",
           "x": [
            -0.43005629247898636,
            1.5671309635627815,
            1.7248047174586882,
            1.8905500191617137,
            3.0266606144206634,
            3.7930024690710495,
            5.063871539095284,
            5.749814186180568,
            6.802874669121355,
            8.2129677138972,
            9.367732280484283,
            8.542618402693721,
            8.634368220211687,
            null
           ],
           "y": [
            41.49312990045806,
            41.3283166972261,
            40.69579995272057,
            40.74242157325732,
            39.9576780440993,
            39.494129937136556,
            39.60146342055227,
            40.16817369119637,
            40.313729365629904,
            40.905811622898376,
            41.23864331164184,
            41.162676656780185,
            42.24148057909349,
            null
           ]
          },
          {
           "customdata": [],
           "hovertemplate": "%{meta}<br>(%{x}, %{y})<br>Time: %{customdata}",
           "meta": [],
           "type": "scatter",
           "x": [
            null
           ],
           "y": [
            null
           ]
          },
          {
           "type": "scatter",
           "x": [
            null
           ],
           "y": [
            null
           ]
          },
          {
           "type": "scatter",
           "x": [
            null
           ],
           "y": [
            null
           ]
          },
          {
           "type": "scatter",
           "x": [
            8.634368220211687,
            8.717579539098525,
            8.797154124057798,
            8.869614183885563,
            8.931792866265404,
            8.980972664410901,
            9.015004185152241,
            9.032400087731672,
            9.032400087731672,
            9.015004185152241,
            8.980972664410901,
            8.931792866265404,
            8.869614183885563,
            8.797154124057796,
            8.717579539098525,
            8.634368220211687,
            8.551156901324852,
            8.471582316365579,
            8.399122256537812,
            8.33694357415797,
            8.287763776012474,
            8.253732255271133,
            8.236336352691703,
            8.236336352691703,
            8.253732255271133,
            8.287763776012474,
            8.33694357415797,
            8.399122256537812,
            8.471582316365577,
            8.551156901324852,
            null,
            null
           ],
           "y": [
            42.64170491741496,
            42.63295905537792,
            42.60710370540509,
            42.56526887035803,
            42.50928293327411,
            42.44159274825423,
            42.36515670119729,
            42.283315414140546,
            42.199645744046435,
            42.11780445698969,
            42.04136840993275,
            41.973678224912874,
            41.91769228782895,
            41.875857452781894,
            41.850002102809064,
            41.84125624077202,
            41.850002102809064,
            41.875857452781894,
            41.91769228782895,
            41.973678224912874,
            42.04136840993275,
            42.11780445698969,
            42.199645744046435,
            42.283315414140546,
            42.36515670119729,
            42.44159274825423,
            42.50928293327411,
            42.56526887035803,
            42.60710370540509,
            42.63295905537792,
            null,
            null
           ]
          },
          {
           "type": "scatter",
           "x": [
            null
           ],
           "y": [
            null
           ]
          }
         ],
         "name": "2023-09-07 15:00:52",
         "traces": [
          0,
          1,
          2,
          3,
          4,
          5,
          6,
          7,
          8,
          9,
          10,
          11,
          12,
          13,
          14,
          15
         ]
        },
        {
         "data": [
          {
           "type": "scatter",
           "x": [
            0,
            0
           ],
           "y": [
            0,
            0
           ]
          },
          {
           "hovertemplate": "GroundTruthState<br>(%{x}, %{y})<br>Time: %{meta}",
           "meta": [
            "2023-09-07 15:00:40",
            "2023-09-07 15:00:41",
            "2023-09-07 15:00:42",
            "2023-09-07 15:00:43",
            "2023-09-07 15:00:44",
            "2023-09-07 15:00:45",
            "2023-09-07 15:00:46",
            "2023-09-07 15:00:47",
            "2023-09-07 15:00:48",
            "2023-09-07 15:00:49",
            "2023-09-07 15:00:50",
            "2023-09-07 15:00:51",
            "2023-09-07 15:00:52",
            "2023-09-07 15:00:53"
           ],
           "type": "scatter",
           "x": [
            0,
            0.8091562802362998,
            1.4187778862009663,
            1.9340594175080428,
            2.7291599722274826,
            3.736499927988022,
            5.119411483348772,
            6.216732395332771,
            7.088723290570684,
            7.663354901814838,
            8.096722636252593,
            8.358906371025952,
            8.54822310121289,
            8.543882911480415,
            null
           ],
           "y": [
            41.55127793935055,
            41.14739075037148,
            40.71022742116085,
            40.33576258703677,
            40.11469426682165,
            40.0218978369037,
            40.11795936277245,
            40.23397761081491,
            40.45410408807201,
            40.66784873441858,
            41.10916580043645,
            41.59034958414012,
            42.15920554432621,
            42.83722041736732,
            null
           ]
          },
          {
           "hovertemplate": "GroundTruthState<br>(%{x}, %{y})<br>Time: %{meta}",
           "meta": [],
           "type": "scatter",
           "x": [
            null
           ],
           "y": [
            null
           ]
          },
          {
           "hovertemplate": "GroundTruthState<br>(%{x}, %{y})<br>Time: %{meta}",
           "meta": [],
           "type": "scatter",
           "x": [
            null
           ],
           "y": [
            null
           ]
          },
          {
           "hovertemplate": "GroundTruthState<br>(%{x}, %{y})<br>Time: %{meta}",
           "meta": [],
           "type": "scatter",
           "x": [
            null
           ],
           "y": [
            null
           ]
          },
          {
           "type": "scatter",
           "x": [
            null,
            null
           ],
           "y": [
            null,
            null
           ]
          },
          {
           "hovertemplate": "Detection<br>(%{x}, %{y})<br>Time: %{meta}",
           "meta": [
            "2023-09-07 15:00:40",
            "2023-09-07 15:00:41",
            "2023-09-07 15:00:42",
            "2023-09-07 15:00:43",
            "2023-09-07 15:00:44",
            "2023-09-07 15:00:46",
            "2023-09-07 15:00:47",
            "2023-09-07 15:00:48",
            "2023-09-07 15:00:49",
            "2023-09-07 15:00:50",
            "2023-09-07 15:00:51",
            "2023-09-07 15:00:52",
            "2023-09-07 15:00:53"
           ],
           "type": "scatter",
           "x": [
            -0.43005629247898636,
            1.9613126588341832,
            1.328760915097623,
            1.6486342541080825,
            3.391167130241921,
            5.198613247790583,
            5.5997844867706466,
            6.935456692747284,
            8.51160294626042,
            6.938136290313291,
            8.00171047550961,
            8.455481513912613,
            8.51568107852356,
            null
           ],
           "y": [
            41.49312990045806,
            41.29578777553558,
            40.56025765481257,
            40.943137598599904,
            39.64105359377544,
            39.7539260798625,
            40.62749687000739,
            40.351899248824374,
            41.209034178881836,
            41.088704044823054,
            41.05099188880684,
            42.74592512474356,
            43.20802778630997,
            null
           ]
          },
          {
           "hovertemplate": "Clutter<br>(%{x}, %{y})<br>Time: %{meta}",
           "meta": [
            "2023-09-07 15:00:40",
            "2023-09-07 15:00:41",
            "2023-09-07 15:00:41",
            "2023-09-07 15:00:41",
            "2023-09-07 15:00:43",
            "2023-09-07 15:00:45",
            "2023-09-07 15:00:45",
            "2023-09-07 15:00:47",
            "2023-09-07 15:00:47",
            "2023-09-07 15:00:47",
            "2023-09-07 15:00:47",
            "2023-09-07 15:00:47",
            "2023-09-07 15:00:49",
            "2023-09-07 15:00:51"
           ],
           "type": "scatter",
           "x": [
            0.2628629860147935,
            -5.947186089536171,
            7.511234499194794,
            1.2368016066430076,
            -3.9383022083791523,
            9.519502944212656,
            8.816880016344196,
            15.208121856273904,
            14.025710879284519,
            -2.1359261723065925,
            7.05768093084308,
            1.592790739428831,
            0.7285176578468473,
            12.242518424828313,
            null
           ],
           "y": [
            45.565386681545874,
            45.05366061755791,
            46.35592175810034,
            32.05905379580751,
            47.28393730753255,
            31.456987364994728,
            34.167845538700334,
            41.39926162025145,
            30.523269059328186,
            39.91303043863957,
            48.67691635585126,
            36.21792645246228,
            49.91527833476793,
            47.603344842135236,
            null
           ]
          },
          {
           "type": "scatter",
           "x": [
            null,
            null
           ],
           "y": [
            null,
            null
           ]
          },
          {
           "customdata": [],
           "hovertemplate": "%{meta}<br>(%{x}, %{y})<br>Time: %{customdata}",
           "meta": [],
           "type": "scatter",
           "x": [
            null
           ],
           "y": [
            null
           ]
          },
          {
           "customdata": [
            "2023-09-07 15:00:40",
            "2023-09-07 15:00:41",
            "2023-09-07 15:00:42",
            "2023-09-07 15:00:43",
            "2023-09-07 15:00:44",
            "2023-09-07 15:00:45",
            "2023-09-07 15:00:46",
            "2023-09-07 15:00:47",
            "2023-09-07 15:00:48",
            "2023-09-07 15:00:49",
            "2023-09-07 15:00:50",
            "2023-09-07 15:00:51",
            "2023-09-07 15:00:52",
            "2023-09-07 15:00:53"
           ],
           "hovertemplate": "%{meta}<br>(%{x}, %{y})<br>Time: %{customdata}",
           "meta": [
            "GaussianStateUpdate",
            "GaussianStateUpdate",
            "GaussianStateUpdate",
            "GaussianStateUpdate",
            "GaussianStateUpdate",
            "GaussianStatePrediction",
            "GaussianStateUpdate",
            "GaussianStateUpdate",
            "GaussianStateUpdate",
            "GaussianStateUpdate",
            "GaussianStatePrediction",
            "GaussianStateUpdate",
            "GaussianStateUpdate",
            "GaussianStateUpdate"
           ],
           "type": "scatter",
           "x": [
            -0.43005629247898636,
            1.5671309635627815,
            1.7248047174586882,
            1.8905500191617137,
            3.0266606144206634,
            3.7930024690710495,
            5.063871539095284,
            5.749814186180568,
            6.802874669121355,
            8.2129677138972,
            9.367732280484283,
            8.542618402693721,
            8.634368220211687,
            8.669701894529883,
            null
           ],
           "y": [
            41.49312990045806,
            41.3283166972261,
            40.69579995272057,
            40.74242157325732,
            39.9576780440993,
            39.494129937136556,
            39.60146342055227,
            40.16817369119637,
            40.313729365629904,
            40.905811622898376,
            41.23864331164184,
            41.162676656780185,
            42.24148057909349,
            43.0469437062278,
            null
           ]
          },
          {
           "customdata": [],
           "hovertemplate": "%{meta}<br>(%{x}, %{y})<br>Time: %{customdata}",
           "meta": [],
           "type": "scatter",
           "x": [
            null
           ],
           "y": [
            null
           ]
          },
          {
           "type": "scatter",
           "x": [
            null
           ],
           "y": [
            null
           ]
          },
          {
           "type": "scatter",
           "x": [
            null
           ],
           "y": [
            null
           ]
          },
          {
           "type": "scatter",
           "x": [
            8.669701894529883,
            8.751079627444462,
            8.828900762936986,
            8.899764143959192,
            8.960572700720185,
            9.008668807497676,
            9.041950433634764,
            9.058963012366295,
            9.058963012366295,
            9.041950433634764,
            9.008668807497676,
            8.960572700720185,
            8.899764143959192,
            8.828900762936986,
            8.751079627444462,
            8.669701894529883,
            8.588324161615304,
            8.51050302612278,
            8.439639645100574,
            8.378831088339581,
            8.33073498156209,
            8.297453355425002,
            8.280440776693471,
            8.280440776693471,
            8.297453355425002,
            8.33073498156209,
            8.378831088339581,
            8.439639645100572,
            8.51050302612278,
            8.588324161615304,
            null,
            null
           ],
           "y": [
            43.43834898312446,
            43.42979583873882,
            43.404510219034094,
            43.36359722692523,
            43.30884495648972,
            43.24264634467613,
            43.1678945884769,
            43.08785669833666,
            43.00603071411894,
            42.9259928239787,
            42.85124106777947,
            42.78504245596588,
            42.73029018553037,
            42.68937719342151,
            42.66409157371678,
            42.65553842933114,
            42.66409157371678,
            42.68937719342151,
            42.73029018553037,
            42.78504245596588,
            42.85124106777947,
            42.9259928239787,
            43.00603071411894,
            43.08785669833666,
            43.1678945884769,
            43.24264634467613,
            43.30884495648972,
            43.36359722692523,
            43.404510219034094,
            43.42979583873882,
            null,
            null
           ]
          },
          {
           "type": "scatter",
           "x": [
            null
           ],
           "y": [
            null
           ]
          }
         ],
         "name": "2023-09-07 15:00:53",
         "traces": [
          0,
          1,
          2,
          3,
          4,
          5,
          6,
          7,
          8,
          9,
          10,
          11,
          12,
          13,
          14,
          15
         ]
        },
        {
         "data": [
          {
           "type": "scatter",
           "x": [
            0,
            0
           ],
           "y": [
            0,
            0
           ]
          },
          {
           "hovertemplate": "GroundTruthState<br>(%{x}, %{y})<br>Time: %{meta}",
           "meta": [
            "2023-09-07 15:00:40",
            "2023-09-07 15:00:41",
            "2023-09-07 15:00:42",
            "2023-09-07 15:00:43",
            "2023-09-07 15:00:44",
            "2023-09-07 15:00:45",
            "2023-09-07 15:00:46",
            "2023-09-07 15:00:47",
            "2023-09-07 15:00:48",
            "2023-09-07 15:00:49",
            "2023-09-07 15:00:50",
            "2023-09-07 15:00:51",
            "2023-09-07 15:00:52",
            "2023-09-07 15:00:53",
            "2023-09-07 15:00:54"
           ],
           "type": "scatter",
           "x": [
            0,
            0.8091562802362998,
            1.4187778862009663,
            1.9340594175080428,
            2.7291599722274826,
            3.736499927988022,
            5.119411483348772,
            6.216732395332771,
            7.088723290570684,
            7.663354901814838,
            8.096722636252593,
            8.358906371025952,
            8.54822310121289,
            8.543882911480415,
            8.661018452611112,
            null
           ],
           "y": [
            41.55127793935055,
            41.14739075037148,
            40.71022742116085,
            40.33576258703677,
            40.11469426682165,
            40.0218978369037,
            40.11795936277245,
            40.23397761081491,
            40.45410408807201,
            40.66784873441858,
            41.10916580043645,
            41.59034958414012,
            42.15920554432621,
            42.83722041736732,
            43.80601257101235,
            null
           ]
          },
          {
           "hovertemplate": "GroundTruthState<br>(%{x}, %{y})<br>Time: %{meta}",
           "meta": [],
           "type": "scatter",
           "x": [
            null
           ],
           "y": [
            null
           ]
          },
          {
           "hovertemplate": "GroundTruthState<br>(%{x}, %{y})<br>Time: %{meta}",
           "meta": [],
           "type": "scatter",
           "x": [
            null
           ],
           "y": [
            null
           ]
          },
          {
           "hovertemplate": "GroundTruthState<br>(%{x}, %{y})<br>Time: %{meta}",
           "meta": [],
           "type": "scatter",
           "x": [
            null
           ],
           "y": [
            null
           ]
          },
          {
           "type": "scatter",
           "x": [
            null,
            null
           ],
           "y": [
            null,
            null
           ]
          },
          {
           "hovertemplate": "Detection<br>(%{x}, %{y})<br>Time: %{meta}",
           "meta": [
            "2023-09-07 15:00:40",
            "2023-09-07 15:00:41",
            "2023-09-07 15:00:42",
            "2023-09-07 15:00:43",
            "2023-09-07 15:00:44",
            "2023-09-07 15:00:46",
            "2023-09-07 15:00:47",
            "2023-09-07 15:00:48",
            "2023-09-07 15:00:49",
            "2023-09-07 15:00:50",
            "2023-09-07 15:00:51",
            "2023-09-07 15:00:52",
            "2023-09-07 15:00:53",
            "2023-09-07 15:00:54"
           ],
           "type": "scatter",
           "x": [
            -0.43005629247898636,
            1.9613126588341832,
            1.328760915097623,
            1.6486342541080825,
            3.391167130241921,
            5.198613247790583,
            5.5997844867706466,
            6.935456692747284,
            8.51160294626042,
            6.938136290313291,
            8.00171047550961,
            8.455481513912613,
            8.51568107852356,
            9.22411910733494,
            null
           ],
           "y": [
            41.49312990045806,
            41.29578777553558,
            40.56025765481257,
            40.943137598599904,
            39.64105359377544,
            39.7539260798625,
            40.62749687000739,
            40.351899248824374,
            41.209034178881836,
            41.088704044823054,
            41.05099188880684,
            42.74592512474356,
            43.20802778630997,
            43.2900108578128,
            null
           ]
          },
          {
           "hovertemplate": "Clutter<br>(%{x}, %{y})<br>Time: %{meta}",
           "meta": [
            "2023-09-07 15:00:40",
            "2023-09-07 15:00:41",
            "2023-09-07 15:00:41",
            "2023-09-07 15:00:41",
            "2023-09-07 15:00:43",
            "2023-09-07 15:00:45",
            "2023-09-07 15:00:45",
            "2023-09-07 15:00:47",
            "2023-09-07 15:00:47",
            "2023-09-07 15:00:47",
            "2023-09-07 15:00:47",
            "2023-09-07 15:00:47",
            "2023-09-07 15:00:49",
            "2023-09-07 15:00:51",
            "2023-09-07 15:00:54"
           ],
           "type": "scatter",
           "x": [
            0.2628629860147935,
            -5.947186089536171,
            7.511234499194794,
            1.2368016066430076,
            -3.9383022083791523,
            9.519502944212656,
            8.816880016344196,
            15.208121856273904,
            14.025710879284519,
            -2.1359261723065925,
            7.05768093084308,
            1.592790739428831,
            0.7285176578468473,
            12.242518424828313,
            3.6747835001110527,
            null
           ],
           "y": [
            45.565386681545874,
            45.05366061755791,
            46.35592175810034,
            32.05905379580751,
            47.28393730753255,
            31.456987364994728,
            34.167845538700334,
            41.39926162025145,
            30.523269059328186,
            39.91303043863957,
            48.67691635585126,
            36.21792645246228,
            49.91527833476793,
            47.603344842135236,
            45.81113548447709,
            null
           ]
          },
          {
           "type": "scatter",
           "x": [
            null,
            null
           ],
           "y": [
            null,
            null
           ]
          },
          {
           "customdata": [],
           "hovertemplate": "%{meta}<br>(%{x}, %{y})<br>Time: %{customdata}",
           "meta": [],
           "type": "scatter",
           "x": [
            null
           ],
           "y": [
            null
           ]
          },
          {
           "customdata": [
            "2023-09-07 15:00:40",
            "2023-09-07 15:00:41",
            "2023-09-07 15:00:42",
            "2023-09-07 15:00:43",
            "2023-09-07 15:00:44",
            "2023-09-07 15:00:45",
            "2023-09-07 15:00:46",
            "2023-09-07 15:00:47",
            "2023-09-07 15:00:48",
            "2023-09-07 15:00:49",
            "2023-09-07 15:00:50",
            "2023-09-07 15:00:51",
            "2023-09-07 15:00:52",
            "2023-09-07 15:00:53",
            "2023-09-07 15:00:54"
           ],
           "hovertemplate": "%{meta}<br>(%{x}, %{y})<br>Time: %{customdata}",
           "meta": [
            "GaussianStateUpdate",
            "GaussianStateUpdate",
            "GaussianStateUpdate",
            "GaussianStateUpdate",
            "GaussianStateUpdate",
            "GaussianStatePrediction",
            "GaussianStateUpdate",
            "GaussianStateUpdate",
            "GaussianStateUpdate",
            "GaussianStateUpdate",
            "GaussianStatePrediction",
            "GaussianStateUpdate",
            "GaussianStateUpdate",
            "GaussianStateUpdate",
            "GaussianStateUpdate"
           ],
           "type": "scatter",
           "x": [
            -0.43005629247898636,
            1.5671309635627815,
            1.7248047174586882,
            1.8905500191617137,
            3.0266606144206634,
            3.7930024690710495,
            5.063871539095284,
            5.749814186180568,
            6.802874669121355,
            8.2129677138972,
            9.367732280484283,
            8.542618402693721,
            8.634368220211687,
            8.669701894529883,
            9.075003246000703,
            null
           ],
           "y": [
            41.49312990045806,
            41.3283166972261,
            40.69579995272057,
            40.74242157325732,
            39.9576780440993,
            39.494129937136556,
            39.60146342055227,
            40.16817369119637,
            40.313729365629904,
            40.905811622898376,
            41.23864331164184,
            41.162676656780185,
            42.24148057909349,
            43.0469437062278,
            43.453524571615226,
            null
           ]
          },
          {
           "customdata": [],
           "hovertemplate": "%{meta}<br>(%{x}, %{y})<br>Time: %{customdata}",
           "meta": [],
           "type": "scatter",
           "x": [
            null
           ],
           "y": [
            null
           ]
          },
          {
           "type": "scatter",
           "x": [
            null
           ],
           "y": [
            null
           ]
          },
          {
           "type": "scatter",
           "x": [
            null
           ],
           "y": [
            null
           ]
          },
          {
           "type": "scatter",
           "x": [
            9.075003246000703,
            9.156360578671986,
            9.234162205509737,
            9.305007822087521,
            9.365801135005904,
            9.41388518477167,
            9.447158467677186,
            9.464166781596555,
            9.464166781596555,
            9.447158467677186,
            9.41388518477167,
            9.365801135005904,
            9.305007822087521,
            9.234162205509737,
            9.156360578671986,
            9.075003246000703,
            8.99364591332942,
            8.91584428649167,
            8.844998669913885,
            8.784205356995502,
            8.736121307229736,
            8.70284802432422,
            8.685839710404851,
            8.685839710404851,
            8.70284802432422,
            8.736121307229736,
            8.784205356995502,
            8.844998669913885,
            8.91584428649167,
            8.99364591332942,
            null,
            null
           ],
           "y": [
            43.844831728761065,
            43.8362807285274,
            43.81100144756885,
            43.77009871176676,
            43.715360166948784,
            43.64917815018815,
            43.57444513319384,
            43.49442730741732,
            43.412621835813134,
            43.33260401003661,
            43.2578709930423,
            43.19168897628167,
            43.136950431463696,
            43.0960476956616,
            43.07076841470305,
            43.06221741446939,
            43.07076841470305,
            43.0960476956616,
            43.136950431463696,
            43.19168897628167,
            43.2578709930423,
            43.33260401003661,
            43.412621835813134,
            43.49442730741732,
            43.57444513319384,
            43.64917815018815,
            43.715360166948784,
            43.77009871176676,
            43.81100144756885,
            43.8362807285274,
            null,
            null
           ]
          },
          {
           "type": "scatter",
           "x": [
            null
           ],
           "y": [
            null
           ]
          }
         ],
         "name": "2023-09-07 15:00:54",
         "traces": [
          0,
          1,
          2,
          3,
          4,
          5,
          6,
          7,
          8,
          9,
          10,
          11,
          12,
          13,
          14,
          15
         ]
        },
        {
         "data": [
          {
           "type": "scatter",
           "x": [
            0,
            0
           ],
           "y": [
            0,
            0
           ]
          },
          {
           "hovertemplate": "GroundTruthState<br>(%{x}, %{y})<br>Time: %{meta}",
           "meta": [
            "2023-09-07 15:00:40",
            "2023-09-07 15:00:41",
            "2023-09-07 15:00:42",
            "2023-09-07 15:00:43",
            "2023-09-07 15:00:44",
            "2023-09-07 15:00:45",
            "2023-09-07 15:00:46",
            "2023-09-07 15:00:47",
            "2023-09-07 15:00:48",
            "2023-09-07 15:00:49",
            "2023-09-07 15:00:50",
            "2023-09-07 15:00:51",
            "2023-09-07 15:00:52",
            "2023-09-07 15:00:53",
            "2023-09-07 15:00:54",
            "2023-09-07 15:00:55"
           ],
           "type": "scatter",
           "x": [
            0,
            0.8091562802362998,
            1.4187778862009663,
            1.9340594175080428,
            2.7291599722274826,
            3.736499927988022,
            5.119411483348772,
            6.216732395332771,
            7.088723290570684,
            7.663354901814838,
            8.096722636252593,
            8.358906371025952,
            8.54822310121289,
            8.543882911480415,
            8.661018452611112,
            8.81413676771379,
            null
           ],
           "y": [
            41.55127793935055,
            41.14739075037148,
            40.71022742116085,
            40.33576258703677,
            40.11469426682165,
            40.0218978369037,
            40.11795936277245,
            40.23397761081491,
            40.45410408807201,
            40.66784873441858,
            41.10916580043645,
            41.59034958414012,
            42.15920554432621,
            42.83722041736732,
            43.80601257101235,
            44.72250861193358,
            null
           ]
          },
          {
           "hovertemplate": "GroundTruthState<br>(%{x}, %{y})<br>Time: %{meta}",
           "meta": [],
           "type": "scatter",
           "x": [
            null
           ],
           "y": [
            null
           ]
          },
          {
           "hovertemplate": "GroundTruthState<br>(%{x}, %{y})<br>Time: %{meta}",
           "meta": [],
           "type": "scatter",
           "x": [
            null
           ],
           "y": [
            null
           ]
          },
          {
           "hovertemplate": "GroundTruthState<br>(%{x}, %{y})<br>Time: %{meta}",
           "meta": [],
           "type": "scatter",
           "x": [
            null
           ],
           "y": [
            null
           ]
          },
          {
           "type": "scatter",
           "x": [
            null,
            null
           ],
           "y": [
            null,
            null
           ]
          },
          {
           "hovertemplate": "Detection<br>(%{x}, %{y})<br>Time: %{meta}",
           "meta": [
            "2023-09-07 15:00:40",
            "2023-09-07 15:00:41",
            "2023-09-07 15:00:42",
            "2023-09-07 15:00:43",
            "2023-09-07 15:00:44",
            "2023-09-07 15:00:46",
            "2023-09-07 15:00:47",
            "2023-09-07 15:00:48",
            "2023-09-07 15:00:49",
            "2023-09-07 15:00:50",
            "2023-09-07 15:00:51",
            "2023-09-07 15:00:52",
            "2023-09-07 15:00:53",
            "2023-09-07 15:00:54",
            "2023-09-07 15:00:55"
           ],
           "type": "scatter",
           "x": [
            -0.43005629247898636,
            1.9613126588341832,
            1.328760915097623,
            1.6486342541080825,
            3.391167130241921,
            5.198613247790583,
            5.5997844867706466,
            6.935456692747284,
            8.51160294626042,
            6.938136290313291,
            8.00171047550961,
            8.455481513912613,
            8.51568107852356,
            9.22411910733494,
            9.258594731151701,
            null
           ],
           "y": [
            41.49312990045806,
            41.29578777553558,
            40.56025765481257,
            40.943137598599904,
            39.64105359377544,
            39.7539260798625,
            40.62749687000739,
            40.351899248824374,
            41.209034178881836,
            41.088704044823054,
            41.05099188880684,
            42.74592512474356,
            43.20802778630997,
            43.2900108578128,
            45.8069560006637,
            null
           ]
          },
          {
           "hovertemplate": "Clutter<br>(%{x}, %{y})<br>Time: %{meta}",
           "meta": [
            "2023-09-07 15:00:40",
            "2023-09-07 15:00:41",
            "2023-09-07 15:00:41",
            "2023-09-07 15:00:41",
            "2023-09-07 15:00:43",
            "2023-09-07 15:00:45",
            "2023-09-07 15:00:45",
            "2023-09-07 15:00:47",
            "2023-09-07 15:00:47",
            "2023-09-07 15:00:47",
            "2023-09-07 15:00:47",
            "2023-09-07 15:00:47",
            "2023-09-07 15:00:49",
            "2023-09-07 15:00:51",
            "2023-09-07 15:00:54"
           ],
           "type": "scatter",
           "x": [
            0.2628629860147935,
            -5.947186089536171,
            7.511234499194794,
            1.2368016066430076,
            -3.9383022083791523,
            9.519502944212656,
            8.816880016344196,
            15.208121856273904,
            14.025710879284519,
            -2.1359261723065925,
            7.05768093084308,
            1.592790739428831,
            0.7285176578468473,
            12.242518424828313,
            3.6747835001110527,
            null
           ],
           "y": [
            45.565386681545874,
            45.05366061755791,
            46.35592175810034,
            32.05905379580751,
            47.28393730753255,
            31.456987364994728,
            34.167845538700334,
            41.39926162025145,
            30.523269059328186,
            39.91303043863957,
            48.67691635585126,
            36.21792645246228,
            49.91527833476793,
            47.603344842135236,
            45.81113548447709,
            null
           ]
          },
          {
           "type": "scatter",
           "x": [
            null,
            null
           ],
           "y": [
            null,
            null
           ]
          },
          {
           "customdata": [],
           "hovertemplate": "%{meta}<br>(%{x}, %{y})<br>Time: %{customdata}",
           "meta": [],
           "type": "scatter",
           "x": [
            null
           ],
           "y": [
            null
           ]
          },
          {
           "customdata": [
            "2023-09-07 15:00:40",
            "2023-09-07 15:00:41",
            "2023-09-07 15:00:42",
            "2023-09-07 15:00:43",
            "2023-09-07 15:00:44",
            "2023-09-07 15:00:45",
            "2023-09-07 15:00:46",
            "2023-09-07 15:00:47",
            "2023-09-07 15:00:48",
            "2023-09-07 15:00:49",
            "2023-09-07 15:00:50",
            "2023-09-07 15:00:51",
            "2023-09-07 15:00:52",
            "2023-09-07 15:00:53",
            "2023-09-07 15:00:54",
            "2023-09-07 15:00:55"
           ],
           "hovertemplate": "%{meta}<br>(%{x}, %{y})<br>Time: %{customdata}",
           "meta": [
            "GaussianStateUpdate",
            "GaussianStateUpdate",
            "GaussianStateUpdate",
            "GaussianStateUpdate",
            "GaussianStateUpdate",
            "GaussianStatePrediction",
            "GaussianStateUpdate",
            "GaussianStateUpdate",
            "GaussianStateUpdate",
            "GaussianStateUpdate",
            "GaussianStatePrediction",
            "GaussianStateUpdate",
            "GaussianStateUpdate",
            "GaussianStateUpdate",
            "GaussianStateUpdate",
            "GaussianStateUpdate"
           ],
           "type": "scatter",
           "x": [
            -0.43005629247898636,
            1.5671309635627815,
            1.7248047174586882,
            1.8905500191617137,
            3.0266606144206634,
            3.7930024690710495,
            5.063871539095284,
            5.749814186180568,
            6.802874669121355,
            8.2129677138972,
            9.367732280484283,
            8.542618402693721,
            8.634368220211687,
            8.669701894529883,
            9.075003246000703,
            9.29501577604749,
            null
           ],
           "y": [
            41.49312990045806,
            41.3283166972261,
            40.69579995272057,
            40.74242157325732,
            39.9576780440993,
            39.494129937136556,
            39.60146342055227,
            40.16817369119637,
            40.313729365629904,
            40.905811622898376,
            41.23864331164184,
            41.162676656780185,
            42.24148057909349,
            43.0469437062278,
            43.453524571615226,
            45.10875518315963,
            null
           ]
          },
          {
           "customdata": [],
           "hovertemplate": "%{meta}<br>(%{x}, %{y})<br>Time: %{customdata}",
           "meta": [],
           "type": "scatter",
           "x": [
            null
           ],
           "y": [
            null
           ]
          },
          {
           "type": "scatter",
           "x": [
            null
           ],
           "y": [
            null
           ]
          },
          {
           "type": "scatter",
           "x": [
            null
           ],
           "y": [
            null
           ]
          },
          {
           "type": "scatter",
           "x": [
            9.29501577604749,
            9.376449434832812,
            9.454324051967166,
            9.52523613299791,
            9.58608647971008,
            9.634215639959994,
            9.667520138495401,
            9.684544408917585,
            9.684544408917585,
            9.667520138495401,
            9.634215639959994,
            9.58608647971008,
            9.52523613299791,
            9.454324051967166,
            9.376449434832812,
            9.29501577604749,
            9.213582117262169,
            9.135707500127815,
            9.064795419097072,
            9.003945072384901,
            8.955815912134987,
            8.92251141359958,
            8.905487143177396,
            8.905487143177396,
            8.92251141359958,
            8.955815912134987,
            9.003945072384901,
            9.064795419097072,
            9.135707500127815,
            9.213582117262169,
            null,
            null
           ],
           "y": [
            45.50042944863757,
            45.49187042620605,
            45.466567429262504,
            45.42562632019061,
            45.37083642191404,
            45.304592315898596,
            45.22978918745164,
            45.149696292231525,
            45.067814074087735,
            44.98772117886762,
            44.912918050420664,
            44.84667394440522,
            44.79188404612865,
            44.750942937056756,
            44.72563994011321,
            44.71708091768169,
            44.72563994011321,
            44.750942937056756,
            44.79188404612865,
            44.84667394440522,
            44.912918050420664,
            44.98772117886762,
            45.067814074087735,
            45.149696292231525,
            45.22978918745164,
            45.304592315898596,
            45.37083642191404,
            45.42562632019061,
            45.466567429262504,
            45.49187042620605,
            null,
            null
           ]
          },
          {
           "type": "scatter",
           "x": [
            null
           ],
           "y": [
            null
           ]
          }
         ],
         "name": "2023-09-07 15:00:55",
         "traces": [
          0,
          1,
          2,
          3,
          4,
          5,
          6,
          7,
          8,
          9,
          10,
          11,
          12,
          13,
          14,
          15
         ]
        },
        {
         "data": [
          {
           "type": "scatter",
           "x": [
            0,
            0
           ],
           "y": [
            0,
            0
           ]
          },
          {
           "hovertemplate": "GroundTruthState<br>(%{x}, %{y})<br>Time: %{meta}",
           "meta": [
            "2023-09-07 15:00:40",
            "2023-09-07 15:00:41",
            "2023-09-07 15:00:42",
            "2023-09-07 15:00:43",
            "2023-09-07 15:00:44",
            "2023-09-07 15:00:45",
            "2023-09-07 15:00:46",
            "2023-09-07 15:00:47",
            "2023-09-07 15:00:48",
            "2023-09-07 15:00:49",
            "2023-09-07 15:00:50",
            "2023-09-07 15:00:51",
            "2023-09-07 15:00:52",
            "2023-09-07 15:00:53",
            "2023-09-07 15:00:54",
            "2023-09-07 15:00:55",
            "2023-09-07 15:00:56"
           ],
           "type": "scatter",
           "x": [
            0,
            0.8091562802362998,
            1.4187778862009663,
            1.9340594175080428,
            2.7291599722274826,
            3.736499927988022,
            5.119411483348772,
            6.216732395332771,
            7.088723290570684,
            7.663354901814838,
            8.096722636252593,
            8.358906371025952,
            8.54822310121289,
            8.543882911480415,
            8.661018452611112,
            8.81413676771379,
            8.666475553311493,
            null
           ],
           "y": [
            41.55127793935055,
            41.14739075037148,
            40.71022742116085,
            40.33576258703677,
            40.11469426682165,
            40.0218978369037,
            40.11795936277245,
            40.23397761081491,
            40.45410408807201,
            40.66784873441858,
            41.10916580043645,
            41.59034958414012,
            42.15920554432621,
            42.83722041736732,
            43.80601257101235,
            44.72250861193358,
            45.55082005749288,
            null
           ]
          },
          {
           "hovertemplate": "GroundTruthState<br>(%{x}, %{y})<br>Time: %{meta}",
           "meta": [],
           "type": "scatter",
           "x": [
            null
           ],
           "y": [
            null
           ]
          },
          {
           "hovertemplate": "GroundTruthState<br>(%{x}, %{y})<br>Time: %{meta}",
           "meta": [],
           "type": "scatter",
           "x": [
            null
           ],
           "y": [
            null
           ]
          },
          {
           "hovertemplate": "GroundTruthState<br>(%{x}, %{y})<br>Time: %{meta}",
           "meta": [],
           "type": "scatter",
           "x": [
            null
           ],
           "y": [
            null
           ]
          },
          {
           "type": "scatter",
           "x": [
            null,
            null
           ],
           "y": [
            null,
            null
           ]
          },
          {
           "hovertemplate": "Detection<br>(%{x}, %{y})<br>Time: %{meta}",
           "meta": [
            "2023-09-07 15:00:40",
            "2023-09-07 15:00:41",
            "2023-09-07 15:00:42",
            "2023-09-07 15:00:43",
            "2023-09-07 15:00:44",
            "2023-09-07 15:00:46",
            "2023-09-07 15:00:47",
            "2023-09-07 15:00:48",
            "2023-09-07 15:00:49",
            "2023-09-07 15:00:50",
            "2023-09-07 15:00:51",
            "2023-09-07 15:00:52",
            "2023-09-07 15:00:53",
            "2023-09-07 15:00:54",
            "2023-09-07 15:00:55",
            "2023-09-07 15:00:56"
           ],
           "type": "scatter",
           "x": [
            -0.43005629247898636,
            1.9613126588341832,
            1.328760915097623,
            1.6486342541080825,
            3.391167130241921,
            5.198613247790583,
            5.5997844867706466,
            6.935456692747284,
            8.51160294626042,
            6.938136290313291,
            8.00171047550961,
            8.455481513912613,
            8.51568107852356,
            9.22411910733494,
            9.258594731151701,
            9.32950730831503,
            null
           ],
           "y": [
            41.49312990045806,
            41.29578777553558,
            40.56025765481257,
            40.943137598599904,
            39.64105359377544,
            39.7539260798625,
            40.62749687000739,
            40.351899248824374,
            41.209034178881836,
            41.088704044823054,
            41.05099188880684,
            42.74592512474356,
            43.20802778630997,
            43.2900108578128,
            45.8069560006637,
            45.87834412006734,
            null
           ]
          },
          {
           "hovertemplate": "Clutter<br>(%{x}, %{y})<br>Time: %{meta}",
           "meta": [
            "2023-09-07 15:00:40",
            "2023-09-07 15:00:41",
            "2023-09-07 15:00:41",
            "2023-09-07 15:00:41",
            "2023-09-07 15:00:43",
            "2023-09-07 15:00:45",
            "2023-09-07 15:00:45",
            "2023-09-07 15:00:47",
            "2023-09-07 15:00:47",
            "2023-09-07 15:00:47",
            "2023-09-07 15:00:47",
            "2023-09-07 15:00:47",
            "2023-09-07 15:00:49",
            "2023-09-07 15:00:51",
            "2023-09-07 15:00:54",
            "2023-09-07 15:00:56"
           ],
           "type": "scatter",
           "x": [
            0.2628629860147935,
            -5.947186089536171,
            7.511234499194794,
            1.2368016066430076,
            -3.9383022083791523,
            9.519502944212656,
            8.816880016344196,
            15.208121856273904,
            14.025710879284519,
            -2.1359261723065925,
            7.05768093084308,
            1.592790739428831,
            0.7285176578468473,
            12.242518424828313,
            3.6747835001110527,
            7.866884907505119,
            null
           ],
           "y": [
            45.565386681545874,
            45.05366061755791,
            46.35592175810034,
            32.05905379580751,
            47.28393730753255,
            31.456987364994728,
            34.167845538700334,
            41.39926162025145,
            30.523269059328186,
            39.91303043863957,
            48.67691635585126,
            36.21792645246228,
            49.91527833476793,
            47.603344842135236,
            45.81113548447709,
            36.913833208623586,
            null
           ]
          },
          {
           "type": "scatter",
           "x": [
            null,
            null
           ],
           "y": [
            null,
            null
           ]
          },
          {
           "customdata": [],
           "hovertemplate": "%{meta}<br>(%{x}, %{y})<br>Time: %{customdata}",
           "meta": [],
           "type": "scatter",
           "x": [
            null
           ],
           "y": [
            null
           ]
          },
          {
           "customdata": [
            "2023-09-07 15:00:40",
            "2023-09-07 15:00:41",
            "2023-09-07 15:00:42",
            "2023-09-07 15:00:43",
            "2023-09-07 15:00:44",
            "2023-09-07 15:00:45",
            "2023-09-07 15:00:46",
            "2023-09-07 15:00:47",
            "2023-09-07 15:00:48",
            "2023-09-07 15:00:49",
            "2023-09-07 15:00:50",
            "2023-09-07 15:00:51",
            "2023-09-07 15:00:52",
            "2023-09-07 15:00:53",
            "2023-09-07 15:00:54",
            "2023-09-07 15:00:55",
            "2023-09-07 15:00:56"
           ],
           "hovertemplate": "%{meta}<br>(%{x}, %{y})<br>Time: %{customdata}",
           "meta": [
            "GaussianStateUpdate",
            "GaussianStateUpdate",
            "GaussianStateUpdate",
            "GaussianStateUpdate",
            "GaussianStateUpdate",
            "GaussianStatePrediction",
            "GaussianStateUpdate",
            "GaussianStateUpdate",
            "GaussianStateUpdate",
            "GaussianStateUpdate",
            "GaussianStatePrediction",
            "GaussianStateUpdate",
            "GaussianStateUpdate",
            "GaussianStateUpdate",
            "GaussianStateUpdate",
            "GaussianStateUpdate",
            "GaussianStateUpdate"
           ],
           "type": "scatter",
           "x": [
            -0.43005629247898636,
            1.5671309635627815,
            1.7248047174586882,
            1.8905500191617137,
            3.0266606144206634,
            3.7930024690710495,
            5.063871539095284,
            5.749814186180568,
            6.802874669121355,
            8.2129677138972,
            9.367732280484283,
            8.542618402693721,
            8.634368220211687,
            8.669701894529883,
            9.075003246000703,
            9.29501577604749,
            9.413413937498195,
            null
           ],
           "y": [
            41.49312990045806,
            41.3283166972261,
            40.69579995272057,
            40.74242157325732,
            39.9576780440993,
            39.494129937136556,
            39.60146342055227,
            40.16817369119637,
            40.313729365629904,
            40.905811622898376,
            41.23864331164184,
            41.162676656780185,
            42.24148057909349,
            43.0469437062278,
            43.453524571615226,
            45.10875518315963,
            45.9885693493004,
            null
           ]
          },
          {
           "customdata": [],
           "hovertemplate": "%{meta}<br>(%{x}, %{y})<br>Time: %{customdata}",
           "meta": [],
           "type": "scatter",
           "x": [
            null
           ],
           "y": [
            null
           ]
          },
          {
           "type": "scatter",
           "x": [
            null
           ],
           "y": [
            null
           ]
          },
          {
           "type": "scatter",
           "x": [
            null
           ],
           "y": [
            null
           ]
          },
          {
           "type": "scatter",
           "x": [
            9.413413937498195,
            9.494810929135493,
            9.572650481652142,
            9.643530633087549,
            9.704353580703284,
            9.752461069827655,
            9.785750572340582,
            9.802767177241495,
            9.802767177241495,
            9.785750572340582,
            9.752461069827655,
            9.704353580703284,
            9.643530633087549,
            9.572650481652142,
            9.494810929135493,
            9.413413937498195,
            9.332016945860897,
            9.254177393344248,
            9.183297241908841,
            9.122474294293106,
            9.074366805168735,
            9.041077302655808,
            9.024060697754894,
            9.024060697754894,
            9.041077302655808,
            9.074366805168735,
            9.122474294293106,
            9.183297241908841,
            9.254177393344248,
            9.332016945860895,
            null,
            null
           ],
           "y": [
            46.38006725553716,
            46.3715120869782,
            46.34622048321959,
            46.305297808708154,
            46.250532580688834,
            46.18431830241878,
            46.10954885558977,
            46.029492023811834,
            45.94764667478896,
            45.867589843011025,
            45.792820396182016,
            45.72660611791196,
            45.67184088989264,
            45.63091821538121,
            45.6056266116226,
            45.59707144306363,
            45.6056266116226,
            45.63091821538121,
            45.67184088989264,
            45.72660611791196,
            45.792820396182016,
            45.867589843011025,
            45.94764667478896,
            46.029492023811834,
            46.10954885558977,
            46.18431830241878,
            46.250532580688834,
            46.305297808708154,
            46.34622048321959,
            46.3715120869782,
            null,
            null
           ]
          },
          {
           "type": "scatter",
           "x": [
            null
           ],
           "y": [
            null
           ]
          }
         ],
         "name": "2023-09-07 15:00:56",
         "traces": [
          0,
          1,
          2,
          3,
          4,
          5,
          6,
          7,
          8,
          9,
          10,
          11,
          12,
          13,
          14,
          15
         ]
        },
        {
         "data": [
          {
           "type": "scatter",
           "x": [
            0,
            0
           ],
           "y": [
            0,
            0
           ]
          },
          {
           "hovertemplate": "GroundTruthState<br>(%{x}, %{y})<br>Time: %{meta}",
           "meta": [
            "2023-09-07 15:00:40",
            "2023-09-07 15:00:41",
            "2023-09-07 15:00:42",
            "2023-09-07 15:00:43",
            "2023-09-07 15:00:44",
            "2023-09-07 15:00:45",
            "2023-09-07 15:00:46",
            "2023-09-07 15:00:47",
            "2023-09-07 15:00:48",
            "2023-09-07 15:00:49",
            "2023-09-07 15:00:50",
            "2023-09-07 15:00:51",
            "2023-09-07 15:00:52",
            "2023-09-07 15:00:53",
            "2023-09-07 15:00:54",
            "2023-09-07 15:00:55",
            "2023-09-07 15:00:56",
            "2023-09-07 15:00:57"
           ],
           "type": "scatter",
           "x": [
            0,
            0.8091562802362998,
            1.4187778862009663,
            1.9340594175080428,
            2.7291599722274826,
            3.736499927988022,
            5.119411483348772,
            6.216732395332771,
            7.088723290570684,
            7.663354901814838,
            8.096722636252593,
            8.358906371025952,
            8.54822310121289,
            8.543882911480415,
            8.661018452611112,
            8.81413676771379,
            8.666475553311493,
            8.457114429626253,
            null
           ],
           "y": [
            41.55127793935055,
            41.14739075037148,
            40.71022742116085,
            40.33576258703677,
            40.11469426682165,
            40.0218978369037,
            40.11795936277245,
            40.23397761081491,
            40.45410408807201,
            40.66784873441858,
            41.10916580043645,
            41.59034958414012,
            42.15920554432621,
            42.83722041736732,
            43.80601257101235,
            44.72250861193358,
            45.55082005749288,
            46.478942183204815,
            null
           ]
          },
          {
           "hovertemplate": "GroundTruthState<br>(%{x}, %{y})<br>Time: %{meta}",
           "meta": [],
           "type": "scatter",
           "x": [
            null
           ],
           "y": [
            null
           ]
          },
          {
           "hovertemplate": "GroundTruthState<br>(%{x}, %{y})<br>Time: %{meta}",
           "meta": [],
           "type": "scatter",
           "x": [
            null
           ],
           "y": [
            null
           ]
          },
          {
           "hovertemplate": "GroundTruthState<br>(%{x}, %{y})<br>Time: %{meta}",
           "meta": [],
           "type": "scatter",
           "x": [
            null
           ],
           "y": [
            null
           ]
          },
          {
           "type": "scatter",
           "x": [
            null,
            null
           ],
           "y": [
            null,
            null
           ]
          },
          {
           "hovertemplate": "Detection<br>(%{x}, %{y})<br>Time: %{meta}",
           "meta": [
            "2023-09-07 15:00:40",
            "2023-09-07 15:00:41",
            "2023-09-07 15:00:42",
            "2023-09-07 15:00:43",
            "2023-09-07 15:00:44",
            "2023-09-07 15:00:46",
            "2023-09-07 15:00:47",
            "2023-09-07 15:00:48",
            "2023-09-07 15:00:49",
            "2023-09-07 15:00:50",
            "2023-09-07 15:00:51",
            "2023-09-07 15:00:52",
            "2023-09-07 15:00:53",
            "2023-09-07 15:00:54",
            "2023-09-07 15:00:55",
            "2023-09-07 15:00:56",
            "2023-09-07 15:00:57"
           ],
           "type": "scatter",
           "x": [
            -0.43005629247898636,
            1.9613126588341832,
            1.328760915097623,
            1.6486342541080825,
            3.391167130241921,
            5.198613247790583,
            5.5997844867706466,
            6.935456692747284,
            8.51160294626042,
            6.938136290313291,
            8.00171047550961,
            8.455481513912613,
            8.51568107852356,
            9.22411910733494,
            9.258594731151701,
            9.32950730831503,
            7.804987863094423,
            null
           ],
           "y": [
            41.49312990045806,
            41.29578777553558,
            40.56025765481257,
            40.943137598599904,
            39.64105359377544,
            39.7539260798625,
            40.62749687000739,
            40.351899248824374,
            41.209034178881836,
            41.088704044823054,
            41.05099188880684,
            42.74592512474356,
            43.20802778630997,
            43.2900108578128,
            45.8069560006637,
            45.87834412006734,
            45.455700324445665,
            null
           ]
          },
          {
           "hovertemplate": "Clutter<br>(%{x}, %{y})<br>Time: %{meta}",
           "meta": [
            "2023-09-07 15:00:40",
            "2023-09-07 15:00:41",
            "2023-09-07 15:00:41",
            "2023-09-07 15:00:41",
            "2023-09-07 15:00:43",
            "2023-09-07 15:00:45",
            "2023-09-07 15:00:45",
            "2023-09-07 15:00:47",
            "2023-09-07 15:00:47",
            "2023-09-07 15:00:47",
            "2023-09-07 15:00:47",
            "2023-09-07 15:00:47",
            "2023-09-07 15:00:49",
            "2023-09-07 15:00:51",
            "2023-09-07 15:00:54",
            "2023-09-07 15:00:56",
            "2023-09-07 15:00:57",
            "2023-09-07 15:00:57"
           ],
           "type": "scatter",
           "x": [
            0.2628629860147935,
            -5.947186089536171,
            7.511234499194794,
            1.2368016066430076,
            -3.9383022083791523,
            9.519502944212656,
            8.816880016344196,
            15.208121856273904,
            14.025710879284519,
            -2.1359261723065925,
            7.05768093084308,
            1.592790739428831,
            0.7285176578468473,
            12.242518424828313,
            3.6747835001110527,
            7.866884907505119,
            12.411475162781779,
            12.833029096254522,
            null
           ],
           "y": [
            45.565386681545874,
            45.05366061755791,
            46.35592175810034,
            32.05905379580751,
            47.28393730753255,
            31.456987364994728,
            34.167845538700334,
            41.39926162025145,
            30.523269059328186,
            39.91303043863957,
            48.67691635585126,
            36.21792645246228,
            49.91527833476793,
            47.603344842135236,
            45.81113548447709,
            36.913833208623586,
            42.07983225975437,
            37.580041204503345,
            null
           ]
          },
          {
           "type": "scatter",
           "x": [
            null,
            null
           ],
           "y": [
            null,
            null
           ]
          },
          {
           "customdata": [],
           "hovertemplate": "%{meta}<br>(%{x}, %{y})<br>Time: %{customdata}",
           "meta": [],
           "type": "scatter",
           "x": [
            null
           ],
           "y": [
            null
           ]
          },
          {
           "customdata": [
            "2023-09-07 15:00:40",
            "2023-09-07 15:00:41",
            "2023-09-07 15:00:42",
            "2023-09-07 15:00:43",
            "2023-09-07 15:00:44",
            "2023-09-07 15:00:45",
            "2023-09-07 15:00:46",
            "2023-09-07 15:00:47",
            "2023-09-07 15:00:48",
            "2023-09-07 15:00:49",
            "2023-09-07 15:00:50",
            "2023-09-07 15:00:51",
            "2023-09-07 15:00:52",
            "2023-09-07 15:00:53",
            "2023-09-07 15:00:54",
            "2023-09-07 15:00:55",
            "2023-09-07 15:00:56",
            "2023-09-07 15:00:57"
           ],
           "hovertemplate": "%{meta}<br>(%{x}, %{y})<br>Time: %{customdata}",
           "meta": [
            "GaussianStateUpdate",
            "GaussianStateUpdate",
            "GaussianStateUpdate",
            "GaussianStateUpdate",
            "GaussianStateUpdate",
            "GaussianStatePrediction",
            "GaussianStateUpdate",
            "GaussianStateUpdate",
            "GaussianStateUpdate",
            "GaussianStateUpdate",
            "GaussianStatePrediction",
            "GaussianStateUpdate",
            "GaussianStateUpdate",
            "GaussianStateUpdate",
            "GaussianStateUpdate",
            "GaussianStateUpdate",
            "GaussianStateUpdate",
            "GaussianStateUpdate"
           ],
           "type": "scatter",
           "x": [
            -0.43005629247898636,
            1.5671309635627815,
            1.7248047174586882,
            1.8905500191617137,
            3.0266606144206634,
            3.7930024690710495,
            5.063871539095284,
            5.749814186180568,
            6.802874669121355,
            8.2129677138972,
            9.367732280484283,
            8.542618402693721,
            8.634368220211687,
            8.669701894529883,
            9.075003246000703,
            9.29501577604749,
            9.413413937498195,
            8.502632005862981,
            null
           ],
           "y": [
            41.49312990045806,
            41.3283166972261,
            40.69579995272057,
            40.74242157325732,
            39.9576780440993,
            39.494129937136556,
            39.60146342055227,
            40.16817369119637,
            40.313729365629904,
            40.905811622898376,
            41.23864331164184,
            41.162676656780185,
            42.24148057909349,
            43.0469437062278,
            43.453524571615226,
            45.10875518315963,
            45.9885693493004,
            46.04032141953401,
            null
           ]
          },
          {
           "customdata": [],
           "hovertemplate": "%{meta}<br>(%{x}, %{y})<br>Time: %{customdata}",
           "meta": [],
           "type": "scatter",
           "x": [
            null
           ],
           "y": [
            null
           ]
          },
          {
           "type": "scatter",
           "x": [
            null
           ],
           "y": [
            null
           ]
          },
          {
           "type": "scatter",
           "x": [
            null
           ],
           "y": [
            null
           ]
          },
          {
           "type": "scatter",
           "x": [
            8.502632005862981,
            8.583972256721214,
            8.661757548303116,
            8.732588290111313,
            8.793368838845181,
            8.841442792867616,
            8.874709089703414,
            8.891713832551448,
            8.891713832551448,
            8.874709089703414,
            8.841442792867616,
            8.793368838845181,
            8.732588290111313,
            8.661757548303116,
            8.583972256721216,
            8.502632005862981,
            8.421291755004749,
            8.343506463422848,
            8.27267572161465,
            8.211895172880782,
            8.163821218858347,
            8.130554922022549,
            8.113550179174515,
            8.113550179174515,
            8.130554922022549,
            8.163821218858347,
            8.211895172880782,
            8.27267572161465,
            8.343506463422846,
            8.421291755004747,
            null,
            null
           ],
           "y": [
            46.43154641769696,
            46.42299721283419,
            46.39772323952201,
            46.35682909167215,
            46.30210203977753,
            46.23593391861549,
            46.16121659259067,
            46.08121556738387,
            45.99942727168415,
            45.91942624647735,
            45.84470892045253,
            45.77854079929049,
            45.72381374739587,
            45.68291959954601,
            45.65764562623383,
            45.64909642137106,
            45.65764562623383,
            45.68291959954601,
            45.72381374739587,
            45.77854079929049,
            45.84470892045253,
            45.91942624647735,
            45.99942727168415,
            46.08121556738387,
            46.16121659259067,
            46.23593391861549,
            46.30210203977753,
            46.35682909167215,
            46.39772323952201,
            46.42299721283419,
            null,
            null
           ]
          },
          {
           "type": "scatter",
           "x": [
            null
           ],
           "y": [
            null
           ]
          }
         ],
         "name": "2023-09-07 15:00:57",
         "traces": [
          0,
          1,
          2,
          3,
          4,
          5,
          6,
          7,
          8,
          9,
          10,
          11,
          12,
          13,
          14,
          15
         ]
        },
        {
         "data": [
          {
           "type": "scatter",
           "x": [
            0,
            0
           ],
           "y": [
            0,
            0
           ]
          },
          {
           "hovertemplate": "GroundTruthState<br>(%{x}, %{y})<br>Time: %{meta}",
           "meta": [
            "2023-09-07 15:00:40",
            "2023-09-07 15:00:41",
            "2023-09-07 15:00:42",
            "2023-09-07 15:00:43",
            "2023-09-07 15:00:44",
            "2023-09-07 15:00:45",
            "2023-09-07 15:00:46",
            "2023-09-07 15:00:47",
            "2023-09-07 15:00:48",
            "2023-09-07 15:00:49",
            "2023-09-07 15:00:50",
            "2023-09-07 15:00:51",
            "2023-09-07 15:00:52",
            "2023-09-07 15:00:53",
            "2023-09-07 15:00:54",
            "2023-09-07 15:00:55",
            "2023-09-07 15:00:56",
            "2023-09-07 15:00:57",
            "2023-09-07 15:00:58"
           ],
           "type": "scatter",
           "x": [
            0,
            0.8091562802362998,
            1.4187778862009663,
            1.9340594175080428,
            2.7291599722274826,
            3.736499927988022,
            5.119411483348772,
            6.216732395332771,
            7.088723290570684,
            7.663354901814838,
            8.096722636252593,
            8.358906371025952,
            8.54822310121289,
            8.543882911480415,
            8.661018452611112,
            8.81413676771379,
            8.666475553311493,
            8.457114429626253,
            8.378969059200568,
            null
           ],
           "y": [
            41.55127793935055,
            41.14739075037148,
            40.71022742116085,
            40.33576258703677,
            40.11469426682165,
            40.0218978369037,
            40.11795936277245,
            40.23397761081491,
            40.45410408807201,
            40.66784873441858,
            41.10916580043645,
            41.59034958414012,
            42.15920554432621,
            42.83722041736732,
            43.80601257101235,
            44.72250861193358,
            45.55082005749288,
            46.478942183204815,
            47.23049024720247,
            null
           ]
          },
          {
           "hovertemplate": "GroundTruthState<br>(%{x}, %{y})<br>Time: %{meta}",
           "meta": [
            "2023-09-07 15:00:58"
           ],
           "type": "scatter",
           "x": [
            24.40294393298363,
            null
           ],
           "y": [
            50,
            null
           ]
          },
          {
           "hovertemplate": "GroundTruthState<br>(%{x}, %{y})<br>Time: %{meta}",
           "meta": [],
           "type": "scatter",
           "x": [
            null
           ],
           "y": [
            null
           ]
          },
          {
           "hovertemplate": "GroundTruthState<br>(%{x}, %{y})<br>Time: %{meta}",
           "meta": [],
           "type": "scatter",
           "x": [
            null
           ],
           "y": [
            null
           ]
          },
          {
           "type": "scatter",
           "x": [
            null,
            null
           ],
           "y": [
            null,
            null
           ]
          },
          {
           "hovertemplate": "Detection<br>(%{x}, %{y})<br>Time: %{meta}",
           "meta": [
            "2023-09-07 15:00:40",
            "2023-09-07 15:00:41",
            "2023-09-07 15:00:42",
            "2023-09-07 15:00:43",
            "2023-09-07 15:00:44",
            "2023-09-07 15:00:46",
            "2023-09-07 15:00:47",
            "2023-09-07 15:00:48",
            "2023-09-07 15:00:49",
            "2023-09-07 15:00:50",
            "2023-09-07 15:00:51",
            "2023-09-07 15:00:52",
            "2023-09-07 15:00:53",
            "2023-09-07 15:00:54",
            "2023-09-07 15:00:55",
            "2023-09-07 15:00:56",
            "2023-09-07 15:00:57",
            "2023-09-07 15:00:58",
            "2023-09-07 15:00:58"
           ],
           "type": "scatter",
           "x": [
            -0.43005629247898636,
            1.9613126588341832,
            1.328760915097623,
            1.6486342541080825,
            3.391167130241921,
            5.198613247790583,
            5.5997844867706466,
            6.935456692747284,
            8.51160294626042,
            6.938136290313291,
            8.00171047550961,
            8.455481513912613,
            8.51568107852356,
            9.22411910733494,
            9.258594731151701,
            9.32950730831503,
            7.804987863094423,
            24.581047874774246,
            7.832277013086065,
            null
           ],
           "y": [
            41.49312990045806,
            41.29578777553558,
            40.56025765481257,
            40.943137598599904,
            39.64105359377544,
            39.7539260798625,
            40.62749687000739,
            40.351899248824374,
            41.209034178881836,
            41.088704044823054,
            41.05099188880684,
            42.74592512474356,
            43.20802778630997,
            43.2900108578128,
            45.8069560006637,
            45.87834412006734,
            45.455700324445665,
            49.781697352014895,
            47.498742904408566,
            null
           ]
          },
          {
           "hovertemplate": "Clutter<br>(%{x}, %{y})<br>Time: %{meta}",
           "meta": [
            "2023-09-07 15:00:40",
            "2023-09-07 15:00:41",
            "2023-09-07 15:00:41",
            "2023-09-07 15:00:41",
            "2023-09-07 15:00:43",
            "2023-09-07 15:00:45",
            "2023-09-07 15:00:45",
            "2023-09-07 15:00:47",
            "2023-09-07 15:00:47",
            "2023-09-07 15:00:47",
            "2023-09-07 15:00:47",
            "2023-09-07 15:00:47",
            "2023-09-07 15:00:49",
            "2023-09-07 15:00:51",
            "2023-09-07 15:00:54",
            "2023-09-07 15:00:56",
            "2023-09-07 15:00:57",
            "2023-09-07 15:00:57",
            "2023-09-07 15:00:58",
            "2023-09-07 15:00:58",
            "2023-09-07 15:00:58"
           ],
           "type": "scatter",
           "x": [
            0.2628629860147935,
            -5.947186089536171,
            7.511234499194794,
            1.2368016066430076,
            -3.9383022083791523,
            9.519502944212656,
            8.816880016344196,
            15.208121856273904,
            14.025710879284519,
            -2.1359261723065925,
            7.05768093084308,
            1.592790739428831,
            0.7285176578468473,
            12.242518424828313,
            3.6747835001110527,
            7.866884907505119,
            12.411475162781779,
            12.833029096254522,
            8.261923541005068,
            5.0831273653651925,
            26.930871334830616,
            null
           ],
           "y": [
            45.565386681545874,
            45.05366061755791,
            46.35592175810034,
            32.05905379580751,
            47.28393730753255,
            31.456987364994728,
            34.167845538700334,
            41.39926162025145,
            30.523269059328186,
            39.91303043863957,
            48.67691635585126,
            36.21792645246228,
            49.91527833476793,
            47.603344842135236,
            45.81113548447709,
            36.913833208623586,
            42.07983225975437,
            37.580041204503345,
            51.51203885361398,
            38.77727204839494,
            50.26474359709672,
            null
           ]
          },
          {
           "type": "scatter",
           "x": [
            null,
            null
           ],
           "y": [
            null,
            null
           ]
          },
          {
           "customdata": [],
           "hovertemplate": "%{meta}<br>(%{x}, %{y})<br>Time: %{customdata}",
           "meta": [],
           "type": "scatter",
           "x": [
            null
           ],
           "y": [
            null
           ]
          },
          {
           "customdata": [
            "2023-09-07 15:00:40",
            "2023-09-07 15:00:41",
            "2023-09-07 15:00:42",
            "2023-09-07 15:00:43",
            "2023-09-07 15:00:44",
            "2023-09-07 15:00:45",
            "2023-09-07 15:00:46",
            "2023-09-07 15:00:47",
            "2023-09-07 15:00:48",
            "2023-09-07 15:00:49",
            "2023-09-07 15:00:50",
            "2023-09-07 15:00:51",
            "2023-09-07 15:00:52",
            "2023-09-07 15:00:53",
            "2023-09-07 15:00:54",
            "2023-09-07 15:00:55",
            "2023-09-07 15:00:56",
            "2023-09-07 15:00:57",
            "2023-09-07 15:00:58"
           ],
           "hovertemplate": "%{meta}<br>(%{x}, %{y})<br>Time: %{customdata}",
           "meta": [
            "GaussianStateUpdate",
            "GaussianStateUpdate",
            "GaussianStateUpdate",
            "GaussianStateUpdate",
            "GaussianStateUpdate",
            "GaussianStatePrediction",
            "GaussianStateUpdate",
            "GaussianStateUpdate",
            "GaussianStateUpdate",
            "GaussianStateUpdate",
            "GaussianStatePrediction",
            "GaussianStateUpdate",
            "GaussianStateUpdate",
            "GaussianStateUpdate",
            "GaussianStateUpdate",
            "GaussianStateUpdate",
            "GaussianStateUpdate",
            "GaussianStateUpdate",
            "GaussianStateUpdate"
           ],
           "type": "scatter",
           "x": [
            -0.43005629247898636,
            1.5671309635627815,
            1.7248047174586882,
            1.8905500191617137,
            3.0266606144206634,
            3.7930024690710495,
            5.063871539095284,
            5.749814186180568,
            6.802874669121355,
            8.2129677138972,
            9.367732280484283,
            8.542618402693721,
            8.634368220211687,
            8.669701894529883,
            9.075003246000703,
            9.29501577604749,
            9.413413937498195,
            8.502632005862981,
            7.971735342146178,
            null
           ],
           "y": [
            41.49312990045806,
            41.3283166972261,
            40.69579995272057,
            40.74242157325732,
            39.9576780440993,
            39.494129937136556,
            39.60146342055227,
            40.16817369119637,
            40.313729365629904,
            40.905811622898376,
            41.23864331164184,
            41.162676656780185,
            42.24148057909349,
            43.0469437062278,
            43.453524571615226,
            45.10875518315963,
            45.9885693493004,
            46.04032141953401,
            47.147697787822864,
            null
           ]
          },
          {
           "customdata": [],
           "hovertemplate": "%{meta}<br>(%{x}, %{y})<br>Time: %{customdata}",
           "meta": [],
           "type": "scatter",
           "x": [
            null
           ],
           "y": [
            null
           ]
          },
          {
           "type": "scatter",
           "x": [
            null
           ],
           "y": [
            null
           ]
          },
          {
           "type": "scatter",
           "x": [
            null
           ],
           "y": [
            null
           ]
          },
          {
           "type": "scatter",
           "x": [
            7.971735342146178,
            8.053044165849894,
            8.130799403794732,
            8.201602778971479,
            8.262359844132618,
            8.310415223985864,
            8.343668667836333,
            8.360666840620034,
            8.360666840620034,
            8.343668667836333,
            8.310415223985864,
            8.262359844132618,
            8.201602778971479,
            8.130799403794732,
            8.053044165849894,
            7.971735342146178,
            7.890426518442462,
            7.812671280497623,
            7.741867905320877,
            7.681110840159738,
            7.633055460306492,
            7.599802016456023,
            7.582803843672322,
            7.582803843672322,
            7.599802016456022,
            7.633055460306491,
            7.681110840159738,
            7.741867905320877,
            7.812671280497623,
            7.890426518442462,
            null,
            null
           ],
           "y": [
            47.53877162972137,
            47.53022572798564,
            47.50496151969209,
            47.46408317197426,
            47.4093772647835,
            47.343234708772115,
            47.268546251025,
            47.18857613554069,
            47.106819440105035,
            47.02684932462073,
            46.95216086687361,
            46.88601831086223,
            46.83131240367147,
            46.79043405595364,
            46.76516984766009,
            46.75662394592436,
            46.76516984766009,
            46.79043405595364,
            46.83131240367147,
            46.88601831086223,
            46.95216086687361,
            47.02684932462073,
            47.106819440105035,
            47.18857613554069,
            47.268546251025,
            47.343234708772115,
            47.4093772647835,
            47.46408317197426,
            47.50496151969209,
            47.53022572798564,
            null,
            null
           ]
          },
          {
           "type": "scatter",
           "x": [
            null
           ],
           "y": [
            null
           ]
          }
         ],
         "name": "2023-09-07 15:00:58",
         "traces": [
          0,
          1,
          2,
          3,
          4,
          5,
          6,
          7,
          8,
          9,
          10,
          11,
          12,
          13,
          14,
          15
         ]
        },
        {
         "data": [
          {
           "type": "scatter",
           "x": [
            0,
            0
           ],
           "y": [
            0,
            0
           ]
          },
          {
           "hovertemplate": "GroundTruthState<br>(%{x}, %{y})<br>Time: %{meta}",
           "meta": [
            "2023-09-07 15:00:40",
            "2023-09-07 15:00:41",
            "2023-09-07 15:00:42",
            "2023-09-07 15:00:43",
            "2023-09-07 15:00:44",
            "2023-09-07 15:00:45",
            "2023-09-07 15:00:46",
            "2023-09-07 15:00:47",
            "2023-09-07 15:00:48",
            "2023-09-07 15:00:49",
            "2023-09-07 15:00:50",
            "2023-09-07 15:00:51",
            "2023-09-07 15:00:52",
            "2023-09-07 15:00:53",
            "2023-09-07 15:00:54",
            "2023-09-07 15:00:55",
            "2023-09-07 15:00:56",
            "2023-09-07 15:00:57",
            "2023-09-07 15:00:58",
            "2023-09-07 15:00:59"
           ],
           "type": "scatter",
           "x": [
            0,
            0.8091562802362998,
            1.4187778862009663,
            1.9340594175080428,
            2.7291599722274826,
            3.736499927988022,
            5.119411483348772,
            6.216732395332771,
            7.088723290570684,
            7.663354901814838,
            8.096722636252593,
            8.358906371025952,
            8.54822310121289,
            8.543882911480415,
            8.661018452611112,
            8.81413676771379,
            8.666475553311493,
            8.457114429626253,
            8.378969059200568,
            8.506472261414322,
            null
           ],
           "y": [
            41.55127793935055,
            41.14739075037148,
            40.71022742116085,
            40.33576258703677,
            40.11469426682165,
            40.0218978369037,
            40.11795936277245,
            40.23397761081491,
            40.45410408807201,
            40.66784873441858,
            41.10916580043645,
            41.59034958414012,
            42.15920554432621,
            42.83722041736732,
            43.80601257101235,
            44.72250861193358,
            45.55082005749288,
            46.478942183204815,
            47.23049024720247,
            48.1829097420305,
            null
           ]
          },
          {
           "hovertemplate": "GroundTruthState<br>(%{x}, %{y})<br>Time: %{meta}",
           "meta": [
            "2023-09-07 15:00:58",
            "2023-09-07 15:00:59"
           ],
           "type": "scatter",
           "x": [
            24.40294393298363,
            24.37101772209079,
            null
           ],
           "y": [
            50,
            48.92607580828807,
            null
           ]
          },
          {
           "hovertemplate": "GroundTruthState<br>(%{x}, %{y})<br>Time: %{meta}",
           "meta": [
            "2023-09-07 15:00:59"
           ],
           "type": "scatter",
           "x": [
            34.9497917032631,
            null
           ],
           "y": [
            50,
            null
           ]
          },
          {
           "hovertemplate": "GroundTruthState<br>(%{x}, %{y})<br>Time: %{meta}",
           "meta": [],
           "type": "scatter",
           "x": [
            null
           ],
           "y": [
            null
           ]
          },
          {
           "type": "scatter",
           "x": [
            null,
            null
           ],
           "y": [
            null,
            null
           ]
          },
          {
           "hovertemplate": "Detection<br>(%{x}, %{y})<br>Time: %{meta}",
           "meta": [
            "2023-09-07 15:00:40",
            "2023-09-07 15:00:41",
            "2023-09-07 15:00:42",
            "2023-09-07 15:00:43",
            "2023-09-07 15:00:44",
            "2023-09-07 15:00:46",
            "2023-09-07 15:00:47",
            "2023-09-07 15:00:48",
            "2023-09-07 15:00:49",
            "2023-09-07 15:00:50",
            "2023-09-07 15:00:51",
            "2023-09-07 15:00:52",
            "2023-09-07 15:00:53",
            "2023-09-07 15:00:54",
            "2023-09-07 15:00:55",
            "2023-09-07 15:00:56",
            "2023-09-07 15:00:57",
            "2023-09-07 15:00:58",
            "2023-09-07 15:00:58",
            "2023-09-07 15:00:59",
            "2023-09-07 15:00:59",
            "2023-09-07 15:00:59"
           ],
           "type": "scatter",
           "x": [
            -0.43005629247898636,
            1.9613126588341832,
            1.328760915097623,
            1.6486342541080825,
            3.391167130241921,
            5.198613247790583,
            5.5997844867706466,
            6.935456692747284,
            8.51160294626042,
            6.938136290313291,
            8.00171047550961,
            8.455481513912613,
            8.51568107852356,
            9.22411910733494,
            9.258594731151701,
            9.32950730831503,
            7.804987863094423,
            24.581047874774246,
            7.832277013086065,
            34.62154345599989,
            7.937505079616018,
            24.155956069792705,
            null
           ],
           "y": [
            41.49312990045806,
            41.29578777553558,
            40.56025765481257,
            40.943137598599904,
            39.64105359377544,
            39.7539260798625,
            40.62749687000739,
            40.351899248824374,
            41.209034178881836,
            41.088704044823054,
            41.05099188880684,
            42.74592512474356,
            43.20802778630997,
            43.2900108578128,
            45.8069560006637,
            45.87834412006734,
            45.455700324445665,
            49.781697352014895,
            47.498742904408566,
            50.04974583545324,
            48.40541225977234,
            49.01136420875983,
            null
           ]
          },
          {
           "hovertemplate": "Clutter<br>(%{x}, %{y})<br>Time: %{meta}",
           "meta": [
            "2023-09-07 15:00:40",
            "2023-09-07 15:00:41",
            "2023-09-07 15:00:41",
            "2023-09-07 15:00:41",
            "2023-09-07 15:00:43",
            "2023-09-07 15:00:45",
            "2023-09-07 15:00:45",
            "2023-09-07 15:00:47",
            "2023-09-07 15:00:47",
            "2023-09-07 15:00:47",
            "2023-09-07 15:00:47",
            "2023-09-07 15:00:47",
            "2023-09-07 15:00:49",
            "2023-09-07 15:00:51",
            "2023-09-07 15:00:54",
            "2023-09-07 15:00:56",
            "2023-09-07 15:00:57",
            "2023-09-07 15:00:57",
            "2023-09-07 15:00:58",
            "2023-09-07 15:00:58",
            "2023-09-07 15:00:58",
            "2023-09-07 15:00:59",
            "2023-09-07 15:00:59",
            "2023-09-07 15:00:59",
            "2023-09-07 15:00:59",
            "2023-09-07 15:00:59"
           ],
           "type": "scatter",
           "x": [
            0.2628629860147935,
            -5.947186089536171,
            7.511234499194794,
            1.2368016066430076,
            -3.9383022083791523,
            9.519502944212656,
            8.816880016344196,
            15.208121856273904,
            14.025710879284519,
            -2.1359261723065925,
            7.05768093084308,
            1.592790739428831,
            0.7285176578468473,
            12.242518424828313,
            3.6747835001110527,
            7.866884907505119,
            12.411475162781779,
            12.833029096254522,
            8.261923541005068,
            5.0831273653651925,
            26.930871334830616,
            27.039745244561278,
            25.019860088518154,
            39.455693446687164,
            27.321535352904682,
            30.31780651486834,
            null
           ],
           "y": [
            45.565386681545874,
            45.05366061755791,
            46.35592175810034,
            32.05905379580751,
            47.28393730753255,
            31.456987364994728,
            34.167845538700334,
            41.39926162025145,
            30.523269059328186,
            39.91303043863957,
            48.67691635585126,
            36.21792645246228,
            49.91527833476793,
            47.603344842135236,
            45.81113548447709,
            36.913833208623586,
            42.07983225975437,
            37.580041204503345,
            51.51203885361398,
            38.77727204839494,
            50.26474359709672,
            46.83275159513233,
            44.2215730834841,
            42.928967070680564,
            39.18334456447075,
            41.74815349965422,
            null
           ]
          },
          {
           "type": "scatter",
           "x": [
            null,
            null
           ],
           "y": [
            null,
            null
           ]
          },
          {
           "customdata": [],
           "hovertemplate": "%{meta}<br>(%{x}, %{y})<br>Time: %{customdata}",
           "meta": [],
           "type": "scatter",
           "x": [
            null
           ],
           "y": [
            null
           ]
          },
          {
           "customdata": [
            "2023-09-07 15:00:40",
            "2023-09-07 15:00:41",
            "2023-09-07 15:00:42",
            "2023-09-07 15:00:43",
            "2023-09-07 15:00:44",
            "2023-09-07 15:00:45",
            "2023-09-07 15:00:46",
            "2023-09-07 15:00:47",
            "2023-09-07 15:00:48",
            "2023-09-07 15:00:49",
            "2023-09-07 15:00:50",
            "2023-09-07 15:00:51",
            "2023-09-07 15:00:52",
            "2023-09-07 15:00:53",
            "2023-09-07 15:00:54",
            "2023-09-07 15:00:55",
            "2023-09-07 15:00:56",
            "2023-09-07 15:00:57",
            "2023-09-07 15:00:58",
            "2023-09-07 15:00:59"
           ],
           "hovertemplate": "%{meta}<br>(%{x}, %{y})<br>Time: %{customdata}",
           "meta": [
            "GaussianStateUpdate",
            "GaussianStateUpdate",
            "GaussianStateUpdate",
            "GaussianStateUpdate",
            "GaussianStateUpdate",
            "GaussianStatePrediction",
            "GaussianStateUpdate",
            "GaussianStateUpdate",
            "GaussianStateUpdate",
            "GaussianStateUpdate",
            "GaussianStatePrediction",
            "GaussianStateUpdate",
            "GaussianStateUpdate",
            "GaussianStateUpdate",
            "GaussianStateUpdate",
            "GaussianStateUpdate",
            "GaussianStateUpdate",
            "GaussianStateUpdate",
            "GaussianStateUpdate",
            "GaussianStateUpdate"
           ],
           "type": "scatter",
           "x": [
            -0.43005629247898636,
            1.5671309635627815,
            1.7248047174586882,
            1.8905500191617137,
            3.0266606144206634,
            3.7930024690710495,
            5.063871539095284,
            5.749814186180568,
            6.802874669121355,
            8.2129677138972,
            9.367732280484283,
            8.542618402693721,
            8.634368220211687,
            8.669701894529883,
            9.075003246000703,
            9.29501577604749,
            9.413413937498195,
            8.502632005862981,
            7.971735342146178,
            7.79106608746795,
            null
           ],
           "y": [
            41.49312990045806,
            41.3283166972261,
            40.69579995272057,
            40.74242157325732,
            39.9576780440993,
            39.494129937136556,
            39.60146342055227,
            40.16817369119637,
            40.313729365629904,
            40.905811622898376,
            41.23864331164184,
            41.162676656780185,
            42.24148057909349,
            43.0469437062278,
            43.453524571615226,
            45.10875518315963,
            45.9885693493004,
            46.04032141953401,
            47.147697787822864,
            48.23006081378942,
            null
           ]
          },
          {
           "customdata": [
            "2023-09-07 15:00:59"
           ],
           "hovertemplate": "%{meta}<br>(%{x}, %{y})<br>Time: %{customdata}",
           "meta": [
            "GaussianStateUpdate"
           ],
           "type": "scatter",
           "x": [
            34.62154345599989,
            null
           ],
           "y": [
            50.04974583545324,
            null
           ]
          },
          {
           "type": "scatter",
           "x": [
            null
           ],
           "y": [
            null
           ]
          },
          {
           "type": "scatter",
           "x": [
            null
           ],
           "y": [
            null
           ]
          },
          {
           "type": "scatter",
           "x": [
            7.79106608746795,
            7.872364842108549,
            7.950110451056647,
            8.020905058136389,
            8.081654599308173,
            8.129704028114157,
            8.162953353948772,
            8.179949421725084,
            8.179949421725084,
            8.162953353948772,
            8.129704028114157,
            8.081654599308173,
            8.020905058136387,
            7.950110451056647,
            7.872364842108549,
            7.79106608746795,
            7.709767332827351,
            7.632021723879253,
            7.561227116799512,
            7.500477575627726,
            7.4524281468217435,
            7.419178820987127,
            7.402182753210815,
            7.402182753210815,
            7.419178820987127,
            7.4524281468217435,
            7.500477575627726,
            7.561227116799512,
            7.632021723879253,
            7.709767332827351,
            null,
            null
           ],
           "y": [
            48.62108622616924,
            48.61254138273468,
            48.58728030309182,
            48.546407017637165,
            48.49170788507685,
            48.42557351997933,
            48.350894311447256,
            48.27093409924409,
            48.189187528334756,
            48.10922731613159,
            48.03454810759951,
            47.968413742501994,
            47.91371460994168,
            47.87284132448702,
            47.84758024484416,
            47.8390354014096,
            47.84758024484416,
            47.87284132448702,
            47.91371460994168,
            47.968413742501994,
            48.03454810759951,
            48.10922731613159,
            48.189187528334756,
            48.27093409924409,
            48.350894311447256,
            48.42557351997933,
            48.49170788507685,
            48.546407017637165,
            48.58728030309182,
            48.61254138273468,
            null,
            null
           ]
          },
          {
           "type": "scatter",
           "x": [
            34.62154345599989,
            34.72549930140877,
            34.82491177753779,
            34.91543608214613,
            34.99311586873859,
            35.05455615789211,
            35.09707171414747,
            35.11880440368403,
            35.11880440368403,
            35.09707171414747,
            35.05455615789211,
            34.99311586873859,
            34.91543608214613,
            34.82491177753779,
            34.72549930140877,
            34.62154345599989,
            34.517587610591015,
            34.41817513446199,
            34.32765082985365,
            34.2499710432612,
            34.188530754107674,
            34.146015197852314,
            34.12428250831575,
            34.12428250831575,
            34.146015197852314,
            34.188530754107674,
            34.2499710432612,
            34.32765082985365,
            34.41817513446199,
            34.51758761059101,
            null,
            null
           ],
           "y": [
            50.54974583545324,
            50.53881963582014,
            50.506518564274536,
            50.45425433264071,
            50.38431113863267,
            50.29974583545324,
            50.20425433264071,
            50.102010067087065,
            49.99748160381941,
            49.895237338265765,
            49.79974583545324,
            49.715180532273806,
            49.645237338265765,
            49.59297310663194,
            49.560672035086334,
            49.54974583545324,
            49.560672035086334,
            49.59297310663194,
            49.645237338265765,
            49.715180532273806,
            49.79974583545324,
            49.895237338265765,
            49.99748160381941,
            50.102010067087065,
            50.20425433264071,
            50.29974583545324,
            50.38431113863267,
            50.45425433264071,
            50.506518564274536,
            50.53881963582014,
            null,
            null
           ]
          }
         ],
         "name": "2023-09-07 15:00:59",
         "traces": [
          0,
          1,
          2,
          3,
          4,
          5,
          6,
          7,
          8,
          9,
          10,
          11,
          12,
          13,
          14,
          15
         ]
        },
        {
         "data": [
          {
           "type": "scatter",
           "x": [
            0,
            0
           ],
           "y": [
            0,
            0
           ]
          },
          {
           "hovertemplate": "GroundTruthState<br>(%{x}, %{y})<br>Time: %{meta}",
           "meta": [
            "2023-09-07 15:00:40",
            "2023-09-07 15:00:41",
            "2023-09-07 15:00:42",
            "2023-09-07 15:00:43",
            "2023-09-07 15:00:44",
            "2023-09-07 15:00:45",
            "2023-09-07 15:00:46",
            "2023-09-07 15:00:47",
            "2023-09-07 15:00:48",
            "2023-09-07 15:00:49",
            "2023-09-07 15:00:50",
            "2023-09-07 15:00:51",
            "2023-09-07 15:00:52",
            "2023-09-07 15:00:53",
            "2023-09-07 15:00:54",
            "2023-09-07 15:00:55",
            "2023-09-07 15:00:56",
            "2023-09-07 15:00:57",
            "2023-09-07 15:00:58",
            "2023-09-07 15:00:59",
            "2023-09-07 15:01:00"
           ],
           "type": "scatter",
           "x": [
            0,
            0.8091562802362998,
            1.4187778862009663,
            1.9340594175080428,
            2.7291599722274826,
            3.736499927988022,
            5.119411483348772,
            6.216732395332771,
            7.088723290570684,
            7.663354901814838,
            8.096722636252593,
            8.358906371025952,
            8.54822310121289,
            8.543882911480415,
            8.661018452611112,
            8.81413676771379,
            8.666475553311493,
            8.457114429626253,
            8.378969059200568,
            8.506472261414322,
            8.76192113749374,
            null
           ],
           "y": [
            41.55127793935055,
            41.14739075037148,
            40.71022742116085,
            40.33576258703677,
            40.11469426682165,
            40.0218978369037,
            40.11795936277245,
            40.23397761081491,
            40.45410408807201,
            40.66784873441858,
            41.10916580043645,
            41.59034958414012,
            42.15920554432621,
            42.83722041736732,
            43.80601257101235,
            44.72250861193358,
            45.55082005749288,
            46.478942183204815,
            47.23049024720247,
            48.1829097420305,
            49.16778848572788,
            null
           ]
          },
          {
           "hovertemplate": "GroundTruthState<br>(%{x}, %{y})<br>Time: %{meta}",
           "meta": [
            "2023-09-07 15:00:58",
            "2023-09-07 15:00:59",
            "2023-09-07 15:01:00"
           ],
           "type": "scatter",
           "x": [
            24.40294393298363,
            24.37101772209079,
            24.585384850156284,
            null
           ],
           "y": [
            50,
            48.92607580828807,
            47.94386490735651,
            null
           ]
          },
          {
           "hovertemplate": "GroundTruthState<br>(%{x}, %{y})<br>Time: %{meta}",
           "meta": [
            "2023-09-07 15:00:59",
            "2023-09-07 15:01:00"
           ],
           "type": "scatter",
           "x": [
            34.9497917032631,
            34.692784657380166,
            null
           ],
           "y": [
            50,
            49.233094514513525,
            null
           ]
          },
          {
           "hovertemplate": "GroundTruthState<br>(%{x}, %{y})<br>Time: %{meta}",
           "meta": [],
           "type": "scatter",
           "x": [
            null
           ],
           "y": [
            null
           ]
          },
          {
           "type": "scatter",
           "x": [
            null,
            null
           ],
           "y": [
            null,
            null
           ]
          },
          {
           "hovertemplate": "Detection<br>(%{x}, %{y})<br>Time: %{meta}",
           "meta": [
            "2023-09-07 15:00:40",
            "2023-09-07 15:00:41",
            "2023-09-07 15:00:42",
            "2023-09-07 15:00:43",
            "2023-09-07 15:00:44",
            "2023-09-07 15:00:46",
            "2023-09-07 15:00:47",
            "2023-09-07 15:00:48",
            "2023-09-07 15:00:49",
            "2023-09-07 15:00:50",
            "2023-09-07 15:00:51",
            "2023-09-07 15:00:52",
            "2023-09-07 15:00:53",
            "2023-09-07 15:00:54",
            "2023-09-07 15:00:55",
            "2023-09-07 15:00:56",
            "2023-09-07 15:00:57",
            "2023-09-07 15:00:58",
            "2023-09-07 15:00:58",
            "2023-09-07 15:00:59",
            "2023-09-07 15:00:59",
            "2023-09-07 15:00:59",
            "2023-09-07 15:01:00",
            "2023-09-07 15:01:00"
           ],
           "type": "scatter",
           "x": [
            -0.43005629247898636,
            1.9613126588341832,
            1.328760915097623,
            1.6486342541080825,
            3.391167130241921,
            5.198613247790583,
            5.5997844867706466,
            6.935456692747284,
            8.51160294626042,
            6.938136290313291,
            8.00171047550961,
            8.455481513912613,
            8.51568107852356,
            9.22411910733494,
            9.258594731151701,
            9.32950730831503,
            7.804987863094423,
            24.581047874774246,
            7.832277013086065,
            34.62154345599989,
            7.937505079616018,
            24.155956069792705,
            34.219527318752874,
            8.764921493433448,
            null
           ],
           "y": [
            41.49312990045806,
            41.29578777553558,
            40.56025765481257,
            40.943137598599904,
            39.64105359377544,
            39.7539260798625,
            40.62749687000739,
            40.351899248824374,
            41.209034178881836,
            41.088704044823054,
            41.05099188880684,
            42.74592512474356,
            43.20802778630997,
            43.2900108578128,
            45.8069560006637,
            45.87834412006734,
            45.455700324445665,
            49.781697352014895,
            47.498742904408566,
            50.04974583545324,
            48.40541225977234,
            49.01136420875983,
            49.4925172018819,
            49.2219643780955,
            null
           ]
          },
          {
           "hovertemplate": "Clutter<br>(%{x}, %{y})<br>Time: %{meta}",
           "meta": [
            "2023-09-07 15:00:40",
            "2023-09-07 15:00:41",
            "2023-09-07 15:00:41",
            "2023-09-07 15:00:41",
            "2023-09-07 15:00:43",
            "2023-09-07 15:00:45",
            "2023-09-07 15:00:45",
            "2023-09-07 15:00:47",
            "2023-09-07 15:00:47",
            "2023-09-07 15:00:47",
            "2023-09-07 15:00:47",
            "2023-09-07 15:00:47",
            "2023-09-07 15:00:49",
            "2023-09-07 15:00:51",
            "2023-09-07 15:00:54",
            "2023-09-07 15:00:56",
            "2023-09-07 15:00:57",
            "2023-09-07 15:00:57",
            "2023-09-07 15:00:58",
            "2023-09-07 15:00:58",
            "2023-09-07 15:00:58",
            "2023-09-07 15:00:59",
            "2023-09-07 15:00:59",
            "2023-09-07 15:00:59",
            "2023-09-07 15:00:59",
            "2023-09-07 15:00:59",
            "2023-09-07 15:01:00",
            "2023-09-07 15:01:00",
            "2023-09-07 15:01:00",
            "2023-09-07 15:01:00"
           ],
           "type": "scatter",
           "x": [
            0.2628629860147935,
            -5.947186089536171,
            7.511234499194794,
            1.2368016066430076,
            -3.9383022083791523,
            9.519502944212656,
            8.816880016344196,
            15.208121856273904,
            14.025710879284519,
            -2.1359261723065925,
            7.05768093084308,
            1.592790739428831,
            0.7285176578468473,
            12.242518424828313,
            3.6747835001110527,
            7.866884907505119,
            12.411475162781779,
            12.833029096254522,
            8.261923541005068,
            5.0831273653651925,
            26.930871334830616,
            27.039745244561278,
            25.019860088518154,
            39.455693446687164,
            27.321535352904682,
            30.31780651486834,
            12.573526520789473,
            15.008821802752902,
            37.988817903560175,
            3.1977264770182456,
            null
           ],
           "y": [
            45.565386681545874,
            45.05366061755791,
            46.35592175810034,
            32.05905379580751,
            47.28393730753255,
            31.456987364994728,
            34.167845538700334,
            41.39926162025145,
            30.523269059328186,
            39.91303043863957,
            48.67691635585126,
            36.21792645246228,
            49.91527833476793,
            47.603344842135236,
            45.81113548447709,
            36.913833208623586,
            42.07983225975437,
            37.580041204503345,
            51.51203885361398,
            38.77727204839494,
            50.26474359709672,
            46.83275159513233,
            44.2215730834841,
            42.928967070680564,
            39.18334456447075,
            41.74815349965422,
            53.23948281955508,
            39.23710521891505,
            41.71611682790641,
            44.66052183772808,
            null
           ]
          },
          {
           "type": "scatter",
           "x": [
            null,
            null
           ],
           "y": [
            null,
            null
           ]
          },
          {
           "customdata": [],
           "hovertemplate": "%{meta}<br>(%{x}, %{y})<br>Time: %{customdata}",
           "meta": [],
           "type": "scatter",
           "x": [
            null
           ],
           "y": [
            null
           ]
          },
          {
           "customdata": [
            "2023-09-07 15:00:40",
            "2023-09-07 15:00:41",
            "2023-09-07 15:00:42",
            "2023-09-07 15:00:43",
            "2023-09-07 15:00:44",
            "2023-09-07 15:00:45",
            "2023-09-07 15:00:46",
            "2023-09-07 15:00:47",
            "2023-09-07 15:00:48",
            "2023-09-07 15:00:49",
            "2023-09-07 15:00:50",
            "2023-09-07 15:00:51",
            "2023-09-07 15:00:52",
            "2023-09-07 15:00:53",
            "2023-09-07 15:00:54",
            "2023-09-07 15:00:55",
            "2023-09-07 15:00:56",
            "2023-09-07 15:00:57",
            "2023-09-07 15:00:58",
            "2023-09-07 15:00:59",
            "2023-09-07 15:01:00"
           ],
           "hovertemplate": "%{meta}<br>(%{x}, %{y})<br>Time: %{customdata}",
           "meta": [
            "GaussianStateUpdate",
            "GaussianStateUpdate",
            "GaussianStateUpdate",
            "GaussianStateUpdate",
            "GaussianStateUpdate",
            "GaussianStatePrediction",
            "GaussianStateUpdate",
            "GaussianStateUpdate",
            "GaussianStateUpdate",
            "GaussianStateUpdate",
            "GaussianStatePrediction",
            "GaussianStateUpdate",
            "GaussianStateUpdate",
            "GaussianStateUpdate",
            "GaussianStateUpdate",
            "GaussianStateUpdate",
            "GaussianStateUpdate",
            "GaussianStateUpdate",
            "GaussianStateUpdate",
            "GaussianStateUpdate",
            "GaussianStateUpdate"
           ],
           "type": "scatter",
           "x": [
            -0.43005629247898636,
            1.5671309635627815,
            1.7248047174586882,
            1.8905500191617137,
            3.0266606144206634,
            3.7930024690710495,
            5.063871539095284,
            5.749814186180568,
            6.802874669121355,
            8.2129677138972,
            9.367732280484283,
            8.542618402693721,
            8.634368220211687,
            8.669701894529883,
            9.075003246000703,
            9.29501577604749,
            9.413413937498195,
            8.502632005862981,
            7.971735342146178,
            7.79106608746795,
            8.267728552533242,
            null
           ],
           "y": [
            41.49312990045806,
            41.3283166972261,
            40.69579995272057,
            40.74242157325732,
            39.9576780440993,
            39.494129937136556,
            39.60146342055227,
            40.16817369119637,
            40.313729365629904,
            40.905811622898376,
            41.23864331164184,
            41.162676656780185,
            42.24148057909349,
            43.0469437062278,
            43.453524571615226,
            45.10875518315963,
            45.9885693493004,
            46.04032141953401,
            47.147697787822864,
            48.23006081378942,
            49.19872167033096,
            null
           ]
          },
          {
           "customdata": [
            "2023-09-07 15:00:59",
            "2023-09-07 15:01:00"
           ],
           "hovertemplate": "%{meta}<br>(%{x}, %{y})<br>Time: %{customdata}",
           "meta": [
            "GaussianStateUpdate",
            "GaussianStateUpdate"
           ],
           "type": "scatter",
           "x": [
            34.62154345599989,
            34.285793715002384,
            null
           ],
           "y": [
            50.04974583545324,
            49.58436807554751,
            null
           ]
          },
          {
           "type": "scatter",
           "x": [
            null
           ],
           "y": [
            null
           ]
          },
          {
           "type": "scatter",
           "x": [
            null
           ],
           "y": [
            null
           ]
          },
          {
           "type": "scatter",
           "x": [
            8.267728552533242,
            8.349025789304036,
            8.426769946720523,
            8.497563232045744,
            8.558311639007114,
            8.606360170717226,
            8.639608875777908,
            8.656604626233023,
            8.656604626233023,
            8.639608875777908,
            8.606360170717226,
            8.558311639007114,
            8.497563232045744,
            8.426769946720523,
            8.349025789304036,
            8.267728552533242,
            8.186431315762448,
            8.108687158345962,
            8.03789387302074,
            7.97714546605937,
            7.92909693434926,
            7.8958482292885765,
            7.878852478833461,
            7.878852478833461,
            7.8958482292885765,
            7.92909693434926,
            7.97714546605937,
            8.03789387302074,
            8.108687158345962,
            8.186431315762448,
            null,
            null
           ],
           "y": [
            49.589739782160244,
            49.58119509826024,
            49.55593449024859,
            49.515061967909254,
            49.46036385659659,
            49.3942307262456,
            49.31955291199461,
            49.239594192670296,
            49.15784914799163,
            49.07789042866731,
            49.00321261441632,
            48.937079484065336,
            48.88238137275267,
            48.841508850413334,
            48.816248242401684,
            48.80770355850168,
            48.816248242401684,
            48.841508850413334,
            48.88238137275267,
            48.937079484065336,
            49.00321261441632,
            49.07789042866731,
            49.15784914799163,
            49.239594192670296,
            49.31955291199461,
            49.3942307262456,
            49.46036385659659,
            49.515061967909254,
            49.55593449024859,
            49.58119509826024,
            null,
            null
           ]
          },
          {
           "type": "scatter",
           "x": [
            34.285793715002384,
            34.38079621077037,
            34.47164664160074,
            34.554374407717475,
            34.62536390876941,
            34.68151256291515,
            34.720366404537394,
            34.74022733431583,
            34.74022733431583,
            34.720366404537394,
            34.68151256291515,
            34.62536390876941,
            34.554374407717475,
            34.47164664160074,
            34.38079621077037,
            34.285793715002384,
            34.1907912192344,
            34.09994078840403,
            34.017213022287294,
            33.94622352123536,
            33.890074867089616,
            33.851221025467375,
            33.831360095688936,
            33.831360095688936,
            33.851221025467375,
            33.890074867089616,
            33.94622352123536,
            34.017213022287294,
            34.09994078840403,
            34.1907912192344,
            null,
            null
           ],
           "y": [
            50.041304842279196,
            50.03131967761317,
            50.00180058322514,
            49.95403768518818,
            49.89011845133834,
            49.81283645891335,
            49.72556930182234,
            49.63213097358446,
            49.53660517751056,
            49.44316684927268,
            49.355899692181666,
            49.27861769975668,
            49.214698465906835,
            49.16693556786988,
            49.13741647348185,
            49.12743130881582,
            49.13741647348185,
            49.16693556786988,
            49.214698465906835,
            49.27861769975668,
            49.355899692181666,
            49.44316684927268,
            49.53660517751055,
            49.63213097358447,
            49.72556930182234,
            49.81283645891335,
            49.89011845133834,
            49.95403768518818,
            50.00180058322514,
            50.03131967761317,
            null,
            null
           ]
          }
         ],
         "name": "2023-09-07 15:01:00",
         "traces": [
          0,
          1,
          2,
          3,
          4,
          5,
          6,
          7,
          8,
          9,
          10,
          11,
          12,
          13,
          14,
          15
         ]
        },
        {
         "data": [
          {
           "type": "scatter",
           "x": [
            0,
            0
           ],
           "y": [
            0,
            0
           ]
          },
          {
           "hovertemplate": "GroundTruthState<br>(%{x}, %{y})<br>Time: %{meta}",
           "meta": [
            "2023-09-07 15:00:40",
            "2023-09-07 15:00:41",
            "2023-09-07 15:00:42",
            "2023-09-07 15:00:43",
            "2023-09-07 15:00:44",
            "2023-09-07 15:00:45",
            "2023-09-07 15:00:46",
            "2023-09-07 15:00:47",
            "2023-09-07 15:00:48",
            "2023-09-07 15:00:49",
            "2023-09-07 15:00:50",
            "2023-09-07 15:00:51",
            "2023-09-07 15:00:52",
            "2023-09-07 15:00:53",
            "2023-09-07 15:00:54",
            "2023-09-07 15:00:55",
            "2023-09-07 15:00:56",
            "2023-09-07 15:00:57",
            "2023-09-07 15:00:58",
            "2023-09-07 15:00:59",
            "2023-09-07 15:01:00",
            "2023-09-07 15:01:01"
           ],
           "type": "scatter",
           "x": [
            0,
            0.8091562802362998,
            1.4187778862009663,
            1.9340594175080428,
            2.7291599722274826,
            3.736499927988022,
            5.119411483348772,
            6.216732395332771,
            7.088723290570684,
            7.663354901814838,
            8.096722636252593,
            8.358906371025952,
            8.54822310121289,
            8.543882911480415,
            8.661018452611112,
            8.81413676771379,
            8.666475553311493,
            8.457114429626253,
            8.378969059200568,
            8.506472261414322,
            8.76192113749374,
            8.789109668220165,
            null
           ],
           "y": [
            41.55127793935055,
            41.14739075037148,
            40.71022742116085,
            40.33576258703677,
            40.11469426682165,
            40.0218978369037,
            40.11795936277245,
            40.23397761081491,
            40.45410408807201,
            40.66784873441858,
            41.10916580043645,
            41.59034958414012,
            42.15920554432621,
            42.83722041736732,
            43.80601257101235,
            44.72250861193358,
            45.55082005749288,
            46.478942183204815,
            47.23049024720247,
            48.1829097420305,
            49.16778848572788,
            49.950207045006884,
            null
           ]
          },
          {
           "hovertemplate": "GroundTruthState<br>(%{x}, %{y})<br>Time: %{meta}",
           "meta": [
            "2023-09-07 15:00:58",
            "2023-09-07 15:00:59",
            "2023-09-07 15:01:00",
            "2023-09-07 15:01:01"
           ],
           "type": "scatter",
           "x": [
            24.40294393298363,
            24.37101772209079,
            24.585384850156284,
            25.03868275478802,
            null
           ],
           "y": [
            50,
            48.92607580828807,
            47.94386490735651,
            46.9525856518256,
            null
           ]
          },
          {
           "hovertemplate": "GroundTruthState<br>(%{x}, %{y})<br>Time: %{meta}",
           "meta": [
            "2023-09-07 15:00:59",
            "2023-09-07 15:01:00",
            "2023-09-07 15:01:01"
           ],
           "type": "scatter",
           "x": [
            34.9497917032631,
            34.692784657380166,
            34.62875348769775,
            null
           ],
           "y": [
            50,
            49.233094514513525,
            48.65632716274939,
            null
           ]
          },
          {
           "hovertemplate": "GroundTruthState<br>(%{x}, %{y})<br>Time: %{meta}",
           "meta": [],
           "type": "scatter",
           "x": [
            null
           ],
           "y": [
            null
           ]
          },
          {
           "type": "scatter",
           "x": [
            null,
            null
           ],
           "y": [
            null,
            null
           ]
          },
          {
           "hovertemplate": "Detection<br>(%{x}, %{y})<br>Time: %{meta}",
           "meta": [
            "2023-09-07 15:00:40",
            "2023-09-07 15:00:41",
            "2023-09-07 15:00:42",
            "2023-09-07 15:00:43",
            "2023-09-07 15:00:44",
            "2023-09-07 15:00:46",
            "2023-09-07 15:00:47",
            "2023-09-07 15:00:48",
            "2023-09-07 15:00:49",
            "2023-09-07 15:00:50",
            "2023-09-07 15:00:51",
            "2023-09-07 15:00:52",
            "2023-09-07 15:00:53",
            "2023-09-07 15:00:54",
            "2023-09-07 15:00:55",
            "2023-09-07 15:00:56",
            "2023-09-07 15:00:57",
            "2023-09-07 15:00:58",
            "2023-09-07 15:00:58",
            "2023-09-07 15:00:59",
            "2023-09-07 15:00:59",
            "2023-09-07 15:00:59",
            "2023-09-07 15:01:00",
            "2023-09-07 15:01:00",
            "2023-09-07 15:01:01",
            "2023-09-07 15:01:01"
           ],
           "type": "scatter",
           "x": [
            -0.43005629247898636,
            1.9613126588341832,
            1.328760915097623,
            1.6486342541080825,
            3.391167130241921,
            5.198613247790583,
            5.5997844867706466,
            6.935456692747284,
            8.51160294626042,
            6.938136290313291,
            8.00171047550961,
            8.455481513912613,
            8.51568107852356,
            9.22411910733494,
            9.258594731151701,
            9.32950730831503,
            7.804987863094423,
            24.581047874774246,
            7.832277013086065,
            34.62154345599989,
            7.937505079616018,
            24.155956069792705,
            34.219527318752874,
            8.764921493433448,
            9.169878259121589,
            34.33792014141769,
            null
           ],
           "y": [
            41.49312990045806,
            41.29578777553558,
            40.56025765481257,
            40.943137598599904,
            39.64105359377544,
            39.7539260798625,
            40.62749687000739,
            40.351899248824374,
            41.209034178881836,
            41.088704044823054,
            41.05099188880684,
            42.74592512474356,
            43.20802778630997,
            43.2900108578128,
            45.8069560006637,
            45.87834412006734,
            45.455700324445665,
            49.781697352014895,
            47.498742904408566,
            50.04974583545324,
            48.40541225977234,
            49.01136420875983,
            49.4925172018819,
            49.2219643780955,
            50.30810535810356,
            48.09527774002108,
            null
           ]
          },
          {
           "hovertemplate": "Clutter<br>(%{x}, %{y})<br>Time: %{meta}",
           "meta": [
            "2023-09-07 15:00:40",
            "2023-09-07 15:00:41",
            "2023-09-07 15:00:41",
            "2023-09-07 15:00:41",
            "2023-09-07 15:00:43",
            "2023-09-07 15:00:45",
            "2023-09-07 15:00:45",
            "2023-09-07 15:00:47",
            "2023-09-07 15:00:47",
            "2023-09-07 15:00:47",
            "2023-09-07 15:00:47",
            "2023-09-07 15:00:47",
            "2023-09-07 15:00:49",
            "2023-09-07 15:00:51",
            "2023-09-07 15:00:54",
            "2023-09-07 15:00:56",
            "2023-09-07 15:00:57",
            "2023-09-07 15:00:57",
            "2023-09-07 15:00:58",
            "2023-09-07 15:00:58",
            "2023-09-07 15:00:58",
            "2023-09-07 15:00:59",
            "2023-09-07 15:00:59",
            "2023-09-07 15:00:59",
            "2023-09-07 15:00:59",
            "2023-09-07 15:00:59",
            "2023-09-07 15:01:00",
            "2023-09-07 15:01:00",
            "2023-09-07 15:01:00",
            "2023-09-07 15:01:00",
            "2023-09-07 15:01:01",
            "2023-09-07 15:01:01",
            "2023-09-07 15:01:01"
           ],
           "type": "scatter",
           "x": [
            0.2628629860147935,
            -5.947186089536171,
            7.511234499194794,
            1.2368016066430076,
            -3.9383022083791523,
            9.519502944212656,
            8.816880016344196,
            15.208121856273904,
            14.025710879284519,
            -2.1359261723065925,
            7.05768093084308,
            1.592790739428831,
            0.7285176578468473,
            12.242518424828313,
            3.6747835001110527,
            7.866884907505119,
            12.411475162781779,
            12.833029096254522,
            8.261923541005068,
            5.0831273653651925,
            26.930871334830616,
            27.039745244561278,
            25.019860088518154,
            39.455693446687164,
            27.321535352904682,
            30.31780651486834,
            12.573526520789473,
            15.008821802752902,
            37.988817903560175,
            3.1977264770182456,
            13.555350298851561,
            3.5535772988144787,
            2.057485696647321,
            null
           ],
           "y": [
            45.565386681545874,
            45.05366061755791,
            46.35592175810034,
            32.05905379580751,
            47.28393730753255,
            31.456987364994728,
            34.167845538700334,
            41.39926162025145,
            30.523269059328186,
            39.91303043863957,
            48.67691635585126,
            36.21792645246228,
            49.91527833476793,
            47.603344842135236,
            45.81113548447709,
            36.913833208623586,
            42.07983225975437,
            37.580041204503345,
            51.51203885361398,
            38.77727204839494,
            50.26474359709672,
            46.83275159513233,
            44.2215730834841,
            42.928967070680564,
            39.18334456447075,
            41.74815349965422,
            53.23948281955508,
            39.23710521891505,
            41.71611682790641,
            44.66052183772808,
            54.103690631976036,
            53.14575568077721,
            55.08403627460173,
            null
           ]
          },
          {
           "type": "scatter",
           "x": [
            null,
            null
           ],
           "y": [
            null,
            null
           ]
          },
          {
           "customdata": [],
           "hovertemplate": "%{meta}<br>(%{x}, %{y})<br>Time: %{customdata}",
           "meta": [],
           "type": "scatter",
           "x": [
            null
           ],
           "y": [
            null
           ]
          },
          {
           "customdata": [
            "2023-09-07 15:00:40",
            "2023-09-07 15:00:41",
            "2023-09-07 15:00:42",
            "2023-09-07 15:00:43",
            "2023-09-07 15:00:44",
            "2023-09-07 15:00:45",
            "2023-09-07 15:00:46",
            "2023-09-07 15:00:47",
            "2023-09-07 15:00:48",
            "2023-09-07 15:00:49",
            "2023-09-07 15:00:50",
            "2023-09-07 15:00:51",
            "2023-09-07 15:00:52",
            "2023-09-07 15:00:53",
            "2023-09-07 15:00:54",
            "2023-09-07 15:00:55",
            "2023-09-07 15:00:56",
            "2023-09-07 15:00:57",
            "2023-09-07 15:00:58",
            "2023-09-07 15:00:59",
            "2023-09-07 15:01:00",
            "2023-09-07 15:01:01"
           ],
           "hovertemplate": "%{meta}<br>(%{x}, %{y})<br>Time: %{customdata}",
           "meta": [
            "GaussianStateUpdate",
            "GaussianStateUpdate",
            "GaussianStateUpdate",
            "GaussianStateUpdate",
            "GaussianStateUpdate",
            "GaussianStatePrediction",
            "GaussianStateUpdate",
            "GaussianStateUpdate",
            "GaussianStateUpdate",
            "GaussianStateUpdate",
            "GaussianStatePrediction",
            "GaussianStateUpdate",
            "GaussianStateUpdate",
            "GaussianStateUpdate",
            "GaussianStateUpdate",
            "GaussianStateUpdate",
            "GaussianStateUpdate",
            "GaussianStateUpdate",
            "GaussianStateUpdate",
            "GaussianStateUpdate",
            "GaussianStateUpdate",
            "GaussianStateUpdate"
           ],
           "type": "scatter",
           "x": [
            -0.43005629247898636,
            1.5671309635627815,
            1.7248047174586882,
            1.8905500191617137,
            3.0266606144206634,
            3.7930024690710495,
            5.063871539095284,
            5.749814186180568,
            6.802874669121355,
            8.2129677138972,
            9.367732280484283,
            8.542618402693721,
            8.634368220211687,
            8.669701894529883,
            9.075003246000703,
            9.29501577604749,
            9.413413937498195,
            8.502632005862981,
            7.971735342146178,
            7.79106608746795,
            8.267728552533242,
            8.8391159278272,
            null
           ],
           "y": [
            41.49312990045806,
            41.3283166972261,
            40.69579995272057,
            40.74242157325732,
            39.9576780440993,
            39.494129937136556,
            39.60146342055227,
            40.16817369119637,
            40.313729365629904,
            40.905811622898376,
            41.23864331164184,
            41.162676656780185,
            42.24148057909349,
            43.0469437062278,
            43.453524571615226,
            45.10875518315963,
            45.9885693493004,
            46.04032141953401,
            47.147697787822864,
            48.23006081378942,
            49.19872167033096,
            50.24570967805816,
            null
           ]
          },
          {
           "customdata": [
            "2023-09-07 15:00:59",
            "2023-09-07 15:01:00",
            "2023-09-07 15:01:01"
           ],
           "hovertemplate": "%{meta}<br>(%{x}, %{y})<br>Time: %{customdata}",
           "meta": [
            "GaussianStateUpdate",
            "GaussianStateUpdate",
            "GaussianStateUpdate"
           ],
           "type": "scatter",
           "x": [
            34.62154345599989,
            34.285793715002384,
            34.268766551451364,
            null
           ],
           "y": [
            50.04974583545324,
            49.58436807554751,
            48.332859762710335,
            null
           ]
          },
          {
           "type": "scatter",
           "x": [
            null
           ],
           "y": [
            null
           ]
          },
          {
           "type": "scatter",
           "x": [
            null
           ],
           "y": [
            null
           ]
          },
          {
           "type": "scatter",
           "x": [
            8.8391159278272,
            8.920413341059717,
            8.998157667225703,
            9.068951106213039,
            9.129699645033362,
            9.1777482810364,
            9.21099705826588,
            9.227992845611542,
            9.227992845611542,
            9.210997058265882,
            9.1777482810364,
            9.129699645033362,
            9.068951106213039,
            8.998157667225703,
            8.920413341059717,
            8.8391159278272,
            8.757818514594682,
            8.680074188428696,
            8.609280749441362,
            8.548532210621037,
            8.500483574617999,
            8.46723479738852,
            8.450239010042857,
            8.450239010042857,
            8.467234797388517,
            8.500483574617999,
            8.548532210621037,
            8.60928074944136,
            8.680074188428696,
            8.757818514594682,
            null,
            null
           ],
           "y": [
            50.636728638621456,
            50.62818393617458,
            50.60292327333289,
            50.5620506622767,
            50.50735243223769,
            50.44121915833981,
            50.366541181995046,
            50.28658228911436,
            50.20483706700197,
            50.12487817412128,
            50.05020019777651,
            49.984066923878636,
            49.92936869383963,
            49.88849608278343,
            49.863235419941745,
            49.85469071749487,
            49.863235419941745,
            49.88849608278343,
            49.92936869383963,
            49.984066923878636,
            50.05020019777651,
            50.12487817412128,
            50.20483706700197,
            50.28658228911436,
            50.366541181995046,
            50.44121915833981,
            50.50735243223769,
            50.5620506622767,
            50.60292327333289,
            50.62818393617458,
            null,
            null
           ]
          },
          {
           "type": "scatter",
           "x": [
            34.268766551451364,
            34.36095630794646,
            34.449116929707195,
            34.52939537452101,
            34.59828308913084,
            34.65276934984829,
            34.69047284562594,
            34.70974575277684,
            34.70974575277684,
            34.69047284562594,
            34.65276934984829,
            34.59828308913084,
            34.52939537452101,
            34.449116929707195,
            34.36095630794646,
            34.268766551451364,
            34.17657679495627,
            34.08841617319553,
            34.00813772838172,
            33.93925001377189,
            33.884763753054436,
            33.84706025727679,
            33.82778735012589,
            33.82778735012589,
            33.84706025727679,
            33.884763753054436,
            33.93925001377189,
            34.00813772838172,
            34.08841617319553,
            34.17657679495627,
            null,
            null
           ],
           "y": [
            48.77626800075841,
            48.766578466902665,
            48.737933344460465,
            48.69158456273708,
            48.629557785899955,
            48.554563881734374,
            48.469880443713045,
            48.379208544433716,
            48.286510980986954,
            48.195839081707625,
            48.111155643686295,
            48.036161739520715,
            47.97413496268359,
            47.927786180960204,
            47.899141058518005,
            47.88945152466226,
            47.899141058518005,
            47.927786180960204,
            47.97413496268359,
            48.036161739520715,
            48.111155643686295,
            48.195839081707625,
            48.286510980986954,
            48.379208544433716,
            48.469880443713045,
            48.554563881734374,
            48.629557785899955,
            48.69158456273708,
            48.737933344460465,
            48.766578466902665,
            null,
            null
           ]
          }
         ],
         "name": "2023-09-07 15:01:01",
         "traces": [
          0,
          1,
          2,
          3,
          4,
          5,
          6,
          7,
          8,
          9,
          10,
          11,
          12,
          13,
          14,
          15
         ]
        },
        {
         "data": [
          {
           "type": "scatter",
           "x": [
            0,
            0
           ],
           "y": [
            0,
            0
           ]
          },
          {
           "hovertemplate": "GroundTruthState<br>(%{x}, %{y})<br>Time: %{meta}",
           "meta": [
            "2023-09-07 15:00:40",
            "2023-09-07 15:00:41",
            "2023-09-07 15:00:42",
            "2023-09-07 15:00:43",
            "2023-09-07 15:00:44",
            "2023-09-07 15:00:45",
            "2023-09-07 15:00:46",
            "2023-09-07 15:00:47",
            "2023-09-07 15:00:48",
            "2023-09-07 15:00:49",
            "2023-09-07 15:00:50",
            "2023-09-07 15:00:51",
            "2023-09-07 15:00:52",
            "2023-09-07 15:00:53",
            "2023-09-07 15:00:54",
            "2023-09-07 15:00:55",
            "2023-09-07 15:00:56",
            "2023-09-07 15:00:57",
            "2023-09-07 15:00:58",
            "2023-09-07 15:00:59",
            "2023-09-07 15:01:00",
            "2023-09-07 15:01:01",
            "2023-09-07 15:01:02"
           ],
           "type": "scatter",
           "x": [
            0,
            0.8091562802362998,
            1.4187778862009663,
            1.9340594175080428,
            2.7291599722274826,
            3.736499927988022,
            5.119411483348772,
            6.216732395332771,
            7.088723290570684,
            7.663354901814838,
            8.096722636252593,
            8.358906371025952,
            8.54822310121289,
            8.543882911480415,
            8.661018452611112,
            8.81413676771379,
            8.666475553311493,
            8.457114429626253,
            8.378969059200568,
            8.506472261414322,
            8.76192113749374,
            8.789109668220165,
            8.645151050991842,
            null
           ],
           "y": [
            41.55127793935055,
            41.14739075037148,
            40.71022742116085,
            40.33576258703677,
            40.11469426682165,
            40.0218978369037,
            40.11795936277245,
            40.23397761081491,
            40.45410408807201,
            40.66784873441858,
            41.10916580043645,
            41.59034958414012,
            42.15920554432621,
            42.83722041736732,
            43.80601257101235,
            44.72250861193358,
            45.55082005749288,
            46.478942183204815,
            47.23049024720247,
            48.1829097420305,
            49.16778848572788,
            49.950207045006884,
            50.84956128513592,
            null
           ]
          },
          {
           "hovertemplate": "GroundTruthState<br>(%{x}, %{y})<br>Time: %{meta}",
           "meta": [
            "2023-09-07 15:00:58",
            "2023-09-07 15:00:59",
            "2023-09-07 15:01:00",
            "2023-09-07 15:01:01",
            "2023-09-07 15:01:02"
           ],
           "type": "scatter",
           "x": [
            24.40294393298363,
            24.37101772209079,
            24.585384850156284,
            25.03868275478802,
            25.1049789512843,
            null
           ],
           "y": [
            50,
            48.92607580828807,
            47.94386490735651,
            46.9525856518256,
            45.916836511442554,
            null
           ]
          },
          {
           "hovertemplate": "GroundTruthState<br>(%{x}, %{y})<br>Time: %{meta}",
           "meta": [
            "2023-09-07 15:00:59",
            "2023-09-07 15:01:00",
            "2023-09-07 15:01:01",
            "2023-09-07 15:01:02"
           ],
           "type": "scatter",
           "x": [
            34.9497917032631,
            34.692784657380166,
            34.62875348769775,
            34.70653825006885,
            null
           ],
           "y": [
            50,
            49.233094514513525,
            48.65632716274939,
            48.04342569579986,
            null
           ]
          },
          {
           "hovertemplate": "GroundTruthState<br>(%{x}, %{y})<br>Time: %{meta}",
           "meta": [],
           "type": "scatter",
           "x": [
            null
           ],
           "y": [
            null
           ]
          },
          {
           "type": "scatter",
           "x": [
            null,
            null
           ],
           "y": [
            null,
            null
           ]
          },
          {
           "hovertemplate": "Detection<br>(%{x}, %{y})<br>Time: %{meta}",
           "meta": [
            "2023-09-07 15:00:40",
            "2023-09-07 15:00:41",
            "2023-09-07 15:00:42",
            "2023-09-07 15:00:43",
            "2023-09-07 15:00:44",
            "2023-09-07 15:00:46",
            "2023-09-07 15:00:47",
            "2023-09-07 15:00:48",
            "2023-09-07 15:00:49",
            "2023-09-07 15:00:50",
            "2023-09-07 15:00:51",
            "2023-09-07 15:00:52",
            "2023-09-07 15:00:53",
            "2023-09-07 15:00:54",
            "2023-09-07 15:00:55",
            "2023-09-07 15:00:56",
            "2023-09-07 15:00:57",
            "2023-09-07 15:00:58",
            "2023-09-07 15:00:58",
            "2023-09-07 15:00:59",
            "2023-09-07 15:00:59",
            "2023-09-07 15:00:59",
            "2023-09-07 15:01:00",
            "2023-09-07 15:01:00",
            "2023-09-07 15:01:01",
            "2023-09-07 15:01:01",
            "2023-09-07 15:01:02",
            "2023-09-07 15:01:02",
            "2023-09-07 15:01:02"
           ],
           "type": "scatter",
           "x": [
            -0.43005629247898636,
            1.9613126588341832,
            1.328760915097623,
            1.6486342541080825,
            3.391167130241921,
            5.198613247790583,
            5.5997844867706466,
            6.935456692747284,
            8.51160294626042,
            6.938136290313291,
            8.00171047550961,
            8.455481513912613,
            8.51568107852356,
            9.22411910733494,
            9.258594731151701,
            9.32950730831503,
            7.804987863094423,
            24.581047874774246,
            7.832277013086065,
            34.62154345599989,
            7.937505079616018,
            24.155956069792705,
            34.219527318752874,
            8.764921493433448,
            9.169878259121589,
            34.33792014141769,
            24.808252741464877,
            35.71409381177726,
            8.508185830477029,
            null
           ],
           "y": [
            41.49312990045806,
            41.29578777553558,
            40.56025765481257,
            40.943137598599904,
            39.64105359377544,
            39.7539260798625,
            40.62749687000739,
            40.351899248824374,
            41.209034178881836,
            41.088704044823054,
            41.05099188880684,
            42.74592512474356,
            43.20802778630997,
            43.2900108578128,
            45.8069560006637,
            45.87834412006734,
            45.455700324445665,
            49.781697352014895,
            47.498742904408566,
            50.04974583545324,
            48.40541225977234,
            49.01136420875983,
            49.4925172018819,
            49.2219643780955,
            50.30810535810356,
            48.09527774002108,
            46.25695400029111,
            48.2078196986085,
            50.78839562369448,
            null
           ]
          },
          {
           "hovertemplate": "Clutter<br>(%{x}, %{y})<br>Time: %{meta}",
           "meta": [
            "2023-09-07 15:00:40",
            "2023-09-07 15:00:41",
            "2023-09-07 15:00:41",
            "2023-09-07 15:00:41",
            "2023-09-07 15:00:43",
            "2023-09-07 15:00:45",
            "2023-09-07 15:00:45",
            "2023-09-07 15:00:47",
            "2023-09-07 15:00:47",
            "2023-09-07 15:00:47",
            "2023-09-07 15:00:47",
            "2023-09-07 15:00:47",
            "2023-09-07 15:00:49",
            "2023-09-07 15:00:51",
            "2023-09-07 15:00:54",
            "2023-09-07 15:00:56",
            "2023-09-07 15:00:57",
            "2023-09-07 15:00:57",
            "2023-09-07 15:00:58",
            "2023-09-07 15:00:58",
            "2023-09-07 15:00:58",
            "2023-09-07 15:00:59",
            "2023-09-07 15:00:59",
            "2023-09-07 15:00:59",
            "2023-09-07 15:00:59",
            "2023-09-07 15:00:59",
            "2023-09-07 15:01:00",
            "2023-09-07 15:01:00",
            "2023-09-07 15:01:00",
            "2023-09-07 15:01:00",
            "2023-09-07 15:01:01",
            "2023-09-07 15:01:01",
            "2023-09-07 15:01:01",
            "2023-09-07 15:01:02",
            "2023-09-07 15:01:02",
            "2023-09-07 15:01:02",
            "2023-09-07 15:01:02",
            "2023-09-07 15:01:02",
            "2023-09-07 15:01:02"
           ],
           "type": "scatter",
           "x": [
            0.2628629860147935,
            -5.947186089536171,
            7.511234499194794,
            1.2368016066430076,
            -3.9383022083791523,
            9.519502944212656,
            8.816880016344196,
            15.208121856273904,
            14.025710879284519,
            -2.1359261723065925,
            7.05768093084308,
            1.592790739428831,
            0.7285176578468473,
            12.242518424828313,
            3.6747835001110527,
            7.866884907505119,
            12.411475162781779,
            12.833029096254522,
            8.261923541005068,
            5.0831273653651925,
            26.930871334830616,
            27.039745244561278,
            25.019860088518154,
            39.455693446687164,
            27.321535352904682,
            30.31780651486834,
            12.573526520789473,
            15.008821802752902,
            37.988817903560175,
            3.1977264770182456,
            13.555350298851561,
            3.5535772988144787,
            2.057485696647321,
            23.72489197255483,
            25.905726518102984,
            -0.049607600934990614,
            44.312221984514245,
            9.378352296443829,
            18.50241946088084,
            null
           ],
           "y": [
            45.565386681545874,
            45.05366061755791,
            46.35592175810034,
            32.05905379580751,
            47.28393730753255,
            31.456987364994728,
            34.167845538700334,
            41.39926162025145,
            30.523269059328186,
            39.91303043863957,
            48.67691635585126,
            36.21792645246228,
            49.91527833476793,
            47.603344842135236,
            45.81113548447709,
            36.913833208623586,
            42.07983225975437,
            37.580041204503345,
            51.51203885361398,
            38.77727204839494,
            50.26474359709672,
            46.83275159513233,
            44.2215730834841,
            42.928967070680564,
            39.18334456447075,
            41.74815349965422,
            53.23948281955508,
            39.23710521891505,
            41.71611682790641,
            44.66052183772808,
            54.103690631976036,
            53.14575568077721,
            55.08403627460173,
            53.54937794282731,
            39.48254372876265,
            49.2227662940403,
            54.06836097418948,
            56.263969533566836,
            53.25939906245995,
            null
           ]
          },
          {
           "type": "scatter",
           "x": [
            null,
            null
           ],
           "y": [
            null,
            null
           ]
          },
          {
           "customdata": [
            "2023-09-07 15:01:02"
           ],
           "hovertemplate": "%{meta}<br>(%{x}, %{y})<br>Time: %{customdata}",
           "meta": [
            "GaussianStateUpdate"
           ],
           "type": "scatter",
           "x": [
            24.808252741464877,
            null
           ],
           "y": [
            46.25695400029111,
            null
           ]
          },
          {
           "customdata": [
            "2023-09-07 15:00:40",
            "2023-09-07 15:00:41",
            "2023-09-07 15:00:42",
            "2023-09-07 15:00:43",
            "2023-09-07 15:00:44",
            "2023-09-07 15:00:45",
            "2023-09-07 15:00:46",
            "2023-09-07 15:00:47",
            "2023-09-07 15:00:48",
            "2023-09-07 15:00:49",
            "2023-09-07 15:00:50",
            "2023-09-07 15:00:51",
            "2023-09-07 15:00:52",
            "2023-09-07 15:00:53",
            "2023-09-07 15:00:54",
            "2023-09-07 15:00:55",
            "2023-09-07 15:00:56",
            "2023-09-07 15:00:57",
            "2023-09-07 15:00:58",
            "2023-09-07 15:00:59",
            "2023-09-07 15:01:00",
            "2023-09-07 15:01:01",
            "2023-09-07 15:01:02"
           ],
           "hovertemplate": "%{meta}<br>(%{x}, %{y})<br>Time: %{customdata}",
           "meta": [
            "GaussianStateUpdate",
            "GaussianStateUpdate",
            "GaussianStateUpdate",
            "GaussianStateUpdate",
            "GaussianStateUpdate",
            "GaussianStatePrediction",
            "GaussianStateUpdate",
            "GaussianStateUpdate",
            "GaussianStateUpdate",
            "GaussianStateUpdate",
            "GaussianStatePrediction",
            "GaussianStateUpdate",
            "GaussianStateUpdate",
            "GaussianStateUpdate",
            "GaussianStateUpdate",
            "GaussianStateUpdate",
            "GaussianStateUpdate",
            "GaussianStateUpdate",
            "GaussianStateUpdate",
            "GaussianStateUpdate",
            "GaussianStateUpdate",
            "GaussianStateUpdate",
            "GaussianStateUpdate"
           ],
           "type": "scatter",
           "x": [
            -0.43005629247898636,
            1.5671309635627815,
            1.7248047174586882,
            1.8905500191617137,
            3.0266606144206634,
            3.7930024690710495,
            5.063871539095284,
            5.749814186180568,
            6.802874669121355,
            8.2129677138972,
            9.367732280484283,
            8.542618402693721,
            8.634368220211687,
            8.669701894529883,
            9.075003246000703,
            9.29501577604749,
            9.413413937498195,
            8.502632005862981,
            7.971735342146178,
            7.79106608746795,
            8.267728552533242,
            8.8391159278272,
            8.748563089055056,
            null
           ],
           "y": [
            41.49312990045806,
            41.3283166972261,
            40.69579995272057,
            40.74242157325732,
            39.9576780440993,
            39.494129937136556,
            39.60146342055227,
            40.16817369119637,
            40.313729365629904,
            40.905811622898376,
            41.23864331164184,
            41.162676656780185,
            42.24148057909349,
            43.0469437062278,
            43.453524571615226,
            45.10875518315963,
            45.9885693493004,
            46.04032141953401,
            47.147697787822864,
            48.23006081378942,
            49.19872167033096,
            50.24570967805816,
            50.9635055877399,
            null
           ]
          },
          {
           "customdata": [
            "2023-09-07 15:00:59",
            "2023-09-07 15:01:00",
            "2023-09-07 15:01:01",
            "2023-09-07 15:01:02"
           ],
           "hovertemplate": "%{meta}<br>(%{x}, %{y})<br>Time: %{customdata}",
           "meta": [
            "GaussianStateUpdate",
            "GaussianStateUpdate",
            "GaussianStateUpdate",
            "GaussianStateUpdate"
           ],
           "type": "scatter",
           "x": [
            34.62154345599989,
            34.285793715002384,
            34.268766551451364,
            35.25199515478764,
            null
           ],
           "y": [
            50.04974583545324,
            49.58436807554751,
            48.332859762710335,
            47.97879829102805,
            null
           ]
          },
          {
           "type": "scatter",
           "x": [
            null
           ],
           "y": [
            null
           ]
          },
          {
           "type": "scatter",
           "x": [
            24.808252741464877,
            24.912208586873756,
            25.011621063002778,
            25.10214536761111,
            25.179825154203574,
            25.241265443357097,
            25.283780999612453,
            25.305513689149013,
            25.305513689149013,
            25.283780999612453,
            25.241265443357097,
            25.179825154203574,
            25.10214536761111,
            25.011621063002778,
            24.912208586873756,
            24.808252741464877,
            24.704296896055997,
            24.604884419926975,
            24.51436011531864,
            24.43668032872618,
            24.375240039572656,
            24.3327244833173,
            24.31099179378074,
            24.31099179378074,
            24.3327244833173,
            24.375240039572656,
            24.43668032872618,
            24.514360115318638,
            24.604884419926975,
            24.704296896055997,
            null,
            null
           ],
           "y": [
            46.75695400029111,
            46.74602780065801,
            46.71372672911241,
            46.66146249747858,
            46.59151930347054,
            46.50695400029111,
            46.41146249747858,
            46.30921823192494,
            46.20468976865728,
            46.10244550310364,
            46.00695400029111,
            45.92238869711168,
            45.85244550310364,
            45.80018127146981,
            45.76788019992421,
            45.75695400029111,
            45.76788019992421,
            45.80018127146981,
            45.85244550310364,
            45.92238869711168,
            46.00695400029111,
            46.10244550310364,
            46.20468976865728,
            46.30921823192494,
            46.41146249747858,
            46.50695400029111,
            46.59151930347054,
            46.66146249747858,
            46.71372672911241,
            46.74602780065801,
            null,
            null
           ]
          },
          {
           "type": "scatter",
           "x": [
            8.748563089055056,
            8.829860558006688,
            8.907604937456597,
            8.978398424963897,
            9.039147005419677,
            9.087195674353989,
            9.12044447437131,
            9.137440273365439,
            9.137440273365439,
            9.12044447437131,
            9.087195674353989,
            9.039147005419677,
            8.978398424963897,
            8.907604937456597,
            8.829860558006688,
            8.748563089055056,
            8.667265620103423,
            8.589521240653514,
            8.518727753146214,
            8.457979172690434,
            8.409930503756122,
            8.376681703738802,
            8.359685904744673,
            8.359685904744673,
            8.376681703738802,
            8.409930503756122,
            8.457979172690434,
            8.518727753146214,
            8.589521240653514,
            8.667265620103423,
            null,
            null
           ],
           "y": [
            51.35452481629734,
            51.345980107994144,
            51.320719427839464,
            51.27984678877025,
            51.22514852124252,
            51.15901520201862,
            51.08433717449153,
            51.004378226809116,
            50.92263294867069,
            50.842674000988275,
            50.76799597346118,
            50.70186265423729,
            50.647164386709555,
            50.60629174764034,
            50.58103106748566,
            50.57248635918246,
            50.58103106748566,
            50.60629174764034,
            50.647164386709555,
            50.70186265423729,
            50.76799597346118,
            50.842674000988275,
            50.92263294867069,
            51.004378226809116,
            51.08433717449153,
            51.15901520201862,
            51.22514852124252,
            51.27984678877025,
            51.320719427839464,
            51.345980107994144,
            null,
            null
           ]
          },
          {
           "type": "scatter",
           "x": [
            35.25199515478764,
            35.339258790373094,
            35.422708586346076,
            35.49869738618602,
            35.56390411470522,
            35.615478924970766,
            35.65116775029067,
            35.669410817744456,
            35.669410817744456,
            35.65116775029067,
            35.615478924970766,
            35.56390411470522,
            35.49869738618602,
            35.422708586346076,
            35.339258790373094,
            35.25199515478764,
            35.16473151920219,
            35.08128172322921,
            35.00529292338926,
            34.94008619487007,
            34.88851138460452,
            34.85282255928462,
            34.83457949183083,
            34.83457949183083,
            34.85282255928462,
            34.88851138460452,
            34.94008619487007,
            35.00529292338926,
            35.08128172322921,
            35.16473151920219,
            null,
            null
           ],
           "y": [
            48.39851319615062,
            48.38934141846591,
            48.36222693610767,
            48.31835478206468,
            48.25964237999057,
            48.18865574358934,
            48.10849732950339,
            48.02267044507104,
            47.934926136985055,
            47.849099252552705,
            47.76894083846676,
            47.69795420206553,
            47.63924179999142,
            47.59536964594843,
            47.56825516359019,
            47.55908338590548,
            47.56825516359019,
            47.59536964594843,
            47.63924179999142,
            47.69795420206553,
            47.76894083846676,
            47.849099252552705,
            47.934926136985055,
            48.02267044507104,
            48.10849732950339,
            48.18865574358934,
            48.25964237999057,
            48.31835478206468,
            48.36222693610767,
            48.38934141846591,
            null,
            null
           ]
          }
         ],
         "name": "2023-09-07 15:01:02",
         "traces": [
          0,
          1,
          2,
          3,
          4,
          5,
          6,
          7,
          8,
          9,
          10,
          11,
          12,
          13,
          14,
          15
         ]
        },
        {
         "data": [
          {
           "type": "scatter",
           "x": [
            0,
            0
           ],
           "y": [
            0,
            0
           ]
          },
          {
           "hovertemplate": "GroundTruthState<br>(%{x}, %{y})<br>Time: %{meta}",
           "meta": [
            "2023-09-07 15:00:40",
            "2023-09-07 15:00:41",
            "2023-09-07 15:00:42",
            "2023-09-07 15:00:43",
            "2023-09-07 15:00:44",
            "2023-09-07 15:00:45",
            "2023-09-07 15:00:46",
            "2023-09-07 15:00:47",
            "2023-09-07 15:00:48",
            "2023-09-07 15:00:49",
            "2023-09-07 15:00:50",
            "2023-09-07 15:00:51",
            "2023-09-07 15:00:52",
            "2023-09-07 15:00:53",
            "2023-09-07 15:00:54",
            "2023-09-07 15:00:55",
            "2023-09-07 15:00:56",
            "2023-09-07 15:00:57",
            "2023-09-07 15:00:58",
            "2023-09-07 15:00:59",
            "2023-09-07 15:01:00",
            "2023-09-07 15:01:01",
            "2023-09-07 15:01:02"
           ],
           "type": "scatter",
           "x": [
            0,
            0.8091562802362998,
            1.4187778862009663,
            1.9340594175080428,
            2.7291599722274826,
            3.736499927988022,
            5.119411483348772,
            6.216732395332771,
            7.088723290570684,
            7.663354901814838,
            8.096722636252593,
            8.358906371025952,
            8.54822310121289,
            8.543882911480415,
            8.661018452611112,
            8.81413676771379,
            8.666475553311493,
            8.457114429626253,
            8.378969059200568,
            8.506472261414322,
            8.76192113749374,
            8.789109668220165,
            8.645151050991842,
            null
           ],
           "y": [
            41.55127793935055,
            41.14739075037148,
            40.71022742116085,
            40.33576258703677,
            40.11469426682165,
            40.0218978369037,
            40.11795936277245,
            40.23397761081491,
            40.45410408807201,
            40.66784873441858,
            41.10916580043645,
            41.59034958414012,
            42.15920554432621,
            42.83722041736732,
            43.80601257101235,
            44.72250861193358,
            45.55082005749288,
            46.478942183204815,
            47.23049024720247,
            48.1829097420305,
            49.16778848572788,
            49.950207045006884,
            50.84956128513592,
            null
           ]
          },
          {
           "hovertemplate": "GroundTruthState<br>(%{x}, %{y})<br>Time: %{meta}",
           "meta": [
            "2023-09-07 15:00:58",
            "2023-09-07 15:00:59",
            "2023-09-07 15:01:00",
            "2023-09-07 15:01:01",
            "2023-09-07 15:01:02",
            "2023-09-07 15:01:03"
           ],
           "type": "scatter",
           "x": [
            24.40294393298363,
            24.37101772209079,
            24.585384850156284,
            25.03868275478802,
            25.1049789512843,
            25.120548589233294,
            null
           ],
           "y": [
            50,
            48.92607580828807,
            47.94386490735651,
            46.9525856518256,
            45.916836511442554,
            44.660383933816995,
            null
           ]
          },
          {
           "hovertemplate": "GroundTruthState<br>(%{x}, %{y})<br>Time: %{meta}",
           "meta": [
            "2023-09-07 15:00:59",
            "2023-09-07 15:01:00",
            "2023-09-07 15:01:01",
            "2023-09-07 15:01:02",
            "2023-09-07 15:01:03"
           ],
           "type": "scatter",
           "x": [
            34.9497917032631,
            34.692784657380166,
            34.62875348769775,
            34.70653825006885,
            35.16602245368285,
            null
           ],
           "y": [
            50,
            49.233094514513525,
            48.65632716274939,
            48.04342569579986,
            47.37584157077364,
            null
           ]
          },
          {
           "hovertemplate": "GroundTruthState<br>(%{x}, %{y})<br>Time: %{meta}",
           "meta": [],
           "type": "scatter",
           "x": [
            null
           ],
           "y": [
            null
           ]
          },
          {
           "type": "scatter",
           "x": [
            null,
            null
           ],
           "y": [
            null,
            null
           ]
          },
          {
           "hovertemplate": "Detection<br>(%{x}, %{y})<br>Time: %{meta}",
           "meta": [
            "2023-09-07 15:00:40",
            "2023-09-07 15:00:41",
            "2023-09-07 15:00:42",
            "2023-09-07 15:00:43",
            "2023-09-07 15:00:44",
            "2023-09-07 15:00:46",
            "2023-09-07 15:00:47",
            "2023-09-07 15:00:48",
            "2023-09-07 15:00:49",
            "2023-09-07 15:00:50",
            "2023-09-07 15:00:51",
            "2023-09-07 15:00:52",
            "2023-09-07 15:00:53",
            "2023-09-07 15:00:54",
            "2023-09-07 15:00:55",
            "2023-09-07 15:00:56",
            "2023-09-07 15:00:57",
            "2023-09-07 15:00:58",
            "2023-09-07 15:00:58",
            "2023-09-07 15:00:59",
            "2023-09-07 15:00:59",
            "2023-09-07 15:00:59",
            "2023-09-07 15:01:00",
            "2023-09-07 15:01:00",
            "2023-09-07 15:01:01",
            "2023-09-07 15:01:01",
            "2023-09-07 15:01:02",
            "2023-09-07 15:01:02",
            "2023-09-07 15:01:02",
            "2023-09-07 15:01:03",
            "2023-09-07 15:01:03"
           ],
           "type": "scatter",
           "x": [
            -0.43005629247898636,
            1.9613126588341832,
            1.328760915097623,
            1.6486342541080825,
            3.391167130241921,
            5.198613247790583,
            5.5997844867706466,
            6.935456692747284,
            8.51160294626042,
            6.938136290313291,
            8.00171047550961,
            8.455481513912613,
            8.51568107852356,
            9.22411910733494,
            9.258594731151701,
            9.32950730831503,
            7.804987863094423,
            24.581047874774246,
            7.832277013086065,
            34.62154345599989,
            7.937505079616018,
            24.155956069792705,
            34.219527318752874,
            8.764921493433448,
            9.169878259121589,
            34.33792014141769,
            24.808252741464877,
            35.71409381177726,
            8.508185830477029,
            35.01040999823201,
            24.184393334774143,
            null
           ],
           "y": [
            41.49312990045806,
            41.29578777553558,
            40.56025765481257,
            40.943137598599904,
            39.64105359377544,
            39.7539260798625,
            40.62749687000739,
            40.351899248824374,
            41.209034178881836,
            41.088704044823054,
            41.05099188880684,
            42.74592512474356,
            43.20802778630997,
            43.2900108578128,
            45.8069560006637,
            45.87834412006734,
            45.455700324445665,
            49.781697352014895,
            47.498742904408566,
            50.04974583545324,
            48.40541225977234,
            49.01136420875983,
            49.4925172018819,
            49.2219643780955,
            50.30810535810356,
            48.09527774002108,
            46.25695400029111,
            48.2078196986085,
            50.78839562369448,
            47.417274779382694,
            44.40599996400887,
            null
           ]
          },
          {
           "hovertemplate": "Clutter<br>(%{x}, %{y})<br>Time: %{meta}",
           "meta": [
            "2023-09-07 15:00:40",
            "2023-09-07 15:00:41",
            "2023-09-07 15:00:41",
            "2023-09-07 15:00:41",
            "2023-09-07 15:00:43",
            "2023-09-07 15:00:45",
            "2023-09-07 15:00:45",
            "2023-09-07 15:00:47",
            "2023-09-07 15:00:47",
            "2023-09-07 15:00:47",
            "2023-09-07 15:00:47",
            "2023-09-07 15:00:47",
            "2023-09-07 15:00:49",
            "2023-09-07 15:00:51",
            "2023-09-07 15:00:54",
            "2023-09-07 15:00:56",
            "2023-09-07 15:00:57",
            "2023-09-07 15:00:57",
            "2023-09-07 15:00:58",
            "2023-09-07 15:00:58",
            "2023-09-07 15:00:58",
            "2023-09-07 15:00:59",
            "2023-09-07 15:00:59",
            "2023-09-07 15:00:59",
            "2023-09-07 15:00:59",
            "2023-09-07 15:00:59",
            "2023-09-07 15:01:00",
            "2023-09-07 15:01:00",
            "2023-09-07 15:01:00",
            "2023-09-07 15:01:00",
            "2023-09-07 15:01:01",
            "2023-09-07 15:01:01",
            "2023-09-07 15:01:01",
            "2023-09-07 15:01:02",
            "2023-09-07 15:01:02",
            "2023-09-07 15:01:02",
            "2023-09-07 15:01:02",
            "2023-09-07 15:01:02",
            "2023-09-07 15:01:02",
            "2023-09-07 15:01:03",
            "2023-09-07 15:01:03",
            "2023-09-07 15:01:03"
           ],
           "type": "scatter",
           "x": [
            0.2628629860147935,
            -5.947186089536171,
            7.511234499194794,
            1.2368016066430076,
            -3.9383022083791523,
            9.519502944212656,
            8.816880016344196,
            15.208121856273904,
            14.025710879284519,
            -2.1359261723065925,
            7.05768093084308,
            1.592790739428831,
            0.7285176578468473,
            12.242518424828313,
            3.6747835001110527,
            7.866884907505119,
            12.411475162781779,
            12.833029096254522,
            8.261923541005068,
            5.0831273653651925,
            26.930871334830616,
            27.039745244561278,
            25.019860088518154,
            39.455693446687164,
            27.321535352904682,
            30.31780651486834,
            12.573526520789473,
            15.008821802752902,
            37.988817903560175,
            3.1977264770182456,
            13.555350298851561,
            3.5535772988144787,
            2.057485696647321,
            23.72489197255483,
            25.905726518102984,
            -0.049607600934990614,
            44.312221984514245,
            9.378352296443829,
            18.50241946088084,
            30.322701798056244,
            28.821367618013763,
            25.72928462141531,
            null
           ],
           "y": [
            45.565386681545874,
            45.05366061755791,
            46.35592175810034,
            32.05905379580751,
            47.28393730753255,
            31.456987364994728,
            34.167845538700334,
            41.39926162025145,
            30.523269059328186,
            39.91303043863957,
            48.67691635585126,
            36.21792645246228,
            49.91527833476793,
            47.603344842135236,
            45.81113548447709,
            36.913833208623586,
            42.07983225975437,
            37.580041204503345,
            51.51203885361398,
            38.77727204839494,
            50.26474359709672,
            46.83275159513233,
            44.2215730834841,
            42.928967070680564,
            39.18334456447075,
            41.74815349965422,
            53.23948281955508,
            39.23710521891505,
            41.71611682790641,
            44.66052183772808,
            54.103690631976036,
            53.14575568077721,
            55.08403627460173,
            53.54937794282731,
            39.48254372876265,
            49.2227662940403,
            54.06836097418948,
            56.263969533566836,
            53.25939906245995,
            35.91069398537605,
            41.65623575003663,
            41.905400700989,
            null
           ]
          },
          {
           "type": "scatter",
           "x": [
            null,
            null
           ],
           "y": [
            null,
            null
           ]
          },
          {
           "customdata": [
            "2023-09-07 15:01:02",
            "2023-09-07 15:01:03"
           ],
           "hovertemplate": "%{meta}<br>(%{x}, %{y})<br>Time: %{customdata}",
           "meta": [
            "GaussianStateUpdate",
            "GaussianStateUpdate"
           ],
           "type": "scatter",
           "x": [
            24.808252741464877,
            24.28722730290998,
            null
           ],
           "y": [
            46.25695400029111,
            44.71110227768177,
            null
           ]
          },
          {
           "customdata": [
            "2023-09-07 15:00:40",
            "2023-09-07 15:00:41",
            "2023-09-07 15:00:42",
            "2023-09-07 15:00:43",
            "2023-09-07 15:00:44",
            "2023-09-07 15:00:45",
            "2023-09-07 15:00:46",
            "2023-09-07 15:00:47",
            "2023-09-07 15:00:48",
            "2023-09-07 15:00:49",
            "2023-09-07 15:00:50",
            "2023-09-07 15:00:51",
            "2023-09-07 15:00:52",
            "2023-09-07 15:00:53",
            "2023-09-07 15:00:54",
            "2023-09-07 15:00:55",
            "2023-09-07 15:00:56",
            "2023-09-07 15:00:57",
            "2023-09-07 15:00:58",
            "2023-09-07 15:00:59",
            "2023-09-07 15:01:00",
            "2023-09-07 15:01:01",
            "2023-09-07 15:01:02",
            "2023-09-07 15:01:03"
           ],
           "hovertemplate": "%{meta}<br>(%{x}, %{y})<br>Time: %{customdata}",
           "meta": [
            "GaussianStateUpdate",
            "GaussianStateUpdate",
            "GaussianStateUpdate",
            "GaussianStateUpdate",
            "GaussianStateUpdate",
            "GaussianStatePrediction",
            "GaussianStateUpdate",
            "GaussianStateUpdate",
            "GaussianStateUpdate",
            "GaussianStateUpdate",
            "GaussianStatePrediction",
            "GaussianStateUpdate",
            "GaussianStateUpdate",
            "GaussianStateUpdate",
            "GaussianStateUpdate",
            "GaussianStateUpdate",
            "GaussianStateUpdate",
            "GaussianStateUpdate",
            "GaussianStateUpdate",
            "GaussianStateUpdate",
            "GaussianStateUpdate",
            "GaussianStateUpdate",
            "GaussianStateUpdate",
            "GaussianStatePrediction"
           ],
           "type": "scatter",
           "x": [
            -0.43005629247898636,
            1.5671309635627815,
            1.7248047174586882,
            1.8905500191617137,
            3.0266606144206634,
            3.7930024690710495,
            5.063871539095284,
            5.749814186180568,
            6.802874669121355,
            8.2129677138972,
            9.367732280484283,
            8.542618402693721,
            8.634368220211687,
            8.669701894529883,
            9.075003246000703,
            9.29501577604749,
            9.413413937498195,
            8.502632005862981,
            7.971735342146178,
            7.79106608746795,
            8.267728552533242,
            8.8391159278272,
            8.748563089055056,
            8.86400725665167,
            null
           ],
           "y": [
            41.49312990045806,
            41.3283166972261,
            40.69579995272057,
            40.74242157325732,
            39.9576780440993,
            39.494129937136556,
            39.60146342055227,
            40.16817369119637,
            40.313729365629904,
            40.905811622898376,
            41.23864331164184,
            41.162676656780185,
            42.24148057909349,
            43.0469437062278,
            43.453524571615226,
            45.10875518315963,
            45.9885693493004,
            46.04032141953401,
            47.147697787822864,
            48.23006081378942,
            49.19872167033096,
            50.24570967805816,
            50.9635055877399,
            51.8313661441028,
            null
           ]
          },
          {
           "customdata": [
            "2023-09-07 15:00:59",
            "2023-09-07 15:01:00",
            "2023-09-07 15:01:01",
            "2023-09-07 15:01:02",
            "2023-09-07 15:01:03"
           ],
           "hovertemplate": "%{meta}<br>(%{x}, %{y})<br>Time: %{customdata}",
           "meta": [
            "GaussianStateUpdate",
            "GaussianStateUpdate",
            "GaussianStateUpdate",
            "GaussianStateUpdate",
            "GaussianStateUpdate"
           ],
           "type": "scatter",
           "x": [
            34.62154345599989,
            34.285793715002384,
            34.268766551451364,
            35.25199515478764,
            35.241728090713245,
            null
           ],
           "y": [
            50.04974583545324,
            49.58436807554751,
            48.332859762710335,
            47.97879829102805,
            47.391708738119306,
            null
           ]
          },
          {
           "type": "scatter",
           "x": [
            null
           ],
           "y": [
            null
           ]
          },
          {
           "type": "scatter",
           "x": [
            24.28722730290998,
            24.382229798677965,
            24.473080229508337,
            24.55580799562507,
            24.626797496677003,
            24.682946150822744,
            24.72179999244499,
            24.741660922223428,
            24.741660922223428,
            24.72179999244499,
            24.682946150822744,
            24.626797496677003,
            24.55580799562507,
            24.473080229508337,
            24.382229798677965,
            24.28722730290998,
            24.192224807141994,
            24.10137437631162,
            24.01864661019489,
            23.947657109142956,
            23.891508454997215,
            23.85265461337497,
            23.83279368359653,
            23.83279368359653,
            23.85265461337497,
            23.891508454997215,
            23.947657109142956,
            24.01864661019489,
            24.10137437631162,
            24.192224807141994,
            null,
            null
           ],
           "y": [
            45.168039044413455,
            45.15805387974743,
            45.1285347853594,
            45.08077188732244,
            45.0168526534726,
            44.93957066104761,
            44.8523035039566,
            44.75886517571872,
            44.66333937964482,
            44.56990105140694,
            44.482633894315924,
            44.40535190189094,
            44.341432668041094,
            44.293669770004136,
            44.26415067561611,
            44.25416551095008,
            44.26415067561611,
            44.293669770004136,
            44.341432668041094,
            44.40535190189094,
            44.482633894315924,
            44.56990105140694,
            44.66333937964481,
            44.758865175718725,
            44.8523035039566,
            44.93957066104761,
            45.0168526534726,
            45.08077188732244,
            45.1285347853594,
            45.15805387974743,
            null,
            null
           ]
          },
          {
           "type": "scatter",
           "x": [
            8.86400725665167,
            8.99445217945608,
            9.119196033189748,
            9.232786912857096,
            9.330260351947139,
            9.407356293442193,
            9.460705274751549,
            9.487975689395174,
            9.487975689395174,
            9.460705274751549,
            9.407356293442193,
            9.330260351947139,
            9.232786912857096,
            9.119196033189748,
            8.99445217945608,
            8.86400725665167,
            8.73356233384726,
            8.608818480113591,
            8.495227600446245,
            8.3977541613562,
            8.320658219861146,
            8.26730923855179,
            8.240038823908165,
            8.240038823908165,
            8.26730923855179,
            8.320658219861146,
            8.3977541613562,
            8.495227600446244,
            8.608818480113591,
            8.73356233384726,
            null,
            null
           ],
           "y": [
            52.45877156941267,
            52.44506125555702,
            52.404529520494954,
            52.33894779554152,
            52.25118231677323,
            52.14506885675773,
            52.02524508288659,
            51.896947869056234,
            51.76578441914938,
            51.63748720531901,
            51.51766343144787,
            51.41154997143237,
            51.32378449266408,
            51.25820276771065,
            51.21767103264858,
            51.203960718792935,
            51.21767103264858,
            51.25820276771065,
            51.32378449266408,
            51.41154997143237,
            51.51766343144787,
            51.63748720531901,
            51.76578441914937,
            51.896947869056234,
            52.02524508288659,
            52.14506885675773,
            52.25118231677323,
            52.33894779554152,
            52.404529520494954,
            52.44506125555702,
            null,
            null
           ]
          },
          {
           "type": "scatter",
           "x": [
            35.241728090713245,
            35.325481779661146,
            35.40557503050724,
            35.47850738385948,
            35.54109134590813,
            35.59059169720049,
            35.62484503485603,
            35.64235432365347,
            35.64235432365347,
            35.62484503485603,
            35.59059169720049,
            35.54109134590813,
            35.47850738385948,
            35.40557503050724,
            35.325481779661146,
            35.241728090713245,
            35.157974401765344,
            35.077881150919254,
            35.00494879756701,
            34.94236483551836,
            34.892864484226,
            34.85861114657046,
            34.84110185777302,
            34.84110185777302,
            34.85861114657046,
            34.892864484226,
            34.94236483551836,
            35.00494879756701,
            35.077881150919254,
            35.157974401765344,
            null,
            null
           ],
           "y": [
            47.79454173235105,
            47.7857388649235,
            47.759714990188286,
            47.71760747634773,
            47.66125662381095,
            47.59312523523518,
            47.51619097923186,
            47.433816251959854,
            47.34960122427876,
            47.26722649700675,
            47.190292241003434,
            47.12216085242766,
            47.06580999989088,
            47.02370248605033,
            46.99767861131511,
            46.98887574388756,
            46.99767861131511,
            47.023702486050325,
            47.06580999989088,
            47.12216085242766,
            47.190292241003434,
            47.26722649700675,
            47.34960122427876,
            47.433816251959854,
            47.51619097923186,
            47.59312523523518,
            47.66125662381095,
            47.71760747634773,
            47.75971499018828,
            47.7857388649235,
            null,
            null
           ]
          }
         ],
         "name": "2023-09-07 15:01:03",
         "traces": [
          0,
          1,
          2,
          3,
          4,
          5,
          6,
          7,
          8,
          9,
          10,
          11,
          12,
          13,
          14,
          15
         ]
        },
        {
         "data": [
          {
           "type": "scatter",
           "x": [
            0,
            0
           ],
           "y": [
            0,
            0
           ]
          },
          {
           "hovertemplate": "GroundTruthState<br>(%{x}, %{y})<br>Time: %{meta}",
           "meta": [
            "2023-09-07 15:00:40",
            "2023-09-07 15:00:41",
            "2023-09-07 15:00:42",
            "2023-09-07 15:00:43",
            "2023-09-07 15:00:44",
            "2023-09-07 15:00:45",
            "2023-09-07 15:00:46",
            "2023-09-07 15:00:47",
            "2023-09-07 15:00:48",
            "2023-09-07 15:00:49",
            "2023-09-07 15:00:50",
            "2023-09-07 15:00:51",
            "2023-09-07 15:00:52",
            "2023-09-07 15:00:53",
            "2023-09-07 15:00:54",
            "2023-09-07 15:00:55",
            "2023-09-07 15:00:56",
            "2023-09-07 15:00:57",
            "2023-09-07 15:00:58",
            "2023-09-07 15:00:59",
            "2023-09-07 15:01:00",
            "2023-09-07 15:01:01",
            "2023-09-07 15:01:02"
           ],
           "type": "scatter",
           "x": [
            0,
            0.8091562802362998,
            1.4187778862009663,
            1.9340594175080428,
            2.7291599722274826,
            3.736499927988022,
            5.119411483348772,
            6.216732395332771,
            7.088723290570684,
            7.663354901814838,
            8.096722636252593,
            8.358906371025952,
            8.54822310121289,
            8.543882911480415,
            8.661018452611112,
            8.81413676771379,
            8.666475553311493,
            8.457114429626253,
            8.378969059200568,
            8.506472261414322,
            8.76192113749374,
            8.789109668220165,
            8.645151050991842,
            null
           ],
           "y": [
            41.55127793935055,
            41.14739075037148,
            40.71022742116085,
            40.33576258703677,
            40.11469426682165,
            40.0218978369037,
            40.11795936277245,
            40.23397761081491,
            40.45410408807201,
            40.66784873441858,
            41.10916580043645,
            41.59034958414012,
            42.15920554432621,
            42.83722041736732,
            43.80601257101235,
            44.72250861193358,
            45.55082005749288,
            46.478942183204815,
            47.23049024720247,
            48.1829097420305,
            49.16778848572788,
            49.950207045006884,
            50.84956128513592,
            null
           ]
          },
          {
           "hovertemplate": "GroundTruthState<br>(%{x}, %{y})<br>Time: %{meta}",
           "meta": [
            "2023-09-07 15:00:58",
            "2023-09-07 15:00:59",
            "2023-09-07 15:01:00",
            "2023-09-07 15:01:01",
            "2023-09-07 15:01:02",
            "2023-09-07 15:01:03",
            "2023-09-07 15:01:04"
           ],
           "type": "scatter",
           "x": [
            24.40294393298363,
            24.37101772209079,
            24.585384850156284,
            25.03868275478802,
            25.1049789512843,
            25.120548589233294,
            25.408274935648077,
            null
           ],
           "y": [
            50,
            48.92607580828807,
            47.94386490735651,
            46.9525856518256,
            45.916836511442554,
            44.660383933816995,
            43.38923608926767,
            null
           ]
          },
          {
           "hovertemplate": "GroundTruthState<br>(%{x}, %{y})<br>Time: %{meta}",
           "meta": [
            "2023-09-07 15:00:59",
            "2023-09-07 15:01:00",
            "2023-09-07 15:01:01",
            "2023-09-07 15:01:02",
            "2023-09-07 15:01:03",
            "2023-09-07 15:01:04"
           ],
           "type": "scatter",
           "x": [
            34.9497917032631,
            34.692784657380166,
            34.62875348769775,
            34.70653825006885,
            35.16602245368285,
            35.84203896849462,
            null
           ],
           "y": [
            50,
            49.233094514513525,
            48.65632716274939,
            48.04342569579986,
            47.37584157077364,
            46.67834504620978,
            null
           ]
          },
          {
           "hovertemplate": "GroundTruthState<br>(%{x}, %{y})<br>Time: %{meta}",
           "meta": [],
           "type": "scatter",
           "x": [
            null
           ],
           "y": [
            null
           ]
          },
          {
           "type": "scatter",
           "x": [
            null,
            null
           ],
           "y": [
            null,
            null
           ]
          },
          {
           "hovertemplate": "Detection<br>(%{x}, %{y})<br>Time: %{meta}",
           "meta": [
            "2023-09-07 15:00:40",
            "2023-09-07 15:00:41",
            "2023-09-07 15:00:42",
            "2023-09-07 15:00:43",
            "2023-09-07 15:00:44",
            "2023-09-07 15:00:46",
            "2023-09-07 15:00:47",
            "2023-09-07 15:00:48",
            "2023-09-07 15:00:49",
            "2023-09-07 15:00:50",
            "2023-09-07 15:00:51",
            "2023-09-07 15:00:52",
            "2023-09-07 15:00:53",
            "2023-09-07 15:00:54",
            "2023-09-07 15:00:55",
            "2023-09-07 15:00:56",
            "2023-09-07 15:00:57",
            "2023-09-07 15:00:58",
            "2023-09-07 15:00:58",
            "2023-09-07 15:00:59",
            "2023-09-07 15:00:59",
            "2023-09-07 15:00:59",
            "2023-09-07 15:01:00",
            "2023-09-07 15:01:00",
            "2023-09-07 15:01:01",
            "2023-09-07 15:01:01",
            "2023-09-07 15:01:02",
            "2023-09-07 15:01:02",
            "2023-09-07 15:01:02",
            "2023-09-07 15:01:03",
            "2023-09-07 15:01:03",
            "2023-09-07 15:01:04"
           ],
           "type": "scatter",
           "x": [
            -0.43005629247898636,
            1.9613126588341832,
            1.328760915097623,
            1.6486342541080825,
            3.391167130241921,
            5.198613247790583,
            5.5997844867706466,
            6.935456692747284,
            8.51160294626042,
            6.938136290313291,
            8.00171047550961,
            8.455481513912613,
            8.51568107852356,
            9.22411910733494,
            9.258594731151701,
            9.32950730831503,
            7.804987863094423,
            24.581047874774246,
            7.832277013086065,
            34.62154345599989,
            7.937505079616018,
            24.155956069792705,
            34.219527318752874,
            8.764921493433448,
            9.169878259121589,
            34.33792014141769,
            24.808252741464877,
            35.71409381177726,
            8.508185830477029,
            35.01040999823201,
            24.184393334774143,
            25.495805205839506,
            null
           ],
           "y": [
            41.49312990045806,
            41.29578777553558,
            40.56025765481257,
            40.943137598599904,
            39.64105359377544,
            39.7539260798625,
            40.62749687000739,
            40.351899248824374,
            41.209034178881836,
            41.088704044823054,
            41.05099188880684,
            42.74592512474356,
            43.20802778630997,
            43.2900108578128,
            45.8069560006637,
            45.87834412006734,
            45.455700324445665,
            49.781697352014895,
            47.498742904408566,
            50.04974583545324,
            48.40541225977234,
            49.01136420875983,
            49.4925172018819,
            49.2219643780955,
            50.30810535810356,
            48.09527774002108,
            46.25695400029111,
            48.2078196986085,
            50.78839562369448,
            47.417274779382694,
            44.40599996400887,
            43.5197927927032,
            null
           ]
          },
          {
           "hovertemplate": "Clutter<br>(%{x}, %{y})<br>Time: %{meta}",
           "meta": [
            "2023-09-07 15:00:40",
            "2023-09-07 15:00:41",
            "2023-09-07 15:00:41",
            "2023-09-07 15:00:41",
            "2023-09-07 15:00:43",
            "2023-09-07 15:00:45",
            "2023-09-07 15:00:45",
            "2023-09-07 15:00:47",
            "2023-09-07 15:00:47",
            "2023-09-07 15:00:47",
            "2023-09-07 15:00:47",
            "2023-09-07 15:00:47",
            "2023-09-07 15:00:49",
            "2023-09-07 15:00:51",
            "2023-09-07 15:00:54",
            "2023-09-07 15:00:56",
            "2023-09-07 15:00:57",
            "2023-09-07 15:00:57",
            "2023-09-07 15:00:58",
            "2023-09-07 15:00:58",
            "2023-09-07 15:00:58",
            "2023-09-07 15:00:59",
            "2023-09-07 15:00:59",
            "2023-09-07 15:00:59",
            "2023-09-07 15:00:59",
            "2023-09-07 15:00:59",
            "2023-09-07 15:01:00",
            "2023-09-07 15:01:00",
            "2023-09-07 15:01:00",
            "2023-09-07 15:01:00",
            "2023-09-07 15:01:01",
            "2023-09-07 15:01:01",
            "2023-09-07 15:01:01",
            "2023-09-07 15:01:02",
            "2023-09-07 15:01:02",
            "2023-09-07 15:01:02",
            "2023-09-07 15:01:02",
            "2023-09-07 15:01:02",
            "2023-09-07 15:01:02",
            "2023-09-07 15:01:03",
            "2023-09-07 15:01:03",
            "2023-09-07 15:01:03",
            "2023-09-07 15:01:04",
            "2023-09-07 15:01:04",
            "2023-09-07 15:01:04"
           ],
           "type": "scatter",
           "x": [
            0.2628629860147935,
            -5.947186089536171,
            7.511234499194794,
            1.2368016066430076,
            -3.9383022083791523,
            9.519502944212656,
            8.816880016344196,
            15.208121856273904,
            14.025710879284519,
            -2.1359261723065925,
            7.05768093084308,
            1.592790739428831,
            0.7285176578468473,
            12.242518424828313,
            3.6747835001110527,
            7.866884907505119,
            12.411475162781779,
            12.833029096254522,
            8.261923541005068,
            5.0831273653651925,
            26.930871334830616,
            27.039745244561278,
            25.019860088518154,
            39.455693446687164,
            27.321535352904682,
            30.31780651486834,
            12.573526520789473,
            15.008821802752902,
            37.988817903560175,
            3.1977264770182456,
            13.555350298851561,
            3.5535772988144787,
            2.057485696647321,
            23.72489197255483,
            25.905726518102984,
            -0.049607600934990614,
            44.312221984514245,
            9.378352296443829,
            18.50241946088084,
            30.322701798056244,
            28.821367618013763,
            25.72928462141531,
            18.18069435837016,
            21.970881345714687,
            28.156454350498258,
            null
           ],
           "y": [
            45.565386681545874,
            45.05366061755791,
            46.35592175810034,
            32.05905379580751,
            47.28393730753255,
            31.456987364994728,
            34.167845538700334,
            41.39926162025145,
            30.523269059328186,
            39.91303043863957,
            48.67691635585126,
            36.21792645246228,
            49.91527833476793,
            47.603344842135236,
            45.81113548447709,
            36.913833208623586,
            42.07983225975437,
            37.580041204503345,
            51.51203885361398,
            38.77727204839494,
            50.26474359709672,
            46.83275159513233,
            44.2215730834841,
            42.928967070680564,
            39.18334456447075,
            41.74815349965422,
            53.23948281955508,
            39.23710521891505,
            41.71611682790641,
            44.66052183772808,
            54.103690631976036,
            53.14575568077721,
            55.08403627460173,
            53.54937794282731,
            39.48254372876265,
            49.2227662940403,
            54.06836097418948,
            56.263969533566836,
            53.25939906245995,
            35.91069398537605,
            41.65623575003663,
            41.905400700989,
            39.61971827652344,
            48.47021711265079,
            47.053263396761686,
            null
           ]
          },
          {
           "type": "scatter",
           "x": [
            null,
            null
           ],
           "y": [
            null,
            null
           ]
          },
          {
           "customdata": [
            "2023-09-07 15:01:02",
            "2023-09-07 15:01:03",
            "2023-09-07 15:01:04"
           ],
           "hovertemplate": "%{meta}<br>(%{x}, %{y})<br>Time: %{customdata}",
           "meta": [
            "GaussianStateUpdate",
            "GaussianStateUpdate",
            "GaussianStatePrediction"
           ],
           "type": "scatter",
           "x": [
            24.808252741464877,
            24.28722730290998,
            23.865608033553055,
            null
           ],
           "y": [
            46.25695400029111,
            44.71110227768177,
            43.46018279162289,
            null
           ]
          },
          {
           "customdata": [
            "2023-09-07 15:00:40",
            "2023-09-07 15:00:41",
            "2023-09-07 15:00:42",
            "2023-09-07 15:00:43",
            "2023-09-07 15:00:44",
            "2023-09-07 15:00:45",
            "2023-09-07 15:00:46",
            "2023-09-07 15:00:47",
            "2023-09-07 15:00:48",
            "2023-09-07 15:00:49",
            "2023-09-07 15:00:50",
            "2023-09-07 15:00:51",
            "2023-09-07 15:00:52",
            "2023-09-07 15:00:53",
            "2023-09-07 15:00:54",
            "2023-09-07 15:00:55",
            "2023-09-07 15:00:56",
            "2023-09-07 15:00:57",
            "2023-09-07 15:00:58",
            "2023-09-07 15:00:59",
            "2023-09-07 15:01:00",
            "2023-09-07 15:01:01",
            "2023-09-07 15:01:02",
            "2023-09-07 15:01:03",
            "2023-09-07 15:01:04"
           ],
           "hovertemplate": "%{meta}<br>(%{x}, %{y})<br>Time: %{customdata}",
           "meta": [
            "GaussianStateUpdate",
            "GaussianStateUpdate",
            "GaussianStateUpdate",
            "GaussianStateUpdate",
            "GaussianStateUpdate",
            "GaussianStatePrediction",
            "GaussianStateUpdate",
            "GaussianStateUpdate",
            "GaussianStateUpdate",
            "GaussianStateUpdate",
            "GaussianStatePrediction",
            "GaussianStateUpdate",
            "GaussianStateUpdate",
            "GaussianStateUpdate",
            "GaussianStateUpdate",
            "GaussianStateUpdate",
            "GaussianStateUpdate",
            "GaussianStateUpdate",
            "GaussianStateUpdate",
            "GaussianStateUpdate",
            "GaussianStateUpdate",
            "GaussianStateUpdate",
            "GaussianStateUpdate",
            "GaussianStatePrediction",
            "GaussianStatePrediction"
           ],
           "type": "scatter",
           "x": [
            -0.43005629247898636,
            1.5671309635627815,
            1.7248047174586882,
            1.8905500191617137,
            3.0266606144206634,
            3.7930024690710495,
            5.063871539095284,
            5.749814186180568,
            6.802874669121355,
            8.2129677138972,
            9.367732280484283,
            8.542618402693721,
            8.634368220211687,
            8.669701894529883,
            9.075003246000703,
            9.29501577604749,
            9.413413937498195,
            8.502632005862981,
            7.971735342146178,
            7.79106608746795,
            8.267728552533242,
            8.8391159278272,
            8.748563089055056,
            8.86400725665167,
            8.979451424248284,
            null
           ],
           "y": [
            41.49312990045806,
            41.3283166972261,
            40.69579995272057,
            40.74242157325732,
            39.9576780440993,
            39.494129937136556,
            39.60146342055227,
            40.16817369119637,
            40.313729365629904,
            40.905811622898376,
            41.23864331164184,
            41.162676656780185,
            42.24148057909349,
            43.0469437062278,
            43.453524571615226,
            45.10875518315963,
            45.9885693493004,
            46.04032141953401,
            47.147697787822864,
            48.23006081378942,
            49.19872167033096,
            50.24570967805816,
            50.9635055877399,
            51.8313661441028,
            52.6992267004657,
            null
           ]
          },
          {
           "customdata": [
            "2023-09-07 15:00:59",
            "2023-09-07 15:01:00",
            "2023-09-07 15:01:01",
            "2023-09-07 15:01:02",
            "2023-09-07 15:01:03",
            "2023-09-07 15:01:04"
           ],
           "hovertemplate": "%{meta}<br>(%{x}, %{y})<br>Time: %{customdata}",
           "meta": [
            "GaussianStateUpdate",
            "GaussianStateUpdate",
            "GaussianStateUpdate",
            "GaussianStateUpdate",
            "GaussianStateUpdate",
            "GaussianStatePrediction"
           ],
           "type": "scatter",
           "x": [
            34.62154345599989,
            34.285793715002384,
            34.268766551451364,
            35.25199515478764,
            35.241728090713245,
            35.46611855956127,
            null
           ],
           "y": [
            50.04974583545324,
            49.58436807554751,
            48.332859762710335,
            47.97879829102805,
            47.391708738119306,
            46.778684057935784,
            null
           ]
          },
          {
           "type": "scatter",
           "x": [
            null
           ],
           "y": [
            null
           ]
          },
          {
           "type": "scatter",
           "x": [
            23.865608033553055,
            24.06510037708471,
            24.255873947933562,
            24.429591025620354,
            24.578659340263155,
            24.696563891202928,
            24.77815168379481,
            24.819856940000864,
            24.819856940000864,
            24.77815168379481,
            24.69656389120293,
            24.578659340263155,
            24.429591025620354,
            24.255873947933562,
            24.06510037708471,
            23.865608033553055,
            23.6661156900214,
            23.47534211917255,
            23.301625041485757,
            23.152556726842956,
            23.034652175903183,
            22.9530643833113,
            22.911359127105246,
            22.911359127105246,
            22.9530643833113,
            23.03465217590318,
            23.152556726842956,
            23.301625041485753,
            23.47534211917255,
            23.6661156900214,
            null,
            null
           ],
           "y": [
            44.41968796782059,
            44.39872047761234,
            44.33673438692286,
            44.236438785357564,
            44.102217071976526,
            43.939935379721746,
            43.75668619725871,
            43.5604783931882,
            43.359887190057584,
            43.16367938598707,
            42.980430203524044,
            42.81814851126926,
            42.68392679788822,
            42.58363119632292,
            42.52164510563344,
            42.50067761542519,
            42.52164510563344,
            42.58363119632292,
            42.68392679788822,
            42.81814851126926,
            42.98043020352404,
            43.16367938598707,
            43.359887190057584,
            43.5604783931882,
            43.75668619725871,
            43.939935379721746,
            44.102217071976526,
            44.236438785357564,
            44.33673438692286,
            44.39872047761234,
            null,
            null
           ]
          },
          {
           "type": "scatter",
           "x": [
            8.979451424248284,
            9.177110486564048,
            9.366130899383203,
            9.538251563644977,
            9.685949980394545,
            9.80277102008432,
            9.883609042710312,
            9.924931038779896,
            9.924931038779896,
            9.883609042710312,
            9.80277102008432,
            9.685949980394547,
            9.538251563644977,
            9.366130899383203,
            9.177110486564048,
            8.979451424248284,
            8.781792361932519,
            8.592771949113365,
            8.42065128485159,
            8.272952868102022,
            8.156131828412247,
            8.075293805786256,
            8.033971809716672,
            8.033971809716672,
            8.075293805786256,
            8.156131828412247,
            8.272952868102022,
            8.42065128485159,
            8.592771949113365,
            8.781792361932519,
            null,
            null
           ],
           "y": [
            53.64991428103576,
            53.62913947644773,
            53.56772302133271,
            53.46834910948808,
            53.33536085771038,
            53.17457049075073,
            52.99300531920305,
            52.79860061231033,
            52.59985278862107,
            52.40544808172835,
            52.22388291018067,
            52.063092543221025,
            51.93010429144332,
            51.83073037959869,
            51.76931392448367,
            51.74853911989564,
            51.76931392448367,
            51.83073037959869,
            51.93010429144332,
            52.063092543221025,
            52.22388291018067,
            52.40544808172835,
            52.59985278862107,
            52.79860061231033,
            52.99300531920305,
            53.17457049075073,
            53.33536085771038,
            53.46834910948808,
            53.56772302133271,
            53.62913947644773,
            null,
            null
           ]
          },
          {
           "type": "scatter",
           "x": [
            35.46611855956127,
            35.599627445916205,
            35.72730135329072,
            35.84356031928516,
            35.94332326921316,
            36.02223008344711,
            36.0768321555681,
            36.104743113014614,
            36.104743113014614,
            36.0768321555681,
            36.02223008344711,
            35.94332326921316,
            35.84356031928516,
            35.72730135329072,
            35.599627445916205,
            35.46611855956127,
            35.33260967320633,
            35.20493576583181,
            35.08867679983737,
            34.98891384990937,
            34.91000703567542,
            34.855404963554435,
            34.82749400610792,
            34.82749400610792,
            34.855404963554435,
            34.91000703567542,
            34.98891384990937,
            35.08867679983737,
            35.20493576583181,
            35.33260967320633,
            null,
            null
           ],
           "y": [
            47.42082633396568,
            47.40679398456417,
            47.365310217363174,
            47.29818807205058,
            47.208361108464324,
            47.099755195950735,
            46.97711693403563,
            46.84580620324838,
            46.71156191262319,
            46.58025118183594,
            46.45761291992084,
            46.349007007407245,
            46.25918004382099,
            46.192057898508395,
            46.1505741313074,
            46.13654178190589,
            46.1505741313074,
            46.192057898508395,
            46.25918004382099,
            46.349007007407245,
            46.45761291992084,
            46.58025118183594,
            46.71156191262319,
            46.84580620324838,
            46.97711693403563,
            47.099755195950735,
            47.208361108464324,
            47.29818807205058,
            47.365310217363174,
            47.40679398456417,
            null,
            null
           ]
          }
         ],
         "name": "2023-09-07 15:01:04",
         "traces": [
          0,
          1,
          2,
          3,
          4,
          5,
          6,
          7,
          8,
          9,
          10,
          11,
          12,
          13,
          14,
          15
         ]
        },
        {
         "data": [
          {
           "type": "scatter",
           "x": [
            0,
            0
           ],
           "y": [
            0,
            0
           ]
          },
          {
           "hovertemplate": "GroundTruthState<br>(%{x}, %{y})<br>Time: %{meta}",
           "meta": [
            "2023-09-07 15:00:40",
            "2023-09-07 15:00:41",
            "2023-09-07 15:00:42",
            "2023-09-07 15:00:43",
            "2023-09-07 15:00:44",
            "2023-09-07 15:00:45",
            "2023-09-07 15:00:46",
            "2023-09-07 15:00:47",
            "2023-09-07 15:00:48",
            "2023-09-07 15:00:49",
            "2023-09-07 15:00:50",
            "2023-09-07 15:00:51",
            "2023-09-07 15:00:52",
            "2023-09-07 15:00:53",
            "2023-09-07 15:00:54",
            "2023-09-07 15:00:55",
            "2023-09-07 15:00:56",
            "2023-09-07 15:00:57",
            "2023-09-07 15:00:58",
            "2023-09-07 15:00:59",
            "2023-09-07 15:01:00",
            "2023-09-07 15:01:01",
            "2023-09-07 15:01:02"
           ],
           "type": "scatter",
           "x": [
            0,
            0.8091562802362998,
            1.4187778862009663,
            1.9340594175080428,
            2.7291599722274826,
            3.736499927988022,
            5.119411483348772,
            6.216732395332771,
            7.088723290570684,
            7.663354901814838,
            8.096722636252593,
            8.358906371025952,
            8.54822310121289,
            8.543882911480415,
            8.661018452611112,
            8.81413676771379,
            8.666475553311493,
            8.457114429626253,
            8.378969059200568,
            8.506472261414322,
            8.76192113749374,
            8.789109668220165,
            8.645151050991842,
            null
           ],
           "y": [
            41.55127793935055,
            41.14739075037148,
            40.71022742116085,
            40.33576258703677,
            40.11469426682165,
            40.0218978369037,
            40.11795936277245,
            40.23397761081491,
            40.45410408807201,
            40.66784873441858,
            41.10916580043645,
            41.59034958414012,
            42.15920554432621,
            42.83722041736732,
            43.80601257101235,
            44.72250861193358,
            45.55082005749288,
            46.478942183204815,
            47.23049024720247,
            48.1829097420305,
            49.16778848572788,
            49.950207045006884,
            50.84956128513592,
            null
           ]
          },
          {
           "hovertemplate": "GroundTruthState<br>(%{x}, %{y})<br>Time: %{meta}",
           "meta": [
            "2023-09-07 15:00:58",
            "2023-09-07 15:00:59",
            "2023-09-07 15:01:00",
            "2023-09-07 15:01:01",
            "2023-09-07 15:01:02",
            "2023-09-07 15:01:03",
            "2023-09-07 15:01:04",
            "2023-09-07 15:01:05"
           ],
           "type": "scatter",
           "x": [
            24.40294393298363,
            24.37101772209079,
            24.585384850156284,
            25.03868275478802,
            25.1049789512843,
            25.120548589233294,
            25.408274935648077,
            25.597302325430956,
            null
           ],
           "y": [
            50,
            48.92607580828807,
            47.94386490735651,
            46.9525856518256,
            45.916836511442554,
            44.660383933816995,
            43.38923608926767,
            41.798256079790406,
            null
           ]
          },
          {
           "hovertemplate": "GroundTruthState<br>(%{x}, %{y})<br>Time: %{meta}",
           "meta": [
            "2023-09-07 15:00:59",
            "2023-09-07 15:01:00",
            "2023-09-07 15:01:01",
            "2023-09-07 15:01:02",
            "2023-09-07 15:01:03",
            "2023-09-07 15:01:04",
            "2023-09-07 15:01:05"
           ],
           "type": "scatter",
           "x": [
            34.9497917032631,
            34.692784657380166,
            34.62875348769775,
            34.70653825006885,
            35.16602245368285,
            35.84203896849462,
            36.48923137530482,
            null
           ],
           "y": [
            50,
            49.233094514513525,
            48.65632716274939,
            48.04342569579986,
            47.37584157077364,
            46.67834504620978,
            45.83272536574674,
            null
           ]
          },
          {
           "hovertemplate": "GroundTruthState<br>(%{x}, %{y})<br>Time: %{meta}",
           "meta": [],
           "type": "scatter",
           "x": [
            null
           ],
           "y": [
            null
           ]
          },
          {
           "type": "scatter",
           "x": [
            null,
            null
           ],
           "y": [
            null,
            null
           ]
          },
          {
           "hovertemplate": "Detection<br>(%{x}, %{y})<br>Time: %{meta}",
           "meta": [
            "2023-09-07 15:00:40",
            "2023-09-07 15:00:41",
            "2023-09-07 15:00:42",
            "2023-09-07 15:00:43",
            "2023-09-07 15:00:44",
            "2023-09-07 15:00:46",
            "2023-09-07 15:00:47",
            "2023-09-07 15:00:48",
            "2023-09-07 15:00:49",
            "2023-09-07 15:00:50",
            "2023-09-07 15:00:51",
            "2023-09-07 15:00:52",
            "2023-09-07 15:00:53",
            "2023-09-07 15:00:54",
            "2023-09-07 15:00:55",
            "2023-09-07 15:00:56",
            "2023-09-07 15:00:57",
            "2023-09-07 15:00:58",
            "2023-09-07 15:00:58",
            "2023-09-07 15:00:59",
            "2023-09-07 15:00:59",
            "2023-09-07 15:00:59",
            "2023-09-07 15:01:00",
            "2023-09-07 15:01:00",
            "2023-09-07 15:01:01",
            "2023-09-07 15:01:01",
            "2023-09-07 15:01:02",
            "2023-09-07 15:01:02",
            "2023-09-07 15:01:02",
            "2023-09-07 15:01:03",
            "2023-09-07 15:01:03",
            "2023-09-07 15:01:04",
            "2023-09-07 15:01:05",
            "2023-09-07 15:01:05"
           ],
           "type": "scatter",
           "x": [
            -0.43005629247898636,
            1.9613126588341832,
            1.328760915097623,
            1.6486342541080825,
            3.391167130241921,
            5.198613247790583,
            5.5997844867706466,
            6.935456692747284,
            8.51160294626042,
            6.938136290313291,
            8.00171047550961,
            8.455481513912613,
            8.51568107852356,
            9.22411910733494,
            9.258594731151701,
            9.32950730831503,
            7.804987863094423,
            24.581047874774246,
            7.832277013086065,
            34.62154345599989,
            7.937505079616018,
            24.155956069792705,
            34.219527318752874,
            8.764921493433448,
            9.169878259121589,
            34.33792014141769,
            24.808252741464877,
            35.71409381177726,
            8.508185830477029,
            35.01040999823201,
            24.184393334774143,
            25.495805205839506,
            35.85950727938655,
            25.487965372036413,
            null
           ],
           "y": [
            41.49312990045806,
            41.29578777553558,
            40.56025765481257,
            40.943137598599904,
            39.64105359377544,
            39.7539260798625,
            40.62749687000739,
            40.351899248824374,
            41.209034178881836,
            41.088704044823054,
            41.05099188880684,
            42.74592512474356,
            43.20802778630997,
            43.2900108578128,
            45.8069560006637,
            45.87834412006734,
            45.455700324445665,
            49.781697352014895,
            47.498742904408566,
            50.04974583545324,
            48.40541225977234,
            49.01136420875983,
            49.4925172018819,
            49.2219643780955,
            50.30810535810356,
            48.09527774002108,
            46.25695400029111,
            48.2078196986085,
            50.78839562369448,
            47.417274779382694,
            44.40599996400887,
            43.5197927927032,
            46.46503732984592,
            42.9412446802236,
            null
           ]
          },
          {
           "hovertemplate": "Clutter<br>(%{x}, %{y})<br>Time: %{meta}",
           "meta": [
            "2023-09-07 15:00:40",
            "2023-09-07 15:00:41",
            "2023-09-07 15:00:41",
            "2023-09-07 15:00:41",
            "2023-09-07 15:00:43",
            "2023-09-07 15:00:45",
            "2023-09-07 15:00:45",
            "2023-09-07 15:00:47",
            "2023-09-07 15:00:47",
            "2023-09-07 15:00:47",
            "2023-09-07 15:00:47",
            "2023-09-07 15:00:47",
            "2023-09-07 15:00:49",
            "2023-09-07 15:00:51",
            "2023-09-07 15:00:54",
            "2023-09-07 15:00:56",
            "2023-09-07 15:00:57",
            "2023-09-07 15:00:57",
            "2023-09-07 15:00:58",
            "2023-09-07 15:00:58",
            "2023-09-07 15:00:58",
            "2023-09-07 15:00:59",
            "2023-09-07 15:00:59",
            "2023-09-07 15:00:59",
            "2023-09-07 15:00:59",
            "2023-09-07 15:00:59",
            "2023-09-07 15:01:00",
            "2023-09-07 15:01:00",
            "2023-09-07 15:01:00",
            "2023-09-07 15:01:00",
            "2023-09-07 15:01:01",
            "2023-09-07 15:01:01",
            "2023-09-07 15:01:01",
            "2023-09-07 15:01:02",
            "2023-09-07 15:01:02",
            "2023-09-07 15:01:02",
            "2023-09-07 15:01:02",
            "2023-09-07 15:01:02",
            "2023-09-07 15:01:02",
            "2023-09-07 15:01:03",
            "2023-09-07 15:01:03",
            "2023-09-07 15:01:03",
            "2023-09-07 15:01:04",
            "2023-09-07 15:01:04",
            "2023-09-07 15:01:04",
            "2023-09-07 15:01:05"
           ],
           "type": "scatter",
           "x": [
            0.2628629860147935,
            -5.947186089536171,
            7.511234499194794,
            1.2368016066430076,
            -3.9383022083791523,
            9.519502944212656,
            8.816880016344196,
            15.208121856273904,
            14.025710879284519,
            -2.1359261723065925,
            7.05768093084308,
            1.592790739428831,
            0.7285176578468473,
            12.242518424828313,
            3.6747835001110527,
            7.866884907505119,
            12.411475162781779,
            12.833029096254522,
            8.261923541005068,
            5.0831273653651925,
            26.930871334830616,
            27.039745244561278,
            25.019860088518154,
            39.455693446687164,
            27.321535352904682,
            30.31780651486834,
            12.573526520789473,
            15.008821802752902,
            37.988817903560175,
            3.1977264770182456,
            13.555350298851561,
            3.5535772988144787,
            2.057485696647321,
            23.72489197255483,
            25.905726518102984,
            -0.049607600934990614,
            44.312221984514245,
            9.378352296443829,
            18.50241946088084,
            30.322701798056244,
            28.821367618013763,
            25.72928462141531,
            18.18069435837016,
            21.970881345714687,
            28.156454350498258,
            32.61429649029611,
            null
           ],
           "y": [
            45.565386681545874,
            45.05366061755791,
            46.35592175810034,
            32.05905379580751,
            47.28393730753255,
            31.456987364994728,
            34.167845538700334,
            41.39926162025145,
            30.523269059328186,
            39.91303043863957,
            48.67691635585126,
            36.21792645246228,
            49.91527833476793,
            47.603344842135236,
            45.81113548447709,
            36.913833208623586,
            42.07983225975437,
            37.580041204503345,
            51.51203885361398,
            38.77727204839494,
            50.26474359709672,
            46.83275159513233,
            44.2215730834841,
            42.928967070680564,
            39.18334456447075,
            41.74815349965422,
            53.23948281955508,
            39.23710521891505,
            41.71611682790641,
            44.66052183772808,
            54.103690631976036,
            53.14575568077721,
            55.08403627460173,
            53.54937794282731,
            39.48254372876265,
            49.2227662940403,
            54.06836097418948,
            56.263969533566836,
            53.25939906245995,
            35.91069398537605,
            41.65623575003663,
            41.905400700989,
            39.61971827652344,
            48.47021711265079,
            47.053263396761686,
            48.42591290835785,
            null
           ]
          },
          {
           "type": "scatter",
           "x": [
            null,
            null
           ],
           "y": [
            null,
            null
           ]
          },
          {
           "customdata": [
            "2023-09-07 15:01:02",
            "2023-09-07 15:01:03",
            "2023-09-07 15:01:04",
            "2023-09-07 15:01:05"
           ],
           "hovertemplate": "%{meta}<br>(%{x}, %{y})<br>Time: %{customdata}",
           "meta": [
            "GaussianStateUpdate",
            "GaussianStateUpdate",
            "GaussianStatePrediction",
            "GaussianStateUpdate"
           ],
           "type": "scatter",
           "x": [
            24.808252741464877,
            24.28722730290998,
            23.865608033553055,
            25.298502648302748,
            null
           ],
           "y": [
            46.25695400029111,
            44.71110227768177,
            43.46018279162289,
            42.873394987407465,
            null
           ]
          },
          {
           "customdata": [
            "2023-09-07 15:00:40",
            "2023-09-07 15:00:41",
            "2023-09-07 15:00:42",
            "2023-09-07 15:00:43",
            "2023-09-07 15:00:44",
            "2023-09-07 15:00:45",
            "2023-09-07 15:00:46",
            "2023-09-07 15:00:47",
            "2023-09-07 15:00:48",
            "2023-09-07 15:00:49",
            "2023-09-07 15:00:50",
            "2023-09-07 15:00:51",
            "2023-09-07 15:00:52",
            "2023-09-07 15:00:53",
            "2023-09-07 15:00:54",
            "2023-09-07 15:00:55",
            "2023-09-07 15:00:56",
            "2023-09-07 15:00:57",
            "2023-09-07 15:00:58",
            "2023-09-07 15:00:59",
            "2023-09-07 15:01:00",
            "2023-09-07 15:01:01",
            "2023-09-07 15:01:02",
            "2023-09-07 15:01:03",
            "2023-09-07 15:01:04",
            "2023-09-07 15:01:05"
           ],
           "hovertemplate": "%{meta}<br>(%{x}, %{y})<br>Time: %{customdata}",
           "meta": [
            "GaussianStateUpdate",
            "GaussianStateUpdate",
            "GaussianStateUpdate",
            "GaussianStateUpdate",
            "GaussianStateUpdate",
            "GaussianStatePrediction",
            "GaussianStateUpdate",
            "GaussianStateUpdate",
            "GaussianStateUpdate",
            "GaussianStateUpdate",
            "GaussianStatePrediction",
            "GaussianStateUpdate",
            "GaussianStateUpdate",
            "GaussianStateUpdate",
            "GaussianStateUpdate",
            "GaussianStateUpdate",
            "GaussianStateUpdate",
            "GaussianStateUpdate",
            "GaussianStateUpdate",
            "GaussianStateUpdate",
            "GaussianStateUpdate",
            "GaussianStateUpdate",
            "GaussianStateUpdate",
            "GaussianStatePrediction",
            "GaussianStatePrediction",
            "GaussianStatePrediction"
           ],
           "type": "scatter",
           "x": [
            -0.43005629247898636,
            1.5671309635627815,
            1.7248047174586882,
            1.8905500191617137,
            3.0266606144206634,
            3.7930024690710495,
            5.063871539095284,
            5.749814186180568,
            6.802874669121355,
            8.2129677138972,
            9.367732280484283,
            8.542618402693721,
            8.634368220211687,
            8.669701894529883,
            9.075003246000703,
            9.29501577604749,
            9.413413937498195,
            8.502632005862981,
            7.971735342146178,
            7.79106608746795,
            8.267728552533242,
            8.8391159278272,
            8.748563089055056,
            8.86400725665167,
            8.979451424248284,
            9.094895591844898,
            null
           ],
           "y": [
            41.49312990045806,
            41.3283166972261,
            40.69579995272057,
            40.74242157325732,
            39.9576780440993,
            39.494129937136556,
            39.60146342055227,
            40.16817369119637,
            40.313729365629904,
            40.905811622898376,
            41.23864331164184,
            41.162676656780185,
            42.24148057909349,
            43.0469437062278,
            43.453524571615226,
            45.10875518315963,
            45.9885693493004,
            46.04032141953401,
            47.147697787822864,
            48.23006081378942,
            49.19872167033096,
            50.24570967805816,
            50.9635055877399,
            51.8313661441028,
            52.6992267004657,
            53.5670872568286,
            null
           ]
          },
          {
           "customdata": [
            "2023-09-07 15:00:59",
            "2023-09-07 15:01:00",
            "2023-09-07 15:01:01",
            "2023-09-07 15:01:02",
            "2023-09-07 15:01:03",
            "2023-09-07 15:01:04",
            "2023-09-07 15:01:05"
           ],
           "hovertemplate": "%{meta}<br>(%{x}, %{y})<br>Time: %{customdata}",
           "meta": [
            "GaussianStateUpdate",
            "GaussianStateUpdate",
            "GaussianStateUpdate",
            "GaussianStateUpdate",
            "GaussianStateUpdate",
            "GaussianStatePrediction",
            "GaussianStateUpdate"
           ],
           "type": "scatter",
           "x": [
            34.62154345599989,
            34.285793715002384,
            34.268766551451364,
            35.25199515478764,
            35.241728090713245,
            35.46611855956127,
            35.823886725585425,
            null
           ],
           "y": [
            50.04974583545324,
            49.58436807554751,
            48.332859762710335,
            47.97879829102805,
            47.391708738119306,
            46.778684057935784,
            46.40193603508247,
            null
           ]
          },
          {
           "type": "scatter",
           "x": [
            null
           ],
           "y": [
            null
           ]
          },
          {
           "type": "scatter",
           "x": [
            25.298502648302748,
            25.397523349763855,
            25.492216371417065,
            25.578443173828607,
            25.65243523197099,
            25.710958737850106,
            25.751455933432098,
            25.772156896942928,
            25.772156896942928,
            25.751455933432098,
            25.710958737850106,
            25.65243523197099,
            25.578443173828607,
            25.492216371417065,
            25.397523349763855,
            25.298502648302748,
            25.19948194684164,
            25.10478892518843,
            25.01856212277689,
            24.944570064634505,
            24.88604655875539,
            24.845549363173397,
            24.824848399662567,
            24.824848399662567,
            24.845549363173397,
            24.88604655875539,
            24.944570064634505,
            25.01856212277689,
            25.10478892518843,
            25.19948194684164,
            null,
            null
           ],
           "y": [
            43.3496582560656,
            43.33925076096306,
            43.30848313313212,
            43.25870006554846,
            43.19207731715114,
            43.11152662173653,
            43.02056843121939,
            42.92317805499113,
            42.823611919823804,
            42.72622154359554,
            42.6352633530784,
            42.55471265766379,
            42.48808990926647,
            42.43830684168281,
            42.40753921385187,
            42.39713171874933,
            42.40753921385187,
            42.43830684168281,
            42.48808990926647,
            42.55471265766379,
            42.6352633530784,
            42.72622154359554,
            42.8236119198238,
            42.92317805499113,
            43.02056843121939,
            43.11152662173653,
            43.19207731715114,
            43.25870006554846,
            43.30848313313212,
            43.33925076096306,
            null,
            null
           ]
          },
          {
           "type": "scatter",
           "x": [
            9.094895591844898,
            9.372549489109296,
            9.638068578732023,
            9.879848402394613,
            10.087322021614693,
            10.251421843663469,
            10.364975918879093,
            10.423021389281738,
            10.423021389281738,
            10.364975918879093,
            10.251421843663469,
            10.087322021614694,
            9.879848402394613,
            9.638068578732025,
            9.372549489109296,
            9.094895591844898,
            8.817241694580499,
            8.55172260495777,
            8.309942781295183,
            8.102469162075103,
            7.938369340026328,
            7.824815264810702,
            7.766769794408057,
            7.766769794408057,
            7.824815264810702,
            7.938369340026327,
            8.102469162075103,
            8.309942781295183,
            8.55172260495777,
            8.817241694580497,
            null,
            null
           ],
           "y": [
            54.90252874245324,
            54.873346141912734,
            54.78707375996848,
            54.64748211369226,
            54.46067202786139,
            54.23480799964092,
            53.97976137087994,
            53.706678903104816,
            53.427495610552384,
            53.15441314277726,
            52.89936651401628,
            52.67350248579581,
            52.48669239996494,
            52.34710075368872,
            52.260828371744466,
            52.23164577120396,
            52.260828371744466,
            52.34710075368872,
            52.48669239996494,
            52.67350248579581,
            52.89936651401628,
            53.15441314277726,
            53.427495610552384,
            53.706678903104816,
            53.97976137087994,
            54.23480799964092,
            54.46067202786139,
            54.64748211369226,
            54.78707375996848,
            54.873346141912734,
            null,
            null
           ]
          },
          {
           "type": "scatter",
           "x": [
            35.823886725585425,
            35.91623938734616,
            36.00455579463071,
            36.08497609665161,
            36.153985540311105,
            36.20856808177724,
            36.24633820207184,
            36.265645165696895,
            36.265645165696895,
            36.24633820207184,
            36.20856808177724,
            36.153985540311105,
            36.08497609665161,
            36.00455579463071,
            35.91623938734616,
            35.823886725585425,
            35.73153406382469,
            35.64321765654014,
            35.56279735451924,
            35.493787910859744,
            35.43920536939361,
            35.40143524909901,
            35.382128285473954,
            35.382128285473954,
            35.40143524909901,
            35.43920536939361,
            35.493787910859744,
            35.56279735451924,
            35.64321765654014,
            35.73153406382469,
            null,
            null
           ],
           "y": [
            46.84612780418162,
            46.83642114829251,
            46.807725408065224,
            46.761294725045154,
            46.69915834287939,
            46.624031919632046,
            46.53919884049558,
            46.44836671810255,
            46.355505352062394,
            46.26467322966936,
            46.1798401505329,
            46.10471372728555,
            46.04257734511979,
            45.99614666209972,
            45.967450921872434,
            45.95774426598332,
            45.967450921872434,
            45.99614666209972,
            46.04257734511979,
            46.10471372728555,
            46.1798401505329,
            46.26467322966936,
            46.355505352062394,
            46.44836671810255,
            46.53919884049558,
            46.624031919632046,
            46.69915834287939,
            46.761294725045154,
            46.807725408065224,
            46.8364211482925,
            null,
            null
           ]
          }
         ],
         "name": "2023-09-07 15:01:05",
         "traces": [
          0,
          1,
          2,
          3,
          4,
          5,
          6,
          7,
          8,
          9,
          10,
          11,
          12,
          13,
          14,
          15
         ]
        },
        {
         "data": [
          {
           "type": "scatter",
           "x": [
            0,
            0
           ],
           "y": [
            0,
            0
           ]
          },
          {
           "hovertemplate": "GroundTruthState<br>(%{x}, %{y})<br>Time: %{meta}",
           "meta": [
            "2023-09-07 15:00:40",
            "2023-09-07 15:00:41",
            "2023-09-07 15:00:42",
            "2023-09-07 15:00:43",
            "2023-09-07 15:00:44",
            "2023-09-07 15:00:45",
            "2023-09-07 15:00:46",
            "2023-09-07 15:00:47",
            "2023-09-07 15:00:48",
            "2023-09-07 15:00:49",
            "2023-09-07 15:00:50",
            "2023-09-07 15:00:51",
            "2023-09-07 15:00:52",
            "2023-09-07 15:00:53",
            "2023-09-07 15:00:54",
            "2023-09-07 15:00:55",
            "2023-09-07 15:00:56",
            "2023-09-07 15:00:57",
            "2023-09-07 15:00:58",
            "2023-09-07 15:00:59",
            "2023-09-07 15:01:00",
            "2023-09-07 15:01:01",
            "2023-09-07 15:01:02"
           ],
           "type": "scatter",
           "x": [
            0,
            0.8091562802362998,
            1.4187778862009663,
            1.9340594175080428,
            2.7291599722274826,
            3.736499927988022,
            5.119411483348772,
            6.216732395332771,
            7.088723290570684,
            7.663354901814838,
            8.096722636252593,
            8.358906371025952,
            8.54822310121289,
            8.543882911480415,
            8.661018452611112,
            8.81413676771379,
            8.666475553311493,
            8.457114429626253,
            8.378969059200568,
            8.506472261414322,
            8.76192113749374,
            8.789109668220165,
            8.645151050991842,
            null
           ],
           "y": [
            41.55127793935055,
            41.14739075037148,
            40.71022742116085,
            40.33576258703677,
            40.11469426682165,
            40.0218978369037,
            40.11795936277245,
            40.23397761081491,
            40.45410408807201,
            40.66784873441858,
            41.10916580043645,
            41.59034958414012,
            42.15920554432621,
            42.83722041736732,
            43.80601257101235,
            44.72250861193358,
            45.55082005749288,
            46.478942183204815,
            47.23049024720247,
            48.1829097420305,
            49.16778848572788,
            49.950207045006884,
            50.84956128513592,
            null
           ]
          },
          {
           "hovertemplate": "GroundTruthState<br>(%{x}, %{y})<br>Time: %{meta}",
           "meta": [
            "2023-09-07 15:00:58",
            "2023-09-07 15:00:59",
            "2023-09-07 15:01:00",
            "2023-09-07 15:01:01",
            "2023-09-07 15:01:02",
            "2023-09-07 15:01:03",
            "2023-09-07 15:01:04",
            "2023-09-07 15:01:05",
            "2023-09-07 15:01:06"
           ],
           "type": "scatter",
           "x": [
            24.40294393298363,
            24.37101772209079,
            24.585384850156284,
            25.03868275478802,
            25.1049789512843,
            25.120548589233294,
            25.408274935648077,
            25.597302325430956,
            25.672637855560588,
            null
           ],
           "y": [
            50,
            48.92607580828807,
            47.94386490735651,
            46.9525856518256,
            45.916836511442554,
            44.660383933816995,
            43.38923608926767,
            41.798256079790406,
            40.37683940593047,
            null
           ]
          },
          {
           "hovertemplate": "GroundTruthState<br>(%{x}, %{y})<br>Time: %{meta}",
           "meta": [
            "2023-09-07 15:00:59",
            "2023-09-07 15:01:00",
            "2023-09-07 15:01:01",
            "2023-09-07 15:01:02",
            "2023-09-07 15:01:03",
            "2023-09-07 15:01:04",
            "2023-09-07 15:01:05",
            "2023-09-07 15:01:06"
           ],
           "type": "scatter",
           "x": [
            34.9497917032631,
            34.692784657380166,
            34.62875348769775,
            34.70653825006885,
            35.16602245368285,
            35.84203896849462,
            36.48923137530482,
            37.304433786378794,
            null
           ],
           "y": [
            50,
            49.233094514513525,
            48.65632716274939,
            48.04342569579986,
            47.37584157077364,
            46.67834504620978,
            45.83272536574674,
            44.99090823719139,
            null
           ]
          },
          {
           "hovertemplate": "GroundTruthState<br>(%{x}, %{y})<br>Time: %{meta}",
           "meta": [],
           "type": "scatter",
           "x": [
            null
           ],
           "y": [
            null
           ]
          },
          {
           "type": "scatter",
           "x": [
            null,
            null
           ],
           "y": [
            null,
            null
           ]
          },
          {
           "hovertemplate": "Detection<br>(%{x}, %{y})<br>Time: %{meta}",
           "meta": [
            "2023-09-07 15:00:40",
            "2023-09-07 15:00:41",
            "2023-09-07 15:00:42",
            "2023-09-07 15:00:43",
            "2023-09-07 15:00:44",
            "2023-09-07 15:00:46",
            "2023-09-07 15:00:47",
            "2023-09-07 15:00:48",
            "2023-09-07 15:00:49",
            "2023-09-07 15:00:50",
            "2023-09-07 15:00:51",
            "2023-09-07 15:00:52",
            "2023-09-07 15:00:53",
            "2023-09-07 15:00:54",
            "2023-09-07 15:00:55",
            "2023-09-07 15:00:56",
            "2023-09-07 15:00:57",
            "2023-09-07 15:00:58",
            "2023-09-07 15:00:58",
            "2023-09-07 15:00:59",
            "2023-09-07 15:00:59",
            "2023-09-07 15:00:59",
            "2023-09-07 15:01:00",
            "2023-09-07 15:01:00",
            "2023-09-07 15:01:01",
            "2023-09-07 15:01:01",
            "2023-09-07 15:01:02",
            "2023-09-07 15:01:02",
            "2023-09-07 15:01:02",
            "2023-09-07 15:01:03",
            "2023-09-07 15:01:03",
            "2023-09-07 15:01:04",
            "2023-09-07 15:01:05",
            "2023-09-07 15:01:05",
            "2023-09-07 15:01:06",
            "2023-09-07 15:01:06"
           ],
           "type": "scatter",
           "x": [
            -0.43005629247898636,
            1.9613126588341832,
            1.328760915097623,
            1.6486342541080825,
            3.391167130241921,
            5.198613247790583,
            5.5997844867706466,
            6.935456692747284,
            8.51160294626042,
            6.938136290313291,
            8.00171047550961,
            8.455481513912613,
            8.51568107852356,
            9.22411910733494,
            9.258594731151701,
            9.32950730831503,
            7.804987863094423,
            24.581047874774246,
            7.832277013086065,
            34.62154345599989,
            7.937505079616018,
            24.155956069792705,
            34.219527318752874,
            8.764921493433448,
            9.169878259121589,
            34.33792014141769,
            24.808252741464877,
            35.71409381177726,
            8.508185830477029,
            35.01040999823201,
            24.184393334774143,
            25.495805205839506,
            35.85950727938655,
            25.487965372036413,
            37.36295589502933,
            25.364300083095635,
            null
           ],
           "y": [
            41.49312990045806,
            41.29578777553558,
            40.56025765481257,
            40.943137598599904,
            39.64105359377544,
            39.7539260798625,
            40.62749687000739,
            40.351899248824374,
            41.209034178881836,
            41.088704044823054,
            41.05099188880684,
            42.74592512474356,
            43.20802778630997,
            43.2900108578128,
            45.8069560006637,
            45.87834412006734,
            45.455700324445665,
            49.781697352014895,
            47.498742904408566,
            50.04974583545324,
            48.40541225977234,
            49.01136420875983,
            49.4925172018819,
            49.2219643780955,
            50.30810535810356,
            48.09527774002108,
            46.25695400029111,
            48.2078196986085,
            50.78839562369448,
            47.417274779382694,
            44.40599996400887,
            43.5197927927032,
            46.46503732984592,
            42.9412446802236,
            45.03790399017466,
            40.09552610002099,
            null
           ]
          },
          {
           "hovertemplate": "Clutter<br>(%{x}, %{y})<br>Time: %{meta}",
           "meta": [
            "2023-09-07 15:00:40",
            "2023-09-07 15:00:41",
            "2023-09-07 15:00:41",
            "2023-09-07 15:00:41",
            "2023-09-07 15:00:43",
            "2023-09-07 15:00:45",
            "2023-09-07 15:00:45",
            "2023-09-07 15:00:47",
            "2023-09-07 15:00:47",
            "2023-09-07 15:00:47",
            "2023-09-07 15:00:47",
            "2023-09-07 15:00:47",
            "2023-09-07 15:00:49",
            "2023-09-07 15:00:51",
            "2023-09-07 15:00:54",
            "2023-09-07 15:00:56",
            "2023-09-07 15:00:57",
            "2023-09-07 15:00:57",
            "2023-09-07 15:00:58",
            "2023-09-07 15:00:58",
            "2023-09-07 15:00:58",
            "2023-09-07 15:00:59",
            "2023-09-07 15:00:59",
            "2023-09-07 15:00:59",
            "2023-09-07 15:00:59",
            "2023-09-07 15:00:59",
            "2023-09-07 15:01:00",
            "2023-09-07 15:01:00",
            "2023-09-07 15:01:00",
            "2023-09-07 15:01:00",
            "2023-09-07 15:01:01",
            "2023-09-07 15:01:01",
            "2023-09-07 15:01:01",
            "2023-09-07 15:01:02",
            "2023-09-07 15:01:02",
            "2023-09-07 15:01:02",
            "2023-09-07 15:01:02",
            "2023-09-07 15:01:02",
            "2023-09-07 15:01:02",
            "2023-09-07 15:01:03",
            "2023-09-07 15:01:03",
            "2023-09-07 15:01:03",
            "2023-09-07 15:01:04",
            "2023-09-07 15:01:04",
            "2023-09-07 15:01:04",
            "2023-09-07 15:01:05",
            "2023-09-07 15:01:06"
           ],
           "type": "scatter",
           "x": [
            0.2628629860147935,
            -5.947186089536171,
            7.511234499194794,
            1.2368016066430076,
            -3.9383022083791523,
            9.519502944212656,
            8.816880016344196,
            15.208121856273904,
            14.025710879284519,
            -2.1359261723065925,
            7.05768093084308,
            1.592790739428831,
            0.7285176578468473,
            12.242518424828313,
            3.6747835001110527,
            7.866884907505119,
            12.411475162781779,
            12.833029096254522,
            8.261923541005068,
            5.0831273653651925,
            26.930871334830616,
            27.039745244561278,
            25.019860088518154,
            39.455693446687164,
            27.321535352904682,
            30.31780651486834,
            12.573526520789473,
            15.008821802752902,
            37.988817903560175,
            3.1977264770182456,
            13.555350298851561,
            3.5535772988144787,
            2.057485696647321,
            23.72489197255483,
            25.905726518102984,
            -0.049607600934990614,
            44.312221984514245,
            9.378352296443829,
            18.50241946088084,
            30.322701798056244,
            28.821367618013763,
            25.72928462141531,
            18.18069435837016,
            21.970881345714687,
            28.156454350498258,
            32.61429649029611,
            30.631145124138264,
            null
           ],
           "y": [
            45.565386681545874,
            45.05366061755791,
            46.35592175810034,
            32.05905379580751,
            47.28393730753255,
            31.456987364994728,
            34.167845538700334,
            41.39926162025145,
            30.523269059328186,
            39.91303043863957,
            48.67691635585126,
            36.21792645246228,
            49.91527833476793,
            47.603344842135236,
            45.81113548447709,
            36.913833208623586,
            42.07983225975437,
            37.580041204503345,
            51.51203885361398,
            38.77727204839494,
            50.26474359709672,
            46.83275159513233,
            44.2215730834841,
            42.928967070680564,
            39.18334456447075,
            41.74815349965422,
            53.23948281955508,
            39.23710521891505,
            41.71611682790641,
            44.66052183772808,
            54.103690631976036,
            53.14575568077721,
            55.08403627460173,
            53.54937794282731,
            39.48254372876265,
            49.2227662940403,
            54.06836097418948,
            56.263969533566836,
            53.25939906245995,
            35.91069398537605,
            41.65623575003663,
            41.905400700989,
            39.61971827652344,
            48.47021711265079,
            47.053263396761686,
            48.42591290835785,
            46.873040621337125,
            null
           ]
          },
          {
           "type": "scatter",
           "x": [
            null,
            null
           ],
           "y": [
            null,
            null
           ]
          },
          {
           "customdata": [
            "2023-09-07 15:01:02",
            "2023-09-07 15:01:03",
            "2023-09-07 15:01:04",
            "2023-09-07 15:01:05",
            "2023-09-07 15:01:06"
           ],
           "hovertemplate": "%{meta}<br>(%{x}, %{y})<br>Time: %{customdata}",
           "meta": [
            "GaussianStateUpdate",
            "GaussianStateUpdate",
            "GaussianStatePrediction",
            "GaussianStateUpdate",
            "GaussianStateUpdate"
           ],
           "type": "scatter",
           "x": [
            24.808252741464877,
            24.28722730290998,
            23.865608033553055,
            25.298502648302748,
            25.44756589740006,
            null
           ],
           "y": [
            46.25695400029111,
            44.71110227768177,
            43.46018279162289,
            42.873394987407465,
            40.67460334874732,
            null
           ]
          },
          {
           "customdata": [
            "2023-09-07 15:00:40",
            "2023-09-07 15:00:41",
            "2023-09-07 15:00:42",
            "2023-09-07 15:00:43",
            "2023-09-07 15:00:44",
            "2023-09-07 15:00:45",
            "2023-09-07 15:00:46",
            "2023-09-07 15:00:47",
            "2023-09-07 15:00:48",
            "2023-09-07 15:00:49",
            "2023-09-07 15:00:50",
            "2023-09-07 15:00:51",
            "2023-09-07 15:00:52",
            "2023-09-07 15:00:53",
            "2023-09-07 15:00:54",
            "2023-09-07 15:00:55",
            "2023-09-07 15:00:56",
            "2023-09-07 15:00:57",
            "2023-09-07 15:00:58",
            "2023-09-07 15:00:59",
            "2023-09-07 15:01:00",
            "2023-09-07 15:01:01",
            "2023-09-07 15:01:02",
            "2023-09-07 15:01:03",
            "2023-09-07 15:01:04",
            "2023-09-07 15:01:05"
           ],
           "hovertemplate": "%{meta}<br>(%{x}, %{y})<br>Time: %{customdata}",
           "meta": [
            "GaussianStateUpdate",
            "GaussianStateUpdate",
            "GaussianStateUpdate",
            "GaussianStateUpdate",
            "GaussianStateUpdate",
            "GaussianStatePrediction",
            "GaussianStateUpdate",
            "GaussianStateUpdate",
            "GaussianStateUpdate",
            "GaussianStateUpdate",
            "GaussianStatePrediction",
            "GaussianStateUpdate",
            "GaussianStateUpdate",
            "GaussianStateUpdate",
            "GaussianStateUpdate",
            "GaussianStateUpdate",
            "GaussianStateUpdate",
            "GaussianStateUpdate",
            "GaussianStateUpdate",
            "GaussianStateUpdate",
            "GaussianStateUpdate",
            "GaussianStateUpdate",
            "GaussianStateUpdate",
            "GaussianStatePrediction",
            "GaussianStatePrediction",
            "GaussianStatePrediction"
           ],
           "type": "scatter",
           "x": [
            -0.43005629247898636,
            1.5671309635627815,
            1.7248047174586882,
            1.8905500191617137,
            3.0266606144206634,
            3.7930024690710495,
            5.063871539095284,
            5.749814186180568,
            6.802874669121355,
            8.2129677138972,
            9.367732280484283,
            8.542618402693721,
            8.634368220211687,
            8.669701894529883,
            9.075003246000703,
            9.29501577604749,
            9.413413937498195,
            8.502632005862981,
            7.971735342146178,
            7.79106608746795,
            8.267728552533242,
            8.8391159278272,
            8.748563089055056,
            8.86400725665167,
            8.979451424248284,
            9.094895591844898,
            null
           ],
           "y": [
            41.49312990045806,
            41.3283166972261,
            40.69579995272057,
            40.74242157325732,
            39.9576780440993,
            39.494129937136556,
            39.60146342055227,
            40.16817369119637,
            40.313729365629904,
            40.905811622898376,
            41.23864331164184,
            41.162676656780185,
            42.24148057909349,
            43.0469437062278,
            43.453524571615226,
            45.10875518315963,
            45.9885693493004,
            46.04032141953401,
            47.147697787822864,
            48.23006081378942,
            49.19872167033096,
            50.24570967805816,
            50.9635055877399,
            51.8313661441028,
            52.6992267004657,
            53.5670872568286,
            null
           ]
          },
          {
           "customdata": [
            "2023-09-07 15:00:59",
            "2023-09-07 15:01:00",
            "2023-09-07 15:01:01",
            "2023-09-07 15:01:02",
            "2023-09-07 15:01:03",
            "2023-09-07 15:01:04",
            "2023-09-07 15:01:05",
            "2023-09-07 15:01:06"
           ],
           "hovertemplate": "%{meta}<br>(%{x}, %{y})<br>Time: %{customdata}",
           "meta": [
            "GaussianStateUpdate",
            "GaussianStateUpdate",
            "GaussianStateUpdate",
            "GaussianStateUpdate",
            "GaussianStateUpdate",
            "GaussianStatePrediction",
            "GaussianStateUpdate",
            "GaussianStateUpdate"
           ],
           "type": "scatter",
           "x": [
            34.62154345599989,
            34.285793715002384,
            34.268766551451364,
            35.25199515478764,
            35.241728090713245,
            35.46611855956127,
            35.823886725585425,
            36.908212632501446,
            null
           ],
           "y": [
            50.04974583545324,
            49.58436807554751,
            48.332859762710335,
            47.97879829102805,
            47.391708738119306,
            46.778684057935784,
            46.40193603508247,
            45.339300697596954,
            null
           ]
          },
          {
           "type": "scatter",
           "x": [
            null
           ],
           "y": [
            null
           ]
          },
          {
           "type": "scatter",
           "x": [
            25.44756589740006,
            25.533112898664967,
            25.614921085474542,
            25.689415047505975,
            25.753339041156796,
            25.803899281163112,
            25.838886042421702,
            25.856770235580456,
            25.856770235580456,
            25.838886042421702,
            25.803899281163112,
            25.753339041156796,
            25.689415047505975,
            25.614921085474542,
            25.533112898664967,
            25.44756589740006,
            25.362018896135154,
            25.28021070932558,
            25.205716747294147,
            25.141792753643326,
            25.09123251363701,
            25.05624575237842,
            25.038361559219666,
            25.038361559219666,
            25.05624575237842,
            25.09123251363701,
            25.141792753643326,
            25.205716747294147,
            25.28021070932558,
            25.362018896135154,
            null,
            null
           ],
           "y": [
            41.08606169882101,
            41.07707034667379,
            41.05048925546626,
            41.00748014643442,
            40.949922724023544,
            40.88033252378417,
            40.80175097139757,
            40.71761245777917,
            40.63159423971547,
            40.54745572609707,
            40.46887417371047,
            40.39928397347109,
            40.34172655106022,
            40.29871744202838,
            40.272136350820844,
            40.263144998673624,
            40.272136350820844,
            40.29871744202838,
            40.34172655106022,
            40.39928397347109,
            40.46887417371047,
            40.54745572609707,
            40.63159423971547,
            40.71761245777917,
            40.80175097139757,
            40.88033252378417,
            40.949922724023544,
            41.00748014643442,
            41.05048925546626,
            41.07707034667379,
            null,
            null
           ]
          },
          {
           "type": "scatter",
           "x": [
            null
           ],
           "y": [
            null
           ]
          },
          {
           "type": "scatter",
           "x": [
            36.908212632501446,
            36.991415507508414,
            37.07098201762589,
            37.143434724559256,
            37.205607097348874,
            37.254781904967686,
            37.28880997235584,
            37.306204109683705,
            37.306204109683705,
            37.28880997235584,
            37.254781904967686,
            37.205607097348874,
            37.143434724559256,
            37.07098201762589,
            36.991415507508414,
            36.908212632501446,
            36.82500975749448,
            36.745443247377004,
            36.672990540443635,
            36.61081816765402,
            36.561643360035205,
            36.52761529264705,
            36.510221155319186,
            36.510221155319186,
            36.52761529264705,
            36.561643360035205,
            36.61081816765402,
            36.672990540443635,
            36.745443247377004,
            36.82500975749448,
            null,
            null
           ],
           "y": [
            45.73948442309943,
            45.73073944854991,
            45.70488672225223,
            45.66305613240073,
            45.60707587649737,
            45.53939256034819,
            45.4629642696495,
            45.381131287448454,
            45.297470107745454,
            45.21563712554441,
            45.13920883484572,
            45.07152551869654,
            45.015545262793175,
            44.973714672941675,
            44.947861946644,
            44.93911697209448,
            44.947861946644,
            44.973714672941675,
            45.015545262793175,
            45.07152551869654,
            45.13920883484572,
            45.21563712554441,
            45.297470107745454,
            45.381131287448454,
            45.4629642696495,
            45.53939256034819,
            45.60707587649737,
            45.66305613240073,
            45.70488672225223,
            45.73073944854991,
            null,
            null
           ]
          }
         ],
         "name": "2023-09-07 15:01:06",
         "traces": [
          0,
          1,
          2,
          3,
          4,
          5,
          6,
          7,
          8,
          9,
          10,
          11,
          12,
          13,
          14,
          15
         ]
        },
        {
         "data": [
          {
           "type": "scatter",
           "x": [
            0,
            0
           ],
           "y": [
            0,
            0
           ]
          },
          {
           "hovertemplate": "GroundTruthState<br>(%{x}, %{y})<br>Time: %{meta}",
           "meta": [
            "2023-09-07 15:00:40",
            "2023-09-07 15:00:41",
            "2023-09-07 15:00:42",
            "2023-09-07 15:00:43",
            "2023-09-07 15:00:44",
            "2023-09-07 15:00:45",
            "2023-09-07 15:00:46",
            "2023-09-07 15:00:47",
            "2023-09-07 15:00:48",
            "2023-09-07 15:00:49",
            "2023-09-07 15:00:50",
            "2023-09-07 15:00:51",
            "2023-09-07 15:00:52",
            "2023-09-07 15:00:53",
            "2023-09-07 15:00:54",
            "2023-09-07 15:00:55",
            "2023-09-07 15:00:56",
            "2023-09-07 15:00:57",
            "2023-09-07 15:00:58",
            "2023-09-07 15:00:59",
            "2023-09-07 15:01:00",
            "2023-09-07 15:01:01",
            "2023-09-07 15:01:02"
           ],
           "type": "scatter",
           "x": [
            0,
            0.8091562802362998,
            1.4187778862009663,
            1.9340594175080428,
            2.7291599722274826,
            3.736499927988022,
            5.119411483348772,
            6.216732395332771,
            7.088723290570684,
            7.663354901814838,
            8.096722636252593,
            8.358906371025952,
            8.54822310121289,
            8.543882911480415,
            8.661018452611112,
            8.81413676771379,
            8.666475553311493,
            8.457114429626253,
            8.378969059200568,
            8.506472261414322,
            8.76192113749374,
            8.789109668220165,
            8.645151050991842,
            null
           ],
           "y": [
            41.55127793935055,
            41.14739075037148,
            40.71022742116085,
            40.33576258703677,
            40.11469426682165,
            40.0218978369037,
            40.11795936277245,
            40.23397761081491,
            40.45410408807201,
            40.66784873441858,
            41.10916580043645,
            41.59034958414012,
            42.15920554432621,
            42.83722041736732,
            43.80601257101235,
            44.72250861193358,
            45.55082005749288,
            46.478942183204815,
            47.23049024720247,
            48.1829097420305,
            49.16778848572788,
            49.950207045006884,
            50.84956128513592,
            null
           ]
          },
          {
           "hovertemplate": "GroundTruthState<br>(%{x}, %{y})<br>Time: %{meta}",
           "meta": [
            "2023-09-07 15:00:58",
            "2023-09-07 15:00:59",
            "2023-09-07 15:01:00",
            "2023-09-07 15:01:01",
            "2023-09-07 15:01:02",
            "2023-09-07 15:01:03",
            "2023-09-07 15:01:04",
            "2023-09-07 15:01:05",
            "2023-09-07 15:01:06",
            "2023-09-07 15:01:07"
           ],
           "type": "scatter",
           "x": [
            24.40294393298363,
            24.37101772209079,
            24.585384850156284,
            25.03868275478802,
            25.1049789512843,
            25.120548589233294,
            25.408274935648077,
            25.597302325430956,
            25.672637855560588,
            25.80173268410434,
            null
           ],
           "y": [
            50,
            48.92607580828807,
            47.94386490735651,
            46.9525856518256,
            45.916836511442554,
            44.660383933816995,
            43.38923608926767,
            41.798256079790406,
            40.37683940593047,
            39.10834475444106,
            null
           ]
          },
          {
           "hovertemplate": "GroundTruthState<br>(%{x}, %{y})<br>Time: %{meta}",
           "meta": [
            "2023-09-07 15:00:59",
            "2023-09-07 15:01:00",
            "2023-09-07 15:01:01",
            "2023-09-07 15:01:02",
            "2023-09-07 15:01:03",
            "2023-09-07 15:01:04",
            "2023-09-07 15:01:05",
            "2023-09-07 15:01:06",
            "2023-09-07 15:01:07"
           ],
           "type": "scatter",
           "x": [
            34.9497917032631,
            34.692784657380166,
            34.62875348769775,
            34.70653825006885,
            35.16602245368285,
            35.84203896849462,
            36.48923137530482,
            37.304433786378794,
            38.273117794667684,
            null
           ],
           "y": [
            50,
            49.233094514513525,
            48.65632716274939,
            48.04342569579986,
            47.37584157077364,
            46.67834504620978,
            45.83272536574674,
            44.99090823719139,
            44.11358671702823,
            null
           ]
          },
          {
           "hovertemplate": "GroundTruthState<br>(%{x}, %{y})<br>Time: %{meta}",
           "meta": [],
           "type": "scatter",
           "x": [
            null
           ],
           "y": [
            null
           ]
          },
          {
           "type": "scatter",
           "x": [
            null,
            null
           ],
           "y": [
            null,
            null
           ]
          },
          {
           "hovertemplate": "Detection<br>(%{x}, %{y})<br>Time: %{meta}",
           "meta": [
            "2023-09-07 15:00:40",
            "2023-09-07 15:00:41",
            "2023-09-07 15:00:42",
            "2023-09-07 15:00:43",
            "2023-09-07 15:00:44",
            "2023-09-07 15:00:46",
            "2023-09-07 15:00:47",
            "2023-09-07 15:00:48",
            "2023-09-07 15:00:49",
            "2023-09-07 15:00:50",
            "2023-09-07 15:00:51",
            "2023-09-07 15:00:52",
            "2023-09-07 15:00:53",
            "2023-09-07 15:00:54",
            "2023-09-07 15:00:55",
            "2023-09-07 15:00:56",
            "2023-09-07 15:00:57",
            "2023-09-07 15:00:58",
            "2023-09-07 15:00:58",
            "2023-09-07 15:00:59",
            "2023-09-07 15:00:59",
            "2023-09-07 15:00:59",
            "2023-09-07 15:01:00",
            "2023-09-07 15:01:00",
            "2023-09-07 15:01:01",
            "2023-09-07 15:01:01",
            "2023-09-07 15:01:02",
            "2023-09-07 15:01:02",
            "2023-09-07 15:01:02",
            "2023-09-07 15:01:03",
            "2023-09-07 15:01:03",
            "2023-09-07 15:01:04",
            "2023-09-07 15:01:05",
            "2023-09-07 15:01:05",
            "2023-09-07 15:01:06",
            "2023-09-07 15:01:06",
            "2023-09-07 15:01:07"
           ],
           "type": "scatter",
           "x": [
            -0.43005629247898636,
            1.9613126588341832,
            1.328760915097623,
            1.6486342541080825,
            3.391167130241921,
            5.198613247790583,
            5.5997844867706466,
            6.935456692747284,
            8.51160294626042,
            6.938136290313291,
            8.00171047550961,
            8.455481513912613,
            8.51568107852356,
            9.22411910733494,
            9.258594731151701,
            9.32950730831503,
            7.804987863094423,
            24.581047874774246,
            7.832277013086065,
            34.62154345599989,
            7.937505079616018,
            24.155956069792705,
            34.219527318752874,
            8.764921493433448,
            9.169878259121589,
            34.33792014141769,
            24.808252741464877,
            35.71409381177726,
            8.508185830477029,
            35.01040999823201,
            24.184393334774143,
            25.495805205839506,
            35.85950727938655,
            25.487965372036413,
            37.36295589502933,
            25.364300083095635,
            38.81490747362937,
            null
           ],
           "y": [
            41.49312990045806,
            41.29578777553558,
            40.56025765481257,
            40.943137598599904,
            39.64105359377544,
            39.7539260798625,
            40.62749687000739,
            40.351899248824374,
            41.209034178881836,
            41.088704044823054,
            41.05099188880684,
            42.74592512474356,
            43.20802778630997,
            43.2900108578128,
            45.8069560006637,
            45.87834412006734,
            45.455700324445665,
            49.781697352014895,
            47.498742904408566,
            50.04974583545324,
            48.40541225977234,
            49.01136420875983,
            49.4925172018819,
            49.2219643780955,
            50.30810535810356,
            48.09527774002108,
            46.25695400029111,
            48.2078196986085,
            50.78839562369448,
            47.417274779382694,
            44.40599996400887,
            43.5197927927032,
            46.46503732984592,
            42.9412446802236,
            45.03790399017466,
            40.09552610002099,
            43.439230732975716,
            null
           ]
          },
          {
           "hovertemplate": "Clutter<br>(%{x}, %{y})<br>Time: %{meta}",
           "meta": [
            "2023-09-07 15:00:40",
            "2023-09-07 15:00:41",
            "2023-09-07 15:00:41",
            "2023-09-07 15:00:41",
            "2023-09-07 15:00:43",
            "2023-09-07 15:00:45",
            "2023-09-07 15:00:45",
            "2023-09-07 15:00:47",
            "2023-09-07 15:00:47",
            "2023-09-07 15:00:47",
            "2023-09-07 15:00:47",
            "2023-09-07 15:00:47",
            "2023-09-07 15:00:49",
            "2023-09-07 15:00:51",
            "2023-09-07 15:00:54",
            "2023-09-07 15:00:56",
            "2023-09-07 15:00:57",
            "2023-09-07 15:00:57",
            "2023-09-07 15:00:58",
            "2023-09-07 15:00:58",
            "2023-09-07 15:00:58",
            "2023-09-07 15:00:59",
            "2023-09-07 15:00:59",
            "2023-09-07 15:00:59",
            "2023-09-07 15:00:59",
            "2023-09-07 15:00:59",
            "2023-09-07 15:01:00",
            "2023-09-07 15:01:00",
            "2023-09-07 15:01:00",
            "2023-09-07 15:01:00",
            "2023-09-07 15:01:01",
            "2023-09-07 15:01:01",
            "2023-09-07 15:01:01",
            "2023-09-07 15:01:02",
            "2023-09-07 15:01:02",
            "2023-09-07 15:01:02",
            "2023-09-07 15:01:02",
            "2023-09-07 15:01:02",
            "2023-09-07 15:01:02",
            "2023-09-07 15:01:03",
            "2023-09-07 15:01:03",
            "2023-09-07 15:01:03",
            "2023-09-07 15:01:04",
            "2023-09-07 15:01:04",
            "2023-09-07 15:01:04",
            "2023-09-07 15:01:05",
            "2023-09-07 15:01:06",
            "2023-09-07 15:01:07",
            "2023-09-07 15:01:07",
            "2023-09-07 15:01:07"
           ],
           "type": "scatter",
           "x": [
            0.2628629860147935,
            -5.947186089536171,
            7.511234499194794,
            1.2368016066430076,
            -3.9383022083791523,
            9.519502944212656,
            8.816880016344196,
            15.208121856273904,
            14.025710879284519,
            -2.1359261723065925,
            7.05768093084308,
            1.592790739428831,
            0.7285176578468473,
            12.242518424828313,
            3.6747835001110527,
            7.866884907505119,
            12.411475162781779,
            12.833029096254522,
            8.261923541005068,
            5.0831273653651925,
            26.930871334830616,
            27.039745244561278,
            25.019860088518154,
            39.455693446687164,
            27.321535352904682,
            30.31780651486834,
            12.573526520789473,
            15.008821802752902,
            37.988817903560175,
            3.1977264770182456,
            13.555350298851561,
            3.5535772988144787,
            2.057485696647321,
            23.72489197255483,
            25.905726518102984,
            -0.049607600934990614,
            44.312221984514245,
            9.378352296443829,
            18.50241946088084,
            30.322701798056244,
            28.821367618013763,
            25.72928462141531,
            18.18069435837016,
            21.970881345714687,
            28.156454350498258,
            32.61429649029611,
            30.631145124138264,
            33.37364391128446,
            35.236020391599894,
            30.857949385414095,
            null
           ],
           "y": [
            45.565386681545874,
            45.05366061755791,
            46.35592175810034,
            32.05905379580751,
            47.28393730753255,
            31.456987364994728,
            34.167845538700334,
            41.39926162025145,
            30.523269059328186,
            39.91303043863957,
            48.67691635585126,
            36.21792645246228,
            49.91527833476793,
            47.603344842135236,
            45.81113548447709,
            36.913833208623586,
            42.07983225975437,
            37.580041204503345,
            51.51203885361398,
            38.77727204839494,
            50.26474359709672,
            46.83275159513233,
            44.2215730834841,
            42.928967070680564,
            39.18334456447075,
            41.74815349965422,
            53.23948281955508,
            39.23710521891505,
            41.71611682790641,
            44.66052183772808,
            54.103690631976036,
            53.14575568077721,
            55.08403627460173,
            53.54937794282731,
            39.48254372876265,
            49.2227662940403,
            54.06836097418948,
            56.263969533566836,
            53.25939906245995,
            35.91069398537605,
            41.65623575003663,
            41.905400700989,
            39.61971827652344,
            48.47021711265079,
            47.053263396761686,
            48.42591290835785,
            46.873040621337125,
            35.83422888376544,
            40.8472753333875,
            45.24876042326029,
            null
           ]
          },
          {
           "type": "scatter",
           "x": [
            null,
            null
           ],
           "y": [
            null,
            null
           ]
          },
          {
           "customdata": [
            "2023-09-07 15:01:02",
            "2023-09-07 15:01:03",
            "2023-09-07 15:01:04",
            "2023-09-07 15:01:05",
            "2023-09-07 15:01:06",
            "2023-09-07 15:01:07"
           ],
           "hovertemplate": "%{meta}<br>(%{x}, %{y})<br>Time: %{customdata}",
           "meta": [
            "GaussianStateUpdate",
            "GaussianStateUpdate",
            "GaussianStatePrediction",
            "GaussianStateUpdate",
            "GaussianStateUpdate",
            "GaussianStatePrediction"
           ],
           "type": "scatter",
           "x": [
            24.808252741464877,
            24.28722730290998,
            23.865608033553055,
            25.298502648302748,
            25.44756589740006,
            25.699765066300532,
            null
           ],
           "y": [
            46.25695400029111,
            44.71110227768177,
            43.46018279162289,
            42.873394987407465,
            40.67460334874732,
            39.19307683483714,
            null
           ]
          },
          {
           "customdata": [
            "2023-09-07 15:00:40",
            "2023-09-07 15:00:41",
            "2023-09-07 15:00:42",
            "2023-09-07 15:00:43",
            "2023-09-07 15:00:44",
            "2023-09-07 15:00:45",
            "2023-09-07 15:00:46",
            "2023-09-07 15:00:47",
            "2023-09-07 15:00:48",
            "2023-09-07 15:00:49",
            "2023-09-07 15:00:50",
            "2023-09-07 15:00:51",
            "2023-09-07 15:00:52",
            "2023-09-07 15:00:53",
            "2023-09-07 15:00:54",
            "2023-09-07 15:00:55",
            "2023-09-07 15:00:56",
            "2023-09-07 15:00:57",
            "2023-09-07 15:00:58",
            "2023-09-07 15:00:59",
            "2023-09-07 15:01:00",
            "2023-09-07 15:01:01",
            "2023-09-07 15:01:02",
            "2023-09-07 15:01:03",
            "2023-09-07 15:01:04",
            "2023-09-07 15:01:05"
           ],
           "hovertemplate": "%{meta}<br>(%{x}, %{y})<br>Time: %{customdata}",
           "meta": [
            "GaussianStateUpdate",
            "GaussianStateUpdate",
            "GaussianStateUpdate",
            "GaussianStateUpdate",
            "GaussianStateUpdate",
            "GaussianStatePrediction",
            "GaussianStateUpdate",
            "GaussianStateUpdate",
            "GaussianStateUpdate",
            "GaussianStateUpdate",
            "GaussianStatePrediction",
            "GaussianStateUpdate",
            "GaussianStateUpdate",
            "GaussianStateUpdate",
            "GaussianStateUpdate",
            "GaussianStateUpdate",
            "GaussianStateUpdate",
            "GaussianStateUpdate",
            "GaussianStateUpdate",
            "GaussianStateUpdate",
            "GaussianStateUpdate",
            "GaussianStateUpdate",
            "GaussianStateUpdate",
            "GaussianStatePrediction",
            "GaussianStatePrediction",
            "GaussianStatePrediction"
           ],
           "type": "scatter",
           "x": [
            -0.43005629247898636,
            1.5671309635627815,
            1.7248047174586882,
            1.8905500191617137,
            3.0266606144206634,
            3.7930024690710495,
            5.063871539095284,
            5.749814186180568,
            6.802874669121355,
            8.2129677138972,
            9.367732280484283,
            8.542618402693721,
            8.634368220211687,
            8.669701894529883,
            9.075003246000703,
            9.29501577604749,
            9.413413937498195,
            8.502632005862981,
            7.971735342146178,
            7.79106608746795,
            8.267728552533242,
            8.8391159278272,
            8.748563089055056,
            8.86400725665167,
            8.979451424248284,
            9.094895591844898,
            null
           ],
           "y": [
            41.49312990045806,
            41.3283166972261,
            40.69579995272057,
            40.74242157325732,
            39.9576780440993,
            39.494129937136556,
            39.60146342055227,
            40.16817369119637,
            40.313729365629904,
            40.905811622898376,
            41.23864331164184,
            41.162676656780185,
            42.24148057909349,
            43.0469437062278,
            43.453524571615226,
            45.10875518315963,
            45.9885693493004,
            46.04032141953401,
            47.147697787822864,
            48.23006081378942,
            49.19872167033096,
            50.24570967805816,
            50.9635055877399,
            51.8313661441028,
            52.6992267004657,
            53.5670872568286,
            null
           ]
          },
          {
           "customdata": [
            "2023-09-07 15:00:59",
            "2023-09-07 15:01:00",
            "2023-09-07 15:01:01",
            "2023-09-07 15:01:02",
            "2023-09-07 15:01:03",
            "2023-09-07 15:01:04",
            "2023-09-07 15:01:05",
            "2023-09-07 15:01:06",
            "2023-09-07 15:01:07"
           ],
           "hovertemplate": "%{meta}<br>(%{x}, %{y})<br>Time: %{customdata}",
           "meta": [
            "GaussianStateUpdate",
            "GaussianStateUpdate",
            "GaussianStateUpdate",
            "GaussianStateUpdate",
            "GaussianStateUpdate",
            "GaussianStatePrediction",
            "GaussianStateUpdate",
            "GaussianStateUpdate",
            "GaussianStateUpdate"
           ],
           "type": "scatter",
           "x": [
            34.62154345599989,
            34.285793715002384,
            34.268766551451364,
            35.25199515478764,
            35.241728090713245,
            35.46611855956127,
            35.823886725585425,
            36.908212632501446,
            38.31187561793434,
            null
           ],
           "y": [
            50.04974583545324,
            49.58436807554751,
            48.332859762710335,
            47.97879829102805,
            47.391708738119306,
            46.778684057935784,
            46.40193603508247,
            45.339300697596954,
            43.8858444435431,
            null
           ]
          },
          {
           "type": "scatter",
           "x": [
            null
           ],
           "y": [
            null
           ]
          },
          {
           "type": "scatter",
           "x": [
            25.699765066300532,
            25.8334922627433,
            25.961374939007236,
            26.07782400849044,
            26.177750088071864,
            26.256785928575276,
            26.311477284514634,
            26.33943388119714,
            26.33943388119714,
            26.311477284514634,
            26.256785928575276,
            26.177750088071864,
            26.07782400849044,
            25.961374939007236,
            25.8334922627433,
            25.699765066300532,
            25.566037869857766,
            25.43815519359383,
            25.321706124110626,
            25.2217800445292,
            25.14274420402579,
            25.08805284808643,
            25.060096251403923,
            25.060096251403923,
            25.08805284808643,
            25.14274420402579,
            25.2217800445292,
            25.321706124110626,
            25.43815519359383,
            25.566037869857766,
            null,
            null
           ],
           "y": [
            39.83626912439426,
            39.82221382967793,
            39.7806622293528,
            39.713430327739786,
            39.623456481553845,
            39.5146729796157,
            39.391834182961226,
            39.26030873645015,
            39.12584493322413,
            38.99431948671306,
            38.87148069005858,
            38.76269718812044,
            38.6727233419345,
            38.60549144032149,
            38.56393983999636,
            38.54988454528002,
            38.56393983999636,
            38.60549144032149,
            38.6727233419345,
            38.76269718812044,
            38.87148069005858,
            38.99431948671306,
            39.12584493322413,
            39.26030873645015,
            39.391834182961226,
            39.5146729796157,
            39.623456481553845,
            39.713430327739786,
            39.7806622293528,
            39.82221382967793,
            null,
            null
           ]
          },
          {
           "type": "scatter",
           "x": [
            null
           ],
           "y": [
            null
           ]
          },
          {
           "type": "scatter",
           "x": [
            38.31187561793434,
            38.393253401990506,
            38.47107458638949,
            38.541938011945575,
            38.60274660692152,
            38.65084274392486,
            38.684124390977686,
            38.70113698040072,
            38.70113698040072,
            38.684124390977686,
            38.65084274392486,
            38.60274660692152,
            38.541938011945575,
            38.47107458638949,
            38.393253401990506,
            38.31187561793434,
            38.230497833878175,
            38.15267664947919,
            38.081813223923106,
            38.02100462894716,
            37.97290849194382,
            37.939626844890995,
            37.92261425546796,
            37.92261425546796,
            37.939626844890995,
            37.97290849194382,
            38.02100462894716,
            38.081813223923106,
            38.15267664947919,
            38.230497833878175,
            null,
            null
           ],
           "y": [
            44.27724996641722,
            44.26869681665638,
            44.24341118106098,
            44.20249816324048,
            44.147745858396064,
            44.08154720498016,
            44.006795401803416,
            43.92675746136361,
            43.84493142572259,
            43.764893485282784,
            43.69014168210604,
            43.623943028690135,
            43.56919072384572,
            43.52827770602522,
            43.50299207042982,
            43.494438920668976,
            43.50299207042982,
            43.52827770602522,
            43.56919072384572,
            43.623943028690135,
            43.69014168210604,
            43.764893485282784,
            43.84493142572259,
            43.92675746136361,
            44.006795401803416,
            44.08154720498016,
            44.147745858396064,
            44.20249816324048,
            44.24341118106098,
            44.26869681665638,
            null,
            null
           ]
          }
         ],
         "name": "2023-09-07 15:01:07",
         "traces": [
          0,
          1,
          2,
          3,
          4,
          5,
          6,
          7,
          8,
          9,
          10,
          11,
          12,
          13,
          14,
          15
         ]
        },
        {
         "data": [
          {
           "type": "scatter",
           "x": [
            0,
            0
           ],
           "y": [
            0,
            0
           ]
          },
          {
           "hovertemplate": "GroundTruthState<br>(%{x}, %{y})<br>Time: %{meta}",
           "meta": [
            "2023-09-07 15:00:40",
            "2023-09-07 15:00:41",
            "2023-09-07 15:00:42",
            "2023-09-07 15:00:43",
            "2023-09-07 15:00:44",
            "2023-09-07 15:00:45",
            "2023-09-07 15:00:46",
            "2023-09-07 15:00:47",
            "2023-09-07 15:00:48",
            "2023-09-07 15:00:49",
            "2023-09-07 15:00:50",
            "2023-09-07 15:00:51",
            "2023-09-07 15:00:52",
            "2023-09-07 15:00:53",
            "2023-09-07 15:00:54",
            "2023-09-07 15:00:55",
            "2023-09-07 15:00:56",
            "2023-09-07 15:00:57",
            "2023-09-07 15:00:58",
            "2023-09-07 15:00:59",
            "2023-09-07 15:01:00",
            "2023-09-07 15:01:01",
            "2023-09-07 15:01:02"
           ],
           "type": "scatter",
           "x": [
            0,
            0.8091562802362998,
            1.4187778862009663,
            1.9340594175080428,
            2.7291599722274826,
            3.736499927988022,
            5.119411483348772,
            6.216732395332771,
            7.088723290570684,
            7.663354901814838,
            8.096722636252593,
            8.358906371025952,
            8.54822310121289,
            8.543882911480415,
            8.661018452611112,
            8.81413676771379,
            8.666475553311493,
            8.457114429626253,
            8.378969059200568,
            8.506472261414322,
            8.76192113749374,
            8.789109668220165,
            8.645151050991842,
            null
           ],
           "y": [
            41.55127793935055,
            41.14739075037148,
            40.71022742116085,
            40.33576258703677,
            40.11469426682165,
            40.0218978369037,
            40.11795936277245,
            40.23397761081491,
            40.45410408807201,
            40.66784873441858,
            41.10916580043645,
            41.59034958414012,
            42.15920554432621,
            42.83722041736732,
            43.80601257101235,
            44.72250861193358,
            45.55082005749288,
            46.478942183204815,
            47.23049024720247,
            48.1829097420305,
            49.16778848572788,
            49.950207045006884,
            50.84956128513592,
            null
           ]
          },
          {
           "hovertemplate": "GroundTruthState<br>(%{x}, %{y})<br>Time: %{meta}",
           "meta": [
            "2023-09-07 15:00:58",
            "2023-09-07 15:00:59",
            "2023-09-07 15:01:00",
            "2023-09-07 15:01:01",
            "2023-09-07 15:01:02",
            "2023-09-07 15:01:03",
            "2023-09-07 15:01:04",
            "2023-09-07 15:01:05",
            "2023-09-07 15:01:06",
            "2023-09-07 15:01:07",
            "2023-09-07 15:01:08"
           ],
           "type": "scatter",
           "x": [
            24.40294393298363,
            24.37101772209079,
            24.585384850156284,
            25.03868275478802,
            25.1049789512843,
            25.120548589233294,
            25.408274935648077,
            25.597302325430956,
            25.672637855560588,
            25.80173268410434,
            26.38411337439661,
            null
           ],
           "y": [
            50,
            48.92607580828807,
            47.94386490735651,
            46.9525856518256,
            45.916836511442554,
            44.660383933816995,
            43.38923608926767,
            41.798256079790406,
            40.37683940593047,
            39.10834475444106,
            37.99258063423742,
            null
           ]
          },
          {
           "hovertemplate": "GroundTruthState<br>(%{x}, %{y})<br>Time: %{meta}",
           "meta": [
            "2023-09-07 15:00:59",
            "2023-09-07 15:01:00",
            "2023-09-07 15:01:01",
            "2023-09-07 15:01:02",
            "2023-09-07 15:01:03",
            "2023-09-07 15:01:04",
            "2023-09-07 15:01:05",
            "2023-09-07 15:01:06",
            "2023-09-07 15:01:07",
            "2023-09-07 15:01:08"
           ],
           "type": "scatter",
           "x": [
            34.9497917032631,
            34.692784657380166,
            34.62875348769775,
            34.70653825006885,
            35.16602245368285,
            35.84203896849462,
            36.48923137530482,
            37.304433786378794,
            38.273117794667684,
            39.27302578813828,
            null
           ],
           "y": [
            50,
            49.233094514513525,
            48.65632716274939,
            48.04342569579986,
            47.37584157077364,
            46.67834504620978,
            45.83272536574674,
            44.99090823719139,
            44.11358671702823,
            43.045507500400134,
            null
           ]
          },
          {
           "hovertemplate": "GroundTruthState<br>(%{x}, %{y})<br>Time: %{meta}",
           "meta": [],
           "type": "scatter",
           "x": [
            null
           ],
           "y": [
            null
           ]
          },
          {
           "type": "scatter",
           "x": [
            null,
            null
           ],
           "y": [
            null,
            null
           ]
          },
          {
           "hovertemplate": "Detection<br>(%{x}, %{y})<br>Time: %{meta}",
           "meta": [
            "2023-09-07 15:00:40",
            "2023-09-07 15:00:41",
            "2023-09-07 15:00:42",
            "2023-09-07 15:00:43",
            "2023-09-07 15:00:44",
            "2023-09-07 15:00:46",
            "2023-09-07 15:00:47",
            "2023-09-07 15:00:48",
            "2023-09-07 15:00:49",
            "2023-09-07 15:00:50",
            "2023-09-07 15:00:51",
            "2023-09-07 15:00:52",
            "2023-09-07 15:00:53",
            "2023-09-07 15:00:54",
            "2023-09-07 15:00:55",
            "2023-09-07 15:00:56",
            "2023-09-07 15:00:57",
            "2023-09-07 15:00:58",
            "2023-09-07 15:00:58",
            "2023-09-07 15:00:59",
            "2023-09-07 15:00:59",
            "2023-09-07 15:00:59",
            "2023-09-07 15:01:00",
            "2023-09-07 15:01:00",
            "2023-09-07 15:01:01",
            "2023-09-07 15:01:01",
            "2023-09-07 15:01:02",
            "2023-09-07 15:01:02",
            "2023-09-07 15:01:02",
            "2023-09-07 15:01:03",
            "2023-09-07 15:01:03",
            "2023-09-07 15:01:04",
            "2023-09-07 15:01:05",
            "2023-09-07 15:01:05",
            "2023-09-07 15:01:06",
            "2023-09-07 15:01:06",
            "2023-09-07 15:01:07",
            "2023-09-07 15:01:08"
           ],
           "type": "scatter",
           "x": [
            -0.43005629247898636,
            1.9613126588341832,
            1.328760915097623,
            1.6486342541080825,
            3.391167130241921,
            5.198613247790583,
            5.5997844867706466,
            6.935456692747284,
            8.51160294626042,
            6.938136290313291,
            8.00171047550961,
            8.455481513912613,
            8.51568107852356,
            9.22411910733494,
            9.258594731151701,
            9.32950730831503,
            7.804987863094423,
            24.581047874774246,
            7.832277013086065,
            34.62154345599989,
            7.937505079616018,
            24.155956069792705,
            34.219527318752874,
            8.764921493433448,
            9.169878259121589,
            34.33792014141769,
            24.808252741464877,
            35.71409381177726,
            8.508185830477029,
            35.01040999823201,
            24.184393334774143,
            25.495805205839506,
            35.85950727938655,
            25.487965372036413,
            37.36295589502933,
            25.364300083095635,
            38.81490747362937,
            26.92650992023429,
            null
           ],
           "y": [
            41.49312990045806,
            41.29578777553558,
            40.56025765481257,
            40.943137598599904,
            39.64105359377544,
            39.7539260798625,
            40.62749687000739,
            40.351899248824374,
            41.209034178881836,
            41.088704044823054,
            41.05099188880684,
            42.74592512474356,
            43.20802778630997,
            43.2900108578128,
            45.8069560006637,
            45.87834412006734,
            45.455700324445665,
            49.781697352014895,
            47.498742904408566,
            50.04974583545324,
            48.40541225977234,
            49.01136420875983,
            49.4925172018819,
            49.2219643780955,
            50.30810535810356,
            48.09527774002108,
            46.25695400029111,
            48.2078196986085,
            50.78839562369448,
            47.417274779382694,
            44.40599996400887,
            43.5197927927032,
            46.46503732984592,
            42.9412446802236,
            45.03790399017466,
            40.09552610002099,
            43.439230732975716,
            38.353008304293894,
            null
           ]
          },
          {
           "hovertemplate": "Clutter<br>(%{x}, %{y})<br>Time: %{meta}",
           "meta": [
            "2023-09-07 15:00:40",
            "2023-09-07 15:00:41",
            "2023-09-07 15:00:41",
            "2023-09-07 15:00:41",
            "2023-09-07 15:00:43",
            "2023-09-07 15:00:45",
            "2023-09-07 15:00:45",
            "2023-09-07 15:00:47",
            "2023-09-07 15:00:47",
            "2023-09-07 15:00:47",
            "2023-09-07 15:00:47",
            "2023-09-07 15:00:47",
            "2023-09-07 15:00:49",
            "2023-09-07 15:00:51",
            "2023-09-07 15:00:54",
            "2023-09-07 15:00:56",
            "2023-09-07 15:00:57",
            "2023-09-07 15:00:57",
            "2023-09-07 15:00:58",
            "2023-09-07 15:00:58",
            "2023-09-07 15:00:58",
            "2023-09-07 15:00:59",
            "2023-09-07 15:00:59",
            "2023-09-07 15:00:59",
            "2023-09-07 15:00:59",
            "2023-09-07 15:00:59",
            "2023-09-07 15:01:00",
            "2023-09-07 15:01:00",
            "2023-09-07 15:01:00",
            "2023-09-07 15:01:00",
            "2023-09-07 15:01:01",
            "2023-09-07 15:01:01",
            "2023-09-07 15:01:01",
            "2023-09-07 15:01:02",
            "2023-09-07 15:01:02",
            "2023-09-07 15:01:02",
            "2023-09-07 15:01:02",
            "2023-09-07 15:01:02",
            "2023-09-07 15:01:02",
            "2023-09-07 15:01:03",
            "2023-09-07 15:01:03",
            "2023-09-07 15:01:03",
            "2023-09-07 15:01:04",
            "2023-09-07 15:01:04",
            "2023-09-07 15:01:04",
            "2023-09-07 15:01:05",
            "2023-09-07 15:01:06",
            "2023-09-07 15:01:07",
            "2023-09-07 15:01:07",
            "2023-09-07 15:01:07",
            "2023-09-07 15:01:08",
            "2023-09-07 15:01:08",
            "2023-09-07 15:01:08",
            "2023-09-07 15:01:08",
            "2023-09-07 15:01:08"
           ],
           "type": "scatter",
           "x": [
            0.2628629860147935,
            -5.947186089536171,
            7.511234499194794,
            1.2368016066430076,
            -3.9383022083791523,
            9.519502944212656,
            8.816880016344196,
            15.208121856273904,
            14.025710879284519,
            -2.1359261723065925,
            7.05768093084308,
            1.592790739428831,
            0.7285176578468473,
            12.242518424828313,
            3.6747835001110527,
            7.866884907505119,
            12.411475162781779,
            12.833029096254522,
            8.261923541005068,
            5.0831273653651925,
            26.930871334830616,
            27.039745244561278,
            25.019860088518154,
            39.455693446687164,
            27.321535352904682,
            30.31780651486834,
            12.573526520789473,
            15.008821802752902,
            37.988817903560175,
            3.1977264770182456,
            13.555350298851561,
            3.5535772988144787,
            2.057485696647321,
            23.72489197255483,
            25.905726518102984,
            -0.049607600934990614,
            44.312221984514245,
            9.378352296443829,
            18.50241946088084,
            30.322701798056244,
            28.821367618013763,
            25.72928462141531,
            18.18069435837016,
            21.970881345714687,
            28.156454350498258,
            32.61429649029611,
            30.631145124138264,
            33.37364391128446,
            35.236020391599894,
            30.857949385414095,
            20.998130741840967,
            45.99412281903775,
            32.302439553723595,
            32.08881121592395,
            34.368659894470255,
            null
           ],
           "y": [
            45.565386681545874,
            45.05366061755791,
            46.35592175810034,
            32.05905379580751,
            47.28393730753255,
            31.456987364994728,
            34.167845538700334,
            41.39926162025145,
            30.523269059328186,
            39.91303043863957,
            48.67691635585126,
            36.21792645246228,
            49.91527833476793,
            47.603344842135236,
            45.81113548447709,
            36.913833208623586,
            42.07983225975437,
            37.580041204503345,
            51.51203885361398,
            38.77727204839494,
            50.26474359709672,
            46.83275159513233,
            44.2215730834841,
            42.928967070680564,
            39.18334456447075,
            41.74815349965422,
            53.23948281955508,
            39.23710521891505,
            41.71611682790641,
            44.66052183772808,
            54.103690631976036,
            53.14575568077721,
            55.08403627460173,
            53.54937794282731,
            39.48254372876265,
            49.2227662940403,
            54.06836097418948,
            56.263969533566836,
            53.25939906245995,
            35.91069398537605,
            41.65623575003663,
            41.905400700989,
            39.61971827652344,
            48.47021711265079,
            47.053263396761686,
            48.42591290835785,
            46.873040621337125,
            35.83422888376544,
            40.8472753333875,
            45.24876042326029,
            41.2671197651651,
            50.516940652029575,
            45.179981648715554,
            30.171972495537165,
            42.403150160945586,
            null
           ]
          },
          {
           "type": "scatter",
           "x": [
            null,
            null
           ],
           "y": [
            null,
            null
           ]
          },
          {
           "customdata": [
            "2023-09-07 15:01:02",
            "2023-09-07 15:01:03",
            "2023-09-07 15:01:04",
            "2023-09-07 15:01:05",
            "2023-09-07 15:01:06",
            "2023-09-07 15:01:07",
            "2023-09-07 15:01:08"
           ],
           "hovertemplate": "%{meta}<br>(%{x}, %{y})<br>Time: %{customdata}",
           "meta": [
            "GaussianStateUpdate",
            "GaussianStateUpdate",
            "GaussianStatePrediction",
            "GaussianStateUpdate",
            "GaussianStateUpdate",
            "GaussianStatePrediction",
            "GaussianStateUpdate"
           ],
           "type": "scatter",
           "x": [
            24.808252741464877,
            24.28722730290998,
            23.865608033553055,
            25.298502648302748,
            25.44756589740006,
            25.699765066300532,
            26.72111884305909,
            null
           ],
           "y": [
            46.25695400029111,
            44.71110227768177,
            43.46018279162289,
            42.873394987407465,
            40.67460334874732,
            39.19307683483714,
            38.21781736538797,
            null
           ]
          },
          {
           "customdata": [
            "2023-09-07 15:00:40",
            "2023-09-07 15:00:41",
            "2023-09-07 15:00:42",
            "2023-09-07 15:00:43",
            "2023-09-07 15:00:44",
            "2023-09-07 15:00:45",
            "2023-09-07 15:00:46",
            "2023-09-07 15:00:47",
            "2023-09-07 15:00:48",
            "2023-09-07 15:00:49",
            "2023-09-07 15:00:50",
            "2023-09-07 15:00:51",
            "2023-09-07 15:00:52",
            "2023-09-07 15:00:53",
            "2023-09-07 15:00:54",
            "2023-09-07 15:00:55",
            "2023-09-07 15:00:56",
            "2023-09-07 15:00:57",
            "2023-09-07 15:00:58",
            "2023-09-07 15:00:59",
            "2023-09-07 15:01:00",
            "2023-09-07 15:01:01",
            "2023-09-07 15:01:02",
            "2023-09-07 15:01:03",
            "2023-09-07 15:01:04",
            "2023-09-07 15:01:05"
           ],
           "hovertemplate": "%{meta}<br>(%{x}, %{y})<br>Time: %{customdata}",
           "meta": [
            "GaussianStateUpdate",
            "GaussianStateUpdate",
            "GaussianStateUpdate",
            "GaussianStateUpdate",
            "GaussianStateUpdate",
            "GaussianStatePrediction",
            "GaussianStateUpdate",
            "GaussianStateUpdate",
            "GaussianStateUpdate",
            "GaussianStateUpdate",
            "GaussianStatePrediction",
            "GaussianStateUpdate",
            "GaussianStateUpdate",
            "GaussianStateUpdate",
            "GaussianStateUpdate",
            "GaussianStateUpdate",
            "GaussianStateUpdate",
            "GaussianStateUpdate",
            "GaussianStateUpdate",
            "GaussianStateUpdate",
            "GaussianStateUpdate",
            "GaussianStateUpdate",
            "GaussianStateUpdate",
            "GaussianStatePrediction",
            "GaussianStatePrediction",
            "GaussianStatePrediction"
           ],
           "type": "scatter",
           "x": [
            -0.43005629247898636,
            1.5671309635627815,
            1.7248047174586882,
            1.8905500191617137,
            3.0266606144206634,
            3.7930024690710495,
            5.063871539095284,
            5.749814186180568,
            6.802874669121355,
            8.2129677138972,
            9.367732280484283,
            8.542618402693721,
            8.634368220211687,
            8.669701894529883,
            9.075003246000703,
            9.29501577604749,
            9.413413937498195,
            8.502632005862981,
            7.971735342146178,
            7.79106608746795,
            8.267728552533242,
            8.8391159278272,
            8.748563089055056,
            8.86400725665167,
            8.979451424248284,
            9.094895591844898,
            null
           ],
           "y": [
            41.49312990045806,
            41.3283166972261,
            40.69579995272057,
            40.74242157325732,
            39.9576780440993,
            39.494129937136556,
            39.60146342055227,
            40.16817369119637,
            40.313729365629904,
            40.905811622898376,
            41.23864331164184,
            41.162676656780185,
            42.24148057909349,
            43.0469437062278,
            43.453524571615226,
            45.10875518315963,
            45.9885693493004,
            46.04032141953401,
            47.147697787822864,
            48.23006081378942,
            49.19872167033096,
            50.24570967805816,
            50.9635055877399,
            51.8313661441028,
            52.6992267004657,
            53.5670872568286,
            null
           ]
          },
          {
           "customdata": [
            "2023-09-07 15:00:59",
            "2023-09-07 15:01:00",
            "2023-09-07 15:01:01",
            "2023-09-07 15:01:02",
            "2023-09-07 15:01:03",
            "2023-09-07 15:01:04",
            "2023-09-07 15:01:05",
            "2023-09-07 15:01:06",
            "2023-09-07 15:01:07",
            "2023-09-07 15:01:08"
           ],
           "hovertemplate": "%{meta}<br>(%{x}, %{y})<br>Time: %{customdata}",
           "meta": [
            "GaussianStateUpdate",
            "GaussianStateUpdate",
            "GaussianStateUpdate",
            "GaussianStateUpdate",
            "GaussianStateUpdate",
            "GaussianStatePrediction",
            "GaussianStateUpdate",
            "GaussianStateUpdate",
            "GaussianStateUpdate",
            "GaussianStatePrediction"
           ],
           "type": "scatter",
           "x": [
            34.62154345599989,
            34.285793715002384,
            34.268766551451364,
            35.25199515478764,
            35.241728090713245,
            35.46611855956127,
            35.823886725585425,
            36.908212632501446,
            38.31187561793434,
            39.27738316623153,
            null
           ],
           "y": [
            50.04974583545324,
            49.58436807554751,
            48.332859762710335,
            47.97879829102805,
            47.391708738119306,
            46.778684057935784,
            46.40193603508247,
            45.339300697596954,
            43.8858444435431,
            42.82140177455153,
            null
           ]
          },
          {
           "type": "scatter",
           "x": [
            null
           ],
           "y": [
            null
           ]
          },
          {
           "type": "scatter",
           "x": [
            26.72111884305909,
            26.813472614683732,
            26.90179008332581,
            26.982211351811433,
            27.05122162480372,
            27.10580482222488,
            27.14357539642836,
            27.16288259207815,
            27.16288259207815,
            27.14357539642836,
            27.10580482222488,
            27.05122162480372,
            26.982211351811433,
            26.90179008332581,
            26.813472614683732,
            26.72111884305909,
            26.62876507143445,
            26.540447602792373,
            26.46002633430675,
            26.391016061314463,
            26.336432863893307,
            26.298662289689823,
            26.27935509404003,
            26.27935509404003,
            26.298662289689823,
            26.336432863893307,
            26.391016061314463,
            26.46002633430675,
            26.540447602792373,
            26.62876507143445,
            null,
            null
           ],
           "y": [
            38.66201447263766,
            38.65230770009715,
            38.6236116150139,
            38.57718037400516,
            38.515043245104806,
            38.43991591901281,
            38.35508182038031,
            38.26424860639672,
            38.171386124379225,
            38.08055291039563,
            37.99571881176313,
            37.92059148567114,
            37.858454356770785,
            37.812023115762045,
            37.7833270306788,
            37.77362025813829,
            37.7833270306788,
            37.812023115762045,
            37.858454356770785,
            37.92059148567114,
            37.99571881176313,
            38.08055291039563,
            38.171386124379225,
            38.26424860639672,
            38.35508182038031,
            38.43991591901281,
            38.515043245104806,
            38.57718037400516,
            38.62361161501391,
            38.65230770009715,
            null,
            null
           ]
          },
          {
           "type": "scatter",
           "x": [
            null
           ],
           "y": [
            null
           ]
          },
          {
           "type": "scatter",
           "x": [
            39.27738316623153,
            39.40814661485019,
            39.533195073291566,
            39.6470633238727,
            39.744774777642704,
            39.82205897520026,
            39.87553822626136,
            39.902875230932736,
            39.902875230932736,
            39.87553822626136,
            39.82205897520026,
            39.744774777642704,
            39.6470633238727,
            39.533195073291566,
            39.40814661485019,
            39.27738316623153,
            39.14661971761287,
            39.021571259171495,
            38.90770300859036,
            38.80999155482036,
            38.732707357262804,
            38.6792281062017,
            38.651891101530325,
            38.651891101530325,
            38.6792281062017,
            38.732707357262804,
            38.80999155482036,
            38.90770300859036,
            39.021571259171495,
            39.14661971761287,
            null,
            null
           ],
           "y": [
            43.45033922440987,
            43.436595432142106,
            43.39596472501094,
            43.33022285988577,
            43.242243071737036,
            43.1358704994807,
            43.0157541349566,
            42.8871436396767,
            42.75565990942636,
            42.62704941414646,
            42.50693304962236,
            42.40056047736603,
            42.31258068921729,
            42.24683882409212,
            42.20620811696096,
            42.19246432469319,
            42.20620811696096,
            42.24683882409212,
            42.31258068921729,
            42.40056047736603,
            42.50693304962236,
            42.62704941414646,
            42.75565990942636,
            42.8871436396767,
            43.0157541349566,
            43.1358704994807,
            43.24224307173704,
            43.33022285988577,
            43.39596472501094,
            43.436595432142106,
            null,
            null
           ]
          }
         ],
         "name": "2023-09-07 15:01:08",
         "traces": [
          0,
          1,
          2,
          3,
          4,
          5,
          6,
          7,
          8,
          9,
          10,
          11,
          12,
          13,
          14,
          15
         ]
        },
        {
         "data": [
          {
           "type": "scatter",
           "x": [
            0,
            0
           ],
           "y": [
            0,
            0
           ]
          },
          {
           "hovertemplate": "GroundTruthState<br>(%{x}, %{y})<br>Time: %{meta}",
           "meta": [
            "2023-09-07 15:00:40",
            "2023-09-07 15:00:41",
            "2023-09-07 15:00:42",
            "2023-09-07 15:00:43",
            "2023-09-07 15:00:44",
            "2023-09-07 15:00:45",
            "2023-09-07 15:00:46",
            "2023-09-07 15:00:47",
            "2023-09-07 15:00:48",
            "2023-09-07 15:00:49",
            "2023-09-07 15:00:50",
            "2023-09-07 15:00:51",
            "2023-09-07 15:00:52",
            "2023-09-07 15:00:53",
            "2023-09-07 15:00:54",
            "2023-09-07 15:00:55",
            "2023-09-07 15:00:56",
            "2023-09-07 15:00:57",
            "2023-09-07 15:00:58",
            "2023-09-07 15:00:59",
            "2023-09-07 15:01:00",
            "2023-09-07 15:01:01",
            "2023-09-07 15:01:02"
           ],
           "type": "scatter",
           "x": [
            0,
            0.8091562802362998,
            1.4187778862009663,
            1.9340594175080428,
            2.7291599722274826,
            3.736499927988022,
            5.119411483348772,
            6.216732395332771,
            7.088723290570684,
            7.663354901814838,
            8.096722636252593,
            8.358906371025952,
            8.54822310121289,
            8.543882911480415,
            8.661018452611112,
            8.81413676771379,
            8.666475553311493,
            8.457114429626253,
            8.378969059200568,
            8.506472261414322,
            8.76192113749374,
            8.789109668220165,
            8.645151050991842,
            null
           ],
           "y": [
            41.55127793935055,
            41.14739075037148,
            40.71022742116085,
            40.33576258703677,
            40.11469426682165,
            40.0218978369037,
            40.11795936277245,
            40.23397761081491,
            40.45410408807201,
            40.66784873441858,
            41.10916580043645,
            41.59034958414012,
            42.15920554432621,
            42.83722041736732,
            43.80601257101235,
            44.72250861193358,
            45.55082005749288,
            46.478942183204815,
            47.23049024720247,
            48.1829097420305,
            49.16778848572788,
            49.950207045006884,
            50.84956128513592,
            null
           ]
          },
          {
           "hovertemplate": "GroundTruthState<br>(%{x}, %{y})<br>Time: %{meta}",
           "meta": [
            "2023-09-07 15:00:58",
            "2023-09-07 15:00:59",
            "2023-09-07 15:01:00",
            "2023-09-07 15:01:01",
            "2023-09-07 15:01:02",
            "2023-09-07 15:01:03",
            "2023-09-07 15:01:04",
            "2023-09-07 15:01:05",
            "2023-09-07 15:01:06",
            "2023-09-07 15:01:07",
            "2023-09-07 15:01:08",
            "2023-09-07 15:01:09"
           ],
           "type": "scatter",
           "x": [
            24.40294393298363,
            24.37101772209079,
            24.585384850156284,
            25.03868275478802,
            25.1049789512843,
            25.120548589233294,
            25.408274935648077,
            25.597302325430956,
            25.672637855560588,
            25.80173268410434,
            26.38411337439661,
            26.849321650314195,
            null
           ],
           "y": [
            50,
            48.92607580828807,
            47.94386490735651,
            46.9525856518256,
            45.916836511442554,
            44.660383933816995,
            43.38923608926767,
            41.798256079790406,
            40.37683940593047,
            39.10834475444106,
            37.99258063423742,
            36.80434580629272,
            null
           ]
          },
          {
           "hovertemplate": "GroundTruthState<br>(%{x}, %{y})<br>Time: %{meta}",
           "meta": [
            "2023-09-07 15:00:59",
            "2023-09-07 15:01:00",
            "2023-09-07 15:01:01",
            "2023-09-07 15:01:02",
            "2023-09-07 15:01:03",
            "2023-09-07 15:01:04",
            "2023-09-07 15:01:05",
            "2023-09-07 15:01:06",
            "2023-09-07 15:01:07",
            "2023-09-07 15:01:08",
            "2023-09-07 15:01:09"
           ],
           "type": "scatter",
           "x": [
            34.9497917032631,
            34.692784657380166,
            34.62875348769775,
            34.70653825006885,
            35.16602245368285,
            35.84203896849462,
            36.48923137530482,
            37.304433786378794,
            38.273117794667684,
            39.27302578813828,
            40.575156256116884,
            null
           ],
           "y": [
            50,
            49.233094514513525,
            48.65632716274939,
            48.04342569579986,
            47.37584157077364,
            46.67834504620978,
            45.83272536574674,
            44.99090823719139,
            44.11358671702823,
            43.045507500400134,
            41.692529772966616,
            null
           ]
          },
          {
           "hovertemplate": "GroundTruthState<br>(%{x}, %{y})<br>Time: %{meta}",
           "meta": [],
           "type": "scatter",
           "x": [
            null
           ],
           "y": [
            null
           ]
          },
          {
           "type": "scatter",
           "x": [
            null,
            null
           ],
           "y": [
            null,
            null
           ]
          },
          {
           "hovertemplate": "Detection<br>(%{x}, %{y})<br>Time: %{meta}",
           "meta": [
            "2023-09-07 15:00:40",
            "2023-09-07 15:00:41",
            "2023-09-07 15:00:42",
            "2023-09-07 15:00:43",
            "2023-09-07 15:00:44",
            "2023-09-07 15:00:46",
            "2023-09-07 15:00:47",
            "2023-09-07 15:00:48",
            "2023-09-07 15:00:49",
            "2023-09-07 15:00:50",
            "2023-09-07 15:00:51",
            "2023-09-07 15:00:52",
            "2023-09-07 15:00:53",
            "2023-09-07 15:00:54",
            "2023-09-07 15:00:55",
            "2023-09-07 15:00:56",
            "2023-09-07 15:00:57",
            "2023-09-07 15:00:58",
            "2023-09-07 15:00:58",
            "2023-09-07 15:00:59",
            "2023-09-07 15:00:59",
            "2023-09-07 15:00:59",
            "2023-09-07 15:01:00",
            "2023-09-07 15:01:00",
            "2023-09-07 15:01:01",
            "2023-09-07 15:01:01",
            "2023-09-07 15:01:02",
            "2023-09-07 15:01:02",
            "2023-09-07 15:01:02",
            "2023-09-07 15:01:03",
            "2023-09-07 15:01:03",
            "2023-09-07 15:01:04",
            "2023-09-07 15:01:05",
            "2023-09-07 15:01:05",
            "2023-09-07 15:01:06",
            "2023-09-07 15:01:06",
            "2023-09-07 15:01:07",
            "2023-09-07 15:01:08",
            "2023-09-07 15:01:09",
            "2023-09-07 15:01:09"
           ],
           "type": "scatter",
           "x": [
            -0.43005629247898636,
            1.9613126588341832,
            1.328760915097623,
            1.6486342541080825,
            3.391167130241921,
            5.198613247790583,
            5.5997844867706466,
            6.935456692747284,
            8.51160294626042,
            6.938136290313291,
            8.00171047550961,
            8.455481513912613,
            8.51568107852356,
            9.22411910733494,
            9.258594731151701,
            9.32950730831503,
            7.804987863094423,
            24.581047874774246,
            7.832277013086065,
            34.62154345599989,
            7.937505079616018,
            24.155956069792705,
            34.219527318752874,
            8.764921493433448,
            9.169878259121589,
            34.33792014141769,
            24.808252741464877,
            35.71409381177726,
            8.508185830477029,
            35.01040999823201,
            24.184393334774143,
            25.495805205839506,
            35.85950727938655,
            25.487965372036413,
            37.36295589502933,
            25.364300083095635,
            38.81490747362937,
            26.92650992023429,
            26.03596591259028,
            40.090247952530696,
            null
           ],
           "y": [
            41.49312990045806,
            41.29578777553558,
            40.56025765481257,
            40.943137598599904,
            39.64105359377544,
            39.7539260798625,
            40.62749687000739,
            40.351899248824374,
            41.209034178881836,
            41.088704044823054,
            41.05099188880684,
            42.74592512474356,
            43.20802778630997,
            43.2900108578128,
            45.8069560006637,
            45.87834412006734,
            45.455700324445665,
            49.781697352014895,
            47.498742904408566,
            50.04974583545324,
            48.40541225977234,
            49.01136420875983,
            49.4925172018819,
            49.2219643780955,
            50.30810535810356,
            48.09527774002108,
            46.25695400029111,
            48.2078196986085,
            50.78839562369448,
            47.417274779382694,
            44.40599996400887,
            43.5197927927032,
            46.46503732984592,
            42.9412446802236,
            45.03790399017466,
            40.09552610002099,
            43.439230732975716,
            38.353008304293894,
            37.40798677226102,
            41.43540277842083,
            null
           ]
          },
          {
           "hovertemplate": "Clutter<br>(%{x}, %{y})<br>Time: %{meta}",
           "meta": [
            "2023-09-07 15:00:40",
            "2023-09-07 15:00:41",
            "2023-09-07 15:00:41",
            "2023-09-07 15:00:41",
            "2023-09-07 15:00:43",
            "2023-09-07 15:00:45",
            "2023-09-07 15:00:45",
            "2023-09-07 15:00:47",
            "2023-09-07 15:00:47",
            "2023-09-07 15:00:47",
            "2023-09-07 15:00:47",
            "2023-09-07 15:00:47",
            "2023-09-07 15:00:49",
            "2023-09-07 15:00:51",
            "2023-09-07 15:00:54",
            "2023-09-07 15:00:56",
            "2023-09-07 15:00:57",
            "2023-09-07 15:00:57",
            "2023-09-07 15:00:58",
            "2023-09-07 15:00:58",
            "2023-09-07 15:00:58",
            "2023-09-07 15:00:59",
            "2023-09-07 15:00:59",
            "2023-09-07 15:00:59",
            "2023-09-07 15:00:59",
            "2023-09-07 15:00:59",
            "2023-09-07 15:01:00",
            "2023-09-07 15:01:00",
            "2023-09-07 15:01:00",
            "2023-09-07 15:01:00",
            "2023-09-07 15:01:01",
            "2023-09-07 15:01:01",
            "2023-09-07 15:01:01",
            "2023-09-07 15:01:02",
            "2023-09-07 15:01:02",
            "2023-09-07 15:01:02",
            "2023-09-07 15:01:02",
            "2023-09-07 15:01:02",
            "2023-09-07 15:01:02",
            "2023-09-07 15:01:03",
            "2023-09-07 15:01:03",
            "2023-09-07 15:01:03",
            "2023-09-07 15:01:04",
            "2023-09-07 15:01:04",
            "2023-09-07 15:01:04",
            "2023-09-07 15:01:05",
            "2023-09-07 15:01:06",
            "2023-09-07 15:01:07",
            "2023-09-07 15:01:07",
            "2023-09-07 15:01:07",
            "2023-09-07 15:01:08",
            "2023-09-07 15:01:08",
            "2023-09-07 15:01:08",
            "2023-09-07 15:01:08",
            "2023-09-07 15:01:08",
            "2023-09-07 15:01:09"
           ],
           "type": "scatter",
           "x": [
            0.2628629860147935,
            -5.947186089536171,
            7.511234499194794,
            1.2368016066430076,
            -3.9383022083791523,
            9.519502944212656,
            8.816880016344196,
            15.208121856273904,
            14.025710879284519,
            -2.1359261723065925,
            7.05768093084308,
            1.592790739428831,
            0.7285176578468473,
            12.242518424828313,
            3.6747835001110527,
            7.866884907505119,
            12.411475162781779,
            12.833029096254522,
            8.261923541005068,
            5.0831273653651925,
            26.930871334830616,
            27.039745244561278,
            25.019860088518154,
            39.455693446687164,
            27.321535352904682,
            30.31780651486834,
            12.573526520789473,
            15.008821802752902,
            37.988817903560175,
            3.1977264770182456,
            13.555350298851561,
            3.5535772988144787,
            2.057485696647321,
            23.72489197255483,
            25.905726518102984,
            -0.049607600934990614,
            44.312221984514245,
            9.378352296443829,
            18.50241946088084,
            30.322701798056244,
            28.821367618013763,
            25.72928462141531,
            18.18069435837016,
            21.970881345714687,
            28.156454350498258,
            32.61429649029611,
            30.631145124138264,
            33.37364391128446,
            35.236020391599894,
            30.857949385414095,
            20.998130741840967,
            45.99412281903775,
            32.302439553723595,
            32.08881121592395,
            34.368659894470255,
            42.63783354856306,
            null
           ],
           "y": [
            45.565386681545874,
            45.05366061755791,
            46.35592175810034,
            32.05905379580751,
            47.28393730753255,
            31.456987364994728,
            34.167845538700334,
            41.39926162025145,
            30.523269059328186,
            39.91303043863957,
            48.67691635585126,
            36.21792645246228,
            49.91527833476793,
            47.603344842135236,
            45.81113548447709,
            36.913833208623586,
            42.07983225975437,
            37.580041204503345,
            51.51203885361398,
            38.77727204839494,
            50.26474359709672,
            46.83275159513233,
            44.2215730834841,
            42.928967070680564,
            39.18334456447075,
            41.74815349965422,
            53.23948281955508,
            39.23710521891505,
            41.71611682790641,
            44.66052183772808,
            54.103690631976036,
            53.14575568077721,
            55.08403627460173,
            53.54937794282731,
            39.48254372876265,
            49.2227662940403,
            54.06836097418948,
            56.263969533566836,
            53.25939906245995,
            35.91069398537605,
            41.65623575003663,
            41.905400700989,
            39.61971827652344,
            48.47021711265079,
            47.053263396761686,
            48.42591290835785,
            46.873040621337125,
            35.83422888376544,
            40.8472753333875,
            45.24876042326029,
            41.2671197651651,
            50.516940652029575,
            45.179981648715554,
            30.171972495537165,
            42.403150160945586,
            46.32282510415091,
            null
           ]
          },
          {
           "type": "scatter",
           "x": [
            null,
            null
           ],
           "y": [
            null,
            null
           ]
          },
          {
           "customdata": [
            "2023-09-07 15:01:02",
            "2023-09-07 15:01:03",
            "2023-09-07 15:01:04",
            "2023-09-07 15:01:05",
            "2023-09-07 15:01:06",
            "2023-09-07 15:01:07",
            "2023-09-07 15:01:08",
            "2023-09-07 15:01:09"
           ],
           "hovertemplate": "%{meta}<br>(%{x}, %{y})<br>Time: %{customdata}",
           "meta": [
            "GaussianStateUpdate",
            "GaussianStateUpdate",
            "GaussianStatePrediction",
            "GaussianStateUpdate",
            "GaussianStateUpdate",
            "GaussianStatePrediction",
            "GaussianStateUpdate",
            "GaussianStateUpdate"
           ],
           "type": "scatter",
           "x": [
            24.808252741464877,
            24.28722730290998,
            23.865608033553055,
            25.298502648302748,
            25.44756589740006,
            25.699765066300532,
            26.72111884305909,
            26.47411081482359,
            null
           ],
           "y": [
            46.25695400029111,
            44.71110227768177,
            43.46018279162289,
            42.873394987407465,
            40.67460334874732,
            39.19307683483714,
            38.21781736538797,
            37.23463311057605,
            null
           ]
          },
          {
           "customdata": [
            "2023-09-07 15:00:40",
            "2023-09-07 15:00:41",
            "2023-09-07 15:00:42",
            "2023-09-07 15:00:43",
            "2023-09-07 15:00:44",
            "2023-09-07 15:00:45",
            "2023-09-07 15:00:46",
            "2023-09-07 15:00:47",
            "2023-09-07 15:00:48",
            "2023-09-07 15:00:49",
            "2023-09-07 15:00:50",
            "2023-09-07 15:00:51",
            "2023-09-07 15:00:52",
            "2023-09-07 15:00:53",
            "2023-09-07 15:00:54",
            "2023-09-07 15:00:55",
            "2023-09-07 15:00:56",
            "2023-09-07 15:00:57",
            "2023-09-07 15:00:58",
            "2023-09-07 15:00:59",
            "2023-09-07 15:01:00",
            "2023-09-07 15:01:01",
            "2023-09-07 15:01:02",
            "2023-09-07 15:01:03",
            "2023-09-07 15:01:04",
            "2023-09-07 15:01:05"
           ],
           "hovertemplate": "%{meta}<br>(%{x}, %{y})<br>Time: %{customdata}",
           "meta": [
            "GaussianStateUpdate",
            "GaussianStateUpdate",
            "GaussianStateUpdate",
            "GaussianStateUpdate",
            "GaussianStateUpdate",
            "GaussianStatePrediction",
            "GaussianStateUpdate",
            "GaussianStateUpdate",
            "GaussianStateUpdate",
            "GaussianStateUpdate",
            "GaussianStatePrediction",
            "GaussianStateUpdate",
            "GaussianStateUpdate",
            "GaussianStateUpdate",
            "GaussianStateUpdate",
            "GaussianStateUpdate",
            "GaussianStateUpdate",
            "GaussianStateUpdate",
            "GaussianStateUpdate",
            "GaussianStateUpdate",
            "GaussianStateUpdate",
            "GaussianStateUpdate",
            "GaussianStateUpdate",
            "GaussianStatePrediction",
            "GaussianStatePrediction",
            "GaussianStatePrediction"
           ],
           "type": "scatter",
           "x": [
            -0.43005629247898636,
            1.5671309635627815,
            1.7248047174586882,
            1.8905500191617137,
            3.0266606144206634,
            3.7930024690710495,
            5.063871539095284,
            5.749814186180568,
            6.802874669121355,
            8.2129677138972,
            9.367732280484283,
            8.542618402693721,
            8.634368220211687,
            8.669701894529883,
            9.075003246000703,
            9.29501577604749,
            9.413413937498195,
            8.502632005862981,
            7.971735342146178,
            7.79106608746795,
            8.267728552533242,
            8.8391159278272,
            8.748563089055056,
            8.86400725665167,
            8.979451424248284,
            9.094895591844898,
            null
           ],
           "y": [
            41.49312990045806,
            41.3283166972261,
            40.69579995272057,
            40.74242157325732,
            39.9576780440993,
            39.494129937136556,
            39.60146342055227,
            40.16817369119637,
            40.313729365629904,
            40.905811622898376,
            41.23864331164184,
            41.162676656780185,
            42.24148057909349,
            43.0469437062278,
            43.453524571615226,
            45.10875518315963,
            45.9885693493004,
            46.04032141953401,
            47.147697787822864,
            48.23006081378942,
            49.19872167033096,
            50.24570967805816,
            50.9635055877399,
            51.8313661441028,
            52.6992267004657,
            53.5670872568286,
            null
           ]
          },
          {
           "customdata": [
            "2023-09-07 15:00:59",
            "2023-09-07 15:01:00",
            "2023-09-07 15:01:01",
            "2023-09-07 15:01:02",
            "2023-09-07 15:01:03",
            "2023-09-07 15:01:04",
            "2023-09-07 15:01:05",
            "2023-09-07 15:01:06",
            "2023-09-07 15:01:07",
            "2023-09-07 15:01:08",
            "2023-09-07 15:01:09"
           ],
           "hovertemplate": "%{meta}<br>(%{x}, %{y})<br>Time: %{customdata}",
           "meta": [
            "GaussianStateUpdate",
            "GaussianStateUpdate",
            "GaussianStateUpdate",
            "GaussianStateUpdate",
            "GaussianStateUpdate",
            "GaussianStatePrediction",
            "GaussianStateUpdate",
            "GaussianStateUpdate",
            "GaussianStateUpdate",
            "GaussianStatePrediction",
            "GaussianStateUpdate"
           ],
           "type": "scatter",
           "x": [
            34.62154345599989,
            34.285793715002384,
            34.268766551451364,
            35.25199515478764,
            35.241728090713245,
            35.46611855956127,
            35.823886725585425,
            36.908212632501446,
            38.31187561793434,
            39.27738316623153,
            40.12303778529568,
            null
           ],
           "y": [
            50.04974583545324,
            49.58436807554751,
            48.332859762710335,
            47.97879829102805,
            47.391708738119306,
            46.778684057935784,
            46.40193603508247,
            45.339300697596954,
            43.8858444435431,
            42.82140177455153,
            41.504477643507144,
            null
           ]
          },
          {
           "type": "scatter",
           "x": [
            null
           ],
           "y": [
            null
           ]
          },
          {
           "type": "scatter",
           "x": [
            26.47411081482359,
            26.557385134091955,
            26.637019966013774,
            26.709534886303743,
            26.77176064498,
            26.82097767779607,
            26.855034964248365,
            26.872444037493928,
            26.872444037493928,
            26.855034964248365,
            26.82097767779607,
            26.77176064498,
            26.709534886303743,
            26.637019966013774,
            26.557385134091955,
            26.47411081482359,
            26.390836495555224,
            26.311201663633405,
            26.238686743343436,
            26.17646098466718,
            26.12724395185111,
            26.093186665398814,
            26.07577759215325,
            26.07577759215325,
            26.093186665398814,
            26.12724395185111,
            26.17646098466718,
            26.238686743343436,
            26.311201663633405,
            26.390836495555224,
            null,
            null
           ],
           "y": [
            37.63516046399629,
            37.62640798035232,
            37.600533054954724,
            37.558666546205046,
            37.50263822143344,
            37.43489678728617,
            37.358402869494924,
            37.276499619325726,
            37.19276660182637,
            37.11086335165717,
            37.034369433865926,
            36.96662799971865,
            36.91059967494705,
            36.86873316619737,
            36.84285824079978,
            36.834105757155804,
            36.84285824079978,
            36.86873316619737,
            36.91059967494705,
            36.96662799971865,
            37.034369433865926,
            37.11086335165717,
            37.19276660182637,
            37.276499619325726,
            37.358402869494924,
            37.43489678728617,
            37.50263822143344,
            37.558666546205046,
            37.600533054954724,
            37.62640798035232,
            null,
            null
           ]
          },
          {
           "type": "scatter",
           "x": [
            null
           ],
           "y": [
            null
           ]
          },
          {
           "type": "scatter",
           "x": [
            40.12303778529568,
            40.21515379844408,
            40.30324389979622,
            40.38345812921981,
            40.452290739978466,
            40.50673341668651,
            40.544406753126864,
            40.56366424372035,
            40.56366424372035,
            40.544406753126864,
            40.50673341668651,
            40.452290739978466,
            40.38345812921981,
            40.30324389979622,
            40.21515379844408,
            40.12303778529568,
            40.03092177214728,
            39.94283167079514,
            39.86261744137155,
            39.79378483061289,
            39.73934215390485,
            39.701668817464494,
            39.682411326871005,
            39.682411326871005,
            39.701668817464494,
            39.73934215390485,
            39.79378483061289,
            39.86261744137155,
            39.94283167079514,
            40.03092177214728,
            null,
            null
           ],
           "y": [
            41.947531195647905,
            41.93784941253022,
            41.909227203557755,
            41.86291549660721,
            41.80093833550054,
            41.72600441957753,
            41.641388720536824,
            41.55078935045769,
            41.4581659365566,
            41.367566566477464,
            41.28295086743677,
            41.20801695151375,
            41.14603979040708,
            41.09972808345653,
            41.07110587448407,
            41.06142409136638,
            41.07110587448407,
            41.09972808345653,
            41.14603979040708,
            41.20801695151375,
            41.28295086743676,
            41.367566566477464,
            41.4581659365566,
            41.55078935045769,
            41.641388720536824,
            41.72600441957752,
            41.80093833550054,
            41.86291549660721,
            41.909227203557755,
            41.93784941253022,
            null,
            null
           ]
          }
         ],
         "name": "2023-09-07 15:01:09",
         "traces": [
          0,
          1,
          2,
          3,
          4,
          5,
          6,
          7,
          8,
          9,
          10,
          11,
          12,
          13,
          14,
          15
         ]
        },
        {
         "data": [
          {
           "type": "scatter",
           "x": [
            0,
            0
           ],
           "y": [
            0,
            0
           ]
          },
          {
           "hovertemplate": "GroundTruthState<br>(%{x}, %{y})<br>Time: %{meta}",
           "meta": [
            "2023-09-07 15:00:40",
            "2023-09-07 15:00:41",
            "2023-09-07 15:00:42",
            "2023-09-07 15:00:43",
            "2023-09-07 15:00:44",
            "2023-09-07 15:00:45",
            "2023-09-07 15:00:46",
            "2023-09-07 15:00:47",
            "2023-09-07 15:00:48",
            "2023-09-07 15:00:49",
            "2023-09-07 15:00:50",
            "2023-09-07 15:00:51",
            "2023-09-07 15:00:52",
            "2023-09-07 15:00:53",
            "2023-09-07 15:00:54",
            "2023-09-07 15:00:55",
            "2023-09-07 15:00:56",
            "2023-09-07 15:00:57",
            "2023-09-07 15:00:58",
            "2023-09-07 15:00:59",
            "2023-09-07 15:01:00",
            "2023-09-07 15:01:01",
            "2023-09-07 15:01:02"
           ],
           "type": "scatter",
           "x": [
            0,
            0.8091562802362998,
            1.4187778862009663,
            1.9340594175080428,
            2.7291599722274826,
            3.736499927988022,
            5.119411483348772,
            6.216732395332771,
            7.088723290570684,
            7.663354901814838,
            8.096722636252593,
            8.358906371025952,
            8.54822310121289,
            8.543882911480415,
            8.661018452611112,
            8.81413676771379,
            8.666475553311493,
            8.457114429626253,
            8.378969059200568,
            8.506472261414322,
            8.76192113749374,
            8.789109668220165,
            8.645151050991842,
            null
           ],
           "y": [
            41.55127793935055,
            41.14739075037148,
            40.71022742116085,
            40.33576258703677,
            40.11469426682165,
            40.0218978369037,
            40.11795936277245,
            40.23397761081491,
            40.45410408807201,
            40.66784873441858,
            41.10916580043645,
            41.59034958414012,
            42.15920554432621,
            42.83722041736732,
            43.80601257101235,
            44.72250861193358,
            45.55082005749288,
            46.478942183204815,
            47.23049024720247,
            48.1829097420305,
            49.16778848572788,
            49.950207045006884,
            50.84956128513592,
            null
           ]
          },
          {
           "hovertemplate": "GroundTruthState<br>(%{x}, %{y})<br>Time: %{meta}",
           "meta": [
            "2023-09-07 15:00:58",
            "2023-09-07 15:00:59",
            "2023-09-07 15:01:00",
            "2023-09-07 15:01:01",
            "2023-09-07 15:01:02",
            "2023-09-07 15:01:03",
            "2023-09-07 15:01:04",
            "2023-09-07 15:01:05",
            "2023-09-07 15:01:06",
            "2023-09-07 15:01:07",
            "2023-09-07 15:01:08",
            "2023-09-07 15:01:09",
            "2023-09-07 15:01:10"
           ],
           "type": "scatter",
           "x": [
            24.40294393298363,
            24.37101772209079,
            24.585384850156284,
            25.03868275478802,
            25.1049789512843,
            25.120548589233294,
            25.408274935648077,
            25.597302325430956,
            25.672637855560588,
            25.80173268410434,
            26.38411337439661,
            26.849321650314195,
            27.310076869760383,
            null
           ],
           "y": [
            50,
            48.92607580828807,
            47.94386490735651,
            46.9525856518256,
            45.916836511442554,
            44.660383933816995,
            43.38923608926767,
            41.798256079790406,
            40.37683940593047,
            39.10834475444106,
            37.99258063423742,
            36.80434580629272,
            35.73674662487452,
            null
           ]
          },
          {
           "hovertemplate": "GroundTruthState<br>(%{x}, %{y})<br>Time: %{meta}",
           "meta": [
            "2023-09-07 15:00:59",
            "2023-09-07 15:01:00",
            "2023-09-07 15:01:01",
            "2023-09-07 15:01:02",
            "2023-09-07 15:01:03",
            "2023-09-07 15:01:04",
            "2023-09-07 15:01:05",
            "2023-09-07 15:01:06",
            "2023-09-07 15:01:07",
            "2023-09-07 15:01:08",
            "2023-09-07 15:01:09",
            "2023-09-07 15:01:10"
           ],
           "type": "scatter",
           "x": [
            34.9497917032631,
            34.692784657380166,
            34.62875348769775,
            34.70653825006885,
            35.16602245368285,
            35.84203896849462,
            36.48923137530482,
            37.304433786378794,
            38.273117794667684,
            39.27302578813828,
            40.575156256116884,
            42.13859623033162,
            null
           ],
           "y": [
            50,
            49.233094514513525,
            48.65632716274939,
            48.04342569579986,
            47.37584157077364,
            46.67834504620978,
            45.83272536574674,
            44.99090823719139,
            44.11358671702823,
            43.045507500400134,
            41.692529772966616,
            40.25930053089142,
            null
           ]
          },
          {
           "hovertemplate": "GroundTruthState<br>(%{x}, %{y})<br>Time: %{meta}",
           "meta": [],
           "type": "scatter",
           "x": [
            null
           ],
           "y": [
            null
           ]
          },
          {
           "type": "scatter",
           "x": [
            null,
            null
           ],
           "y": [
            null,
            null
           ]
          },
          {
           "hovertemplate": "Detection<br>(%{x}, %{y})<br>Time: %{meta}",
           "meta": [
            "2023-09-07 15:00:40",
            "2023-09-07 15:00:41",
            "2023-09-07 15:00:42",
            "2023-09-07 15:00:43",
            "2023-09-07 15:00:44",
            "2023-09-07 15:00:46",
            "2023-09-07 15:00:47",
            "2023-09-07 15:00:48",
            "2023-09-07 15:00:49",
            "2023-09-07 15:00:50",
            "2023-09-07 15:00:51",
            "2023-09-07 15:00:52",
            "2023-09-07 15:00:53",
            "2023-09-07 15:00:54",
            "2023-09-07 15:00:55",
            "2023-09-07 15:00:56",
            "2023-09-07 15:00:57",
            "2023-09-07 15:00:58",
            "2023-09-07 15:00:58",
            "2023-09-07 15:00:59",
            "2023-09-07 15:00:59",
            "2023-09-07 15:00:59",
            "2023-09-07 15:01:00",
            "2023-09-07 15:01:00",
            "2023-09-07 15:01:01",
            "2023-09-07 15:01:01",
            "2023-09-07 15:01:02",
            "2023-09-07 15:01:02",
            "2023-09-07 15:01:02",
            "2023-09-07 15:01:03",
            "2023-09-07 15:01:03",
            "2023-09-07 15:01:04",
            "2023-09-07 15:01:05",
            "2023-09-07 15:01:05",
            "2023-09-07 15:01:06",
            "2023-09-07 15:01:06",
            "2023-09-07 15:01:07",
            "2023-09-07 15:01:08",
            "2023-09-07 15:01:09",
            "2023-09-07 15:01:09",
            "2023-09-07 15:01:10",
            "2023-09-07 15:01:10"
           ],
           "type": "scatter",
           "x": [
            -0.43005629247898636,
            1.9613126588341832,
            1.328760915097623,
            1.6486342541080825,
            3.391167130241921,
            5.198613247790583,
            5.5997844867706466,
            6.935456692747284,
            8.51160294626042,
            6.938136290313291,
            8.00171047550961,
            8.455481513912613,
            8.51568107852356,
            9.22411910733494,
            9.258594731151701,
            9.32950730831503,
            7.804987863094423,
            24.581047874774246,
            7.832277013086065,
            34.62154345599989,
            7.937505079616018,
            24.155956069792705,
            34.219527318752874,
            8.764921493433448,
            9.169878259121589,
            34.33792014141769,
            24.808252741464877,
            35.71409381177726,
            8.508185830477029,
            35.01040999823201,
            24.184393334774143,
            25.495805205839506,
            35.85950727938655,
            25.487965372036413,
            37.36295589502933,
            25.364300083095635,
            38.81490747362937,
            26.92650992023429,
            26.03596591259028,
            40.090247952530696,
            42.62750361307228,
            27.050675848162673,
            null
           ],
           "y": [
            41.49312990045806,
            41.29578777553558,
            40.56025765481257,
            40.943137598599904,
            39.64105359377544,
            39.7539260798625,
            40.62749687000739,
            40.351899248824374,
            41.209034178881836,
            41.088704044823054,
            41.05099188880684,
            42.74592512474356,
            43.20802778630997,
            43.2900108578128,
            45.8069560006637,
            45.87834412006734,
            45.455700324445665,
            49.781697352014895,
            47.498742904408566,
            50.04974583545324,
            48.40541225977234,
            49.01136420875983,
            49.4925172018819,
            49.2219643780955,
            50.30810535810356,
            48.09527774002108,
            46.25695400029111,
            48.2078196986085,
            50.78839562369448,
            47.417274779382694,
            44.40599996400887,
            43.5197927927032,
            46.46503732984592,
            42.9412446802236,
            45.03790399017466,
            40.09552610002099,
            43.439230732975716,
            38.353008304293894,
            37.40798677226102,
            41.43540277842083,
            39.815961201534854,
            35.48874681711073,
            null
           ]
          },
          {
           "hovertemplate": "Clutter<br>(%{x}, %{y})<br>Time: %{meta}",
           "meta": [
            "2023-09-07 15:00:40",
            "2023-09-07 15:00:41",
            "2023-09-07 15:00:41",
            "2023-09-07 15:00:41",
            "2023-09-07 15:00:43",
            "2023-09-07 15:00:45",
            "2023-09-07 15:00:45",
            "2023-09-07 15:00:47",
            "2023-09-07 15:00:47",
            "2023-09-07 15:00:47",
            "2023-09-07 15:00:47",
            "2023-09-07 15:00:47",
            "2023-09-07 15:00:49",
            "2023-09-07 15:00:51",
            "2023-09-07 15:00:54",
            "2023-09-07 15:00:56",
            "2023-09-07 15:00:57",
            "2023-09-07 15:00:57",
            "2023-09-07 15:00:58",
            "2023-09-07 15:00:58",
            "2023-09-07 15:00:58",
            "2023-09-07 15:00:59",
            "2023-09-07 15:00:59",
            "2023-09-07 15:00:59",
            "2023-09-07 15:00:59",
            "2023-09-07 15:00:59",
            "2023-09-07 15:01:00",
            "2023-09-07 15:01:00",
            "2023-09-07 15:01:00",
            "2023-09-07 15:01:00",
            "2023-09-07 15:01:01",
            "2023-09-07 15:01:01",
            "2023-09-07 15:01:01",
            "2023-09-07 15:01:02",
            "2023-09-07 15:01:02",
            "2023-09-07 15:01:02",
            "2023-09-07 15:01:02",
            "2023-09-07 15:01:02",
            "2023-09-07 15:01:02",
            "2023-09-07 15:01:03",
            "2023-09-07 15:01:03",
            "2023-09-07 15:01:03",
            "2023-09-07 15:01:04",
            "2023-09-07 15:01:04",
            "2023-09-07 15:01:04",
            "2023-09-07 15:01:05",
            "2023-09-07 15:01:06",
            "2023-09-07 15:01:07",
            "2023-09-07 15:01:07",
            "2023-09-07 15:01:07",
            "2023-09-07 15:01:08",
            "2023-09-07 15:01:08",
            "2023-09-07 15:01:08",
            "2023-09-07 15:01:08",
            "2023-09-07 15:01:08",
            "2023-09-07 15:01:09",
            "2023-09-07 15:01:10"
           ],
           "type": "scatter",
           "x": [
            0.2628629860147935,
            -5.947186089536171,
            7.511234499194794,
            1.2368016066430076,
            -3.9383022083791523,
            9.519502944212656,
            8.816880016344196,
            15.208121856273904,
            14.025710879284519,
            -2.1359261723065925,
            7.05768093084308,
            1.592790739428831,
            0.7285176578468473,
            12.242518424828313,
            3.6747835001110527,
            7.866884907505119,
            12.411475162781779,
            12.833029096254522,
            8.261923541005068,
            5.0831273653651925,
            26.930871334830616,
            27.039745244561278,
            25.019860088518154,
            39.455693446687164,
            27.321535352904682,
            30.31780651486834,
            12.573526520789473,
            15.008821802752902,
            37.988817903560175,
            3.1977264770182456,
            13.555350298851561,
            3.5535772988144787,
            2.057485696647321,
            23.72489197255483,
            25.905726518102984,
            -0.049607600934990614,
            44.312221984514245,
            9.378352296443829,
            18.50241946088084,
            30.322701798056244,
            28.821367618013763,
            25.72928462141531,
            18.18069435837016,
            21.970881345714687,
            28.156454350498258,
            32.61429649029611,
            30.631145124138264,
            33.37364391128446,
            35.236020391599894,
            30.857949385414095,
            20.998130741840967,
            45.99412281903775,
            32.302439553723595,
            32.08881121592395,
            34.368659894470255,
            42.63783354856306,
            22.825250443375126,
            null
           ],
           "y": [
            45.565386681545874,
            45.05366061755791,
            46.35592175810034,
            32.05905379580751,
            47.28393730753255,
            31.456987364994728,
            34.167845538700334,
            41.39926162025145,
            30.523269059328186,
            39.91303043863957,
            48.67691635585126,
            36.21792645246228,
            49.91527833476793,
            47.603344842135236,
            45.81113548447709,
            36.913833208623586,
            42.07983225975437,
            37.580041204503345,
            51.51203885361398,
            38.77727204839494,
            50.26474359709672,
            46.83275159513233,
            44.2215730834841,
            42.928967070680564,
            39.18334456447075,
            41.74815349965422,
            53.23948281955508,
            39.23710521891505,
            41.71611682790641,
            44.66052183772808,
            54.103690631976036,
            53.14575568077721,
            55.08403627460173,
            53.54937794282731,
            39.48254372876265,
            49.2227662940403,
            54.06836097418948,
            56.263969533566836,
            53.25939906245995,
            35.91069398537605,
            41.65623575003663,
            41.905400700989,
            39.61971827652344,
            48.47021711265079,
            47.053263396761686,
            48.42591290835785,
            46.873040621337125,
            35.83422888376544,
            40.8472753333875,
            45.24876042326029,
            41.2671197651651,
            50.516940652029575,
            45.179981648715554,
            30.171972495537165,
            42.403150160945586,
            46.32282510415091,
            42.91321237687506,
            null
           ]
          },
          {
           "type": "scatter",
           "x": [
            null,
            null
           ],
           "y": [
            null,
            null
           ]
          },
          {
           "customdata": [
            "2023-09-07 15:01:02",
            "2023-09-07 15:01:03",
            "2023-09-07 15:01:04",
            "2023-09-07 15:01:05",
            "2023-09-07 15:01:06",
            "2023-09-07 15:01:07",
            "2023-09-07 15:01:08",
            "2023-09-07 15:01:09",
            "2023-09-07 15:01:10"
           ],
           "hovertemplate": "%{meta}<br>(%{x}, %{y})<br>Time: %{customdata}",
           "meta": [
            "GaussianStateUpdate",
            "GaussianStateUpdate",
            "GaussianStatePrediction",
            "GaussianStateUpdate",
            "GaussianStateUpdate",
            "GaussianStatePrediction",
            "GaussianStateUpdate",
            "GaussianStateUpdate",
            "GaussianStateUpdate"
           ],
           "type": "scatter",
           "x": [
            24.808252741464877,
            24.28722730290998,
            23.865608033553055,
            25.298502648302748,
            25.44756589740006,
            25.699765066300532,
            26.72111884305909,
            26.47411081482359,
            26.91022719214639,
            null
           ],
           "y": [
            46.25695400029111,
            44.71110227768177,
            43.46018279162289,
            42.873394987407465,
            40.67460334874732,
            39.19307683483714,
            38.21781736538797,
            37.23463311057605,
            35.712856771033614,
            null
           ]
          },
          {
           "customdata": [
            "2023-09-07 15:00:40",
            "2023-09-07 15:00:41",
            "2023-09-07 15:00:42",
            "2023-09-07 15:00:43",
            "2023-09-07 15:00:44",
            "2023-09-07 15:00:45",
            "2023-09-07 15:00:46",
            "2023-09-07 15:00:47",
            "2023-09-07 15:00:48",
            "2023-09-07 15:00:49",
            "2023-09-07 15:00:50",
            "2023-09-07 15:00:51",
            "2023-09-07 15:00:52",
            "2023-09-07 15:00:53",
            "2023-09-07 15:00:54",
            "2023-09-07 15:00:55",
            "2023-09-07 15:00:56",
            "2023-09-07 15:00:57",
            "2023-09-07 15:00:58",
            "2023-09-07 15:00:59",
            "2023-09-07 15:01:00",
            "2023-09-07 15:01:01",
            "2023-09-07 15:01:02",
            "2023-09-07 15:01:03",
            "2023-09-07 15:01:04",
            "2023-09-07 15:01:05"
           ],
           "hovertemplate": "%{meta}<br>(%{x}, %{y})<br>Time: %{customdata}",
           "meta": [
            "GaussianStateUpdate",
            "GaussianStateUpdate",
            "GaussianStateUpdate",
            "GaussianStateUpdate",
            "GaussianStateUpdate",
            "GaussianStatePrediction",
            "GaussianStateUpdate",
            "GaussianStateUpdate",
            "GaussianStateUpdate",
            "GaussianStateUpdate",
            "GaussianStatePrediction",
            "GaussianStateUpdate",
            "GaussianStateUpdate",
            "GaussianStateUpdate",
            "GaussianStateUpdate",
            "GaussianStateUpdate",
            "GaussianStateUpdate",
            "GaussianStateUpdate",
            "GaussianStateUpdate",
            "GaussianStateUpdate",
            "GaussianStateUpdate",
            "GaussianStateUpdate",
            "GaussianStateUpdate",
            "GaussianStatePrediction",
            "GaussianStatePrediction",
            "GaussianStatePrediction"
           ],
           "type": "scatter",
           "x": [
            -0.43005629247898636,
            1.5671309635627815,
            1.7248047174586882,
            1.8905500191617137,
            3.0266606144206634,
            3.7930024690710495,
            5.063871539095284,
            5.749814186180568,
            6.802874669121355,
            8.2129677138972,
            9.367732280484283,
            8.542618402693721,
            8.634368220211687,
            8.669701894529883,
            9.075003246000703,
            9.29501577604749,
            9.413413937498195,
            8.502632005862981,
            7.971735342146178,
            7.79106608746795,
            8.267728552533242,
            8.8391159278272,
            8.748563089055056,
            8.86400725665167,
            8.979451424248284,
            9.094895591844898,
            null
           ],
           "y": [
            41.49312990045806,
            41.3283166972261,
            40.69579995272057,
            40.74242157325732,
            39.9576780440993,
            39.494129937136556,
            39.60146342055227,
            40.16817369119637,
            40.313729365629904,
            40.905811622898376,
            41.23864331164184,
            41.162676656780185,
            42.24148057909349,
            43.0469437062278,
            43.453524571615226,
            45.10875518315963,
            45.9885693493004,
            46.04032141953401,
            47.147697787822864,
            48.23006081378942,
            49.19872167033096,
            50.24570967805816,
            50.9635055877399,
            51.8313661441028,
            52.6992267004657,
            53.5670872568286,
            null
           ]
          },
          {
           "customdata": [
            "2023-09-07 15:00:59",
            "2023-09-07 15:01:00",
            "2023-09-07 15:01:01",
            "2023-09-07 15:01:02",
            "2023-09-07 15:01:03",
            "2023-09-07 15:01:04",
            "2023-09-07 15:01:05",
            "2023-09-07 15:01:06",
            "2023-09-07 15:01:07",
            "2023-09-07 15:01:08",
            "2023-09-07 15:01:09",
            "2023-09-07 15:01:10"
           ],
           "hovertemplate": "%{meta}<br>(%{x}, %{y})<br>Time: %{customdata}",
           "meta": [
            "GaussianStateUpdate",
            "GaussianStateUpdate",
            "GaussianStateUpdate",
            "GaussianStateUpdate",
            "GaussianStateUpdate",
            "GaussianStatePrediction",
            "GaussianStateUpdate",
            "GaussianStateUpdate",
            "GaussianStateUpdate",
            "GaussianStatePrediction",
            "GaussianStateUpdate",
            "GaussianStateUpdate"
           ],
           "type": "scatter",
           "x": [
            34.62154345599989,
            34.285793715002384,
            34.268766551451364,
            35.25199515478764,
            35.241728090713245,
            35.46611855956127,
            35.823886725585425,
            36.908212632501446,
            38.31187561793434,
            39.27738316623153,
            40.12303778529568,
            42.05919966214608,
            null
           ],
           "y": [
            50.04974583545324,
            49.58436807554751,
            48.332859762710335,
            47.97879829102805,
            47.391708738119306,
            46.778684057935784,
            46.40193603508247,
            45.339300697596954,
            43.8858444435431,
            42.82140177455153,
            41.504477643507144,
            40.00566872524056,
            null
           ]
          },
          {
           "type": "scatter",
           "x": [
            null
           ],
           "y": [
            null
           ]
          },
          {
           "type": "scatter",
           "x": [
            26.91022719214639,
            26.991697835286345,
            27.069607820381567,
            27.1405521072298,
            27.201430090067326,
            27.24958110891917,
            27.28290073320728,
            27.299932735464974,
            27.299932735464974,
            27.28290073320728,
            27.24958110891917,
            27.201430090067326,
            27.1405521072298,
            27.069607820381567,
            26.991697835286345,
            26.91022719214639,
            26.828756549006435,
            26.750846563911217,
            26.67990227706298,
            26.619024294225454,
            26.57087327537361,
            26.5375536510855,
            26.520521648827806,
            26.520521648827806,
            26.5375536510855,
            26.57087327537361,
            26.619024294225454,
            26.67990227706298,
            26.750846563911214,
            26.828756549006435,
            null,
            null
           ],
           "y": [
            36.10470892143225,
            36.09614601178842,
            36.07083152309777,
            36.02987181998848,
            35.97505703803287,
            35.90878284623293,
            35.83394574478916,
            35.75381647414291,
            35.67189706792432,
            35.59176779727807,
            35.5169306958343,
            35.450656504034356,
            35.39584172207875,
            35.354882018969455,
            35.32956753027881,
            35.32100462063498,
            35.32956753027881,
            35.354882018969455,
            35.39584172207875,
            35.450656504034356,
            35.5169306958343,
            35.59176779727807,
            35.67189706792432,
            35.75381647414291,
            35.83394574478916,
            35.90878284623293,
            35.97505703803287,
            36.02987181998848,
            36.07083152309777,
            36.09614601178842,
            null,
            null
           ]
          },
          {
           "type": "scatter",
           "x": [
            null
           ],
           "y": [
            null
           ]
          },
          {
           "type": "scatter",
           "x": [
            42.05919966214608,
            42.142446295050476,
            42.222054650635286,
            42.29454546175818,
            42.35675053212359,
            42.40595120166349,
            42.43999716502799,
            42.4574004502474,
            42.4574004502474,
            42.43999716502799,
            42.40595120166349,
            42.35675053212359,
            42.29454546175818,
            42.222054650635286,
            42.142446295050476,
            42.05919966214608,
            41.97595302924168,
            41.89634467365687,
            41.82385386253397,
            41.761648792168565,
            41.712448122628665,
            41.67840215926417,
            41.66099887404476,
            41.66099887404476,
            41.67840215926417,
            41.712448122628665,
            41.761648792168565,
            41.82385386253397,
            41.89634467365687,
            41.97595302924168,
            null,
            null
           ],
           "y": [
            40.40606291460516,
            40.3973133409153,
            40.371447018201074,
            40.3295944288855,
            40.27358473195265,
            40.205865819922856,
            40.129397334203205,
            40.04752131455614,
            39.96381613592498,
            39.88194011627792,
            39.805471630558266,
            39.73775271852847,
            39.68174302159562,
            39.63989043228005,
            39.614024109565825,
            39.605274535875964,
            39.614024109565825,
            39.63989043228005,
            39.68174302159562,
            39.73775271852847,
            39.805471630558266,
            39.88194011627792,
            39.96381613592498,
            40.04752131455614,
            40.129397334203205,
            40.205865819922856,
            40.27358473195265,
            40.3295944288855,
            40.371447018201074,
            40.3973133409153,
            null,
            null
           ]
          }
         ],
         "name": "2023-09-07 15:01:10",
         "traces": [
          0,
          1,
          2,
          3,
          4,
          5,
          6,
          7,
          8,
          9,
          10,
          11,
          12,
          13,
          14,
          15
         ]
        },
        {
         "data": [
          {
           "type": "scatter",
           "x": [
            0,
            0
           ],
           "y": [
            0,
            0
           ]
          },
          {
           "hovertemplate": "GroundTruthState<br>(%{x}, %{y})<br>Time: %{meta}",
           "meta": [
            "2023-09-07 15:00:40",
            "2023-09-07 15:00:41",
            "2023-09-07 15:00:42",
            "2023-09-07 15:00:43",
            "2023-09-07 15:00:44",
            "2023-09-07 15:00:45",
            "2023-09-07 15:00:46",
            "2023-09-07 15:00:47",
            "2023-09-07 15:00:48",
            "2023-09-07 15:00:49",
            "2023-09-07 15:00:50",
            "2023-09-07 15:00:51",
            "2023-09-07 15:00:52",
            "2023-09-07 15:00:53",
            "2023-09-07 15:00:54",
            "2023-09-07 15:00:55",
            "2023-09-07 15:00:56",
            "2023-09-07 15:00:57",
            "2023-09-07 15:00:58",
            "2023-09-07 15:00:59",
            "2023-09-07 15:01:00",
            "2023-09-07 15:01:01",
            "2023-09-07 15:01:02"
           ],
           "type": "scatter",
           "x": [
            0,
            0.8091562802362998,
            1.4187778862009663,
            1.9340594175080428,
            2.7291599722274826,
            3.736499927988022,
            5.119411483348772,
            6.216732395332771,
            7.088723290570684,
            7.663354901814838,
            8.096722636252593,
            8.358906371025952,
            8.54822310121289,
            8.543882911480415,
            8.661018452611112,
            8.81413676771379,
            8.666475553311493,
            8.457114429626253,
            8.378969059200568,
            8.506472261414322,
            8.76192113749374,
            8.789109668220165,
            8.645151050991842,
            null
           ],
           "y": [
            41.55127793935055,
            41.14739075037148,
            40.71022742116085,
            40.33576258703677,
            40.11469426682165,
            40.0218978369037,
            40.11795936277245,
            40.23397761081491,
            40.45410408807201,
            40.66784873441858,
            41.10916580043645,
            41.59034958414012,
            42.15920554432621,
            42.83722041736732,
            43.80601257101235,
            44.72250861193358,
            45.55082005749288,
            46.478942183204815,
            47.23049024720247,
            48.1829097420305,
            49.16778848572788,
            49.950207045006884,
            50.84956128513592,
            null
           ]
          },
          {
           "hovertemplate": "GroundTruthState<br>(%{x}, %{y})<br>Time: %{meta}",
           "meta": [
            "2023-09-07 15:00:58",
            "2023-09-07 15:00:59",
            "2023-09-07 15:01:00",
            "2023-09-07 15:01:01",
            "2023-09-07 15:01:02",
            "2023-09-07 15:01:03",
            "2023-09-07 15:01:04",
            "2023-09-07 15:01:05",
            "2023-09-07 15:01:06",
            "2023-09-07 15:01:07",
            "2023-09-07 15:01:08",
            "2023-09-07 15:01:09",
            "2023-09-07 15:01:10",
            "2023-09-07 15:01:11"
           ],
           "type": "scatter",
           "x": [
            24.40294393298363,
            24.37101772209079,
            24.585384850156284,
            25.03868275478802,
            25.1049789512843,
            25.120548589233294,
            25.408274935648077,
            25.597302325430956,
            25.672637855560588,
            25.80173268410434,
            26.38411337439661,
            26.849321650314195,
            27.310076869760383,
            27.967766755734598,
            null
           ],
           "y": [
            50,
            48.92607580828807,
            47.94386490735651,
            46.9525856518256,
            45.916836511442554,
            44.660383933816995,
            43.38923608926767,
            41.798256079790406,
            40.37683940593047,
            39.10834475444106,
            37.99258063423742,
            36.80434580629272,
            35.73674662487452,
            34.5679650472467,
            null
           ]
          },
          {
           "hovertemplate": "GroundTruthState<br>(%{x}, %{y})<br>Time: %{meta}",
           "meta": [
            "2023-09-07 15:00:59",
            "2023-09-07 15:01:00",
            "2023-09-07 15:01:01",
            "2023-09-07 15:01:02",
            "2023-09-07 15:01:03",
            "2023-09-07 15:01:04",
            "2023-09-07 15:01:05",
            "2023-09-07 15:01:06",
            "2023-09-07 15:01:07",
            "2023-09-07 15:01:08",
            "2023-09-07 15:01:09",
            "2023-09-07 15:01:10",
            "2023-09-07 15:01:11"
           ],
           "type": "scatter",
           "x": [
            34.9497917032631,
            34.692784657380166,
            34.62875348769775,
            34.70653825006885,
            35.16602245368285,
            35.84203896849462,
            36.48923137530482,
            37.304433786378794,
            38.273117794667684,
            39.27302578813828,
            40.575156256116884,
            42.13859623033162,
            43.61811499994063,
            null
           ],
           "y": [
            50,
            49.233094514513525,
            48.65632716274939,
            48.04342569579986,
            47.37584157077364,
            46.67834504620978,
            45.83272536574674,
            44.99090823719139,
            44.11358671702823,
            43.045507500400134,
            41.692529772966616,
            40.25930053089142,
            38.90349389643283,
            null
           ]
          },
          {
           "hovertemplate": "GroundTruthState<br>(%{x}, %{y})<br>Time: %{meta}",
           "meta": [],
           "type": "scatter",
           "x": [
            null
           ],
           "y": [
            null
           ]
          },
          {
           "type": "scatter",
           "x": [
            null,
            null
           ],
           "y": [
            null,
            null
           ]
          },
          {
           "hovertemplate": "Detection<br>(%{x}, %{y})<br>Time: %{meta}",
           "meta": [
            "2023-09-07 15:00:40",
            "2023-09-07 15:00:41",
            "2023-09-07 15:00:42",
            "2023-09-07 15:00:43",
            "2023-09-07 15:00:44",
            "2023-09-07 15:00:46",
            "2023-09-07 15:00:47",
            "2023-09-07 15:00:48",
            "2023-09-07 15:00:49",
            "2023-09-07 15:00:50",
            "2023-09-07 15:00:51",
            "2023-09-07 15:00:52",
            "2023-09-07 15:00:53",
            "2023-09-07 15:00:54",
            "2023-09-07 15:00:55",
            "2023-09-07 15:00:56",
            "2023-09-07 15:00:57",
            "2023-09-07 15:00:58",
            "2023-09-07 15:00:58",
            "2023-09-07 15:00:59",
            "2023-09-07 15:00:59",
            "2023-09-07 15:00:59",
            "2023-09-07 15:01:00",
            "2023-09-07 15:01:00",
            "2023-09-07 15:01:01",
            "2023-09-07 15:01:01",
            "2023-09-07 15:01:02",
            "2023-09-07 15:01:02",
            "2023-09-07 15:01:02",
            "2023-09-07 15:01:03",
            "2023-09-07 15:01:03",
            "2023-09-07 15:01:04",
            "2023-09-07 15:01:05",
            "2023-09-07 15:01:05",
            "2023-09-07 15:01:06",
            "2023-09-07 15:01:06",
            "2023-09-07 15:01:07",
            "2023-09-07 15:01:08",
            "2023-09-07 15:01:09",
            "2023-09-07 15:01:09",
            "2023-09-07 15:01:10",
            "2023-09-07 15:01:10",
            "2023-09-07 15:01:11",
            "2023-09-07 15:01:11"
           ],
           "type": "scatter",
           "x": [
            -0.43005629247898636,
            1.9613126588341832,
            1.328760915097623,
            1.6486342541080825,
            3.391167130241921,
            5.198613247790583,
            5.5997844867706466,
            6.935456692747284,
            8.51160294626042,
            6.938136290313291,
            8.00171047550961,
            8.455481513912613,
            8.51568107852356,
            9.22411910733494,
            9.258594731151701,
            9.32950730831503,
            7.804987863094423,
            24.581047874774246,
            7.832277013086065,
            34.62154345599989,
            7.937505079616018,
            24.155956069792705,
            34.219527318752874,
            8.764921493433448,
            9.169878259121589,
            34.33792014141769,
            24.808252741464877,
            35.71409381177726,
            8.508185830477029,
            35.01040999823201,
            24.184393334774143,
            25.495805205839506,
            35.85950727938655,
            25.487965372036413,
            37.36295589502933,
            25.364300083095635,
            38.81490747362937,
            26.92650992023429,
            26.03596591259028,
            40.090247952530696,
            42.62750361307228,
            27.050675848162673,
            43.69493541940249,
            29.12902614422362,
            null
           ],
           "y": [
            41.49312990045806,
            41.29578777553558,
            40.56025765481257,
            40.943137598599904,
            39.64105359377544,
            39.7539260798625,
            40.62749687000739,
            40.351899248824374,
            41.209034178881836,
            41.088704044823054,
            41.05099188880684,
            42.74592512474356,
            43.20802778630997,
            43.2900108578128,
            45.8069560006637,
            45.87834412006734,
            45.455700324445665,
            49.781697352014895,
            47.498742904408566,
            50.04974583545324,
            48.40541225977234,
            49.01136420875983,
            49.4925172018819,
            49.2219643780955,
            50.30810535810356,
            48.09527774002108,
            46.25695400029111,
            48.2078196986085,
            50.78839562369448,
            47.417274779382694,
            44.40599996400887,
            43.5197927927032,
            46.46503732984592,
            42.9412446802236,
            45.03790399017466,
            40.09552610002099,
            43.439230732975716,
            38.353008304293894,
            37.40798677226102,
            41.43540277842083,
            39.815961201534854,
            35.48874681711073,
            39.257107273185376,
            34.835324386097554,
            null
           ]
          },
          {
           "hovertemplate": "Clutter<br>(%{x}, %{y})<br>Time: %{meta}",
           "meta": [
            "2023-09-07 15:00:40",
            "2023-09-07 15:00:41",
            "2023-09-07 15:00:41",
            "2023-09-07 15:00:41",
            "2023-09-07 15:00:43",
            "2023-09-07 15:00:45",
            "2023-09-07 15:00:45",
            "2023-09-07 15:00:47",
            "2023-09-07 15:00:47",
            "2023-09-07 15:00:47",
            "2023-09-07 15:00:47",
            "2023-09-07 15:00:47",
            "2023-09-07 15:00:49",
            "2023-09-07 15:00:51",
            "2023-09-07 15:00:54",
            "2023-09-07 15:00:56",
            "2023-09-07 15:00:57",
            "2023-09-07 15:00:57",
            "2023-09-07 15:00:58",
            "2023-09-07 15:00:58",
            "2023-09-07 15:00:58",
            "2023-09-07 15:00:59",
            "2023-09-07 15:00:59",
            "2023-09-07 15:00:59",
            "2023-09-07 15:00:59",
            "2023-09-07 15:00:59",
            "2023-09-07 15:01:00",
            "2023-09-07 15:01:00",
            "2023-09-07 15:01:00",
            "2023-09-07 15:01:00",
            "2023-09-07 15:01:01",
            "2023-09-07 15:01:01",
            "2023-09-07 15:01:01",
            "2023-09-07 15:01:02",
            "2023-09-07 15:01:02",
            "2023-09-07 15:01:02",
            "2023-09-07 15:01:02",
            "2023-09-07 15:01:02",
            "2023-09-07 15:01:02",
            "2023-09-07 15:01:03",
            "2023-09-07 15:01:03",
            "2023-09-07 15:01:03",
            "2023-09-07 15:01:04",
            "2023-09-07 15:01:04",
            "2023-09-07 15:01:04",
            "2023-09-07 15:01:05",
            "2023-09-07 15:01:06",
            "2023-09-07 15:01:07",
            "2023-09-07 15:01:07",
            "2023-09-07 15:01:07",
            "2023-09-07 15:01:08",
            "2023-09-07 15:01:08",
            "2023-09-07 15:01:08",
            "2023-09-07 15:01:08",
            "2023-09-07 15:01:08",
            "2023-09-07 15:01:09",
            "2023-09-07 15:01:10",
            "2023-09-07 15:01:11",
            "2023-09-07 15:01:11",
            "2023-09-07 15:01:11",
            "2023-09-07 15:01:11",
            "2023-09-07 15:01:11"
           ],
           "type": "scatter",
           "x": [
            0.2628629860147935,
            -5.947186089536171,
            7.511234499194794,
            1.2368016066430076,
            -3.9383022083791523,
            9.519502944212656,
            8.816880016344196,
            15.208121856273904,
            14.025710879284519,
            -2.1359261723065925,
            7.05768093084308,
            1.592790739428831,
            0.7285176578468473,
            12.242518424828313,
            3.6747835001110527,
            7.866884907505119,
            12.411475162781779,
            12.833029096254522,
            8.261923541005068,
            5.0831273653651925,
            26.930871334830616,
            27.039745244561278,
            25.019860088518154,
            39.455693446687164,
            27.321535352904682,
            30.31780651486834,
            12.573526520789473,
            15.008821802752902,
            37.988817903560175,
            3.1977264770182456,
            13.555350298851561,
            3.5535772988144787,
            2.057485696647321,
            23.72489197255483,
            25.905726518102984,
            -0.049607600934990614,
            44.312221984514245,
            9.378352296443829,
            18.50241946088084,
            30.322701798056244,
            28.821367618013763,
            25.72928462141531,
            18.18069435837016,
            21.970881345714687,
            28.156454350498258,
            32.61429649029611,
            30.631145124138264,
            33.37364391128446,
            35.236020391599894,
            30.857949385414095,
            20.998130741840967,
            45.99412281903775,
            32.302439553723595,
            32.08881121592395,
            34.368659894470255,
            42.63783354856306,
            22.825250443375126,
            46.76794784079708,
            25.38567011928725,
            45.59917618721364,
            28.467386802836238,
            18.410120848619496,
            null
           ],
           "y": [
            45.565386681545874,
            45.05366061755791,
            46.35592175810034,
            32.05905379580751,
            47.28393730753255,
            31.456987364994728,
            34.167845538700334,
            41.39926162025145,
            30.523269059328186,
            39.91303043863957,
            48.67691635585126,
            36.21792645246228,
            49.91527833476793,
            47.603344842135236,
            45.81113548447709,
            36.913833208623586,
            42.07983225975437,
            37.580041204503345,
            51.51203885361398,
            38.77727204839494,
            50.26474359709672,
            46.83275159513233,
            44.2215730834841,
            42.928967070680564,
            39.18334456447075,
            41.74815349965422,
            53.23948281955508,
            39.23710521891505,
            41.71611682790641,
            44.66052183772808,
            54.103690631976036,
            53.14575568077721,
            55.08403627460173,
            53.54937794282731,
            39.48254372876265,
            49.2227662940403,
            54.06836097418948,
            56.263969533566836,
            53.25939906245995,
            35.91069398537605,
            41.65623575003663,
            41.905400700989,
            39.61971827652344,
            48.47021711265079,
            47.053263396761686,
            48.42591290835785,
            46.873040621337125,
            35.83422888376544,
            40.8472753333875,
            45.24876042326029,
            41.2671197651651,
            50.516940652029575,
            45.179981648715554,
            30.171972495537165,
            42.403150160945586,
            46.32282510415091,
            42.91321237687506,
            41.0321130883941,
            29.506000958938504,
            37.63147063057602,
            32.76461422246943,
            36.560369010476535,
            null
           ]
          },
          {
           "type": "scatter",
           "x": [
            null,
            null
           ],
           "y": [
            null,
            null
           ]
          },
          {
           "customdata": [
            "2023-09-07 15:01:02",
            "2023-09-07 15:01:03",
            "2023-09-07 15:01:04",
            "2023-09-07 15:01:05",
            "2023-09-07 15:01:06",
            "2023-09-07 15:01:07",
            "2023-09-07 15:01:08",
            "2023-09-07 15:01:09",
            "2023-09-07 15:01:10",
            "2023-09-07 15:01:11"
           ],
           "hovertemplate": "%{meta}<br>(%{x}, %{y})<br>Time: %{customdata}",
           "meta": [
            "GaussianStateUpdate",
            "GaussianStateUpdate",
            "GaussianStatePrediction",
            "GaussianStateUpdate",
            "GaussianStateUpdate",
            "GaussianStatePrediction",
            "GaussianStateUpdate",
            "GaussianStateUpdate",
            "GaussianStateUpdate",
            "GaussianStateUpdate"
           ],
           "type": "scatter",
           "x": [
            24.808252741464877,
            24.28722730290998,
            23.865608033553055,
            25.298502648302748,
            25.44756589740006,
            25.699765066300532,
            26.72111884305909,
            26.47411081482359,
            26.91022719214639,
            28.392689239379788,
            null
           ],
           "y": [
            46.25695400029111,
            44.71110227768177,
            43.46018279162289,
            42.873394987407465,
            40.67460334874732,
            39.19307683483714,
            38.21781736538797,
            37.23463311057605,
            35.712856771033614,
            34.66207924550508,
            null
           ]
          },
          {
           "customdata": [
            "2023-09-07 15:00:40",
            "2023-09-07 15:00:41",
            "2023-09-07 15:00:42",
            "2023-09-07 15:00:43",
            "2023-09-07 15:00:44",
            "2023-09-07 15:00:45",
            "2023-09-07 15:00:46",
            "2023-09-07 15:00:47",
            "2023-09-07 15:00:48",
            "2023-09-07 15:00:49",
            "2023-09-07 15:00:50",
            "2023-09-07 15:00:51",
            "2023-09-07 15:00:52",
            "2023-09-07 15:00:53",
            "2023-09-07 15:00:54",
            "2023-09-07 15:00:55",
            "2023-09-07 15:00:56",
            "2023-09-07 15:00:57",
            "2023-09-07 15:00:58",
            "2023-09-07 15:00:59",
            "2023-09-07 15:01:00",
            "2023-09-07 15:01:01",
            "2023-09-07 15:01:02",
            "2023-09-07 15:01:03",
            "2023-09-07 15:01:04",
            "2023-09-07 15:01:05"
           ],
           "hovertemplate": "%{meta}<br>(%{x}, %{y})<br>Time: %{customdata}",
           "meta": [
            "GaussianStateUpdate",
            "GaussianStateUpdate",
            "GaussianStateUpdate",
            "GaussianStateUpdate",
            "GaussianStateUpdate",
            "GaussianStatePrediction",
            "GaussianStateUpdate",
            "GaussianStateUpdate",
            "GaussianStateUpdate",
            "GaussianStateUpdate",
            "GaussianStatePrediction",
            "GaussianStateUpdate",
            "GaussianStateUpdate",
            "GaussianStateUpdate",
            "GaussianStateUpdate",
            "GaussianStateUpdate",
            "GaussianStateUpdate",
            "GaussianStateUpdate",
            "GaussianStateUpdate",
            "GaussianStateUpdate",
            "GaussianStateUpdate",
            "GaussianStateUpdate",
            "GaussianStateUpdate",
            "GaussianStatePrediction",
            "GaussianStatePrediction",
            "GaussianStatePrediction"
           ],
           "type": "scatter",
           "x": [
            -0.43005629247898636,
            1.5671309635627815,
            1.7248047174586882,
            1.8905500191617137,
            3.0266606144206634,
            3.7930024690710495,
            5.063871539095284,
            5.749814186180568,
            6.802874669121355,
            8.2129677138972,
            9.367732280484283,
            8.542618402693721,
            8.634368220211687,
            8.669701894529883,
            9.075003246000703,
            9.29501577604749,
            9.413413937498195,
            8.502632005862981,
            7.971735342146178,
            7.79106608746795,
            8.267728552533242,
            8.8391159278272,
            8.748563089055056,
            8.86400725665167,
            8.979451424248284,
            9.094895591844898,
            null
           ],
           "y": [
            41.49312990045806,
            41.3283166972261,
            40.69579995272057,
            40.74242157325732,
            39.9576780440993,
            39.494129937136556,
            39.60146342055227,
            40.16817369119637,
            40.313729365629904,
            40.905811622898376,
            41.23864331164184,
            41.162676656780185,
            42.24148057909349,
            43.0469437062278,
            43.453524571615226,
            45.10875518315963,
            45.9885693493004,
            46.04032141953401,
            47.147697787822864,
            48.23006081378942,
            49.19872167033096,
            50.24570967805816,
            50.9635055877399,
            51.8313661441028,
            52.6992267004657,
            53.5670872568286,
            null
           ]
          },
          {
           "customdata": [
            "2023-09-07 15:00:59",
            "2023-09-07 15:01:00",
            "2023-09-07 15:01:01",
            "2023-09-07 15:01:02",
            "2023-09-07 15:01:03",
            "2023-09-07 15:01:04",
            "2023-09-07 15:01:05",
            "2023-09-07 15:01:06",
            "2023-09-07 15:01:07",
            "2023-09-07 15:01:08",
            "2023-09-07 15:01:09",
            "2023-09-07 15:01:10",
            "2023-09-07 15:01:11"
           ],
           "hovertemplate": "%{meta}<br>(%{x}, %{y})<br>Time: %{customdata}",
           "meta": [
            "GaussianStateUpdate",
            "GaussianStateUpdate",
            "GaussianStateUpdate",
            "GaussianStateUpdate",
            "GaussianStateUpdate",
            "GaussianStatePrediction",
            "GaussianStateUpdate",
            "GaussianStateUpdate",
            "GaussianStateUpdate",
            "GaussianStatePrediction",
            "GaussianStateUpdate",
            "GaussianStateUpdate",
            "GaussianStateUpdate"
           ],
           "type": "scatter",
           "x": [
            34.62154345599989,
            34.285793715002384,
            34.268766551451364,
            35.25199515478764,
            35.241728090713245,
            35.46611855956127,
            35.823886725585425,
            36.908212632501446,
            38.31187561793434,
            39.27738316623153,
            40.12303778529568,
            42.05919966214608,
            43.58076136933816,
            null
           ],
           "y": [
            50.04974583545324,
            49.58436807554751,
            48.332859762710335,
            47.97879829102805,
            47.391708738119306,
            46.778684057935784,
            46.40193603508247,
            45.339300697596954,
            43.8858444435431,
            42.82140177455153,
            41.504477643507144,
            40.00566872524056,
            39.043838355329946,
            null
           ]
          },
          {
           "type": "scatter",
           "x": [
            null
           ],
           "y": [
            null
           ]
          },
          {
           "type": "scatter",
           "x": [
            28.392689239379788,
            28.47411835528884,
            28.55198862809242,
            28.622896753205982,
            28.683743705307126,
            28.731870180612965,
            28.76517282121618,
            28.782196141918615,
            28.782196141918615,
            28.76517282121618,
            28.731870180612965,
            28.683743705307126,
            28.622896753205982,
            28.55198862809242,
            28.47411835528884,
            28.392689239379788,
            28.311260123470735,
            28.233389850667155,
            28.162481725553594,
            28.10163477345245,
            28.05350829814661,
            28.020205657543396,
            28.00318233684096,
            28.00318233684096,
            28.020205657543396,
            28.05350829814661,
            28.10163477345245,
            28.162481725553594,
            28.233389850667155,
            28.311260123470735,
            null,
            null
           ],
           "y": [
            35.053731660955016,
            35.045173115999035,
            35.01987153061412,
            34.97893270549207,
            34.924145863737,
            34.857905453230046,
            34.78310649776711,
            34.70301807062713,
            34.621140420383036,
            34.54105199324306,
            34.46625303778012,
            34.40001262727316,
            34.345225785518096,
            34.30428696039605,
            34.27898537501113,
            34.27042683005515,
            34.27898537501113,
            34.30428696039605,
            34.345225785518096,
            34.40001262727316,
            34.46625303778012,
            34.54105199324306,
            34.621140420383036,
            34.70301807062713,
            34.78310649776711,
            34.857905453230046,
            34.924145863737,
            34.97893270549207,
            35.01987153061412,
            35.045173115999035,
            null,
            null
           ]
          },
          {
           "type": "scatter",
           "x": [
            null
           ],
           "y": [
            null
           ]
          },
          {
           "type": "scatter",
           "x": [
            43.58076136933816,
            43.66216853649528,
            43.74001781981271,
            43.81090683204716,
            43.871737383200774,
            43.91985088629076,
            43.95314455035789,
            43.9701632825217,
            43.9701632825217,
            43.95314455035789,
            43.91985088629076,
            43.871737383200774,
            43.81090683204716,
            43.74001781981271,
            43.66216853649528,
            43.58076136933816,
            43.499354202181046,
            43.42150491886362,
            43.350615906629166,
            43.28978535547555,
            43.241671852385565,
            43.208378188318434,
            43.19135945615462,
            43.19135945615462,
            43.208378188318434,
            43.241671852385565,
            43.28978535547555,
            43.350615906629166,
            43.42150491886362,
            43.499354202181046,
            null,
            null
           ],
           "y": [
            39.435385203113874,
            39.42682896506468,
            39.40153419957723,
            39.36060640928108,
            39.30583433500551,
            39.23961177922191,
            39.16483298538912,
            39.08476614562609,
            39.0029105650338,
            38.92284372527077,
            38.84806493143798,
            38.781842375654385,
            38.72707030137881,
            38.686142511082664,
            38.66084774559521,
            38.65229150754602,
            38.66084774559521,
            38.686142511082664,
            38.72707030137881,
            38.781842375654385,
            38.84806493143798,
            38.92284372527077,
            39.0029105650338,
            39.08476614562609,
            39.16483298538912,
            39.23961177922191,
            39.30583433500551,
            39.36060640928108,
            39.40153419957723,
            39.42682896506468,
            null,
            null
           ]
          }
         ],
         "name": "2023-09-07 15:01:11",
         "traces": [
          0,
          1,
          2,
          3,
          4,
          5,
          6,
          7,
          8,
          9,
          10,
          11,
          12,
          13,
          14,
          15
         ]
        },
        {
         "data": [
          {
           "type": "scatter",
           "x": [
            0,
            0
           ],
           "y": [
            0,
            0
           ]
          },
          {
           "hovertemplate": "GroundTruthState<br>(%{x}, %{y})<br>Time: %{meta}",
           "meta": [
            "2023-09-07 15:00:40",
            "2023-09-07 15:00:41",
            "2023-09-07 15:00:42",
            "2023-09-07 15:00:43",
            "2023-09-07 15:00:44",
            "2023-09-07 15:00:45",
            "2023-09-07 15:00:46",
            "2023-09-07 15:00:47",
            "2023-09-07 15:00:48",
            "2023-09-07 15:00:49",
            "2023-09-07 15:00:50",
            "2023-09-07 15:00:51",
            "2023-09-07 15:00:52",
            "2023-09-07 15:00:53",
            "2023-09-07 15:00:54",
            "2023-09-07 15:00:55",
            "2023-09-07 15:00:56",
            "2023-09-07 15:00:57",
            "2023-09-07 15:00:58",
            "2023-09-07 15:00:59",
            "2023-09-07 15:01:00",
            "2023-09-07 15:01:01",
            "2023-09-07 15:01:02"
           ],
           "type": "scatter",
           "x": [
            0,
            0.8091562802362998,
            1.4187778862009663,
            1.9340594175080428,
            2.7291599722274826,
            3.736499927988022,
            5.119411483348772,
            6.216732395332771,
            7.088723290570684,
            7.663354901814838,
            8.096722636252593,
            8.358906371025952,
            8.54822310121289,
            8.543882911480415,
            8.661018452611112,
            8.81413676771379,
            8.666475553311493,
            8.457114429626253,
            8.378969059200568,
            8.506472261414322,
            8.76192113749374,
            8.789109668220165,
            8.645151050991842,
            null
           ],
           "y": [
            41.55127793935055,
            41.14739075037148,
            40.71022742116085,
            40.33576258703677,
            40.11469426682165,
            40.0218978369037,
            40.11795936277245,
            40.23397761081491,
            40.45410408807201,
            40.66784873441858,
            41.10916580043645,
            41.59034958414012,
            42.15920554432621,
            42.83722041736732,
            43.80601257101235,
            44.72250861193358,
            45.55082005749288,
            46.478942183204815,
            47.23049024720247,
            48.1829097420305,
            49.16778848572788,
            49.950207045006884,
            50.84956128513592,
            null
           ]
          },
          {
           "hovertemplate": "GroundTruthState<br>(%{x}, %{y})<br>Time: %{meta}",
           "meta": [
            "2023-09-07 15:00:58",
            "2023-09-07 15:00:59",
            "2023-09-07 15:01:00",
            "2023-09-07 15:01:01",
            "2023-09-07 15:01:02",
            "2023-09-07 15:01:03",
            "2023-09-07 15:01:04",
            "2023-09-07 15:01:05",
            "2023-09-07 15:01:06",
            "2023-09-07 15:01:07",
            "2023-09-07 15:01:08",
            "2023-09-07 15:01:09",
            "2023-09-07 15:01:10",
            "2023-09-07 15:01:11",
            "2023-09-07 15:01:12"
           ],
           "type": "scatter",
           "x": [
            24.40294393298363,
            24.37101772209079,
            24.585384850156284,
            25.03868275478802,
            25.1049789512843,
            25.120548589233294,
            25.408274935648077,
            25.597302325430956,
            25.672637855560588,
            25.80173268410434,
            26.38411337439661,
            26.849321650314195,
            27.310076869760383,
            27.967766755734598,
            29.042742972472052,
            null
           ],
           "y": [
            50,
            48.92607580828807,
            47.94386490735651,
            46.9525856518256,
            45.916836511442554,
            44.660383933816995,
            43.38923608926767,
            41.798256079790406,
            40.37683940593047,
            39.10834475444106,
            37.99258063423742,
            36.80434580629272,
            35.73674662487452,
            34.5679650472467,
            33.772178919948075,
            null
           ]
          },
          {
           "hovertemplate": "GroundTruthState<br>(%{x}, %{y})<br>Time: %{meta}",
           "meta": [
            "2023-09-07 15:00:59",
            "2023-09-07 15:01:00",
            "2023-09-07 15:01:01",
            "2023-09-07 15:01:02",
            "2023-09-07 15:01:03",
            "2023-09-07 15:01:04",
            "2023-09-07 15:01:05",
            "2023-09-07 15:01:06",
            "2023-09-07 15:01:07",
            "2023-09-07 15:01:08",
            "2023-09-07 15:01:09",
            "2023-09-07 15:01:10",
            "2023-09-07 15:01:11",
            "2023-09-07 15:01:12"
           ],
           "type": "scatter",
           "x": [
            34.9497917032631,
            34.692784657380166,
            34.62875348769775,
            34.70653825006885,
            35.16602245368285,
            35.84203896849462,
            36.48923137530482,
            37.304433786378794,
            38.273117794667684,
            39.27302578813828,
            40.575156256116884,
            42.13859623033162,
            43.61811499994063,
            45.13597961938457,
            null
           ],
           "y": [
            50,
            49.233094514513525,
            48.65632716274939,
            48.04342569579986,
            47.37584157077364,
            46.67834504620978,
            45.83272536574674,
            44.99090823719139,
            44.11358671702823,
            43.045507500400134,
            41.692529772966616,
            40.25930053089142,
            38.90349389643283,
            37.79892206904109,
            null
           ]
          },
          {
           "hovertemplate": "GroundTruthState<br>(%{x}, %{y})<br>Time: %{meta}",
           "meta": [],
           "type": "scatter",
           "x": [
            null
           ],
           "y": [
            null
           ]
          },
          {
           "type": "scatter",
           "x": [
            null,
            null
           ],
           "y": [
            null,
            null
           ]
          },
          {
           "hovertemplate": "Detection<br>(%{x}, %{y})<br>Time: %{meta}",
           "meta": [
            "2023-09-07 15:00:40",
            "2023-09-07 15:00:41",
            "2023-09-07 15:00:42",
            "2023-09-07 15:00:43",
            "2023-09-07 15:00:44",
            "2023-09-07 15:00:46",
            "2023-09-07 15:00:47",
            "2023-09-07 15:00:48",
            "2023-09-07 15:00:49",
            "2023-09-07 15:00:50",
            "2023-09-07 15:00:51",
            "2023-09-07 15:00:52",
            "2023-09-07 15:00:53",
            "2023-09-07 15:00:54",
            "2023-09-07 15:00:55",
            "2023-09-07 15:00:56",
            "2023-09-07 15:00:57",
            "2023-09-07 15:00:58",
            "2023-09-07 15:00:58",
            "2023-09-07 15:00:59",
            "2023-09-07 15:00:59",
            "2023-09-07 15:00:59",
            "2023-09-07 15:01:00",
            "2023-09-07 15:01:00",
            "2023-09-07 15:01:01",
            "2023-09-07 15:01:01",
            "2023-09-07 15:01:02",
            "2023-09-07 15:01:02",
            "2023-09-07 15:01:02",
            "2023-09-07 15:01:03",
            "2023-09-07 15:01:03",
            "2023-09-07 15:01:04",
            "2023-09-07 15:01:05",
            "2023-09-07 15:01:05",
            "2023-09-07 15:01:06",
            "2023-09-07 15:01:06",
            "2023-09-07 15:01:07",
            "2023-09-07 15:01:08",
            "2023-09-07 15:01:09",
            "2023-09-07 15:01:09",
            "2023-09-07 15:01:10",
            "2023-09-07 15:01:10",
            "2023-09-07 15:01:11",
            "2023-09-07 15:01:11",
            "2023-09-07 15:01:12",
            "2023-09-07 15:01:12"
           ],
           "type": "scatter",
           "x": [
            -0.43005629247898636,
            1.9613126588341832,
            1.328760915097623,
            1.6486342541080825,
            3.391167130241921,
            5.198613247790583,
            5.5997844867706466,
            6.935456692747284,
            8.51160294626042,
            6.938136290313291,
            8.00171047550961,
            8.455481513912613,
            8.51568107852356,
            9.22411910733494,
            9.258594731151701,
            9.32950730831503,
            7.804987863094423,
            24.581047874774246,
            7.832277013086065,
            34.62154345599989,
            7.937505079616018,
            24.155956069792705,
            34.219527318752874,
            8.764921493433448,
            9.169878259121589,
            34.33792014141769,
            24.808252741464877,
            35.71409381177726,
            8.508185830477029,
            35.01040999823201,
            24.184393334774143,
            25.495805205839506,
            35.85950727938655,
            25.487965372036413,
            37.36295589502933,
            25.364300083095635,
            38.81490747362937,
            26.92650992023429,
            26.03596591259028,
            40.090247952530696,
            42.62750361307228,
            27.050675848162673,
            43.69493541940249,
            29.12902614422362,
            44.76176804768235,
            29.637506472195824,
            null
           ],
           "y": [
            41.49312990045806,
            41.29578777553558,
            40.56025765481257,
            40.943137598599904,
            39.64105359377544,
            39.7539260798625,
            40.62749687000739,
            40.351899248824374,
            41.209034178881836,
            41.088704044823054,
            41.05099188880684,
            42.74592512474356,
            43.20802778630997,
            43.2900108578128,
            45.8069560006637,
            45.87834412006734,
            45.455700324445665,
            49.781697352014895,
            47.498742904408566,
            50.04974583545324,
            48.40541225977234,
            49.01136420875983,
            49.4925172018819,
            49.2219643780955,
            50.30810535810356,
            48.09527774002108,
            46.25695400029111,
            48.2078196986085,
            50.78839562369448,
            47.417274779382694,
            44.40599996400887,
            43.5197927927032,
            46.46503732984592,
            42.9412446802236,
            45.03790399017466,
            40.09552610002099,
            43.439230732975716,
            38.353008304293894,
            37.40798677226102,
            41.43540277842083,
            39.815961201534854,
            35.48874681711073,
            39.257107273185376,
            34.835324386097554,
            37.730821826564785,
            34.03955023089411,
            null
           ]
          },
          {
           "hovertemplate": "Clutter<br>(%{x}, %{y})<br>Time: %{meta}",
           "meta": [
            "2023-09-07 15:00:40",
            "2023-09-07 15:00:41",
            "2023-09-07 15:00:41",
            "2023-09-07 15:00:41",
            "2023-09-07 15:00:43",
            "2023-09-07 15:00:45",
            "2023-09-07 15:00:45",
            "2023-09-07 15:00:47",
            "2023-09-07 15:00:47",
            "2023-09-07 15:00:47",
            "2023-09-07 15:00:47",
            "2023-09-07 15:00:47",
            "2023-09-07 15:00:49",
            "2023-09-07 15:00:51",
            "2023-09-07 15:00:54",
            "2023-09-07 15:00:56",
            "2023-09-07 15:00:57",
            "2023-09-07 15:00:57",
            "2023-09-07 15:00:58",
            "2023-09-07 15:00:58",
            "2023-09-07 15:00:58",
            "2023-09-07 15:00:59",
            "2023-09-07 15:00:59",
            "2023-09-07 15:00:59",
            "2023-09-07 15:00:59",
            "2023-09-07 15:00:59",
            "2023-09-07 15:01:00",
            "2023-09-07 15:01:00",
            "2023-09-07 15:01:00",
            "2023-09-07 15:01:00",
            "2023-09-07 15:01:01",
            "2023-09-07 15:01:01",
            "2023-09-07 15:01:01",
            "2023-09-07 15:01:02",
            "2023-09-07 15:01:02",
            "2023-09-07 15:01:02",
            "2023-09-07 15:01:02",
            "2023-09-07 15:01:02",
            "2023-09-07 15:01:02",
            "2023-09-07 15:01:03",
            "2023-09-07 15:01:03",
            "2023-09-07 15:01:03",
            "2023-09-07 15:01:04",
            "2023-09-07 15:01:04",
            "2023-09-07 15:01:04",
            "2023-09-07 15:01:05",
            "2023-09-07 15:01:06",
            "2023-09-07 15:01:07",
            "2023-09-07 15:01:07",
            "2023-09-07 15:01:07",
            "2023-09-07 15:01:08",
            "2023-09-07 15:01:08",
            "2023-09-07 15:01:08",
            "2023-09-07 15:01:08",
            "2023-09-07 15:01:08",
            "2023-09-07 15:01:09",
            "2023-09-07 15:01:10",
            "2023-09-07 15:01:11",
            "2023-09-07 15:01:11",
            "2023-09-07 15:01:11",
            "2023-09-07 15:01:11",
            "2023-09-07 15:01:11",
            "2023-09-07 15:01:12",
            "2023-09-07 15:01:12",
            "2023-09-07 15:01:12",
            "2023-09-07 15:01:12",
            "2023-09-07 15:01:12"
           ],
           "type": "scatter",
           "x": [
            0.2628629860147935,
            -5.947186089536171,
            7.511234499194794,
            1.2368016066430076,
            -3.9383022083791523,
            9.519502944212656,
            8.816880016344196,
            15.208121856273904,
            14.025710879284519,
            -2.1359261723065925,
            7.05768093084308,
            1.592790739428831,
            0.7285176578468473,
            12.242518424828313,
            3.6747835001110527,
            7.866884907505119,
            12.411475162781779,
            12.833029096254522,
            8.261923541005068,
            5.0831273653651925,
            26.930871334830616,
            27.039745244561278,
            25.019860088518154,
            39.455693446687164,
            27.321535352904682,
            30.31780651486834,
            12.573526520789473,
            15.008821802752902,
            37.988817903560175,
            3.1977264770182456,
            13.555350298851561,
            3.5535772988144787,
            2.057485696647321,
            23.72489197255483,
            25.905726518102984,
            -0.049607600934990614,
            44.312221984514245,
            9.378352296443829,
            18.50241946088084,
            30.322701798056244,
            28.821367618013763,
            25.72928462141531,
            18.18069435837016,
            21.970881345714687,
            28.156454350498258,
            32.61429649029611,
            30.631145124138264,
            33.37364391128446,
            35.236020391599894,
            30.857949385414095,
            20.998130741840967,
            45.99412281903775,
            32.302439553723595,
            32.08881121592395,
            34.368659894470255,
            42.63783354856306,
            22.825250443375126,
            46.76794784079708,
            25.38567011928725,
            45.59917618721364,
            28.467386802836238,
            18.410120848619496,
            31.66272113820452,
            43.1559331152242,
            32.602419166440825,
            24.888047131114774,
            41.99512520304298,
            null
           ],
           "y": [
            45.565386681545874,
            45.05366061755791,
            46.35592175810034,
            32.05905379580751,
            47.28393730753255,
            31.456987364994728,
            34.167845538700334,
            41.39926162025145,
            30.523269059328186,
            39.91303043863957,
            48.67691635585126,
            36.21792645246228,
            49.91527833476793,
            47.603344842135236,
            45.81113548447709,
            36.913833208623586,
            42.07983225975437,
            37.580041204503345,
            51.51203885361398,
            38.77727204839494,
            50.26474359709672,
            46.83275159513233,
            44.2215730834841,
            42.928967070680564,
            39.18334456447075,
            41.74815349965422,
            53.23948281955508,
            39.23710521891505,
            41.71611682790641,
            44.66052183772808,
            54.103690631976036,
            53.14575568077721,
            55.08403627460173,
            53.54937794282731,
            39.48254372876265,
            49.2227662940403,
            54.06836097418948,
            56.263969533566836,
            53.25939906245995,
            35.91069398537605,
            41.65623575003663,
            41.905400700989,
            39.61971827652344,
            48.47021711265079,
            47.053263396761686,
            48.42591290835785,
            46.873040621337125,
            35.83422888376544,
            40.8472753333875,
            45.24876042326029,
            41.2671197651651,
            50.516940652029575,
            45.179981648715554,
            30.171972495537165,
            42.403150160945586,
            46.32282510415091,
            42.91321237687506,
            41.0321130883941,
            29.506000958938504,
            37.63147063057602,
            32.76461422246943,
            36.560369010476535,
            37.87256247118427,
            45.9129338470391,
            42.61065010596327,
            25.82761963811049,
            36.2851591423244,
            null
           ]
          },
          {
           "type": "scatter",
           "x": [
            null,
            null
           ],
           "y": [
            null,
            null
           ]
          },
          {
           "customdata": [
            "2023-09-07 15:01:02",
            "2023-09-07 15:01:03",
            "2023-09-07 15:01:04",
            "2023-09-07 15:01:05",
            "2023-09-07 15:01:06",
            "2023-09-07 15:01:07",
            "2023-09-07 15:01:08",
            "2023-09-07 15:01:09",
            "2023-09-07 15:01:10",
            "2023-09-07 15:01:11",
            "2023-09-07 15:01:12"
           ],
           "hovertemplate": "%{meta}<br>(%{x}, %{y})<br>Time: %{customdata}",
           "meta": [
            "GaussianStateUpdate",
            "GaussianStateUpdate",
            "GaussianStatePrediction",
            "GaussianStateUpdate",
            "GaussianStateUpdate",
            "GaussianStatePrediction",
            "GaussianStateUpdate",
            "GaussianStateUpdate",
            "GaussianStateUpdate",
            "GaussianStateUpdate",
            "GaussianStateUpdate"
           ],
           "type": "scatter",
           "x": [
            24.808252741464877,
            24.28722730290998,
            23.865608033553055,
            25.298502648302748,
            25.44756589740006,
            25.699765066300532,
            26.72111884305909,
            26.47411081482359,
            26.91022719214639,
            28.392689239379788,
            29.48549289914162,
            null
           ],
           "y": [
            46.25695400029111,
            44.71110227768177,
            43.46018279162289,
            42.873394987407465,
            40.67460334874732,
            39.19307683483714,
            38.21781736538797,
            37.23463311057605,
            35.712856771033614,
            34.66207924550508,
            33.816964723112704,
            null
           ]
          },
          {
           "customdata": [
            "2023-09-07 15:00:40",
            "2023-09-07 15:00:41",
            "2023-09-07 15:00:42",
            "2023-09-07 15:00:43",
            "2023-09-07 15:00:44",
            "2023-09-07 15:00:45",
            "2023-09-07 15:00:46",
            "2023-09-07 15:00:47",
            "2023-09-07 15:00:48",
            "2023-09-07 15:00:49",
            "2023-09-07 15:00:50",
            "2023-09-07 15:00:51",
            "2023-09-07 15:00:52",
            "2023-09-07 15:00:53",
            "2023-09-07 15:00:54",
            "2023-09-07 15:00:55",
            "2023-09-07 15:00:56",
            "2023-09-07 15:00:57",
            "2023-09-07 15:00:58",
            "2023-09-07 15:00:59",
            "2023-09-07 15:01:00",
            "2023-09-07 15:01:01",
            "2023-09-07 15:01:02",
            "2023-09-07 15:01:03",
            "2023-09-07 15:01:04",
            "2023-09-07 15:01:05"
           ],
           "hovertemplate": "%{meta}<br>(%{x}, %{y})<br>Time: %{customdata}",
           "meta": [
            "GaussianStateUpdate",
            "GaussianStateUpdate",
            "GaussianStateUpdate",
            "GaussianStateUpdate",
            "GaussianStateUpdate",
            "GaussianStatePrediction",
            "GaussianStateUpdate",
            "GaussianStateUpdate",
            "GaussianStateUpdate",
            "GaussianStateUpdate",
            "GaussianStatePrediction",
            "GaussianStateUpdate",
            "GaussianStateUpdate",
            "GaussianStateUpdate",
            "GaussianStateUpdate",
            "GaussianStateUpdate",
            "GaussianStateUpdate",
            "GaussianStateUpdate",
            "GaussianStateUpdate",
            "GaussianStateUpdate",
            "GaussianStateUpdate",
            "GaussianStateUpdate",
            "GaussianStateUpdate",
            "GaussianStatePrediction",
            "GaussianStatePrediction",
            "GaussianStatePrediction"
           ],
           "type": "scatter",
           "x": [
            -0.43005629247898636,
            1.5671309635627815,
            1.7248047174586882,
            1.8905500191617137,
            3.0266606144206634,
            3.7930024690710495,
            5.063871539095284,
            5.749814186180568,
            6.802874669121355,
            8.2129677138972,
            9.367732280484283,
            8.542618402693721,
            8.634368220211687,
            8.669701894529883,
            9.075003246000703,
            9.29501577604749,
            9.413413937498195,
            8.502632005862981,
            7.971735342146178,
            7.79106608746795,
            8.267728552533242,
            8.8391159278272,
            8.748563089055056,
            8.86400725665167,
            8.979451424248284,
            9.094895591844898,
            null
           ],
           "y": [
            41.49312990045806,
            41.3283166972261,
            40.69579995272057,
            40.74242157325732,
            39.9576780440993,
            39.494129937136556,
            39.60146342055227,
            40.16817369119637,
            40.313729365629904,
            40.905811622898376,
            41.23864331164184,
            41.162676656780185,
            42.24148057909349,
            43.0469437062278,
            43.453524571615226,
            45.10875518315963,
            45.9885693493004,
            46.04032141953401,
            47.147697787822864,
            48.23006081378942,
            49.19872167033096,
            50.24570967805816,
            50.9635055877399,
            51.8313661441028,
            52.6992267004657,
            53.5670872568286,
            null
           ]
          },
          {
           "customdata": [
            "2023-09-07 15:00:59",
            "2023-09-07 15:01:00",
            "2023-09-07 15:01:01",
            "2023-09-07 15:01:02",
            "2023-09-07 15:01:03",
            "2023-09-07 15:01:04",
            "2023-09-07 15:01:05",
            "2023-09-07 15:01:06",
            "2023-09-07 15:01:07",
            "2023-09-07 15:01:08",
            "2023-09-07 15:01:09",
            "2023-09-07 15:01:10",
            "2023-09-07 15:01:11",
            "2023-09-07 15:01:12"
           ],
           "hovertemplate": "%{meta}<br>(%{x}, %{y})<br>Time: %{customdata}",
           "meta": [
            "GaussianStateUpdate",
            "GaussianStateUpdate",
            "GaussianStateUpdate",
            "GaussianStateUpdate",
            "GaussianStateUpdate",
            "GaussianStatePrediction",
            "GaussianStateUpdate",
            "GaussianStateUpdate",
            "GaussianStateUpdate",
            "GaussianStatePrediction",
            "GaussianStateUpdate",
            "GaussianStateUpdate",
            "GaussianStateUpdate",
            "GaussianStateUpdate"
           ],
           "type": "scatter",
           "x": [
            34.62154345599989,
            34.285793715002384,
            34.268766551451364,
            35.25199515478764,
            35.241728090713245,
            35.46611855956127,
            35.823886725585425,
            36.908212632501446,
            38.31187561793434,
            39.27738316623153,
            40.12303778529568,
            42.05919966214608,
            43.58076136933816,
            44.85506086017132,
            null
           ],
           "y": [
            50.04974583545324,
            49.58436807554751,
            48.332859762710335,
            47.97879829102805,
            47.391708738119306,
            46.778684057935784,
            46.40193603508247,
            45.339300697596954,
            43.8858444435431,
            42.82140177455153,
            41.504477643507144,
            40.00566872524056,
            39.043838355329946,
            37.794716297103854,
            null
           ]
          },
          {
           "type": "scatter",
           "x": [
            null
           ],
           "y": [
            null
           ]
          },
          {
           "type": "scatter",
           "x": [
            29.48549289914162,
            29.566959895716213,
            29.64486639361848,
            29.715807505053228,
            29.77668276303754,
            29.824831626685615,
            29.85814975961214,
            29.875180999530084,
            29.875180999530084,
            29.85814975961214,
            29.824831626685615,
            29.77668276303754,
            29.715807505053228,
            29.64486639361848,
            29.566959895716213,
            29.48549289914162,
            29.404025902567025,
            29.32611940466476,
            29.25517829323001,
            29.194303035245696,
            29.146154171597622,
            29.112836038671098,
            29.095804798753154,
            29.095804798753154,
            29.112836038671098,
            29.146154171597622,
            29.194303035245696,
            29.25517829323001,
            29.32611940466476,
            29.404025902567025,
            null,
            null
           ],
           "y": [
            34.20879933450069,
            34.20023680812632,
            34.174923452493346,
            34.133965582709884,
            34.07915325422313,
            34.01288202880669,
            33.938048277015895,
            33.857922592896166,
            33.77600685332924,
            33.695881169209514,
            33.621047417418715,
            33.55477619200228,
            33.499963863515525,
            33.45900599373206,
            33.43369263809909,
            33.42513011172472,
            33.43369263809909,
            33.45900599373206,
            33.499963863515525,
            33.55477619200228,
            33.621047417418715,
            33.695881169209514,
            33.77600685332924,
            33.857922592896166,
            33.938048277015895,
            34.01288202880669,
            34.07915325422313,
            34.133965582709884,
            34.174923452493346,
            34.20023680812632,
            null,
            null
           ]
          },
          {
           "type": "scatter",
           "x": [
            null
           ],
           "y": [
            null
           ]
          },
          {
           "type": "scatter",
           "x": [
            44.85506086017132,
            44.936430094301635,
            45.014243102447544,
            45.08509908276484,
            45.14590128890894,
            45.19399237270998,
            45.227270523039245,
            45.24428132504106,
            45.24428132504106,
            45.227270523039245,
            45.19399237270998,
            45.14590128890894,
            45.08509908276484,
            45.014243102447544,
            44.936430094301635,
            44.85506086017132,
            44.77369162604101,
            44.6958786178951,
            44.6250226375778,
            44.564220431433704,
            44.51612934763266,
            44.4828511973034,
            44.46584039530158,
            44.46584039530158,
            44.4828511973034,
            44.51612934763266,
            44.564220431433704,
            44.62502263757781,
            44.6958786178951,
            44.77369162604101,
            null,
            null
           ],
           "y": [
            38.186080697105936,
            38.17752844597852,
            38.15224546700878,
            38.11133674769889,
            38.056590195384516,
            37.9903984971049,
            37.915654547697855,
            37.835625016413736,
            37.75380757779397,
            37.67377804650985,
            37.59903409710281,
            37.53284239882319,
            37.478095846508815,
            37.437187127198925,
            37.41190414822919,
            37.40335189710177,
            37.41190414822919,
            37.437187127198925,
            37.478095846508815,
            37.53284239882319,
            37.59903409710281,
            37.67377804650985,
            37.75380757779397,
            37.835625016413736,
            37.915654547697855,
            37.9903984971049,
            38.056590195384516,
            38.11133674769889,
            38.15224546700878,
            38.17752844597852,
            null,
            null
           ]
          }
         ],
         "name": "2023-09-07 15:01:12",
         "traces": [
          0,
          1,
          2,
          3,
          4,
          5,
          6,
          7,
          8,
          9,
          10,
          11,
          12,
          13,
          14,
          15
         ]
        },
        {
         "data": [
          {
           "type": "scatter",
           "x": [
            0,
            0
           ],
           "y": [
            0,
            0
           ]
          },
          {
           "hovertemplate": "GroundTruthState<br>(%{x}, %{y})<br>Time: %{meta}",
           "meta": [
            "2023-09-07 15:00:40",
            "2023-09-07 15:00:41",
            "2023-09-07 15:00:42",
            "2023-09-07 15:00:43",
            "2023-09-07 15:00:44",
            "2023-09-07 15:00:45",
            "2023-09-07 15:00:46",
            "2023-09-07 15:00:47",
            "2023-09-07 15:00:48",
            "2023-09-07 15:00:49",
            "2023-09-07 15:00:50",
            "2023-09-07 15:00:51",
            "2023-09-07 15:00:52",
            "2023-09-07 15:00:53",
            "2023-09-07 15:00:54",
            "2023-09-07 15:00:55",
            "2023-09-07 15:00:56",
            "2023-09-07 15:00:57",
            "2023-09-07 15:00:58",
            "2023-09-07 15:00:59",
            "2023-09-07 15:01:00",
            "2023-09-07 15:01:01",
            "2023-09-07 15:01:02"
           ],
           "type": "scatter",
           "x": [
            0,
            0.8091562802362998,
            1.4187778862009663,
            1.9340594175080428,
            2.7291599722274826,
            3.736499927988022,
            5.119411483348772,
            6.216732395332771,
            7.088723290570684,
            7.663354901814838,
            8.096722636252593,
            8.358906371025952,
            8.54822310121289,
            8.543882911480415,
            8.661018452611112,
            8.81413676771379,
            8.666475553311493,
            8.457114429626253,
            8.378969059200568,
            8.506472261414322,
            8.76192113749374,
            8.789109668220165,
            8.645151050991842,
            null
           ],
           "y": [
            41.55127793935055,
            41.14739075037148,
            40.71022742116085,
            40.33576258703677,
            40.11469426682165,
            40.0218978369037,
            40.11795936277245,
            40.23397761081491,
            40.45410408807201,
            40.66784873441858,
            41.10916580043645,
            41.59034958414012,
            42.15920554432621,
            42.83722041736732,
            43.80601257101235,
            44.72250861193358,
            45.55082005749288,
            46.478942183204815,
            47.23049024720247,
            48.1829097420305,
            49.16778848572788,
            49.950207045006884,
            50.84956128513592,
            null
           ]
          },
          {
           "hovertemplate": "GroundTruthState<br>(%{x}, %{y})<br>Time: %{meta}",
           "meta": [
            "2023-09-07 15:00:58",
            "2023-09-07 15:00:59",
            "2023-09-07 15:01:00",
            "2023-09-07 15:01:01",
            "2023-09-07 15:01:02",
            "2023-09-07 15:01:03",
            "2023-09-07 15:01:04",
            "2023-09-07 15:01:05",
            "2023-09-07 15:01:06",
            "2023-09-07 15:01:07",
            "2023-09-07 15:01:08",
            "2023-09-07 15:01:09",
            "2023-09-07 15:01:10",
            "2023-09-07 15:01:11",
            "2023-09-07 15:01:12",
            "2023-09-07 15:01:13"
           ],
           "type": "scatter",
           "x": [
            24.40294393298363,
            24.37101772209079,
            24.585384850156284,
            25.03868275478802,
            25.1049789512843,
            25.120548589233294,
            25.408274935648077,
            25.597302325430956,
            25.672637855560588,
            25.80173268410434,
            26.38411337439661,
            26.849321650314195,
            27.310076869760383,
            27.967766755734598,
            29.042742972472052,
            30.289521934785512,
            null
           ],
           "y": [
            50,
            48.92607580828807,
            47.94386490735651,
            46.9525856518256,
            45.916836511442554,
            44.660383933816995,
            43.38923608926767,
            41.798256079790406,
            40.37683940593047,
            39.10834475444106,
            37.99258063423742,
            36.80434580629272,
            35.73674662487452,
            34.5679650472467,
            33.772178919948075,
            33.158761432384615,
            null
           ]
          },
          {
           "hovertemplate": "GroundTruthState<br>(%{x}, %{y})<br>Time: %{meta}",
           "meta": [
            "2023-09-07 15:00:59",
            "2023-09-07 15:01:00",
            "2023-09-07 15:01:01",
            "2023-09-07 15:01:02",
            "2023-09-07 15:01:03",
            "2023-09-07 15:01:04",
            "2023-09-07 15:01:05",
            "2023-09-07 15:01:06",
            "2023-09-07 15:01:07",
            "2023-09-07 15:01:08",
            "2023-09-07 15:01:09",
            "2023-09-07 15:01:10",
            "2023-09-07 15:01:11",
            "2023-09-07 15:01:12",
            "2023-09-07 15:01:13"
           ],
           "type": "scatter",
           "x": [
            34.9497917032631,
            34.692784657380166,
            34.62875348769775,
            34.70653825006885,
            35.16602245368285,
            35.84203896849462,
            36.48923137530482,
            37.304433786378794,
            38.273117794667684,
            39.27302578813828,
            40.575156256116884,
            42.13859623033162,
            43.61811499994063,
            45.13597961938457,
            46.80097281565994,
            null
           ],
           "y": [
            50,
            49.233094514513525,
            48.65632716274939,
            48.04342569579986,
            47.37584157077364,
            46.67834504620978,
            45.83272536574674,
            44.99090823719139,
            44.11358671702823,
            43.045507500400134,
            41.692529772966616,
            40.25930053089142,
            38.90349389643283,
            37.79892206904109,
            36.72496748091521,
            null
           ]
          },
          {
           "hovertemplate": "GroundTruthState<br>(%{x}, %{y})<br>Time: %{meta}",
           "meta": [],
           "type": "scatter",
           "x": [
            null
           ],
           "y": [
            null
           ]
          },
          {
           "type": "scatter",
           "x": [
            null,
            null
           ],
           "y": [
            null,
            null
           ]
          },
          {
           "hovertemplate": "Detection<br>(%{x}, %{y})<br>Time: %{meta}",
           "meta": [
            "2023-09-07 15:00:40",
            "2023-09-07 15:00:41",
            "2023-09-07 15:00:42",
            "2023-09-07 15:00:43",
            "2023-09-07 15:00:44",
            "2023-09-07 15:00:46",
            "2023-09-07 15:00:47",
            "2023-09-07 15:00:48",
            "2023-09-07 15:00:49",
            "2023-09-07 15:00:50",
            "2023-09-07 15:00:51",
            "2023-09-07 15:00:52",
            "2023-09-07 15:00:53",
            "2023-09-07 15:00:54",
            "2023-09-07 15:00:55",
            "2023-09-07 15:00:56",
            "2023-09-07 15:00:57",
            "2023-09-07 15:00:58",
            "2023-09-07 15:00:58",
            "2023-09-07 15:00:59",
            "2023-09-07 15:00:59",
            "2023-09-07 15:00:59",
            "2023-09-07 15:01:00",
            "2023-09-07 15:01:00",
            "2023-09-07 15:01:01",
            "2023-09-07 15:01:01",
            "2023-09-07 15:01:02",
            "2023-09-07 15:01:02",
            "2023-09-07 15:01:02",
            "2023-09-07 15:01:03",
            "2023-09-07 15:01:03",
            "2023-09-07 15:01:04",
            "2023-09-07 15:01:05",
            "2023-09-07 15:01:05",
            "2023-09-07 15:01:06",
            "2023-09-07 15:01:06",
            "2023-09-07 15:01:07",
            "2023-09-07 15:01:08",
            "2023-09-07 15:01:09",
            "2023-09-07 15:01:09",
            "2023-09-07 15:01:10",
            "2023-09-07 15:01:10",
            "2023-09-07 15:01:11",
            "2023-09-07 15:01:11",
            "2023-09-07 15:01:12",
            "2023-09-07 15:01:12",
            "2023-09-07 15:01:13",
            "2023-09-07 15:01:13"
           ],
           "type": "scatter",
           "x": [
            -0.43005629247898636,
            1.9613126588341832,
            1.328760915097623,
            1.6486342541080825,
            3.391167130241921,
            5.198613247790583,
            5.5997844867706466,
            6.935456692747284,
            8.51160294626042,
            6.938136290313291,
            8.00171047550961,
            8.455481513912613,
            8.51568107852356,
            9.22411910733494,
            9.258594731151701,
            9.32950730831503,
            7.804987863094423,
            24.581047874774246,
            7.832277013086065,
            34.62154345599989,
            7.937505079616018,
            24.155956069792705,
            34.219527318752874,
            8.764921493433448,
            9.169878259121589,
            34.33792014141769,
            24.808252741464877,
            35.71409381177726,
            8.508185830477029,
            35.01040999823201,
            24.184393334774143,
            25.495805205839506,
            35.85950727938655,
            25.487965372036413,
            37.36295589502933,
            25.364300083095635,
            38.81490747362937,
            26.92650992023429,
            26.03596591259028,
            40.090247952530696,
            42.62750361307228,
            27.050675848162673,
            43.69493541940249,
            29.12902614422362,
            44.76176804768235,
            29.637506472195824,
            29.650900517596043,
            46.75423507948332,
            null
           ],
           "y": [
            41.49312990045806,
            41.29578777553558,
            40.56025765481257,
            40.943137598599904,
            39.64105359377544,
            39.7539260798625,
            40.62749687000739,
            40.351899248824374,
            41.209034178881836,
            41.088704044823054,
            41.05099188880684,
            42.74592512474356,
            43.20802778630997,
            43.2900108578128,
            45.8069560006637,
            45.87834412006734,
            45.455700324445665,
            49.781697352014895,
            47.498742904408566,
            50.04974583545324,
            48.40541225977234,
            49.01136420875983,
            49.4925172018819,
            49.2219643780955,
            50.30810535810356,
            48.09527774002108,
            46.25695400029111,
            48.2078196986085,
            50.78839562369448,
            47.417274779382694,
            44.40599996400887,
            43.5197927927032,
            46.46503732984592,
            42.9412446802236,
            45.03790399017466,
            40.09552610002099,
            43.439230732975716,
            38.353008304293894,
            37.40798677226102,
            41.43540277842083,
            39.815961201534854,
            35.48874681711073,
            39.257107273185376,
            34.835324386097554,
            37.730821826564785,
            34.03955023089411,
            32.69639958115087,
            37.01295190145951,
            null
           ]
          },
          {
           "hovertemplate": "Clutter<br>(%{x}, %{y})<br>Time: %{meta}",
           "meta": [
            "2023-09-07 15:00:40",
            "2023-09-07 15:00:41",
            "2023-09-07 15:00:41",
            "2023-09-07 15:00:41",
            "2023-09-07 15:00:43",
            "2023-09-07 15:00:45",
            "2023-09-07 15:00:45",
            "2023-09-07 15:00:47",
            "2023-09-07 15:00:47",
            "2023-09-07 15:00:47",
            "2023-09-07 15:00:47",
            "2023-09-07 15:00:47",
            "2023-09-07 15:00:49",
            "2023-09-07 15:00:51",
            "2023-09-07 15:00:54",
            "2023-09-07 15:00:56",
            "2023-09-07 15:00:57",
            "2023-09-07 15:00:57",
            "2023-09-07 15:00:58",
            "2023-09-07 15:00:58",
            "2023-09-07 15:00:58",
            "2023-09-07 15:00:59",
            "2023-09-07 15:00:59",
            "2023-09-07 15:00:59",
            "2023-09-07 15:00:59",
            "2023-09-07 15:00:59",
            "2023-09-07 15:01:00",
            "2023-09-07 15:01:00",
            "2023-09-07 15:01:00",
            "2023-09-07 15:01:00",
            "2023-09-07 15:01:01",
            "2023-09-07 15:01:01",
            "2023-09-07 15:01:01",
            "2023-09-07 15:01:02",
            "2023-09-07 15:01:02",
            "2023-09-07 15:01:02",
            "2023-09-07 15:01:02",
            "2023-09-07 15:01:02",
            "2023-09-07 15:01:02",
            "2023-09-07 15:01:03",
            "2023-09-07 15:01:03",
            "2023-09-07 15:01:03",
            "2023-09-07 15:01:04",
            "2023-09-07 15:01:04",
            "2023-09-07 15:01:04",
            "2023-09-07 15:01:05",
            "2023-09-07 15:01:06",
            "2023-09-07 15:01:07",
            "2023-09-07 15:01:07",
            "2023-09-07 15:01:07",
            "2023-09-07 15:01:08",
            "2023-09-07 15:01:08",
            "2023-09-07 15:01:08",
            "2023-09-07 15:01:08",
            "2023-09-07 15:01:08",
            "2023-09-07 15:01:09",
            "2023-09-07 15:01:10",
            "2023-09-07 15:01:11",
            "2023-09-07 15:01:11",
            "2023-09-07 15:01:11",
            "2023-09-07 15:01:11",
            "2023-09-07 15:01:11",
            "2023-09-07 15:01:12",
            "2023-09-07 15:01:12",
            "2023-09-07 15:01:12",
            "2023-09-07 15:01:12",
            "2023-09-07 15:01:12",
            "2023-09-07 15:01:13",
            "2023-09-07 15:01:13"
           ],
           "type": "scatter",
           "x": [
            0.2628629860147935,
            -5.947186089536171,
            7.511234499194794,
            1.2368016066430076,
            -3.9383022083791523,
            9.519502944212656,
            8.816880016344196,
            15.208121856273904,
            14.025710879284519,
            -2.1359261723065925,
            7.05768093084308,
            1.592790739428831,
            0.7285176578468473,
            12.242518424828313,
            3.6747835001110527,
            7.866884907505119,
            12.411475162781779,
            12.833029096254522,
            8.261923541005068,
            5.0831273653651925,
            26.930871334830616,
            27.039745244561278,
            25.019860088518154,
            39.455693446687164,
            27.321535352904682,
            30.31780651486834,
            12.573526520789473,
            15.008821802752902,
            37.988817903560175,
            3.1977264770182456,
            13.555350298851561,
            3.5535772988144787,
            2.057485696647321,
            23.72489197255483,
            25.905726518102984,
            -0.049607600934990614,
            44.312221984514245,
            9.378352296443829,
            18.50241946088084,
            30.322701798056244,
            28.821367618013763,
            25.72928462141531,
            18.18069435837016,
            21.970881345714687,
            28.156454350498258,
            32.61429649029611,
            30.631145124138264,
            33.37364391128446,
            35.236020391599894,
            30.857949385414095,
            20.998130741840967,
            45.99412281903775,
            32.302439553723595,
            32.08881121592395,
            34.368659894470255,
            42.63783354856306,
            22.825250443375126,
            46.76794784079708,
            25.38567011928725,
            45.59917618721364,
            28.467386802836238,
            18.410120848619496,
            31.66272113820452,
            43.1559331152242,
            32.602419166440825,
            24.888047131114774,
            41.99512520304298,
            34.34481959543665,
            45.64098929078003,
            null
           ],
           "y": [
            45.565386681545874,
            45.05366061755791,
            46.35592175810034,
            32.05905379580751,
            47.28393730753255,
            31.456987364994728,
            34.167845538700334,
            41.39926162025145,
            30.523269059328186,
            39.91303043863957,
            48.67691635585126,
            36.21792645246228,
            49.91527833476793,
            47.603344842135236,
            45.81113548447709,
            36.913833208623586,
            42.07983225975437,
            37.580041204503345,
            51.51203885361398,
            38.77727204839494,
            50.26474359709672,
            46.83275159513233,
            44.2215730834841,
            42.928967070680564,
            39.18334456447075,
            41.74815349965422,
            53.23948281955508,
            39.23710521891505,
            41.71611682790641,
            44.66052183772808,
            54.103690631976036,
            53.14575568077721,
            55.08403627460173,
            53.54937794282731,
            39.48254372876265,
            49.2227662940403,
            54.06836097418948,
            56.263969533566836,
            53.25939906245995,
            35.91069398537605,
            41.65623575003663,
            41.905400700989,
            39.61971827652344,
            48.47021711265079,
            47.053263396761686,
            48.42591290835785,
            46.873040621337125,
            35.83422888376544,
            40.8472753333875,
            45.24876042326029,
            41.2671197651651,
            50.516940652029575,
            45.179981648715554,
            30.171972495537165,
            42.403150160945586,
            46.32282510415091,
            42.91321237687506,
            41.0321130883941,
            29.506000958938504,
            37.63147063057602,
            32.76461422246943,
            36.560369010476535,
            37.87256247118427,
            45.9129338470391,
            42.61065010596327,
            25.82761963811049,
            36.2851591423244,
            32.987197462520854,
            43.251218519286574,
            null
           ]
          },
          {
           "type": "scatter",
           "x": [
            null,
            null
           ],
           "y": [
            null,
            null
           ]
          },
          {
           "customdata": [
            "2023-09-07 15:01:02",
            "2023-09-07 15:01:03",
            "2023-09-07 15:01:04",
            "2023-09-07 15:01:05",
            "2023-09-07 15:01:06",
            "2023-09-07 15:01:07",
            "2023-09-07 15:01:08",
            "2023-09-07 15:01:09",
            "2023-09-07 15:01:10",
            "2023-09-07 15:01:11",
            "2023-09-07 15:01:12",
            "2023-09-07 15:01:13"
           ],
           "hovertemplate": "%{meta}<br>(%{x}, %{y})<br>Time: %{customdata}",
           "meta": [
            "GaussianStateUpdate",
            "GaussianStateUpdate",
            "GaussianStatePrediction",
            "GaussianStateUpdate",
            "GaussianStateUpdate",
            "GaussianStatePrediction",
            "GaussianStateUpdate",
            "GaussianStateUpdate",
            "GaussianStateUpdate",
            "GaussianStateUpdate",
            "GaussianStateUpdate",
            "GaussianStateUpdate"
           ],
           "type": "scatter",
           "x": [
            24.808252741464877,
            24.28722730290998,
            23.865608033553055,
            25.298502648302748,
            25.44756589740006,
            25.699765066300532,
            26.72111884305909,
            26.47411081482359,
            26.91022719214639,
            28.392689239379788,
            29.48549289914162,
            29.958885131659155,
            null
           ],
           "y": [
            46.25695400029111,
            44.71110227768177,
            43.46018279162289,
            42.873394987407465,
            40.67460334874732,
            39.19307683483714,
            38.21781736538797,
            37.23463311057605,
            35.712856771033614,
            34.66207924550508,
            33.816964723112704,
            32.728697608491885,
            null
           ]
          },
          {
           "customdata": [
            "2023-09-07 15:00:40",
            "2023-09-07 15:00:41",
            "2023-09-07 15:00:42",
            "2023-09-07 15:00:43",
            "2023-09-07 15:00:44",
            "2023-09-07 15:00:45",
            "2023-09-07 15:00:46",
            "2023-09-07 15:00:47",
            "2023-09-07 15:00:48",
            "2023-09-07 15:00:49",
            "2023-09-07 15:00:50",
            "2023-09-07 15:00:51",
            "2023-09-07 15:00:52",
            "2023-09-07 15:00:53",
            "2023-09-07 15:00:54",
            "2023-09-07 15:00:55",
            "2023-09-07 15:00:56",
            "2023-09-07 15:00:57",
            "2023-09-07 15:00:58",
            "2023-09-07 15:00:59",
            "2023-09-07 15:01:00",
            "2023-09-07 15:01:01",
            "2023-09-07 15:01:02",
            "2023-09-07 15:01:03",
            "2023-09-07 15:01:04",
            "2023-09-07 15:01:05"
           ],
           "hovertemplate": "%{meta}<br>(%{x}, %{y})<br>Time: %{customdata}",
           "meta": [
            "GaussianStateUpdate",
            "GaussianStateUpdate",
            "GaussianStateUpdate",
            "GaussianStateUpdate",
            "GaussianStateUpdate",
            "GaussianStatePrediction",
            "GaussianStateUpdate",
            "GaussianStateUpdate",
            "GaussianStateUpdate",
            "GaussianStateUpdate",
            "GaussianStatePrediction",
            "GaussianStateUpdate",
            "GaussianStateUpdate",
            "GaussianStateUpdate",
            "GaussianStateUpdate",
            "GaussianStateUpdate",
            "GaussianStateUpdate",
            "GaussianStateUpdate",
            "GaussianStateUpdate",
            "GaussianStateUpdate",
            "GaussianStateUpdate",
            "GaussianStateUpdate",
            "GaussianStateUpdate",
            "GaussianStatePrediction",
            "GaussianStatePrediction",
            "GaussianStatePrediction"
           ],
           "type": "scatter",
           "x": [
            -0.43005629247898636,
            1.5671309635627815,
            1.7248047174586882,
            1.8905500191617137,
            3.0266606144206634,
            3.7930024690710495,
            5.063871539095284,
            5.749814186180568,
            6.802874669121355,
            8.2129677138972,
            9.367732280484283,
            8.542618402693721,
            8.634368220211687,
            8.669701894529883,
            9.075003246000703,
            9.29501577604749,
            9.413413937498195,
            8.502632005862981,
            7.971735342146178,
            7.79106608746795,
            8.267728552533242,
            8.8391159278272,
            8.748563089055056,
            8.86400725665167,
            8.979451424248284,
            9.094895591844898,
            null
           ],
           "y": [
            41.49312990045806,
            41.3283166972261,
            40.69579995272057,
            40.74242157325732,
            39.9576780440993,
            39.494129937136556,
            39.60146342055227,
            40.16817369119637,
            40.313729365629904,
            40.905811622898376,
            41.23864331164184,
            41.162676656780185,
            42.24148057909349,
            43.0469437062278,
            43.453524571615226,
            45.10875518315963,
            45.9885693493004,
            46.04032141953401,
            47.147697787822864,
            48.23006081378942,
            49.19872167033096,
            50.24570967805816,
            50.9635055877399,
            51.8313661441028,
            52.6992267004657,
            53.5670872568286,
            null
           ]
          },
          {
           "customdata": [
            "2023-09-07 15:00:59",
            "2023-09-07 15:01:00",
            "2023-09-07 15:01:01",
            "2023-09-07 15:01:02",
            "2023-09-07 15:01:03",
            "2023-09-07 15:01:04",
            "2023-09-07 15:01:05",
            "2023-09-07 15:01:06",
            "2023-09-07 15:01:07",
            "2023-09-07 15:01:08",
            "2023-09-07 15:01:09",
            "2023-09-07 15:01:10",
            "2023-09-07 15:01:11",
            "2023-09-07 15:01:12",
            "2023-09-07 15:01:13"
           ],
           "hovertemplate": "%{meta}<br>(%{x}, %{y})<br>Time: %{customdata}",
           "meta": [
            "GaussianStateUpdate",
            "GaussianStateUpdate",
            "GaussianStateUpdate",
            "GaussianStateUpdate",
            "GaussianStateUpdate",
            "GaussianStatePrediction",
            "GaussianStateUpdate",
            "GaussianStateUpdate",
            "GaussianStateUpdate",
            "GaussianStatePrediction",
            "GaussianStateUpdate",
            "GaussianStateUpdate",
            "GaussianStateUpdate",
            "GaussianStateUpdate",
            "GaussianStateUpdate"
           ],
           "type": "scatter",
           "x": [
            34.62154345599989,
            34.285793715002384,
            34.268766551451364,
            35.25199515478764,
            35.241728090713245,
            35.46611855956127,
            35.823886725585425,
            36.908212632501446,
            38.31187561793434,
            39.27738316623153,
            40.12303778529568,
            42.05919966214608,
            43.58076136933816,
            44.85506086017132,
            46.54365872209996,
            null
           ],
           "y": [
            50.04974583545324,
            49.58436807554751,
            48.332859762710335,
            47.97879829102805,
            47.391708738119306,
            46.778684057935784,
            46.40193603508247,
            45.339300697596954,
            43.8858444435431,
            42.82140177455153,
            41.504477643507144,
            40.00566872524056,
            39.043838355329946,
            37.794716297103854,
            36.85351357980136,
            null
           ]
          },
          {
           "type": "scatter",
           "x": [
            null
           ],
           "y": [
            null
           ]
          },
          {
           "type": "scatter",
           "x": [
            29.958885131659155,
            30.040292268672296,
            30.118141523163175,
            30.18903050914838,
            30.249861037777254,
            30.29797452305146,
            30.331268174790395,
            30.3482869006524,
            30.3482869006524,
            30.331268174790395,
            30.29797452305146,
            30.249861037777254,
            30.18903050914838,
            30.118141523163175,
            30.040292268672296,
            29.958885131659155,
            29.877477994646014,
            29.799628740155136,
            29.72873975416993,
            29.667909225541056,
            29.61979574026685,
            29.586502088527915,
            29.56948336266591,
            29.56948336266591,
            29.586502088527915,
            29.61979574026685,
            29.667909225541056,
            29.72873975416993,
            29.799628740155136,
            29.877477994646014,
            null,
            null
           ],
           "y": [
            33.12024431129127,
            33.11168807641034,
            33.086393320289204,
            33.04546554514807,
            32.99069349115385,
            32.92447095989158,
            32.849692193748375,
            32.76962538363302,
            32.68776983335075,
            32.607703023235395,
            32.53292425709219,
            32.46670172582992,
            32.4119296718357,
            32.371001896694565,
            32.34570714057343,
            32.337150905692496,
            32.34570714057343,
            32.371001896694565,
            32.4119296718357,
            32.46670172582992,
            32.53292425709219,
            32.607703023235395,
            32.68776983335075,
            32.76962538363302,
            32.849692193748375,
            32.92447095989158,
            32.99069349115385,
            33.04546554514807,
            33.086393320289204,
            33.11168807641034,
            null,
            null
           ]
          },
          {
           "type": "scatter",
           "x": [
            null
           ],
           "y": [
            null
           ]
          },
          {
           "type": "scatter",
           "x": [
            46.54365872209996,
            46.625094808473136,
            46.7029717470981,
            46.77388594206194,
            46.83473810276066,
            46.88286869777068,
            46.916174189133834,
            46.93319896706007,
            46.93319896706007,
            46.916174189133834,
            46.88286869777068,
            46.83473810276066,
            46.77388594206194,
            46.7029717470981,
            46.625094808473136,
            46.54365872209996,
            46.46222263572679,
            46.38434569710183,
            46.31343150213799,
            46.252579341439265,
            46.20444874642924,
            46.17114325506609,
            46.15411847713985,
            46.15411847713985,
            46.17114325506609,
            46.20444874642924,
            46.252579341439265,
            46.31343150213799,
            46.38434569710183,
            46.46222263572679,
            null,
            null
           ],
           "y": [
            37.24519952133195,
            37.236640243750664,
            37.2113364925091,
            37.17039416295736,
            37.11560263135996,
            37.04935655056666,
            36.97455119219206,
            36.8944559093531,
            36.81257125024962,
            36.73247596741066,
            36.65767060903606,
            36.591424528242754,
            36.53663299664536,
            36.49569066709362,
            36.47038691585205,
            36.46182763827077,
            36.47038691585205,
            36.49569066709362,
            36.53663299664536,
            36.591424528242754,
            36.65767060903606,
            36.73247596741065,
            36.81257125024962,
            36.8944559093531,
            36.97455119219206,
            37.04935655056666,
            37.11560263135996,
            37.17039416295736,
            37.21133649250909,
            37.236640243750664,
            null,
            null
           ]
          }
         ],
         "name": "2023-09-07 15:01:13",
         "traces": [
          0,
          1,
          2,
          3,
          4,
          5,
          6,
          7,
          8,
          9,
          10,
          11,
          12,
          13,
          14,
          15
         ]
        },
        {
         "data": [
          {
           "type": "scatter",
           "x": [
            0,
            0
           ],
           "y": [
            0,
            0
           ]
          },
          {
           "hovertemplate": "GroundTruthState<br>(%{x}, %{y})<br>Time: %{meta}",
           "meta": [
            "2023-09-07 15:00:40",
            "2023-09-07 15:00:41",
            "2023-09-07 15:00:42",
            "2023-09-07 15:00:43",
            "2023-09-07 15:00:44",
            "2023-09-07 15:00:45",
            "2023-09-07 15:00:46",
            "2023-09-07 15:00:47",
            "2023-09-07 15:00:48",
            "2023-09-07 15:00:49",
            "2023-09-07 15:00:50",
            "2023-09-07 15:00:51",
            "2023-09-07 15:00:52",
            "2023-09-07 15:00:53",
            "2023-09-07 15:00:54",
            "2023-09-07 15:00:55",
            "2023-09-07 15:00:56",
            "2023-09-07 15:00:57",
            "2023-09-07 15:00:58",
            "2023-09-07 15:00:59",
            "2023-09-07 15:01:00",
            "2023-09-07 15:01:01",
            "2023-09-07 15:01:02"
           ],
           "type": "scatter",
           "x": [
            0,
            0.8091562802362998,
            1.4187778862009663,
            1.9340594175080428,
            2.7291599722274826,
            3.736499927988022,
            5.119411483348772,
            6.216732395332771,
            7.088723290570684,
            7.663354901814838,
            8.096722636252593,
            8.358906371025952,
            8.54822310121289,
            8.543882911480415,
            8.661018452611112,
            8.81413676771379,
            8.666475553311493,
            8.457114429626253,
            8.378969059200568,
            8.506472261414322,
            8.76192113749374,
            8.789109668220165,
            8.645151050991842,
            null
           ],
           "y": [
            41.55127793935055,
            41.14739075037148,
            40.71022742116085,
            40.33576258703677,
            40.11469426682165,
            40.0218978369037,
            40.11795936277245,
            40.23397761081491,
            40.45410408807201,
            40.66784873441858,
            41.10916580043645,
            41.59034958414012,
            42.15920554432621,
            42.83722041736732,
            43.80601257101235,
            44.72250861193358,
            45.55082005749288,
            46.478942183204815,
            47.23049024720247,
            48.1829097420305,
            49.16778848572788,
            49.950207045006884,
            50.84956128513592,
            null
           ]
          },
          {
           "hovertemplate": "GroundTruthState<br>(%{x}, %{y})<br>Time: %{meta}",
           "meta": [
            "2023-09-07 15:00:58",
            "2023-09-07 15:00:59",
            "2023-09-07 15:01:00",
            "2023-09-07 15:01:01",
            "2023-09-07 15:01:02",
            "2023-09-07 15:01:03",
            "2023-09-07 15:01:04",
            "2023-09-07 15:01:05",
            "2023-09-07 15:01:06",
            "2023-09-07 15:01:07",
            "2023-09-07 15:01:08",
            "2023-09-07 15:01:09",
            "2023-09-07 15:01:10",
            "2023-09-07 15:01:11",
            "2023-09-07 15:01:12",
            "2023-09-07 15:01:13",
            "2023-09-07 15:01:14"
           ],
           "type": "scatter",
           "x": [
            24.40294393298363,
            24.37101772209079,
            24.585384850156284,
            25.03868275478802,
            25.1049789512843,
            25.120548589233294,
            25.408274935648077,
            25.597302325430956,
            25.672637855560588,
            25.80173268410434,
            26.38411337439661,
            26.849321650314195,
            27.310076869760383,
            27.967766755734598,
            29.042742972472052,
            30.289521934785512,
            31.624543305557914,
            null
           ],
           "y": [
            50,
            48.92607580828807,
            47.94386490735651,
            46.9525856518256,
            45.916836511442554,
            44.660383933816995,
            43.38923608926767,
            41.798256079790406,
            40.37683940593047,
            39.10834475444106,
            37.99258063423742,
            36.80434580629272,
            35.73674662487452,
            34.5679650472467,
            33.772178919948075,
            33.158761432384615,
            32.76450748321075,
            null
           ]
          },
          {
           "hovertemplate": "GroundTruthState<br>(%{x}, %{y})<br>Time: %{meta}",
           "meta": [
            "2023-09-07 15:00:59",
            "2023-09-07 15:01:00",
            "2023-09-07 15:01:01",
            "2023-09-07 15:01:02",
            "2023-09-07 15:01:03",
            "2023-09-07 15:01:04",
            "2023-09-07 15:01:05",
            "2023-09-07 15:01:06",
            "2023-09-07 15:01:07",
            "2023-09-07 15:01:08",
            "2023-09-07 15:01:09",
            "2023-09-07 15:01:10",
            "2023-09-07 15:01:11",
            "2023-09-07 15:01:12",
            "2023-09-07 15:01:13",
            "2023-09-07 15:01:14"
           ],
           "type": "scatter",
           "x": [
            34.9497917032631,
            34.692784657380166,
            34.62875348769775,
            34.70653825006885,
            35.16602245368285,
            35.84203896849462,
            36.48923137530482,
            37.304433786378794,
            38.273117794667684,
            39.27302578813828,
            40.575156256116884,
            42.13859623033162,
            43.61811499994063,
            45.13597961938457,
            46.80097281565994,
            48.56100000968383,
            null
           ],
           "y": [
            50,
            49.233094514513525,
            48.65632716274939,
            48.04342569579986,
            47.37584157077364,
            46.67834504620978,
            45.83272536574674,
            44.99090823719139,
            44.11358671702823,
            43.045507500400134,
            41.692529772966616,
            40.25930053089142,
            38.90349389643283,
            37.79892206904109,
            36.72496748091521,
            35.568203065578025,
            null
           ]
          },
          {
           "hovertemplate": "GroundTruthState<br>(%{x}, %{y})<br>Time: %{meta}",
           "meta": [],
           "type": "scatter",
           "x": [
            null
           ],
           "y": [
            null
           ]
          },
          {
           "type": "scatter",
           "x": [
            null,
            null
           ],
           "y": [
            null,
            null
           ]
          },
          {
           "hovertemplate": "Detection<br>(%{x}, %{y})<br>Time: %{meta}",
           "meta": [
            "2023-09-07 15:00:40",
            "2023-09-07 15:00:41",
            "2023-09-07 15:00:42",
            "2023-09-07 15:00:43",
            "2023-09-07 15:00:44",
            "2023-09-07 15:00:46",
            "2023-09-07 15:00:47",
            "2023-09-07 15:00:48",
            "2023-09-07 15:00:49",
            "2023-09-07 15:00:50",
            "2023-09-07 15:00:51",
            "2023-09-07 15:00:52",
            "2023-09-07 15:00:53",
            "2023-09-07 15:00:54",
            "2023-09-07 15:00:55",
            "2023-09-07 15:00:56",
            "2023-09-07 15:00:57",
            "2023-09-07 15:00:58",
            "2023-09-07 15:00:58",
            "2023-09-07 15:00:59",
            "2023-09-07 15:00:59",
            "2023-09-07 15:00:59",
            "2023-09-07 15:01:00",
            "2023-09-07 15:01:00",
            "2023-09-07 15:01:01",
            "2023-09-07 15:01:01",
            "2023-09-07 15:01:02",
            "2023-09-07 15:01:02",
            "2023-09-07 15:01:02",
            "2023-09-07 15:01:03",
            "2023-09-07 15:01:03",
            "2023-09-07 15:01:04",
            "2023-09-07 15:01:05",
            "2023-09-07 15:01:05",
            "2023-09-07 15:01:06",
            "2023-09-07 15:01:06",
            "2023-09-07 15:01:07",
            "2023-09-07 15:01:08",
            "2023-09-07 15:01:09",
            "2023-09-07 15:01:09",
            "2023-09-07 15:01:10",
            "2023-09-07 15:01:10",
            "2023-09-07 15:01:11",
            "2023-09-07 15:01:11",
            "2023-09-07 15:01:12",
            "2023-09-07 15:01:12",
            "2023-09-07 15:01:13",
            "2023-09-07 15:01:13",
            "2023-09-07 15:01:14",
            "2023-09-07 15:01:14"
           ],
           "type": "scatter",
           "x": [
            -0.43005629247898636,
            1.9613126588341832,
            1.328760915097623,
            1.6486342541080825,
            3.391167130241921,
            5.198613247790583,
            5.5997844867706466,
            6.935456692747284,
            8.51160294626042,
            6.938136290313291,
            8.00171047550961,
            8.455481513912613,
            8.51568107852356,
            9.22411910733494,
            9.258594731151701,
            9.32950730831503,
            7.804987863094423,
            24.581047874774246,
            7.832277013086065,
            34.62154345599989,
            7.937505079616018,
            24.155956069792705,
            34.219527318752874,
            8.764921493433448,
            9.169878259121589,
            34.33792014141769,
            24.808252741464877,
            35.71409381177726,
            8.508185830477029,
            35.01040999823201,
            24.184393334774143,
            25.495805205839506,
            35.85950727938655,
            25.487965372036413,
            37.36295589502933,
            25.364300083095635,
            38.81490747362937,
            26.92650992023429,
            26.03596591259028,
            40.090247952530696,
            42.62750361307228,
            27.050675848162673,
            43.69493541940249,
            29.12902614422362,
            44.76176804768235,
            29.637506472195824,
            29.650900517596043,
            46.75423507948332,
            31.162340017132035,
            48.68956101342326,
            null
           ],
           "y": [
            41.49312990045806,
            41.29578777553558,
            40.56025765481257,
            40.943137598599904,
            39.64105359377544,
            39.7539260798625,
            40.62749687000739,
            40.351899248824374,
            41.209034178881836,
            41.088704044823054,
            41.05099188880684,
            42.74592512474356,
            43.20802778630997,
            43.2900108578128,
            45.8069560006637,
            45.87834412006734,
            45.455700324445665,
            49.781697352014895,
            47.498742904408566,
            50.04974583545324,
            48.40541225977234,
            49.01136420875983,
            49.4925172018819,
            49.2219643780955,
            50.30810535810356,
            48.09527774002108,
            46.25695400029111,
            48.2078196986085,
            50.78839562369448,
            47.417274779382694,
            44.40599996400887,
            43.5197927927032,
            46.46503732984592,
            42.9412446802236,
            45.03790399017466,
            40.09552610002099,
            43.439230732975716,
            38.353008304293894,
            37.40798677226102,
            41.43540277842083,
            39.815961201534854,
            35.48874681711073,
            39.257107273185376,
            34.835324386097554,
            37.730821826564785,
            34.03955023089411,
            32.69639958115087,
            37.01295190145951,
            32.69615968061823,
            35.061395201317445,
            null
           ]
          },
          {
           "hovertemplate": "Clutter<br>(%{x}, %{y})<br>Time: %{meta}",
           "meta": [
            "2023-09-07 15:00:40",
            "2023-09-07 15:00:41",
            "2023-09-07 15:00:41",
            "2023-09-07 15:00:41",
            "2023-09-07 15:00:43",
            "2023-09-07 15:00:45",
            "2023-09-07 15:00:45",
            "2023-09-07 15:00:47",
            "2023-09-07 15:00:47",
            "2023-09-07 15:00:47",
            "2023-09-07 15:00:47",
            "2023-09-07 15:00:47",
            "2023-09-07 15:00:49",
            "2023-09-07 15:00:51",
            "2023-09-07 15:00:54",
            "2023-09-07 15:00:56",
            "2023-09-07 15:00:57",
            "2023-09-07 15:00:57",
            "2023-09-07 15:00:58",
            "2023-09-07 15:00:58",
            "2023-09-07 15:00:58",
            "2023-09-07 15:00:59",
            "2023-09-07 15:00:59",
            "2023-09-07 15:00:59",
            "2023-09-07 15:00:59",
            "2023-09-07 15:00:59",
            "2023-09-07 15:01:00",
            "2023-09-07 15:01:00",
            "2023-09-07 15:01:00",
            "2023-09-07 15:01:00",
            "2023-09-07 15:01:01",
            "2023-09-07 15:01:01",
            "2023-09-07 15:01:01",
            "2023-09-07 15:01:02",
            "2023-09-07 15:01:02",
            "2023-09-07 15:01:02",
            "2023-09-07 15:01:02",
            "2023-09-07 15:01:02",
            "2023-09-07 15:01:02",
            "2023-09-07 15:01:03",
            "2023-09-07 15:01:03",
            "2023-09-07 15:01:03",
            "2023-09-07 15:01:04",
            "2023-09-07 15:01:04",
            "2023-09-07 15:01:04",
            "2023-09-07 15:01:05",
            "2023-09-07 15:01:06",
            "2023-09-07 15:01:07",
            "2023-09-07 15:01:07",
            "2023-09-07 15:01:07",
            "2023-09-07 15:01:08",
            "2023-09-07 15:01:08",
            "2023-09-07 15:01:08",
            "2023-09-07 15:01:08",
            "2023-09-07 15:01:08",
            "2023-09-07 15:01:09",
            "2023-09-07 15:01:10",
            "2023-09-07 15:01:11",
            "2023-09-07 15:01:11",
            "2023-09-07 15:01:11",
            "2023-09-07 15:01:11",
            "2023-09-07 15:01:11",
            "2023-09-07 15:01:12",
            "2023-09-07 15:01:12",
            "2023-09-07 15:01:12",
            "2023-09-07 15:01:12",
            "2023-09-07 15:01:12",
            "2023-09-07 15:01:13",
            "2023-09-07 15:01:13",
            "2023-09-07 15:01:14",
            "2023-09-07 15:01:14",
            "2023-09-07 15:01:14",
            "2023-09-07 15:01:14"
           ],
           "type": "scatter",
           "x": [
            0.2628629860147935,
            -5.947186089536171,
            7.511234499194794,
            1.2368016066430076,
            -3.9383022083791523,
            9.519502944212656,
            8.816880016344196,
            15.208121856273904,
            14.025710879284519,
            -2.1359261723065925,
            7.05768093084308,
            1.592790739428831,
            0.7285176578468473,
            12.242518424828313,
            3.6747835001110527,
            7.866884907505119,
            12.411475162781779,
            12.833029096254522,
            8.261923541005068,
            5.0831273653651925,
            26.930871334830616,
            27.039745244561278,
            25.019860088518154,
            39.455693446687164,
            27.321535352904682,
            30.31780651486834,
            12.573526520789473,
            15.008821802752902,
            37.988817903560175,
            3.1977264770182456,
            13.555350298851561,
            3.5535772988144787,
            2.057485696647321,
            23.72489197255483,
            25.905726518102984,
            -0.049607600934990614,
            44.312221984514245,
            9.378352296443829,
            18.50241946088084,
            30.322701798056244,
            28.821367618013763,
            25.72928462141531,
            18.18069435837016,
            21.970881345714687,
            28.156454350498258,
            32.61429649029611,
            30.631145124138264,
            33.37364391128446,
            35.236020391599894,
            30.857949385414095,
            20.998130741840967,
            45.99412281903775,
            32.302439553723595,
            32.08881121592395,
            34.368659894470255,
            42.63783354856306,
            22.825250443375126,
            46.76794784079708,
            25.38567011928725,
            45.59917618721364,
            28.467386802836238,
            18.410120848619496,
            31.66272113820452,
            43.1559331152242,
            32.602419166440825,
            24.888047131114774,
            41.99512520304298,
            34.34481959543665,
            45.64098929078003,
            28.538562998472464,
            31.953188797311007,
            51.037984014335834,
            48.26811932475121,
            null
           ],
           "y": [
            45.565386681545874,
            45.05366061755791,
            46.35592175810034,
            32.05905379580751,
            47.28393730753255,
            31.456987364994728,
            34.167845538700334,
            41.39926162025145,
            30.523269059328186,
            39.91303043863957,
            48.67691635585126,
            36.21792645246228,
            49.91527833476793,
            47.603344842135236,
            45.81113548447709,
            36.913833208623586,
            42.07983225975437,
            37.580041204503345,
            51.51203885361398,
            38.77727204839494,
            50.26474359709672,
            46.83275159513233,
            44.2215730834841,
            42.928967070680564,
            39.18334456447075,
            41.74815349965422,
            53.23948281955508,
            39.23710521891505,
            41.71611682790641,
            44.66052183772808,
            54.103690631976036,
            53.14575568077721,
            55.08403627460173,
            53.54937794282731,
            39.48254372876265,
            49.2227662940403,
            54.06836097418948,
            56.263969533566836,
            53.25939906245995,
            35.91069398537605,
            41.65623575003663,
            41.905400700989,
            39.61971827652344,
            48.47021711265079,
            47.053263396761686,
            48.42591290835785,
            46.873040621337125,
            35.83422888376544,
            40.8472753333875,
            45.24876042326029,
            41.2671197651651,
            50.516940652029575,
            45.179981648715554,
            30.171972495537165,
            42.403150160945586,
            46.32282510415091,
            42.91321237687506,
            41.0321130883941,
            29.506000958938504,
            37.63147063057602,
            32.76461422246943,
            36.560369010476535,
            37.87256247118427,
            45.9129338470391,
            42.61065010596327,
            25.82761963811049,
            36.2851591423244,
            32.987197462520854,
            43.251218519286574,
            32.59179843212368,
            29.186005589173316,
            30.601098731718686,
            27.428160072135906,
            null
           ]
          },
          {
           "type": "scatter",
           "x": [
            null,
            null
           ],
           "y": [
            null,
            null
           ]
          },
          {
           "customdata": [
            "2023-09-07 15:01:02",
            "2023-09-07 15:01:03",
            "2023-09-07 15:01:04",
            "2023-09-07 15:01:05",
            "2023-09-07 15:01:06",
            "2023-09-07 15:01:07",
            "2023-09-07 15:01:08",
            "2023-09-07 15:01:09",
            "2023-09-07 15:01:10",
            "2023-09-07 15:01:11",
            "2023-09-07 15:01:12",
            "2023-09-07 15:01:13",
            "2023-09-07 15:01:14"
           ],
           "hovertemplate": "%{meta}<br>(%{x}, %{y})<br>Time: %{customdata}",
           "meta": [
            "GaussianStateUpdate",
            "GaussianStateUpdate",
            "GaussianStatePrediction",
            "GaussianStateUpdate",
            "GaussianStateUpdate",
            "GaussianStatePrediction",
            "GaussianStateUpdate",
            "GaussianStateUpdate",
            "GaussianStateUpdate",
            "GaussianStateUpdate",
            "GaussianStateUpdate",
            "GaussianStateUpdate",
            "GaussianStateUpdate"
           ],
           "type": "scatter",
           "x": [
            24.808252741464877,
            24.28722730290998,
            23.865608033553055,
            25.298502648302748,
            25.44756589740006,
            25.699765066300532,
            26.72111884305909,
            26.47411081482359,
            26.91022719214639,
            28.392689239379788,
            29.48549289914162,
            29.958885131659155,
            30.982225814121207,
            null
           ],
           "y": [
            46.25695400029111,
            44.71110227768177,
            43.46018279162289,
            42.873394987407465,
            40.67460334874732,
            39.19307683483714,
            38.21781736538797,
            37.23463311057605,
            35.712856771033614,
            34.66207924550508,
            33.816964723112704,
            32.728697608491885,
            32.29760457310039,
            null
           ]
          },
          {
           "customdata": [
            "2023-09-07 15:00:40",
            "2023-09-07 15:00:41",
            "2023-09-07 15:00:42",
            "2023-09-07 15:00:43",
            "2023-09-07 15:00:44",
            "2023-09-07 15:00:45",
            "2023-09-07 15:00:46",
            "2023-09-07 15:00:47",
            "2023-09-07 15:00:48",
            "2023-09-07 15:00:49",
            "2023-09-07 15:00:50",
            "2023-09-07 15:00:51",
            "2023-09-07 15:00:52",
            "2023-09-07 15:00:53",
            "2023-09-07 15:00:54",
            "2023-09-07 15:00:55",
            "2023-09-07 15:00:56",
            "2023-09-07 15:00:57",
            "2023-09-07 15:00:58",
            "2023-09-07 15:00:59",
            "2023-09-07 15:01:00",
            "2023-09-07 15:01:01",
            "2023-09-07 15:01:02",
            "2023-09-07 15:01:03",
            "2023-09-07 15:01:04",
            "2023-09-07 15:01:05"
           ],
           "hovertemplate": "%{meta}<br>(%{x}, %{y})<br>Time: %{customdata}",
           "meta": [
            "GaussianStateUpdate",
            "GaussianStateUpdate",
            "GaussianStateUpdate",
            "GaussianStateUpdate",
            "GaussianStateUpdate",
            "GaussianStatePrediction",
            "GaussianStateUpdate",
            "GaussianStateUpdate",
            "GaussianStateUpdate",
            "GaussianStateUpdate",
            "GaussianStatePrediction",
            "GaussianStateUpdate",
            "GaussianStateUpdate",
            "GaussianStateUpdate",
            "GaussianStateUpdate",
            "GaussianStateUpdate",
            "GaussianStateUpdate",
            "GaussianStateUpdate",
            "GaussianStateUpdate",
            "GaussianStateUpdate",
            "GaussianStateUpdate",
            "GaussianStateUpdate",
            "GaussianStateUpdate",
            "GaussianStatePrediction",
            "GaussianStatePrediction",
            "GaussianStatePrediction"
           ],
           "type": "scatter",
           "x": [
            -0.43005629247898636,
            1.5671309635627815,
            1.7248047174586882,
            1.8905500191617137,
            3.0266606144206634,
            3.7930024690710495,
            5.063871539095284,
            5.749814186180568,
            6.802874669121355,
            8.2129677138972,
            9.367732280484283,
            8.542618402693721,
            8.634368220211687,
            8.669701894529883,
            9.075003246000703,
            9.29501577604749,
            9.413413937498195,
            8.502632005862981,
            7.971735342146178,
            7.79106608746795,
            8.267728552533242,
            8.8391159278272,
            8.748563089055056,
            8.86400725665167,
            8.979451424248284,
            9.094895591844898,
            null
           ],
           "y": [
            41.49312990045806,
            41.3283166972261,
            40.69579995272057,
            40.74242157325732,
            39.9576780440993,
            39.494129937136556,
            39.60146342055227,
            40.16817369119637,
            40.313729365629904,
            40.905811622898376,
            41.23864331164184,
            41.162676656780185,
            42.24148057909349,
            43.0469437062278,
            43.453524571615226,
            45.10875518315963,
            45.9885693493004,
            46.04032141953401,
            47.147697787822864,
            48.23006081378942,
            49.19872167033096,
            50.24570967805816,
            50.9635055877399,
            51.8313661441028,
            52.6992267004657,
            53.5670872568286,
            null
           ]
          },
          {
           "customdata": [
            "2023-09-07 15:00:59",
            "2023-09-07 15:01:00",
            "2023-09-07 15:01:01",
            "2023-09-07 15:01:02",
            "2023-09-07 15:01:03",
            "2023-09-07 15:01:04",
            "2023-09-07 15:01:05",
            "2023-09-07 15:01:06",
            "2023-09-07 15:01:07",
            "2023-09-07 15:01:08",
            "2023-09-07 15:01:09",
            "2023-09-07 15:01:10",
            "2023-09-07 15:01:11",
            "2023-09-07 15:01:12",
            "2023-09-07 15:01:13",
            "2023-09-07 15:01:14"
           ],
           "hovertemplate": "%{meta}<br>(%{x}, %{y})<br>Time: %{customdata}",
           "meta": [
            "GaussianStateUpdate",
            "GaussianStateUpdate",
            "GaussianStateUpdate",
            "GaussianStateUpdate",
            "GaussianStateUpdate",
            "GaussianStatePrediction",
            "GaussianStateUpdate",
            "GaussianStateUpdate",
            "GaussianStateUpdate",
            "GaussianStatePrediction",
            "GaussianStateUpdate",
            "GaussianStateUpdate",
            "GaussianStateUpdate",
            "GaussianStateUpdate",
            "GaussianStateUpdate",
            "GaussianStateUpdate"
           ],
           "type": "scatter",
           "x": [
            34.62154345599989,
            34.285793715002384,
            34.268766551451364,
            35.25199515478764,
            35.241728090713245,
            35.46611855956127,
            35.823886725585425,
            36.908212632501446,
            38.31187561793434,
            39.27738316623153,
            40.12303778529568,
            42.05919966214608,
            43.58076136933816,
            44.85506086017132,
            46.54365872209996,
            48.4424978164326,
            null
           ],
           "y": [
            50.04974583545324,
            49.58436807554751,
            48.332859762710335,
            47.97879829102805,
            47.391708738119306,
            46.778684057935784,
            46.40193603508247,
            45.339300697596954,
            43.8858444435431,
            42.82140177455153,
            41.504477643507144,
            40.00566872524056,
            39.043838355329946,
            37.794716297103854,
            36.85351357980136,
            35.33753663122695,
            null
           ]
          },
          {
           "type": "scatter",
           "x": [
            null
           ],
           "y": [
            null
           ]
          },
          {
           "type": "scatter",
           "x": [
            30.982225814121207,
            31.06356791876734,
            31.14135498311771,
            31.212187339196465,
            31.272969273151606,
            31.32104432280521,
            31.354311377797735,
            31.371316508192972,
            31.371316508192972,
            31.35431137779774,
            31.32104432280521,
            31.272969273151606,
            31.212187339196465,
            31.14135498311771,
            31.06356791876734,
            30.982225814121207,
            30.900883709475075,
            30.823096645124703,
            30.75226428904595,
            30.69148235509081,
            30.643407305437204,
            30.61014025044468,
            30.593135120049443,
            30.593135120049443,
            30.610140250444676,
            30.643407305437204,
            30.69148235509081,
            30.75226428904595,
            30.823096645124703,
            30.900883709475075,
            null,
            null
           ],
           "y": [
            32.688838487490656,
            32.680289087786925,
            32.655014538467356,
            32.61411945861795,
            32.5593911594645,
            32.49322153029552,
            32.418502501422815,
            32.33849965294979,
            32.25670949325098,
            32.17670664477796,
            32.10198761590525,
            32.03581798673628,
            31.981089687582823,
            31.940194607733417,
            31.914920058413845,
            31.906370658710113,
            31.914920058413845,
            31.940194607733417,
            31.981089687582823,
            32.03581798673628,
            32.10198761590525,
            32.17670664477796,
            32.25670949325098,
            32.33849965294979,
            32.418502501422815,
            32.49322153029552,
            32.5593911594645,
            32.61411945861795,
            32.655014538467356,
            32.680289087786925,
            null,
            null
           ]
          },
          {
           "type": "scatter",
           "x": [
            null
           ],
           "y": [
            null
           ]
          },
          {
           "type": "scatter",
           "x": [
            48.4424978164326,
            48.523894707435275,
            48.60173416371551,
            48.672614227518714,
            48.73343709993641,
            48.78154452958341,
            48.81483399093908,
            48.83185057480163,
            48.83185057480163,
            48.81483399093908,
            48.78154452958341,
            48.73343709993641,
            48.672614227518714,
            48.60173416371551,
            48.523894707435275,
            48.4424978164326,
            48.36110092542992,
            48.283261469149686,
            48.212381405346484,
            48.15155853292879,
            48.10345110328179,
            48.07016164192612,
            48.05314505806357,
            48.05314505806357,
            48.07016164192612,
            48.10345110328179,
            48.15155853292879,
            48.212381405346484,
            48.283261469149686,
            48.36110092542992,
            null,
            null
           ],
           "y": [
            35.72903405343791,
            35.72047889545607,
            35.695187322966554,
            35.6542646990496,
            35.5994995387389,
            35.53328534233243,
            35.458515987944125,
            35.37845925514391,
            35.29661400731,
            35.21655727450978,
            35.14178792012148,
            35.07557372371501,
            35.02080856340431,
            34.97988593948735,
            34.95459436699784,
            34.946039209016,
            34.95459436699784,
            34.97988593948735,
            35.02080856340431,
            35.07557372371501,
            35.14178792012148,
            35.21655727450978,
            35.29661400731,
            35.37845925514391,
            35.458515987944125,
            35.53328534233243,
            35.5994995387389,
            35.6542646990496,
            35.695187322966554,
            35.72047889545607,
            null,
            null
           ]
          }
         ],
         "name": "2023-09-07 15:01:14",
         "traces": [
          0,
          1,
          2,
          3,
          4,
          5,
          6,
          7,
          8,
          9,
          10,
          11,
          12,
          13,
          14,
          15
         ]
        },
        {
         "data": [
          {
           "type": "scatter",
           "x": [
            0,
            0
           ],
           "y": [
            0,
            0
           ]
          },
          {
           "hovertemplate": "GroundTruthState<br>(%{x}, %{y})<br>Time: %{meta}",
           "meta": [
            "2023-09-07 15:00:40",
            "2023-09-07 15:00:41",
            "2023-09-07 15:00:42",
            "2023-09-07 15:00:43",
            "2023-09-07 15:00:44",
            "2023-09-07 15:00:45",
            "2023-09-07 15:00:46",
            "2023-09-07 15:00:47",
            "2023-09-07 15:00:48",
            "2023-09-07 15:00:49",
            "2023-09-07 15:00:50",
            "2023-09-07 15:00:51",
            "2023-09-07 15:00:52",
            "2023-09-07 15:00:53",
            "2023-09-07 15:00:54",
            "2023-09-07 15:00:55",
            "2023-09-07 15:00:56",
            "2023-09-07 15:00:57",
            "2023-09-07 15:00:58",
            "2023-09-07 15:00:59",
            "2023-09-07 15:01:00",
            "2023-09-07 15:01:01",
            "2023-09-07 15:01:02"
           ],
           "type": "scatter",
           "x": [
            0,
            0.8091562802362998,
            1.4187778862009663,
            1.9340594175080428,
            2.7291599722274826,
            3.736499927988022,
            5.119411483348772,
            6.216732395332771,
            7.088723290570684,
            7.663354901814838,
            8.096722636252593,
            8.358906371025952,
            8.54822310121289,
            8.543882911480415,
            8.661018452611112,
            8.81413676771379,
            8.666475553311493,
            8.457114429626253,
            8.378969059200568,
            8.506472261414322,
            8.76192113749374,
            8.789109668220165,
            8.645151050991842,
            null
           ],
           "y": [
            41.55127793935055,
            41.14739075037148,
            40.71022742116085,
            40.33576258703677,
            40.11469426682165,
            40.0218978369037,
            40.11795936277245,
            40.23397761081491,
            40.45410408807201,
            40.66784873441858,
            41.10916580043645,
            41.59034958414012,
            42.15920554432621,
            42.83722041736732,
            43.80601257101235,
            44.72250861193358,
            45.55082005749288,
            46.478942183204815,
            47.23049024720247,
            48.1829097420305,
            49.16778848572788,
            49.950207045006884,
            50.84956128513592,
            null
           ]
          },
          {
           "hovertemplate": "GroundTruthState<br>(%{x}, %{y})<br>Time: %{meta}",
           "meta": [
            "2023-09-07 15:00:58",
            "2023-09-07 15:00:59",
            "2023-09-07 15:01:00",
            "2023-09-07 15:01:01",
            "2023-09-07 15:01:02",
            "2023-09-07 15:01:03",
            "2023-09-07 15:01:04",
            "2023-09-07 15:01:05",
            "2023-09-07 15:01:06",
            "2023-09-07 15:01:07",
            "2023-09-07 15:01:08",
            "2023-09-07 15:01:09",
            "2023-09-07 15:01:10",
            "2023-09-07 15:01:11",
            "2023-09-07 15:01:12",
            "2023-09-07 15:01:13",
            "2023-09-07 15:01:14",
            "2023-09-07 15:01:15"
           ],
           "type": "scatter",
           "x": [
            24.40294393298363,
            24.37101772209079,
            24.585384850156284,
            25.03868275478802,
            25.1049789512843,
            25.120548589233294,
            25.408274935648077,
            25.597302325430956,
            25.672637855560588,
            25.80173268410434,
            26.38411337439661,
            26.849321650314195,
            27.310076869760383,
            27.967766755734598,
            29.042742972472052,
            30.289521934785512,
            31.624543305557914,
            33.03629384129947,
            null
           ],
           "y": [
            50,
            48.92607580828807,
            47.94386490735651,
            46.9525856518256,
            45.916836511442554,
            44.660383933816995,
            43.38923608926767,
            41.798256079790406,
            40.37683940593047,
            39.10834475444106,
            37.99258063423742,
            36.80434580629272,
            35.73674662487452,
            34.5679650472467,
            33.772178919948075,
            33.158761432384615,
            32.76450748321075,
            32.497618736021465,
            null
           ]
          },
          {
           "hovertemplate": "GroundTruthState<br>(%{x}, %{y})<br>Time: %{meta}",
           "meta": [
            "2023-09-07 15:00:59",
            "2023-09-07 15:01:00",
            "2023-09-07 15:01:01",
            "2023-09-07 15:01:02",
            "2023-09-07 15:01:03",
            "2023-09-07 15:01:04",
            "2023-09-07 15:01:05",
            "2023-09-07 15:01:06",
            "2023-09-07 15:01:07",
            "2023-09-07 15:01:08",
            "2023-09-07 15:01:09",
            "2023-09-07 15:01:10",
            "2023-09-07 15:01:11",
            "2023-09-07 15:01:12",
            "2023-09-07 15:01:13",
            "2023-09-07 15:01:14",
            "2023-09-07 15:01:15"
           ],
           "type": "scatter",
           "x": [
            34.9497917032631,
            34.692784657380166,
            34.62875348769775,
            34.70653825006885,
            35.16602245368285,
            35.84203896849462,
            36.48923137530482,
            37.304433786378794,
            38.273117794667684,
            39.27302578813828,
            40.575156256116884,
            42.13859623033162,
            43.61811499994063,
            45.13597961938457,
            46.80097281565994,
            48.56100000968383,
            50.41359841769575,
            null
           ],
           "y": [
            50,
            49.233094514513525,
            48.65632716274939,
            48.04342569579986,
            47.37584157077364,
            46.67834504620978,
            45.83272536574674,
            44.99090823719139,
            44.11358671702823,
            43.045507500400134,
            41.692529772966616,
            40.25930053089142,
            38.90349389643283,
            37.79892206904109,
            36.72496748091521,
            35.568203065578025,
            34.39813347429571,
            null
           ]
          },
          {
           "hovertemplate": "GroundTruthState<br>(%{x}, %{y})<br>Time: %{meta}",
           "meta": [],
           "type": "scatter",
           "x": [
            null
           ],
           "y": [
            null
           ]
          },
          {
           "type": "scatter",
           "x": [
            null,
            null
           ],
           "y": [
            null,
            null
           ]
          },
          {
           "hovertemplate": "Detection<br>(%{x}, %{y})<br>Time: %{meta}",
           "meta": [
            "2023-09-07 15:00:40",
            "2023-09-07 15:00:41",
            "2023-09-07 15:00:42",
            "2023-09-07 15:00:43",
            "2023-09-07 15:00:44",
            "2023-09-07 15:00:46",
            "2023-09-07 15:00:47",
            "2023-09-07 15:00:48",
            "2023-09-07 15:00:49",
            "2023-09-07 15:00:50",
            "2023-09-07 15:00:51",
            "2023-09-07 15:00:52",
            "2023-09-07 15:00:53",
            "2023-09-07 15:00:54",
            "2023-09-07 15:00:55",
            "2023-09-07 15:00:56",
            "2023-09-07 15:00:57",
            "2023-09-07 15:00:58",
            "2023-09-07 15:00:58",
            "2023-09-07 15:00:59",
            "2023-09-07 15:00:59",
            "2023-09-07 15:00:59",
            "2023-09-07 15:01:00",
            "2023-09-07 15:01:00",
            "2023-09-07 15:01:01",
            "2023-09-07 15:01:01",
            "2023-09-07 15:01:02",
            "2023-09-07 15:01:02",
            "2023-09-07 15:01:02",
            "2023-09-07 15:01:03",
            "2023-09-07 15:01:03",
            "2023-09-07 15:01:04",
            "2023-09-07 15:01:05",
            "2023-09-07 15:01:05",
            "2023-09-07 15:01:06",
            "2023-09-07 15:01:06",
            "2023-09-07 15:01:07",
            "2023-09-07 15:01:08",
            "2023-09-07 15:01:09",
            "2023-09-07 15:01:09",
            "2023-09-07 15:01:10",
            "2023-09-07 15:01:10",
            "2023-09-07 15:01:11",
            "2023-09-07 15:01:11",
            "2023-09-07 15:01:12",
            "2023-09-07 15:01:12",
            "2023-09-07 15:01:13",
            "2023-09-07 15:01:13",
            "2023-09-07 15:01:14",
            "2023-09-07 15:01:14",
            "2023-09-07 15:01:15",
            "2023-09-07 15:01:15"
           ],
           "type": "scatter",
           "x": [
            -0.43005629247898636,
            1.9613126588341832,
            1.328760915097623,
            1.6486342541080825,
            3.391167130241921,
            5.198613247790583,
            5.5997844867706466,
            6.935456692747284,
            8.51160294626042,
            6.938136290313291,
            8.00171047550961,
            8.455481513912613,
            8.51568107852356,
            9.22411910733494,
            9.258594731151701,
            9.32950730831503,
            7.804987863094423,
            24.581047874774246,
            7.832277013086065,
            34.62154345599989,
            7.937505079616018,
            24.155956069792705,
            34.219527318752874,
            8.764921493433448,
            9.169878259121589,
            34.33792014141769,
            24.808252741464877,
            35.71409381177726,
            8.508185830477029,
            35.01040999823201,
            24.184393334774143,
            25.495805205839506,
            35.85950727938655,
            25.487965372036413,
            37.36295589502933,
            25.364300083095635,
            38.81490747362937,
            26.92650992023429,
            26.03596591259028,
            40.090247952530696,
            42.62750361307228,
            27.050675848162673,
            43.69493541940249,
            29.12902614422362,
            44.76176804768235,
            29.637506472195824,
            29.650900517596043,
            46.75423507948332,
            31.162340017132035,
            48.68956101342326,
            50.34285151067938,
            33.681206740498496,
            null
           ],
           "y": [
            41.49312990045806,
            41.29578777553558,
            40.56025765481257,
            40.943137598599904,
            39.64105359377544,
            39.7539260798625,
            40.62749687000739,
            40.351899248824374,
            41.209034178881836,
            41.088704044823054,
            41.05099188880684,
            42.74592512474356,
            43.20802778630997,
            43.2900108578128,
            45.8069560006637,
            45.87834412006734,
            45.455700324445665,
            49.781697352014895,
            47.498742904408566,
            50.04974583545324,
            48.40541225977234,
            49.01136420875983,
            49.4925172018819,
            49.2219643780955,
            50.30810535810356,
            48.09527774002108,
            46.25695400029111,
            48.2078196986085,
            50.78839562369448,
            47.417274779382694,
            44.40599996400887,
            43.5197927927032,
            46.46503732984592,
            42.9412446802236,
            45.03790399017466,
            40.09552610002099,
            43.439230732975716,
            38.353008304293894,
            37.40798677226102,
            41.43540277842083,
            39.815961201534854,
            35.48874681711073,
            39.257107273185376,
            34.835324386097554,
            37.730821826564785,
            34.03955023089411,
            32.69639958115087,
            37.01295190145951,
            32.69615968061823,
            35.061395201317445,
            34.916591919976966,
            32.17042395307063,
            null
           ]
          },
          {
           "hovertemplate": "Clutter<br>(%{x}, %{y})<br>Time: %{meta}",
           "meta": [
            "2023-09-07 15:00:40",
            "2023-09-07 15:00:41",
            "2023-09-07 15:00:41",
            "2023-09-07 15:00:41",
            "2023-09-07 15:00:43",
            "2023-09-07 15:00:45",
            "2023-09-07 15:00:45",
            "2023-09-07 15:00:47",
            "2023-09-07 15:00:47",
            "2023-09-07 15:00:47",
            "2023-09-07 15:00:47",
            "2023-09-07 15:00:47",
            "2023-09-07 15:00:49",
            "2023-09-07 15:00:51",
            "2023-09-07 15:00:54",
            "2023-09-07 15:00:56",
            "2023-09-07 15:00:57",
            "2023-09-07 15:00:57",
            "2023-09-07 15:00:58",
            "2023-09-07 15:00:58",
            "2023-09-07 15:00:58",
            "2023-09-07 15:00:59",
            "2023-09-07 15:00:59",
            "2023-09-07 15:00:59",
            "2023-09-07 15:00:59",
            "2023-09-07 15:00:59",
            "2023-09-07 15:01:00",
            "2023-09-07 15:01:00",
            "2023-09-07 15:01:00",
            "2023-09-07 15:01:00",
            "2023-09-07 15:01:01",
            "2023-09-07 15:01:01",
            "2023-09-07 15:01:01",
            "2023-09-07 15:01:02",
            "2023-09-07 15:01:02",
            "2023-09-07 15:01:02",
            "2023-09-07 15:01:02",
            "2023-09-07 15:01:02",
            "2023-09-07 15:01:02",
            "2023-09-07 15:01:03",
            "2023-09-07 15:01:03",
            "2023-09-07 15:01:03",
            "2023-09-07 15:01:04",
            "2023-09-07 15:01:04",
            "2023-09-07 15:01:04",
            "2023-09-07 15:01:05",
            "2023-09-07 15:01:06",
            "2023-09-07 15:01:07",
            "2023-09-07 15:01:07",
            "2023-09-07 15:01:07",
            "2023-09-07 15:01:08",
            "2023-09-07 15:01:08",
            "2023-09-07 15:01:08",
            "2023-09-07 15:01:08",
            "2023-09-07 15:01:08",
            "2023-09-07 15:01:09",
            "2023-09-07 15:01:10",
            "2023-09-07 15:01:11",
            "2023-09-07 15:01:11",
            "2023-09-07 15:01:11",
            "2023-09-07 15:01:11",
            "2023-09-07 15:01:11",
            "2023-09-07 15:01:12",
            "2023-09-07 15:01:12",
            "2023-09-07 15:01:12",
            "2023-09-07 15:01:12",
            "2023-09-07 15:01:12",
            "2023-09-07 15:01:13",
            "2023-09-07 15:01:13",
            "2023-09-07 15:01:14",
            "2023-09-07 15:01:14",
            "2023-09-07 15:01:14",
            "2023-09-07 15:01:14",
            "2023-09-07 15:01:15",
            "2023-09-07 15:01:15",
            "2023-09-07 15:01:15"
           ],
           "type": "scatter",
           "x": [
            0.2628629860147935,
            -5.947186089536171,
            7.511234499194794,
            1.2368016066430076,
            -3.9383022083791523,
            9.519502944212656,
            8.816880016344196,
            15.208121856273904,
            14.025710879284519,
            -2.1359261723065925,
            7.05768093084308,
            1.592790739428831,
            0.7285176578468473,
            12.242518424828313,
            3.6747835001110527,
            7.866884907505119,
            12.411475162781779,
            12.833029096254522,
            8.261923541005068,
            5.0831273653651925,
            26.930871334830616,
            27.039745244561278,
            25.019860088518154,
            39.455693446687164,
            27.321535352904682,
            30.31780651486834,
            12.573526520789473,
            15.008821802752902,
            37.988817903560175,
            3.1977264770182456,
            13.555350298851561,
            3.5535772988144787,
            2.057485696647321,
            23.72489197255483,
            25.905726518102984,
            -0.049607600934990614,
            44.312221984514245,
            9.378352296443829,
            18.50241946088084,
            30.322701798056244,
            28.821367618013763,
            25.72928462141531,
            18.18069435837016,
            21.970881345714687,
            28.156454350498258,
            32.61429649029611,
            30.631145124138264,
            33.37364391128446,
            35.236020391599894,
            30.857949385414095,
            20.998130741840967,
            45.99412281903775,
            32.302439553723595,
            32.08881121592395,
            34.368659894470255,
            42.63783354856306,
            22.825250443375126,
            46.76794784079708,
            25.38567011928725,
            45.59917618721364,
            28.467386802836238,
            18.410120848619496,
            31.66272113820452,
            43.1559331152242,
            32.602419166440825,
            24.888047131114774,
            41.99512520304298,
            34.34481959543665,
            45.64098929078003,
            28.538562998472464,
            31.953188797311007,
            51.037984014335834,
            48.26811932475121,
            38.34817274276317,
            41.79198635803958,
            35.848011696046946,
            null
           ],
           "y": [
            45.565386681545874,
            45.05366061755791,
            46.35592175810034,
            32.05905379580751,
            47.28393730753255,
            31.456987364994728,
            34.167845538700334,
            41.39926162025145,
            30.523269059328186,
            39.91303043863957,
            48.67691635585126,
            36.21792645246228,
            49.91527833476793,
            47.603344842135236,
            45.81113548447709,
            36.913833208623586,
            42.07983225975437,
            37.580041204503345,
            51.51203885361398,
            38.77727204839494,
            50.26474359709672,
            46.83275159513233,
            44.2215730834841,
            42.928967070680564,
            39.18334456447075,
            41.74815349965422,
            53.23948281955508,
            39.23710521891505,
            41.71611682790641,
            44.66052183772808,
            54.103690631976036,
            53.14575568077721,
            55.08403627460173,
            53.54937794282731,
            39.48254372876265,
            49.2227662940403,
            54.06836097418948,
            56.263969533566836,
            53.25939906245995,
            35.91069398537605,
            41.65623575003663,
            41.905400700989,
            39.61971827652344,
            48.47021711265079,
            47.053263396761686,
            48.42591290835785,
            46.873040621337125,
            35.83422888376544,
            40.8472753333875,
            45.24876042326029,
            41.2671197651651,
            50.516940652029575,
            45.179981648715554,
            30.171972495537165,
            42.403150160945586,
            46.32282510415091,
            42.91321237687506,
            41.0321130883941,
            29.506000958938504,
            37.63147063057602,
            32.76461422246943,
            36.560369010476535,
            37.87256247118427,
            45.9129338470391,
            42.61065010596327,
            25.82761963811049,
            36.2851591423244,
            32.987197462520854,
            43.251218519286574,
            32.59179843212368,
            29.186005589173316,
            30.601098731718686,
            27.428160072135906,
            33.58198629100018,
            32.75561514350671,
            22.563898343016053,
            null
           ]
          },
          {
           "type": "scatter",
           "x": [
            null,
            null
           ],
           "y": [
            null,
            null
           ]
          },
          {
           "customdata": [
            "2023-09-07 15:01:02",
            "2023-09-07 15:01:03",
            "2023-09-07 15:01:04",
            "2023-09-07 15:01:05",
            "2023-09-07 15:01:06",
            "2023-09-07 15:01:07",
            "2023-09-07 15:01:08",
            "2023-09-07 15:01:09",
            "2023-09-07 15:01:10",
            "2023-09-07 15:01:11",
            "2023-09-07 15:01:12",
            "2023-09-07 15:01:13",
            "2023-09-07 15:01:14",
            "2023-09-07 15:01:15"
           ],
           "hovertemplate": "%{meta}<br>(%{x}, %{y})<br>Time: %{customdata}",
           "meta": [
            "GaussianStateUpdate",
            "GaussianStateUpdate",
            "GaussianStatePrediction",
            "GaussianStateUpdate",
            "GaussianStateUpdate",
            "GaussianStatePrediction",
            "GaussianStateUpdate",
            "GaussianStateUpdate",
            "GaussianStateUpdate",
            "GaussianStateUpdate",
            "GaussianStateUpdate",
            "GaussianStateUpdate",
            "GaussianStateUpdate",
            "GaussianStateUpdate"
           ],
           "type": "scatter",
           "x": [
            24.808252741464877,
            24.28722730290998,
            23.865608033553055,
            25.298502648302748,
            25.44756589740006,
            25.699765066300532,
            26.72111884305909,
            26.47411081482359,
            26.91022719214639,
            28.392689239379788,
            29.48549289914162,
            29.958885131659155,
            30.982225814121207,
            32.97053770508004,
            null
           ],
           "y": [
            46.25695400029111,
            44.71110227768177,
            43.46018279162289,
            42.873394987407465,
            40.67460334874732,
            39.19307683483714,
            38.21781736538797,
            37.23463311057605,
            35.712856771033614,
            34.66207924550508,
            33.816964723112704,
            32.728697608491885,
            32.29760457310039,
            31.91941075010266,
            null
           ]
          },
          {
           "customdata": [
            "2023-09-07 15:00:40",
            "2023-09-07 15:00:41",
            "2023-09-07 15:00:42",
            "2023-09-07 15:00:43",
            "2023-09-07 15:00:44",
            "2023-09-07 15:00:45",
            "2023-09-07 15:00:46",
            "2023-09-07 15:00:47",
            "2023-09-07 15:00:48",
            "2023-09-07 15:00:49",
            "2023-09-07 15:00:50",
            "2023-09-07 15:00:51",
            "2023-09-07 15:00:52",
            "2023-09-07 15:00:53",
            "2023-09-07 15:00:54",
            "2023-09-07 15:00:55",
            "2023-09-07 15:00:56",
            "2023-09-07 15:00:57",
            "2023-09-07 15:00:58",
            "2023-09-07 15:00:59",
            "2023-09-07 15:01:00",
            "2023-09-07 15:01:01",
            "2023-09-07 15:01:02",
            "2023-09-07 15:01:03",
            "2023-09-07 15:01:04",
            "2023-09-07 15:01:05"
           ],
           "hovertemplate": "%{meta}<br>(%{x}, %{y})<br>Time: %{customdata}",
           "meta": [
            "GaussianStateUpdate",
            "GaussianStateUpdate",
            "GaussianStateUpdate",
            "GaussianStateUpdate",
            "GaussianStateUpdate",
            "GaussianStatePrediction",
            "GaussianStateUpdate",
            "GaussianStateUpdate",
            "GaussianStateUpdate",
            "GaussianStateUpdate",
            "GaussianStatePrediction",
            "GaussianStateUpdate",
            "GaussianStateUpdate",
            "GaussianStateUpdate",
            "GaussianStateUpdate",
            "GaussianStateUpdate",
            "GaussianStateUpdate",
            "GaussianStateUpdate",
            "GaussianStateUpdate",
            "GaussianStateUpdate",
            "GaussianStateUpdate",
            "GaussianStateUpdate",
            "GaussianStateUpdate",
            "GaussianStatePrediction",
            "GaussianStatePrediction",
            "GaussianStatePrediction"
           ],
           "type": "scatter",
           "x": [
            -0.43005629247898636,
            1.5671309635627815,
            1.7248047174586882,
            1.8905500191617137,
            3.0266606144206634,
            3.7930024690710495,
            5.063871539095284,
            5.749814186180568,
            6.802874669121355,
            8.2129677138972,
            9.367732280484283,
            8.542618402693721,
            8.634368220211687,
            8.669701894529883,
            9.075003246000703,
            9.29501577604749,
            9.413413937498195,
            8.502632005862981,
            7.971735342146178,
            7.79106608746795,
            8.267728552533242,
            8.8391159278272,
            8.748563089055056,
            8.86400725665167,
            8.979451424248284,
            9.094895591844898,
            null
           ],
           "y": [
            41.49312990045806,
            41.3283166972261,
            40.69579995272057,
            40.74242157325732,
            39.9576780440993,
            39.494129937136556,
            39.60146342055227,
            40.16817369119637,
            40.313729365629904,
            40.905811622898376,
            41.23864331164184,
            41.162676656780185,
            42.24148057909349,
            43.0469437062278,
            43.453524571615226,
            45.10875518315963,
            45.9885693493004,
            46.04032141953401,
            47.147697787822864,
            48.23006081378942,
            49.19872167033096,
            50.24570967805816,
            50.9635055877399,
            51.8313661441028,
            52.6992267004657,
            53.5670872568286,
            null
           ]
          },
          {
           "customdata": [
            "2023-09-07 15:00:59",
            "2023-09-07 15:01:00",
            "2023-09-07 15:01:01",
            "2023-09-07 15:01:02",
            "2023-09-07 15:01:03",
            "2023-09-07 15:01:04",
            "2023-09-07 15:01:05",
            "2023-09-07 15:01:06",
            "2023-09-07 15:01:07",
            "2023-09-07 15:01:08",
            "2023-09-07 15:01:09",
            "2023-09-07 15:01:10",
            "2023-09-07 15:01:11",
            "2023-09-07 15:01:12",
            "2023-09-07 15:01:13",
            "2023-09-07 15:01:14",
            "2023-09-07 15:01:15"
           ],
           "hovertemplate": "%{meta}<br>(%{x}, %{y})<br>Time: %{customdata}",
           "meta": [
            "GaussianStateUpdate",
            "GaussianStateUpdate",
            "GaussianStateUpdate",
            "GaussianStateUpdate",
            "GaussianStateUpdate",
            "GaussianStatePrediction",
            "GaussianStateUpdate",
            "GaussianStateUpdate",
            "GaussianStateUpdate",
            "GaussianStatePrediction",
            "GaussianStateUpdate",
            "GaussianStateUpdate",
            "GaussianStateUpdate",
            "GaussianStateUpdate",
            "GaussianStateUpdate",
            "GaussianStateUpdate",
            "GaussianStateUpdate"
           ],
           "type": "scatter",
           "x": [
            34.62154345599989,
            34.285793715002384,
            34.268766551451364,
            35.25199515478764,
            35.241728090713245,
            35.46611855956127,
            35.823886725585425,
            36.908212632501446,
            38.31187561793434,
            39.27738316623153,
            40.12303778529568,
            42.05919966214608,
            43.58076136933816,
            44.85506086017132,
            46.54365872209996,
            48.4424978164326,
            50.25972723135585,
            null
           ],
           "y": [
            50.04974583545324,
            49.58436807554751,
            48.332859762710335,
            47.97879829102805,
            47.391708738119306,
            46.778684057935784,
            46.40193603508247,
            45.339300697596954,
            43.8858444435431,
            42.82140177455153,
            41.504477643507144,
            40.00566872524056,
            39.043838355329946,
            37.794716297103854,
            36.85351357980136,
            35.33753663122695,
            34.58421722918014,
            null
           ]
          },
          {
           "type": "scatter",
           "x": [
            null
           ],
           "y": [
            null
           ]
          },
          {
           "type": "scatter",
           "x": [
            32.97053770508004,
            33.05184671736275,
            33.129602135644774,
            33.2004056750353,
            33.261162881109875,
            33.30921837241763,
            33.342471893392585,
            33.359470105600025,
            33.359470105600025,
            33.342471893392585,
            33.30921837241763,
            33.261162881109875,
            33.2004056750353,
            33.129602135644774,
            33.05184671736275,
            32.97053770508004,
            32.88922869279733,
            32.81147327451531,
            32.74066973512478,
            32.679912529050206,
            32.63185703774245,
            32.5986035167675,
            32.58160530456006,
            32.58160530456006,
            32.5986035167675,
            32.63185703774245,
            32.679912529050206,
            32.74066973512478,
            32.81147327451531,
            32.88922869279733,
            null,
            null
           ],
           "y": [
            32.31048549901602,
            32.30193957745984,
            32.27667531057118,
            32.23579686804448,
            32.18109083397469,
            32.11494812455934,
            32.040259493587804,
            31.960289192629357,
            31.878532307575963,
            31.798562006617516,
            31.72387337564598,
            31.657730666230627,
            31.603024632160835,
            31.56214618963414,
            31.536881922745483,
            31.528336001189302,
            31.536881922745483,
            31.56214618963414,
            31.603024632160835,
            31.657730666230627,
            31.72387337564598,
            31.798562006617516,
            31.878532307575963,
            31.960289192629357,
            32.040259493587804,
            32.11494812455934,
            32.18109083397469,
            32.23579686804448,
            32.27667531057118,
            32.30193957745984,
            null,
            null
           ]
          },
          {
           "type": "scatter",
           "x": [
            null
           ],
           "y": [
            null
           ]
          },
          {
           "type": "scatter",
           "x": [
            50.25972723135585,
            50.341067298242095,
            50.418852413892466,
            50.48968299549865,
            50.5504634067616,
            50.59853725205237,
            50.63180347364784,
            50.64880817803526,
            50.64880817803526,
            50.63180347364784,
            50.59853725205237,
            50.5504634067616,
            50.48968299549865,
            50.418852413892466,
            50.341067298242095,
            50.25972723135585,
            50.17838716446961,
            50.10060204881924,
            50.02977146721306,
            49.968991055950106,
            49.92091721065934,
            49.887650989063864,
            49.87064628467645,
            49.87064628467645,
            49.887650989063864,
            49.92091721065934,
            49.968991055950106,
            50.02977146721306,
            50.10060204881924,
            50.17838716446961,
            null,
            null
           ],
           "y": [
            34.97544134248669,
            34.96689215696016,
            34.94161824081159,
            34.900724185454415,
            34.845997257339164,
            34.779829285833415,
            34.70511212880113,
            34.625111284537326,
            34.543323173822955,
            34.46332232955915,
            34.388605172526866,
            34.32243720102112,
            34.267710272905866,
            34.22681621754869,
            34.201542301400124,
            34.19299311587359,
            34.201542301400124,
            34.22681621754869,
            34.267710272905866,
            34.32243720102112,
            34.388605172526866,
            34.46332232955915,
            34.543323173822955,
            34.625111284537326,
            34.70511212880113,
            34.779829285833415,
            34.845997257339164,
            34.900724185454415,
            34.94161824081159,
            34.96689215696016,
            null,
            null
           ]
          }
         ],
         "name": "2023-09-07 15:01:15",
         "traces": [
          0,
          1,
          2,
          3,
          4,
          5,
          6,
          7,
          8,
          9,
          10,
          11,
          12,
          13,
          14,
          15
         ]
        },
        {
         "data": [
          {
           "type": "scatter",
           "x": [
            0,
            0
           ],
           "y": [
            0,
            0
           ]
          },
          {
           "hovertemplate": "GroundTruthState<br>(%{x}, %{y})<br>Time: %{meta}",
           "meta": [
            "2023-09-07 15:00:40",
            "2023-09-07 15:00:41",
            "2023-09-07 15:00:42",
            "2023-09-07 15:00:43",
            "2023-09-07 15:00:44",
            "2023-09-07 15:00:45",
            "2023-09-07 15:00:46",
            "2023-09-07 15:00:47",
            "2023-09-07 15:00:48",
            "2023-09-07 15:00:49",
            "2023-09-07 15:00:50",
            "2023-09-07 15:00:51",
            "2023-09-07 15:00:52",
            "2023-09-07 15:00:53",
            "2023-09-07 15:00:54",
            "2023-09-07 15:00:55",
            "2023-09-07 15:00:56",
            "2023-09-07 15:00:57",
            "2023-09-07 15:00:58",
            "2023-09-07 15:00:59",
            "2023-09-07 15:01:00",
            "2023-09-07 15:01:01",
            "2023-09-07 15:01:02"
           ],
           "type": "scatter",
           "x": [
            0,
            0.8091562802362998,
            1.4187778862009663,
            1.9340594175080428,
            2.7291599722274826,
            3.736499927988022,
            5.119411483348772,
            6.216732395332771,
            7.088723290570684,
            7.663354901814838,
            8.096722636252593,
            8.358906371025952,
            8.54822310121289,
            8.543882911480415,
            8.661018452611112,
            8.81413676771379,
            8.666475553311493,
            8.457114429626253,
            8.378969059200568,
            8.506472261414322,
            8.76192113749374,
            8.789109668220165,
            8.645151050991842,
            null
           ],
           "y": [
            41.55127793935055,
            41.14739075037148,
            40.71022742116085,
            40.33576258703677,
            40.11469426682165,
            40.0218978369037,
            40.11795936277245,
            40.23397761081491,
            40.45410408807201,
            40.66784873441858,
            41.10916580043645,
            41.59034958414012,
            42.15920554432621,
            42.83722041736732,
            43.80601257101235,
            44.72250861193358,
            45.55082005749288,
            46.478942183204815,
            47.23049024720247,
            48.1829097420305,
            49.16778848572788,
            49.950207045006884,
            50.84956128513592,
            null
           ]
          },
          {
           "hovertemplate": "GroundTruthState<br>(%{x}, %{y})<br>Time: %{meta}",
           "meta": [
            "2023-09-07 15:00:58",
            "2023-09-07 15:00:59",
            "2023-09-07 15:01:00",
            "2023-09-07 15:01:01",
            "2023-09-07 15:01:02",
            "2023-09-07 15:01:03",
            "2023-09-07 15:01:04",
            "2023-09-07 15:01:05",
            "2023-09-07 15:01:06",
            "2023-09-07 15:01:07",
            "2023-09-07 15:01:08",
            "2023-09-07 15:01:09",
            "2023-09-07 15:01:10",
            "2023-09-07 15:01:11",
            "2023-09-07 15:01:12",
            "2023-09-07 15:01:13",
            "2023-09-07 15:01:14",
            "2023-09-07 15:01:15",
            "2023-09-07 15:01:16"
           ],
           "type": "scatter",
           "x": [
            24.40294393298363,
            24.37101772209079,
            24.585384850156284,
            25.03868275478802,
            25.1049789512843,
            25.120548589233294,
            25.408274935648077,
            25.597302325430956,
            25.672637855560588,
            25.80173268410434,
            26.38411337439661,
            26.849321650314195,
            27.310076869760383,
            27.967766755734598,
            29.042742972472052,
            30.289521934785512,
            31.624543305557914,
            33.03629384129947,
            34.655790506692405,
            null
           ],
           "y": [
            50,
            48.92607580828807,
            47.94386490735651,
            46.9525856518256,
            45.916836511442554,
            44.660383933816995,
            43.38923608926767,
            41.798256079790406,
            40.37683940593047,
            39.10834475444106,
            37.99258063423742,
            36.80434580629272,
            35.73674662487452,
            34.5679650472467,
            33.772178919948075,
            33.158761432384615,
            32.76450748321075,
            32.497618736021465,
            32.23865822217414,
            null
           ]
          },
          {
           "hovertemplate": "GroundTruthState<br>(%{x}, %{y})<br>Time: %{meta}",
           "meta": [
            "2023-09-07 15:00:59",
            "2023-09-07 15:01:00",
            "2023-09-07 15:01:01",
            "2023-09-07 15:01:02",
            "2023-09-07 15:01:03",
            "2023-09-07 15:01:04",
            "2023-09-07 15:01:05",
            "2023-09-07 15:01:06",
            "2023-09-07 15:01:07",
            "2023-09-07 15:01:08",
            "2023-09-07 15:01:09",
            "2023-09-07 15:01:10",
            "2023-09-07 15:01:11",
            "2023-09-07 15:01:12",
            "2023-09-07 15:01:13",
            "2023-09-07 15:01:14",
            "2023-09-07 15:01:15"
           ],
           "type": "scatter",
           "x": [
            34.9497917032631,
            34.692784657380166,
            34.62875348769775,
            34.70653825006885,
            35.16602245368285,
            35.84203896849462,
            36.48923137530482,
            37.304433786378794,
            38.273117794667684,
            39.27302578813828,
            40.575156256116884,
            42.13859623033162,
            43.61811499994063,
            45.13597961938457,
            46.80097281565994,
            48.56100000968383,
            50.41359841769575,
            null
           ],
           "y": [
            50,
            49.233094514513525,
            48.65632716274939,
            48.04342569579986,
            47.37584157077364,
            46.67834504620978,
            45.83272536574674,
            44.99090823719139,
            44.11358671702823,
            43.045507500400134,
            41.692529772966616,
            40.25930053089142,
            38.90349389643283,
            37.79892206904109,
            36.72496748091521,
            35.568203065578025,
            34.39813347429571,
            null
           ]
          },
          {
           "hovertemplate": "GroundTruthState<br>(%{x}, %{y})<br>Time: %{meta}",
           "meta": [],
           "type": "scatter",
           "x": [
            null
           ],
           "y": [
            null
           ]
          },
          {
           "type": "scatter",
           "x": [
            null,
            null
           ],
           "y": [
            null,
            null
           ]
          },
          {
           "hovertemplate": "Detection<br>(%{x}, %{y})<br>Time: %{meta}",
           "meta": [
            "2023-09-07 15:00:40",
            "2023-09-07 15:00:41",
            "2023-09-07 15:00:42",
            "2023-09-07 15:00:43",
            "2023-09-07 15:00:44",
            "2023-09-07 15:00:46",
            "2023-09-07 15:00:47",
            "2023-09-07 15:00:48",
            "2023-09-07 15:00:49",
            "2023-09-07 15:00:50",
            "2023-09-07 15:00:51",
            "2023-09-07 15:00:52",
            "2023-09-07 15:00:53",
            "2023-09-07 15:00:54",
            "2023-09-07 15:00:55",
            "2023-09-07 15:00:56",
            "2023-09-07 15:00:57",
            "2023-09-07 15:00:58",
            "2023-09-07 15:00:58",
            "2023-09-07 15:00:59",
            "2023-09-07 15:00:59",
            "2023-09-07 15:00:59",
            "2023-09-07 15:01:00",
            "2023-09-07 15:01:00",
            "2023-09-07 15:01:01",
            "2023-09-07 15:01:01",
            "2023-09-07 15:01:02",
            "2023-09-07 15:01:02",
            "2023-09-07 15:01:02",
            "2023-09-07 15:01:03",
            "2023-09-07 15:01:03",
            "2023-09-07 15:01:04",
            "2023-09-07 15:01:05",
            "2023-09-07 15:01:05",
            "2023-09-07 15:01:06",
            "2023-09-07 15:01:06",
            "2023-09-07 15:01:07",
            "2023-09-07 15:01:08",
            "2023-09-07 15:01:09",
            "2023-09-07 15:01:09",
            "2023-09-07 15:01:10",
            "2023-09-07 15:01:10",
            "2023-09-07 15:01:11",
            "2023-09-07 15:01:11",
            "2023-09-07 15:01:12",
            "2023-09-07 15:01:12",
            "2023-09-07 15:01:13",
            "2023-09-07 15:01:13",
            "2023-09-07 15:01:14",
            "2023-09-07 15:01:14",
            "2023-09-07 15:01:15",
            "2023-09-07 15:01:15",
            "2023-09-07 15:01:16"
           ],
           "type": "scatter",
           "x": [
            -0.43005629247898636,
            1.9613126588341832,
            1.328760915097623,
            1.6486342541080825,
            3.391167130241921,
            5.198613247790583,
            5.5997844867706466,
            6.935456692747284,
            8.51160294626042,
            6.938136290313291,
            8.00171047550961,
            8.455481513912613,
            8.51568107852356,
            9.22411910733494,
            9.258594731151701,
            9.32950730831503,
            7.804987863094423,
            24.581047874774246,
            7.832277013086065,
            34.62154345599989,
            7.937505079616018,
            24.155956069792705,
            34.219527318752874,
            8.764921493433448,
            9.169878259121589,
            34.33792014141769,
            24.808252741464877,
            35.71409381177726,
            8.508185830477029,
            35.01040999823201,
            24.184393334774143,
            25.495805205839506,
            35.85950727938655,
            25.487965372036413,
            37.36295589502933,
            25.364300083095635,
            38.81490747362937,
            26.92650992023429,
            26.03596591259028,
            40.090247952530696,
            42.62750361307228,
            27.050675848162673,
            43.69493541940249,
            29.12902614422362,
            44.76176804768235,
            29.637506472195824,
            29.650900517596043,
            46.75423507948332,
            31.162340017132035,
            48.68956101342326,
            50.34285151067938,
            33.681206740498496,
            34.35924968898188,
            null
           ],
           "y": [
            41.49312990045806,
            41.29578777553558,
            40.56025765481257,
            40.943137598599904,
            39.64105359377544,
            39.7539260798625,
            40.62749687000739,
            40.351899248824374,
            41.209034178881836,
            41.088704044823054,
            41.05099188880684,
            42.74592512474356,
            43.20802778630997,
            43.2900108578128,
            45.8069560006637,
            45.87834412006734,
            45.455700324445665,
            49.781697352014895,
            47.498742904408566,
            50.04974583545324,
            48.40541225977234,
            49.01136420875983,
            49.4925172018819,
            49.2219643780955,
            50.30810535810356,
            48.09527774002108,
            46.25695400029111,
            48.2078196986085,
            50.78839562369448,
            47.417274779382694,
            44.40599996400887,
            43.5197927927032,
            46.46503732984592,
            42.9412446802236,
            45.03790399017466,
            40.09552610002099,
            43.439230732975716,
            38.353008304293894,
            37.40798677226102,
            41.43540277842083,
            39.815961201534854,
            35.48874681711073,
            39.257107273185376,
            34.835324386097554,
            37.730821826564785,
            34.03955023089411,
            32.69639958115087,
            37.01295190145951,
            32.69615968061823,
            35.061395201317445,
            34.916591919976966,
            32.17042395307063,
            32.340636846034684,
            null
           ]
          },
          {
           "hovertemplate": "Clutter<br>(%{x}, %{y})<br>Time: %{meta}",
           "meta": [
            "2023-09-07 15:00:40",
            "2023-09-07 15:00:41",
            "2023-09-07 15:00:41",
            "2023-09-07 15:00:41",
            "2023-09-07 15:00:43",
            "2023-09-07 15:00:45",
            "2023-09-07 15:00:45",
            "2023-09-07 15:00:47",
            "2023-09-07 15:00:47",
            "2023-09-07 15:00:47",
            "2023-09-07 15:00:47",
            "2023-09-07 15:00:47",
            "2023-09-07 15:00:49",
            "2023-09-07 15:00:51",
            "2023-09-07 15:00:54",
            "2023-09-07 15:00:56",
            "2023-09-07 15:00:57",
            "2023-09-07 15:00:57",
            "2023-09-07 15:00:58",
            "2023-09-07 15:00:58",
            "2023-09-07 15:00:58",
            "2023-09-07 15:00:59",
            "2023-09-07 15:00:59",
            "2023-09-07 15:00:59",
            "2023-09-07 15:00:59",
            "2023-09-07 15:00:59",
            "2023-09-07 15:01:00",
            "2023-09-07 15:01:00",
            "2023-09-07 15:01:00",
            "2023-09-07 15:01:00",
            "2023-09-07 15:01:01",
            "2023-09-07 15:01:01",
            "2023-09-07 15:01:01",
            "2023-09-07 15:01:02",
            "2023-09-07 15:01:02",
            "2023-09-07 15:01:02",
            "2023-09-07 15:01:02",
            "2023-09-07 15:01:02",
            "2023-09-07 15:01:02",
            "2023-09-07 15:01:03",
            "2023-09-07 15:01:03",
            "2023-09-07 15:01:03",
            "2023-09-07 15:01:04",
            "2023-09-07 15:01:04",
            "2023-09-07 15:01:04",
            "2023-09-07 15:01:05",
            "2023-09-07 15:01:06",
            "2023-09-07 15:01:07",
            "2023-09-07 15:01:07",
            "2023-09-07 15:01:07",
            "2023-09-07 15:01:08",
            "2023-09-07 15:01:08",
            "2023-09-07 15:01:08",
            "2023-09-07 15:01:08",
            "2023-09-07 15:01:08",
            "2023-09-07 15:01:09",
            "2023-09-07 15:01:10",
            "2023-09-07 15:01:11",
            "2023-09-07 15:01:11",
            "2023-09-07 15:01:11",
            "2023-09-07 15:01:11",
            "2023-09-07 15:01:11",
            "2023-09-07 15:01:12",
            "2023-09-07 15:01:12",
            "2023-09-07 15:01:12",
            "2023-09-07 15:01:12",
            "2023-09-07 15:01:12",
            "2023-09-07 15:01:13",
            "2023-09-07 15:01:13",
            "2023-09-07 15:01:14",
            "2023-09-07 15:01:14",
            "2023-09-07 15:01:14",
            "2023-09-07 15:01:14",
            "2023-09-07 15:01:15",
            "2023-09-07 15:01:15",
            "2023-09-07 15:01:15",
            "2023-09-07 15:01:16",
            "2023-09-07 15:01:16",
            "2023-09-07 15:01:16"
           ],
           "type": "scatter",
           "x": [
            0.2628629860147935,
            -5.947186089536171,
            7.511234499194794,
            1.2368016066430076,
            -3.9383022083791523,
            9.519502944212656,
            8.816880016344196,
            15.208121856273904,
            14.025710879284519,
            -2.1359261723065925,
            7.05768093084308,
            1.592790739428831,
            0.7285176578468473,
            12.242518424828313,
            3.6747835001110527,
            7.866884907505119,
            12.411475162781779,
            12.833029096254522,
            8.261923541005068,
            5.0831273653651925,
            26.930871334830616,
            27.039745244561278,
            25.019860088518154,
            39.455693446687164,
            27.321535352904682,
            30.31780651486834,
            12.573526520789473,
            15.008821802752902,
            37.988817903560175,
            3.1977264770182456,
            13.555350298851561,
            3.5535772988144787,
            2.057485696647321,
            23.72489197255483,
            25.905726518102984,
            -0.049607600934990614,
            44.312221984514245,
            9.378352296443829,
            18.50241946088084,
            30.322701798056244,
            28.821367618013763,
            25.72928462141531,
            18.18069435837016,
            21.970881345714687,
            28.156454350498258,
            32.61429649029611,
            30.631145124138264,
            33.37364391128446,
            35.236020391599894,
            30.857949385414095,
            20.998130741840967,
            45.99412281903775,
            32.302439553723595,
            32.08881121592395,
            34.368659894470255,
            42.63783354856306,
            22.825250443375126,
            46.76794784079708,
            25.38567011928725,
            45.59917618721364,
            28.467386802836238,
            18.410120848619496,
            31.66272113820452,
            43.1559331152242,
            32.602419166440825,
            24.888047131114774,
            41.99512520304298,
            34.34481959543665,
            45.64098929078003,
            28.538562998472464,
            31.953188797311007,
            51.037984014335834,
            48.26811932475121,
            38.34817274276317,
            41.79198635803958,
            35.848011696046946,
            33.78187939091479,
            32.78467409040327,
            42.98168170387032,
            null
           ],
           "y": [
            45.565386681545874,
            45.05366061755791,
            46.35592175810034,
            32.05905379580751,
            47.28393730753255,
            31.456987364994728,
            34.167845538700334,
            41.39926162025145,
            30.523269059328186,
            39.91303043863957,
            48.67691635585126,
            36.21792645246228,
            49.91527833476793,
            47.603344842135236,
            45.81113548447709,
            36.913833208623586,
            42.07983225975437,
            37.580041204503345,
            51.51203885361398,
            38.77727204839494,
            50.26474359709672,
            46.83275159513233,
            44.2215730834841,
            42.928967070680564,
            39.18334456447075,
            41.74815349965422,
            53.23948281955508,
            39.23710521891505,
            41.71611682790641,
            44.66052183772808,
            54.103690631976036,
            53.14575568077721,
            55.08403627460173,
            53.54937794282731,
            39.48254372876265,
            49.2227662940403,
            54.06836097418948,
            56.263969533566836,
            53.25939906245995,
            35.91069398537605,
            41.65623575003663,
            41.905400700989,
            39.61971827652344,
            48.47021711265079,
            47.053263396761686,
            48.42591290835785,
            46.873040621337125,
            35.83422888376544,
            40.8472753333875,
            45.24876042326029,
            41.2671197651651,
            50.516940652029575,
            45.179981648715554,
            30.171972495537165,
            42.403150160945586,
            46.32282510415091,
            42.91321237687506,
            41.0321130883941,
            29.506000958938504,
            37.63147063057602,
            32.76461422246943,
            36.560369010476535,
            37.87256247118427,
            45.9129338470391,
            42.61065010596327,
            25.82761963811049,
            36.2851591423244,
            32.987197462520854,
            43.251218519286574,
            32.59179843212368,
            29.186005589173316,
            30.601098731718686,
            27.428160072135906,
            33.58198629100018,
            32.75561514350671,
            22.563898343016053,
            39.479508793216375,
            22.39061636966581,
            24.9156684353476,
            null
           ]
          },
          {
           "type": "scatter",
           "x": [
            null,
            null
           ],
           "y": [
            null,
            null
           ]
          },
          {
           "customdata": [
            "2023-09-07 15:01:02",
            "2023-09-07 15:01:03",
            "2023-09-07 15:01:04",
            "2023-09-07 15:01:05",
            "2023-09-07 15:01:06",
            "2023-09-07 15:01:07",
            "2023-09-07 15:01:08",
            "2023-09-07 15:01:09",
            "2023-09-07 15:01:10",
            "2023-09-07 15:01:11",
            "2023-09-07 15:01:12",
            "2023-09-07 15:01:13",
            "2023-09-07 15:01:14",
            "2023-09-07 15:01:15",
            "2023-09-07 15:01:16"
           ],
           "hovertemplate": "%{meta}<br>(%{x}, %{y})<br>Time: %{customdata}",
           "meta": [
            "GaussianStateUpdate",
            "GaussianStateUpdate",
            "GaussianStatePrediction",
            "GaussianStateUpdate",
            "GaussianStateUpdate",
            "GaussianStatePrediction",
            "GaussianStateUpdate",
            "GaussianStateUpdate",
            "GaussianStateUpdate",
            "GaussianStateUpdate",
            "GaussianStateUpdate",
            "GaussianStateUpdate",
            "GaussianStateUpdate",
            "GaussianStateUpdate",
            "GaussianStateUpdate"
           ],
           "type": "scatter",
           "x": [
            24.808252741464877,
            24.28722730290998,
            23.865608033553055,
            25.298502648302748,
            25.44756589740006,
            25.699765066300532,
            26.72111884305909,
            26.47411081482359,
            26.91022719214639,
            28.392689239379788,
            29.48549289914162,
            29.958885131659155,
            30.982225814121207,
            32.97053770508004,
            34.355348100510774,
            null
           ],
           "y": [
            46.25695400029111,
            44.71110227768177,
            43.46018279162289,
            42.873394987407465,
            40.67460334874732,
            39.19307683483714,
            38.21781736538797,
            37.23463311057605,
            35.712856771033614,
            34.66207924550508,
            33.816964723112704,
            32.728697608491885,
            32.29760457310039,
            31.91941075010266,
            31.94651338326191,
            null
           ]
          },
          {
           "customdata": [
            "2023-09-07 15:00:40",
            "2023-09-07 15:00:41",
            "2023-09-07 15:00:42",
            "2023-09-07 15:00:43",
            "2023-09-07 15:00:44",
            "2023-09-07 15:00:45",
            "2023-09-07 15:00:46",
            "2023-09-07 15:00:47",
            "2023-09-07 15:00:48",
            "2023-09-07 15:00:49",
            "2023-09-07 15:00:50",
            "2023-09-07 15:00:51",
            "2023-09-07 15:00:52",
            "2023-09-07 15:00:53",
            "2023-09-07 15:00:54",
            "2023-09-07 15:00:55",
            "2023-09-07 15:00:56",
            "2023-09-07 15:00:57",
            "2023-09-07 15:00:58",
            "2023-09-07 15:00:59",
            "2023-09-07 15:01:00",
            "2023-09-07 15:01:01",
            "2023-09-07 15:01:02",
            "2023-09-07 15:01:03",
            "2023-09-07 15:01:04",
            "2023-09-07 15:01:05"
           ],
           "hovertemplate": "%{meta}<br>(%{x}, %{y})<br>Time: %{customdata}",
           "meta": [
            "GaussianStateUpdate",
            "GaussianStateUpdate",
            "GaussianStateUpdate",
            "GaussianStateUpdate",
            "GaussianStateUpdate",
            "GaussianStatePrediction",
            "GaussianStateUpdate",
            "GaussianStateUpdate",
            "GaussianStateUpdate",
            "GaussianStateUpdate",
            "GaussianStatePrediction",
            "GaussianStateUpdate",
            "GaussianStateUpdate",
            "GaussianStateUpdate",
            "GaussianStateUpdate",
            "GaussianStateUpdate",
            "GaussianStateUpdate",
            "GaussianStateUpdate",
            "GaussianStateUpdate",
            "GaussianStateUpdate",
            "GaussianStateUpdate",
            "GaussianStateUpdate",
            "GaussianStateUpdate",
            "GaussianStatePrediction",
            "GaussianStatePrediction",
            "GaussianStatePrediction"
           ],
           "type": "scatter",
           "x": [
            -0.43005629247898636,
            1.5671309635627815,
            1.7248047174586882,
            1.8905500191617137,
            3.0266606144206634,
            3.7930024690710495,
            5.063871539095284,
            5.749814186180568,
            6.802874669121355,
            8.2129677138972,
            9.367732280484283,
            8.542618402693721,
            8.634368220211687,
            8.669701894529883,
            9.075003246000703,
            9.29501577604749,
            9.413413937498195,
            8.502632005862981,
            7.971735342146178,
            7.79106608746795,
            8.267728552533242,
            8.8391159278272,
            8.748563089055056,
            8.86400725665167,
            8.979451424248284,
            9.094895591844898,
            null
           ],
           "y": [
            41.49312990045806,
            41.3283166972261,
            40.69579995272057,
            40.74242157325732,
            39.9576780440993,
            39.494129937136556,
            39.60146342055227,
            40.16817369119637,
            40.313729365629904,
            40.905811622898376,
            41.23864331164184,
            41.162676656780185,
            42.24148057909349,
            43.0469437062278,
            43.453524571615226,
            45.10875518315963,
            45.9885693493004,
            46.04032141953401,
            47.147697787822864,
            48.23006081378942,
            49.19872167033096,
            50.24570967805816,
            50.9635055877399,
            51.8313661441028,
            52.6992267004657,
            53.5670872568286,
            null
           ]
          },
          {
           "customdata": [
            "2023-09-07 15:00:59",
            "2023-09-07 15:01:00",
            "2023-09-07 15:01:01",
            "2023-09-07 15:01:02",
            "2023-09-07 15:01:03",
            "2023-09-07 15:01:04",
            "2023-09-07 15:01:05",
            "2023-09-07 15:01:06",
            "2023-09-07 15:01:07",
            "2023-09-07 15:01:08",
            "2023-09-07 15:01:09",
            "2023-09-07 15:01:10",
            "2023-09-07 15:01:11",
            "2023-09-07 15:01:12",
            "2023-09-07 15:01:13",
            "2023-09-07 15:01:14",
            "2023-09-07 15:01:15",
            "2023-09-07 15:01:16"
           ],
           "hovertemplate": "%{meta}<br>(%{x}, %{y})<br>Time: %{customdata}",
           "meta": [
            "GaussianStateUpdate",
            "GaussianStateUpdate",
            "GaussianStateUpdate",
            "GaussianStateUpdate",
            "GaussianStateUpdate",
            "GaussianStatePrediction",
            "GaussianStateUpdate",
            "GaussianStateUpdate",
            "GaussianStateUpdate",
            "GaussianStatePrediction",
            "GaussianStateUpdate",
            "GaussianStateUpdate",
            "GaussianStateUpdate",
            "GaussianStateUpdate",
            "GaussianStateUpdate",
            "GaussianStateUpdate",
            "GaussianStateUpdate",
            "GaussianStatePrediction"
           ],
           "type": "scatter",
           "x": [
            34.62154345599989,
            34.285793715002384,
            34.268766551451364,
            35.25199515478764,
            35.241728090713245,
            35.46611855956127,
            35.823886725585425,
            36.908212632501446,
            38.31187561793434,
            39.27738316623153,
            40.12303778529568,
            42.05919966214608,
            43.58076136933816,
            44.85506086017132,
            46.54365872209996,
            48.4424978164326,
            50.25972723135585,
            52.00551187071654,
            null
           ],
           "y": [
            50.04974583545324,
            49.58436807554751,
            48.332859762710335,
            47.97879829102805,
            47.391708738119306,
            46.778684057935784,
            46.40193603508247,
            45.339300697596954,
            43.8858444435431,
            42.82140177455153,
            41.504477643507144,
            40.00566872524056,
            39.043838355329946,
            37.794716297103854,
            36.85351357980136,
            35.33753663122695,
            34.58421722918014,
            33.54522394965844,
            null
           ]
          },
          {
           "type": "scatter",
           "x": [
            null
           ],
           "y": [
            null
           ]
          },
          {
           "type": "scatter",
           "x": [
            34.355348100510774,
            34.436647000918484,
            34.51439274926297,
            34.58518748327609,
            34.64593713337064,
            34.69398664832833,
            34.72723603377835,
            34.74423213202828,
            34.74423213202828,
            34.72723603377835,
            34.69398664832833,
            34.64593713337064,
            34.58518748327609,
            34.51439274926297,
            34.436647000918484,
            34.355348100510774,
            34.274049200103065,
            34.19630345175858,
            34.12550871774546,
            34.06475906765091,
            34.01670955269322,
            33.9834601672432,
            33.96646406899327,
            33.96646406899327,
            33.9834601672432,
            34.01670955269322,
            34.06475906765091,
            34.12550871774546,
            34.19630345175858,
            34.274049200103065,
            null,
            null
           ],
           "y": [
            32.3375394967428,
            32.328994637987506,
            32.303733513052016,
            32.262860154312335,
            32.208160923677525,
            32.142026440002354,
            32.06734709757189,
            31.98738674200159,
            31.905640024522228,
            31.825679668951928,
            31.751000326521464,
            31.684865842846293,
            31.63016661221148,
            31.589293253471798,
            31.564032128536308,
            31.555487269781015,
            31.564032128536308,
            31.589293253471798,
            31.63016661221148,
            31.684865842846293,
            31.751000326521464,
            31.825679668951928,
            31.905640024522228,
            31.98738674200159,
            32.06734709757189,
            32.142026440002354,
            32.208160923677525,
            32.262860154312335,
            32.303733513052016,
            32.328994637987506,
            null,
            null
           ]
          },
          {
           "type": "scatter",
           "x": [
            null
           ],
           "y": [
            null
           ]
          },
          {
           "type": "scatter",
           "x": [
            52.00551187071654,
            52.13600420880161,
            52.260793405540646,
            52.37442557423116,
            52.47193444383373,
            52.54905840884726,
            52.6024267819188,
            52.62970710905527,
            52.62970710905527,
            52.6024267819188,
            52.54905840884726,
            52.47193444383373,
            52.37442557423116,
            52.260793405540646,
            52.13600420880161,
            52.00551187071654,
            51.87501953263147,
            51.75023033589243,
            51.63659816720192,
            51.53908929759935,
            51.46196533258583,
            51.40859695951428,
            51.38131663237781,
            51.38131663237781,
            51.40859695951428,
            51.46196533258582,
            51.53908929759935,
            51.63659816720192,
            51.75023033589243,
            51.87501953263147,
            null,
            null
           ],
           "y": [
            34.17285742987216,
            34.1591421324697,
            34.1185956645721,
            34.05299010139003,
            33.96519272084497,
            33.8590406897653,
            33.73917336128317,
            33.61082951284051,
            33.479618386476375,
            33.351274538033714,
            33.231407209551584,
            33.12525517847192,
            33.037457797926855,
            32.97185223474479,
            32.93130576684719,
            32.917590469444725,
            32.93130576684719,
            32.97185223474479,
            33.037457797926855,
            33.12525517847192,
            33.231407209551584,
            33.351274538033714,
            33.479618386476375,
            33.61082951284051,
            33.73917336128317,
            33.8590406897653,
            33.96519272084497,
            34.05299010139003,
            34.1185956645721,
            34.1591421324697,
            null,
            null
           ]
          }
         ],
         "name": "2023-09-07 15:01:16",
         "traces": [
          0,
          1,
          2,
          3,
          4,
          5,
          6,
          7,
          8,
          9,
          10,
          11,
          12,
          13,
          14,
          15
         ]
        },
        {
         "data": [
          {
           "type": "scatter",
           "x": [
            0,
            0
           ],
           "y": [
            0,
            0
           ]
          },
          {
           "hovertemplate": "GroundTruthState<br>(%{x}, %{y})<br>Time: %{meta}",
           "meta": [
            "2023-09-07 15:00:40",
            "2023-09-07 15:00:41",
            "2023-09-07 15:00:42",
            "2023-09-07 15:00:43",
            "2023-09-07 15:00:44",
            "2023-09-07 15:00:45",
            "2023-09-07 15:00:46",
            "2023-09-07 15:00:47",
            "2023-09-07 15:00:48",
            "2023-09-07 15:00:49",
            "2023-09-07 15:00:50",
            "2023-09-07 15:00:51",
            "2023-09-07 15:00:52",
            "2023-09-07 15:00:53",
            "2023-09-07 15:00:54",
            "2023-09-07 15:00:55",
            "2023-09-07 15:00:56",
            "2023-09-07 15:00:57",
            "2023-09-07 15:00:58",
            "2023-09-07 15:00:59",
            "2023-09-07 15:01:00",
            "2023-09-07 15:01:01",
            "2023-09-07 15:01:02"
           ],
           "type": "scatter",
           "x": [
            0,
            0.8091562802362998,
            1.4187778862009663,
            1.9340594175080428,
            2.7291599722274826,
            3.736499927988022,
            5.119411483348772,
            6.216732395332771,
            7.088723290570684,
            7.663354901814838,
            8.096722636252593,
            8.358906371025952,
            8.54822310121289,
            8.543882911480415,
            8.661018452611112,
            8.81413676771379,
            8.666475553311493,
            8.457114429626253,
            8.378969059200568,
            8.506472261414322,
            8.76192113749374,
            8.789109668220165,
            8.645151050991842,
            null
           ],
           "y": [
            41.55127793935055,
            41.14739075037148,
            40.71022742116085,
            40.33576258703677,
            40.11469426682165,
            40.0218978369037,
            40.11795936277245,
            40.23397761081491,
            40.45410408807201,
            40.66784873441858,
            41.10916580043645,
            41.59034958414012,
            42.15920554432621,
            42.83722041736732,
            43.80601257101235,
            44.72250861193358,
            45.55082005749288,
            46.478942183204815,
            47.23049024720247,
            48.1829097420305,
            49.16778848572788,
            49.950207045006884,
            50.84956128513592,
            null
           ]
          },
          {
           "hovertemplate": "GroundTruthState<br>(%{x}, %{y})<br>Time: %{meta}",
           "meta": [
            "2023-09-07 15:00:58",
            "2023-09-07 15:00:59",
            "2023-09-07 15:01:00",
            "2023-09-07 15:01:01",
            "2023-09-07 15:01:02",
            "2023-09-07 15:01:03",
            "2023-09-07 15:01:04",
            "2023-09-07 15:01:05",
            "2023-09-07 15:01:06",
            "2023-09-07 15:01:07",
            "2023-09-07 15:01:08",
            "2023-09-07 15:01:09",
            "2023-09-07 15:01:10",
            "2023-09-07 15:01:11",
            "2023-09-07 15:01:12",
            "2023-09-07 15:01:13",
            "2023-09-07 15:01:14",
            "2023-09-07 15:01:15",
            "2023-09-07 15:01:16",
            "2023-09-07 15:01:17"
           ],
           "type": "scatter",
           "x": [
            24.40294393298363,
            24.37101772209079,
            24.585384850156284,
            25.03868275478802,
            25.1049789512843,
            25.120548589233294,
            25.408274935648077,
            25.597302325430956,
            25.672637855560588,
            25.80173268410434,
            26.38411337439661,
            26.849321650314195,
            27.310076869760383,
            27.967766755734598,
            29.042742972472052,
            30.289521934785512,
            31.624543305557914,
            33.03629384129947,
            34.655790506692405,
            36.41618432117775,
            null
           ],
           "y": [
            50,
            48.92607580828807,
            47.94386490735651,
            46.9525856518256,
            45.916836511442554,
            44.660383933816995,
            43.38923608926767,
            41.798256079790406,
            40.37683940593047,
            39.10834475444106,
            37.99258063423742,
            36.80434580629272,
            35.73674662487452,
            34.5679650472467,
            33.772178919948075,
            33.158761432384615,
            32.76450748321075,
            32.497618736021465,
            32.23865822217414,
            31.970805067378816,
            null
           ]
          },
          {
           "hovertemplate": "GroundTruthState<br>(%{x}, %{y})<br>Time: %{meta}",
           "meta": [
            "2023-09-07 15:00:59",
            "2023-09-07 15:01:00",
            "2023-09-07 15:01:01",
            "2023-09-07 15:01:02",
            "2023-09-07 15:01:03",
            "2023-09-07 15:01:04",
            "2023-09-07 15:01:05",
            "2023-09-07 15:01:06",
            "2023-09-07 15:01:07",
            "2023-09-07 15:01:08",
            "2023-09-07 15:01:09",
            "2023-09-07 15:01:10",
            "2023-09-07 15:01:11",
            "2023-09-07 15:01:12",
            "2023-09-07 15:01:13",
            "2023-09-07 15:01:14",
            "2023-09-07 15:01:15"
           ],
           "type": "scatter",
           "x": [
            34.9497917032631,
            34.692784657380166,
            34.62875348769775,
            34.70653825006885,
            35.16602245368285,
            35.84203896849462,
            36.48923137530482,
            37.304433786378794,
            38.273117794667684,
            39.27302578813828,
            40.575156256116884,
            42.13859623033162,
            43.61811499994063,
            45.13597961938457,
            46.80097281565994,
            48.56100000968383,
            50.41359841769575,
            null
           ],
           "y": [
            50,
            49.233094514513525,
            48.65632716274939,
            48.04342569579986,
            47.37584157077364,
            46.67834504620978,
            45.83272536574674,
            44.99090823719139,
            44.11358671702823,
            43.045507500400134,
            41.692529772966616,
            40.25930053089142,
            38.90349389643283,
            37.79892206904109,
            36.72496748091521,
            35.568203065578025,
            34.39813347429571,
            null
           ]
          },
          {
           "hovertemplate": "GroundTruthState<br>(%{x}, %{y})<br>Time: %{meta}",
           "meta": [],
           "type": "scatter",
           "x": [
            null
           ],
           "y": [
            null
           ]
          },
          {
           "type": "scatter",
           "x": [
            null,
            null
           ],
           "y": [
            null,
            null
           ]
          },
          {
           "hovertemplate": "Detection<br>(%{x}, %{y})<br>Time: %{meta}",
           "meta": [
            "2023-09-07 15:00:40",
            "2023-09-07 15:00:41",
            "2023-09-07 15:00:42",
            "2023-09-07 15:00:43",
            "2023-09-07 15:00:44",
            "2023-09-07 15:00:46",
            "2023-09-07 15:00:47",
            "2023-09-07 15:00:48",
            "2023-09-07 15:00:49",
            "2023-09-07 15:00:50",
            "2023-09-07 15:00:51",
            "2023-09-07 15:00:52",
            "2023-09-07 15:00:53",
            "2023-09-07 15:00:54",
            "2023-09-07 15:00:55",
            "2023-09-07 15:00:56",
            "2023-09-07 15:00:57",
            "2023-09-07 15:00:58",
            "2023-09-07 15:00:58",
            "2023-09-07 15:00:59",
            "2023-09-07 15:00:59",
            "2023-09-07 15:00:59",
            "2023-09-07 15:01:00",
            "2023-09-07 15:01:00",
            "2023-09-07 15:01:01",
            "2023-09-07 15:01:01",
            "2023-09-07 15:01:02",
            "2023-09-07 15:01:02",
            "2023-09-07 15:01:02",
            "2023-09-07 15:01:03",
            "2023-09-07 15:01:03",
            "2023-09-07 15:01:04",
            "2023-09-07 15:01:05",
            "2023-09-07 15:01:05",
            "2023-09-07 15:01:06",
            "2023-09-07 15:01:06",
            "2023-09-07 15:01:07",
            "2023-09-07 15:01:08",
            "2023-09-07 15:01:09",
            "2023-09-07 15:01:09",
            "2023-09-07 15:01:10",
            "2023-09-07 15:01:10",
            "2023-09-07 15:01:11",
            "2023-09-07 15:01:11",
            "2023-09-07 15:01:12",
            "2023-09-07 15:01:12",
            "2023-09-07 15:01:13",
            "2023-09-07 15:01:13",
            "2023-09-07 15:01:14",
            "2023-09-07 15:01:14",
            "2023-09-07 15:01:15",
            "2023-09-07 15:01:15",
            "2023-09-07 15:01:16"
           ],
           "type": "scatter",
           "x": [
            -0.43005629247898636,
            1.9613126588341832,
            1.328760915097623,
            1.6486342541080825,
            3.391167130241921,
            5.198613247790583,
            5.5997844867706466,
            6.935456692747284,
            8.51160294626042,
            6.938136290313291,
            8.00171047550961,
            8.455481513912613,
            8.51568107852356,
            9.22411910733494,
            9.258594731151701,
            9.32950730831503,
            7.804987863094423,
            24.581047874774246,
            7.832277013086065,
            34.62154345599989,
            7.937505079616018,
            24.155956069792705,
            34.219527318752874,
            8.764921493433448,
            9.169878259121589,
            34.33792014141769,
            24.808252741464877,
            35.71409381177726,
            8.508185830477029,
            35.01040999823201,
            24.184393334774143,
            25.495805205839506,
            35.85950727938655,
            25.487965372036413,
            37.36295589502933,
            25.364300083095635,
            38.81490747362937,
            26.92650992023429,
            26.03596591259028,
            40.090247952530696,
            42.62750361307228,
            27.050675848162673,
            43.69493541940249,
            29.12902614422362,
            44.76176804768235,
            29.637506472195824,
            29.650900517596043,
            46.75423507948332,
            31.162340017132035,
            48.68956101342326,
            50.34285151067938,
            33.681206740498496,
            34.35924968898188,
            null
           ],
           "y": [
            41.49312990045806,
            41.29578777553558,
            40.56025765481257,
            40.943137598599904,
            39.64105359377544,
            39.7539260798625,
            40.62749687000739,
            40.351899248824374,
            41.209034178881836,
            41.088704044823054,
            41.05099188880684,
            42.74592512474356,
            43.20802778630997,
            43.2900108578128,
            45.8069560006637,
            45.87834412006734,
            45.455700324445665,
            49.781697352014895,
            47.498742904408566,
            50.04974583545324,
            48.40541225977234,
            49.01136420875983,
            49.4925172018819,
            49.2219643780955,
            50.30810535810356,
            48.09527774002108,
            46.25695400029111,
            48.2078196986085,
            50.78839562369448,
            47.417274779382694,
            44.40599996400887,
            43.5197927927032,
            46.46503732984592,
            42.9412446802236,
            45.03790399017466,
            40.09552610002099,
            43.439230732975716,
            38.353008304293894,
            37.40798677226102,
            41.43540277842083,
            39.815961201534854,
            35.48874681711073,
            39.257107273185376,
            34.835324386097554,
            37.730821826564785,
            34.03955023089411,
            32.69639958115087,
            37.01295190145951,
            32.69615968061823,
            35.061395201317445,
            34.916591919976966,
            32.17042395307063,
            32.340636846034684,
            null
           ]
          },
          {
           "hovertemplate": "Clutter<br>(%{x}, %{y})<br>Time: %{meta}",
           "meta": [
            "2023-09-07 15:00:40",
            "2023-09-07 15:00:41",
            "2023-09-07 15:00:41",
            "2023-09-07 15:00:41",
            "2023-09-07 15:00:43",
            "2023-09-07 15:00:45",
            "2023-09-07 15:00:45",
            "2023-09-07 15:00:47",
            "2023-09-07 15:00:47",
            "2023-09-07 15:00:47",
            "2023-09-07 15:00:47",
            "2023-09-07 15:00:47",
            "2023-09-07 15:00:49",
            "2023-09-07 15:00:51",
            "2023-09-07 15:00:54",
            "2023-09-07 15:00:56",
            "2023-09-07 15:00:57",
            "2023-09-07 15:00:57",
            "2023-09-07 15:00:58",
            "2023-09-07 15:00:58",
            "2023-09-07 15:00:58",
            "2023-09-07 15:00:59",
            "2023-09-07 15:00:59",
            "2023-09-07 15:00:59",
            "2023-09-07 15:00:59",
            "2023-09-07 15:00:59",
            "2023-09-07 15:01:00",
            "2023-09-07 15:01:00",
            "2023-09-07 15:01:00",
            "2023-09-07 15:01:00",
            "2023-09-07 15:01:01",
            "2023-09-07 15:01:01",
            "2023-09-07 15:01:01",
            "2023-09-07 15:01:02",
            "2023-09-07 15:01:02",
            "2023-09-07 15:01:02",
            "2023-09-07 15:01:02",
            "2023-09-07 15:01:02",
            "2023-09-07 15:01:02",
            "2023-09-07 15:01:03",
            "2023-09-07 15:01:03",
            "2023-09-07 15:01:03",
            "2023-09-07 15:01:04",
            "2023-09-07 15:01:04",
            "2023-09-07 15:01:04",
            "2023-09-07 15:01:05",
            "2023-09-07 15:01:06",
            "2023-09-07 15:01:07",
            "2023-09-07 15:01:07",
            "2023-09-07 15:01:07",
            "2023-09-07 15:01:08",
            "2023-09-07 15:01:08",
            "2023-09-07 15:01:08",
            "2023-09-07 15:01:08",
            "2023-09-07 15:01:08",
            "2023-09-07 15:01:09",
            "2023-09-07 15:01:10",
            "2023-09-07 15:01:11",
            "2023-09-07 15:01:11",
            "2023-09-07 15:01:11",
            "2023-09-07 15:01:11",
            "2023-09-07 15:01:11",
            "2023-09-07 15:01:12",
            "2023-09-07 15:01:12",
            "2023-09-07 15:01:12",
            "2023-09-07 15:01:12",
            "2023-09-07 15:01:12",
            "2023-09-07 15:01:13",
            "2023-09-07 15:01:13",
            "2023-09-07 15:01:14",
            "2023-09-07 15:01:14",
            "2023-09-07 15:01:14",
            "2023-09-07 15:01:14",
            "2023-09-07 15:01:15",
            "2023-09-07 15:01:15",
            "2023-09-07 15:01:15",
            "2023-09-07 15:01:16",
            "2023-09-07 15:01:16",
            "2023-09-07 15:01:16",
            "2023-09-07 15:01:17",
            "2023-09-07 15:01:17"
           ],
           "type": "scatter",
           "x": [
            0.2628629860147935,
            -5.947186089536171,
            7.511234499194794,
            1.2368016066430076,
            -3.9383022083791523,
            9.519502944212656,
            8.816880016344196,
            15.208121856273904,
            14.025710879284519,
            -2.1359261723065925,
            7.05768093084308,
            1.592790739428831,
            0.7285176578468473,
            12.242518424828313,
            3.6747835001110527,
            7.866884907505119,
            12.411475162781779,
            12.833029096254522,
            8.261923541005068,
            5.0831273653651925,
            26.930871334830616,
            27.039745244561278,
            25.019860088518154,
            39.455693446687164,
            27.321535352904682,
            30.31780651486834,
            12.573526520789473,
            15.008821802752902,
            37.988817903560175,
            3.1977264770182456,
            13.555350298851561,
            3.5535772988144787,
            2.057485696647321,
            23.72489197255483,
            25.905726518102984,
            -0.049607600934990614,
            44.312221984514245,
            9.378352296443829,
            18.50241946088084,
            30.322701798056244,
            28.821367618013763,
            25.72928462141531,
            18.18069435837016,
            21.970881345714687,
            28.156454350498258,
            32.61429649029611,
            30.631145124138264,
            33.37364391128446,
            35.236020391599894,
            30.857949385414095,
            20.998130741840967,
            45.99412281903775,
            32.302439553723595,
            32.08881121592395,
            34.368659894470255,
            42.63783354856306,
            22.825250443375126,
            46.76794784079708,
            25.38567011928725,
            45.59917618721364,
            28.467386802836238,
            18.410120848619496,
            31.66272113820452,
            43.1559331152242,
            32.602419166440825,
            24.888047131114774,
            41.99512520304298,
            34.34481959543665,
            45.64098929078003,
            28.538562998472464,
            31.953188797311007,
            51.037984014335834,
            48.26811932475121,
            38.34817274276317,
            41.79198635803958,
            35.848011696046946,
            33.78187939091479,
            32.78467409040327,
            42.98168170387032,
            42.830054075906375,
            44.19816534754761,
            null
           ],
           "y": [
            45.565386681545874,
            45.05366061755791,
            46.35592175810034,
            32.05905379580751,
            47.28393730753255,
            31.456987364994728,
            34.167845538700334,
            41.39926162025145,
            30.523269059328186,
            39.91303043863957,
            48.67691635585126,
            36.21792645246228,
            49.91527833476793,
            47.603344842135236,
            45.81113548447709,
            36.913833208623586,
            42.07983225975437,
            37.580041204503345,
            51.51203885361398,
            38.77727204839494,
            50.26474359709672,
            46.83275159513233,
            44.2215730834841,
            42.928967070680564,
            39.18334456447075,
            41.74815349965422,
            53.23948281955508,
            39.23710521891505,
            41.71611682790641,
            44.66052183772808,
            54.103690631976036,
            53.14575568077721,
            55.08403627460173,
            53.54937794282731,
            39.48254372876265,
            49.2227662940403,
            54.06836097418948,
            56.263969533566836,
            53.25939906245995,
            35.91069398537605,
            41.65623575003663,
            41.905400700989,
            39.61971827652344,
            48.47021711265079,
            47.053263396761686,
            48.42591290835785,
            46.873040621337125,
            35.83422888376544,
            40.8472753333875,
            45.24876042326029,
            41.2671197651651,
            50.516940652029575,
            45.179981648715554,
            30.171972495537165,
            42.403150160945586,
            46.32282510415091,
            42.91321237687506,
            41.0321130883941,
            29.506000958938504,
            37.63147063057602,
            32.76461422246943,
            36.560369010476535,
            37.87256247118427,
            45.9129338470391,
            42.61065010596327,
            25.82761963811049,
            36.2851591423244,
            32.987197462520854,
            43.251218519286574,
            32.59179843212368,
            29.186005589173316,
            30.601098731718686,
            27.428160072135906,
            33.58198629100018,
            32.75561514350671,
            22.563898343016053,
            39.479508793216375,
            22.39061636966581,
            24.9156684353476,
            40.38234490442706,
            36.52456070115119,
            null
           ]
          },
          {
           "type": "scatter",
           "x": [
            null,
            null
           ],
           "y": [
            null,
            null
           ]
          },
          {
           "customdata": [
            "2023-09-07 15:01:02",
            "2023-09-07 15:01:03",
            "2023-09-07 15:01:04",
            "2023-09-07 15:01:05",
            "2023-09-07 15:01:06",
            "2023-09-07 15:01:07",
            "2023-09-07 15:01:08",
            "2023-09-07 15:01:09",
            "2023-09-07 15:01:10",
            "2023-09-07 15:01:11",
            "2023-09-07 15:01:12",
            "2023-09-07 15:01:13",
            "2023-09-07 15:01:14",
            "2023-09-07 15:01:15",
            "2023-09-07 15:01:16",
            "2023-09-07 15:01:17"
           ],
           "hovertemplate": "%{meta}<br>(%{x}, %{y})<br>Time: %{customdata}",
           "meta": [
            "GaussianStateUpdate",
            "GaussianStateUpdate",
            "GaussianStatePrediction",
            "GaussianStateUpdate",
            "GaussianStateUpdate",
            "GaussianStatePrediction",
            "GaussianStateUpdate",
            "GaussianStateUpdate",
            "GaussianStateUpdate",
            "GaussianStateUpdate",
            "GaussianStateUpdate",
            "GaussianStateUpdate",
            "GaussianStateUpdate",
            "GaussianStateUpdate",
            "GaussianStateUpdate",
            "GaussianStatePrediction"
           ],
           "type": "scatter",
           "x": [
            24.808252741464877,
            24.28722730290998,
            23.865608033553055,
            25.298502648302748,
            25.44756589740006,
            25.699765066300532,
            26.72111884305909,
            26.47411081482359,
            26.91022719214639,
            28.392689239379788,
            29.48549289914162,
            29.958885131659155,
            30.982225814121207,
            32.97053770508004,
            34.355348100510774,
            35.73681432763107,
            null
           ],
           "y": [
            46.25695400029111,
            44.71110227768177,
            43.46018279162289,
            42.873394987407465,
            40.67460334874732,
            39.19307683483714,
            38.21781736538797,
            37.23463311057605,
            35.712856771033614,
            34.66207924550508,
            33.816964723112704,
            32.728697608491885,
            32.29760457310039,
            31.91941075010266,
            31.94651338326191,
            31.63580099457582,
            null
           ]
          },
          {
           "customdata": [
            "2023-09-07 15:00:40",
            "2023-09-07 15:00:41",
            "2023-09-07 15:00:42",
            "2023-09-07 15:00:43",
            "2023-09-07 15:00:44",
            "2023-09-07 15:00:45",
            "2023-09-07 15:00:46",
            "2023-09-07 15:00:47",
            "2023-09-07 15:00:48",
            "2023-09-07 15:00:49",
            "2023-09-07 15:00:50",
            "2023-09-07 15:00:51",
            "2023-09-07 15:00:52",
            "2023-09-07 15:00:53",
            "2023-09-07 15:00:54",
            "2023-09-07 15:00:55",
            "2023-09-07 15:00:56",
            "2023-09-07 15:00:57",
            "2023-09-07 15:00:58",
            "2023-09-07 15:00:59",
            "2023-09-07 15:01:00",
            "2023-09-07 15:01:01",
            "2023-09-07 15:01:02",
            "2023-09-07 15:01:03",
            "2023-09-07 15:01:04",
            "2023-09-07 15:01:05"
           ],
           "hovertemplate": "%{meta}<br>(%{x}, %{y})<br>Time: %{customdata}",
           "meta": [
            "GaussianStateUpdate",
            "GaussianStateUpdate",
            "GaussianStateUpdate",
            "GaussianStateUpdate",
            "GaussianStateUpdate",
            "GaussianStatePrediction",
            "GaussianStateUpdate",
            "GaussianStateUpdate",
            "GaussianStateUpdate",
            "GaussianStateUpdate",
            "GaussianStatePrediction",
            "GaussianStateUpdate",
            "GaussianStateUpdate",
            "GaussianStateUpdate",
            "GaussianStateUpdate",
            "GaussianStateUpdate",
            "GaussianStateUpdate",
            "GaussianStateUpdate",
            "GaussianStateUpdate",
            "GaussianStateUpdate",
            "GaussianStateUpdate",
            "GaussianStateUpdate",
            "GaussianStateUpdate",
            "GaussianStatePrediction",
            "GaussianStatePrediction",
            "GaussianStatePrediction"
           ],
           "type": "scatter",
           "x": [
            -0.43005629247898636,
            1.5671309635627815,
            1.7248047174586882,
            1.8905500191617137,
            3.0266606144206634,
            3.7930024690710495,
            5.063871539095284,
            5.749814186180568,
            6.802874669121355,
            8.2129677138972,
            9.367732280484283,
            8.542618402693721,
            8.634368220211687,
            8.669701894529883,
            9.075003246000703,
            9.29501577604749,
            9.413413937498195,
            8.502632005862981,
            7.971735342146178,
            7.79106608746795,
            8.267728552533242,
            8.8391159278272,
            8.748563089055056,
            8.86400725665167,
            8.979451424248284,
            9.094895591844898,
            null
           ],
           "y": [
            41.49312990045806,
            41.3283166972261,
            40.69579995272057,
            40.74242157325732,
            39.9576780440993,
            39.494129937136556,
            39.60146342055227,
            40.16817369119637,
            40.313729365629904,
            40.905811622898376,
            41.23864331164184,
            41.162676656780185,
            42.24148057909349,
            43.0469437062278,
            43.453524571615226,
            45.10875518315963,
            45.9885693493004,
            46.04032141953401,
            47.147697787822864,
            48.23006081378942,
            49.19872167033096,
            50.24570967805816,
            50.9635055877399,
            51.8313661441028,
            52.6992267004657,
            53.5670872568286,
            null
           ]
          },
          {
           "customdata": [
            "2023-09-07 15:00:59",
            "2023-09-07 15:01:00",
            "2023-09-07 15:01:01",
            "2023-09-07 15:01:02",
            "2023-09-07 15:01:03",
            "2023-09-07 15:01:04",
            "2023-09-07 15:01:05",
            "2023-09-07 15:01:06",
            "2023-09-07 15:01:07",
            "2023-09-07 15:01:08",
            "2023-09-07 15:01:09",
            "2023-09-07 15:01:10",
            "2023-09-07 15:01:11",
            "2023-09-07 15:01:12",
            "2023-09-07 15:01:13",
            "2023-09-07 15:01:14",
            "2023-09-07 15:01:15",
            "2023-09-07 15:01:16",
            "2023-09-07 15:01:17"
           ],
           "hovertemplate": "%{meta}<br>(%{x}, %{y})<br>Time: %{customdata}",
           "meta": [
            "GaussianStateUpdate",
            "GaussianStateUpdate",
            "GaussianStateUpdate",
            "GaussianStateUpdate",
            "GaussianStateUpdate",
            "GaussianStatePrediction",
            "GaussianStateUpdate",
            "GaussianStateUpdate",
            "GaussianStateUpdate",
            "GaussianStatePrediction",
            "GaussianStateUpdate",
            "GaussianStateUpdate",
            "GaussianStateUpdate",
            "GaussianStateUpdate",
            "GaussianStateUpdate",
            "GaussianStateUpdate",
            "GaussianStateUpdate",
            "GaussianStatePrediction",
            "GaussianStatePrediction"
           ],
           "type": "scatter",
           "x": [
            34.62154345599989,
            34.285793715002384,
            34.268766551451364,
            35.25199515478764,
            35.241728090713245,
            35.46611855956127,
            35.823886725585425,
            36.908212632501446,
            38.31187561793434,
            39.27738316623153,
            40.12303778529568,
            42.05919966214608,
            43.58076136933816,
            44.85506086017132,
            46.54365872209996,
            48.4424978164326,
            50.25972723135585,
            52.00551187071654,
            53.751296510077225,
            null
           ],
           "y": [
            50.04974583545324,
            49.58436807554751,
            48.332859762710335,
            47.97879829102805,
            47.391708738119306,
            46.778684057935784,
            46.40193603508247,
            45.339300697596954,
            43.8858444435431,
            42.82140177455153,
            41.504477643507144,
            40.00566872524056,
            39.043838355329946,
            37.794716297103854,
            36.85351357980136,
            35.33753663122695,
            34.58421722918014,
            33.54522394965844,
            32.506230670136745,
            null
           ]
          },
          {
           "type": "scatter",
           "x": [
            null
           ],
           "y": [
            null
           ]
          },
          {
           "type": "scatter",
           "x": [
            35.73681432763107,
            35.8672594047851,
            35.99200340612257,
            36.1055944201969,
            36.20306797462289,
            36.2801640073421,
            36.33351305177691,
            36.3607834986884,
            36.3607834986884,
            36.33351305177691,
            36.2801640073421,
            36.20306797462289,
            36.1055944201969,
            35.99200340612257,
            35.8672594047851,
            35.73681432763107,
            35.606369250477044,
            35.481625249139576,
            35.368034235065245,
            35.27056068063926,
            35.193464647920045,
            35.140115603485235,
            35.11284515657375,
            35.11284515657375,
            35.140115603485235,
            35.193464647920045,
            35.27056068063926,
            35.368034235065245,
            35.481625249139576,
            35.606369250477044,
            null,
            null
           ],
           "y": [
            32.26320716226634,
            32.249496832187894,
            32.20896504916645,
            32.14338324661311,
            32.05561766399587,
            31.949504078421082,
            31.82968016276785,
            31.70138279712916,
            31.57021919202248,
            31.44192182638379,
            31.32209791073056,
            31.215984325155773,
            31.12821874253853,
            31.062636939985193,
            31.022105156963747,
            31.0083948268853,
            31.022105156963747,
            31.062636939985193,
            31.12821874253853,
            31.215984325155773,
            31.32209791073056,
            31.44192182638379,
            31.57021919202248,
            31.70138279712916,
            31.82968016276785,
            31.949504078421082,
            32.05561766399587,
            32.14338324661311,
            32.20896504916645,
            32.249496832187894,
            null,
            null
           ]
          },
          {
           "type": "scatter",
           "x": [
            null
           ],
           "y": [
            null
           ]
          },
          {
           "type": "scatter",
           "x": [
            53.751296510077225,
            53.94900484627433,
            54.13807237946976,
            54.31023595121621,
            54.45797118729586,
            54.57482134897974,
            54.655679523492964,
            54.69701182060874,
            54.69701182060874,
            54.655679523492964,
            54.57482134897974,
            54.45797118729586,
            54.31023595121621,
            54.13807237946976,
            53.94900484627433,
            53.751296510077225,
            53.55358817388012,
            53.36452064068469,
            53.19235706893824,
            53.04462183285859,
            52.92777167117471,
            52.846913496661486,
            52.805581199545706,
            52.805581199545706,
            52.846913496661486,
            52.92777167117471,
            53.04462183285859,
            53.19235706893824,
            53.36452064068469,
            53.55358817388012,
            null,
            null
           ],
           "y": [
            33.45715524498617,
            33.43637526150452,
            33.37494349605115,
            33.275544811558696,
            33.14252340750728,
            32.98169295756146,
            32.80008252413399,
            32.6056293546292,
            32.40683198564429,
            32.212378816139505,
            32.03076838271203,
            31.869937932766213,
            31.73691652871479,
            31.637517844222334,
            31.57608607876897,
            31.555306095287325,
            31.57608607876897,
            31.637517844222334,
            31.73691652871479,
            31.869937932766213,
            32.03076838271203,
            32.2123788161395,
            32.40683198564429,
            32.6056293546292,
            32.800082524133984,
            32.98169295756146,
            33.14252340750728,
            33.275544811558696,
            33.37494349605115,
            33.43637526150452,
            null,
            null
           ]
          }
         ],
         "name": "2023-09-07 15:01:17",
         "traces": [
          0,
          1,
          2,
          3,
          4,
          5,
          6,
          7,
          8,
          9,
          10,
          11,
          12,
          13,
          14,
          15
         ]
        },
        {
         "data": [
          {
           "type": "scatter",
           "x": [
            0,
            0
           ],
           "y": [
            0,
            0
           ]
          },
          {
           "hovertemplate": "GroundTruthState<br>(%{x}, %{y})<br>Time: %{meta}",
           "meta": [
            "2023-09-07 15:00:40",
            "2023-09-07 15:00:41",
            "2023-09-07 15:00:42",
            "2023-09-07 15:00:43",
            "2023-09-07 15:00:44",
            "2023-09-07 15:00:45",
            "2023-09-07 15:00:46",
            "2023-09-07 15:00:47",
            "2023-09-07 15:00:48",
            "2023-09-07 15:00:49",
            "2023-09-07 15:00:50",
            "2023-09-07 15:00:51",
            "2023-09-07 15:00:52",
            "2023-09-07 15:00:53",
            "2023-09-07 15:00:54",
            "2023-09-07 15:00:55",
            "2023-09-07 15:00:56",
            "2023-09-07 15:00:57",
            "2023-09-07 15:00:58",
            "2023-09-07 15:00:59",
            "2023-09-07 15:01:00",
            "2023-09-07 15:01:01",
            "2023-09-07 15:01:02"
           ],
           "type": "scatter",
           "x": [
            0,
            0.8091562802362998,
            1.4187778862009663,
            1.9340594175080428,
            2.7291599722274826,
            3.736499927988022,
            5.119411483348772,
            6.216732395332771,
            7.088723290570684,
            7.663354901814838,
            8.096722636252593,
            8.358906371025952,
            8.54822310121289,
            8.543882911480415,
            8.661018452611112,
            8.81413676771379,
            8.666475553311493,
            8.457114429626253,
            8.378969059200568,
            8.506472261414322,
            8.76192113749374,
            8.789109668220165,
            8.645151050991842,
            null
           ],
           "y": [
            41.55127793935055,
            41.14739075037148,
            40.71022742116085,
            40.33576258703677,
            40.11469426682165,
            40.0218978369037,
            40.11795936277245,
            40.23397761081491,
            40.45410408807201,
            40.66784873441858,
            41.10916580043645,
            41.59034958414012,
            42.15920554432621,
            42.83722041736732,
            43.80601257101235,
            44.72250861193358,
            45.55082005749288,
            46.478942183204815,
            47.23049024720247,
            48.1829097420305,
            49.16778848572788,
            49.950207045006884,
            50.84956128513592,
            null
           ]
          },
          {
           "hovertemplate": "GroundTruthState<br>(%{x}, %{y})<br>Time: %{meta}",
           "meta": [
            "2023-09-07 15:00:58",
            "2023-09-07 15:00:59",
            "2023-09-07 15:01:00",
            "2023-09-07 15:01:01",
            "2023-09-07 15:01:02",
            "2023-09-07 15:01:03",
            "2023-09-07 15:01:04",
            "2023-09-07 15:01:05",
            "2023-09-07 15:01:06",
            "2023-09-07 15:01:07",
            "2023-09-07 15:01:08",
            "2023-09-07 15:01:09",
            "2023-09-07 15:01:10",
            "2023-09-07 15:01:11",
            "2023-09-07 15:01:12",
            "2023-09-07 15:01:13",
            "2023-09-07 15:01:14",
            "2023-09-07 15:01:15",
            "2023-09-07 15:01:16",
            "2023-09-07 15:01:17",
            "2023-09-07 15:01:18"
           ],
           "type": "scatter",
           "x": [
            24.40294393298363,
            24.37101772209079,
            24.585384850156284,
            25.03868275478802,
            25.1049789512843,
            25.120548589233294,
            25.408274935648077,
            25.597302325430956,
            25.672637855560588,
            25.80173268410434,
            26.38411337439661,
            26.849321650314195,
            27.310076869760383,
            27.967766755734598,
            29.042742972472052,
            30.289521934785512,
            31.624543305557914,
            33.03629384129947,
            34.655790506692405,
            36.41618432117775,
            38.33663661876895,
            null
           ],
           "y": [
            50,
            48.92607580828807,
            47.94386490735651,
            46.9525856518256,
            45.916836511442554,
            44.660383933816995,
            43.38923608926767,
            41.798256079790406,
            40.37683940593047,
            39.10834475444106,
            37.99258063423742,
            36.80434580629272,
            35.73674662487452,
            34.5679650472467,
            33.772178919948075,
            33.158761432384615,
            32.76450748321075,
            32.497618736021465,
            32.23865822217414,
            31.970805067378816,
            31.685402093648953,
            null
           ]
          },
          {
           "hovertemplate": "GroundTruthState<br>(%{x}, %{y})<br>Time: %{meta}",
           "meta": [
            "2023-09-07 15:00:59",
            "2023-09-07 15:01:00",
            "2023-09-07 15:01:01",
            "2023-09-07 15:01:02",
            "2023-09-07 15:01:03",
            "2023-09-07 15:01:04",
            "2023-09-07 15:01:05",
            "2023-09-07 15:01:06",
            "2023-09-07 15:01:07",
            "2023-09-07 15:01:08",
            "2023-09-07 15:01:09",
            "2023-09-07 15:01:10",
            "2023-09-07 15:01:11",
            "2023-09-07 15:01:12",
            "2023-09-07 15:01:13",
            "2023-09-07 15:01:14",
            "2023-09-07 15:01:15"
           ],
           "type": "scatter",
           "x": [
            34.9497917032631,
            34.692784657380166,
            34.62875348769775,
            34.70653825006885,
            35.16602245368285,
            35.84203896849462,
            36.48923137530482,
            37.304433786378794,
            38.273117794667684,
            39.27302578813828,
            40.575156256116884,
            42.13859623033162,
            43.61811499994063,
            45.13597961938457,
            46.80097281565994,
            48.56100000968383,
            50.41359841769575,
            null
           ],
           "y": [
            50,
            49.233094514513525,
            48.65632716274939,
            48.04342569579986,
            47.37584157077364,
            46.67834504620978,
            45.83272536574674,
            44.99090823719139,
            44.11358671702823,
            43.045507500400134,
            41.692529772966616,
            40.25930053089142,
            38.90349389643283,
            37.79892206904109,
            36.72496748091521,
            35.568203065578025,
            34.39813347429571,
            null
           ]
          },
          {
           "hovertemplate": "GroundTruthState<br>(%{x}, %{y})<br>Time: %{meta}",
           "meta": [
            "2023-09-07 15:01:18"
           ],
           "type": "scatter",
           "x": [
            0,
            null
           ],
           "y": [
            13.10357910123418,
            null
           ]
          },
          {
           "type": "scatter",
           "x": [
            null,
            null
           ],
           "y": [
            null,
            null
           ]
          },
          {
           "hovertemplate": "Detection<br>(%{x}, %{y})<br>Time: %{meta}",
           "meta": [
            "2023-09-07 15:00:40",
            "2023-09-07 15:00:41",
            "2023-09-07 15:00:42",
            "2023-09-07 15:00:43",
            "2023-09-07 15:00:44",
            "2023-09-07 15:00:46",
            "2023-09-07 15:00:47",
            "2023-09-07 15:00:48",
            "2023-09-07 15:00:49",
            "2023-09-07 15:00:50",
            "2023-09-07 15:00:51",
            "2023-09-07 15:00:52",
            "2023-09-07 15:00:53",
            "2023-09-07 15:00:54",
            "2023-09-07 15:00:55",
            "2023-09-07 15:00:56",
            "2023-09-07 15:00:57",
            "2023-09-07 15:00:58",
            "2023-09-07 15:00:58",
            "2023-09-07 15:00:59",
            "2023-09-07 15:00:59",
            "2023-09-07 15:00:59",
            "2023-09-07 15:01:00",
            "2023-09-07 15:01:00",
            "2023-09-07 15:01:01",
            "2023-09-07 15:01:01",
            "2023-09-07 15:01:02",
            "2023-09-07 15:01:02",
            "2023-09-07 15:01:02",
            "2023-09-07 15:01:03",
            "2023-09-07 15:01:03",
            "2023-09-07 15:01:04",
            "2023-09-07 15:01:05",
            "2023-09-07 15:01:05",
            "2023-09-07 15:01:06",
            "2023-09-07 15:01:06",
            "2023-09-07 15:01:07",
            "2023-09-07 15:01:08",
            "2023-09-07 15:01:09",
            "2023-09-07 15:01:09",
            "2023-09-07 15:01:10",
            "2023-09-07 15:01:10",
            "2023-09-07 15:01:11",
            "2023-09-07 15:01:11",
            "2023-09-07 15:01:12",
            "2023-09-07 15:01:12",
            "2023-09-07 15:01:13",
            "2023-09-07 15:01:13",
            "2023-09-07 15:01:14",
            "2023-09-07 15:01:14",
            "2023-09-07 15:01:15",
            "2023-09-07 15:01:15",
            "2023-09-07 15:01:16",
            "2023-09-07 15:01:18",
            "2023-09-07 15:01:18"
           ],
           "type": "scatter",
           "x": [
            -0.43005629247898636,
            1.9613126588341832,
            1.328760915097623,
            1.6486342541080825,
            3.391167130241921,
            5.198613247790583,
            5.5997844867706466,
            6.935456692747284,
            8.51160294626042,
            6.938136290313291,
            8.00171047550961,
            8.455481513912613,
            8.51568107852356,
            9.22411910733494,
            9.258594731151701,
            9.32950730831503,
            7.804987863094423,
            24.581047874774246,
            7.832277013086065,
            34.62154345599989,
            7.937505079616018,
            24.155956069792705,
            34.219527318752874,
            8.764921493433448,
            9.169878259121589,
            34.33792014141769,
            24.808252741464877,
            35.71409381177726,
            8.508185830477029,
            35.01040999823201,
            24.184393334774143,
            25.495805205839506,
            35.85950727938655,
            25.487965372036413,
            37.36295589502933,
            25.364300083095635,
            38.81490747362937,
            26.92650992023429,
            26.03596591259028,
            40.090247952530696,
            42.62750361307228,
            27.050675848162673,
            43.69493541940249,
            29.12902614422362,
            44.76176804768235,
            29.637506472195824,
            29.650900517596043,
            46.75423507948332,
            31.162340017132035,
            48.68956101342326,
            50.34285151067938,
            33.681206740498496,
            34.35924968898188,
            38.20255965415224,
            -0.14517418428177845,
            null
           ],
           "y": [
            41.49312990045806,
            41.29578777553558,
            40.56025765481257,
            40.943137598599904,
            39.64105359377544,
            39.7539260798625,
            40.62749687000739,
            40.351899248824374,
            41.209034178881836,
            41.088704044823054,
            41.05099188880684,
            42.74592512474356,
            43.20802778630997,
            43.2900108578128,
            45.8069560006637,
            45.87834412006734,
            45.455700324445665,
            49.781697352014895,
            47.498742904408566,
            50.04974583545324,
            48.40541225977234,
            49.01136420875983,
            49.4925172018819,
            49.2219643780955,
            50.30810535810356,
            48.09527774002108,
            46.25695400029111,
            48.2078196986085,
            50.78839562369448,
            47.417274779382694,
            44.40599996400887,
            43.5197927927032,
            46.46503732984592,
            42.9412446802236,
            45.03790399017466,
            40.09552610002099,
            43.439230732975716,
            38.353008304293894,
            37.40798677226102,
            41.43540277842083,
            39.815961201534854,
            35.48874681711073,
            39.257107273185376,
            34.835324386097554,
            37.730821826564785,
            34.03955023089411,
            32.69639958115087,
            37.01295190145951,
            32.69615968061823,
            35.061395201317445,
            34.916591919976966,
            32.17042395307063,
            32.340636846034684,
            31.201568721009824,
            12.985501304391088,
            null
           ]
          },
          {
           "hovertemplate": "Clutter<br>(%{x}, %{y})<br>Time: %{meta}",
           "meta": [
            "2023-09-07 15:00:40",
            "2023-09-07 15:00:41",
            "2023-09-07 15:00:41",
            "2023-09-07 15:00:41",
            "2023-09-07 15:00:43",
            "2023-09-07 15:00:45",
            "2023-09-07 15:00:45",
            "2023-09-07 15:00:47",
            "2023-09-07 15:00:47",
            "2023-09-07 15:00:47",
            "2023-09-07 15:00:47",
            "2023-09-07 15:00:47",
            "2023-09-07 15:00:49",
            "2023-09-07 15:00:51",
            "2023-09-07 15:00:54",
            "2023-09-07 15:00:56",
            "2023-09-07 15:00:57",
            "2023-09-07 15:00:57",
            "2023-09-07 15:00:58",
            "2023-09-07 15:00:58",
            "2023-09-07 15:00:58",
            "2023-09-07 15:00:59",
            "2023-09-07 15:00:59",
            "2023-09-07 15:00:59",
            "2023-09-07 15:00:59",
            "2023-09-07 15:00:59",
            "2023-09-07 15:01:00",
            "2023-09-07 15:01:00",
            "2023-09-07 15:01:00",
            "2023-09-07 15:01:00",
            "2023-09-07 15:01:01",
            "2023-09-07 15:01:01",
            "2023-09-07 15:01:01",
            "2023-09-07 15:01:02",
            "2023-09-07 15:01:02",
            "2023-09-07 15:01:02",
            "2023-09-07 15:01:02",
            "2023-09-07 15:01:02",
            "2023-09-07 15:01:02",
            "2023-09-07 15:01:03",
            "2023-09-07 15:01:03",
            "2023-09-07 15:01:03",
            "2023-09-07 15:01:04",
            "2023-09-07 15:01:04",
            "2023-09-07 15:01:04",
            "2023-09-07 15:01:05",
            "2023-09-07 15:01:06",
            "2023-09-07 15:01:07",
            "2023-09-07 15:01:07",
            "2023-09-07 15:01:07",
            "2023-09-07 15:01:08",
            "2023-09-07 15:01:08",
            "2023-09-07 15:01:08",
            "2023-09-07 15:01:08",
            "2023-09-07 15:01:08",
            "2023-09-07 15:01:09",
            "2023-09-07 15:01:10",
            "2023-09-07 15:01:11",
            "2023-09-07 15:01:11",
            "2023-09-07 15:01:11",
            "2023-09-07 15:01:11",
            "2023-09-07 15:01:11",
            "2023-09-07 15:01:12",
            "2023-09-07 15:01:12",
            "2023-09-07 15:01:12",
            "2023-09-07 15:01:12",
            "2023-09-07 15:01:12",
            "2023-09-07 15:01:13",
            "2023-09-07 15:01:13",
            "2023-09-07 15:01:14",
            "2023-09-07 15:01:14",
            "2023-09-07 15:01:14",
            "2023-09-07 15:01:14",
            "2023-09-07 15:01:15",
            "2023-09-07 15:01:15",
            "2023-09-07 15:01:15",
            "2023-09-07 15:01:16",
            "2023-09-07 15:01:16",
            "2023-09-07 15:01:16",
            "2023-09-07 15:01:17",
            "2023-09-07 15:01:17",
            "2023-09-07 15:01:18",
            "2023-09-07 15:01:18",
            "2023-09-07 15:01:18"
           ],
           "type": "scatter",
           "x": [
            0.2628629860147935,
            -5.947186089536171,
            7.511234499194794,
            1.2368016066430076,
            -3.9383022083791523,
            9.519502944212656,
            8.816880016344196,
            15.208121856273904,
            14.025710879284519,
            -2.1359261723065925,
            7.05768093084308,
            1.592790739428831,
            0.7285176578468473,
            12.242518424828313,
            3.6747835001110527,
            7.866884907505119,
            12.411475162781779,
            12.833029096254522,
            8.261923541005068,
            5.0831273653651925,
            26.930871334830616,
            27.039745244561278,
            25.019860088518154,
            39.455693446687164,
            27.321535352904682,
            30.31780651486834,
            12.573526520789473,
            15.008821802752902,
            37.988817903560175,
            3.1977264770182456,
            13.555350298851561,
            3.5535772988144787,
            2.057485696647321,
            23.72489197255483,
            25.905726518102984,
            -0.049607600934990614,
            44.312221984514245,
            9.378352296443829,
            18.50241946088084,
            30.322701798056244,
            28.821367618013763,
            25.72928462141531,
            18.18069435837016,
            21.970881345714687,
            28.156454350498258,
            32.61429649029611,
            30.631145124138264,
            33.37364391128446,
            35.236020391599894,
            30.857949385414095,
            20.998130741840967,
            45.99412281903775,
            32.302439553723595,
            32.08881121592395,
            34.368659894470255,
            42.63783354856306,
            22.825250443375126,
            46.76794784079708,
            25.38567011928725,
            45.59917618721364,
            28.467386802836238,
            18.410120848619496,
            31.66272113820452,
            43.1559331152242,
            32.602419166440825,
            24.888047131114774,
            41.99512520304298,
            34.34481959543665,
            45.64098929078003,
            28.538562998472464,
            31.953188797311007,
            51.037984014335834,
            48.26811932475121,
            38.34817274276317,
            41.79198635803958,
            35.848011696046946,
            33.78187939091479,
            32.78467409040327,
            42.98168170387032,
            42.830054075906375,
            44.19816534754761,
            46.634625031145475,
            -7.325172957725023,
            39.81713025052223,
            null
           ],
           "y": [
            45.565386681545874,
            45.05366061755791,
            46.35592175810034,
            32.05905379580751,
            47.28393730753255,
            31.456987364994728,
            34.167845538700334,
            41.39926162025145,
            30.523269059328186,
            39.91303043863957,
            48.67691635585126,
            36.21792645246228,
            49.91527833476793,
            47.603344842135236,
            45.81113548447709,
            36.913833208623586,
            42.07983225975437,
            37.580041204503345,
            51.51203885361398,
            38.77727204839494,
            50.26474359709672,
            46.83275159513233,
            44.2215730834841,
            42.928967070680564,
            39.18334456447075,
            41.74815349965422,
            53.23948281955508,
            39.23710521891505,
            41.71611682790641,
            44.66052183772808,
            54.103690631976036,
            53.14575568077721,
            55.08403627460173,
            53.54937794282731,
            39.48254372876265,
            49.2227662940403,
            54.06836097418948,
            56.263969533566836,
            53.25939906245995,
            35.91069398537605,
            41.65623575003663,
            41.905400700989,
            39.61971827652344,
            48.47021711265079,
            47.053263396761686,
            48.42591290835785,
            46.873040621337125,
            35.83422888376544,
            40.8472753333875,
            45.24876042326029,
            41.2671197651651,
            50.516940652029575,
            45.179981648715554,
            30.171972495537165,
            42.403150160945586,
            46.32282510415091,
            42.91321237687506,
            41.0321130883941,
            29.506000958938504,
            37.63147063057602,
            32.76461422246943,
            36.560369010476535,
            37.87256247118427,
            45.9129338470391,
            42.61065010596327,
            25.82761963811049,
            36.2851591423244,
            32.987197462520854,
            43.251218519286574,
            32.59179843212368,
            29.186005589173316,
            30.601098731718686,
            27.428160072135906,
            33.58198629100018,
            32.75561514350671,
            22.563898343016053,
            39.479508793216375,
            22.39061636966581,
            24.9156684353476,
            40.38234490442706,
            36.52456070115119,
            37.09424389499827,
            4.137056923912706,
            33.29997688519985,
            null
           ]
          },
          {
           "type": "scatter",
           "x": [
            null,
            null
           ],
           "y": [
            null,
            null
           ]
          },
          {
           "customdata": [
            "2023-09-07 15:01:02",
            "2023-09-07 15:01:03",
            "2023-09-07 15:01:04",
            "2023-09-07 15:01:05",
            "2023-09-07 15:01:06",
            "2023-09-07 15:01:07",
            "2023-09-07 15:01:08",
            "2023-09-07 15:01:09",
            "2023-09-07 15:01:10",
            "2023-09-07 15:01:11",
            "2023-09-07 15:01:12",
            "2023-09-07 15:01:13",
            "2023-09-07 15:01:14",
            "2023-09-07 15:01:15",
            "2023-09-07 15:01:16",
            "2023-09-07 15:01:17",
            "2023-09-07 15:01:18"
           ],
           "hovertemplate": "%{meta}<br>(%{x}, %{y})<br>Time: %{customdata}",
           "meta": [
            "GaussianStateUpdate",
            "GaussianStateUpdate",
            "GaussianStatePrediction",
            "GaussianStateUpdate",
            "GaussianStateUpdate",
            "GaussianStatePrediction",
            "GaussianStateUpdate",
            "GaussianStateUpdate",
            "GaussianStateUpdate",
            "GaussianStateUpdate",
            "GaussianStateUpdate",
            "GaussianStateUpdate",
            "GaussianStateUpdate",
            "GaussianStateUpdate",
            "GaussianStateUpdate",
            "GaussianStatePrediction",
            "GaussianStateUpdate"
           ],
           "type": "scatter",
           "x": [
            24.808252741464877,
            24.28722730290998,
            23.865608033553055,
            25.298502648302748,
            25.44756589740006,
            25.699765066300532,
            26.72111884305909,
            26.47411081482359,
            26.91022719214639,
            28.392689239379788,
            29.48549289914162,
            29.958885131659155,
            30.982225814121207,
            32.97053770508004,
            34.355348100510774,
            35.73681432763107,
            37.96762619531714,
            null
           ],
           "y": [
            46.25695400029111,
            44.71110227768177,
            43.46018279162289,
            42.873394987407465,
            40.67460334874732,
            39.19307683483714,
            38.21781736538797,
            37.23463311057605,
            35.712856771033614,
            34.66207924550508,
            33.816964723112704,
            32.728697608491885,
            32.29760457310039,
            31.91941075010266,
            31.94651338326191,
            31.63580099457582,
            31.228332082773218,
            null
           ]
          },
          {
           "customdata": [
            "2023-09-07 15:00:40",
            "2023-09-07 15:00:41",
            "2023-09-07 15:00:42",
            "2023-09-07 15:00:43",
            "2023-09-07 15:00:44",
            "2023-09-07 15:00:45",
            "2023-09-07 15:00:46",
            "2023-09-07 15:00:47",
            "2023-09-07 15:00:48",
            "2023-09-07 15:00:49",
            "2023-09-07 15:00:50",
            "2023-09-07 15:00:51",
            "2023-09-07 15:00:52",
            "2023-09-07 15:00:53",
            "2023-09-07 15:00:54",
            "2023-09-07 15:00:55",
            "2023-09-07 15:00:56",
            "2023-09-07 15:00:57",
            "2023-09-07 15:00:58",
            "2023-09-07 15:00:59",
            "2023-09-07 15:01:00",
            "2023-09-07 15:01:01",
            "2023-09-07 15:01:02",
            "2023-09-07 15:01:03",
            "2023-09-07 15:01:04",
            "2023-09-07 15:01:05"
           ],
           "hovertemplate": "%{meta}<br>(%{x}, %{y})<br>Time: %{customdata}",
           "meta": [
            "GaussianStateUpdate",
            "GaussianStateUpdate",
            "GaussianStateUpdate",
            "GaussianStateUpdate",
            "GaussianStateUpdate",
            "GaussianStatePrediction",
            "GaussianStateUpdate",
            "GaussianStateUpdate",
            "GaussianStateUpdate",
            "GaussianStateUpdate",
            "GaussianStatePrediction",
            "GaussianStateUpdate",
            "GaussianStateUpdate",
            "GaussianStateUpdate",
            "GaussianStateUpdate",
            "GaussianStateUpdate",
            "GaussianStateUpdate",
            "GaussianStateUpdate",
            "GaussianStateUpdate",
            "GaussianStateUpdate",
            "GaussianStateUpdate",
            "GaussianStateUpdate",
            "GaussianStateUpdate",
            "GaussianStatePrediction",
            "GaussianStatePrediction",
            "GaussianStatePrediction"
           ],
           "type": "scatter",
           "x": [
            -0.43005629247898636,
            1.5671309635627815,
            1.7248047174586882,
            1.8905500191617137,
            3.0266606144206634,
            3.7930024690710495,
            5.063871539095284,
            5.749814186180568,
            6.802874669121355,
            8.2129677138972,
            9.367732280484283,
            8.542618402693721,
            8.634368220211687,
            8.669701894529883,
            9.075003246000703,
            9.29501577604749,
            9.413413937498195,
            8.502632005862981,
            7.971735342146178,
            7.79106608746795,
            8.267728552533242,
            8.8391159278272,
            8.748563089055056,
            8.86400725665167,
            8.979451424248284,
            9.094895591844898,
            null
           ],
           "y": [
            41.49312990045806,
            41.3283166972261,
            40.69579995272057,
            40.74242157325732,
            39.9576780440993,
            39.494129937136556,
            39.60146342055227,
            40.16817369119637,
            40.313729365629904,
            40.905811622898376,
            41.23864331164184,
            41.162676656780185,
            42.24148057909349,
            43.0469437062278,
            43.453524571615226,
            45.10875518315963,
            45.9885693493004,
            46.04032141953401,
            47.147697787822864,
            48.23006081378942,
            49.19872167033096,
            50.24570967805816,
            50.9635055877399,
            51.8313661441028,
            52.6992267004657,
            53.5670872568286,
            null
           ]
          },
          {
           "customdata": [
            "2023-09-07 15:00:59",
            "2023-09-07 15:01:00",
            "2023-09-07 15:01:01",
            "2023-09-07 15:01:02",
            "2023-09-07 15:01:03",
            "2023-09-07 15:01:04",
            "2023-09-07 15:01:05",
            "2023-09-07 15:01:06",
            "2023-09-07 15:01:07",
            "2023-09-07 15:01:08",
            "2023-09-07 15:01:09",
            "2023-09-07 15:01:10",
            "2023-09-07 15:01:11",
            "2023-09-07 15:01:12",
            "2023-09-07 15:01:13",
            "2023-09-07 15:01:14",
            "2023-09-07 15:01:15",
            "2023-09-07 15:01:16",
            "2023-09-07 15:01:17",
            "2023-09-07 15:01:18"
           ],
           "hovertemplate": "%{meta}<br>(%{x}, %{y})<br>Time: %{customdata}",
           "meta": [
            "GaussianStateUpdate",
            "GaussianStateUpdate",
            "GaussianStateUpdate",
            "GaussianStateUpdate",
            "GaussianStateUpdate",
            "GaussianStatePrediction",
            "GaussianStateUpdate",
            "GaussianStateUpdate",
            "GaussianStateUpdate",
            "GaussianStatePrediction",
            "GaussianStateUpdate",
            "GaussianStateUpdate",
            "GaussianStateUpdate",
            "GaussianStateUpdate",
            "GaussianStateUpdate",
            "GaussianStateUpdate",
            "GaussianStateUpdate",
            "GaussianStatePrediction",
            "GaussianStatePrediction",
            "GaussianStatePrediction"
           ],
           "type": "scatter",
           "x": [
            34.62154345599989,
            34.285793715002384,
            34.268766551451364,
            35.25199515478764,
            35.241728090713245,
            35.46611855956127,
            35.823886725585425,
            36.908212632501446,
            38.31187561793434,
            39.27738316623153,
            40.12303778529568,
            42.05919966214608,
            43.58076136933816,
            44.85506086017132,
            46.54365872209996,
            48.4424978164326,
            50.25972723135585,
            52.00551187071654,
            53.751296510077225,
            55.49708114943791,
            null
           ],
           "y": [
            50.04974583545324,
            49.58436807554751,
            48.332859762710335,
            47.97879829102805,
            47.391708738119306,
            46.778684057935784,
            46.40193603508247,
            45.339300697596954,
            43.8858444435431,
            42.82140177455153,
            41.504477643507144,
            40.00566872524056,
            39.043838355329946,
            37.794716297103854,
            36.85351357980136,
            35.33753663122695,
            34.58421722918014,
            33.54522394965844,
            32.506230670136745,
            31.467237390615047,
            null
           ]
          },
          {
           "type": "scatter",
           "x": [
            null
           ],
           "y": [
            null
           ]
          },
          {
           "type": "scatter",
           "x": [
            37.96762619531714,
            38.059633138583465,
            38.147618936930755,
            38.22773818876853,
            38.29648929833665,
            38.35086751224257,
            38.38849624160298,
            38.407730930382144,
            38.407730930382144,
            38.38849624160298,
            38.35086751224257,
            38.29648929833665,
            38.22773818876853,
            38.147618936930755,
            38.059633138583465,
            37.96762619531714,
            37.87561925205081,
            37.78763345370352,
            37.70751420186575,
            37.63876309229762,
            37.5843848783917,
            37.546756149031296,
            37.52752146025213,
            37.52752146025213,
            37.546756149031296,
            37.5843848783917,
            37.63876309229762,
            37.70751420186575,
            37.78763345370352,
            37.87561925205081,
            null,
            null
           ],
           "y": [
            31.67086103775619,
            31.66119071834505,
            31.63260239947324,
            31.58634552785743,
            31.524441750752324,
            31.449596560264702,
            31.36508105036594,
            31.274588954389028,
            31.182075211157407,
            31.091583115180494,
            31.007067605281733,
            30.93222241479411,
            30.870318637689007,
            30.824061766073196,
            30.79547344720139,
            30.785803127790246,
            30.79547344720139,
            30.824061766073196,
            30.870318637689007,
            30.93222241479411,
            31.007067605281733,
            31.091583115180494,
            31.182075211157407,
            31.274588954389028,
            31.36508105036594,
            31.449596560264702,
            31.524441750752324,
            31.58634552785743,
            31.63260239947324,
            31.66119071834505,
            null,
            null
           ]
          },
          {
           "type": "scatter",
           "x": [
            null
           ],
           "y": [
            null
           ]
          },
          {
           "type": "scatter",
           "x": [
            55.49708114943791,
            55.77478592308734,
            56.04035366555295,
            56.28217779215356,
            56.489689428155835,
            56.653819319315154,
            56.76739420180527,
            56.8254503082686,
            56.8254503082686,
            56.76739420180527,
            56.653819319315154,
            56.489689428155835,
            56.28217779215356,
            56.04035366555295,
            55.77478592308734,
            55.49708114943791,
            55.21937637578848,
            54.95380863332287,
            54.71198450672226,
            54.50447287071999,
            54.34034297956067,
            54.226768097070554,
            54.16871199060722,
            54.16871199060722,
            54.226768097070554,
            54.34034297956067,
            54.50447287071999,
            54.71198450672226,
            54.95380863332287,
            55.21937637578847,
            null,
            null
           ],
           "y": [
            32.80292357813613,
            32.77373563027208,
            32.6874474400609,
            32.547830215471485,
            32.360985899176185,
            32.13508048437559,
            31.879987121710947,
            31.60685461520446,
            31.327620166025635,
            31.05448765951915,
            30.799394296854505,
            30.573488882053912,
            30.386644565758605,
            30.247027341169197,
            30.160739150958012,
            30.131551203093963,
            30.160739150958012,
            30.247027341169197,
            30.386644565758605,
            30.573488882053912,
            30.799394296854505,
            31.054487659519147,
            31.327620166025635,
            31.60685461520446,
            31.879987121710943,
            32.13508048437559,
            32.360985899176185,
            32.547830215471485,
            32.6874474400609,
            32.77373563027208,
            null,
            null
           ]
          }
         ],
         "name": "2023-09-07 15:01:18",
         "traces": [
          0,
          1,
          2,
          3,
          4,
          5,
          6,
          7,
          8,
          9,
          10,
          11,
          12,
          13,
          14,
          15
         ]
        },
        {
         "data": [
          {
           "type": "scatter",
           "x": [
            0,
            0
           ],
           "y": [
            0,
            0
           ]
          },
          {
           "hovertemplate": "GroundTruthState<br>(%{x}, %{y})<br>Time: %{meta}",
           "meta": [
            "2023-09-07 15:00:40",
            "2023-09-07 15:00:41",
            "2023-09-07 15:00:42",
            "2023-09-07 15:00:43",
            "2023-09-07 15:00:44",
            "2023-09-07 15:00:45",
            "2023-09-07 15:00:46",
            "2023-09-07 15:00:47",
            "2023-09-07 15:00:48",
            "2023-09-07 15:00:49",
            "2023-09-07 15:00:50",
            "2023-09-07 15:00:51",
            "2023-09-07 15:00:52",
            "2023-09-07 15:00:53",
            "2023-09-07 15:00:54",
            "2023-09-07 15:00:55",
            "2023-09-07 15:00:56",
            "2023-09-07 15:00:57",
            "2023-09-07 15:00:58",
            "2023-09-07 15:00:59",
            "2023-09-07 15:01:00",
            "2023-09-07 15:01:01",
            "2023-09-07 15:01:02"
           ],
           "type": "scatter",
           "x": [
            0,
            0.8091562802362998,
            1.4187778862009663,
            1.9340594175080428,
            2.7291599722274826,
            3.736499927988022,
            5.119411483348772,
            6.216732395332771,
            7.088723290570684,
            7.663354901814838,
            8.096722636252593,
            8.358906371025952,
            8.54822310121289,
            8.543882911480415,
            8.661018452611112,
            8.81413676771379,
            8.666475553311493,
            8.457114429626253,
            8.378969059200568,
            8.506472261414322,
            8.76192113749374,
            8.789109668220165,
            8.645151050991842,
            null
           ],
           "y": [
            41.55127793935055,
            41.14739075037148,
            40.71022742116085,
            40.33576258703677,
            40.11469426682165,
            40.0218978369037,
            40.11795936277245,
            40.23397761081491,
            40.45410408807201,
            40.66784873441858,
            41.10916580043645,
            41.59034958414012,
            42.15920554432621,
            42.83722041736732,
            43.80601257101235,
            44.72250861193358,
            45.55082005749288,
            46.478942183204815,
            47.23049024720247,
            48.1829097420305,
            49.16778848572788,
            49.950207045006884,
            50.84956128513592,
            null
           ]
          },
          {
           "hovertemplate": "GroundTruthState<br>(%{x}, %{y})<br>Time: %{meta}",
           "meta": [
            "2023-09-07 15:00:58",
            "2023-09-07 15:00:59",
            "2023-09-07 15:01:00",
            "2023-09-07 15:01:01",
            "2023-09-07 15:01:02",
            "2023-09-07 15:01:03",
            "2023-09-07 15:01:04",
            "2023-09-07 15:01:05",
            "2023-09-07 15:01:06",
            "2023-09-07 15:01:07",
            "2023-09-07 15:01:08",
            "2023-09-07 15:01:09",
            "2023-09-07 15:01:10",
            "2023-09-07 15:01:11",
            "2023-09-07 15:01:12",
            "2023-09-07 15:01:13",
            "2023-09-07 15:01:14",
            "2023-09-07 15:01:15",
            "2023-09-07 15:01:16",
            "2023-09-07 15:01:17",
            "2023-09-07 15:01:18",
            "2023-09-07 15:01:19"
           ],
           "type": "scatter",
           "x": [
            24.40294393298363,
            24.37101772209079,
            24.585384850156284,
            25.03868275478802,
            25.1049789512843,
            25.120548589233294,
            25.408274935648077,
            25.597302325430956,
            25.672637855560588,
            25.80173268410434,
            26.38411337439661,
            26.849321650314195,
            27.310076869760383,
            27.967766755734598,
            29.042742972472052,
            30.289521934785512,
            31.624543305557914,
            33.03629384129947,
            34.655790506692405,
            36.41618432117775,
            38.33663661876895,
            40.0941005393072,
            null
           ],
           "y": [
            50,
            48.92607580828807,
            47.94386490735651,
            46.9525856518256,
            45.916836511442554,
            44.660383933816995,
            43.38923608926767,
            41.798256079790406,
            40.37683940593047,
            39.10834475444106,
            37.99258063423742,
            36.80434580629272,
            35.73674662487452,
            34.5679650472467,
            33.772178919948075,
            33.158761432384615,
            32.76450748321075,
            32.497618736021465,
            32.23865822217414,
            31.970805067378816,
            31.685402093648953,
            31.494603007248795,
            null
           ]
          },
          {
           "hovertemplate": "GroundTruthState<br>(%{x}, %{y})<br>Time: %{meta}",
           "meta": [
            "2023-09-07 15:00:59",
            "2023-09-07 15:01:00",
            "2023-09-07 15:01:01",
            "2023-09-07 15:01:02",
            "2023-09-07 15:01:03",
            "2023-09-07 15:01:04",
            "2023-09-07 15:01:05",
            "2023-09-07 15:01:06",
            "2023-09-07 15:01:07",
            "2023-09-07 15:01:08",
            "2023-09-07 15:01:09",
            "2023-09-07 15:01:10",
            "2023-09-07 15:01:11",
            "2023-09-07 15:01:12",
            "2023-09-07 15:01:13",
            "2023-09-07 15:01:14",
            "2023-09-07 15:01:15"
           ],
           "type": "scatter",
           "x": [
            34.9497917032631,
            34.692784657380166,
            34.62875348769775,
            34.70653825006885,
            35.16602245368285,
            35.84203896849462,
            36.48923137530482,
            37.304433786378794,
            38.273117794667684,
            39.27302578813828,
            40.575156256116884,
            42.13859623033162,
            43.61811499994063,
            45.13597961938457,
            46.80097281565994,
            48.56100000968383,
            50.41359841769575,
            null
           ],
           "y": [
            50,
            49.233094514513525,
            48.65632716274939,
            48.04342569579986,
            47.37584157077364,
            46.67834504620978,
            45.83272536574674,
            44.99090823719139,
            44.11358671702823,
            43.045507500400134,
            41.692529772966616,
            40.25930053089142,
            38.90349389643283,
            37.79892206904109,
            36.72496748091521,
            35.568203065578025,
            34.39813347429571,
            null
           ]
          },
          {
           "hovertemplate": "GroundTruthState<br>(%{x}, %{y})<br>Time: %{meta}",
           "meta": [
            "2023-09-07 15:01:18",
            "2023-09-07 15:01:19"
           ],
           "type": "scatter",
           "x": [
            0,
            0.8288856015780944,
            null
           ],
           "y": [
            13.10357910123418,
            13.488174129704484,
            null
           ]
          },
          {
           "type": "scatter",
           "x": [
            null,
            null
           ],
           "y": [
            null,
            null
           ]
          },
          {
           "hovertemplate": "Detection<br>(%{x}, %{y})<br>Time: %{meta}",
           "meta": [
            "2023-09-07 15:00:40",
            "2023-09-07 15:00:41",
            "2023-09-07 15:00:42",
            "2023-09-07 15:00:43",
            "2023-09-07 15:00:44",
            "2023-09-07 15:00:46",
            "2023-09-07 15:00:47",
            "2023-09-07 15:00:48",
            "2023-09-07 15:00:49",
            "2023-09-07 15:00:50",
            "2023-09-07 15:00:51",
            "2023-09-07 15:00:52",
            "2023-09-07 15:00:53",
            "2023-09-07 15:00:54",
            "2023-09-07 15:00:55",
            "2023-09-07 15:00:56",
            "2023-09-07 15:00:57",
            "2023-09-07 15:00:58",
            "2023-09-07 15:00:58",
            "2023-09-07 15:00:59",
            "2023-09-07 15:00:59",
            "2023-09-07 15:00:59",
            "2023-09-07 15:01:00",
            "2023-09-07 15:01:00",
            "2023-09-07 15:01:01",
            "2023-09-07 15:01:01",
            "2023-09-07 15:01:02",
            "2023-09-07 15:01:02",
            "2023-09-07 15:01:02",
            "2023-09-07 15:01:03",
            "2023-09-07 15:01:03",
            "2023-09-07 15:01:04",
            "2023-09-07 15:01:05",
            "2023-09-07 15:01:05",
            "2023-09-07 15:01:06",
            "2023-09-07 15:01:06",
            "2023-09-07 15:01:07",
            "2023-09-07 15:01:08",
            "2023-09-07 15:01:09",
            "2023-09-07 15:01:09",
            "2023-09-07 15:01:10",
            "2023-09-07 15:01:10",
            "2023-09-07 15:01:11",
            "2023-09-07 15:01:11",
            "2023-09-07 15:01:12",
            "2023-09-07 15:01:12",
            "2023-09-07 15:01:13",
            "2023-09-07 15:01:13",
            "2023-09-07 15:01:14",
            "2023-09-07 15:01:14",
            "2023-09-07 15:01:15",
            "2023-09-07 15:01:15",
            "2023-09-07 15:01:16",
            "2023-09-07 15:01:18",
            "2023-09-07 15:01:18",
            "2023-09-07 15:01:19",
            "2023-09-07 15:01:19"
           ],
           "type": "scatter",
           "x": [
            -0.43005629247898636,
            1.9613126588341832,
            1.328760915097623,
            1.6486342541080825,
            3.391167130241921,
            5.198613247790583,
            5.5997844867706466,
            6.935456692747284,
            8.51160294626042,
            6.938136290313291,
            8.00171047550961,
            8.455481513912613,
            8.51568107852356,
            9.22411910733494,
            9.258594731151701,
            9.32950730831503,
            7.804987863094423,
            24.581047874774246,
            7.832277013086065,
            34.62154345599989,
            7.937505079616018,
            24.155956069792705,
            34.219527318752874,
            8.764921493433448,
            9.169878259121589,
            34.33792014141769,
            24.808252741464877,
            35.71409381177726,
            8.508185830477029,
            35.01040999823201,
            24.184393334774143,
            25.495805205839506,
            35.85950727938655,
            25.487965372036413,
            37.36295589502933,
            25.364300083095635,
            38.81490747362937,
            26.92650992023429,
            26.03596591259028,
            40.090247952530696,
            42.62750361307228,
            27.050675848162673,
            43.69493541940249,
            29.12902614422362,
            44.76176804768235,
            29.637506472195824,
            29.650900517596043,
            46.75423507948332,
            31.162340017132035,
            48.68956101342326,
            50.34285151067938,
            33.681206740498496,
            34.35924968898188,
            38.20255965415224,
            -0.14517418428177845,
            1.104082549942672,
            41.48758389257666,
            null
           ],
           "y": [
            41.49312990045806,
            41.29578777553558,
            40.56025765481257,
            40.943137598599904,
            39.64105359377544,
            39.7539260798625,
            40.62749687000739,
            40.351899248824374,
            41.209034178881836,
            41.088704044823054,
            41.05099188880684,
            42.74592512474356,
            43.20802778630997,
            43.2900108578128,
            45.8069560006637,
            45.87834412006734,
            45.455700324445665,
            49.781697352014895,
            47.498742904408566,
            50.04974583545324,
            48.40541225977234,
            49.01136420875983,
            49.4925172018819,
            49.2219643780955,
            50.30810535810356,
            48.09527774002108,
            46.25695400029111,
            48.2078196986085,
            50.78839562369448,
            47.417274779382694,
            44.40599996400887,
            43.5197927927032,
            46.46503732984592,
            42.9412446802236,
            45.03790399017466,
            40.09552610002099,
            43.439230732975716,
            38.353008304293894,
            37.40798677226102,
            41.43540277842083,
            39.815961201534854,
            35.48874681711073,
            39.257107273185376,
            34.835324386097554,
            37.730821826564785,
            34.03955023089411,
            32.69639958115087,
            37.01295190145951,
            32.69615968061823,
            35.061395201317445,
            34.916591919976966,
            32.17042395307063,
            32.340636846034684,
            31.201568721009824,
            12.985501304391088,
            14.03690013835272,
            30.93467200759374,
            null
           ]
          },
          {
           "hovertemplate": "Clutter<br>(%{x}, %{y})<br>Time: %{meta}",
           "meta": [
            "2023-09-07 15:00:40",
            "2023-09-07 15:00:41",
            "2023-09-07 15:00:41",
            "2023-09-07 15:00:41",
            "2023-09-07 15:00:43",
            "2023-09-07 15:00:45",
            "2023-09-07 15:00:45",
            "2023-09-07 15:00:47",
            "2023-09-07 15:00:47",
            "2023-09-07 15:00:47",
            "2023-09-07 15:00:47",
            "2023-09-07 15:00:47",
            "2023-09-07 15:00:49",
            "2023-09-07 15:00:51",
            "2023-09-07 15:00:54",
            "2023-09-07 15:00:56",
            "2023-09-07 15:00:57",
            "2023-09-07 15:00:57",
            "2023-09-07 15:00:58",
            "2023-09-07 15:00:58",
            "2023-09-07 15:00:58",
            "2023-09-07 15:00:59",
            "2023-09-07 15:00:59",
            "2023-09-07 15:00:59",
            "2023-09-07 15:00:59",
            "2023-09-07 15:00:59",
            "2023-09-07 15:01:00",
            "2023-09-07 15:01:00",
            "2023-09-07 15:01:00",
            "2023-09-07 15:01:00",
            "2023-09-07 15:01:01",
            "2023-09-07 15:01:01",
            "2023-09-07 15:01:01",
            "2023-09-07 15:01:02",
            "2023-09-07 15:01:02",
            "2023-09-07 15:01:02",
            "2023-09-07 15:01:02",
            "2023-09-07 15:01:02",
            "2023-09-07 15:01:02",
            "2023-09-07 15:01:03",
            "2023-09-07 15:01:03",
            "2023-09-07 15:01:03",
            "2023-09-07 15:01:04",
            "2023-09-07 15:01:04",
            "2023-09-07 15:01:04",
            "2023-09-07 15:01:05",
            "2023-09-07 15:01:06",
            "2023-09-07 15:01:07",
            "2023-09-07 15:01:07",
            "2023-09-07 15:01:07",
            "2023-09-07 15:01:08",
            "2023-09-07 15:01:08",
            "2023-09-07 15:01:08",
            "2023-09-07 15:01:08",
            "2023-09-07 15:01:08",
            "2023-09-07 15:01:09",
            "2023-09-07 15:01:10",
            "2023-09-07 15:01:11",
            "2023-09-07 15:01:11",
            "2023-09-07 15:01:11",
            "2023-09-07 15:01:11",
            "2023-09-07 15:01:11",
            "2023-09-07 15:01:12",
            "2023-09-07 15:01:12",
            "2023-09-07 15:01:12",
            "2023-09-07 15:01:12",
            "2023-09-07 15:01:12",
            "2023-09-07 15:01:13",
            "2023-09-07 15:01:13",
            "2023-09-07 15:01:14",
            "2023-09-07 15:01:14",
            "2023-09-07 15:01:14",
            "2023-09-07 15:01:14",
            "2023-09-07 15:01:15",
            "2023-09-07 15:01:15",
            "2023-09-07 15:01:15",
            "2023-09-07 15:01:16",
            "2023-09-07 15:01:16",
            "2023-09-07 15:01:16",
            "2023-09-07 15:01:17",
            "2023-09-07 15:01:17",
            "2023-09-07 15:01:18",
            "2023-09-07 15:01:18",
            "2023-09-07 15:01:18",
            "2023-09-07 15:01:19",
            "2023-09-07 15:01:19",
            "2023-09-07 15:01:19",
            "2023-09-07 15:01:19"
           ],
           "type": "scatter",
           "x": [
            0.2628629860147935,
            -5.947186089536171,
            7.511234499194794,
            1.2368016066430076,
            -3.9383022083791523,
            9.519502944212656,
            8.816880016344196,
            15.208121856273904,
            14.025710879284519,
            -2.1359261723065925,
            7.05768093084308,
            1.592790739428831,
            0.7285176578468473,
            12.242518424828313,
            3.6747835001110527,
            7.866884907505119,
            12.411475162781779,
            12.833029096254522,
            8.261923541005068,
            5.0831273653651925,
            26.930871334830616,
            27.039745244561278,
            25.019860088518154,
            39.455693446687164,
            27.321535352904682,
            30.31780651486834,
            12.573526520789473,
            15.008821802752902,
            37.988817903560175,
            3.1977264770182456,
            13.555350298851561,
            3.5535772988144787,
            2.057485696647321,
            23.72489197255483,
            25.905726518102984,
            -0.049607600934990614,
            44.312221984514245,
            9.378352296443829,
            18.50241946088084,
            30.322701798056244,
            28.821367618013763,
            25.72928462141531,
            18.18069435837016,
            21.970881345714687,
            28.156454350498258,
            32.61429649029611,
            30.631145124138264,
            33.37364391128446,
            35.236020391599894,
            30.857949385414095,
            20.998130741840967,
            45.99412281903775,
            32.302439553723595,
            32.08881121592395,
            34.368659894470255,
            42.63783354856306,
            22.825250443375126,
            46.76794784079708,
            25.38567011928725,
            45.59917618721364,
            28.467386802836238,
            18.410120848619496,
            31.66272113820452,
            43.1559331152242,
            32.602419166440825,
            24.888047131114774,
            41.99512520304298,
            34.34481959543665,
            45.64098929078003,
            28.538562998472464,
            31.953188797311007,
            51.037984014335834,
            48.26811932475121,
            38.34817274276317,
            41.79198635803958,
            35.848011696046946,
            33.78187939091479,
            32.78467409040327,
            42.98168170387032,
            42.830054075906375,
            44.19816534754761,
            46.634625031145475,
            -7.325172957725023,
            39.81713025052223,
            -0.6696599126872442,
            36.236611779483866,
            -8.762735273661272,
            -8.11606855115582,
            null
           ],
           "y": [
            45.565386681545874,
            45.05366061755791,
            46.35592175810034,
            32.05905379580751,
            47.28393730753255,
            31.456987364994728,
            34.167845538700334,
            41.39926162025145,
            30.523269059328186,
            39.91303043863957,
            48.67691635585126,
            36.21792645246228,
            49.91527833476793,
            47.603344842135236,
            45.81113548447709,
            36.913833208623586,
            42.07983225975437,
            37.580041204503345,
            51.51203885361398,
            38.77727204839494,
            50.26474359709672,
            46.83275159513233,
            44.2215730834841,
            42.928967070680564,
            39.18334456447075,
            41.74815349965422,
            53.23948281955508,
            39.23710521891505,
            41.71611682790641,
            44.66052183772808,
            54.103690631976036,
            53.14575568077721,
            55.08403627460173,
            53.54937794282731,
            39.48254372876265,
            49.2227662940403,
            54.06836097418948,
            56.263969533566836,
            53.25939906245995,
            35.91069398537605,
            41.65623575003663,
            41.905400700989,
            39.61971827652344,
            48.47021711265079,
            47.053263396761686,
            48.42591290835785,
            46.873040621337125,
            35.83422888376544,
            40.8472753333875,
            45.24876042326029,
            41.2671197651651,
            50.516940652029575,
            45.179981648715554,
            30.171972495537165,
            42.403150160945586,
            46.32282510415091,
            42.91321237687506,
            41.0321130883941,
            29.506000958938504,
            37.63147063057602,
            32.76461422246943,
            36.560369010476535,
            37.87256247118427,
            45.9129338470391,
            42.61065010596327,
            25.82761963811049,
            36.2851591423244,
            32.987197462520854,
            43.251218519286574,
            32.59179843212368,
            29.186005589173316,
            30.601098731718686,
            27.428160072135906,
            33.58198629100018,
            32.75561514350671,
            22.563898343016053,
            39.479508793216375,
            22.39061636966581,
            24.9156684353476,
            40.38234490442706,
            36.52456070115119,
            37.09424389499827,
            4.137056923912706,
            33.29997688519985,
            14.395300031476392,
            39.064635241723046,
            13.322492628880617,
            15.20709595437769,
            null
           ]
          },
          {
           "type": "scatter",
           "x": [
            null,
            null
           ],
           "y": [
            null,
            null
           ]
          },
          {
           "customdata": [
            "2023-09-07 15:01:02",
            "2023-09-07 15:01:03",
            "2023-09-07 15:01:04",
            "2023-09-07 15:01:05",
            "2023-09-07 15:01:06",
            "2023-09-07 15:01:07",
            "2023-09-07 15:01:08",
            "2023-09-07 15:01:09",
            "2023-09-07 15:01:10",
            "2023-09-07 15:01:11",
            "2023-09-07 15:01:12",
            "2023-09-07 15:01:13",
            "2023-09-07 15:01:14",
            "2023-09-07 15:01:15",
            "2023-09-07 15:01:16",
            "2023-09-07 15:01:17",
            "2023-09-07 15:01:18",
            "2023-09-07 15:01:19"
           ],
           "hovertemplate": "%{meta}<br>(%{x}, %{y})<br>Time: %{customdata}",
           "meta": [
            "GaussianStateUpdate",
            "GaussianStateUpdate",
            "GaussianStatePrediction",
            "GaussianStateUpdate",
            "GaussianStateUpdate",
            "GaussianStatePrediction",
            "GaussianStateUpdate",
            "GaussianStateUpdate",
            "GaussianStateUpdate",
            "GaussianStateUpdate",
            "GaussianStateUpdate",
            "GaussianStateUpdate",
            "GaussianStateUpdate",
            "GaussianStateUpdate",
            "GaussianStateUpdate",
            "GaussianStatePrediction",
            "GaussianStateUpdate",
            "GaussianStateUpdate"
           ],
           "type": "scatter",
           "x": [
            24.808252741464877,
            24.28722730290998,
            23.865608033553055,
            25.298502648302748,
            25.44756589740006,
            25.699765066300532,
            26.72111884305909,
            26.47411081482359,
            26.91022719214639,
            28.392689239379788,
            29.48549289914162,
            29.958885131659155,
            30.982225814121207,
            32.97053770508004,
            34.355348100510774,
            35.73681432763107,
            37.96762619531714,
            40.832506787815454,
            null
           ],
           "y": [
            46.25695400029111,
            44.71110227768177,
            43.46018279162289,
            42.873394987407465,
            40.67460334874732,
            39.19307683483714,
            38.21781736538797,
            37.23463311057605,
            35.712856771033614,
            34.66207924550508,
            33.816964723112704,
            32.728697608491885,
            32.29760457310039,
            31.91941075010266,
            31.94651338326191,
            31.63580099457582,
            31.228332082773218,
            30.91546558310715,
            null
           ]
          },
          {
           "customdata": [
            "2023-09-07 15:00:40",
            "2023-09-07 15:00:41",
            "2023-09-07 15:00:42",
            "2023-09-07 15:00:43",
            "2023-09-07 15:00:44",
            "2023-09-07 15:00:45",
            "2023-09-07 15:00:46",
            "2023-09-07 15:00:47",
            "2023-09-07 15:00:48",
            "2023-09-07 15:00:49",
            "2023-09-07 15:00:50",
            "2023-09-07 15:00:51",
            "2023-09-07 15:00:52",
            "2023-09-07 15:00:53",
            "2023-09-07 15:00:54",
            "2023-09-07 15:00:55",
            "2023-09-07 15:00:56",
            "2023-09-07 15:00:57",
            "2023-09-07 15:00:58",
            "2023-09-07 15:00:59",
            "2023-09-07 15:01:00",
            "2023-09-07 15:01:01",
            "2023-09-07 15:01:02",
            "2023-09-07 15:01:03",
            "2023-09-07 15:01:04",
            "2023-09-07 15:01:05"
           ],
           "hovertemplate": "%{meta}<br>(%{x}, %{y})<br>Time: %{customdata}",
           "meta": [
            "GaussianStateUpdate",
            "GaussianStateUpdate",
            "GaussianStateUpdate",
            "GaussianStateUpdate",
            "GaussianStateUpdate",
            "GaussianStatePrediction",
            "GaussianStateUpdate",
            "GaussianStateUpdate",
            "GaussianStateUpdate",
            "GaussianStateUpdate",
            "GaussianStatePrediction",
            "GaussianStateUpdate",
            "GaussianStateUpdate",
            "GaussianStateUpdate",
            "GaussianStateUpdate",
            "GaussianStateUpdate",
            "GaussianStateUpdate",
            "GaussianStateUpdate",
            "GaussianStateUpdate",
            "GaussianStateUpdate",
            "GaussianStateUpdate",
            "GaussianStateUpdate",
            "GaussianStateUpdate",
            "GaussianStatePrediction",
            "GaussianStatePrediction",
            "GaussianStatePrediction"
           ],
           "type": "scatter",
           "x": [
            -0.43005629247898636,
            1.5671309635627815,
            1.7248047174586882,
            1.8905500191617137,
            3.0266606144206634,
            3.7930024690710495,
            5.063871539095284,
            5.749814186180568,
            6.802874669121355,
            8.2129677138972,
            9.367732280484283,
            8.542618402693721,
            8.634368220211687,
            8.669701894529883,
            9.075003246000703,
            9.29501577604749,
            9.413413937498195,
            8.502632005862981,
            7.971735342146178,
            7.79106608746795,
            8.267728552533242,
            8.8391159278272,
            8.748563089055056,
            8.86400725665167,
            8.979451424248284,
            9.094895591844898,
            null
           ],
           "y": [
            41.49312990045806,
            41.3283166972261,
            40.69579995272057,
            40.74242157325732,
            39.9576780440993,
            39.494129937136556,
            39.60146342055227,
            40.16817369119637,
            40.313729365629904,
            40.905811622898376,
            41.23864331164184,
            41.162676656780185,
            42.24148057909349,
            43.0469437062278,
            43.453524571615226,
            45.10875518315963,
            45.9885693493004,
            46.04032141953401,
            47.147697787822864,
            48.23006081378942,
            49.19872167033096,
            50.24570967805816,
            50.9635055877399,
            51.8313661441028,
            52.6992267004657,
            53.5670872568286,
            null
           ]
          },
          {
           "customdata": [
            "2023-09-07 15:00:59",
            "2023-09-07 15:01:00",
            "2023-09-07 15:01:01",
            "2023-09-07 15:01:02",
            "2023-09-07 15:01:03",
            "2023-09-07 15:01:04",
            "2023-09-07 15:01:05",
            "2023-09-07 15:01:06",
            "2023-09-07 15:01:07",
            "2023-09-07 15:01:08",
            "2023-09-07 15:01:09",
            "2023-09-07 15:01:10",
            "2023-09-07 15:01:11",
            "2023-09-07 15:01:12",
            "2023-09-07 15:01:13",
            "2023-09-07 15:01:14",
            "2023-09-07 15:01:15",
            "2023-09-07 15:01:16",
            "2023-09-07 15:01:17",
            "2023-09-07 15:01:18"
           ],
           "hovertemplate": "%{meta}<br>(%{x}, %{y})<br>Time: %{customdata}",
           "meta": [
            "GaussianStateUpdate",
            "GaussianStateUpdate",
            "GaussianStateUpdate",
            "GaussianStateUpdate",
            "GaussianStateUpdate",
            "GaussianStatePrediction",
            "GaussianStateUpdate",
            "GaussianStateUpdate",
            "GaussianStateUpdate",
            "GaussianStatePrediction",
            "GaussianStateUpdate",
            "GaussianStateUpdate",
            "GaussianStateUpdate",
            "GaussianStateUpdate",
            "GaussianStateUpdate",
            "GaussianStateUpdate",
            "GaussianStateUpdate",
            "GaussianStatePrediction",
            "GaussianStatePrediction",
            "GaussianStatePrediction"
           ],
           "type": "scatter",
           "x": [
            34.62154345599989,
            34.285793715002384,
            34.268766551451364,
            35.25199515478764,
            35.241728090713245,
            35.46611855956127,
            35.823886725585425,
            36.908212632501446,
            38.31187561793434,
            39.27738316623153,
            40.12303778529568,
            42.05919966214608,
            43.58076136933816,
            44.85506086017132,
            46.54365872209996,
            48.4424978164326,
            50.25972723135585,
            52.00551187071654,
            53.751296510077225,
            55.49708114943791,
            null
           ],
           "y": [
            50.04974583545324,
            49.58436807554751,
            48.332859762710335,
            47.97879829102805,
            47.391708738119306,
            46.778684057935784,
            46.40193603508247,
            45.339300697596954,
            43.8858444435431,
            42.82140177455153,
            41.504477643507144,
            40.00566872524056,
            39.043838355329946,
            37.794716297103854,
            36.85351357980136,
            35.33753663122695,
            34.58421722918014,
            33.54522394965844,
            32.506230670136745,
            31.467237390615047,
            null
           ]
          },
          {
           "type": "scatter",
           "x": [
            null
           ],
           "y": [
            null
           ]
          },
          {
           "type": "scatter",
           "x": [
            40.832506787815454,
            40.91567345815402,
            40.99520534592082,
            41.067626525984124,
            41.129771845259775,
            41.1789252550891,
            41.21293851559834,
            41.23032508408949,
            41.23032508408949,
            41.21293851559834,
            41.1789252550891,
            41.129771845259775,
            41.067626525984124,
            40.99520534592082,
            40.91567345815402,
            40.832506787815454,
            40.74934011747689,
            40.669808229710085,
            40.597387049646784,
            40.53524173037113,
            40.48608832054181,
            40.45207506003257,
            40.434688491541415,
            40.434688491541415,
            40.45207506003257,
            40.48608832054181,
            40.53524173037113,
            40.597387049646784,
            40.669808229710085,
            40.74934011747689,
            null,
            null
           ],
           "y": [
            31.315475173772544,
            31.306734004487016,
            31.280892527672997,
            31.23908013986842,
            31.183124243058444,
            31.11547037843985,
            31.03907534453572,
            30.957277970911726,
            30.873653195302573,
            30.791855821678578,
            30.71546078777445,
            30.647806923155855,
            30.59185102634588,
            30.550038638541302,
            30.524197161727283,
            30.515455992441755,
            30.524197161727283,
            30.550038638541302,
            30.59185102634588,
            30.647806923155855,
            30.71546078777445,
            30.791855821678578,
            30.873653195302573,
            30.957277970911726,
            31.03907534453572,
            31.11547037843985,
            31.183124243058444,
            31.23908013986842,
            31.280892527672997,
            31.306734004487016,
            null,
            null
           ]
          },
          {
           "type": "scatter",
           "x": [
            null
           ],
           "y": [
            null
           ]
          },
          {
           "type": "scatter",
           "x": [
            null
           ],
           "y": [
            null
           ]
          }
         ],
         "name": "2023-09-07 15:01:19",
         "traces": [
          0,
          1,
          2,
          3,
          4,
          5,
          6,
          7,
          8,
          9,
          10,
          11,
          12,
          13,
          14,
          15
         ]
        },
        {
         "data": [
          {
           "type": "scatter",
           "x": [
            0,
            0
           ],
           "y": [
            0,
            0
           ]
          },
          {
           "hovertemplate": "GroundTruthState<br>(%{x}, %{y})<br>Time: %{meta}",
           "meta": [
            "2023-09-07 15:00:40",
            "2023-09-07 15:00:41",
            "2023-09-07 15:00:42",
            "2023-09-07 15:00:43",
            "2023-09-07 15:00:44",
            "2023-09-07 15:00:45",
            "2023-09-07 15:00:46",
            "2023-09-07 15:00:47",
            "2023-09-07 15:00:48",
            "2023-09-07 15:00:49",
            "2023-09-07 15:00:50",
            "2023-09-07 15:00:51",
            "2023-09-07 15:00:52",
            "2023-09-07 15:00:53",
            "2023-09-07 15:00:54",
            "2023-09-07 15:00:55",
            "2023-09-07 15:00:56",
            "2023-09-07 15:00:57",
            "2023-09-07 15:00:58",
            "2023-09-07 15:00:59",
            "2023-09-07 15:01:00",
            "2023-09-07 15:01:01",
            "2023-09-07 15:01:02"
           ],
           "type": "scatter",
           "x": [
            0,
            0.8091562802362998,
            1.4187778862009663,
            1.9340594175080428,
            2.7291599722274826,
            3.736499927988022,
            5.119411483348772,
            6.216732395332771,
            7.088723290570684,
            7.663354901814838,
            8.096722636252593,
            8.358906371025952,
            8.54822310121289,
            8.543882911480415,
            8.661018452611112,
            8.81413676771379,
            8.666475553311493,
            8.457114429626253,
            8.378969059200568,
            8.506472261414322,
            8.76192113749374,
            8.789109668220165,
            8.645151050991842,
            null
           ],
           "y": [
            41.55127793935055,
            41.14739075037148,
            40.71022742116085,
            40.33576258703677,
            40.11469426682165,
            40.0218978369037,
            40.11795936277245,
            40.23397761081491,
            40.45410408807201,
            40.66784873441858,
            41.10916580043645,
            41.59034958414012,
            42.15920554432621,
            42.83722041736732,
            43.80601257101235,
            44.72250861193358,
            45.55082005749288,
            46.478942183204815,
            47.23049024720247,
            48.1829097420305,
            49.16778848572788,
            49.950207045006884,
            50.84956128513592,
            null
           ]
          },
          {
           "hovertemplate": "GroundTruthState<br>(%{x}, %{y})<br>Time: %{meta}",
           "meta": [
            "2023-09-07 15:00:58",
            "2023-09-07 15:00:59",
            "2023-09-07 15:01:00",
            "2023-09-07 15:01:01",
            "2023-09-07 15:01:02",
            "2023-09-07 15:01:03",
            "2023-09-07 15:01:04",
            "2023-09-07 15:01:05",
            "2023-09-07 15:01:06",
            "2023-09-07 15:01:07",
            "2023-09-07 15:01:08",
            "2023-09-07 15:01:09",
            "2023-09-07 15:01:10",
            "2023-09-07 15:01:11",
            "2023-09-07 15:01:12",
            "2023-09-07 15:01:13",
            "2023-09-07 15:01:14",
            "2023-09-07 15:01:15",
            "2023-09-07 15:01:16",
            "2023-09-07 15:01:17",
            "2023-09-07 15:01:18",
            "2023-09-07 15:01:19",
            "2023-09-07 15:01:20"
           ],
           "type": "scatter",
           "x": [
            24.40294393298363,
            24.37101772209079,
            24.585384850156284,
            25.03868275478802,
            25.1049789512843,
            25.120548589233294,
            25.408274935648077,
            25.597302325430956,
            25.672637855560588,
            25.80173268410434,
            26.38411337439661,
            26.849321650314195,
            27.310076869760383,
            27.967766755734598,
            29.042742972472052,
            30.289521934785512,
            31.624543305557914,
            33.03629384129947,
            34.655790506692405,
            36.41618432117775,
            38.33663661876895,
            40.0941005393072,
            41.75822831073315,
            null
           ],
           "y": [
            50,
            48.92607580828807,
            47.94386490735651,
            46.9525856518256,
            45.916836511442554,
            44.660383933816995,
            43.38923608926767,
            41.798256079790406,
            40.37683940593047,
            39.10834475444106,
            37.99258063423742,
            36.80434580629272,
            35.73674662487452,
            34.5679650472467,
            33.772178919948075,
            33.158761432384615,
            32.76450748321075,
            32.497618736021465,
            32.23865822217414,
            31.970805067378816,
            31.685402093648953,
            31.494603007248795,
            31.55054955689059,
            null
           ]
          },
          {
           "hovertemplate": "GroundTruthState<br>(%{x}, %{y})<br>Time: %{meta}",
           "meta": [
            "2023-09-07 15:00:59",
            "2023-09-07 15:01:00",
            "2023-09-07 15:01:01",
            "2023-09-07 15:01:02",
            "2023-09-07 15:01:03",
            "2023-09-07 15:01:04",
            "2023-09-07 15:01:05",
            "2023-09-07 15:01:06",
            "2023-09-07 15:01:07",
            "2023-09-07 15:01:08",
            "2023-09-07 15:01:09",
            "2023-09-07 15:01:10",
            "2023-09-07 15:01:11",
            "2023-09-07 15:01:12",
            "2023-09-07 15:01:13",
            "2023-09-07 15:01:14",
            "2023-09-07 15:01:15"
           ],
           "type": "scatter",
           "x": [
            34.9497917032631,
            34.692784657380166,
            34.62875348769775,
            34.70653825006885,
            35.16602245368285,
            35.84203896849462,
            36.48923137530482,
            37.304433786378794,
            38.273117794667684,
            39.27302578813828,
            40.575156256116884,
            42.13859623033162,
            43.61811499994063,
            45.13597961938457,
            46.80097281565994,
            48.56100000968383,
            50.41359841769575,
            null
           ],
           "y": [
            50,
            49.233094514513525,
            48.65632716274939,
            48.04342569579986,
            47.37584157077364,
            46.67834504620978,
            45.83272536574674,
            44.99090823719139,
            44.11358671702823,
            43.045507500400134,
            41.692529772966616,
            40.25930053089142,
            38.90349389643283,
            37.79892206904109,
            36.72496748091521,
            35.568203065578025,
            34.39813347429571,
            null
           ]
          },
          {
           "hovertemplate": "GroundTruthState<br>(%{x}, %{y})<br>Time: %{meta}",
           "meta": [
            "2023-09-07 15:01:18",
            "2023-09-07 15:01:19",
            "2023-09-07 15:01:20"
           ],
           "type": "scatter",
           "x": [
            0,
            0.8288856015780944,
            1.577628695233758,
            null
           ],
           "y": [
            13.10357910123418,
            13.488174129704484,
            13.819586170050492,
            null
           ]
          },
          {
           "type": "scatter",
           "x": [
            null,
            null
           ],
           "y": [
            null,
            null
           ]
          },
          {
           "hovertemplate": "Detection<br>(%{x}, %{y})<br>Time: %{meta}",
           "meta": [
            "2023-09-07 15:00:40",
            "2023-09-07 15:00:41",
            "2023-09-07 15:00:42",
            "2023-09-07 15:00:43",
            "2023-09-07 15:00:44",
            "2023-09-07 15:00:46",
            "2023-09-07 15:00:47",
            "2023-09-07 15:00:48",
            "2023-09-07 15:00:49",
            "2023-09-07 15:00:50",
            "2023-09-07 15:00:51",
            "2023-09-07 15:00:52",
            "2023-09-07 15:00:53",
            "2023-09-07 15:00:54",
            "2023-09-07 15:00:55",
            "2023-09-07 15:00:56",
            "2023-09-07 15:00:57",
            "2023-09-07 15:00:58",
            "2023-09-07 15:00:58",
            "2023-09-07 15:00:59",
            "2023-09-07 15:00:59",
            "2023-09-07 15:00:59",
            "2023-09-07 15:01:00",
            "2023-09-07 15:01:00",
            "2023-09-07 15:01:01",
            "2023-09-07 15:01:01",
            "2023-09-07 15:01:02",
            "2023-09-07 15:01:02",
            "2023-09-07 15:01:02",
            "2023-09-07 15:01:03",
            "2023-09-07 15:01:03",
            "2023-09-07 15:01:04",
            "2023-09-07 15:01:05",
            "2023-09-07 15:01:05",
            "2023-09-07 15:01:06",
            "2023-09-07 15:01:06",
            "2023-09-07 15:01:07",
            "2023-09-07 15:01:08",
            "2023-09-07 15:01:09",
            "2023-09-07 15:01:09",
            "2023-09-07 15:01:10",
            "2023-09-07 15:01:10",
            "2023-09-07 15:01:11",
            "2023-09-07 15:01:11",
            "2023-09-07 15:01:12",
            "2023-09-07 15:01:12",
            "2023-09-07 15:01:13",
            "2023-09-07 15:01:13",
            "2023-09-07 15:01:14",
            "2023-09-07 15:01:14",
            "2023-09-07 15:01:15",
            "2023-09-07 15:01:15",
            "2023-09-07 15:01:16",
            "2023-09-07 15:01:18",
            "2023-09-07 15:01:18",
            "2023-09-07 15:01:19",
            "2023-09-07 15:01:19",
            "2023-09-07 15:01:20",
            "2023-09-07 15:01:20"
           ],
           "type": "scatter",
           "x": [
            -0.43005629247898636,
            1.9613126588341832,
            1.328760915097623,
            1.6486342541080825,
            3.391167130241921,
            5.198613247790583,
            5.5997844867706466,
            6.935456692747284,
            8.51160294626042,
            6.938136290313291,
            8.00171047550961,
            8.455481513912613,
            8.51568107852356,
            9.22411910733494,
            9.258594731151701,
            9.32950730831503,
            7.804987863094423,
            24.581047874774246,
            7.832277013086065,
            34.62154345599989,
            7.937505079616018,
            24.155956069792705,
            34.219527318752874,
            8.764921493433448,
            9.169878259121589,
            34.33792014141769,
            24.808252741464877,
            35.71409381177726,
            8.508185830477029,
            35.01040999823201,
            24.184393334774143,
            25.495805205839506,
            35.85950727938655,
            25.487965372036413,
            37.36295589502933,
            25.364300083095635,
            38.81490747362937,
            26.92650992023429,
            26.03596591259028,
            40.090247952530696,
            42.62750361307228,
            27.050675848162673,
            43.69493541940249,
            29.12902614422362,
            44.76176804768235,
            29.637506472195824,
            29.650900517596043,
            46.75423507948332,
            31.162340017132035,
            48.68956101342326,
            50.34285151067938,
            33.681206740498496,
            34.35924968898188,
            38.20255965415224,
            -0.14517418428177845,
            1.104082549942672,
            41.48758389257666,
            42.110491533266654,
            1.4197714023378596,
            null
           ],
           "y": [
            41.49312990045806,
            41.29578777553558,
            40.56025765481257,
            40.943137598599904,
            39.64105359377544,
            39.7539260798625,
            40.62749687000739,
            40.351899248824374,
            41.209034178881836,
            41.088704044823054,
            41.05099188880684,
            42.74592512474356,
            43.20802778630997,
            43.2900108578128,
            45.8069560006637,
            45.87834412006734,
            45.455700324445665,
            49.781697352014895,
            47.498742904408566,
            50.04974583545324,
            48.40541225977234,
            49.01136420875983,
            49.4925172018819,
            49.2219643780955,
            50.30810535810356,
            48.09527774002108,
            46.25695400029111,
            48.2078196986085,
            50.78839562369448,
            47.417274779382694,
            44.40599996400887,
            43.5197927927032,
            46.46503732984592,
            42.9412446802236,
            45.03790399017466,
            40.09552610002099,
            43.439230732975716,
            38.353008304293894,
            37.40798677226102,
            41.43540277842083,
            39.815961201534854,
            35.48874681711073,
            39.257107273185376,
            34.835324386097554,
            37.730821826564785,
            34.03955023089411,
            32.69639958115087,
            37.01295190145951,
            32.69615968061823,
            35.061395201317445,
            34.916591919976966,
            32.17042395307063,
            32.340636846034684,
            31.201568721009824,
            12.985501304391088,
            14.03690013835272,
            30.93467200759374,
            31.369916650468607,
            13.101506338186761,
            null
           ]
          },
          {
           "hovertemplate": "Clutter<br>(%{x}, %{y})<br>Time: %{meta}",
           "meta": [
            "2023-09-07 15:00:40",
            "2023-09-07 15:00:41",
            "2023-09-07 15:00:41",
            "2023-09-07 15:00:41",
            "2023-09-07 15:00:43",
            "2023-09-07 15:00:45",
            "2023-09-07 15:00:45",
            "2023-09-07 15:00:47",
            "2023-09-07 15:00:47",
            "2023-09-07 15:00:47",
            "2023-09-07 15:00:47",
            "2023-09-07 15:00:47",
            "2023-09-07 15:00:49",
            "2023-09-07 15:00:51",
            "2023-09-07 15:00:54",
            "2023-09-07 15:00:56",
            "2023-09-07 15:00:57",
            "2023-09-07 15:00:57",
            "2023-09-07 15:00:58",
            "2023-09-07 15:00:58",
            "2023-09-07 15:00:58",
            "2023-09-07 15:00:59",
            "2023-09-07 15:00:59",
            "2023-09-07 15:00:59",
            "2023-09-07 15:00:59",
            "2023-09-07 15:00:59",
            "2023-09-07 15:01:00",
            "2023-09-07 15:01:00",
            "2023-09-07 15:01:00",
            "2023-09-07 15:01:00",
            "2023-09-07 15:01:01",
            "2023-09-07 15:01:01",
            "2023-09-07 15:01:01",
            "2023-09-07 15:01:02",
            "2023-09-07 15:01:02",
            "2023-09-07 15:01:02",
            "2023-09-07 15:01:02",
            "2023-09-07 15:01:02",
            "2023-09-07 15:01:02",
            "2023-09-07 15:01:03",
            "2023-09-07 15:01:03",
            "2023-09-07 15:01:03",
            "2023-09-07 15:01:04",
            "2023-09-07 15:01:04",
            "2023-09-07 15:01:04",
            "2023-09-07 15:01:05",
            "2023-09-07 15:01:06",
            "2023-09-07 15:01:07",
            "2023-09-07 15:01:07",
            "2023-09-07 15:01:07",
            "2023-09-07 15:01:08",
            "2023-09-07 15:01:08",
            "2023-09-07 15:01:08",
            "2023-09-07 15:01:08",
            "2023-09-07 15:01:08",
            "2023-09-07 15:01:09",
            "2023-09-07 15:01:10",
            "2023-09-07 15:01:11",
            "2023-09-07 15:01:11",
            "2023-09-07 15:01:11",
            "2023-09-07 15:01:11",
            "2023-09-07 15:01:11",
            "2023-09-07 15:01:12",
            "2023-09-07 15:01:12",
            "2023-09-07 15:01:12",
            "2023-09-07 15:01:12",
            "2023-09-07 15:01:12",
            "2023-09-07 15:01:13",
            "2023-09-07 15:01:13",
            "2023-09-07 15:01:14",
            "2023-09-07 15:01:14",
            "2023-09-07 15:01:14",
            "2023-09-07 15:01:14",
            "2023-09-07 15:01:15",
            "2023-09-07 15:01:15",
            "2023-09-07 15:01:15",
            "2023-09-07 15:01:16",
            "2023-09-07 15:01:16",
            "2023-09-07 15:01:16",
            "2023-09-07 15:01:17",
            "2023-09-07 15:01:17",
            "2023-09-07 15:01:18",
            "2023-09-07 15:01:18",
            "2023-09-07 15:01:18",
            "2023-09-07 15:01:19",
            "2023-09-07 15:01:19",
            "2023-09-07 15:01:19",
            "2023-09-07 15:01:19",
            "2023-09-07 15:01:20"
           ],
           "type": "scatter",
           "x": [
            0.2628629860147935,
            -5.947186089536171,
            7.511234499194794,
            1.2368016066430076,
            -3.9383022083791523,
            9.519502944212656,
            8.816880016344196,
            15.208121856273904,
            14.025710879284519,
            -2.1359261723065925,
            7.05768093084308,
            1.592790739428831,
            0.7285176578468473,
            12.242518424828313,
            3.6747835001110527,
            7.866884907505119,
            12.411475162781779,
            12.833029096254522,
            8.261923541005068,
            5.0831273653651925,
            26.930871334830616,
            27.039745244561278,
            25.019860088518154,
            39.455693446687164,
            27.321535352904682,
            30.31780651486834,
            12.573526520789473,
            15.008821802752902,
            37.988817903560175,
            3.1977264770182456,
            13.555350298851561,
            3.5535772988144787,
            2.057485696647321,
            23.72489197255483,
            25.905726518102984,
            -0.049607600934990614,
            44.312221984514245,
            9.378352296443829,
            18.50241946088084,
            30.322701798056244,
            28.821367618013763,
            25.72928462141531,
            18.18069435837016,
            21.970881345714687,
            28.156454350498258,
            32.61429649029611,
            30.631145124138264,
            33.37364391128446,
            35.236020391599894,
            30.857949385414095,
            20.998130741840967,
            45.99412281903775,
            32.302439553723595,
            32.08881121592395,
            34.368659894470255,
            42.63783354856306,
            22.825250443375126,
            46.76794784079708,
            25.38567011928725,
            45.59917618721364,
            28.467386802836238,
            18.410120848619496,
            31.66272113820452,
            43.1559331152242,
            32.602419166440825,
            24.888047131114774,
            41.99512520304298,
            34.34481959543665,
            45.64098929078003,
            28.538562998472464,
            31.953188797311007,
            51.037984014335834,
            48.26811932475121,
            38.34817274276317,
            41.79198635803958,
            35.848011696046946,
            33.78187939091479,
            32.78467409040327,
            42.98168170387032,
            42.830054075906375,
            44.19816534754761,
            46.634625031145475,
            -7.325172957725023,
            39.81713025052223,
            -0.6696599126872442,
            36.236611779483866,
            -8.762735273661272,
            -8.11606855115582,
            -4.400044741148574,
            null
           ],
           "y": [
            45.565386681545874,
            45.05366061755791,
            46.35592175810034,
            32.05905379580751,
            47.28393730753255,
            31.456987364994728,
            34.167845538700334,
            41.39926162025145,
            30.523269059328186,
            39.91303043863957,
            48.67691635585126,
            36.21792645246228,
            49.91527833476793,
            47.603344842135236,
            45.81113548447709,
            36.913833208623586,
            42.07983225975437,
            37.580041204503345,
            51.51203885361398,
            38.77727204839494,
            50.26474359709672,
            46.83275159513233,
            44.2215730834841,
            42.928967070680564,
            39.18334456447075,
            41.74815349965422,
            53.23948281955508,
            39.23710521891505,
            41.71611682790641,
            44.66052183772808,
            54.103690631976036,
            53.14575568077721,
            55.08403627460173,
            53.54937794282731,
            39.48254372876265,
            49.2227662940403,
            54.06836097418948,
            56.263969533566836,
            53.25939906245995,
            35.91069398537605,
            41.65623575003663,
            41.905400700989,
            39.61971827652344,
            48.47021711265079,
            47.053263396761686,
            48.42591290835785,
            46.873040621337125,
            35.83422888376544,
            40.8472753333875,
            45.24876042326029,
            41.2671197651651,
            50.516940652029575,
            45.179981648715554,
            30.171972495537165,
            42.403150160945586,
            46.32282510415091,
            42.91321237687506,
            41.0321130883941,
            29.506000958938504,
            37.63147063057602,
            32.76461422246943,
            36.560369010476535,
            37.87256247118427,
            45.9129338470391,
            42.61065010596327,
            25.82761963811049,
            36.2851591423244,
            32.987197462520854,
            43.251218519286574,
            32.59179843212368,
            29.186005589173316,
            30.601098731718686,
            27.428160072135906,
            33.58198629100018,
            32.75561514350671,
            22.563898343016053,
            39.479508793216375,
            22.39061636966581,
            24.9156684353476,
            40.38234490442706,
            36.52456070115119,
            37.09424389499827,
            4.137056923912706,
            33.29997688519985,
            14.395300031476392,
            39.064635241723046,
            13.322492628880617,
            15.20709595437769,
            23.239591386018308,
            null
           ]
          },
          {
           "type": "scatter",
           "x": [
            null,
            null
           ],
           "y": [
            null,
            null
           ]
          },
          {
           "customdata": [
            "2023-09-07 15:01:02",
            "2023-09-07 15:01:03",
            "2023-09-07 15:01:04",
            "2023-09-07 15:01:05",
            "2023-09-07 15:01:06",
            "2023-09-07 15:01:07",
            "2023-09-07 15:01:08",
            "2023-09-07 15:01:09",
            "2023-09-07 15:01:10",
            "2023-09-07 15:01:11",
            "2023-09-07 15:01:12",
            "2023-09-07 15:01:13",
            "2023-09-07 15:01:14",
            "2023-09-07 15:01:15",
            "2023-09-07 15:01:16",
            "2023-09-07 15:01:17",
            "2023-09-07 15:01:18",
            "2023-09-07 15:01:19",
            "2023-09-07 15:01:20"
           ],
           "hovertemplate": "%{meta}<br>(%{x}, %{y})<br>Time: %{customdata}",
           "meta": [
            "GaussianStateUpdate",
            "GaussianStateUpdate",
            "GaussianStatePrediction",
            "GaussianStateUpdate",
            "GaussianStateUpdate",
            "GaussianStatePrediction",
            "GaussianStateUpdate",
            "GaussianStateUpdate",
            "GaussianStateUpdate",
            "GaussianStateUpdate",
            "GaussianStateUpdate",
            "GaussianStateUpdate",
            "GaussianStateUpdate",
            "GaussianStateUpdate",
            "GaussianStateUpdate",
            "GaussianStatePrediction",
            "GaussianStateUpdate",
            "GaussianStateUpdate",
            "GaussianStateUpdate"
           ],
           "type": "scatter",
           "x": [
            24.808252741464877,
            24.28722730290998,
            23.865608033553055,
            25.298502648302748,
            25.44756589740006,
            25.699765066300532,
            26.72111884305909,
            26.47411081482359,
            26.91022719214639,
            28.392689239379788,
            29.48549289914162,
            29.958885131659155,
            30.982225814121207,
            32.97053770508004,
            34.355348100510774,
            35.73681432763107,
            37.96762619531714,
            40.832506787815454,
            42.46032164599185,
            null
           ],
           "y": [
            46.25695400029111,
            44.71110227768177,
            43.46018279162289,
            42.873394987407465,
            40.67460334874732,
            39.19307683483714,
            38.21781736538797,
            37.23463311057605,
            35.712856771033614,
            34.66207924550508,
            33.816964723112704,
            32.728697608491885,
            32.29760457310039,
            31.91941075010266,
            31.94651338326191,
            31.63580099457582,
            31.228332082773218,
            30.91546558310715,
            31.064903901503172,
            null
           ]
          },
          {
           "customdata": [
            "2023-09-07 15:00:40",
            "2023-09-07 15:00:41",
            "2023-09-07 15:00:42",
            "2023-09-07 15:00:43",
            "2023-09-07 15:00:44",
            "2023-09-07 15:00:45",
            "2023-09-07 15:00:46",
            "2023-09-07 15:00:47",
            "2023-09-07 15:00:48",
            "2023-09-07 15:00:49",
            "2023-09-07 15:00:50",
            "2023-09-07 15:00:51",
            "2023-09-07 15:00:52",
            "2023-09-07 15:00:53",
            "2023-09-07 15:00:54",
            "2023-09-07 15:00:55",
            "2023-09-07 15:00:56",
            "2023-09-07 15:00:57",
            "2023-09-07 15:00:58",
            "2023-09-07 15:00:59",
            "2023-09-07 15:01:00",
            "2023-09-07 15:01:01",
            "2023-09-07 15:01:02",
            "2023-09-07 15:01:03",
            "2023-09-07 15:01:04",
            "2023-09-07 15:01:05"
           ],
           "hovertemplate": "%{meta}<br>(%{x}, %{y})<br>Time: %{customdata}",
           "meta": [
            "GaussianStateUpdate",
            "GaussianStateUpdate",
            "GaussianStateUpdate",
            "GaussianStateUpdate",
            "GaussianStateUpdate",
            "GaussianStatePrediction",
            "GaussianStateUpdate",
            "GaussianStateUpdate",
            "GaussianStateUpdate",
            "GaussianStateUpdate",
            "GaussianStatePrediction",
            "GaussianStateUpdate",
            "GaussianStateUpdate",
            "GaussianStateUpdate",
            "GaussianStateUpdate",
            "GaussianStateUpdate",
            "GaussianStateUpdate",
            "GaussianStateUpdate",
            "GaussianStateUpdate",
            "GaussianStateUpdate",
            "GaussianStateUpdate",
            "GaussianStateUpdate",
            "GaussianStateUpdate",
            "GaussianStatePrediction",
            "GaussianStatePrediction",
            "GaussianStatePrediction"
           ],
           "type": "scatter",
           "x": [
            -0.43005629247898636,
            1.5671309635627815,
            1.7248047174586882,
            1.8905500191617137,
            3.0266606144206634,
            3.7930024690710495,
            5.063871539095284,
            5.749814186180568,
            6.802874669121355,
            8.2129677138972,
            9.367732280484283,
            8.542618402693721,
            8.634368220211687,
            8.669701894529883,
            9.075003246000703,
            9.29501577604749,
            9.413413937498195,
            8.502632005862981,
            7.971735342146178,
            7.79106608746795,
            8.267728552533242,
            8.8391159278272,
            8.748563089055056,
            8.86400725665167,
            8.979451424248284,
            9.094895591844898,
            null
           ],
           "y": [
            41.49312990045806,
            41.3283166972261,
            40.69579995272057,
            40.74242157325732,
            39.9576780440993,
            39.494129937136556,
            39.60146342055227,
            40.16817369119637,
            40.313729365629904,
            40.905811622898376,
            41.23864331164184,
            41.162676656780185,
            42.24148057909349,
            43.0469437062278,
            43.453524571615226,
            45.10875518315963,
            45.9885693493004,
            46.04032141953401,
            47.147697787822864,
            48.23006081378942,
            49.19872167033096,
            50.24570967805816,
            50.9635055877399,
            51.8313661441028,
            52.6992267004657,
            53.5670872568286,
            null
           ]
          },
          {
           "customdata": [
            "2023-09-07 15:00:59",
            "2023-09-07 15:01:00",
            "2023-09-07 15:01:01",
            "2023-09-07 15:01:02",
            "2023-09-07 15:01:03",
            "2023-09-07 15:01:04",
            "2023-09-07 15:01:05",
            "2023-09-07 15:01:06",
            "2023-09-07 15:01:07",
            "2023-09-07 15:01:08",
            "2023-09-07 15:01:09",
            "2023-09-07 15:01:10",
            "2023-09-07 15:01:11",
            "2023-09-07 15:01:12",
            "2023-09-07 15:01:13",
            "2023-09-07 15:01:14",
            "2023-09-07 15:01:15",
            "2023-09-07 15:01:16",
            "2023-09-07 15:01:17",
            "2023-09-07 15:01:18"
           ],
           "hovertemplate": "%{meta}<br>(%{x}, %{y})<br>Time: %{customdata}",
           "meta": [
            "GaussianStateUpdate",
            "GaussianStateUpdate",
            "GaussianStateUpdate",
            "GaussianStateUpdate",
            "GaussianStateUpdate",
            "GaussianStatePrediction",
            "GaussianStateUpdate",
            "GaussianStateUpdate",
            "GaussianStateUpdate",
            "GaussianStatePrediction",
            "GaussianStateUpdate",
            "GaussianStateUpdate",
            "GaussianStateUpdate",
            "GaussianStateUpdate",
            "GaussianStateUpdate",
            "GaussianStateUpdate",
            "GaussianStateUpdate",
            "GaussianStatePrediction",
            "GaussianStatePrediction",
            "GaussianStatePrediction"
           ],
           "type": "scatter",
           "x": [
            34.62154345599989,
            34.285793715002384,
            34.268766551451364,
            35.25199515478764,
            35.241728090713245,
            35.46611855956127,
            35.823886725585425,
            36.908212632501446,
            38.31187561793434,
            39.27738316623153,
            40.12303778529568,
            42.05919966214608,
            43.58076136933816,
            44.85506086017132,
            46.54365872209996,
            48.4424978164326,
            50.25972723135585,
            52.00551187071654,
            53.751296510077225,
            55.49708114943791,
            null
           ],
           "y": [
            50.04974583545324,
            49.58436807554751,
            48.332859762710335,
            47.97879829102805,
            47.391708738119306,
            46.778684057935784,
            46.40193603508247,
            45.339300697596954,
            43.8858444435431,
            42.82140177455153,
            41.504477643507144,
            40.00566872524056,
            39.043838355329946,
            37.794716297103854,
            36.85351357980136,
            35.33753663122695,
            34.58421722918014,
            33.54522394965844,
            32.506230670136745,
            31.467237390615047,
            null
           ]
          },
          {
           "type": "scatter",
           "x": [
            null
           ],
           "y": [
            null
           ]
          },
          {
           "type": "scatter",
           "x": [
            42.46032164599185,
            42.54168772679087,
            42.61949771942119,
            42.690350953831114,
            42.75115080368538,
            42.79924002379529,
            42.83251688448439,
            42.84952702726046,
            42.84952702726046,
            42.83251688448439,
            42.79924002379529,
            42.75115080368538,
            42.690350953831114,
            42.61949771942119,
            42.54168772679087,
            42.46032164599185,
            42.37895556519283,
            42.301145572562504,
            42.23029233815258,
            42.16949248829832,
            42.1214032681884,
            42.0881264074993,
            42.07111626472324,
            42.07111626472324,
            42.0881264074993,
            42.1214032681884,
            42.16949248829832,
            42.23029233815258,
            42.301145572562504,
            42.378955565192825,
            null,
            null
           ],
           "y": [
            31.456253134819434,
            31.44770121512049,
            31.42241921595116,
            31.381512081991637,
            31.326767651290158,
            31.260578518161303,
            31.185837465333503,
            31.105811035462697,
            31.023996767543647,
            30.94397033767284,
            30.86922928484504,
            30.803040151716186,
            30.748295721014706,
            30.707388587055185,
            30.682106587885855,
            30.67355466818691,
            30.682106587885855,
            30.707388587055185,
            30.748295721014706,
            30.803040151716186,
            30.86922928484504,
            30.94397033767284,
            31.023996767543647,
            31.105811035462697,
            31.185837465333503,
            31.260578518161303,
            31.326767651290158,
            31.381512081991637,
            31.42241921595116,
            31.44770121512049,
            null,
            null
           ]
          },
          {
           "type": "scatter",
           "x": [
            null
           ],
           "y": [
            null
           ]
          },
          {
           "type": "scatter",
           "x": [
            null
           ],
           "y": [
            null
           ]
          }
         ],
         "name": "2023-09-07 15:01:20",
         "traces": [
          0,
          1,
          2,
          3,
          4,
          5,
          6,
          7,
          8,
          9,
          10,
          11,
          12,
          13,
          14,
          15
         ]
        },
        {
         "data": [
          {
           "type": "scatter",
           "x": [
            0,
            0
           ],
           "y": [
            0,
            0
           ]
          },
          {
           "hovertemplate": "GroundTruthState<br>(%{x}, %{y})<br>Time: %{meta}",
           "meta": [
            "2023-09-07 15:00:40",
            "2023-09-07 15:00:41",
            "2023-09-07 15:00:42",
            "2023-09-07 15:00:43",
            "2023-09-07 15:00:44",
            "2023-09-07 15:00:45",
            "2023-09-07 15:00:46",
            "2023-09-07 15:00:47",
            "2023-09-07 15:00:48",
            "2023-09-07 15:00:49",
            "2023-09-07 15:00:50",
            "2023-09-07 15:00:51",
            "2023-09-07 15:00:52",
            "2023-09-07 15:00:53",
            "2023-09-07 15:00:54",
            "2023-09-07 15:00:55",
            "2023-09-07 15:00:56",
            "2023-09-07 15:00:57",
            "2023-09-07 15:00:58",
            "2023-09-07 15:00:59",
            "2023-09-07 15:01:00",
            "2023-09-07 15:01:01",
            "2023-09-07 15:01:02"
           ],
           "type": "scatter",
           "x": [
            0,
            0.8091562802362998,
            1.4187778862009663,
            1.9340594175080428,
            2.7291599722274826,
            3.736499927988022,
            5.119411483348772,
            6.216732395332771,
            7.088723290570684,
            7.663354901814838,
            8.096722636252593,
            8.358906371025952,
            8.54822310121289,
            8.543882911480415,
            8.661018452611112,
            8.81413676771379,
            8.666475553311493,
            8.457114429626253,
            8.378969059200568,
            8.506472261414322,
            8.76192113749374,
            8.789109668220165,
            8.645151050991842,
            null
           ],
           "y": [
            41.55127793935055,
            41.14739075037148,
            40.71022742116085,
            40.33576258703677,
            40.11469426682165,
            40.0218978369037,
            40.11795936277245,
            40.23397761081491,
            40.45410408807201,
            40.66784873441858,
            41.10916580043645,
            41.59034958414012,
            42.15920554432621,
            42.83722041736732,
            43.80601257101235,
            44.72250861193358,
            45.55082005749288,
            46.478942183204815,
            47.23049024720247,
            48.1829097420305,
            49.16778848572788,
            49.950207045006884,
            50.84956128513592,
            null
           ]
          },
          {
           "hovertemplate": "GroundTruthState<br>(%{x}, %{y})<br>Time: %{meta}",
           "meta": [
            "2023-09-07 15:00:58",
            "2023-09-07 15:00:59",
            "2023-09-07 15:01:00",
            "2023-09-07 15:01:01",
            "2023-09-07 15:01:02",
            "2023-09-07 15:01:03",
            "2023-09-07 15:01:04",
            "2023-09-07 15:01:05",
            "2023-09-07 15:01:06",
            "2023-09-07 15:01:07",
            "2023-09-07 15:01:08",
            "2023-09-07 15:01:09",
            "2023-09-07 15:01:10",
            "2023-09-07 15:01:11",
            "2023-09-07 15:01:12",
            "2023-09-07 15:01:13",
            "2023-09-07 15:01:14",
            "2023-09-07 15:01:15",
            "2023-09-07 15:01:16",
            "2023-09-07 15:01:17",
            "2023-09-07 15:01:18",
            "2023-09-07 15:01:19",
            "2023-09-07 15:01:20",
            "2023-09-07 15:01:21"
           ],
           "type": "scatter",
           "x": [
            24.40294393298363,
            24.37101772209079,
            24.585384850156284,
            25.03868275478802,
            25.1049789512843,
            25.120548589233294,
            25.408274935648077,
            25.597302325430956,
            25.672637855560588,
            25.80173268410434,
            26.38411337439661,
            26.849321650314195,
            27.310076869760383,
            27.967766755734598,
            29.042742972472052,
            30.289521934785512,
            31.624543305557914,
            33.03629384129947,
            34.655790506692405,
            36.41618432117775,
            38.33663661876895,
            40.0941005393072,
            41.75822831073315,
            43.149569575211835,
            null
           ],
           "y": [
            50,
            48.92607580828807,
            47.94386490735651,
            46.9525856518256,
            45.916836511442554,
            44.660383933816995,
            43.38923608926767,
            41.798256079790406,
            40.37683940593047,
            39.10834475444106,
            37.99258063423742,
            36.80434580629272,
            35.73674662487452,
            34.5679650472467,
            33.772178919948075,
            33.158761432384615,
            32.76450748321075,
            32.497618736021465,
            32.23865822217414,
            31.970805067378816,
            31.685402093648953,
            31.494603007248795,
            31.55054955689059,
            32.13615170767715,
            null
           ]
          },
          {
           "hovertemplate": "GroundTruthState<br>(%{x}, %{y})<br>Time: %{meta}",
           "meta": [
            "2023-09-07 15:00:59",
            "2023-09-07 15:01:00",
            "2023-09-07 15:01:01",
            "2023-09-07 15:01:02",
            "2023-09-07 15:01:03",
            "2023-09-07 15:01:04",
            "2023-09-07 15:01:05",
            "2023-09-07 15:01:06",
            "2023-09-07 15:01:07",
            "2023-09-07 15:01:08",
            "2023-09-07 15:01:09",
            "2023-09-07 15:01:10",
            "2023-09-07 15:01:11",
            "2023-09-07 15:01:12",
            "2023-09-07 15:01:13",
            "2023-09-07 15:01:14",
            "2023-09-07 15:01:15"
           ],
           "type": "scatter",
           "x": [
            34.9497917032631,
            34.692784657380166,
            34.62875348769775,
            34.70653825006885,
            35.16602245368285,
            35.84203896849462,
            36.48923137530482,
            37.304433786378794,
            38.273117794667684,
            39.27302578813828,
            40.575156256116884,
            42.13859623033162,
            43.61811499994063,
            45.13597961938457,
            46.80097281565994,
            48.56100000968383,
            50.41359841769575,
            null
           ],
           "y": [
            50,
            49.233094514513525,
            48.65632716274939,
            48.04342569579986,
            47.37584157077364,
            46.67834504620978,
            45.83272536574674,
            44.99090823719139,
            44.11358671702823,
            43.045507500400134,
            41.692529772966616,
            40.25930053089142,
            38.90349389643283,
            37.79892206904109,
            36.72496748091521,
            35.568203065578025,
            34.39813347429571,
            null
           ]
          },
          {
           "hovertemplate": "GroundTruthState<br>(%{x}, %{y})<br>Time: %{meta}",
           "meta": [
            "2023-09-07 15:01:18",
            "2023-09-07 15:01:19",
            "2023-09-07 15:01:20",
            "2023-09-07 15:01:21"
           ],
           "type": "scatter",
           "x": [
            0,
            0.8288856015780944,
            1.577628695233758,
            2.399680981787405,
            null
           ],
           "y": [
            13.10357910123418,
            13.488174129704484,
            13.819586170050492,
            14.24589595311661,
            null
           ]
          },
          {
           "type": "scatter",
           "x": [
            null,
            null
           ],
           "y": [
            null,
            null
           ]
          },
          {
           "hovertemplate": "Detection<br>(%{x}, %{y})<br>Time: %{meta}",
           "meta": [
            "2023-09-07 15:00:40",
            "2023-09-07 15:00:41",
            "2023-09-07 15:00:42",
            "2023-09-07 15:00:43",
            "2023-09-07 15:00:44",
            "2023-09-07 15:00:46",
            "2023-09-07 15:00:47",
            "2023-09-07 15:00:48",
            "2023-09-07 15:00:49",
            "2023-09-07 15:00:50",
            "2023-09-07 15:00:51",
            "2023-09-07 15:00:52",
            "2023-09-07 15:00:53",
            "2023-09-07 15:00:54",
            "2023-09-07 15:00:55",
            "2023-09-07 15:00:56",
            "2023-09-07 15:00:57",
            "2023-09-07 15:00:58",
            "2023-09-07 15:00:58",
            "2023-09-07 15:00:59",
            "2023-09-07 15:00:59",
            "2023-09-07 15:00:59",
            "2023-09-07 15:01:00",
            "2023-09-07 15:01:00",
            "2023-09-07 15:01:01",
            "2023-09-07 15:01:01",
            "2023-09-07 15:01:02",
            "2023-09-07 15:01:02",
            "2023-09-07 15:01:02",
            "2023-09-07 15:01:03",
            "2023-09-07 15:01:03",
            "2023-09-07 15:01:04",
            "2023-09-07 15:01:05",
            "2023-09-07 15:01:05",
            "2023-09-07 15:01:06",
            "2023-09-07 15:01:06",
            "2023-09-07 15:01:07",
            "2023-09-07 15:01:08",
            "2023-09-07 15:01:09",
            "2023-09-07 15:01:09",
            "2023-09-07 15:01:10",
            "2023-09-07 15:01:10",
            "2023-09-07 15:01:11",
            "2023-09-07 15:01:11",
            "2023-09-07 15:01:12",
            "2023-09-07 15:01:12",
            "2023-09-07 15:01:13",
            "2023-09-07 15:01:13",
            "2023-09-07 15:01:14",
            "2023-09-07 15:01:14",
            "2023-09-07 15:01:15",
            "2023-09-07 15:01:15",
            "2023-09-07 15:01:16",
            "2023-09-07 15:01:18",
            "2023-09-07 15:01:18",
            "2023-09-07 15:01:19",
            "2023-09-07 15:01:19",
            "2023-09-07 15:01:20",
            "2023-09-07 15:01:20",
            "2023-09-07 15:01:21",
            "2023-09-07 15:01:21"
           ],
           "type": "scatter",
           "x": [
            -0.43005629247898636,
            1.9613126588341832,
            1.328760915097623,
            1.6486342541080825,
            3.391167130241921,
            5.198613247790583,
            5.5997844867706466,
            6.935456692747284,
            8.51160294626042,
            6.938136290313291,
            8.00171047550961,
            8.455481513912613,
            8.51568107852356,
            9.22411910733494,
            9.258594731151701,
            9.32950730831503,
            7.804987863094423,
            24.581047874774246,
            7.832277013086065,
            34.62154345599989,
            7.937505079616018,
            24.155956069792705,
            34.219527318752874,
            8.764921493433448,
            9.169878259121589,
            34.33792014141769,
            24.808252741464877,
            35.71409381177726,
            8.508185830477029,
            35.01040999823201,
            24.184393334774143,
            25.495805205839506,
            35.85950727938655,
            25.487965372036413,
            37.36295589502933,
            25.364300083095635,
            38.81490747362937,
            26.92650992023429,
            26.03596591259028,
            40.090247952530696,
            42.62750361307228,
            27.050675848162673,
            43.69493541940249,
            29.12902614422362,
            44.76176804768235,
            29.637506472195824,
            29.650900517596043,
            46.75423507948332,
            31.162340017132035,
            48.68956101342326,
            50.34285151067938,
            33.681206740498496,
            34.35924968898188,
            38.20255965415224,
            -0.14517418428177845,
            1.104082549942672,
            41.48758389257666,
            42.110491533266654,
            1.4197714023378596,
            2.3265912176579664,
            42.03607606071514,
            null
           ],
           "y": [
            41.49312990045806,
            41.29578777553558,
            40.56025765481257,
            40.943137598599904,
            39.64105359377544,
            39.7539260798625,
            40.62749687000739,
            40.351899248824374,
            41.209034178881836,
            41.088704044823054,
            41.05099188880684,
            42.74592512474356,
            43.20802778630997,
            43.2900108578128,
            45.8069560006637,
            45.87834412006734,
            45.455700324445665,
            49.781697352014895,
            47.498742904408566,
            50.04974583545324,
            48.40541225977234,
            49.01136420875983,
            49.4925172018819,
            49.2219643780955,
            50.30810535810356,
            48.09527774002108,
            46.25695400029111,
            48.2078196986085,
            50.78839562369448,
            47.417274779382694,
            44.40599996400887,
            43.5197927927032,
            46.46503732984592,
            42.9412446802236,
            45.03790399017466,
            40.09552610002099,
            43.439230732975716,
            38.353008304293894,
            37.40798677226102,
            41.43540277842083,
            39.815961201534854,
            35.48874681711073,
            39.257107273185376,
            34.835324386097554,
            37.730821826564785,
            34.03955023089411,
            32.69639958115087,
            37.01295190145951,
            32.69615968061823,
            35.061395201317445,
            34.916591919976966,
            32.17042395307063,
            32.340636846034684,
            31.201568721009824,
            12.985501304391088,
            14.03690013835272,
            30.93467200759374,
            31.369916650468607,
            13.101506338186761,
            14.686837062547754,
            32.06085623108232,
            null
           ]
          },
          {
           "hovertemplate": "Clutter<br>(%{x}, %{y})<br>Time: %{meta}",
           "meta": [
            "2023-09-07 15:00:40",
            "2023-09-07 15:00:41",
            "2023-09-07 15:00:41",
            "2023-09-07 15:00:41",
            "2023-09-07 15:00:43",
            "2023-09-07 15:00:45",
            "2023-09-07 15:00:45",
            "2023-09-07 15:00:47",
            "2023-09-07 15:00:47",
            "2023-09-07 15:00:47",
            "2023-09-07 15:00:47",
            "2023-09-07 15:00:47",
            "2023-09-07 15:00:49",
            "2023-09-07 15:00:51",
            "2023-09-07 15:00:54",
            "2023-09-07 15:00:56",
            "2023-09-07 15:00:57",
            "2023-09-07 15:00:57",
            "2023-09-07 15:00:58",
            "2023-09-07 15:00:58",
            "2023-09-07 15:00:58",
            "2023-09-07 15:00:59",
            "2023-09-07 15:00:59",
            "2023-09-07 15:00:59",
            "2023-09-07 15:00:59",
            "2023-09-07 15:00:59",
            "2023-09-07 15:01:00",
            "2023-09-07 15:01:00",
            "2023-09-07 15:01:00",
            "2023-09-07 15:01:00",
            "2023-09-07 15:01:01",
            "2023-09-07 15:01:01",
            "2023-09-07 15:01:01",
            "2023-09-07 15:01:02",
            "2023-09-07 15:01:02",
            "2023-09-07 15:01:02",
            "2023-09-07 15:01:02",
            "2023-09-07 15:01:02",
            "2023-09-07 15:01:02",
            "2023-09-07 15:01:03",
            "2023-09-07 15:01:03",
            "2023-09-07 15:01:03",
            "2023-09-07 15:01:04",
            "2023-09-07 15:01:04",
            "2023-09-07 15:01:04",
            "2023-09-07 15:01:05",
            "2023-09-07 15:01:06",
            "2023-09-07 15:01:07",
            "2023-09-07 15:01:07",
            "2023-09-07 15:01:07",
            "2023-09-07 15:01:08",
            "2023-09-07 15:01:08",
            "2023-09-07 15:01:08",
            "2023-09-07 15:01:08",
            "2023-09-07 15:01:08",
            "2023-09-07 15:01:09",
            "2023-09-07 15:01:10",
            "2023-09-07 15:01:11",
            "2023-09-07 15:01:11",
            "2023-09-07 15:01:11",
            "2023-09-07 15:01:11",
            "2023-09-07 15:01:11",
            "2023-09-07 15:01:12",
            "2023-09-07 15:01:12",
            "2023-09-07 15:01:12",
            "2023-09-07 15:01:12",
            "2023-09-07 15:01:12",
            "2023-09-07 15:01:13",
            "2023-09-07 15:01:13",
            "2023-09-07 15:01:14",
            "2023-09-07 15:01:14",
            "2023-09-07 15:01:14",
            "2023-09-07 15:01:14",
            "2023-09-07 15:01:15",
            "2023-09-07 15:01:15",
            "2023-09-07 15:01:15",
            "2023-09-07 15:01:16",
            "2023-09-07 15:01:16",
            "2023-09-07 15:01:16",
            "2023-09-07 15:01:17",
            "2023-09-07 15:01:17",
            "2023-09-07 15:01:18",
            "2023-09-07 15:01:18",
            "2023-09-07 15:01:18",
            "2023-09-07 15:01:19",
            "2023-09-07 15:01:19",
            "2023-09-07 15:01:19",
            "2023-09-07 15:01:19",
            "2023-09-07 15:01:20",
            "2023-09-07 15:01:21",
            "2023-09-07 15:01:21",
            "2023-09-07 15:01:21"
           ],
           "type": "scatter",
           "x": [
            0.2628629860147935,
            -5.947186089536171,
            7.511234499194794,
            1.2368016066430076,
            -3.9383022083791523,
            9.519502944212656,
            8.816880016344196,
            15.208121856273904,
            14.025710879284519,
            -2.1359261723065925,
            7.05768093084308,
            1.592790739428831,
            0.7285176578468473,
            12.242518424828313,
            3.6747835001110527,
            7.866884907505119,
            12.411475162781779,
            12.833029096254522,
            8.261923541005068,
            5.0831273653651925,
            26.930871334830616,
            27.039745244561278,
            25.019860088518154,
            39.455693446687164,
            27.321535352904682,
            30.31780651486834,
            12.573526520789473,
            15.008821802752902,
            37.988817903560175,
            3.1977264770182456,
            13.555350298851561,
            3.5535772988144787,
            2.057485696647321,
            23.72489197255483,
            25.905726518102984,
            -0.049607600934990614,
            44.312221984514245,
            9.378352296443829,
            18.50241946088084,
            30.322701798056244,
            28.821367618013763,
            25.72928462141531,
            18.18069435837016,
            21.970881345714687,
            28.156454350498258,
            32.61429649029611,
            30.631145124138264,
            33.37364391128446,
            35.236020391599894,
            30.857949385414095,
            20.998130741840967,
            45.99412281903775,
            32.302439553723595,
            32.08881121592395,
            34.368659894470255,
            42.63783354856306,
            22.825250443375126,
            46.76794784079708,
            25.38567011928725,
            45.59917618721364,
            28.467386802836238,
            18.410120848619496,
            31.66272113820452,
            43.1559331152242,
            32.602419166440825,
            24.888047131114774,
            41.99512520304298,
            34.34481959543665,
            45.64098929078003,
            28.538562998472464,
            31.953188797311007,
            51.037984014335834,
            48.26811932475121,
            38.34817274276317,
            41.79198635803958,
            35.848011696046946,
            33.78187939091479,
            32.78467409040327,
            42.98168170387032,
            42.830054075906375,
            44.19816534754761,
            46.634625031145475,
            -7.325172957725023,
            39.81713025052223,
            -0.6696599126872442,
            36.236611779483866,
            -8.762735273661272,
            -8.11606855115582,
            -4.400044741148574,
            49.01874040387317,
            43.43679373820261,
            -4.421858508687789,
            null
           ],
           "y": [
            45.565386681545874,
            45.05366061755791,
            46.35592175810034,
            32.05905379580751,
            47.28393730753255,
            31.456987364994728,
            34.167845538700334,
            41.39926162025145,
            30.523269059328186,
            39.91303043863957,
            48.67691635585126,
            36.21792645246228,
            49.91527833476793,
            47.603344842135236,
            45.81113548447709,
            36.913833208623586,
            42.07983225975437,
            37.580041204503345,
            51.51203885361398,
            38.77727204839494,
            50.26474359709672,
            46.83275159513233,
            44.2215730834841,
            42.928967070680564,
            39.18334456447075,
            41.74815349965422,
            53.23948281955508,
            39.23710521891505,
            41.71611682790641,
            44.66052183772808,
            54.103690631976036,
            53.14575568077721,
            55.08403627460173,
            53.54937794282731,
            39.48254372876265,
            49.2227662940403,
            54.06836097418948,
            56.263969533566836,
            53.25939906245995,
            35.91069398537605,
            41.65623575003663,
            41.905400700989,
            39.61971827652344,
            48.47021711265079,
            47.053263396761686,
            48.42591290835785,
            46.873040621337125,
            35.83422888376544,
            40.8472753333875,
            45.24876042326029,
            41.2671197651651,
            50.516940652029575,
            45.179981648715554,
            30.171972495537165,
            42.403150160945586,
            46.32282510415091,
            42.91321237687506,
            41.0321130883941,
            29.506000958938504,
            37.63147063057602,
            32.76461422246943,
            36.560369010476535,
            37.87256247118427,
            45.9129338470391,
            42.61065010596327,
            25.82761963811049,
            36.2851591423244,
            32.987197462520854,
            43.251218519286574,
            32.59179843212368,
            29.186005589173316,
            30.601098731718686,
            27.428160072135906,
            33.58198629100018,
            32.75561514350671,
            22.563898343016053,
            39.479508793216375,
            22.39061636966581,
            24.9156684353476,
            40.38234490442706,
            36.52456070115119,
            37.09424389499827,
            4.137056923912706,
            33.29997688519985,
            14.395300031476392,
            39.064635241723046,
            13.322492628880617,
            15.20709595437769,
            23.239591386018308,
            29.510068260005237,
            33.04239269405282,
            23.851030571287794,
            null
           ]
          },
          {
           "type": "scatter",
           "x": [
            null,
            null
           ],
           "y": [
            null,
            null
           ]
          },
          {
           "customdata": [
            "2023-09-07 15:01:02",
            "2023-09-07 15:01:03",
            "2023-09-07 15:01:04",
            "2023-09-07 15:01:05",
            "2023-09-07 15:01:06",
            "2023-09-07 15:01:07",
            "2023-09-07 15:01:08",
            "2023-09-07 15:01:09",
            "2023-09-07 15:01:10",
            "2023-09-07 15:01:11",
            "2023-09-07 15:01:12",
            "2023-09-07 15:01:13",
            "2023-09-07 15:01:14",
            "2023-09-07 15:01:15",
            "2023-09-07 15:01:16",
            "2023-09-07 15:01:17",
            "2023-09-07 15:01:18",
            "2023-09-07 15:01:19",
            "2023-09-07 15:01:20",
            "2023-09-07 15:01:21"
           ],
           "hovertemplate": "%{meta}<br>(%{x}, %{y})<br>Time: %{customdata}",
           "meta": [
            "GaussianStateUpdate",
            "GaussianStateUpdate",
            "GaussianStatePrediction",
            "GaussianStateUpdate",
            "GaussianStateUpdate",
            "GaussianStatePrediction",
            "GaussianStateUpdate",
            "GaussianStateUpdate",
            "GaussianStateUpdate",
            "GaussianStateUpdate",
            "GaussianStateUpdate",
            "GaussianStateUpdate",
            "GaussianStateUpdate",
            "GaussianStateUpdate",
            "GaussianStateUpdate",
            "GaussianStatePrediction",
            "GaussianStateUpdate",
            "GaussianStateUpdate",
            "GaussianStateUpdate",
            "GaussianStateUpdate"
           ],
           "type": "scatter",
           "x": [
            24.808252741464877,
            24.28722730290998,
            23.865608033553055,
            25.298502648302748,
            25.44756589740006,
            25.699765066300532,
            26.72111884305909,
            26.47411081482359,
            26.91022719214639,
            28.392689239379788,
            29.48549289914162,
            29.958885131659155,
            30.982225814121207,
            32.97053770508004,
            34.355348100510774,
            35.73681432763107,
            37.96762619531714,
            40.832506787815454,
            42.46032164599185,
            43.8072898168843,
            null
           ],
           "y": [
            46.25695400029111,
            44.71110227768177,
            43.46018279162289,
            42.873394987407465,
            40.67460334874732,
            39.19307683483714,
            38.21781736538797,
            37.23463311057605,
            35.712856771033614,
            34.66207924550508,
            33.816964723112704,
            32.728697608491885,
            32.29760457310039,
            31.91941075010266,
            31.94651338326191,
            31.63580099457582,
            31.228332082773218,
            30.91546558310715,
            31.064903901503172,
            32.23100667011955,
            null
           ]
          },
          {
           "customdata": [
            "2023-09-07 15:00:40",
            "2023-09-07 15:00:41",
            "2023-09-07 15:00:42",
            "2023-09-07 15:00:43",
            "2023-09-07 15:00:44",
            "2023-09-07 15:00:45",
            "2023-09-07 15:00:46",
            "2023-09-07 15:00:47",
            "2023-09-07 15:00:48",
            "2023-09-07 15:00:49",
            "2023-09-07 15:00:50",
            "2023-09-07 15:00:51",
            "2023-09-07 15:00:52",
            "2023-09-07 15:00:53",
            "2023-09-07 15:00:54",
            "2023-09-07 15:00:55",
            "2023-09-07 15:00:56",
            "2023-09-07 15:00:57",
            "2023-09-07 15:00:58",
            "2023-09-07 15:00:59",
            "2023-09-07 15:01:00",
            "2023-09-07 15:01:01",
            "2023-09-07 15:01:02",
            "2023-09-07 15:01:03",
            "2023-09-07 15:01:04",
            "2023-09-07 15:01:05"
           ],
           "hovertemplate": "%{meta}<br>(%{x}, %{y})<br>Time: %{customdata}",
           "meta": [
            "GaussianStateUpdate",
            "GaussianStateUpdate",
            "GaussianStateUpdate",
            "GaussianStateUpdate",
            "GaussianStateUpdate",
            "GaussianStatePrediction",
            "GaussianStateUpdate",
            "GaussianStateUpdate",
            "GaussianStateUpdate",
            "GaussianStateUpdate",
            "GaussianStatePrediction",
            "GaussianStateUpdate",
            "GaussianStateUpdate",
            "GaussianStateUpdate",
            "GaussianStateUpdate",
            "GaussianStateUpdate",
            "GaussianStateUpdate",
            "GaussianStateUpdate",
            "GaussianStateUpdate",
            "GaussianStateUpdate",
            "GaussianStateUpdate",
            "GaussianStateUpdate",
            "GaussianStateUpdate",
            "GaussianStatePrediction",
            "GaussianStatePrediction",
            "GaussianStatePrediction"
           ],
           "type": "scatter",
           "x": [
            -0.43005629247898636,
            1.5671309635627815,
            1.7248047174586882,
            1.8905500191617137,
            3.0266606144206634,
            3.7930024690710495,
            5.063871539095284,
            5.749814186180568,
            6.802874669121355,
            8.2129677138972,
            9.367732280484283,
            8.542618402693721,
            8.634368220211687,
            8.669701894529883,
            9.075003246000703,
            9.29501577604749,
            9.413413937498195,
            8.502632005862981,
            7.971735342146178,
            7.79106608746795,
            8.267728552533242,
            8.8391159278272,
            8.748563089055056,
            8.86400725665167,
            8.979451424248284,
            9.094895591844898,
            null
           ],
           "y": [
            41.49312990045806,
            41.3283166972261,
            40.69579995272057,
            40.74242157325732,
            39.9576780440993,
            39.494129937136556,
            39.60146342055227,
            40.16817369119637,
            40.313729365629904,
            40.905811622898376,
            41.23864331164184,
            41.162676656780185,
            42.24148057909349,
            43.0469437062278,
            43.453524571615226,
            45.10875518315963,
            45.9885693493004,
            46.04032141953401,
            47.147697787822864,
            48.23006081378942,
            49.19872167033096,
            50.24570967805816,
            50.9635055877399,
            51.8313661441028,
            52.6992267004657,
            53.5670872568286,
            null
           ]
          },
          {
           "customdata": [
            "2023-09-07 15:00:59",
            "2023-09-07 15:01:00",
            "2023-09-07 15:01:01",
            "2023-09-07 15:01:02",
            "2023-09-07 15:01:03",
            "2023-09-07 15:01:04",
            "2023-09-07 15:01:05",
            "2023-09-07 15:01:06",
            "2023-09-07 15:01:07",
            "2023-09-07 15:01:08",
            "2023-09-07 15:01:09",
            "2023-09-07 15:01:10",
            "2023-09-07 15:01:11",
            "2023-09-07 15:01:12",
            "2023-09-07 15:01:13",
            "2023-09-07 15:01:14",
            "2023-09-07 15:01:15",
            "2023-09-07 15:01:16",
            "2023-09-07 15:01:17",
            "2023-09-07 15:01:18"
           ],
           "hovertemplate": "%{meta}<br>(%{x}, %{y})<br>Time: %{customdata}",
           "meta": [
            "GaussianStateUpdate",
            "GaussianStateUpdate",
            "GaussianStateUpdate",
            "GaussianStateUpdate",
            "GaussianStateUpdate",
            "GaussianStatePrediction",
            "GaussianStateUpdate",
            "GaussianStateUpdate",
            "GaussianStateUpdate",
            "GaussianStatePrediction",
            "GaussianStateUpdate",
            "GaussianStateUpdate",
            "GaussianStateUpdate",
            "GaussianStateUpdate",
            "GaussianStateUpdate",
            "GaussianStateUpdate",
            "GaussianStateUpdate",
            "GaussianStatePrediction",
            "GaussianStatePrediction",
            "GaussianStatePrediction"
           ],
           "type": "scatter",
           "x": [
            34.62154345599989,
            34.285793715002384,
            34.268766551451364,
            35.25199515478764,
            35.241728090713245,
            35.46611855956127,
            35.823886725585425,
            36.908212632501446,
            38.31187561793434,
            39.27738316623153,
            40.12303778529568,
            42.05919966214608,
            43.58076136933816,
            44.85506086017132,
            46.54365872209996,
            48.4424978164326,
            50.25972723135585,
            52.00551187071654,
            53.751296510077225,
            55.49708114943791,
            null
           ],
           "y": [
            50.04974583545324,
            49.58436807554751,
            48.332859762710335,
            47.97879829102805,
            47.391708738119306,
            46.778684057935784,
            46.40193603508247,
            45.339300697596954,
            43.8858444435431,
            42.82140177455153,
            41.504477643507144,
            40.00566872524056,
            39.043838355329946,
            37.794716297103854,
            36.85351357980136,
            35.33753663122695,
            34.58421722918014,
            33.54522394965844,
            32.506230670136745,
            31.467237390615047,
            null
           ]
          },
          {
           "type": "scatter",
           "x": [
            null
           ],
           "y": [
            null
           ]
          },
          {
           "type": "scatter",
           "x": [
            43.8072898168843,
            43.88864572051923,
            43.96644598077637,
            44.03729035295542,
            44.09808259804314,
            44.146165803215645,
            44.179438501678064,
            44.19644651684749,
            44.19644651684749,
            44.179438501678064,
            44.146165803215645,
            44.09808259804314,
            44.03729035295542,
            43.96644598077637,
            43.88864572051923,
            43.8072898168843,
            43.72593391324937,
            43.64813365299223,
            43.57728928081318,
            43.51649703572546,
            43.468413830552954,
            43.435141132090536,
            43.41813311692111,
            43.41813311692111,
            43.435141132090536,
            43.468413830552954,
            43.51649703572546,
            43.57728928081318,
            43.64813365299223,
            43.72593391324937,
            null,
            null
           ],
           "y": [
            32.62230695398015,
            32.613756103944255,
            32.58847726701466,
            32.547575249666515,
            32.49283766632759,
            32.42665681204985,
            32.351925107736214,
            32.27190868746769,
            32.1901046527714,
            32.11008823250288,
            32.03535652818925,
            31.96917567391151,
            31.91443809057258,
            31.873536073224436,
            31.848257236294845,
            31.839706386258946,
            31.848257236294845,
            31.873536073224436,
            31.91443809057258,
            31.96917567391151,
            32.03535652818925,
            32.11008823250288,
            32.1901046527714,
            32.27190868746769,
            32.351925107736214,
            32.42665681204985,
            32.49283766632759,
            32.547575249666515,
            32.58847726701466,
            32.613756103944255,
            null,
            null
           ]
          },
          {
           "type": "scatter",
           "x": [
            null
           ],
           "y": [
            null
           ]
          },
          {
           "type": "scatter",
           "x": [
            null
           ],
           "y": [
            null
           ]
          }
         ],
         "name": "2023-09-07 15:01:21",
         "traces": [
          0,
          1,
          2,
          3,
          4,
          5,
          6,
          7,
          8,
          9,
          10,
          11,
          12,
          13,
          14,
          15
         ]
        }
       ],
       "layout": {
        "autosize": true,
        "colorway": [
         "#EF553B",
         "#00CC96",
         "#AB63FA",
         "#FFA15A",
         "#19D3F3",
         "#FF6692",
         "#B6E880",
         "#FF97FF",
         "#FECB52"
        ],
        "height": 550,
        "sliders": [
         {
          "currentvalue": {
           "font": {
            "size": 16
           },
           "prefix": "Time: ",
           "visible": true,
           "xanchor": "right"
          },
          "len": 0.9,
          "pad": {
           "b": 10,
           "t": 50
          },
          "steps": [
           {
            "args": [
             [
              "2023-09-07 15:00:32"
             ],
             {
              "frame": {
               "duration": 1,
               "easing": "linear",
               "redraw": true
              },
              "transition": {
               "duration": 0,
               "easing": "linear"
              }
             }
            ],
            "label": "15:00:32",
            "method": "animate"
           },
           {
            "args": [
             [
              "2023-09-07 15:00:33"
             ],
             {
              "frame": {
               "duration": 1,
               "easing": "linear",
               "redraw": true
              },
              "transition": {
               "duration": 0,
               "easing": "linear"
              }
             }
            ],
            "label": "15:00:33",
            "method": "animate"
           },
           {
            "args": [
             [
              "2023-09-07 15:00:34"
             ],
             {
              "frame": {
               "duration": 1,
               "easing": "linear",
               "redraw": true
              },
              "transition": {
               "duration": 0,
               "easing": "linear"
              }
             }
            ],
            "label": "15:00:34",
            "method": "animate"
           },
           {
            "args": [
             [
              "2023-09-07 15:00:35"
             ],
             {
              "frame": {
               "duration": 1,
               "easing": "linear",
               "redraw": true
              },
              "transition": {
               "duration": 0,
               "easing": "linear"
              }
             }
            ],
            "label": "15:00:35",
            "method": "animate"
           },
           {
            "args": [
             [
              "2023-09-07 15:00:36"
             ],
             {
              "frame": {
               "duration": 1,
               "easing": "linear",
               "redraw": true
              },
              "transition": {
               "duration": 0,
               "easing": "linear"
              }
             }
            ],
            "label": "15:00:36",
            "method": "animate"
           },
           {
            "args": [
             [
              "2023-09-07 15:00:37"
             ],
             {
              "frame": {
               "duration": 1,
               "easing": "linear",
               "redraw": true
              },
              "transition": {
               "duration": 0,
               "easing": "linear"
              }
             }
            ],
            "label": "15:00:37",
            "method": "animate"
           },
           {
            "args": [
             [
              "2023-09-07 15:00:38"
             ],
             {
              "frame": {
               "duration": 1,
               "easing": "linear",
               "redraw": true
              },
              "transition": {
               "duration": 0,
               "easing": "linear"
              }
             }
            ],
            "label": "15:00:38",
            "method": "animate"
           },
           {
            "args": [
             [
              "2023-09-07 15:00:39"
             ],
             {
              "frame": {
               "duration": 1,
               "easing": "linear",
               "redraw": true
              },
              "transition": {
               "duration": 0,
               "easing": "linear"
              }
             }
            ],
            "label": "15:00:39",
            "method": "animate"
           },
           {
            "args": [
             [
              "2023-09-07 15:00:40"
             ],
             {
              "frame": {
               "duration": 1,
               "easing": "linear",
               "redraw": true
              },
              "transition": {
               "duration": 0,
               "easing": "linear"
              }
             }
            ],
            "label": "15:00:40",
            "method": "animate"
           },
           {
            "args": [
             [
              "2023-09-07 15:00:41"
             ],
             {
              "frame": {
               "duration": 1,
               "easing": "linear",
               "redraw": true
              },
              "transition": {
               "duration": 0,
               "easing": "linear"
              }
             }
            ],
            "label": "15:00:41",
            "method": "animate"
           },
           {
            "args": [
             [
              "2023-09-07 15:00:42"
             ],
             {
              "frame": {
               "duration": 1,
               "easing": "linear",
               "redraw": true
              },
              "transition": {
               "duration": 0,
               "easing": "linear"
              }
             }
            ],
            "label": "15:00:42",
            "method": "animate"
           },
           {
            "args": [
             [
              "2023-09-07 15:00:43"
             ],
             {
              "frame": {
               "duration": 1,
               "easing": "linear",
               "redraw": true
              },
              "transition": {
               "duration": 0,
               "easing": "linear"
              }
             }
            ],
            "label": "15:00:43",
            "method": "animate"
           },
           {
            "args": [
             [
              "2023-09-07 15:00:44"
             ],
             {
              "frame": {
               "duration": 1,
               "easing": "linear",
               "redraw": true
              },
              "transition": {
               "duration": 0,
               "easing": "linear"
              }
             }
            ],
            "label": "15:00:44",
            "method": "animate"
           },
           {
            "args": [
             [
              "2023-09-07 15:00:45"
             ],
             {
              "frame": {
               "duration": 1,
               "easing": "linear",
               "redraw": true
              },
              "transition": {
               "duration": 0,
               "easing": "linear"
              }
             }
            ],
            "label": "15:00:45",
            "method": "animate"
           },
           {
            "args": [
             [
              "2023-09-07 15:00:46"
             ],
             {
              "frame": {
               "duration": 1,
               "easing": "linear",
               "redraw": true
              },
              "transition": {
               "duration": 0,
               "easing": "linear"
              }
             }
            ],
            "label": "15:00:46",
            "method": "animate"
           },
           {
            "args": [
             [
              "2023-09-07 15:00:47"
             ],
             {
              "frame": {
               "duration": 1,
               "easing": "linear",
               "redraw": true
              },
              "transition": {
               "duration": 0,
               "easing": "linear"
              }
             }
            ],
            "label": "15:00:47",
            "method": "animate"
           },
           {
            "args": [
             [
              "2023-09-07 15:00:48"
             ],
             {
              "frame": {
               "duration": 1,
               "easing": "linear",
               "redraw": true
              },
              "transition": {
               "duration": 0,
               "easing": "linear"
              }
             }
            ],
            "label": "15:00:48",
            "method": "animate"
           },
           {
            "args": [
             [
              "2023-09-07 15:00:49"
             ],
             {
              "frame": {
               "duration": 1,
               "easing": "linear",
               "redraw": true
              },
              "transition": {
               "duration": 0,
               "easing": "linear"
              }
             }
            ],
            "label": "15:00:49",
            "method": "animate"
           },
           {
            "args": [
             [
              "2023-09-07 15:00:50"
             ],
             {
              "frame": {
               "duration": 1,
               "easing": "linear",
               "redraw": true
              },
              "transition": {
               "duration": 0,
               "easing": "linear"
              }
             }
            ],
            "label": "15:00:50",
            "method": "animate"
           },
           {
            "args": [
             [
              "2023-09-07 15:00:51"
             ],
             {
              "frame": {
               "duration": 1,
               "easing": "linear",
               "redraw": true
              },
              "transition": {
               "duration": 0,
               "easing": "linear"
              }
             }
            ],
            "label": "15:00:51",
            "method": "animate"
           },
           {
            "args": [
             [
              "2023-09-07 15:00:52"
             ],
             {
              "frame": {
               "duration": 1,
               "easing": "linear",
               "redraw": true
              },
              "transition": {
               "duration": 0,
               "easing": "linear"
              }
             }
            ],
            "label": "15:00:52",
            "method": "animate"
           },
           {
            "args": [
             [
              "2023-09-07 15:00:53"
             ],
             {
              "frame": {
               "duration": 1,
               "easing": "linear",
               "redraw": true
              },
              "transition": {
               "duration": 0,
               "easing": "linear"
              }
             }
            ],
            "label": "15:00:53",
            "method": "animate"
           },
           {
            "args": [
             [
              "2023-09-07 15:00:54"
             ],
             {
              "frame": {
               "duration": 1,
               "easing": "linear",
               "redraw": true
              },
              "transition": {
               "duration": 0,
               "easing": "linear"
              }
             }
            ],
            "label": "15:00:54",
            "method": "animate"
           },
           {
            "args": [
             [
              "2023-09-07 15:00:55"
             ],
             {
              "frame": {
               "duration": 1,
               "easing": "linear",
               "redraw": true
              },
              "transition": {
               "duration": 0,
               "easing": "linear"
              }
             }
            ],
            "label": "15:00:55",
            "method": "animate"
           },
           {
            "args": [
             [
              "2023-09-07 15:00:56"
             ],
             {
              "frame": {
               "duration": 1,
               "easing": "linear",
               "redraw": true
              },
              "transition": {
               "duration": 0,
               "easing": "linear"
              }
             }
            ],
            "label": "15:00:56",
            "method": "animate"
           },
           {
            "args": [
             [
              "2023-09-07 15:00:57"
             ],
             {
              "frame": {
               "duration": 1,
               "easing": "linear",
               "redraw": true
              },
              "transition": {
               "duration": 0,
               "easing": "linear"
              }
             }
            ],
            "label": "15:00:57",
            "method": "animate"
           },
           {
            "args": [
             [
              "2023-09-07 15:00:58"
             ],
             {
              "frame": {
               "duration": 1,
               "easing": "linear",
               "redraw": true
              },
              "transition": {
               "duration": 0,
               "easing": "linear"
              }
             }
            ],
            "label": "15:00:58",
            "method": "animate"
           },
           {
            "args": [
             [
              "2023-09-07 15:00:59"
             ],
             {
              "frame": {
               "duration": 1,
               "easing": "linear",
               "redraw": true
              },
              "transition": {
               "duration": 0,
               "easing": "linear"
              }
             }
            ],
            "label": "15:00:59",
            "method": "animate"
           },
           {
            "args": [
             [
              "2023-09-07 15:01:00"
             ],
             {
              "frame": {
               "duration": 1,
               "easing": "linear",
               "redraw": true
              },
              "transition": {
               "duration": 0,
               "easing": "linear"
              }
             }
            ],
            "label": "15:01:00",
            "method": "animate"
           },
           {
            "args": [
             [
              "2023-09-07 15:01:01"
             ],
             {
              "frame": {
               "duration": 1,
               "easing": "linear",
               "redraw": true
              },
              "transition": {
               "duration": 0,
               "easing": "linear"
              }
             }
            ],
            "label": "15:01:01",
            "method": "animate"
           },
           {
            "args": [
             [
              "2023-09-07 15:01:02"
             ],
             {
              "frame": {
               "duration": 1,
               "easing": "linear",
               "redraw": true
              },
              "transition": {
               "duration": 0,
               "easing": "linear"
              }
             }
            ],
            "label": "15:01:02",
            "method": "animate"
           },
           {
            "args": [
             [
              "2023-09-07 15:01:03"
             ],
             {
              "frame": {
               "duration": 1,
               "easing": "linear",
               "redraw": true
              },
              "transition": {
               "duration": 0,
               "easing": "linear"
              }
             }
            ],
            "label": "15:01:03",
            "method": "animate"
           },
           {
            "args": [
             [
              "2023-09-07 15:01:04"
             ],
             {
              "frame": {
               "duration": 1,
               "easing": "linear",
               "redraw": true
              },
              "transition": {
               "duration": 0,
               "easing": "linear"
              }
             }
            ],
            "label": "15:01:04",
            "method": "animate"
           },
           {
            "args": [
             [
              "2023-09-07 15:01:05"
             ],
             {
              "frame": {
               "duration": 1,
               "easing": "linear",
               "redraw": true
              },
              "transition": {
               "duration": 0,
               "easing": "linear"
              }
             }
            ],
            "label": "15:01:05",
            "method": "animate"
           },
           {
            "args": [
             [
              "2023-09-07 15:01:06"
             ],
             {
              "frame": {
               "duration": 1,
               "easing": "linear",
               "redraw": true
              },
              "transition": {
               "duration": 0,
               "easing": "linear"
              }
             }
            ],
            "label": "15:01:06",
            "method": "animate"
           },
           {
            "args": [
             [
              "2023-09-07 15:01:07"
             ],
             {
              "frame": {
               "duration": 1,
               "easing": "linear",
               "redraw": true
              },
              "transition": {
               "duration": 0,
               "easing": "linear"
              }
             }
            ],
            "label": "15:01:07",
            "method": "animate"
           },
           {
            "args": [
             [
              "2023-09-07 15:01:08"
             ],
             {
              "frame": {
               "duration": 1,
               "easing": "linear",
               "redraw": true
              },
              "transition": {
               "duration": 0,
               "easing": "linear"
              }
             }
            ],
            "label": "15:01:08",
            "method": "animate"
           },
           {
            "args": [
             [
              "2023-09-07 15:01:09"
             ],
             {
              "frame": {
               "duration": 1,
               "easing": "linear",
               "redraw": true
              },
              "transition": {
               "duration": 0,
               "easing": "linear"
              }
             }
            ],
            "label": "15:01:09",
            "method": "animate"
           },
           {
            "args": [
             [
              "2023-09-07 15:01:10"
             ],
             {
              "frame": {
               "duration": 1,
               "easing": "linear",
               "redraw": true
              },
              "transition": {
               "duration": 0,
               "easing": "linear"
              }
             }
            ],
            "label": "15:01:10",
            "method": "animate"
           },
           {
            "args": [
             [
              "2023-09-07 15:01:11"
             ],
             {
              "frame": {
               "duration": 1,
               "easing": "linear",
               "redraw": true
              },
              "transition": {
               "duration": 0,
               "easing": "linear"
              }
             }
            ],
            "label": "15:01:11",
            "method": "animate"
           },
           {
            "args": [
             [
              "2023-09-07 15:01:12"
             ],
             {
              "frame": {
               "duration": 1,
               "easing": "linear",
               "redraw": true
              },
              "transition": {
               "duration": 0,
               "easing": "linear"
              }
             }
            ],
            "label": "15:01:12",
            "method": "animate"
           },
           {
            "args": [
             [
              "2023-09-07 15:01:13"
             ],
             {
              "frame": {
               "duration": 1,
               "easing": "linear",
               "redraw": true
              },
              "transition": {
               "duration": 0,
               "easing": "linear"
              }
             }
            ],
            "label": "15:01:13",
            "method": "animate"
           },
           {
            "args": [
             [
              "2023-09-07 15:01:14"
             ],
             {
              "frame": {
               "duration": 1,
               "easing": "linear",
               "redraw": true
              },
              "transition": {
               "duration": 0,
               "easing": "linear"
              }
             }
            ],
            "label": "15:01:14",
            "method": "animate"
           },
           {
            "args": [
             [
              "2023-09-07 15:01:15"
             ],
             {
              "frame": {
               "duration": 1,
               "easing": "linear",
               "redraw": true
              },
              "transition": {
               "duration": 0,
               "easing": "linear"
              }
             }
            ],
            "label": "15:01:15",
            "method": "animate"
           },
           {
            "args": [
             [
              "2023-09-07 15:01:16"
             ],
             {
              "frame": {
               "duration": 1,
               "easing": "linear",
               "redraw": true
              },
              "transition": {
               "duration": 0,
               "easing": "linear"
              }
             }
            ],
            "label": "15:01:16",
            "method": "animate"
           },
           {
            "args": [
             [
              "2023-09-07 15:01:17"
             ],
             {
              "frame": {
               "duration": 1,
               "easing": "linear",
               "redraw": true
              },
              "transition": {
               "duration": 0,
               "easing": "linear"
              }
             }
            ],
            "label": "15:01:17",
            "method": "animate"
           },
           {
            "args": [
             [
              "2023-09-07 15:01:18"
             ],
             {
              "frame": {
               "duration": 1,
               "easing": "linear",
               "redraw": true
              },
              "transition": {
               "duration": 0,
               "easing": "linear"
              }
             }
            ],
            "label": "15:01:18",
            "method": "animate"
           },
           {
            "args": [
             [
              "2023-09-07 15:01:19"
             ],
             {
              "frame": {
               "duration": 1,
               "easing": "linear",
               "redraw": true
              },
              "transition": {
               "duration": 0,
               "easing": "linear"
              }
             }
            ],
            "label": "15:01:19",
            "method": "animate"
           },
           {
            "args": [
             [
              "2023-09-07 15:01:20"
             ],
             {
              "frame": {
               "duration": 1,
               "easing": "linear",
               "redraw": true
              },
              "transition": {
               "duration": 0,
               "easing": "linear"
              }
             }
            ],
            "label": "15:01:20",
            "method": "animate"
           },
           {
            "args": [
             [
              "2023-09-07 15:01:21"
             ],
             {
              "frame": {
               "duration": 1,
               "easing": "linear",
               "redraw": true
              },
              "transition": {
               "duration": 0,
               "easing": "linear"
              }
             }
            ],
            "label": "15:01:21",
            "method": "animate"
           }
          ],
          "transition": {
           "duration": 120,
           "easing": "linear"
          },
          "x": 0.1,
          "xanchor": "left",
          "y": 0,
          "yanchor": "top"
         }
        ],
        "template": {
         "data": {
          "bar": [
           {
            "error_x": {
             "color": "#2a3f5f"
            },
            "error_y": {
             "color": "#2a3f5f"
            },
            "marker": {
             "line": {
              "color": "#E5ECF6",
              "width": 0.5
             },
             "pattern": {
              "fillmode": "overlay",
              "size": 10,
              "solidity": 0.2
             }
            },
            "type": "bar"
           }
          ],
          "barpolar": [
           {
            "marker": {
             "line": {
              "color": "#E5ECF6",
              "width": 0.5
             },
             "pattern": {
              "fillmode": "overlay",
              "size": 10,
              "solidity": 0.2
             }
            },
            "type": "barpolar"
           }
          ],
          "carpet": [
           {
            "aaxis": {
             "endlinecolor": "#2a3f5f",
             "gridcolor": "white",
             "linecolor": "white",
             "minorgridcolor": "white",
             "startlinecolor": "#2a3f5f"
            },
            "baxis": {
             "endlinecolor": "#2a3f5f",
             "gridcolor": "white",
             "linecolor": "white",
             "minorgridcolor": "white",
             "startlinecolor": "#2a3f5f"
            },
            "type": "carpet"
           }
          ],
          "choropleth": [
           {
            "colorbar": {
             "outlinewidth": 0,
             "ticks": ""
            },
            "type": "choropleth"
           }
          ],
          "contour": [
           {
            "colorbar": {
             "outlinewidth": 0,
             "ticks": ""
            },
            "colorscale": [
             [
              0,
              "#0d0887"
             ],
             [
              0.1111111111111111,
              "#46039f"
             ],
             [
              0.2222222222222222,
              "#7201a8"
             ],
             [
              0.3333333333333333,
              "#9c179e"
             ],
             [
              0.4444444444444444,
              "#bd3786"
             ],
             [
              0.5555555555555556,
              "#d8576b"
             ],
             [
              0.6666666666666666,
              "#ed7953"
             ],
             [
              0.7777777777777778,
              "#fb9f3a"
             ],
             [
              0.8888888888888888,
              "#fdca26"
             ],
             [
              1,
              "#f0f921"
             ]
            ],
            "type": "contour"
           }
          ],
          "contourcarpet": [
           {
            "colorbar": {
             "outlinewidth": 0,
             "ticks": ""
            },
            "type": "contourcarpet"
           }
          ],
          "heatmap": [
           {
            "colorbar": {
             "outlinewidth": 0,
             "ticks": ""
            },
            "colorscale": [
             [
              0,
              "#0d0887"
             ],
             [
              0.1111111111111111,
              "#46039f"
             ],
             [
              0.2222222222222222,
              "#7201a8"
             ],
             [
              0.3333333333333333,
              "#9c179e"
             ],
             [
              0.4444444444444444,
              "#bd3786"
             ],
             [
              0.5555555555555556,
              "#d8576b"
             ],
             [
              0.6666666666666666,
              "#ed7953"
             ],
             [
              0.7777777777777778,
              "#fb9f3a"
             ],
             [
              0.8888888888888888,
              "#fdca26"
             ],
             [
              1,
              "#f0f921"
             ]
            ],
            "type": "heatmap"
           }
          ],
          "heatmapgl": [
           {
            "colorbar": {
             "outlinewidth": 0,
             "ticks": ""
            },
            "colorscale": [
             [
              0,
              "#0d0887"
             ],
             [
              0.1111111111111111,
              "#46039f"
             ],
             [
              0.2222222222222222,
              "#7201a8"
             ],
             [
              0.3333333333333333,
              "#9c179e"
             ],
             [
              0.4444444444444444,
              "#bd3786"
             ],
             [
              0.5555555555555556,
              "#d8576b"
             ],
             [
              0.6666666666666666,
              "#ed7953"
             ],
             [
              0.7777777777777778,
              "#fb9f3a"
             ],
             [
              0.8888888888888888,
              "#fdca26"
             ],
             [
              1,
              "#f0f921"
             ]
            ],
            "type": "heatmapgl"
           }
          ],
          "histogram": [
           {
            "marker": {
             "pattern": {
              "fillmode": "overlay",
              "size": 10,
              "solidity": 0.2
             }
            },
            "type": "histogram"
           }
          ],
          "histogram2d": [
           {
            "colorbar": {
             "outlinewidth": 0,
             "ticks": ""
            },
            "colorscale": [
             [
              0,
              "#0d0887"
             ],
             [
              0.1111111111111111,
              "#46039f"
             ],
             [
              0.2222222222222222,
              "#7201a8"
             ],
             [
              0.3333333333333333,
              "#9c179e"
             ],
             [
              0.4444444444444444,
              "#bd3786"
             ],
             [
              0.5555555555555556,
              "#d8576b"
             ],
             [
              0.6666666666666666,
              "#ed7953"
             ],
             [
              0.7777777777777778,
              "#fb9f3a"
             ],
             [
              0.8888888888888888,
              "#fdca26"
             ],
             [
              1,
              "#f0f921"
             ]
            ],
            "type": "histogram2d"
           }
          ],
          "histogram2dcontour": [
           {
            "colorbar": {
             "outlinewidth": 0,
             "ticks": ""
            },
            "colorscale": [
             [
              0,
              "#0d0887"
             ],
             [
              0.1111111111111111,
              "#46039f"
             ],
             [
              0.2222222222222222,
              "#7201a8"
             ],
             [
              0.3333333333333333,
              "#9c179e"
             ],
             [
              0.4444444444444444,
              "#bd3786"
             ],
             [
              0.5555555555555556,
              "#d8576b"
             ],
             [
              0.6666666666666666,
              "#ed7953"
             ],
             [
              0.7777777777777778,
              "#fb9f3a"
             ],
             [
              0.8888888888888888,
              "#fdca26"
             ],
             [
              1,
              "#f0f921"
             ]
            ],
            "type": "histogram2dcontour"
           }
          ],
          "mesh3d": [
           {
            "colorbar": {
             "outlinewidth": 0,
             "ticks": ""
            },
            "type": "mesh3d"
           }
          ],
          "parcoords": [
           {
            "line": {
             "colorbar": {
              "outlinewidth": 0,
              "ticks": ""
             }
            },
            "type": "parcoords"
           }
          ],
          "pie": [
           {
            "automargin": true,
            "type": "pie"
           }
          ],
          "scatter": [
           {
            "fillpattern": {
             "fillmode": "overlay",
             "size": 10,
             "solidity": 0.2
            },
            "type": "scatter"
           }
          ],
          "scatter3d": [
           {
            "line": {
             "colorbar": {
              "outlinewidth": 0,
              "ticks": ""
             }
            },
            "marker": {
             "colorbar": {
              "outlinewidth": 0,
              "ticks": ""
             }
            },
            "type": "scatter3d"
           }
          ],
          "scattercarpet": [
           {
            "marker": {
             "colorbar": {
              "outlinewidth": 0,
              "ticks": ""
             }
            },
            "type": "scattercarpet"
           }
          ],
          "scattergeo": [
           {
            "marker": {
             "colorbar": {
              "outlinewidth": 0,
              "ticks": ""
             }
            },
            "type": "scattergeo"
           }
          ],
          "scattergl": [
           {
            "marker": {
             "colorbar": {
              "outlinewidth": 0,
              "ticks": ""
             }
            },
            "type": "scattergl"
           }
          ],
          "scattermapbox": [
           {
            "marker": {
             "colorbar": {
              "outlinewidth": 0,
              "ticks": ""
             }
            },
            "type": "scattermapbox"
           }
          ],
          "scatterpolar": [
           {
            "marker": {
             "colorbar": {
              "outlinewidth": 0,
              "ticks": ""
             }
            },
            "type": "scatterpolar"
           }
          ],
          "scatterpolargl": [
           {
            "marker": {
             "colorbar": {
              "outlinewidth": 0,
              "ticks": ""
             }
            },
            "type": "scatterpolargl"
           }
          ],
          "scatterternary": [
           {
            "marker": {
             "colorbar": {
              "outlinewidth": 0,
              "ticks": ""
             }
            },
            "type": "scatterternary"
           }
          ],
          "surface": [
           {
            "colorbar": {
             "outlinewidth": 0,
             "ticks": ""
            },
            "colorscale": [
             [
              0,
              "#0d0887"
             ],
             [
              0.1111111111111111,
              "#46039f"
             ],
             [
              0.2222222222222222,
              "#7201a8"
             ],
             [
              0.3333333333333333,
              "#9c179e"
             ],
             [
              0.4444444444444444,
              "#bd3786"
             ],
             [
              0.5555555555555556,
              "#d8576b"
             ],
             [
              0.6666666666666666,
              "#ed7953"
             ],
             [
              0.7777777777777778,
              "#fb9f3a"
             ],
             [
              0.8888888888888888,
              "#fdca26"
             ],
             [
              1,
              "#f0f921"
             ]
            ],
            "type": "surface"
           }
          ],
          "table": [
           {
            "cells": {
             "fill": {
              "color": "#EBF0F8"
             },
             "line": {
              "color": "white"
             }
            },
            "header": {
             "fill": {
              "color": "#C8D4E3"
             },
             "line": {
              "color": "white"
             }
            },
            "type": "table"
           }
          ]
         },
         "layout": {
          "annotationdefaults": {
           "arrowcolor": "#2a3f5f",
           "arrowhead": 0,
           "arrowwidth": 1
          },
          "autotypenumbers": "strict",
          "coloraxis": {
           "colorbar": {
            "outlinewidth": 0,
            "ticks": ""
           }
          },
          "colorscale": {
           "diverging": [
            [
             0,
             "#8e0152"
            ],
            [
             0.1,
             "#c51b7d"
            ],
            [
             0.2,
             "#de77ae"
            ],
            [
             0.3,
             "#f1b6da"
            ],
            [
             0.4,
             "#fde0ef"
            ],
            [
             0.5,
             "#f7f7f7"
            ],
            [
             0.6,
             "#e6f5d0"
            ],
            [
             0.7,
             "#b8e186"
            ],
            [
             0.8,
             "#7fbc41"
            ],
            [
             0.9,
             "#4d9221"
            ],
            [
             1,
             "#276419"
            ]
           ],
           "sequential": [
            [
             0,
             "#0d0887"
            ],
            [
             0.1111111111111111,
             "#46039f"
            ],
            [
             0.2222222222222222,
             "#7201a8"
            ],
            [
             0.3333333333333333,
             "#9c179e"
            ],
            [
             0.4444444444444444,
             "#bd3786"
            ],
            [
             0.5555555555555556,
             "#d8576b"
            ],
            [
             0.6666666666666666,
             "#ed7953"
            ],
            [
             0.7777777777777778,
             "#fb9f3a"
            ],
            [
             0.8888888888888888,
             "#fdca26"
            ],
            [
             1,
             "#f0f921"
            ]
           ],
           "sequentialminus": [
            [
             0,
             "#0d0887"
            ],
            [
             0.1111111111111111,
             "#46039f"
            ],
            [
             0.2222222222222222,
             "#7201a8"
            ],
            [
             0.3333333333333333,
             "#9c179e"
            ],
            [
             0.4444444444444444,
             "#bd3786"
            ],
            [
             0.5555555555555556,
             "#d8576b"
            ],
            [
             0.6666666666666666,
             "#ed7953"
            ],
            [
             0.7777777777777778,
             "#fb9f3a"
            ],
            [
             0.8888888888888888,
             "#fdca26"
            ],
            [
             1,
             "#f0f921"
            ]
           ]
          },
          "colorway": [
           "#636efa",
           "#EF553B",
           "#00cc96",
           "#ab63fa",
           "#FFA15A",
           "#19d3f3",
           "#FF6692",
           "#B6E880",
           "#FF97FF",
           "#FECB52"
          ],
          "font": {
           "color": "#2a3f5f"
          },
          "geo": {
           "bgcolor": "white",
           "lakecolor": "white",
           "landcolor": "#E5ECF6",
           "showlakes": true,
           "showland": true,
           "subunitcolor": "white"
          },
          "hoverlabel": {
           "align": "left"
          },
          "hovermode": "closest",
          "mapbox": {
           "style": "light"
          },
          "paper_bgcolor": "white",
          "plot_bgcolor": "#E5ECF6",
          "polar": {
           "angularaxis": {
            "gridcolor": "white",
            "linecolor": "white",
            "ticks": ""
           },
           "bgcolor": "#E5ECF6",
           "radialaxis": {
            "gridcolor": "white",
            "linecolor": "white",
            "ticks": ""
           }
          },
          "scene": {
           "xaxis": {
            "backgroundcolor": "#E5ECF6",
            "gridcolor": "white",
            "gridwidth": 2,
            "linecolor": "white",
            "showbackground": true,
            "ticks": "",
            "zerolinecolor": "white"
           },
           "yaxis": {
            "backgroundcolor": "#E5ECF6",
            "gridcolor": "white",
            "gridwidth": 2,
            "linecolor": "white",
            "showbackground": true,
            "ticks": "",
            "zerolinecolor": "white"
           },
           "zaxis": {
            "backgroundcolor": "#E5ECF6",
            "gridcolor": "white",
            "gridwidth": 2,
            "linecolor": "white",
            "showbackground": true,
            "ticks": "",
            "zerolinecolor": "white"
           }
          },
          "shapedefaults": {
           "line": {
            "color": "#2a3f5f"
           }
          },
          "ternary": {
           "aaxis": {
            "gridcolor": "white",
            "linecolor": "white",
            "ticks": ""
           },
           "baxis": {
            "gridcolor": "white",
            "linecolor": "white",
            "ticks": ""
           },
           "bgcolor": "#E5ECF6",
           "caxis": {
            "gridcolor": "white",
            "linecolor": "white",
            "ticks": ""
           }
          },
          "title": {
           "x": 0.05
          },
          "xaxis": {
           "automargin": true,
           "gridcolor": "white",
           "linecolor": "white",
           "ticks": "",
           "title": {
            "standoff": 15
           },
           "zerolinecolor": "white",
           "zerolinewidth": 2
          },
          "yaxis": {
           "automargin": true,
           "gridcolor": "white",
           "linecolor": "white",
           "ticks": "",
           "title": {
            "standoff": 15
           },
           "zerolinecolor": "white",
           "zerolinewidth": 2
          }
         }
        },
        "updatemenus": [
         {
          "buttons": [
           {
            "args": [
             null,
             {
              "frame": {
               "duration": 120,
               "redraw": true
              },
              "fromcurrent": true,
              "transition": {
               "duration": 0
              }
             }
            ],
            "label": "Play",
            "method": "animate"
           },
           {
            "args": [
             [
              null
             ],
             {
              "frame": {
               "duration": 0,
               "redraw": true
              },
              "mode": "immediate",
              "transition": {
               "duration": 0
              }
             }
            ],
            "label": "Stop",
            "method": "animate"
           }
          ],
          "direction": "left",
          "pad": {
           "r": 10,
           "t": 75
          },
          "showactive": true,
          "type": "buttons",
          "x": 0.1,
          "xanchor": "right",
          "y": 0,
          "yanchor": "top"
         }
        ],
        "xaxis": {
         "range": [
          -15.28123776740046,
          60.2591021213957
         ],
         "title": {
          "text": "<i>x</i>"
         }
        },
        "yaxis": {
         "range": [
          1.5307112934299996,
          58.87031516404954
         ],
         "title": {
          "text": "<i>y</i>"
         }
        }
       }
      }
     },
     "metadata": {},
     "output_type": "display_data"
    }
   ],
   "source": [
    "import matplotlib.pyplot as plt\n",
    "from stonesoup.plotter import AnimatedPlotterly\n",
    "import plotly.graph_objects as go\n",
    "\n",
    "# Define the CustomAnimatedPlotter class\n",
    "class CustomAnimatedPlotter(AnimatedPlotterly):\n",
    "    def __init__(self, timesteps, tail_length=1):\n",
    "        super().__init__(timesteps, tail_length=tail_length)\n",
    "\n",
    "    def plot_field_of_view(self, fov_coords):\n",
    "        # Unpack FOV coordinates\n",
    "        x_min, x_max, y_min, y_max = fov_coords\n",
    "\n",
    "        # Draw the FOV rectangle\n",
    "        fov_trace = go.Scatter(\n",
    "            x=[x_min, x_max, x_max, x_min, x_min],\n",
    "            y=[y_min, y_min, y_max, y_max, y_min],\n",
    "            mode='lines',\n",
    "            fill='toself',\n",
    "            fillcolor='rgba(255, 0, 0, 0.2)',  # Red with opacity\n",
    "            line=dict(color='red', width=2),\n",
    "            name='Field of View (FOV)'\n",
    "        )\n",
    "\n",
    "        # Create a Plotly figure for the FOV\n",
    "        fig = go.Figure(data=[fov_trace])\n",
    "\n",
    "        # Set axis limits based on FOV coordinates\n",
    "        fig.update_xaxes(range=[x_min - 10, x_max + 10])\n",
    "        fig.update_yaxes(range=[y_min - 10, y_max + 10])\n",
    "\n",
    "        # Show the FOV plot\n",
    "        fig.show()\n",
    "\n",
    "# Instantiate the custom plotter\n",
    "plotter = CustomAnimatedPlotter(timesteps, tail_length=1)\n",
    "\n",
    "# Plot ground truths, measurements, tracks, etc.\n",
    "plotter.plot_ground_truths(truths, [0, 2])\n",
    "plotter.plot_measurements(all_measurements, [0, 2])\n",
    "plotter.plot_tracks(all_tracks, [0, 2], uncertainty=True)\n",
    "\n",
    "# Plot the field of view using Plotly\n",
    "plotter.plot_field_of_view(fov_coords)\n",
    "plotter.fig\n"
   ]
  }
 ],
 "metadata": {
  "kernelspec": {
   "display_name": "Python 3",
   "language": "python",
   "name": "python3"
  },
  "language_info": {
   "codemirror_mode": {
    "name": "ipython",
    "version": 3
   },
   "file_extension": ".py",
   "mimetype": "text/x-python",
   "name": "python",
   "nbconvert_exporter": "python",
   "pygments_lexer": "ipython3",
   "version": "3.8.5"
  },
  "orig_nbformat": 4
 },
 "nbformat": 4,
 "nbformat_minor": 2
}
