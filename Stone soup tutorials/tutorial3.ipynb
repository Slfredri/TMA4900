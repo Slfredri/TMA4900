{
 "cells": [
  {
   "cell_type": "code",
   "execution_count": 8,
   "metadata": {},
   "outputs": [],
   "source": [
    "import numpy as np \n",
    "from datetime import datetime, timedelta\n",
    "start_time = datetime.now().replace(microsecond=0)"
   ]
  },
  {
   "cell_type": "code",
   "execution_count": 9,
   "metadata": {},
   "outputs": [],
   "source": [
    "np.random.seed(1991)"
   ]
  },
  {
   "cell_type": "code",
   "execution_count": 10,
   "metadata": {},
   "outputs": [],
   "source": [
    "from stonesoup.types.groundtruth import GroundTruthPath, GroundTruthState\n",
    "from stonesoup.models.transition.linear import CombinedLinearGaussianTransitionModel, ConstantVelocity\n",
    "\n",
    "transition_model = CombinedLinearGaussianTransitionModel([ConstantVelocity(0.05), ConstantVelocity(0.05)])\n",
    "\n",
    "timesteps = [start_time]\n",
    "truth = GroundTruthPath([GroundTruthState([0,1,0,1], timestamp = timesteps[0])])\n",
    "\n",
    "for k in range(1, 21):\n",
    "    timesteps.append(start_time + timedelta(seconds = k))\n",
    "    truth.append(GroundTruthState(transition_model.function(truth[k-1], noise = True, time_interval = timedelta(seconds = 1)), timestamp = timesteps[k]))\n",
    "    "
   ]
  },
  {
   "cell_type": "code",
   "execution_count": 11,
   "metadata": {},
   "outputs": [
    {
     "data": {
      "application/vnd.plotly.v1+json": {
       "config": {
        "plotlyServerURL": "https://plot.ly"
       },
       "data": [
        {
         "hoverinfo": "none",
         "legendgroup": "Ground Truth",
         "legendrank": 100,
         "line": {
          "color": "#EF553B",
          "dash": "dash"
         },
         "mode": "lines",
         "name": "Ground Truth",
         "showlegend": true,
         "type": "scatter",
         "x": [],
         "y": []
        },
        {
         "hoverinfo": "none",
         "legendgroup": "Ground Truth",
         "legendrank": 100,
         "line": {
          "color": "#EF553B",
          "dash": "dash"
         },
         "mode": "lines",
         "name": "Ground Truth",
         "showlegend": false,
         "type": "scatter",
         "x": [],
         "y": []
        }
       ],
       "frames": [
        {
         "data": [
          {
           "type": "scatter",
           "x": [
            0,
            0
           ],
           "y": [
            0,
            0
           ]
          },
          {
           "hovertemplate": "GroundTruthState<br>(%{x}, %{y})<br>Time: %{meta}",
           "meta": [
            "2023-08-24 12:19:44"
           ],
           "type": "scatter",
           "x": [
            0,
            null
           ],
           "y": [
            0,
            null
           ]
          }
         ],
         "name": "2023-08-24 12:19:44",
         "traces": [
          0,
          1
         ]
        },
        {
         "data": [
          {
           "type": "scatter",
           "x": [
            0,
            0
           ],
           "y": [
            0,
            0
           ]
          },
          {
           "hovertemplate": "GroundTruthState<br>(%{x}, %{y})<br>Time: %{meta}",
           "meta": [
            "2023-08-24 12:19:44",
            "2023-08-24 12:19:45"
           ],
           "type": "scatter",
           "x": [
            0,
            1.177223465328352,
            null
           ],
           "y": [
            0,
            1.0006757513847795,
            null
           ]
          }
         ],
         "name": "2023-08-24 12:19:45",
         "traces": [
          0,
          1
         ]
        },
        {
         "data": [
          {
           "type": "scatter",
           "x": [
            0,
            0
           ],
           "y": [
            0,
            0
           ]
          },
          {
           "hovertemplate": "GroundTruthState<br>(%{x}, %{y})<br>Time: %{meta}",
           "meta": [
            "2023-08-24 12:19:44",
            "2023-08-24 12:19:45",
            "2023-08-24 12:19:46"
           ],
           "type": "scatter",
           "x": [
            0,
            1.177223465328352,
            2.275462874700381,
            null
           ],
           "y": [
            0,
            1.0006757513847795,
            2.0307275520116606,
            null
           ]
          }
         ],
         "name": "2023-08-24 12:19:46",
         "traces": [
          0,
          1
         ]
        },
        {
         "data": [
          {
           "type": "scatter",
           "x": [
            0,
            0
           ],
           "y": [
            0,
            0
           ]
          },
          {
           "hovertemplate": "GroundTruthState<br>(%{x}, %{y})<br>Time: %{meta}",
           "meta": [
            "2023-08-24 12:19:44",
            "2023-08-24 12:19:45",
            "2023-08-24 12:19:46",
            "2023-08-24 12:19:47"
           ],
           "type": "scatter",
           "x": [
            0,
            1.177223465328352,
            2.275462874700381,
            3.1560399703547963,
            null
           ],
           "y": [
            0,
            1.0006757513847795,
            2.0307275520116606,
            3.2076890985336823,
            null
           ]
          }
         ],
         "name": "2023-08-24 12:19:47",
         "traces": [
          0,
          1
         ]
        },
        {
         "data": [
          {
           "type": "scatter",
           "x": [
            0,
            0
           ],
           "y": [
            0,
            0
           ]
          },
          {
           "hovertemplate": "GroundTruthState<br>(%{x}, %{y})<br>Time: %{meta}",
           "meta": [
            "2023-08-24 12:19:44",
            "2023-08-24 12:19:45",
            "2023-08-24 12:19:46",
            "2023-08-24 12:19:47",
            "2023-08-24 12:19:48"
           ],
           "type": "scatter",
           "x": [
            0,
            1.177223465328352,
            2.275462874700381,
            3.1560399703547963,
            4.11148456878083,
            null
           ],
           "y": [
            0,
            1.0006757513847795,
            2.0307275520116606,
            3.2076890985336823,
            4.681546580969336,
            null
           ]
          }
         ],
         "name": "2023-08-24 12:19:48",
         "traces": [
          0,
          1
         ]
        },
        {
         "data": [
          {
           "type": "scatter",
           "x": [
            0,
            0
           ],
           "y": [
            0,
            0
           ]
          },
          {
           "hovertemplate": "GroundTruthState<br>(%{x}, %{y})<br>Time: %{meta}",
           "meta": [
            "2023-08-24 12:19:44",
            "2023-08-24 12:19:45",
            "2023-08-24 12:19:46",
            "2023-08-24 12:19:47",
            "2023-08-24 12:19:48",
            "2023-08-24 12:19:49"
           ],
           "type": "scatter",
           "x": [
            0,
            1.177223465328352,
            2.275462874700381,
            3.1560399703547963,
            4.11148456878083,
            5.06891869996823,
            null
           ],
           "y": [
            0,
            1.0006757513847795,
            2.0307275520116606,
            3.2076890985336823,
            4.681546580969336,
            6.424096316700446,
            null
           ]
          }
         ],
         "name": "2023-08-24 12:19:49",
         "traces": [
          0,
          1
         ]
        },
        {
         "data": [
          {
           "type": "scatter",
           "x": [
            0,
            0
           ],
           "y": [
            0,
            0
           ]
          },
          {
           "hovertemplate": "GroundTruthState<br>(%{x}, %{y})<br>Time: %{meta}",
           "meta": [
            "2023-08-24 12:19:44",
            "2023-08-24 12:19:45",
            "2023-08-24 12:19:46",
            "2023-08-24 12:19:47",
            "2023-08-24 12:19:48",
            "2023-08-24 12:19:49",
            "2023-08-24 12:19:50"
           ],
           "type": "scatter",
           "x": [
            0,
            1.177223465328352,
            2.275462874700381,
            3.1560399703547963,
            4.11148456878083,
            5.06891869996823,
            6.13410397013244,
            null
           ],
           "y": [
            0,
            1.0006757513847795,
            2.0307275520116606,
            3.2076890985336823,
            4.681546580969336,
            6.424096316700446,
            8.291557310607626,
            null
           ]
          }
         ],
         "name": "2023-08-24 12:19:50",
         "traces": [
          0,
          1
         ]
        },
        {
         "data": [
          {
           "type": "scatter",
           "x": [
            0,
            0
           ],
           "y": [
            0,
            0
           ]
          },
          {
           "hovertemplate": "GroundTruthState<br>(%{x}, %{y})<br>Time: %{meta}",
           "meta": [
            "2023-08-24 12:19:45",
            "2023-08-24 12:19:46",
            "2023-08-24 12:19:47",
            "2023-08-24 12:19:48",
            "2023-08-24 12:19:49",
            "2023-08-24 12:19:50",
            "2023-08-24 12:19:51"
           ],
           "type": "scatter",
           "x": [
            1.177223465328352,
            2.275462874700381,
            3.1560399703547963,
            4.11148456878083,
            5.06891869996823,
            6.13410397013244,
            7.3366615923514376,
            null
           ],
           "y": [
            1.0006757513847795,
            2.0307275520116606,
            3.2076890985336823,
            4.681546580969336,
            6.424096316700446,
            8.291557310607626,
            10.210133065599429,
            null
           ]
          }
         ],
         "name": "2023-08-24 12:19:51",
         "traces": [
          0,
          1
         ]
        },
        {
         "data": [
          {
           "type": "scatter",
           "x": [
            0,
            0
           ],
           "y": [
            0,
            0
           ]
          },
          {
           "hovertemplate": "GroundTruthState<br>(%{x}, %{y})<br>Time: %{meta}",
           "meta": [
            "2023-08-24 12:19:46",
            "2023-08-24 12:19:47",
            "2023-08-24 12:19:48",
            "2023-08-24 12:19:49",
            "2023-08-24 12:19:50",
            "2023-08-24 12:19:51",
            "2023-08-24 12:19:52"
           ],
           "type": "scatter",
           "x": [
            2.275462874700381,
            3.1560399703547963,
            4.11148456878083,
            5.06891869996823,
            6.13410397013244,
            7.3366615923514376,
            8.708739774094598,
            null
           ],
           "y": [
            2.0307275520116606,
            3.2076890985336823,
            4.681546580969336,
            6.424096316700446,
            8.291557310607626,
            10.210133065599429,
            12.639171131337447,
            null
           ]
          }
         ],
         "name": "2023-08-24 12:19:52",
         "traces": [
          0,
          1
         ]
        },
        {
         "data": [
          {
           "type": "scatter",
           "x": [
            0,
            0
           ],
           "y": [
            0,
            0
           ]
          },
          {
           "hovertemplate": "GroundTruthState<br>(%{x}, %{y})<br>Time: %{meta}",
           "meta": [
            "2023-08-24 12:19:47",
            "2023-08-24 12:19:48",
            "2023-08-24 12:19:49",
            "2023-08-24 12:19:50",
            "2023-08-24 12:19:51",
            "2023-08-24 12:19:52",
            "2023-08-24 12:19:53"
           ],
           "type": "scatter",
           "x": [
            3.1560399703547963,
            4.11148456878083,
            5.06891869996823,
            6.13410397013244,
            7.3366615923514376,
            8.708739774094598,
            9.661668970928945,
            null
           ],
           "y": [
            3.2076890985336823,
            4.681546580969336,
            6.424096316700446,
            8.291557310607626,
            10.210133065599429,
            12.639171131337447,
            15.077240437037124,
            null
           ]
          }
         ],
         "name": "2023-08-24 12:19:53",
         "traces": [
          0,
          1
         ]
        },
        {
         "data": [
          {
           "type": "scatter",
           "x": [
            0,
            0
           ],
           "y": [
            0,
            0
           ]
          },
          {
           "hovertemplate": "GroundTruthState<br>(%{x}, %{y})<br>Time: %{meta}",
           "meta": [
            "2023-08-24 12:19:48",
            "2023-08-24 12:19:49",
            "2023-08-24 12:19:50",
            "2023-08-24 12:19:51",
            "2023-08-24 12:19:52",
            "2023-08-24 12:19:53",
            "2023-08-24 12:19:54"
           ],
           "type": "scatter",
           "x": [
            4.11148456878083,
            5.06891869996823,
            6.13410397013244,
            7.3366615923514376,
            8.708739774094598,
            9.661668970928945,
            10.289427281808939,
            null
           ],
           "y": [
            4.681546580969336,
            6.424096316700446,
            8.291557310607626,
            10.210133065599429,
            12.639171131337447,
            15.077240437037124,
            17.463880393414996,
            null
           ]
          }
         ],
         "name": "2023-08-24 12:19:54",
         "traces": [
          0,
          1
         ]
        },
        {
         "data": [
          {
           "type": "scatter",
           "x": [
            0,
            0
           ],
           "y": [
            0,
            0
           ]
          },
          {
           "hovertemplate": "GroundTruthState<br>(%{x}, %{y})<br>Time: %{meta}",
           "meta": [
            "2023-08-24 12:19:49",
            "2023-08-24 12:19:50",
            "2023-08-24 12:19:51",
            "2023-08-24 12:19:52",
            "2023-08-24 12:19:53",
            "2023-08-24 12:19:54",
            "2023-08-24 12:19:55"
           ],
           "type": "scatter",
           "x": [
            5.06891869996823,
            6.13410397013244,
            7.3366615923514376,
            8.708739774094598,
            9.661668970928945,
            10.289427281808939,
            10.908516177930123,
            null
           ],
           "y": [
            6.424096316700446,
            8.291557310607626,
            10.210133065599429,
            12.639171131337447,
            15.077240437037124,
            17.463880393414996,
            19.922987588268054,
            null
           ]
          }
         ],
         "name": "2023-08-24 12:19:55",
         "traces": [
          0,
          1
         ]
        },
        {
         "data": [
          {
           "type": "scatter",
           "x": [
            0,
            0
           ],
           "y": [
            0,
            0
           ]
          },
          {
           "hovertemplate": "GroundTruthState<br>(%{x}, %{y})<br>Time: %{meta}",
           "meta": [
            "2023-08-24 12:19:50",
            "2023-08-24 12:19:51",
            "2023-08-24 12:19:52",
            "2023-08-24 12:19:53",
            "2023-08-24 12:19:54",
            "2023-08-24 12:19:55",
            "2023-08-24 12:19:56"
           ],
           "type": "scatter",
           "x": [
            6.13410397013244,
            7.3366615923514376,
            8.708739774094598,
            9.661668970928945,
            10.289427281808939,
            10.908516177930123,
            11.436494854095882,
            null
           ],
           "y": [
            8.291557310607626,
            10.210133065599429,
            12.639171131337447,
            15.077240437037124,
            17.463880393414996,
            19.922987588268054,
            22.43523846129129,
            null
           ]
          }
         ],
         "name": "2023-08-24 12:19:56",
         "traces": [
          0,
          1
         ]
        },
        {
         "data": [
          {
           "type": "scatter",
           "x": [
            0,
            0
           ],
           "y": [
            0,
            0
           ]
          },
          {
           "hovertemplate": "GroundTruthState<br>(%{x}, %{y})<br>Time: %{meta}",
           "meta": [
            "2023-08-24 12:19:51",
            "2023-08-24 12:19:52",
            "2023-08-24 12:19:53",
            "2023-08-24 12:19:54",
            "2023-08-24 12:19:55",
            "2023-08-24 12:19:56",
            "2023-08-24 12:19:57"
           ],
           "type": "scatter",
           "x": [
            7.3366615923514376,
            8.708739774094598,
            9.661668970928945,
            10.289427281808939,
            10.908516177930123,
            11.436494854095882,
            12.083757383111475,
            null
           ],
           "y": [
            10.210133065599429,
            12.639171131337447,
            15.077240437037124,
            17.463880393414996,
            19.922987588268054,
            22.43523846129129,
            25.226253707256983,
            null
           ]
          }
         ],
         "name": "2023-08-24 12:19:57",
         "traces": [
          0,
          1
         ]
        },
        {
         "data": [
          {
           "type": "scatter",
           "x": [
            0,
            0
           ],
           "y": [
            0,
            0
           ]
          },
          {
           "hovertemplate": "GroundTruthState<br>(%{x}, %{y})<br>Time: %{meta}",
           "meta": [
            "2023-08-24 12:19:52",
            "2023-08-24 12:19:53",
            "2023-08-24 12:19:54",
            "2023-08-24 12:19:55",
            "2023-08-24 12:19:56",
            "2023-08-24 12:19:57",
            "2023-08-24 12:19:58"
           ],
           "type": "scatter",
           "x": [
            8.708739774094598,
            9.661668970928945,
            10.289427281808939,
            10.908516177930123,
            11.436494854095882,
            12.083757383111475,
            12.857255540294025,
            null
           ],
           "y": [
            12.639171131337447,
            15.077240437037124,
            17.463880393414996,
            19.922987588268054,
            22.43523846129129,
            25.226253707256983,
            28.317087024384634,
            null
           ]
          }
         ],
         "name": "2023-08-24 12:19:58",
         "traces": [
          0,
          1
         ]
        },
        {
         "data": [
          {
           "type": "scatter",
           "x": [
            0,
            0
           ],
           "y": [
            0,
            0
           ]
          },
          {
           "hovertemplate": "GroundTruthState<br>(%{x}, %{y})<br>Time: %{meta}",
           "meta": [
            "2023-08-24 12:19:53",
            "2023-08-24 12:19:54",
            "2023-08-24 12:19:55",
            "2023-08-24 12:19:56",
            "2023-08-24 12:19:57",
            "2023-08-24 12:19:58",
            "2023-08-24 12:19:59"
           ],
           "type": "scatter",
           "x": [
            9.661668970928945,
            10.289427281808939,
            10.908516177930123,
            11.436494854095882,
            12.083757383111475,
            12.857255540294025,
            13.664009379110695,
            null
           ],
           "y": [
            15.077240437037124,
            17.463880393414996,
            19.922987588268054,
            22.43523846129129,
            25.226253707256983,
            28.317087024384634,
            31.653600280950233,
            null
           ]
          }
         ],
         "name": "2023-08-24 12:19:59",
         "traces": [
          0,
          1
         ]
        },
        {
         "data": [
          {
           "type": "scatter",
           "x": [
            0,
            0
           ],
           "y": [
            0,
            0
           ]
          },
          {
           "hovertemplate": "GroundTruthState<br>(%{x}, %{y})<br>Time: %{meta}",
           "meta": [
            "2023-08-24 12:19:54",
            "2023-08-24 12:19:55",
            "2023-08-24 12:19:56",
            "2023-08-24 12:19:57",
            "2023-08-24 12:19:58",
            "2023-08-24 12:19:59",
            "2023-08-24 12:20:00"
           ],
           "type": "scatter",
           "x": [
            10.289427281808939,
            10.908516177930123,
            11.436494854095882,
            12.083757383111475,
            12.857255540294025,
            13.664009379110695,
            14.660941996461847,
            null
           ],
           "y": [
            17.463880393414996,
            19.922987588268054,
            22.43523846129129,
            25.226253707256983,
            28.317087024384634,
            31.653600280950233,
            34.95982666405545,
            null
           ]
          }
         ],
         "name": "2023-08-24 12:20:00",
         "traces": [
          0,
          1
         ]
        },
        {
         "data": [
          {
           "type": "scatter",
           "x": [
            0,
            0
           ],
           "y": [
            0,
            0
           ]
          },
          {
           "hovertemplate": "GroundTruthState<br>(%{x}, %{y})<br>Time: %{meta}",
           "meta": [
            "2023-08-24 12:19:55",
            "2023-08-24 12:19:56",
            "2023-08-24 12:19:57",
            "2023-08-24 12:19:58",
            "2023-08-24 12:19:59",
            "2023-08-24 12:20:00",
            "2023-08-24 12:20:01"
           ],
           "type": "scatter",
           "x": [
            10.908516177930123,
            11.436494854095882,
            12.083757383111475,
            12.857255540294025,
            13.664009379110695,
            14.660941996461847,
            15.763691585187004,
            null
           ],
           "y": [
            19.922987588268054,
            22.43523846129129,
            25.226253707256983,
            28.317087024384634,
            31.653600280950233,
            34.95982666405545,
            38.32678424492485,
            null
           ]
          }
         ],
         "name": "2023-08-24 12:20:01",
         "traces": [
          0,
          1
         ]
        },
        {
         "data": [
          {
           "type": "scatter",
           "x": [
            0,
            0
           ],
           "y": [
            0,
            0
           ]
          },
          {
           "hovertemplate": "GroundTruthState<br>(%{x}, %{y})<br>Time: %{meta}",
           "meta": [
            "2023-08-24 12:19:56",
            "2023-08-24 12:19:57",
            "2023-08-24 12:19:58",
            "2023-08-24 12:19:59",
            "2023-08-24 12:20:00",
            "2023-08-24 12:20:01",
            "2023-08-24 12:20:02"
           ],
           "type": "scatter",
           "x": [
            11.436494854095882,
            12.083757383111475,
            12.857255540294025,
            13.664009379110695,
            14.660941996461847,
            15.763691585187004,
            16.994297584708747,
            null
           ],
           "y": [
            22.43523846129129,
            25.226253707256983,
            28.317087024384634,
            31.653600280950233,
            34.95982666405545,
            38.32678424492485,
            41.65059655664205,
            null
           ]
          }
         ],
         "name": "2023-08-24 12:20:02",
         "traces": [
          0,
          1
         ]
        },
        {
         "data": [
          {
           "type": "scatter",
           "x": [
            0,
            0
           ],
           "y": [
            0,
            0
           ]
          },
          {
           "hovertemplate": "GroundTruthState<br>(%{x}, %{y})<br>Time: %{meta}",
           "meta": [
            "2023-08-24 12:19:57",
            "2023-08-24 12:19:58",
            "2023-08-24 12:19:59",
            "2023-08-24 12:20:00",
            "2023-08-24 12:20:01",
            "2023-08-24 12:20:02",
            "2023-08-24 12:20:03"
           ],
           "type": "scatter",
           "x": [
            12.083757383111475,
            12.857255540294025,
            13.664009379110695,
            14.660941996461847,
            15.763691585187004,
            16.994297584708747,
            18.302114239501257,
            null
           ],
           "y": [
            25.226253707256983,
            28.317087024384634,
            31.653600280950233,
            34.95982666405545,
            38.32678424492485,
            41.65059655664205,
            44.94718306572588,
            null
           ]
          }
         ],
         "name": "2023-08-24 12:20:03",
         "traces": [
          0,
          1
         ]
        },
        {
         "data": [
          {
           "type": "scatter",
           "x": [
            0,
            0
           ],
           "y": [
            0,
            0
           ]
          },
          {
           "hovertemplate": "GroundTruthState<br>(%{x}, %{y})<br>Time: %{meta}",
           "meta": [
            "2023-08-24 12:19:58",
            "2023-08-24 12:19:59",
            "2023-08-24 12:20:00",
            "2023-08-24 12:20:01",
            "2023-08-24 12:20:02",
            "2023-08-24 12:20:03",
            "2023-08-24 12:20:04"
           ],
           "type": "scatter",
           "x": [
            12.857255540294025,
            13.664009379110695,
            14.660941996461847,
            15.763691585187004,
            16.994297584708747,
            18.302114239501257,
            19.719724360267328,
            null
           ],
           "y": [
            28.317087024384634,
            31.653600280950233,
            34.95982666405545,
            38.32678424492485,
            41.65059655664205,
            44.94718306572588,
            48.066958689446075,
            null
           ]
          }
         ],
         "name": "2023-08-24 12:20:04",
         "traces": [
          0,
          1
         ]
        }
       ],
       "layout": {
        "autosize": true,
        "colorway": [
         "#EF553B",
         "#00CC96",
         "#AB63FA",
         "#FFA15A",
         "#19D3F3",
         "#FF6692",
         "#B6E880",
         "#FF97FF",
         "#FECB52"
        ],
        "height": 550,
        "sliders": [
         {
          "currentvalue": {
           "font": {
            "size": 16
           },
           "prefix": "Time: ",
           "visible": true,
           "xanchor": "right"
          },
          "len": 0.9,
          "pad": {
           "b": 10,
           "t": 50
          },
          "steps": [
           {
            "args": [
             [
              "2023-08-24 12:19:44"
             ],
             {
              "frame": {
               "duration": 1,
               "easing": "linear",
               "redraw": true
              },
              "transition": {
               "duration": 0,
               "easing": "linear"
              }
             }
            ],
            "label": "12:19:44",
            "method": "animate"
           },
           {
            "args": [
             [
              "2023-08-24 12:19:45"
             ],
             {
              "frame": {
               "duration": 1,
               "easing": "linear",
               "redraw": true
              },
              "transition": {
               "duration": 0,
               "easing": "linear"
              }
             }
            ],
            "label": "12:19:45",
            "method": "animate"
           },
           {
            "args": [
             [
              "2023-08-24 12:19:46"
             ],
             {
              "frame": {
               "duration": 1,
               "easing": "linear",
               "redraw": true
              },
              "transition": {
               "duration": 0,
               "easing": "linear"
              }
             }
            ],
            "label": "12:19:46",
            "method": "animate"
           },
           {
            "args": [
             [
              "2023-08-24 12:19:47"
             ],
             {
              "frame": {
               "duration": 1,
               "easing": "linear",
               "redraw": true
              },
              "transition": {
               "duration": 0,
               "easing": "linear"
              }
             }
            ],
            "label": "12:19:47",
            "method": "animate"
           },
           {
            "args": [
             [
              "2023-08-24 12:19:48"
             ],
             {
              "frame": {
               "duration": 1,
               "easing": "linear",
               "redraw": true
              },
              "transition": {
               "duration": 0,
               "easing": "linear"
              }
             }
            ],
            "label": "12:19:48",
            "method": "animate"
           },
           {
            "args": [
             [
              "2023-08-24 12:19:49"
             ],
             {
              "frame": {
               "duration": 1,
               "easing": "linear",
               "redraw": true
              },
              "transition": {
               "duration": 0,
               "easing": "linear"
              }
             }
            ],
            "label": "12:19:49",
            "method": "animate"
           },
           {
            "args": [
             [
              "2023-08-24 12:19:50"
             ],
             {
              "frame": {
               "duration": 1,
               "easing": "linear",
               "redraw": true
              },
              "transition": {
               "duration": 0,
               "easing": "linear"
              }
             }
            ],
            "label": "12:19:50",
            "method": "animate"
           },
           {
            "args": [
             [
              "2023-08-24 12:19:51"
             ],
             {
              "frame": {
               "duration": 1,
               "easing": "linear",
               "redraw": true
              },
              "transition": {
               "duration": 0,
               "easing": "linear"
              }
             }
            ],
            "label": "12:19:51",
            "method": "animate"
           },
           {
            "args": [
             [
              "2023-08-24 12:19:52"
             ],
             {
              "frame": {
               "duration": 1,
               "easing": "linear",
               "redraw": true
              },
              "transition": {
               "duration": 0,
               "easing": "linear"
              }
             }
            ],
            "label": "12:19:52",
            "method": "animate"
           },
           {
            "args": [
             [
              "2023-08-24 12:19:53"
             ],
             {
              "frame": {
               "duration": 1,
               "easing": "linear",
               "redraw": true
              },
              "transition": {
               "duration": 0,
               "easing": "linear"
              }
             }
            ],
            "label": "12:19:53",
            "method": "animate"
           },
           {
            "args": [
             [
              "2023-08-24 12:19:54"
             ],
             {
              "frame": {
               "duration": 1,
               "easing": "linear",
               "redraw": true
              },
              "transition": {
               "duration": 0,
               "easing": "linear"
              }
             }
            ],
            "label": "12:19:54",
            "method": "animate"
           },
           {
            "args": [
             [
              "2023-08-24 12:19:55"
             ],
             {
              "frame": {
               "duration": 1,
               "easing": "linear",
               "redraw": true
              },
              "transition": {
               "duration": 0,
               "easing": "linear"
              }
             }
            ],
            "label": "12:19:55",
            "method": "animate"
           },
           {
            "args": [
             [
              "2023-08-24 12:19:56"
             ],
             {
              "frame": {
               "duration": 1,
               "easing": "linear",
               "redraw": true
              },
              "transition": {
               "duration": 0,
               "easing": "linear"
              }
             }
            ],
            "label": "12:19:56",
            "method": "animate"
           },
           {
            "args": [
             [
              "2023-08-24 12:19:57"
             ],
             {
              "frame": {
               "duration": 1,
               "easing": "linear",
               "redraw": true
              },
              "transition": {
               "duration": 0,
               "easing": "linear"
              }
             }
            ],
            "label": "12:19:57",
            "method": "animate"
           },
           {
            "args": [
             [
              "2023-08-24 12:19:58"
             ],
             {
              "frame": {
               "duration": 1,
               "easing": "linear",
               "redraw": true
              },
              "transition": {
               "duration": 0,
               "easing": "linear"
              }
             }
            ],
            "label": "12:19:58",
            "method": "animate"
           },
           {
            "args": [
             [
              "2023-08-24 12:19:59"
             ],
             {
              "frame": {
               "duration": 1,
               "easing": "linear",
               "redraw": true
              },
              "transition": {
               "duration": 0,
               "easing": "linear"
              }
             }
            ],
            "label": "12:19:59",
            "method": "animate"
           },
           {
            "args": [
             [
              "2023-08-24 12:20:00"
             ],
             {
              "frame": {
               "duration": 1,
               "easing": "linear",
               "redraw": true
              },
              "transition": {
               "duration": 0,
               "easing": "linear"
              }
             }
            ],
            "label": "12:20:00",
            "method": "animate"
           },
           {
            "args": [
             [
              "2023-08-24 12:20:01"
             ],
             {
              "frame": {
               "duration": 1,
               "easing": "linear",
               "redraw": true
              },
              "transition": {
               "duration": 0,
               "easing": "linear"
              }
             }
            ],
            "label": "12:20:01",
            "method": "animate"
           },
           {
            "args": [
             [
              "2023-08-24 12:20:02"
             ],
             {
              "frame": {
               "duration": 1,
               "easing": "linear",
               "redraw": true
              },
              "transition": {
               "duration": 0,
               "easing": "linear"
              }
             }
            ],
            "label": "12:20:02",
            "method": "animate"
           },
           {
            "args": [
             [
              "2023-08-24 12:20:03"
             ],
             {
              "frame": {
               "duration": 1,
               "easing": "linear",
               "redraw": true
              },
              "transition": {
               "duration": 0,
               "easing": "linear"
              }
             }
            ],
            "label": "12:20:03",
            "method": "animate"
           },
           {
            "args": [
             [
              "2023-08-24 12:20:04"
             ],
             {
              "frame": {
               "duration": 1,
               "easing": "linear",
               "redraw": true
              },
              "transition": {
               "duration": 0,
               "easing": "linear"
              }
             }
            ],
            "label": "12:20:04",
            "method": "animate"
           }
          ],
          "transition": {
           "duration": 285.7142857142857,
           "easing": "linear"
          },
          "x": 0.1,
          "xanchor": "left",
          "y": 0,
          "yanchor": "top"
         }
        ],
        "template": {
         "data": {
          "bar": [
           {
            "error_x": {
             "color": "#2a3f5f"
            },
            "error_y": {
             "color": "#2a3f5f"
            },
            "marker": {
             "line": {
              "color": "#E5ECF6",
              "width": 0.5
             },
             "pattern": {
              "fillmode": "overlay",
              "size": 10,
              "solidity": 0.2
             }
            },
            "type": "bar"
           }
          ],
          "barpolar": [
           {
            "marker": {
             "line": {
              "color": "#E5ECF6",
              "width": 0.5
             },
             "pattern": {
              "fillmode": "overlay",
              "size": 10,
              "solidity": 0.2
             }
            },
            "type": "barpolar"
           }
          ],
          "carpet": [
           {
            "aaxis": {
             "endlinecolor": "#2a3f5f",
             "gridcolor": "white",
             "linecolor": "white",
             "minorgridcolor": "white",
             "startlinecolor": "#2a3f5f"
            },
            "baxis": {
             "endlinecolor": "#2a3f5f",
             "gridcolor": "white",
             "linecolor": "white",
             "minorgridcolor": "white",
             "startlinecolor": "#2a3f5f"
            },
            "type": "carpet"
           }
          ],
          "choropleth": [
           {
            "colorbar": {
             "outlinewidth": 0,
             "ticks": ""
            },
            "type": "choropleth"
           }
          ],
          "contour": [
           {
            "colorbar": {
             "outlinewidth": 0,
             "ticks": ""
            },
            "colorscale": [
             [
              0,
              "#0d0887"
             ],
             [
              0.1111111111111111,
              "#46039f"
             ],
             [
              0.2222222222222222,
              "#7201a8"
             ],
             [
              0.3333333333333333,
              "#9c179e"
             ],
             [
              0.4444444444444444,
              "#bd3786"
             ],
             [
              0.5555555555555556,
              "#d8576b"
             ],
             [
              0.6666666666666666,
              "#ed7953"
             ],
             [
              0.7777777777777778,
              "#fb9f3a"
             ],
             [
              0.8888888888888888,
              "#fdca26"
             ],
             [
              1,
              "#f0f921"
             ]
            ],
            "type": "contour"
           }
          ],
          "contourcarpet": [
           {
            "colorbar": {
             "outlinewidth": 0,
             "ticks": ""
            },
            "type": "contourcarpet"
           }
          ],
          "heatmap": [
           {
            "colorbar": {
             "outlinewidth": 0,
             "ticks": ""
            },
            "colorscale": [
             [
              0,
              "#0d0887"
             ],
             [
              0.1111111111111111,
              "#46039f"
             ],
             [
              0.2222222222222222,
              "#7201a8"
             ],
             [
              0.3333333333333333,
              "#9c179e"
             ],
             [
              0.4444444444444444,
              "#bd3786"
             ],
             [
              0.5555555555555556,
              "#d8576b"
             ],
             [
              0.6666666666666666,
              "#ed7953"
             ],
             [
              0.7777777777777778,
              "#fb9f3a"
             ],
             [
              0.8888888888888888,
              "#fdca26"
             ],
             [
              1,
              "#f0f921"
             ]
            ],
            "type": "heatmap"
           }
          ],
          "heatmapgl": [
           {
            "colorbar": {
             "outlinewidth": 0,
             "ticks": ""
            },
            "colorscale": [
             [
              0,
              "#0d0887"
             ],
             [
              0.1111111111111111,
              "#46039f"
             ],
             [
              0.2222222222222222,
              "#7201a8"
             ],
             [
              0.3333333333333333,
              "#9c179e"
             ],
             [
              0.4444444444444444,
              "#bd3786"
             ],
             [
              0.5555555555555556,
              "#d8576b"
             ],
             [
              0.6666666666666666,
              "#ed7953"
             ],
             [
              0.7777777777777778,
              "#fb9f3a"
             ],
             [
              0.8888888888888888,
              "#fdca26"
             ],
             [
              1,
              "#f0f921"
             ]
            ],
            "type": "heatmapgl"
           }
          ],
          "histogram": [
           {
            "marker": {
             "pattern": {
              "fillmode": "overlay",
              "size": 10,
              "solidity": 0.2
             }
            },
            "type": "histogram"
           }
          ],
          "histogram2d": [
           {
            "colorbar": {
             "outlinewidth": 0,
             "ticks": ""
            },
            "colorscale": [
             [
              0,
              "#0d0887"
             ],
             [
              0.1111111111111111,
              "#46039f"
             ],
             [
              0.2222222222222222,
              "#7201a8"
             ],
             [
              0.3333333333333333,
              "#9c179e"
             ],
             [
              0.4444444444444444,
              "#bd3786"
             ],
             [
              0.5555555555555556,
              "#d8576b"
             ],
             [
              0.6666666666666666,
              "#ed7953"
             ],
             [
              0.7777777777777778,
              "#fb9f3a"
             ],
             [
              0.8888888888888888,
              "#fdca26"
             ],
             [
              1,
              "#f0f921"
             ]
            ],
            "type": "histogram2d"
           }
          ],
          "histogram2dcontour": [
           {
            "colorbar": {
             "outlinewidth": 0,
             "ticks": ""
            },
            "colorscale": [
             [
              0,
              "#0d0887"
             ],
             [
              0.1111111111111111,
              "#46039f"
             ],
             [
              0.2222222222222222,
              "#7201a8"
             ],
             [
              0.3333333333333333,
              "#9c179e"
             ],
             [
              0.4444444444444444,
              "#bd3786"
             ],
             [
              0.5555555555555556,
              "#d8576b"
             ],
             [
              0.6666666666666666,
              "#ed7953"
             ],
             [
              0.7777777777777778,
              "#fb9f3a"
             ],
             [
              0.8888888888888888,
              "#fdca26"
             ],
             [
              1,
              "#f0f921"
             ]
            ],
            "type": "histogram2dcontour"
           }
          ],
          "mesh3d": [
           {
            "colorbar": {
             "outlinewidth": 0,
             "ticks": ""
            },
            "type": "mesh3d"
           }
          ],
          "parcoords": [
           {
            "line": {
             "colorbar": {
              "outlinewidth": 0,
              "ticks": ""
             }
            },
            "type": "parcoords"
           }
          ],
          "pie": [
           {
            "automargin": true,
            "type": "pie"
           }
          ],
          "scatter": [
           {
            "fillpattern": {
             "fillmode": "overlay",
             "size": 10,
             "solidity": 0.2
            },
            "type": "scatter"
           }
          ],
          "scatter3d": [
           {
            "line": {
             "colorbar": {
              "outlinewidth": 0,
              "ticks": ""
             }
            },
            "marker": {
             "colorbar": {
              "outlinewidth": 0,
              "ticks": ""
             }
            },
            "type": "scatter3d"
           }
          ],
          "scattercarpet": [
           {
            "marker": {
             "colorbar": {
              "outlinewidth": 0,
              "ticks": ""
             }
            },
            "type": "scattercarpet"
           }
          ],
          "scattergeo": [
           {
            "marker": {
             "colorbar": {
              "outlinewidth": 0,
              "ticks": ""
             }
            },
            "type": "scattergeo"
           }
          ],
          "scattergl": [
           {
            "marker": {
             "colorbar": {
              "outlinewidth": 0,
              "ticks": ""
             }
            },
            "type": "scattergl"
           }
          ],
          "scattermapbox": [
           {
            "marker": {
             "colorbar": {
              "outlinewidth": 0,
              "ticks": ""
             }
            },
            "type": "scattermapbox"
           }
          ],
          "scatterpolar": [
           {
            "marker": {
             "colorbar": {
              "outlinewidth": 0,
              "ticks": ""
             }
            },
            "type": "scatterpolar"
           }
          ],
          "scatterpolargl": [
           {
            "marker": {
             "colorbar": {
              "outlinewidth": 0,
              "ticks": ""
             }
            },
            "type": "scatterpolargl"
           }
          ],
          "scatterternary": [
           {
            "marker": {
             "colorbar": {
              "outlinewidth": 0,
              "ticks": ""
             }
            },
            "type": "scatterternary"
           }
          ],
          "surface": [
           {
            "colorbar": {
             "outlinewidth": 0,
             "ticks": ""
            },
            "colorscale": [
             [
              0,
              "#0d0887"
             ],
             [
              0.1111111111111111,
              "#46039f"
             ],
             [
              0.2222222222222222,
              "#7201a8"
             ],
             [
              0.3333333333333333,
              "#9c179e"
             ],
             [
              0.4444444444444444,
              "#bd3786"
             ],
             [
              0.5555555555555556,
              "#d8576b"
             ],
             [
              0.6666666666666666,
              "#ed7953"
             ],
             [
              0.7777777777777778,
              "#fb9f3a"
             ],
             [
              0.8888888888888888,
              "#fdca26"
             ],
             [
              1,
              "#f0f921"
             ]
            ],
            "type": "surface"
           }
          ],
          "table": [
           {
            "cells": {
             "fill": {
              "color": "#EBF0F8"
             },
             "line": {
              "color": "white"
             }
            },
            "header": {
             "fill": {
              "color": "#C8D4E3"
             },
             "line": {
              "color": "white"
             }
            },
            "type": "table"
           }
          ]
         },
         "layout": {
          "annotationdefaults": {
           "arrowcolor": "#2a3f5f",
           "arrowhead": 0,
           "arrowwidth": 1
          },
          "autotypenumbers": "strict",
          "coloraxis": {
           "colorbar": {
            "outlinewidth": 0,
            "ticks": ""
           }
          },
          "colorscale": {
           "diverging": [
            [
             0,
             "#8e0152"
            ],
            [
             0.1,
             "#c51b7d"
            ],
            [
             0.2,
             "#de77ae"
            ],
            [
             0.3,
             "#f1b6da"
            ],
            [
             0.4,
             "#fde0ef"
            ],
            [
             0.5,
             "#f7f7f7"
            ],
            [
             0.6,
             "#e6f5d0"
            ],
            [
             0.7,
             "#b8e186"
            ],
            [
             0.8,
             "#7fbc41"
            ],
            [
             0.9,
             "#4d9221"
            ],
            [
             1,
             "#276419"
            ]
           ],
           "sequential": [
            [
             0,
             "#0d0887"
            ],
            [
             0.1111111111111111,
             "#46039f"
            ],
            [
             0.2222222222222222,
             "#7201a8"
            ],
            [
             0.3333333333333333,
             "#9c179e"
            ],
            [
             0.4444444444444444,
             "#bd3786"
            ],
            [
             0.5555555555555556,
             "#d8576b"
            ],
            [
             0.6666666666666666,
             "#ed7953"
            ],
            [
             0.7777777777777778,
             "#fb9f3a"
            ],
            [
             0.8888888888888888,
             "#fdca26"
            ],
            [
             1,
             "#f0f921"
            ]
           ],
           "sequentialminus": [
            [
             0,
             "#0d0887"
            ],
            [
             0.1111111111111111,
             "#46039f"
            ],
            [
             0.2222222222222222,
             "#7201a8"
            ],
            [
             0.3333333333333333,
             "#9c179e"
            ],
            [
             0.4444444444444444,
             "#bd3786"
            ],
            [
             0.5555555555555556,
             "#d8576b"
            ],
            [
             0.6666666666666666,
             "#ed7953"
            ],
            [
             0.7777777777777778,
             "#fb9f3a"
            ],
            [
             0.8888888888888888,
             "#fdca26"
            ],
            [
             1,
             "#f0f921"
            ]
           ]
          },
          "colorway": [
           "#636efa",
           "#EF553B",
           "#00cc96",
           "#ab63fa",
           "#FFA15A",
           "#19d3f3",
           "#FF6692",
           "#B6E880",
           "#FF97FF",
           "#FECB52"
          ],
          "font": {
           "color": "#2a3f5f"
          },
          "geo": {
           "bgcolor": "white",
           "lakecolor": "white",
           "landcolor": "#E5ECF6",
           "showlakes": true,
           "showland": true,
           "subunitcolor": "white"
          },
          "hoverlabel": {
           "align": "left"
          },
          "hovermode": "closest",
          "mapbox": {
           "style": "light"
          },
          "paper_bgcolor": "white",
          "plot_bgcolor": "#E5ECF6",
          "polar": {
           "angularaxis": {
            "gridcolor": "white",
            "linecolor": "white",
            "ticks": ""
           },
           "bgcolor": "#E5ECF6",
           "radialaxis": {
            "gridcolor": "white",
            "linecolor": "white",
            "ticks": ""
           }
          },
          "scene": {
           "xaxis": {
            "backgroundcolor": "#E5ECF6",
            "gridcolor": "white",
            "gridwidth": 2,
            "linecolor": "white",
            "showbackground": true,
            "ticks": "",
            "zerolinecolor": "white"
           },
           "yaxis": {
            "backgroundcolor": "#E5ECF6",
            "gridcolor": "white",
            "gridwidth": 2,
            "linecolor": "white",
            "showbackground": true,
            "ticks": "",
            "zerolinecolor": "white"
           },
           "zaxis": {
            "backgroundcolor": "#E5ECF6",
            "gridcolor": "white",
            "gridwidth": 2,
            "linecolor": "white",
            "showbackground": true,
            "ticks": "",
            "zerolinecolor": "white"
           }
          },
          "shapedefaults": {
           "line": {
            "color": "#2a3f5f"
           }
          },
          "ternary": {
           "aaxis": {
            "gridcolor": "white",
            "linecolor": "white",
            "ticks": ""
           },
           "baxis": {
            "gridcolor": "white",
            "linecolor": "white",
            "ticks": ""
           },
           "bgcolor": "#E5ECF6",
           "caxis": {
            "gridcolor": "white",
            "linecolor": "white",
            "ticks": ""
           }
          },
          "title": {
           "x": 0.05
          },
          "xaxis": {
           "automargin": true,
           "gridcolor": "white",
           "linecolor": "white",
           "ticks": "",
           "title": {
            "standoff": 15
           },
           "zerolinecolor": "white",
           "zerolinewidth": 2
          },
          "yaxis": {
           "automargin": true,
           "gridcolor": "white",
           "linecolor": "white",
           "ticks": "",
           "title": {
            "standoff": 15
           },
           "zerolinecolor": "white",
           "zerolinewidth": 2
          }
         }
        },
        "updatemenus": [
         {
          "buttons": [
           {
            "args": [
             null,
             {
              "frame": {
               "duration": 285.7142857142857,
               "redraw": true
              },
              "fromcurrent": true,
              "transition": {
               "duration": 0
              }
             }
            ],
            "label": "Play",
            "method": "animate"
           },
           {
            "args": [
             [
              null
             ],
             {
              "frame": {
               "duration": 0,
               "redraw": true
              },
              "mode": "immediate",
              "transition": {
               "duration": 0
              }
             }
            ],
            "label": "Stop",
            "method": "animate"
           }
          ],
          "direction": "left",
          "pad": {
           "r": 10,
           "t": 75
          },
          "showactive": true,
          "type": "buttons",
          "x": 0.1,
          "xanchor": "right",
          "y": 0,
          "yanchor": "top"
         }
        ],
        "xaxis": {
         "range": [
          -0.9859862180133664,
          20.705710578280694
         ],
         "title": {
          "text": "<i>x</i>"
         }
        },
        "yaxis": {
         "range": [
          -2.4033479344723037,
          50.470306623918376
         ],
         "title": {
          "text": "<i>y</i>"
         }
        }
       }
      }
     },
     "metadata": {},
     "output_type": "display_data"
    }
   ],
   "source": [
    "from stonesoup.plotter import AnimatedPlotterly\n",
    "plotter = AnimatedPlotterly(timesteps, tail_length=0.3)\n",
    "plotter.plot_ground_truths(truth, [0, 2])\n",
    "plotter.fig"
   ]
  },
  {
   "cell_type": "code",
   "execution_count": 12,
   "metadata": {},
   "outputs": [],
   "source": [
    "from stonesoup.models.measurement.nonlinear import CartesianToBearingRange\n",
    "\n",
    "sensor_x = 50\n",
    "sensor_y = 0\n",
    "\n",
    "measurement_model = CartesianToBearingRange(ndim_state = 4,\n",
    "                                            mapping = (0,2),\n",
    "                                            noise_covar = np.diag([np.radians(0.2), 1]),\n",
    "                                            translation_offset = np.array([[sensor_x], [sensor_y]]))"
   ]
  },
  {
   "cell_type": "code",
   "execution_count": 13,
   "metadata": {},
   "outputs": [],
   "source": [
    "from stonesoup.types.detection import Detection\n",
    "\n",
    "measurements = []\n",
    "\n",
    "for state in truth:\n",
    "    measurement = measurement_model.function(state, noise = True)\n",
    "    measurements.append(Detection(measurement, timestamp = state.timestamp, measurement_model = measurement_model))\n"
   ]
  },
  {
   "cell_type": "code",
   "execution_count": 14,
   "metadata": {},
   "outputs": [
    {
     "data": {
      "application/vnd.plotly.v1+json": {
       "config": {
        "plotlyServerURL": "https://plot.ly"
       },
       "data": [
        {
         "hoverinfo": "none",
         "legendgroup": "Ground Truth",
         "legendrank": 100,
         "line": {
          "color": "#EF553B",
          "dash": "dash"
         },
         "mode": "lines",
         "name": "Ground Truth",
         "showlegend": true,
         "type": "scatter",
         "x": [],
         "y": []
        },
        {
         "hoverinfo": "none",
         "legendgroup": "Ground Truth",
         "legendrank": 100,
         "line": {
          "color": "#EF553B",
          "dash": "dash"
         },
         "mode": "lines",
         "name": "Ground Truth",
         "showlegend": false,
         "type": "scatter",
         "x": [],
         "y": []
        },
        {
         "hoverinfo": "none",
         "legendgroup": "Detections (Measurements)",
         "legendrank": 200,
         "marker": {
          "color": "#636EFA"
         },
         "mode": "markers",
         "name": "Measurements<br>(Detections)",
         "showlegend": true,
         "type": "scatter",
         "x": [],
         "y": []
        },
        {
         "hoverinfo": "none",
         "legendgroup": "Detections (Measurements)",
         "legendrank": 200,
         "marker": {
          "color": "#636EFA"
         },
         "mode": "markers",
         "name": "Measurements<br>(Detections)",
         "showlegend": false,
         "type": "scatter",
         "x": [],
         "y": []
        },
        {
         "hoverinfo": "none",
         "legendgroup": "Clutter",
         "legendrank": 300,
         "marker": {
          "color": "#FECB52",
          "symbol": "star-triangle-up"
         },
         "mode": "markers",
         "name": "Measurements<br>(Clutter)",
         "showlegend": true,
         "type": "scatter",
         "x": [],
         "y": []
        }
       ],
       "frames": [
        {
         "data": [
          {
           "type": "scatter",
           "x": [
            0,
            0
           ],
           "y": [
            0,
            0
           ]
          },
          {
           "hovertemplate": "GroundTruthState<br>(%{x}, %{y})<br>Time: %{meta}",
           "meta": [
            "2023-08-24 12:19:44"
           ],
           "type": "scatter",
           "x": [
            0,
            null
           ],
           "y": [
            0,
            null
           ]
          },
          {
           "type": "scatter",
           "x": [
            null,
            null
           ],
           "y": [
            null,
            null
           ]
          },
          {
           "hovertemplate": "Detection<br>(%{x}, %{y})<br>Time: %{meta}",
           "meta": [
            "2023-08-24 12:19:44"
           ],
           "type": "scatter",
           "x": [
            2.221819350783221,
            null
           ],
           "y": [
            -0.9499062386905731,
            null
           ]
          }
         ],
         "name": "2023-08-24 12:19:44",
         "traces": [
          0,
          1,
          2,
          3
         ]
        },
        {
         "data": [
          {
           "type": "scatter",
           "x": [
            0,
            0
           ],
           "y": [
            0,
            0
           ]
          },
          {
           "hovertemplate": "GroundTruthState<br>(%{x}, %{y})<br>Time: %{meta}",
           "meta": [
            "2023-08-24 12:19:44",
            "2023-08-24 12:19:45"
           ],
           "type": "scatter",
           "x": [
            0,
            1.177223465328352,
            null
           ],
           "y": [
            0,
            1.0006757513847795,
            null
           ]
          },
          {
           "type": "scatter",
           "x": [
            null,
            null
           ],
           "y": [
            null,
            null
           ]
          },
          {
           "hovertemplate": "Detection<br>(%{x}, %{y})<br>Time: %{meta}",
           "meta": [
            "2023-08-24 12:19:44",
            "2023-08-24 12:19:45"
           ],
           "type": "scatter",
           "x": [
            2.221819350783221,
            1.549042106302693,
            null
           ],
           "y": [
            -0.9499062386905731,
            -2.188124288687379,
            null
           ]
          }
         ],
         "name": "2023-08-24 12:19:45",
         "traces": [
          0,
          1,
          2,
          3
         ]
        },
        {
         "data": [
          {
           "type": "scatter",
           "x": [
            0,
            0
           ],
           "y": [
            0,
            0
           ]
          },
          {
           "hovertemplate": "GroundTruthState<br>(%{x}, %{y})<br>Time: %{meta}",
           "meta": [
            "2023-08-24 12:19:44",
            "2023-08-24 12:19:45",
            "2023-08-24 12:19:46"
           ],
           "type": "scatter",
           "x": [
            0,
            1.177223465328352,
            2.275462874700381,
            null
           ],
           "y": [
            0,
            1.0006757513847795,
            2.0307275520116606,
            null
           ]
          },
          {
           "type": "scatter",
           "x": [
            null,
            null
           ],
           "y": [
            null,
            null
           ]
          },
          {
           "hovertemplate": "Detection<br>(%{x}, %{y})<br>Time: %{meta}",
           "meta": [
            "2023-08-24 12:19:44",
            "2023-08-24 12:19:45",
            "2023-08-24 12:19:46"
           ],
           "type": "scatter",
           "x": [
            2.221819350783221,
            1.549042106302693,
            4.1185639808006655,
            null
           ],
           "y": [
            -0.9499062386905731,
            -2.188124288687379,
            11.127224359918513,
            null
           ]
          }
         ],
         "name": "2023-08-24 12:19:46",
         "traces": [
          0,
          1,
          2,
          3
         ]
        },
        {
         "data": [
          {
           "type": "scatter",
           "x": [
            0,
            0
           ],
           "y": [
            0,
            0
           ]
          },
          {
           "hovertemplate": "GroundTruthState<br>(%{x}, %{y})<br>Time: %{meta}",
           "meta": [
            "2023-08-24 12:19:44",
            "2023-08-24 12:19:45",
            "2023-08-24 12:19:46",
            "2023-08-24 12:19:47"
           ],
           "type": "scatter",
           "x": [
            0,
            1.177223465328352,
            2.275462874700381,
            3.1560399703547963,
            null
           ],
           "y": [
            0,
            1.0006757513847795,
            2.0307275520116606,
            3.2076890985336823,
            null
           ]
          },
          {
           "type": "scatter",
           "x": [
            null,
            null
           ],
           "y": [
            null,
            null
           ]
          },
          {
           "hovertemplate": "Detection<br>(%{x}, %{y})<br>Time: %{meta}",
           "meta": [
            "2023-08-24 12:19:44",
            "2023-08-24 12:19:45",
            "2023-08-24 12:19:46",
            "2023-08-24 12:19:47"
           ],
           "type": "scatter",
           "x": [
            2.221819350783221,
            1.549042106302693,
            4.1185639808006655,
            4.534156951991264,
            null
           ],
           "y": [
            -0.9499062386905731,
            -2.188124288687379,
            11.127224359918513,
            4.770342745174409,
            null
           ]
          }
         ],
         "name": "2023-08-24 12:19:47",
         "traces": [
          0,
          1,
          2,
          3
         ]
        },
        {
         "data": [
          {
           "type": "scatter",
           "x": [
            0,
            0
           ],
           "y": [
            0,
            0
           ]
          },
          {
           "hovertemplate": "GroundTruthState<br>(%{x}, %{y})<br>Time: %{meta}",
           "meta": [
            "2023-08-24 12:19:44",
            "2023-08-24 12:19:45",
            "2023-08-24 12:19:46",
            "2023-08-24 12:19:47",
            "2023-08-24 12:19:48"
           ],
           "type": "scatter",
           "x": [
            0,
            1.177223465328352,
            2.275462874700381,
            3.1560399703547963,
            4.11148456878083,
            null
           ],
           "y": [
            0,
            1.0006757513847795,
            2.0307275520116606,
            3.2076890985336823,
            4.681546580969336,
            null
           ]
          },
          {
           "type": "scatter",
           "x": [
            null,
            null
           ],
           "y": [
            null,
            null
           ]
          },
          {
           "hovertemplate": "Detection<br>(%{x}, %{y})<br>Time: %{meta}",
           "meta": [
            "2023-08-24 12:19:44",
            "2023-08-24 12:19:45",
            "2023-08-24 12:19:46",
            "2023-08-24 12:19:47",
            "2023-08-24 12:19:48"
           ],
           "type": "scatter",
           "x": [
            2.221819350783221,
            1.549042106302693,
            4.1185639808006655,
            4.534156951991264,
            4.473015456288891,
            null
           ],
           "y": [
            -0.9499062386905731,
            -2.188124288687379,
            11.127224359918513,
            4.770342745174409,
            4.421986485240061,
            null
           ]
          }
         ],
         "name": "2023-08-24 12:19:48",
         "traces": [
          0,
          1,
          2,
          3
         ]
        },
        {
         "data": [
          {
           "type": "scatter",
           "x": [
            0,
            0
           ],
           "y": [
            0,
            0
           ]
          },
          {
           "hovertemplate": "GroundTruthState<br>(%{x}, %{y})<br>Time: %{meta}",
           "meta": [
            "2023-08-24 12:19:44",
            "2023-08-24 12:19:45",
            "2023-08-24 12:19:46",
            "2023-08-24 12:19:47",
            "2023-08-24 12:19:48",
            "2023-08-24 12:19:49"
           ],
           "type": "scatter",
           "x": [
            0,
            1.177223465328352,
            2.275462874700381,
            3.1560399703547963,
            4.11148456878083,
            5.06891869996823,
            null
           ],
           "y": [
            0,
            1.0006757513847795,
            2.0307275520116606,
            3.2076890985336823,
            4.681546580969336,
            6.424096316700446,
            null
           ]
          },
          {
           "type": "scatter",
           "x": [
            null,
            null
           ],
           "y": [
            null,
            null
           ]
          },
          {
           "hovertemplate": "Detection<br>(%{x}, %{y})<br>Time: %{meta}",
           "meta": [
            "2023-08-24 12:19:44",
            "2023-08-24 12:19:45",
            "2023-08-24 12:19:46",
            "2023-08-24 12:19:47",
            "2023-08-24 12:19:48",
            "2023-08-24 12:19:49"
           ],
           "type": "scatter",
           "x": [
            2.221819350783221,
            1.549042106302693,
            4.1185639808006655,
            4.534156951991264,
            4.473015456288891,
            5.832101951594829,
            null
           ],
           "y": [
            -0.9499062386905731,
            -2.188124288687379,
            11.127224359918513,
            4.770342745174409,
            4.421986485240061,
            9.132252939840042,
            null
           ]
          }
         ],
         "name": "2023-08-24 12:19:49",
         "traces": [
          0,
          1,
          2,
          3
         ]
        },
        {
         "data": [
          {
           "type": "scatter",
           "x": [
            0,
            0
           ],
           "y": [
            0,
            0
           ]
          },
          {
           "hovertemplate": "GroundTruthState<br>(%{x}, %{y})<br>Time: %{meta}",
           "meta": [
            "2023-08-24 12:19:44",
            "2023-08-24 12:19:45",
            "2023-08-24 12:19:46",
            "2023-08-24 12:19:47",
            "2023-08-24 12:19:48",
            "2023-08-24 12:19:49",
            "2023-08-24 12:19:50"
           ],
           "type": "scatter",
           "x": [
            0,
            1.177223465328352,
            2.275462874700381,
            3.1560399703547963,
            4.11148456878083,
            5.06891869996823,
            6.13410397013244,
            null
           ],
           "y": [
            0,
            1.0006757513847795,
            2.0307275520116606,
            3.2076890985336823,
            4.681546580969336,
            6.424096316700446,
            8.291557310607626,
            null
           ]
          },
          {
           "type": "scatter",
           "x": [
            null,
            null
           ],
           "y": [
            null,
            null
           ]
          },
          {
           "hovertemplate": "Detection<br>(%{x}, %{y})<br>Time: %{meta}",
           "meta": [
            "2023-08-24 12:19:44",
            "2023-08-24 12:19:45",
            "2023-08-24 12:19:46",
            "2023-08-24 12:19:47",
            "2023-08-24 12:19:48",
            "2023-08-24 12:19:49",
            "2023-08-24 12:19:50"
           ],
           "type": "scatter",
           "x": [
            2.221819350783221,
            1.549042106302693,
            4.1185639808006655,
            4.534156951991264,
            4.473015456288891,
            5.832101951594829,
            4.671810836553469,
            null
           ],
           "y": [
            -0.9499062386905731,
            -2.188124288687379,
            11.127224359918513,
            4.770342745174409,
            4.421986485240061,
            9.132252939840042,
            9.016148199021414,
            null
           ]
          }
         ],
         "name": "2023-08-24 12:19:50",
         "traces": [
          0,
          1,
          2,
          3
         ]
        },
        {
         "data": [
          {
           "type": "scatter",
           "x": [
            0,
            0
           ],
           "y": [
            0,
            0
           ]
          },
          {
           "hovertemplate": "GroundTruthState<br>(%{x}, %{y})<br>Time: %{meta}",
           "meta": [
            "2023-08-24 12:19:45",
            "2023-08-24 12:19:46",
            "2023-08-24 12:19:47",
            "2023-08-24 12:19:48",
            "2023-08-24 12:19:49",
            "2023-08-24 12:19:50",
            "2023-08-24 12:19:51"
           ],
           "type": "scatter",
           "x": [
            1.177223465328352,
            2.275462874700381,
            3.1560399703547963,
            4.11148456878083,
            5.06891869996823,
            6.13410397013244,
            7.3366615923514376,
            null
           ],
           "y": [
            1.0006757513847795,
            2.0307275520116606,
            3.2076890985336823,
            4.681546580969336,
            6.424096316700446,
            8.291557310607626,
            10.210133065599429,
            null
           ]
          },
          {
           "type": "scatter",
           "x": [
            null,
            null
           ],
           "y": [
            null,
            null
           ]
          },
          {
           "hovertemplate": "Detection<br>(%{x}, %{y})<br>Time: %{meta}",
           "meta": [
            "2023-08-24 12:19:45",
            "2023-08-24 12:19:46",
            "2023-08-24 12:19:47",
            "2023-08-24 12:19:48",
            "2023-08-24 12:19:49",
            "2023-08-24 12:19:50",
            "2023-08-24 12:19:51"
           ],
           "type": "scatter",
           "x": [
            1.549042106302693,
            4.1185639808006655,
            4.534156951991264,
            4.473015456288891,
            5.832101951594829,
            4.671810836553469,
            6.911778516695591,
            null
           ],
           "y": [
            -2.188124288687379,
            11.127224359918513,
            4.770342745174409,
            4.421986485240061,
            9.132252939840042,
            9.016148199021414,
            6.676642845595845,
            null
           ]
          }
         ],
         "name": "2023-08-24 12:19:51",
         "traces": [
          0,
          1,
          2,
          3
         ]
        },
        {
         "data": [
          {
           "type": "scatter",
           "x": [
            0,
            0
           ],
           "y": [
            0,
            0
           ]
          },
          {
           "hovertemplate": "GroundTruthState<br>(%{x}, %{y})<br>Time: %{meta}",
           "meta": [
            "2023-08-24 12:19:46",
            "2023-08-24 12:19:47",
            "2023-08-24 12:19:48",
            "2023-08-24 12:19:49",
            "2023-08-24 12:19:50",
            "2023-08-24 12:19:51",
            "2023-08-24 12:19:52"
           ],
           "type": "scatter",
           "x": [
            2.275462874700381,
            3.1560399703547963,
            4.11148456878083,
            5.06891869996823,
            6.13410397013244,
            7.3366615923514376,
            8.708739774094598,
            null
           ],
           "y": [
            2.0307275520116606,
            3.2076890985336823,
            4.681546580969336,
            6.424096316700446,
            8.291557310607626,
            10.210133065599429,
            12.639171131337447,
            null
           ]
          },
          {
           "type": "scatter",
           "x": [
            null,
            null
           ],
           "y": [
            null,
            null
           ]
          },
          {
           "hovertemplate": "Detection<br>(%{x}, %{y})<br>Time: %{meta}",
           "meta": [
            "2023-08-24 12:19:46",
            "2023-08-24 12:19:47",
            "2023-08-24 12:19:48",
            "2023-08-24 12:19:49",
            "2023-08-24 12:19:50",
            "2023-08-24 12:19:51",
            "2023-08-24 12:19:52"
           ],
           "type": "scatter",
           "x": [
            4.1185639808006655,
            4.534156951991264,
            4.473015456288891,
            5.832101951594829,
            4.671810836553469,
            6.911778516695591,
            9.916077567508744,
            null
           ],
           "y": [
            11.127224359918513,
            4.770342745174409,
            4.421986485240061,
            9.132252939840042,
            9.016148199021414,
            6.676642845595845,
            13.098478086148488,
            null
           ]
          }
         ],
         "name": "2023-08-24 12:19:52",
         "traces": [
          0,
          1,
          2,
          3
         ]
        },
        {
         "data": [
          {
           "type": "scatter",
           "x": [
            0,
            0
           ],
           "y": [
            0,
            0
           ]
          },
          {
           "hovertemplate": "GroundTruthState<br>(%{x}, %{y})<br>Time: %{meta}",
           "meta": [
            "2023-08-24 12:19:47",
            "2023-08-24 12:19:48",
            "2023-08-24 12:19:49",
            "2023-08-24 12:19:50",
            "2023-08-24 12:19:51",
            "2023-08-24 12:19:52",
            "2023-08-24 12:19:53"
           ],
           "type": "scatter",
           "x": [
            3.1560399703547963,
            4.11148456878083,
            5.06891869996823,
            6.13410397013244,
            7.3366615923514376,
            8.708739774094598,
            9.661668970928945,
            null
           ],
           "y": [
            3.2076890985336823,
            4.681546580969336,
            6.424096316700446,
            8.291557310607626,
            10.210133065599429,
            12.639171131337447,
            15.077240437037124,
            null
           ]
          },
          {
           "type": "scatter",
           "x": [
            null,
            null
           ],
           "y": [
            null,
            null
           ]
          },
          {
           "hovertemplate": "Detection<br>(%{x}, %{y})<br>Time: %{meta}",
           "meta": [
            "2023-08-24 12:19:47",
            "2023-08-24 12:19:48",
            "2023-08-24 12:19:49",
            "2023-08-24 12:19:50",
            "2023-08-24 12:19:51",
            "2023-08-24 12:19:52",
            "2023-08-24 12:19:53"
           ],
           "type": "scatter",
           "x": [
            4.534156951991264,
            4.473015456288891,
            5.832101951594829,
            4.671810836553469,
            6.911778516695591,
            9.916077567508744,
            13.220645587904379,
            null
           ],
           "y": [
            4.770342745174409,
            4.421986485240061,
            9.132252939840042,
            9.016148199021414,
            6.676642845595845,
            13.098478086148488,
            19.91019957588045,
            null
           ]
          }
         ],
         "name": "2023-08-24 12:19:53",
         "traces": [
          0,
          1,
          2,
          3
         ]
        },
        {
         "data": [
          {
           "type": "scatter",
           "x": [
            0,
            0
           ],
           "y": [
            0,
            0
           ]
          },
          {
           "hovertemplate": "GroundTruthState<br>(%{x}, %{y})<br>Time: %{meta}",
           "meta": [
            "2023-08-24 12:19:48",
            "2023-08-24 12:19:49",
            "2023-08-24 12:19:50",
            "2023-08-24 12:19:51",
            "2023-08-24 12:19:52",
            "2023-08-24 12:19:53",
            "2023-08-24 12:19:54"
           ],
           "type": "scatter",
           "x": [
            4.11148456878083,
            5.06891869996823,
            6.13410397013244,
            7.3366615923514376,
            8.708739774094598,
            9.661668970928945,
            10.289427281808939,
            null
           ],
           "y": [
            4.681546580969336,
            6.424096316700446,
            8.291557310607626,
            10.210133065599429,
            12.639171131337447,
            15.077240437037124,
            17.463880393414996,
            null
           ]
          },
          {
           "type": "scatter",
           "x": [
            null,
            null
           ],
           "y": [
            null,
            null
           ]
          },
          {
           "hovertemplate": "Detection<br>(%{x}, %{y})<br>Time: %{meta}",
           "meta": [
            "2023-08-24 12:19:48",
            "2023-08-24 12:19:49",
            "2023-08-24 12:19:50",
            "2023-08-24 12:19:51",
            "2023-08-24 12:19:52",
            "2023-08-24 12:19:53",
            "2023-08-24 12:19:54"
           ],
           "type": "scatter",
           "x": [
            4.473015456288891,
            5.832101951594829,
            4.671810836553469,
            6.911778516695591,
            9.916077567508744,
            13.220645587904379,
            9.849936778112074,
            null
           ],
           "y": [
            4.421986485240061,
            9.132252939840042,
            9.016148199021414,
            6.676642845595845,
            13.098478086148488,
            19.91019957588045,
            16.49658945828849,
            null
           ]
          }
         ],
         "name": "2023-08-24 12:19:54",
         "traces": [
          0,
          1,
          2,
          3
         ]
        },
        {
         "data": [
          {
           "type": "scatter",
           "x": [
            0,
            0
           ],
           "y": [
            0,
            0
           ]
          },
          {
           "hovertemplate": "GroundTruthState<br>(%{x}, %{y})<br>Time: %{meta}",
           "meta": [
            "2023-08-24 12:19:49",
            "2023-08-24 12:19:50",
            "2023-08-24 12:19:51",
            "2023-08-24 12:19:52",
            "2023-08-24 12:19:53",
            "2023-08-24 12:19:54",
            "2023-08-24 12:19:55"
           ],
           "type": "scatter",
           "x": [
            5.06891869996823,
            6.13410397013244,
            7.3366615923514376,
            8.708739774094598,
            9.661668970928945,
            10.289427281808939,
            10.908516177930123,
            null
           ],
           "y": [
            6.424096316700446,
            8.291557310607626,
            10.210133065599429,
            12.639171131337447,
            15.077240437037124,
            17.463880393414996,
            19.922987588268054,
            null
           ]
          },
          {
           "type": "scatter",
           "x": [
            null,
            null
           ],
           "y": [
            null,
            null
           ]
          },
          {
           "hovertemplate": "Detection<br>(%{x}, %{y})<br>Time: %{meta}",
           "meta": [
            "2023-08-24 12:19:49",
            "2023-08-24 12:19:50",
            "2023-08-24 12:19:51",
            "2023-08-24 12:19:52",
            "2023-08-24 12:19:53",
            "2023-08-24 12:19:54",
            "2023-08-24 12:19:55"
           ],
           "type": "scatter",
           "x": [
            5.832101951594829,
            4.671810836553469,
            6.911778516695591,
            9.916077567508744,
            13.220645587904379,
            9.849936778112074,
            11.551415784923037,
            null
           ],
           "y": [
            9.132252939840042,
            9.016148199021414,
            6.676642845595845,
            13.098478086148488,
            19.91019957588045,
            16.49658945828849,
            20.2252725135359,
            null
           ]
          }
         ],
         "name": "2023-08-24 12:19:55",
         "traces": [
          0,
          1,
          2,
          3
         ]
        },
        {
         "data": [
          {
           "type": "scatter",
           "x": [
            0,
            0
           ],
           "y": [
            0,
            0
           ]
          },
          {
           "hovertemplate": "GroundTruthState<br>(%{x}, %{y})<br>Time: %{meta}",
           "meta": [
            "2023-08-24 12:19:50",
            "2023-08-24 12:19:51",
            "2023-08-24 12:19:52",
            "2023-08-24 12:19:53",
            "2023-08-24 12:19:54",
            "2023-08-24 12:19:55",
            "2023-08-24 12:19:56"
           ],
           "type": "scatter",
           "x": [
            6.13410397013244,
            7.3366615923514376,
            8.708739774094598,
            9.661668970928945,
            10.289427281808939,
            10.908516177930123,
            11.436494854095882,
            null
           ],
           "y": [
            8.291557310607626,
            10.210133065599429,
            12.639171131337447,
            15.077240437037124,
            17.463880393414996,
            19.922987588268054,
            22.43523846129129,
            null
           ]
          },
          {
           "type": "scatter",
           "x": [
            null,
            null
           ],
           "y": [
            null,
            null
           ]
          },
          {
           "hovertemplate": "Detection<br>(%{x}, %{y})<br>Time: %{meta}",
           "meta": [
            "2023-08-24 12:19:50",
            "2023-08-24 12:19:51",
            "2023-08-24 12:19:52",
            "2023-08-24 12:19:53",
            "2023-08-24 12:19:54",
            "2023-08-24 12:19:55",
            "2023-08-24 12:19:56"
           ],
           "type": "scatter",
           "x": [
            4.671810836553469,
            6.911778516695591,
            9.916077567508744,
            13.220645587904379,
            9.849936778112074,
            11.551415784923037,
            13.495870684052171,
            null
           ],
           "y": [
            9.016148199021414,
            6.676642845595845,
            13.098478086148488,
            19.91019957588045,
            16.49658945828849,
            20.2252725135359,
            26.375572252575715,
            null
           ]
          }
         ],
         "name": "2023-08-24 12:19:56",
         "traces": [
          0,
          1,
          2,
          3
         ]
        },
        {
         "data": [
          {
           "type": "scatter",
           "x": [
            0,
            0
           ],
           "y": [
            0,
            0
           ]
          },
          {
           "hovertemplate": "GroundTruthState<br>(%{x}, %{y})<br>Time: %{meta}",
           "meta": [
            "2023-08-24 12:19:51",
            "2023-08-24 12:19:52",
            "2023-08-24 12:19:53",
            "2023-08-24 12:19:54",
            "2023-08-24 12:19:55",
            "2023-08-24 12:19:56",
            "2023-08-24 12:19:57"
           ],
           "type": "scatter",
           "x": [
            7.3366615923514376,
            8.708739774094598,
            9.661668970928945,
            10.289427281808939,
            10.908516177930123,
            11.436494854095882,
            12.083757383111475,
            null
           ],
           "y": [
            10.210133065599429,
            12.639171131337447,
            15.077240437037124,
            17.463880393414996,
            19.922987588268054,
            22.43523846129129,
            25.226253707256983,
            null
           ]
          },
          {
           "type": "scatter",
           "x": [
            null,
            null
           ],
           "y": [
            null,
            null
           ]
          },
          {
           "hovertemplate": "Detection<br>(%{x}, %{y})<br>Time: %{meta}",
           "meta": [
            "2023-08-24 12:19:51",
            "2023-08-24 12:19:52",
            "2023-08-24 12:19:53",
            "2023-08-24 12:19:54",
            "2023-08-24 12:19:55",
            "2023-08-24 12:19:56",
            "2023-08-24 12:19:57"
           ],
           "type": "scatter",
           "x": [
            6.911778516695591,
            9.916077567508744,
            13.220645587904379,
            9.849936778112074,
            11.551415784923037,
            13.495870684052171,
            9.210581625879016,
            null
           ],
           "y": [
            6.676642845595845,
            13.098478086148488,
            19.91019957588045,
            16.49658945828849,
            20.2252725135359,
            26.375572252575715,
            20.92614686262786,
            null
           ]
          }
         ],
         "name": "2023-08-24 12:19:57",
         "traces": [
          0,
          1,
          2,
          3
         ]
        },
        {
         "data": [
          {
           "type": "scatter",
           "x": [
            0,
            0
           ],
           "y": [
            0,
            0
           ]
          },
          {
           "hovertemplate": "GroundTruthState<br>(%{x}, %{y})<br>Time: %{meta}",
           "meta": [
            "2023-08-24 12:19:52",
            "2023-08-24 12:19:53",
            "2023-08-24 12:19:54",
            "2023-08-24 12:19:55",
            "2023-08-24 12:19:56",
            "2023-08-24 12:19:57",
            "2023-08-24 12:19:58"
           ],
           "type": "scatter",
           "x": [
            8.708739774094598,
            9.661668970928945,
            10.289427281808939,
            10.908516177930123,
            11.436494854095882,
            12.083757383111475,
            12.857255540294025,
            null
           ],
           "y": [
            12.639171131337447,
            15.077240437037124,
            17.463880393414996,
            19.922987588268054,
            22.43523846129129,
            25.226253707256983,
            28.317087024384634,
            null
           ]
          },
          {
           "type": "scatter",
           "x": [
            null,
            null
           ],
           "y": [
            null,
            null
           ]
          },
          {
           "hovertemplate": "Detection<br>(%{x}, %{y})<br>Time: %{meta}",
           "meta": [
            "2023-08-24 12:19:52",
            "2023-08-24 12:19:53",
            "2023-08-24 12:19:54",
            "2023-08-24 12:19:55",
            "2023-08-24 12:19:56",
            "2023-08-24 12:19:57",
            "2023-08-24 12:19:58"
           ],
           "type": "scatter",
           "x": [
            9.916077567508744,
            13.220645587904379,
            9.849936778112074,
            11.551415784923037,
            13.495870684052171,
            9.210581625879016,
            14.82617191695391,
            null
           ],
           "y": [
            13.098478086148488,
            19.91019957588045,
            16.49658945828849,
            20.2252725135359,
            26.375572252575715,
            20.92614686262786,
            29.981721626438464,
            null
           ]
          }
         ],
         "name": "2023-08-24 12:19:58",
         "traces": [
          0,
          1,
          2,
          3
         ]
        },
        {
         "data": [
          {
           "type": "scatter",
           "x": [
            0,
            0
           ],
           "y": [
            0,
            0
           ]
          },
          {
           "hovertemplate": "GroundTruthState<br>(%{x}, %{y})<br>Time: %{meta}",
           "meta": [
            "2023-08-24 12:19:53",
            "2023-08-24 12:19:54",
            "2023-08-24 12:19:55",
            "2023-08-24 12:19:56",
            "2023-08-24 12:19:57",
            "2023-08-24 12:19:58",
            "2023-08-24 12:19:59"
           ],
           "type": "scatter",
           "x": [
            9.661668970928945,
            10.289427281808939,
            10.908516177930123,
            11.436494854095882,
            12.083757383111475,
            12.857255540294025,
            13.664009379110695,
            null
           ],
           "y": [
            15.077240437037124,
            17.463880393414996,
            19.922987588268054,
            22.43523846129129,
            25.226253707256983,
            28.317087024384634,
            31.653600280950233,
            null
           ]
          },
          {
           "type": "scatter",
           "x": [
            null,
            null
           ],
           "y": [
            null,
            null
           ]
          },
          {
           "hovertemplate": "Detection<br>(%{x}, %{y})<br>Time: %{meta}",
           "meta": [
            "2023-08-24 12:19:53",
            "2023-08-24 12:19:54",
            "2023-08-24 12:19:55",
            "2023-08-24 12:19:56",
            "2023-08-24 12:19:57",
            "2023-08-24 12:19:58",
            "2023-08-24 12:19:59"
           ],
           "type": "scatter",
           "x": [
            13.220645587904379,
            9.849936778112074,
            11.551415784923037,
            13.495870684052171,
            9.210581625879016,
            14.82617191695391,
            11.69408565874592,
            null
           ],
           "y": [
            19.91019957588045,
            16.49658945828849,
            20.2252725135359,
            26.375572252575715,
            20.92614686262786,
            29.981721626438464,
            27.230418264224394,
            null
           ]
          }
         ],
         "name": "2023-08-24 12:19:59",
         "traces": [
          0,
          1,
          2,
          3
         ]
        },
        {
         "data": [
          {
           "type": "scatter",
           "x": [
            0,
            0
           ],
           "y": [
            0,
            0
           ]
          },
          {
           "hovertemplate": "GroundTruthState<br>(%{x}, %{y})<br>Time: %{meta}",
           "meta": [
            "2023-08-24 12:19:54",
            "2023-08-24 12:19:55",
            "2023-08-24 12:19:56",
            "2023-08-24 12:19:57",
            "2023-08-24 12:19:58",
            "2023-08-24 12:19:59",
            "2023-08-24 12:20:00"
           ],
           "type": "scatter",
           "x": [
            10.289427281808939,
            10.908516177930123,
            11.436494854095882,
            12.083757383111475,
            12.857255540294025,
            13.664009379110695,
            14.660941996461847,
            null
           ],
           "y": [
            17.463880393414996,
            19.922987588268054,
            22.43523846129129,
            25.226253707256983,
            28.317087024384634,
            31.653600280950233,
            34.95982666405545,
            null
           ]
          },
          {
           "type": "scatter",
           "x": [
            null,
            null
           ],
           "y": [
            null,
            null
           ]
          },
          {
           "hovertemplate": "Detection<br>(%{x}, %{y})<br>Time: %{meta}",
           "meta": [
            "2023-08-24 12:19:54",
            "2023-08-24 12:19:55",
            "2023-08-24 12:19:56",
            "2023-08-24 12:19:57",
            "2023-08-24 12:19:58",
            "2023-08-24 12:19:59",
            "2023-08-24 12:20:00"
           ],
           "type": "scatter",
           "x": [
            9.849936778112074,
            11.551415784923037,
            13.495870684052171,
            9.210581625879016,
            14.82617191695391,
            11.69408565874592,
            16.034063908529554,
            null
           ],
           "y": [
            16.49658945828849,
            20.2252725135359,
            26.375572252575715,
            20.92614686262786,
            29.981721626438464,
            27.230418264224394,
            36.07693971814103,
            null
           ]
          }
         ],
         "name": "2023-08-24 12:20:00",
         "traces": [
          0,
          1,
          2,
          3
         ]
        },
        {
         "data": [
          {
           "type": "scatter",
           "x": [
            0,
            0
           ],
           "y": [
            0,
            0
           ]
          },
          {
           "hovertemplate": "GroundTruthState<br>(%{x}, %{y})<br>Time: %{meta}",
           "meta": [
            "2023-08-24 12:19:55",
            "2023-08-24 12:19:56",
            "2023-08-24 12:19:57",
            "2023-08-24 12:19:58",
            "2023-08-24 12:19:59",
            "2023-08-24 12:20:00",
            "2023-08-24 12:20:01"
           ],
           "type": "scatter",
           "x": [
            10.908516177930123,
            11.436494854095882,
            12.083757383111475,
            12.857255540294025,
            13.664009379110695,
            14.660941996461847,
            15.763691585187004,
            null
           ],
           "y": [
            19.922987588268054,
            22.43523846129129,
            25.226253707256983,
            28.317087024384634,
            31.653600280950233,
            34.95982666405545,
            38.32678424492485,
            null
           ]
          },
          {
           "type": "scatter",
           "x": [
            null,
            null
           ],
           "y": [
            null,
            null
           ]
          },
          {
           "hovertemplate": "Detection<br>(%{x}, %{y})<br>Time: %{meta}",
           "meta": [
            "2023-08-24 12:19:55",
            "2023-08-24 12:19:56",
            "2023-08-24 12:19:57",
            "2023-08-24 12:19:58",
            "2023-08-24 12:19:59",
            "2023-08-24 12:20:00",
            "2023-08-24 12:20:01"
           ],
           "type": "scatter",
           "x": [
            11.551415784923037,
            13.495870684052171,
            9.210581625879016,
            14.82617191695391,
            11.69408565874592,
            16.034063908529554,
            19.222623463959337,
            null
           ],
           "y": [
            20.2252725135359,
            26.375572252575715,
            20.92614686262786,
            29.981721626438464,
            27.230418264224394,
            36.07693971814103,
            39.61561849446899,
            null
           ]
          }
         ],
         "name": "2023-08-24 12:20:01",
         "traces": [
          0,
          1,
          2,
          3
         ]
        },
        {
         "data": [
          {
           "type": "scatter",
           "x": [
            0,
            0
           ],
           "y": [
            0,
            0
           ]
          },
          {
           "hovertemplate": "GroundTruthState<br>(%{x}, %{y})<br>Time: %{meta}",
           "meta": [
            "2023-08-24 12:19:56",
            "2023-08-24 12:19:57",
            "2023-08-24 12:19:58",
            "2023-08-24 12:19:59",
            "2023-08-24 12:20:00",
            "2023-08-24 12:20:01",
            "2023-08-24 12:20:02"
           ],
           "type": "scatter",
           "x": [
            11.436494854095882,
            12.083757383111475,
            12.857255540294025,
            13.664009379110695,
            14.660941996461847,
            15.763691585187004,
            16.994297584708747,
            null
           ],
           "y": [
            22.43523846129129,
            25.226253707256983,
            28.317087024384634,
            31.653600280950233,
            34.95982666405545,
            38.32678424492485,
            41.65059655664205,
            null
           ]
          },
          {
           "type": "scatter",
           "x": [
            null,
            null
           ],
           "y": [
            null,
            null
           ]
          },
          {
           "hovertemplate": "Detection<br>(%{x}, %{y})<br>Time: %{meta}",
           "meta": [
            "2023-08-24 12:19:56",
            "2023-08-24 12:19:57",
            "2023-08-24 12:19:58",
            "2023-08-24 12:19:59",
            "2023-08-24 12:20:00",
            "2023-08-24 12:20:01",
            "2023-08-24 12:20:02"
           ],
           "type": "scatter",
           "x": [
            13.495870684052171,
            9.210581625879016,
            14.82617191695391,
            11.69408565874592,
            16.034063908529554,
            19.222623463959337,
            17.806013715912897,
            null
           ],
           "y": [
            26.375572252575715,
            20.92614686262786,
            29.981721626438464,
            27.230418264224394,
            36.07693971814103,
            39.61561849446899,
            42.69631698501642,
            null
           ]
          }
         ],
         "name": "2023-08-24 12:20:02",
         "traces": [
          0,
          1,
          2,
          3
         ]
        },
        {
         "data": [
          {
           "type": "scatter",
           "x": [
            0,
            0
           ],
           "y": [
            0,
            0
           ]
          },
          {
           "hovertemplate": "GroundTruthState<br>(%{x}, %{y})<br>Time: %{meta}",
           "meta": [
            "2023-08-24 12:19:57",
            "2023-08-24 12:19:58",
            "2023-08-24 12:19:59",
            "2023-08-24 12:20:00",
            "2023-08-24 12:20:01",
            "2023-08-24 12:20:02",
            "2023-08-24 12:20:03"
           ],
           "type": "scatter",
           "x": [
            12.083757383111475,
            12.857255540294025,
            13.664009379110695,
            14.660941996461847,
            15.763691585187004,
            16.994297584708747,
            18.302114239501257,
            null
           ],
           "y": [
            25.226253707256983,
            28.317087024384634,
            31.653600280950233,
            34.95982666405545,
            38.32678424492485,
            41.65059655664205,
            44.94718306572588,
            null
           ]
          },
          {
           "type": "scatter",
           "x": [
            null,
            null
           ],
           "y": [
            null,
            null
           ]
          },
          {
           "hovertemplate": "Detection<br>(%{x}, %{y})<br>Time: %{meta}",
           "meta": [
            "2023-08-24 12:19:57",
            "2023-08-24 12:19:58",
            "2023-08-24 12:19:59",
            "2023-08-24 12:20:00",
            "2023-08-24 12:20:01",
            "2023-08-24 12:20:02",
            "2023-08-24 12:20:03"
           ],
           "type": "scatter",
           "x": [
            9.210581625879016,
            14.82617191695391,
            11.69408565874592,
            16.034063908529554,
            19.222623463959337,
            17.806013715912897,
            22.259832475318472,
            null
           ],
           "y": [
            20.92614686262786,
            29.981721626438464,
            27.230418264224394,
            36.07693971814103,
            39.61561849446899,
            42.69631698501642,
            45.97561544057756,
            null
           ]
          }
         ],
         "name": "2023-08-24 12:20:03",
         "traces": [
          0,
          1,
          2,
          3
         ]
        },
        {
         "data": [
          {
           "type": "scatter",
           "x": [
            0,
            0
           ],
           "y": [
            0,
            0
           ]
          },
          {
           "hovertemplate": "GroundTruthState<br>(%{x}, %{y})<br>Time: %{meta}",
           "meta": [
            "2023-08-24 12:19:58",
            "2023-08-24 12:19:59",
            "2023-08-24 12:20:00",
            "2023-08-24 12:20:01",
            "2023-08-24 12:20:02",
            "2023-08-24 12:20:03",
            "2023-08-24 12:20:04"
           ],
           "type": "scatter",
           "x": [
            12.857255540294025,
            13.664009379110695,
            14.660941996461847,
            15.763691585187004,
            16.994297584708747,
            18.302114239501257,
            19.719724360267328,
            null
           ],
           "y": [
            28.317087024384634,
            31.653600280950233,
            34.95982666405545,
            38.32678424492485,
            41.65059655664205,
            44.94718306572588,
            48.066958689446075,
            null
           ]
          },
          {
           "type": "scatter",
           "x": [
            null,
            null
           ],
           "y": [
            null,
            null
           ]
          },
          {
           "hovertemplate": "Detection<br>(%{x}, %{y})<br>Time: %{meta}",
           "meta": [
            "2023-08-24 12:19:58",
            "2023-08-24 12:19:59",
            "2023-08-24 12:20:00",
            "2023-08-24 12:20:01",
            "2023-08-24 12:20:02",
            "2023-08-24 12:20:03",
            "2023-08-24 12:20:04"
           ],
           "type": "scatter",
           "x": [
            14.82617191695391,
            11.69408565874592,
            16.034063908529554,
            19.222623463959337,
            17.806013715912897,
            22.259832475318472,
            25.39563418666202,
            null
           ],
           "y": [
            29.981721626438464,
            27.230418264224394,
            36.07693971814103,
            39.61561849446899,
            42.69631698501642,
            45.97561544057756,
            51.124483044129015,
            null
           ]
          }
         ],
         "name": "2023-08-24 12:20:04",
         "traces": [
          0,
          1,
          2,
          3
         ]
        }
       ],
       "layout": {
        "autosize": true,
        "colorway": [
         "#EF553B",
         "#00CC96",
         "#AB63FA",
         "#FFA15A",
         "#19D3F3",
         "#FF6692",
         "#B6E880",
         "#FF97FF",
         "#FECB52"
        ],
        "height": 550,
        "sliders": [
         {
          "currentvalue": {
           "font": {
            "size": 16
           },
           "prefix": "Time: ",
           "visible": true,
           "xanchor": "right"
          },
          "len": 0.9,
          "pad": {
           "b": 10,
           "t": 50
          },
          "steps": [
           {
            "args": [
             [
              "2023-08-24 12:19:44"
             ],
             {
              "frame": {
               "duration": 1,
               "easing": "linear",
               "redraw": true
              },
              "transition": {
               "duration": 0,
               "easing": "linear"
              }
             }
            ],
            "label": "12:19:44",
            "method": "animate"
           },
           {
            "args": [
             [
              "2023-08-24 12:19:45"
             ],
             {
              "frame": {
               "duration": 1,
               "easing": "linear",
               "redraw": true
              },
              "transition": {
               "duration": 0,
               "easing": "linear"
              }
             }
            ],
            "label": "12:19:45",
            "method": "animate"
           },
           {
            "args": [
             [
              "2023-08-24 12:19:46"
             ],
             {
              "frame": {
               "duration": 1,
               "easing": "linear",
               "redraw": true
              },
              "transition": {
               "duration": 0,
               "easing": "linear"
              }
             }
            ],
            "label": "12:19:46",
            "method": "animate"
           },
           {
            "args": [
             [
              "2023-08-24 12:19:47"
             ],
             {
              "frame": {
               "duration": 1,
               "easing": "linear",
               "redraw": true
              },
              "transition": {
               "duration": 0,
               "easing": "linear"
              }
             }
            ],
            "label": "12:19:47",
            "method": "animate"
           },
           {
            "args": [
             [
              "2023-08-24 12:19:48"
             ],
             {
              "frame": {
               "duration": 1,
               "easing": "linear",
               "redraw": true
              },
              "transition": {
               "duration": 0,
               "easing": "linear"
              }
             }
            ],
            "label": "12:19:48",
            "method": "animate"
           },
           {
            "args": [
             [
              "2023-08-24 12:19:49"
             ],
             {
              "frame": {
               "duration": 1,
               "easing": "linear",
               "redraw": true
              },
              "transition": {
               "duration": 0,
               "easing": "linear"
              }
             }
            ],
            "label": "12:19:49",
            "method": "animate"
           },
           {
            "args": [
             [
              "2023-08-24 12:19:50"
             ],
             {
              "frame": {
               "duration": 1,
               "easing": "linear",
               "redraw": true
              },
              "transition": {
               "duration": 0,
               "easing": "linear"
              }
             }
            ],
            "label": "12:19:50",
            "method": "animate"
           },
           {
            "args": [
             [
              "2023-08-24 12:19:51"
             ],
             {
              "frame": {
               "duration": 1,
               "easing": "linear",
               "redraw": true
              },
              "transition": {
               "duration": 0,
               "easing": "linear"
              }
             }
            ],
            "label": "12:19:51",
            "method": "animate"
           },
           {
            "args": [
             [
              "2023-08-24 12:19:52"
             ],
             {
              "frame": {
               "duration": 1,
               "easing": "linear",
               "redraw": true
              },
              "transition": {
               "duration": 0,
               "easing": "linear"
              }
             }
            ],
            "label": "12:19:52",
            "method": "animate"
           },
           {
            "args": [
             [
              "2023-08-24 12:19:53"
             ],
             {
              "frame": {
               "duration": 1,
               "easing": "linear",
               "redraw": true
              },
              "transition": {
               "duration": 0,
               "easing": "linear"
              }
             }
            ],
            "label": "12:19:53",
            "method": "animate"
           },
           {
            "args": [
             [
              "2023-08-24 12:19:54"
             ],
             {
              "frame": {
               "duration": 1,
               "easing": "linear",
               "redraw": true
              },
              "transition": {
               "duration": 0,
               "easing": "linear"
              }
             }
            ],
            "label": "12:19:54",
            "method": "animate"
           },
           {
            "args": [
             [
              "2023-08-24 12:19:55"
             ],
             {
              "frame": {
               "duration": 1,
               "easing": "linear",
               "redraw": true
              },
              "transition": {
               "duration": 0,
               "easing": "linear"
              }
             }
            ],
            "label": "12:19:55",
            "method": "animate"
           },
           {
            "args": [
             [
              "2023-08-24 12:19:56"
             ],
             {
              "frame": {
               "duration": 1,
               "easing": "linear",
               "redraw": true
              },
              "transition": {
               "duration": 0,
               "easing": "linear"
              }
             }
            ],
            "label": "12:19:56",
            "method": "animate"
           },
           {
            "args": [
             [
              "2023-08-24 12:19:57"
             ],
             {
              "frame": {
               "duration": 1,
               "easing": "linear",
               "redraw": true
              },
              "transition": {
               "duration": 0,
               "easing": "linear"
              }
             }
            ],
            "label": "12:19:57",
            "method": "animate"
           },
           {
            "args": [
             [
              "2023-08-24 12:19:58"
             ],
             {
              "frame": {
               "duration": 1,
               "easing": "linear",
               "redraw": true
              },
              "transition": {
               "duration": 0,
               "easing": "linear"
              }
             }
            ],
            "label": "12:19:58",
            "method": "animate"
           },
           {
            "args": [
             [
              "2023-08-24 12:19:59"
             ],
             {
              "frame": {
               "duration": 1,
               "easing": "linear",
               "redraw": true
              },
              "transition": {
               "duration": 0,
               "easing": "linear"
              }
             }
            ],
            "label": "12:19:59",
            "method": "animate"
           },
           {
            "args": [
             [
              "2023-08-24 12:20:00"
             ],
             {
              "frame": {
               "duration": 1,
               "easing": "linear",
               "redraw": true
              },
              "transition": {
               "duration": 0,
               "easing": "linear"
              }
             }
            ],
            "label": "12:20:00",
            "method": "animate"
           },
           {
            "args": [
             [
              "2023-08-24 12:20:01"
             ],
             {
              "frame": {
               "duration": 1,
               "easing": "linear",
               "redraw": true
              },
              "transition": {
               "duration": 0,
               "easing": "linear"
              }
             }
            ],
            "label": "12:20:01",
            "method": "animate"
           },
           {
            "args": [
             [
              "2023-08-24 12:20:02"
             ],
             {
              "frame": {
               "duration": 1,
               "easing": "linear",
               "redraw": true
              },
              "transition": {
               "duration": 0,
               "easing": "linear"
              }
             }
            ],
            "label": "12:20:02",
            "method": "animate"
           },
           {
            "args": [
             [
              "2023-08-24 12:20:03"
             ],
             {
              "frame": {
               "duration": 1,
               "easing": "linear",
               "redraw": true
              },
              "transition": {
               "duration": 0,
               "easing": "linear"
              }
             }
            ],
            "label": "12:20:03",
            "method": "animate"
           },
           {
            "args": [
             [
              "2023-08-24 12:20:04"
             ],
             {
              "frame": {
               "duration": 1,
               "easing": "linear",
               "redraw": true
              },
              "transition": {
               "duration": 0,
               "easing": "linear"
              }
             }
            ],
            "label": "12:20:04",
            "method": "animate"
           }
          ],
          "transition": {
           "duration": 285.7142857142857,
           "easing": "linear"
          },
          "x": 0.1,
          "xanchor": "left",
          "y": 0,
          "yanchor": "top"
         }
        ],
        "template": {
         "data": {
          "bar": [
           {
            "error_x": {
             "color": "#2a3f5f"
            },
            "error_y": {
             "color": "#2a3f5f"
            },
            "marker": {
             "line": {
              "color": "#E5ECF6",
              "width": 0.5
             },
             "pattern": {
              "fillmode": "overlay",
              "size": 10,
              "solidity": 0.2
             }
            },
            "type": "bar"
           }
          ],
          "barpolar": [
           {
            "marker": {
             "line": {
              "color": "#E5ECF6",
              "width": 0.5
             },
             "pattern": {
              "fillmode": "overlay",
              "size": 10,
              "solidity": 0.2
             }
            },
            "type": "barpolar"
           }
          ],
          "carpet": [
           {
            "aaxis": {
             "endlinecolor": "#2a3f5f",
             "gridcolor": "white",
             "linecolor": "white",
             "minorgridcolor": "white",
             "startlinecolor": "#2a3f5f"
            },
            "baxis": {
             "endlinecolor": "#2a3f5f",
             "gridcolor": "white",
             "linecolor": "white",
             "minorgridcolor": "white",
             "startlinecolor": "#2a3f5f"
            },
            "type": "carpet"
           }
          ],
          "choropleth": [
           {
            "colorbar": {
             "outlinewidth": 0,
             "ticks": ""
            },
            "type": "choropleth"
           }
          ],
          "contour": [
           {
            "colorbar": {
             "outlinewidth": 0,
             "ticks": ""
            },
            "colorscale": [
             [
              0,
              "#0d0887"
             ],
             [
              0.1111111111111111,
              "#46039f"
             ],
             [
              0.2222222222222222,
              "#7201a8"
             ],
             [
              0.3333333333333333,
              "#9c179e"
             ],
             [
              0.4444444444444444,
              "#bd3786"
             ],
             [
              0.5555555555555556,
              "#d8576b"
             ],
             [
              0.6666666666666666,
              "#ed7953"
             ],
             [
              0.7777777777777778,
              "#fb9f3a"
             ],
             [
              0.8888888888888888,
              "#fdca26"
             ],
             [
              1,
              "#f0f921"
             ]
            ],
            "type": "contour"
           }
          ],
          "contourcarpet": [
           {
            "colorbar": {
             "outlinewidth": 0,
             "ticks": ""
            },
            "type": "contourcarpet"
           }
          ],
          "heatmap": [
           {
            "colorbar": {
             "outlinewidth": 0,
             "ticks": ""
            },
            "colorscale": [
             [
              0,
              "#0d0887"
             ],
             [
              0.1111111111111111,
              "#46039f"
             ],
             [
              0.2222222222222222,
              "#7201a8"
             ],
             [
              0.3333333333333333,
              "#9c179e"
             ],
             [
              0.4444444444444444,
              "#bd3786"
             ],
             [
              0.5555555555555556,
              "#d8576b"
             ],
             [
              0.6666666666666666,
              "#ed7953"
             ],
             [
              0.7777777777777778,
              "#fb9f3a"
             ],
             [
              0.8888888888888888,
              "#fdca26"
             ],
             [
              1,
              "#f0f921"
             ]
            ],
            "type": "heatmap"
           }
          ],
          "heatmapgl": [
           {
            "colorbar": {
             "outlinewidth": 0,
             "ticks": ""
            },
            "colorscale": [
             [
              0,
              "#0d0887"
             ],
             [
              0.1111111111111111,
              "#46039f"
             ],
             [
              0.2222222222222222,
              "#7201a8"
             ],
             [
              0.3333333333333333,
              "#9c179e"
             ],
             [
              0.4444444444444444,
              "#bd3786"
             ],
             [
              0.5555555555555556,
              "#d8576b"
             ],
             [
              0.6666666666666666,
              "#ed7953"
             ],
             [
              0.7777777777777778,
              "#fb9f3a"
             ],
             [
              0.8888888888888888,
              "#fdca26"
             ],
             [
              1,
              "#f0f921"
             ]
            ],
            "type": "heatmapgl"
           }
          ],
          "histogram": [
           {
            "marker": {
             "pattern": {
              "fillmode": "overlay",
              "size": 10,
              "solidity": 0.2
             }
            },
            "type": "histogram"
           }
          ],
          "histogram2d": [
           {
            "colorbar": {
             "outlinewidth": 0,
             "ticks": ""
            },
            "colorscale": [
             [
              0,
              "#0d0887"
             ],
             [
              0.1111111111111111,
              "#46039f"
             ],
             [
              0.2222222222222222,
              "#7201a8"
             ],
             [
              0.3333333333333333,
              "#9c179e"
             ],
             [
              0.4444444444444444,
              "#bd3786"
             ],
             [
              0.5555555555555556,
              "#d8576b"
             ],
             [
              0.6666666666666666,
              "#ed7953"
             ],
             [
              0.7777777777777778,
              "#fb9f3a"
             ],
             [
              0.8888888888888888,
              "#fdca26"
             ],
             [
              1,
              "#f0f921"
             ]
            ],
            "type": "histogram2d"
           }
          ],
          "histogram2dcontour": [
           {
            "colorbar": {
             "outlinewidth": 0,
             "ticks": ""
            },
            "colorscale": [
             [
              0,
              "#0d0887"
             ],
             [
              0.1111111111111111,
              "#46039f"
             ],
             [
              0.2222222222222222,
              "#7201a8"
             ],
             [
              0.3333333333333333,
              "#9c179e"
             ],
             [
              0.4444444444444444,
              "#bd3786"
             ],
             [
              0.5555555555555556,
              "#d8576b"
             ],
             [
              0.6666666666666666,
              "#ed7953"
             ],
             [
              0.7777777777777778,
              "#fb9f3a"
             ],
             [
              0.8888888888888888,
              "#fdca26"
             ],
             [
              1,
              "#f0f921"
             ]
            ],
            "type": "histogram2dcontour"
           }
          ],
          "mesh3d": [
           {
            "colorbar": {
             "outlinewidth": 0,
             "ticks": ""
            },
            "type": "mesh3d"
           }
          ],
          "parcoords": [
           {
            "line": {
             "colorbar": {
              "outlinewidth": 0,
              "ticks": ""
             }
            },
            "type": "parcoords"
           }
          ],
          "pie": [
           {
            "automargin": true,
            "type": "pie"
           }
          ],
          "scatter": [
           {
            "fillpattern": {
             "fillmode": "overlay",
             "size": 10,
             "solidity": 0.2
            },
            "type": "scatter"
           }
          ],
          "scatter3d": [
           {
            "line": {
             "colorbar": {
              "outlinewidth": 0,
              "ticks": ""
             }
            },
            "marker": {
             "colorbar": {
              "outlinewidth": 0,
              "ticks": ""
             }
            },
            "type": "scatter3d"
           }
          ],
          "scattercarpet": [
           {
            "marker": {
             "colorbar": {
              "outlinewidth": 0,
              "ticks": ""
             }
            },
            "type": "scattercarpet"
           }
          ],
          "scattergeo": [
           {
            "marker": {
             "colorbar": {
              "outlinewidth": 0,
              "ticks": ""
             }
            },
            "type": "scattergeo"
           }
          ],
          "scattergl": [
           {
            "marker": {
             "colorbar": {
              "outlinewidth": 0,
              "ticks": ""
             }
            },
            "type": "scattergl"
           }
          ],
          "scattermapbox": [
           {
            "marker": {
             "colorbar": {
              "outlinewidth": 0,
              "ticks": ""
             }
            },
            "type": "scattermapbox"
           }
          ],
          "scatterpolar": [
           {
            "marker": {
             "colorbar": {
              "outlinewidth": 0,
              "ticks": ""
             }
            },
            "type": "scatterpolar"
           }
          ],
          "scatterpolargl": [
           {
            "marker": {
             "colorbar": {
              "outlinewidth": 0,
              "ticks": ""
             }
            },
            "type": "scatterpolargl"
           }
          ],
          "scatterternary": [
           {
            "marker": {
             "colorbar": {
              "outlinewidth": 0,
              "ticks": ""
             }
            },
            "type": "scatterternary"
           }
          ],
          "surface": [
           {
            "colorbar": {
             "outlinewidth": 0,
             "ticks": ""
            },
            "colorscale": [
             [
              0,
              "#0d0887"
             ],
             [
              0.1111111111111111,
              "#46039f"
             ],
             [
              0.2222222222222222,
              "#7201a8"
             ],
             [
              0.3333333333333333,
              "#9c179e"
             ],
             [
              0.4444444444444444,
              "#bd3786"
             ],
             [
              0.5555555555555556,
              "#d8576b"
             ],
             [
              0.6666666666666666,
              "#ed7953"
             ],
             [
              0.7777777777777778,
              "#fb9f3a"
             ],
             [
              0.8888888888888888,
              "#fdca26"
             ],
             [
              1,
              "#f0f921"
             ]
            ],
            "type": "surface"
           }
          ],
          "table": [
           {
            "cells": {
             "fill": {
              "color": "#EBF0F8"
             },
             "line": {
              "color": "white"
             }
            },
            "header": {
             "fill": {
              "color": "#C8D4E3"
             },
             "line": {
              "color": "white"
             }
            },
            "type": "table"
           }
          ]
         },
         "layout": {
          "annotationdefaults": {
           "arrowcolor": "#2a3f5f",
           "arrowhead": 0,
           "arrowwidth": 1
          },
          "autotypenumbers": "strict",
          "coloraxis": {
           "colorbar": {
            "outlinewidth": 0,
            "ticks": ""
           }
          },
          "colorscale": {
           "diverging": [
            [
             0,
             "#8e0152"
            ],
            [
             0.1,
             "#c51b7d"
            ],
            [
             0.2,
             "#de77ae"
            ],
            [
             0.3,
             "#f1b6da"
            ],
            [
             0.4,
             "#fde0ef"
            ],
            [
             0.5,
             "#f7f7f7"
            ],
            [
             0.6,
             "#e6f5d0"
            ],
            [
             0.7,
             "#b8e186"
            ],
            [
             0.8,
             "#7fbc41"
            ],
            [
             0.9,
             "#4d9221"
            ],
            [
             1,
             "#276419"
            ]
           ],
           "sequential": [
            [
             0,
             "#0d0887"
            ],
            [
             0.1111111111111111,
             "#46039f"
            ],
            [
             0.2222222222222222,
             "#7201a8"
            ],
            [
             0.3333333333333333,
             "#9c179e"
            ],
            [
             0.4444444444444444,
             "#bd3786"
            ],
            [
             0.5555555555555556,
             "#d8576b"
            ],
            [
             0.6666666666666666,
             "#ed7953"
            ],
            [
             0.7777777777777778,
             "#fb9f3a"
            ],
            [
             0.8888888888888888,
             "#fdca26"
            ],
            [
             1,
             "#f0f921"
            ]
           ],
           "sequentialminus": [
            [
             0,
             "#0d0887"
            ],
            [
             0.1111111111111111,
             "#46039f"
            ],
            [
             0.2222222222222222,
             "#7201a8"
            ],
            [
             0.3333333333333333,
             "#9c179e"
            ],
            [
             0.4444444444444444,
             "#bd3786"
            ],
            [
             0.5555555555555556,
             "#d8576b"
            ],
            [
             0.6666666666666666,
             "#ed7953"
            ],
            [
             0.7777777777777778,
             "#fb9f3a"
            ],
            [
             0.8888888888888888,
             "#fdca26"
            ],
            [
             1,
             "#f0f921"
            ]
           ]
          },
          "colorway": [
           "#636efa",
           "#EF553B",
           "#00cc96",
           "#ab63fa",
           "#FFA15A",
           "#19d3f3",
           "#FF6692",
           "#B6E880",
           "#FF97FF",
           "#FECB52"
          ],
          "font": {
           "color": "#2a3f5f"
          },
          "geo": {
           "bgcolor": "white",
           "lakecolor": "white",
           "landcolor": "#E5ECF6",
           "showlakes": true,
           "showland": true,
           "subunitcolor": "white"
          },
          "hoverlabel": {
           "align": "left"
          },
          "hovermode": "closest",
          "mapbox": {
           "style": "light"
          },
          "paper_bgcolor": "white",
          "plot_bgcolor": "#E5ECF6",
          "polar": {
           "angularaxis": {
            "gridcolor": "white",
            "linecolor": "white",
            "ticks": ""
           },
           "bgcolor": "#E5ECF6",
           "radialaxis": {
            "gridcolor": "white",
            "linecolor": "white",
            "ticks": ""
           }
          },
          "scene": {
           "xaxis": {
            "backgroundcolor": "#E5ECF6",
            "gridcolor": "white",
            "gridwidth": 2,
            "linecolor": "white",
            "showbackground": true,
            "ticks": "",
            "zerolinecolor": "white"
           },
           "yaxis": {
            "backgroundcolor": "#E5ECF6",
            "gridcolor": "white",
            "gridwidth": 2,
            "linecolor": "white",
            "showbackground": true,
            "ticks": "",
            "zerolinecolor": "white"
           },
           "zaxis": {
            "backgroundcolor": "#E5ECF6",
            "gridcolor": "white",
            "gridwidth": 2,
            "linecolor": "white",
            "showbackground": true,
            "ticks": "",
            "zerolinecolor": "white"
           }
          },
          "shapedefaults": {
           "line": {
            "color": "#2a3f5f"
           }
          },
          "ternary": {
           "aaxis": {
            "gridcolor": "white",
            "linecolor": "white",
            "ticks": ""
           },
           "baxis": {
            "gridcolor": "white",
            "linecolor": "white",
            "ticks": ""
           },
           "bgcolor": "#E5ECF6",
           "caxis": {
            "gridcolor": "white",
            "linecolor": "white",
            "ticks": ""
           }
          },
          "title": {
           "x": 0.05
          },
          "xaxis": {
           "automargin": true,
           "gridcolor": "white",
           "linecolor": "white",
           "ticks": "",
           "title": {
            "standoff": 15
           },
           "zerolinecolor": "white",
           "zerolinewidth": 2
          },
          "yaxis": {
           "automargin": true,
           "gridcolor": "white",
           "linecolor": "white",
           "ticks": "",
           "title": {
            "standoff": 15
           },
           "zerolinecolor": "white",
           "zerolinewidth": 2
          }
         }
        },
        "updatemenus": [
         {
          "buttons": [
           {
            "args": [
             null,
             {
              "frame": {
               "duration": 285.7142857142857,
               "redraw": true
              },
              "fromcurrent": true,
              "transition": {
               "duration": 0
              }
             }
            ],
            "label": "Play",
            "method": "animate"
           },
           {
            "args": [
             [
              null
             ],
             {
              "frame": {
               "duration": 0,
               "redraw": true
              },
              "mode": "immediate",
              "transition": {
               "duration": 0
              }
             }
            ],
            "label": "Stop",
            "method": "animate"
           }
          ],
          "direction": "left",
          "pad": {
           "r": 10,
           "t": 75
          },
          "showactive": true,
          "type": "buttons",
          "x": 0.1,
          "xanchor": "right",
          "y": 0,
          "yanchor": "top"
         }
        ],
        "xaxis": {
         "range": [
          -2.3050672382471356,
          26.71471520689579
         ],
         "title": {
          "text": "<i>x</i>"
         }
        },
        "yaxis": {
         "range": [
          -5.079739483402369,
          53.80087459305908
         ],
         "title": {
          "text": "<i>y</i>"
         }
        }
       }
      }
     },
     "metadata": {},
     "output_type": "display_data"
    }
   ],
   "source": [
    "from stonesoup.plotter import Plotterly\n",
    "plotter.plot_measurements(measurements, [0,2])\n",
    "plotter.fig"
   ]
  },
  {
   "cell_type": "code",
   "execution_count": 15,
   "metadata": {},
   "outputs": [],
   "source": [
    "from stonesoup.predictor.kalman import UnscentedKalmanPredictor\n",
    "predictor = UnscentedKalmanPredictor(transition_model)\n",
    "\n",
    "from stonesoup.updater.kalman import UnscentedKalmanUpdater\n",
    "unscented_updater = UnscentedKalmanUpdater(measurement_model)"
   ]
  },
  {
   "cell_type": "code",
   "execution_count": 16,
   "metadata": {},
   "outputs": [],
   "source": [
    "from stonesoup.types.state import GaussianState\n",
    "prior = GaussianState([[0], [1], [0], [1]], np.diag([1.5, 0.5, 1.5, 0.5]), timestamp = start_time)"
   ]
  },
  {
   "cell_type": "code",
   "execution_count": 17,
   "metadata": {},
   "outputs": [],
   "source": [
    "from stonesoup.types.hypothesis import SingleHypothesis\n",
    "from stonesoup.types.track import Track\n",
    "\n",
    "track = Track()\n",
    "\n",
    "for measurement in measurements:\n",
    "    prediction = predictor.predict(prior, timestamp=measurement.timestamp)\n",
    "    hypothesis = SingleHypothesis(prediction, measurement)\n",
    "    post = unscented_updater.update(hypothesis)\n",
    "    track.append(post)\n",
    "    prior = track[-1]"
   ]
  },
  {
   "cell_type": "code",
   "execution_count": 18,
   "metadata": {},
   "outputs": [
    {
     "data": {
      "application/vnd.plotly.v1+json": {
       "config": {
        "plotlyServerURL": "https://plot.ly"
       },
       "data": [
        {
         "hoverinfo": "none",
         "legendgroup": "Ground Truth",
         "legendrank": 100,
         "line": {
          "color": "#EF553B",
          "dash": "dash"
         },
         "mode": "lines",
         "name": "Ground Truth",
         "showlegend": true,
         "type": "scatter",
         "x": [],
         "y": []
        },
        {
         "hoverinfo": "none",
         "legendgroup": "Ground Truth",
         "legendrank": 100,
         "line": {
          "color": "#EF553B",
          "dash": "dash"
         },
         "mode": "lines",
         "name": "Ground Truth",
         "showlegend": false,
         "type": "scatter",
         "x": [],
         "y": []
        },
        {
         "hoverinfo": "none",
         "legendgroup": "Detections (Measurements)",
         "legendrank": 200,
         "marker": {
          "color": "#636EFA"
         },
         "mode": "markers",
         "name": "Measurements<br>(Detections)",
         "showlegend": true,
         "type": "scatter",
         "x": [],
         "y": []
        },
        {
         "hoverinfo": "none",
         "legendgroup": "Detections (Measurements)",
         "legendrank": 200,
         "marker": {
          "color": "#636EFA"
         },
         "mode": "markers",
         "name": "Measurements<br>(Detections)",
         "showlegend": false,
         "type": "scatter",
         "x": [],
         "y": []
        },
        {
         "hoverinfo": "none",
         "legendgroup": "Clutter",
         "legendrank": 300,
         "marker": {
          "color": "#FECB52",
          "symbol": "star-triangle-up"
         },
         "mode": "markers",
         "name": "Measurements<br>(Clutter)",
         "showlegend": true,
         "type": "scatter",
         "x": [],
         "y": []
        },
        {
         "legendgroup": "Tracks",
         "legendrank": 400,
         "line": {
          "color": "#AB63FA"
         },
         "mode": "markers+lines",
         "name": "Tracks",
         "showlegend": true,
         "type": "scatter",
         "x": [],
         "y": []
        },
        {
         "legendgroup": "Tracks",
         "legendrank": 400,
         "line": {
          "color": "#AB63FA"
         },
         "mode": "markers+lines",
         "name": "Tracks",
         "showlegend": false,
         "type": "scatter",
         "x": [],
         "y": []
        },
        {
         "fill": "toself",
         "fillcolor": "#AB63FA",
         "hoverinfo": "skip",
         "legendgroup": "Uncertainty",
         "legendrank": 500,
         "mode": "none",
         "name": "Track<br>Uncertainty",
         "opacity": 0.2,
         "showlegend": true,
         "type": "scatter",
         "x": [],
         "y": []
        },
        {
         "fill": "toself",
         "fillcolor": "#AB63FA",
         "hoverinfo": "skip",
         "legendgroup": "Uncertainty",
         "legendrank": 500,
         "mode": "none",
         "name": "Track<br>Uncertainty",
         "opacity": 0.2,
         "showlegend": false,
         "type": "scatter",
         "x": [],
         "y": []
        }
       ],
       "frames": [
        {
         "data": [
          {
           "type": "scatter",
           "x": [
            0,
            0
           ],
           "y": [
            0,
            0
           ]
          },
          {
           "hovertemplate": "GroundTruthState<br>(%{x}, %{y})<br>Time: %{meta}",
           "meta": [
            "2023-08-24 12:19:44"
           ],
           "type": "scatter",
           "x": [
            0,
            null
           ],
           "y": [
            0,
            null
           ]
          },
          {
           "type": "scatter",
           "x": [
            null,
            null
           ],
           "y": [
            null,
            null
           ]
          },
          {
           "hovertemplate": "Detection<br>(%{x}, %{y})<br>Time: %{meta}",
           "meta": [
            "2023-08-24 12:19:44"
           ],
           "type": "scatter",
           "x": [
            2.221819350783221,
            null
           ],
           "y": [
            -0.9499062386905731,
            null
           ]
          },
          {
           "type": "scatter",
           "x": [
            null,
            null
           ],
           "y": [
            null,
            null
           ]
          },
          {
           "customdata": [
            "2023-08-24 12:19:44"
           ],
           "hovertemplate": "%{meta}<br>(%{x}, %{y})<br>Time: %{customdata}",
           "meta": [
            "GaussianStateUpdate"
           ],
           "type": "scatter",
           "x": [
            1.3360945422614938,
            null
           ],
           "y": [
            -0.14576745844812913,
            null
           ]
          },
          {
           "type": "scatter",
           "x": [
            null
           ],
           "y": [
            null
           ]
          },
          {
           "type": "scatter",
           "x": [
            0.5613541805169181,
            0.5759058411588392,
            0.6196151769766973,
            0.6925431404119641,
            0.7944064600126963,
            0.9238597279282941,
            1.077333794854294,
            1.2477707696094409,
            1.4244185452793052,
            1.5948567552447521,
            1.7483302312856033,
            1.8777812176846842,
            1.979643948840133,
            2.052573089211199,
            2.0962831691551473,
            2.1108349040060697,
            2.0962831691551473,
            2.052573089211199,
            1.9796439488401325,
            1.8777812176846838,
            1.7483302312856026,
            1.5948567552447508,
            1.4244185452793048,
            1.2477707696094402,
            1.0773337948542934,
            0.9238597279282936,
            0.7944064600126963,
            0.6925431404119637,
            0.6196151769766972,
            0.5759058411588391,
            null,
            null
           ],
           "y": [
            -0.14576745844812908,
            0.07248527152584089,
            0.2846788873664835,
            0.48416021223346706,
            0.6631133983285532,
            0.8121705334169236,
            0.9206592082979107,
            0.9782541782126969,
            0.9782541396080181,
            0.920658449902583,
            0.8121697306656072,
            0.6631154075249327,
            0.4841645594447841,
            0.2846817922761057,
            0.07248582276015159,
            -0.14576745844813607,
            -0.3640207396564107,
            -0.5762167091723639,
            -0.7756994763410433,
            -0.9546503244211915,
            -1.1037046475618657,
            -1.2121933667988423,
            -1.2697890565042764,
            -1.2697890951089552,
            -1.2121941251941688,
            -1.1037054503131816,
            -0.9546483152248113,
            -0.7756951291297248,
            -0.5762138042627407,
            -0.3640201884220984,
            null,
            null
           ]
          }
         ],
         "name": "2023-08-24 12:19:44",
         "traces": [
          0,
          1,
          2,
          3,
          5,
          6,
          7,
          8
         ]
        },
        {
         "data": [
          {
           "type": "scatter",
           "x": [
            0,
            0
           ],
           "y": [
            0,
            0
           ]
          },
          {
           "hovertemplate": "GroundTruthState<br>(%{x}, %{y})<br>Time: %{meta}",
           "meta": [
            "2023-08-24 12:19:44",
            "2023-08-24 12:19:45"
           ],
           "type": "scatter",
           "x": [
            0,
            1.177223465328352,
            null
           ],
           "y": [
            0,
            1.0006757513847795,
            null
           ]
          },
          {
           "type": "scatter",
           "x": [
            null,
            null
           ],
           "y": [
            null,
            null
           ]
          },
          {
           "hovertemplate": "Detection<br>(%{x}, %{y})<br>Time: %{meta}",
           "meta": [
            "2023-08-24 12:19:44",
            "2023-08-24 12:19:45"
           ],
           "type": "scatter",
           "x": [
            2.221819350783221,
            1.549042106302693,
            null
           ],
           "y": [
            -0.9499062386905731,
            -2.188124288687379,
            null
           ]
          },
          {
           "type": "scatter",
           "x": [
            null,
            null
           ],
           "y": [
            null,
            null
           ]
          },
          {
           "customdata": [
            "2023-08-24 12:19:44",
            "2023-08-24 12:19:45"
           ],
           "hovertemplate": "%{meta}<br>(%{x}, %{y})<br>Time: %{customdata}",
           "meta": [
            "GaussianStateUpdate",
            "GaussianStateUpdate"
           ],
           "type": "scatter",
           "x": [
            1.3360945422614938,
            1.9008963047273553,
            null
           ],
           "y": [
            -0.14576745844812913,
            0.3108884679164402,
            null
           ]
          },
          {
           "type": "scatter",
           "x": [
            null
           ],
           "y": [
            null
           ]
          },
          {
           "type": "scatter",
           "x": [
            2.627404583803273,
            2.6119179075684245,
            2.5710401876147673,
            2.5040814625087737,
            2.410095454242958,
            2.2885222667789913,
            2.140759276190178,
            1.9729309026453892,
            1.7978486397194855,
            1.6317655503192026,
            1.4872086256354147,
            1.3698952043602017,
            1.280861462917453,
            1.219297826433881,
            1.184084180163365,
            1.1743880256514374,
            1.1898750741866035,
            1.2307565298865066,
            1.2977220721799458,
            1.391707059776715,
            1.5132679314726916,
            1.6610253095672802,
            1.8288602564290712,
            2.003942526905157,
            2.1700191634432264,
            2.314581640198606,
            2.4319068824075734,
            2.5209413627888444,
            2.5824984662199952,
            2.6177087254111004,
            null,
            null
           ],
           "y": [
            0.30151193179388897,
            0.07733375179966176,
            -0.14173698055384243,
            -0.35017057964103815,
            -0.5408154761932579,
            -0.7038424578316033,
            -0.8259463769324239,
            -0.8916552609879446,
            -0.8893953036703081,
            -0.8193721897467189,
            -0.6934978423984545,
            -0.5274068912064692,
            -0.33441080254586075,
            -0.12430744545342248,
            0.09575885501252251,
            0.3202650040389913,
            0.5444461310115446,
            0.7635303250198966,
            0.9719748455617943,
            1.162608839015272,
            1.3256168061569706,
            1.4477184564856955,
            1.513431922991412,
            1.5111725506732507,
            1.4411541873196745,
            1.3152774271060421,
            1.149167149901825,
            0.9561601354325174,
            0.7460678720969491,
            0.5260151252155051,
            null,
            null
           ]
          }
         ],
         "name": "2023-08-24 12:19:45",
         "traces": [
          0,
          1,
          2,
          3,
          5,
          6,
          7,
          8
         ]
        },
        {
         "data": [
          {
           "type": "scatter",
           "x": [
            0,
            0
           ],
           "y": [
            0,
            0
           ]
          },
          {
           "hovertemplate": "GroundTruthState<br>(%{x}, %{y})<br>Time: %{meta}",
           "meta": [
            "2023-08-24 12:19:44",
            "2023-08-24 12:19:45",
            "2023-08-24 12:19:46"
           ],
           "type": "scatter",
           "x": [
            0,
            1.177223465328352,
            2.275462874700381,
            null
           ],
           "y": [
            0,
            1.0006757513847795,
            2.0307275520116606,
            null
           ]
          },
          {
           "type": "scatter",
           "x": [
            null,
            null
           ],
           "y": [
            null,
            null
           ]
          },
          {
           "hovertemplate": "Detection<br>(%{x}, %{y})<br>Time: %{meta}",
           "meta": [
            "2023-08-24 12:19:44",
            "2023-08-24 12:19:45",
            "2023-08-24 12:19:46"
           ],
           "type": "scatter",
           "x": [
            2.221819350783221,
            1.549042106302693,
            4.1185639808006655,
            null
           ],
           "y": [
            -0.9499062386905731,
            -2.188124288687379,
            11.127224359918513,
            null
           ]
          },
          {
           "type": "scatter",
           "x": [
            null,
            null
           ],
           "y": [
            null,
            null
           ]
          },
          {
           "customdata": [
            "2023-08-24 12:19:44",
            "2023-08-24 12:19:45",
            "2023-08-24 12:19:46"
           ],
           "hovertemplate": "%{meta}<br>(%{x}, %{y})<br>Time: %{customdata}",
           "meta": [
            "GaussianStateUpdate",
            "GaussianStateUpdate",
            "GaussianStateUpdate"
           ],
           "type": "scatter",
           "x": [
            1.3360945422614938,
            1.9008963047273553,
            2.838808357885572,
            null
           ],
           "y": [
            -0.14576745844812913,
            0.3108884679164402,
            3.8554779037697813,
            null
           ]
          },
          {
           "type": "scatter",
           "x": [
            null
           ],
           "y": [
            null
           ]
          },
          {
           "type": "scatter",
           "x": [
            3.6096555504941925,
            3.5915151352158117,
            3.5482180741413005,
            3.478608891547654,
            3.380730072259665,
            3.252298262529028,
            3.0922716491797413,
            2.9054496871869553,
            2.708628844232869,
            2.52578488071664,
            2.3727102190766938,
            2.253186026323741,
            2.1654526507433998,
            2.1066843003904863,
            2.0746519790570663,
            2.0679611652769516,
            2.086102735830025,
            2.1293961927391716,
            2.1990143118325145,
            2.29687104429816,
            2.425318404337504,
            2.585360851526803,
            2.7721614258707175,
            2.9689823284349024,
            3.1518471101247876,
            3.3049064505338204,
            3.424416421081102,
            3.512169731644801,
            3.570930450154515,
            3.602965461931618,
            null,
            null
           ],
           "y": [
            3.8384119156047176,
            3.58008903241306,
            3.3265772988976616,
            3.0829932119400096,
            2.8563704459247288,
            2.65762147286022,
            2.5037361550524686,
            2.418458257499209,
            2.422817072673844,
            2.516266233593517,
            2.6770949652425795,
            2.8813635102713233,
            3.1120469717263424,
            3.358502721766179,
            3.613661546360902,
            3.8725438919348436,
            4.130876466839316,
            4.38436763427405,
            4.627981002595261,
            4.854555635974057,
            5.053334273760742,
            5.207230823617099,
            5.292496327167464,
            5.28814020449877,
            5.194677715170426,
            5.0338609053202585,
            4.829622684155194,
            4.598890159731914,
            4.352464057866527,
            4.097284527842387,
            null,
            null
           ]
          }
         ],
         "name": "2023-08-24 12:19:46",
         "traces": [
          0,
          1,
          2,
          3,
          5,
          6,
          7,
          8
         ]
        },
        {
         "data": [
          {
           "type": "scatter",
           "x": [
            0,
            0
           ],
           "y": [
            0,
            0
           ]
          },
          {
           "hovertemplate": "GroundTruthState<br>(%{x}, %{y})<br>Time: %{meta}",
           "meta": [
            "2023-08-24 12:19:44",
            "2023-08-24 12:19:45",
            "2023-08-24 12:19:46",
            "2023-08-24 12:19:47"
           ],
           "type": "scatter",
           "x": [
            0,
            1.177223465328352,
            2.275462874700381,
            3.1560399703547963,
            null
           ],
           "y": [
            0,
            1.0006757513847795,
            2.0307275520116606,
            3.2076890985336823,
            null
           ]
          },
          {
           "type": "scatter",
           "x": [
            null,
            null
           ],
           "y": [
            null,
            null
           ]
          },
          {
           "hovertemplate": "Detection<br>(%{x}, %{y})<br>Time: %{meta}",
           "meta": [
            "2023-08-24 12:19:44",
            "2023-08-24 12:19:45",
            "2023-08-24 12:19:46",
            "2023-08-24 12:19:47"
           ],
           "type": "scatter",
           "x": [
            2.221819350783221,
            1.549042106302693,
            4.1185639808006655,
            4.534156951991264,
            null
           ],
           "y": [
            -0.9499062386905731,
            -2.188124288687379,
            11.127224359918513,
            4.770342745174409,
            null
           ]
          },
          {
           "type": "scatter",
           "x": [
            null,
            null
           ],
           "y": [
            null,
            null
           ]
          },
          {
           "customdata": [
            "2023-08-24 12:19:44",
            "2023-08-24 12:19:45",
            "2023-08-24 12:19:46",
            "2023-08-24 12:19:47"
           ],
           "hovertemplate": "%{meta}<br>(%{x}, %{y})<br>Time: %{customdata}",
           "meta": [
            "GaussianStateUpdate",
            "GaussianStateUpdate",
            "GaussianStateUpdate",
            "GaussianStateUpdate"
           ],
           "type": "scatter",
           "x": [
            1.3360945422614938,
            1.9008963047273553,
            2.838808357885572,
            4.237179420728312,
            null
           ],
           "y": [
            -0.14576745844812913,
            0.3108884679164402,
            3.8554779037697813,
            5.228944482501653,
            null
           ]
          },
          {
           "type": "scatter",
           "x": [
            null
           ],
           "y": [
            null
           ]
          },
          {
           "type": "scatter",
           "x": [
            5.005300981295463,
            4.9691503822934395,
            4.9096531252467575,
            4.825643721929154,
            4.714981186515107,
            4.574562469631986,
            4.401805474717651,
            4.200537683369236,
            3.992482094439797,
            3.8104893489728004,
            3.670260847105153,
            3.570058035682321,
            3.5039718479068385,
            3.4670767999593317,
            3.456078574242563,
            3.4690578601611612,
            3.505212205772321,
            3.564707538508665,
            3.648705234420736,
            3.759377554921068,
            3.899796051633512,
            4.072553448653639,
            4.27380630624961,
            4.481862627129942,
            4.663869562674091,
            4.804097750123155,
            4.904300740004909,
            4.970381809311857,
            5.007282641235005,
            5.018280172199694,
            null,
            null
           ],
           "y": [
            5.161196085768976,
            4.883704706474851,
            4.611872076976139,
            4.350149126865288,
            4.105214408891544,
            3.887845778809946,
            3.71724497460115,
            3.6249590048457248,
            3.6433137097845223,
            3.7693990477163855,
            3.9676057042979482,
            4.206196938398564,
            4.466747571554282,
            4.739100465365322,
            5.017135840558383,
            5.296692879234329,
            5.574205875379827,
            5.846023711825955,
            6.107713853810251,
            6.352674369256338,
            6.570042780456573,
            6.740644050159099,
            6.832927088435172,
            6.81458068225014,
            6.688489844114308,
            6.490283716223999,
            6.251692228082845,
            5.991168706894469,
            5.718781462215339,
            5.4407311855225355,
            null,
            null
           ]
          }
         ],
         "name": "2023-08-24 12:19:47",
         "traces": [
          0,
          1,
          2,
          3,
          5,
          6,
          7,
          8
         ]
        },
        {
         "data": [
          {
           "type": "scatter",
           "x": [
            0,
            0
           ],
           "y": [
            0,
            0
           ]
          },
          {
           "hovertemplate": "GroundTruthState<br>(%{x}, %{y})<br>Time: %{meta}",
           "meta": [
            "2023-08-24 12:19:44",
            "2023-08-24 12:19:45",
            "2023-08-24 12:19:46",
            "2023-08-24 12:19:47",
            "2023-08-24 12:19:48"
           ],
           "type": "scatter",
           "x": [
            0,
            1.177223465328352,
            2.275462874700381,
            3.1560399703547963,
            4.11148456878083,
            null
           ],
           "y": [
            0,
            1.0006757513847795,
            2.0307275520116606,
            3.2076890985336823,
            4.681546580969336,
            null
           ]
          },
          {
           "type": "scatter",
           "x": [
            null,
            null
           ],
           "y": [
            null,
            null
           ]
          },
          {
           "hovertemplate": "Detection<br>(%{x}, %{y})<br>Time: %{meta}",
           "meta": [
            "2023-08-24 12:19:44",
            "2023-08-24 12:19:45",
            "2023-08-24 12:19:46",
            "2023-08-24 12:19:47",
            "2023-08-24 12:19:48"
           ],
           "type": "scatter",
           "x": [
            2.221819350783221,
            1.549042106302693,
            4.1185639808006655,
            4.534156951991264,
            4.473015456288891,
            null
           ],
           "y": [
            -0.9499062386905731,
            -2.188124288687379,
            11.127224359918513,
            4.770342745174409,
            4.421986485240061,
            null
           ]
          },
          {
           "type": "scatter",
           "x": [
            null,
            null
           ],
           "y": [
            null,
            null
           ]
          },
          {
           "customdata": [
            "2023-08-24 12:19:44",
            "2023-08-24 12:19:45",
            "2023-08-24 12:19:46",
            "2023-08-24 12:19:47",
            "2023-08-24 12:19:48"
           ],
           "hovertemplate": "%{meta}<br>(%{x}, %{y})<br>Time: %{customdata}",
           "meta": [
            "GaussianStateUpdate",
            "GaussianStateUpdate",
            "GaussianStateUpdate",
            "GaussianStateUpdate",
            "GaussianStateUpdate"
           ],
           "type": "scatter",
           "x": [
            1.3360945422614938,
            1.9008963047273553,
            2.838808357885572,
            4.237179420728312,
            4.92065708041839,
            null
           ],
           "y": [
            -0.14576745844812913,
            0.3108884679164402,
            3.8554779037697813,
            5.228944482501653,
            5.960233873646324,
            null
           ]
          },
          {
           "type": "scatter",
           "x": [
            null
           ],
           "y": [
            null
           ]
          },
          {
           "type": "scatter",
           "x": [
            5.664779758169943,
            5.617240887540287,
            5.547939727656658,
            5.455787948494785,
            5.338652108873339,
            5.193274876433366,
            5.01644074829715,
            4.811303602008024,
            4.602568229529837,
            4.428323148781959,
            4.3022676160644036,
            4.218453539106952,
            4.168762337822008,
            4.147383706078054,
            4.150667194397849,
            4.176534402666836,
            4.224079684269863,
            4.29337721312368,
            4.3855219509836925,
            4.502661880063147,
            4.648038534802508,
            4.824873526428702,
            5.02998736908271,
            5.238724572062877,
            5.412991100674286,
            5.5390460622990965,
            5.62286053544891,
            5.67255040093007,
            5.693930751403675,
            5.690645338140791,
            null,
            null
           ],
           "y": [
            5.863378227308252,
            5.582812833088099,
            5.308275059879422,
            5.043802370294711,
            4.795572452596984,
            4.574001126083079,
            4.398650156827202,
            4.304755501228232,
            4.3319318272667875,
            4.475199949584115,
            4.689976439279193,
            4.941378794256403,
            5.21133381986656,
            5.490562932638531,
            5.773671918331163,
            6.0570895199843955,
            6.3376854850084685,
            6.6122020265323105,
            6.876654840091507,
            7.124894982599885,
            7.3464656752492425,
            7.521817674356775,
            7.6157081136404,
            7.58854585098466,
            7.4452676874585215,
            7.230492414341623,
            6.979089298737108,
            6.70914520409434,
            6.429895075083631,
            6.146764635640452,
            null,
            null
           ]
          }
         ],
         "name": "2023-08-24 12:19:48",
         "traces": [
          0,
          1,
          2,
          3,
          5,
          6,
          7,
          8
         ]
        },
        {
         "data": [
          {
           "type": "scatter",
           "x": [
            0,
            0
           ],
           "y": [
            0,
            0
           ]
          },
          {
           "hovertemplate": "GroundTruthState<br>(%{x}, %{y})<br>Time: %{meta}",
           "meta": [
            "2023-08-24 12:19:44",
            "2023-08-24 12:19:45",
            "2023-08-24 12:19:46",
            "2023-08-24 12:19:47",
            "2023-08-24 12:19:48",
            "2023-08-24 12:19:49"
           ],
           "type": "scatter",
           "x": [
            0,
            1.177223465328352,
            2.275462874700381,
            3.1560399703547963,
            4.11148456878083,
            5.06891869996823,
            null
           ],
           "y": [
            0,
            1.0006757513847795,
            2.0307275520116606,
            3.2076890985336823,
            4.681546580969336,
            6.424096316700446,
            null
           ]
          },
          {
           "type": "scatter",
           "x": [
            null,
            null
           ],
           "y": [
            null,
            null
           ]
          },
          {
           "hovertemplate": "Detection<br>(%{x}, %{y})<br>Time: %{meta}",
           "meta": [
            "2023-08-24 12:19:44",
            "2023-08-24 12:19:45",
            "2023-08-24 12:19:46",
            "2023-08-24 12:19:47",
            "2023-08-24 12:19:48",
            "2023-08-24 12:19:49"
           ],
           "type": "scatter",
           "x": [
            2.221819350783221,
            1.549042106302693,
            4.1185639808006655,
            4.534156951991264,
            4.473015456288891,
            5.832101951594829,
            null
           ],
           "y": [
            -0.9499062386905731,
            -2.188124288687379,
            11.127224359918513,
            4.770342745174409,
            4.421986485240061,
            9.132252939840042,
            null
           ]
          },
          {
           "type": "scatter",
           "x": [
            null,
            null
           ],
           "y": [
            null,
            null
           ]
          },
          {
           "customdata": [
            "2023-08-24 12:19:44",
            "2023-08-24 12:19:45",
            "2023-08-24 12:19:46",
            "2023-08-24 12:19:47",
            "2023-08-24 12:19:48",
            "2023-08-24 12:19:49"
           ],
           "hovertemplate": "%{meta}<br>(%{x}, %{y})<br>Time: %{customdata}",
           "meta": [
            "GaussianStateUpdate",
            "GaussianStateUpdate",
            "GaussianStateUpdate",
            "GaussianStateUpdate",
            "GaussianStateUpdate",
            "GaussianStateUpdate"
           ],
           "type": "scatter",
           "x": [
            1.3360945422614938,
            1.9008963047273553,
            2.838808357885572,
            4.237179420728312,
            4.92065708041839,
            5.812066326317894,
            null
           ],
           "y": [
            -0.14576745844812913,
            0.3108884679164402,
            3.8554779037697813,
            5.228944482501653,
            5.960233873646324,
            8.078700996622002,
            null
           ]
          },
          {
           "type": "scatter",
           "x": [
            null
           ],
           "y": [
            null
           ]
          },
          {
           "type": "scatter",
           "x": [
            6.532951187666873,
            6.4800532551292065,
            6.406413235949763,
            6.311013599797277,
            6.191798793472133,
            6.04558150914884,
            5.869070025017978,
            5.66525789850464,
            5.460028414828417,
            5.293045636432049,
            5.176434696519989,
            5.102260082719355,
            5.061607512033504,
            5.048421848925929,
            5.058980849440349,
            5.0911814649689155,
            5.144087286056597,
            5.217722680594214,
            5.313117781683231,
            5.432333653656288,
            5.578550119080908,
            5.755062740437832,
            5.958885112582212,
            6.164113604659445,
            6.3310870991929455,
            6.447697359772321,
            6.5218724825424506,
            6.562524829745279,
            6.575710836436127,
            6.565149103694358,
            null,
            null
           ],
           "y": [
            7.968479433820983,
            7.69178466513697,
            7.421253505657078,
            7.1607028125712455,
            6.916012449988157,
            6.697271603460413,
            6.523793668591978,
            6.4316714678035645,
            6.463047244134106,
            6.611866313417905,
            6.83016349485394,
            7.082600695725454,
            7.35173721444362,
            7.62887631156843,
            7.9090277866177585,
            8.188922559423021,
            8.46565155605902,
            8.736158802053406,
            8.996696161284204,
            9.241389179330904,
            9.460129113853752,
            9.633608407234247,
            9.725732260154654,
            9.694349998444238,
            9.545535567305127,
            9.327240022128624,
            9.074801706224346,
            8.805668040074819,
            8.528514863161607,
            8.24833918528115,
            null,
            null
           ]
          }
         ],
         "name": "2023-08-24 12:19:49",
         "traces": [
          0,
          1,
          2,
          3,
          5,
          6,
          7,
          8
         ]
        },
        {
         "data": [
          {
           "type": "scatter",
           "x": [
            0,
            0
           ],
           "y": [
            0,
            0
           ]
          },
          {
           "hovertemplate": "GroundTruthState<br>(%{x}, %{y})<br>Time: %{meta}",
           "meta": [
            "2023-08-24 12:19:44",
            "2023-08-24 12:19:45",
            "2023-08-24 12:19:46",
            "2023-08-24 12:19:47",
            "2023-08-24 12:19:48",
            "2023-08-24 12:19:49",
            "2023-08-24 12:19:50"
           ],
           "type": "scatter",
           "x": [
            0,
            1.177223465328352,
            2.275462874700381,
            3.1560399703547963,
            4.11148456878083,
            5.06891869996823,
            6.13410397013244,
            null
           ],
           "y": [
            0,
            1.0006757513847795,
            2.0307275520116606,
            3.2076890985336823,
            4.681546580969336,
            6.424096316700446,
            8.291557310607626,
            null
           ]
          },
          {
           "type": "scatter",
           "x": [
            null,
            null
           ],
           "y": [
            null,
            null
           ]
          },
          {
           "hovertemplate": "Detection<br>(%{x}, %{y})<br>Time: %{meta}",
           "meta": [
            "2023-08-24 12:19:44",
            "2023-08-24 12:19:45",
            "2023-08-24 12:19:46",
            "2023-08-24 12:19:47",
            "2023-08-24 12:19:48",
            "2023-08-24 12:19:49",
            "2023-08-24 12:19:50"
           ],
           "type": "scatter",
           "x": [
            2.221819350783221,
            1.549042106302693,
            4.1185639808006655,
            4.534156951991264,
            4.473015456288891,
            5.832101951594829,
            4.671810836553469,
            null
           ],
           "y": [
            -0.9499062386905731,
            -2.188124288687379,
            11.127224359918513,
            4.770342745174409,
            4.421986485240061,
            9.132252939840042,
            9.016148199021414,
            null
           ]
          },
          {
           "type": "scatter",
           "x": [
            null,
            null
           ],
           "y": [
            null,
            null
           ]
          },
          {
           "customdata": [
            "2023-08-24 12:19:44",
            "2023-08-24 12:19:45",
            "2023-08-24 12:19:46",
            "2023-08-24 12:19:47",
            "2023-08-24 12:19:48",
            "2023-08-24 12:19:49",
            "2023-08-24 12:19:50"
           ],
           "hovertemplate": "%{meta}<br>(%{x}, %{y})<br>Time: %{customdata}",
           "meta": [
            "GaussianStateUpdate",
            "GaussianStateUpdate",
            "GaussianStateUpdate",
            "GaussianStateUpdate",
            "GaussianStateUpdate",
            "GaussianStateUpdate",
            "GaussianStateUpdate"
           ],
           "type": "scatter",
           "x": [
            1.3360945422614938,
            1.9008963047273553,
            2.838808357885572,
            4.237179420728312,
            4.92065708041839,
            5.812066326317894,
            5.768257036819314,
            null
           ],
           "y": [
            -0.14576745844812913,
            0.3108884679164402,
            3.8554779037697813,
            5.228944482501653,
            5.960233873646324,
            8.078700996622002,
            9.583636834655271,
            null
           ]
          },
          {
           "type": "scatter",
           "x": [
            null
           ],
           "y": [
            null
           ]
          },
          {
           "type": "scatter",
           "x": [
            6.47001255250321,
            6.408051563064367,
            6.32599919864233,
            6.223001809753499,
            6.09726809452483,
            5.946058649561278,
            5.766884774666881,
            5.564038585699884,
            5.364372330370428,
            5.206385069170306,
            5.100201191204749,
            5.036804025192189,
            5.006846551656608,
            5.0040868939917,
            5.024698441112829,
            5.066501521135418,
            5.128471449358638,
            5.210518434795293,
            5.313510774722213,
            5.439245765804638,
            5.590454386528927,
            5.7696294127280074,
            5.972485875960532,
            6.172150901585118,
            6.330129081790581,
            6.436312360453888,
            6.499709978270296,
            6.529667318793228,
            6.532426816785939,
            6.51181172343406,
            null,
            null
           ],
           "y": [
            9.449142606050831,
            9.180378037275995,
            8.918419488010874,
            8.667046374365366,
            8.432097810599835,
            8.223573447399897,
            8.060495494612425,
            7.978017470340451,
            8.01628097431852,
            8.167917388257704,
            8.385686779458345,
            8.63534034372063,
            8.900130832512366,
            9.171758615922936,
            9.445468401581604,
            9.718131063259712,
            9.986928668473697,
            10.248864108650848,
            10.500224102180736,
            10.735175512461034,
            10.94369902630529,
            11.106778251439144,
            11.18925753404174,
            11.150987613787015,
            10.99935616769086,
            10.781588384347375,
            10.531933726170664,
            10.26714635390854,
            9.995504513330575,
            9.721771267329238,
            null,
            null
           ]
          }
         ],
         "name": "2023-08-24 12:19:50",
         "traces": [
          0,
          1,
          2,
          3,
          5,
          6,
          7,
          8
         ]
        },
        {
         "data": [
          {
           "type": "scatter",
           "x": [
            0,
            0
           ],
           "y": [
            0,
            0
           ]
          },
          {
           "hovertemplate": "GroundTruthState<br>(%{x}, %{y})<br>Time: %{meta}",
           "meta": [
            "2023-08-24 12:19:45",
            "2023-08-24 12:19:46",
            "2023-08-24 12:19:47",
            "2023-08-24 12:19:48",
            "2023-08-24 12:19:49",
            "2023-08-24 12:19:50",
            "2023-08-24 12:19:51"
           ],
           "type": "scatter",
           "x": [
            1.177223465328352,
            2.275462874700381,
            3.1560399703547963,
            4.11148456878083,
            5.06891869996823,
            6.13410397013244,
            7.3366615923514376,
            null
           ],
           "y": [
            1.0006757513847795,
            2.0307275520116606,
            3.2076890985336823,
            4.681546580969336,
            6.424096316700446,
            8.291557310607626,
            10.210133065599429,
            null
           ]
          },
          {
           "type": "scatter",
           "x": [
            null,
            null
           ],
           "y": [
            null,
            null
           ]
          },
          {
           "hovertemplate": "Detection<br>(%{x}, %{y})<br>Time: %{meta}",
           "meta": [
            "2023-08-24 12:19:45",
            "2023-08-24 12:19:46",
            "2023-08-24 12:19:47",
            "2023-08-24 12:19:48",
            "2023-08-24 12:19:49",
            "2023-08-24 12:19:50",
            "2023-08-24 12:19:51"
           ],
           "type": "scatter",
           "x": [
            1.549042106302693,
            4.1185639808006655,
            4.534156951991264,
            4.473015456288891,
            5.832101951594829,
            4.671810836553469,
            6.911778516695591,
            null
           ],
           "y": [
            -2.188124288687379,
            11.127224359918513,
            4.770342745174409,
            4.421986485240061,
            9.132252939840042,
            9.016148199021414,
            6.676642845595845,
            null
           ]
          },
          {
           "type": "scatter",
           "x": [
            null,
            null
           ],
           "y": [
            null,
            null
           ]
          },
          {
           "customdata": [
            "2023-08-24 12:19:45",
            "2023-08-24 12:19:46",
            "2023-08-24 12:19:47",
            "2023-08-24 12:19:48",
            "2023-08-24 12:19:49",
            "2023-08-24 12:19:50",
            "2023-08-24 12:19:51"
           ],
           "hovertemplate": "%{meta}<br>(%{x}, %{y})<br>Time: %{customdata}",
           "meta": [
            "GaussianStateUpdate",
            "GaussianStateUpdate",
            "GaussianStateUpdate",
            "GaussianStateUpdate",
            "GaussianStateUpdate",
            "GaussianStateUpdate",
            "GaussianStateUpdate"
           ],
           "type": "scatter",
           "x": [
            1.9008963047273553,
            2.838808357885572,
            4.237179420728312,
            4.92065708041839,
            5.812066326317894,
            5.768257036819314,
            6.706787693725208,
            null
           ],
           "y": [
            0.3108884679164402,
            3.8554779037697813,
            5.228944482501653,
            5.960233873646324,
            8.078700996622002,
            9.583636834655271,
            9.357087783080624,
            null
           ]
          },
          {
           "type": "scatter",
           "x": [
            null
           ],
           "y": [
            null
           ]
          },
          {
           "type": "scatter",
           "x": [
            7.395169179613717,
            7.325008511641667,
            7.235203236218966,
            7.125046443671205,
            6.992985227609041,
            6.836689340986184,
            6.654428321040637,
            6.4517362792890305,
            6.256307207430152,
            6.105493199277518,
            6.007785825151471,
            5.953333019622577,
            5.932426006141937,
            5.938646078422618,
            5.968059285887524,
            6.018406207836699,
            6.088576627839207,
            6.178375937129849,
            6.288526837438754,
            6.420589942673992,
            6.576885028655497,
            6.759147182048559,
            6.961850081037493,
            7.15727763625935,
            7.308082261319495,
            7.405789116031077,
            7.46024231291499,
            7.48114926767596,
            7.474928614196127,
            7.445511203817858,
            null,
            null
           ],
           "y": [
            9.20046550293732,
            8.937905211406138,
            8.682773047862932,
            8.438847646211459,
            8.211978581295543,
            8.012145713554895,
            7.858180260946444,
            7.784367486053444,
            7.828828492581829,
            7.983075256780801,
            8.200741239003978,
            8.448523231130073,
            8.710200241645653,
            8.977758623910184,
            9.246607837861106,
            9.513710063223927,
            9.776301996649536,
            10.031412013439013,
            10.27532379335201,
            10.502196659249796,
            10.702028763152013,
            10.855995377118514,
            10.929809089004554,
            10.885341416599204,
            10.731100194523822,
            10.513435749721998,
            10.265652722551456,
            10.003979956207191,
            9.736406743823125,
            9.467534981946539,
            null,
            null
           ]
          }
         ],
         "name": "2023-08-24 12:19:51",
         "traces": [
          0,
          1,
          2,
          3,
          5,
          6,
          7,
          8
         ]
        },
        {
         "data": [
          {
           "type": "scatter",
           "x": [
            0,
            0
           ],
           "y": [
            0,
            0
           ]
          },
          {
           "hovertemplate": "GroundTruthState<br>(%{x}, %{y})<br>Time: %{meta}",
           "meta": [
            "2023-08-24 12:19:46",
            "2023-08-24 12:19:47",
            "2023-08-24 12:19:48",
            "2023-08-24 12:19:49",
            "2023-08-24 12:19:50",
            "2023-08-24 12:19:51",
            "2023-08-24 12:19:52"
           ],
           "type": "scatter",
           "x": [
            2.275462874700381,
            3.1560399703547963,
            4.11148456878083,
            5.06891869996823,
            6.13410397013244,
            7.3366615923514376,
            8.708739774094598,
            null
           ],
           "y": [
            2.0307275520116606,
            3.2076890985336823,
            4.681546580969336,
            6.424096316700446,
            8.291557310607626,
            10.210133065599429,
            12.639171131337447,
            null
           ]
          },
          {
           "type": "scatter",
           "x": [
            null,
            null
           ],
           "y": [
            null,
            null
           ]
          },
          {
           "hovertemplate": "Detection<br>(%{x}, %{y})<br>Time: %{meta}",
           "meta": [
            "2023-08-24 12:19:46",
            "2023-08-24 12:19:47",
            "2023-08-24 12:19:48",
            "2023-08-24 12:19:49",
            "2023-08-24 12:19:50",
            "2023-08-24 12:19:51",
            "2023-08-24 12:19:52"
           ],
           "type": "scatter",
           "x": [
            4.1185639808006655,
            4.534156951991264,
            4.473015456288891,
            5.832101951594829,
            4.671810836553469,
            6.911778516695591,
            9.916077567508744,
            null
           ],
           "y": [
            11.127224359918513,
            4.770342745174409,
            4.421986485240061,
            9.132252939840042,
            9.016148199021414,
            6.676642845595845,
            13.098478086148488,
            null
           ]
          },
          {
           "type": "scatter",
           "x": [
            null,
            null
           ],
           "y": [
            null,
            null
           ]
          },
          {
           "customdata": [
            "2023-08-24 12:19:46",
            "2023-08-24 12:19:47",
            "2023-08-24 12:19:48",
            "2023-08-24 12:19:49",
            "2023-08-24 12:19:50",
            "2023-08-24 12:19:51",
            "2023-08-24 12:19:52"
           ],
           "hovertemplate": "%{meta}<br>(%{x}, %{y})<br>Time: %{customdata}",
           "meta": [
            "GaussianStateUpdate",
            "GaussianStateUpdate",
            "GaussianStateUpdate",
            "GaussianStateUpdate",
            "GaussianStateUpdate",
            "GaussianStateUpdate",
            "GaussianStateUpdate"
           ],
           "type": "scatter",
           "x": [
            2.838808357885572,
            4.237179420728312,
            4.92065708041839,
            5.812066326317894,
            5.768257036819314,
            6.706787693725208,
            8.539077886904911,
            null
           ],
           "y": [
            3.8554779037697813,
            5.228944482501653,
            5.960233873646324,
            8.078700996622002,
            9.583636834655271,
            9.357087783080624,
            11.462963187985977,
            null
           ]
          },
          {
           "type": "scatter",
           "x": [
            null
           ],
           "y": [
            null
           ]
          },
          {
           "type": "scatter",
           "x": [
            9.221443345370727,
            9.14909307211856,
            9.057139473897356,
            8.94496539992507,
            8.811185731357849,
            8.653776395547927,
            8.471624932403007,
            8.271098089733442,
            8.079299752947387,
            7.931512636944702,
            7.835946177829263,
            7.7833950769720275,
            7.764420474778392,
            7.772666414090585,
            7.804193288704796,
            7.856712428439096,
            7.9290718896882195,
            8.02101987697358,
            8.13318582562039,
            8.266969846665964,
            8.424378551045558,
            8.60653095650804,
            8.807035144275305,
            8.998836682740848,
            9.146643208600388,
            9.242209244126714,
            9.294760650395,
            9.313735130755157,
            9.305488643969941,
            9.273957752729519,
            null,
            null
           ],
           "y": [
            11.298620487371831,
            11.041784538298169,
            10.792701448255325,
            10.555218125148091,
            10.335272323390601,
            10.142866364980083,
            9.996554288472565,
            9.929051339090321,
            9.975251589853444,
            10.126636266059082,
            10.339835800384344,
            10.582808469229468,
            10.839553305776207,
            11.102047906029208,
            11.365663181293506,
            11.627305888600123,
            11.884170200432077,
            12.133233495218327,
            12.370699725746553,
            12.590653771707734,
            12.783059166103456,
            12.929372155029938,
            12.99687343304794,
            12.950686475941785,
            12.79928999738413,
            12.58609170444641,
            12.343118245955125,
            12.086382731217174,
            11.823869213315149,
            11.56023375881651,
            null,
            null
           ]
          }
         ],
         "name": "2023-08-24 12:19:52",
         "traces": [
          0,
          1,
          2,
          3,
          5,
          6,
          7,
          8
         ]
        },
        {
         "data": [
          {
           "type": "scatter",
           "x": [
            0,
            0
           ],
           "y": [
            0,
            0
           ]
          },
          {
           "hovertemplate": "GroundTruthState<br>(%{x}, %{y})<br>Time: %{meta}",
           "meta": [
            "2023-08-24 12:19:47",
            "2023-08-24 12:19:48",
            "2023-08-24 12:19:49",
            "2023-08-24 12:19:50",
            "2023-08-24 12:19:51",
            "2023-08-24 12:19:52",
            "2023-08-24 12:19:53"
           ],
           "type": "scatter",
           "x": [
            3.1560399703547963,
            4.11148456878083,
            5.06891869996823,
            6.13410397013244,
            7.3366615923514376,
            8.708739774094598,
            9.661668970928945,
            null
           ],
           "y": [
            3.2076890985336823,
            4.681546580969336,
            6.424096316700446,
            8.291557310607626,
            10.210133065599429,
            12.639171131337447,
            15.077240437037124,
            null
           ]
          },
          {
           "type": "scatter",
           "x": [
            null,
            null
           ],
           "y": [
            null,
            null
           ]
          },
          {
           "hovertemplate": "Detection<br>(%{x}, %{y})<br>Time: %{meta}",
           "meta": [
            "2023-08-24 12:19:47",
            "2023-08-24 12:19:48",
            "2023-08-24 12:19:49",
            "2023-08-24 12:19:50",
            "2023-08-24 12:19:51",
            "2023-08-24 12:19:52",
            "2023-08-24 12:19:53"
           ],
           "type": "scatter",
           "x": [
            4.534156951991264,
            4.473015456288891,
            5.832101951594829,
            4.671810836553469,
            6.911778516695591,
            9.916077567508744,
            13.220645587904379,
            null
           ],
           "y": [
            4.770342745174409,
            4.421986485240061,
            9.132252939840042,
            9.016148199021414,
            6.676642845595845,
            13.098478086148488,
            19.91019957588045,
            null
           ]
          },
          {
           "type": "scatter",
           "x": [
            null,
            null
           ],
           "y": [
            null,
            null
           ]
          },
          {
           "customdata": [
            "2023-08-24 12:19:47",
            "2023-08-24 12:19:48",
            "2023-08-24 12:19:49",
            "2023-08-24 12:19:50",
            "2023-08-24 12:19:51",
            "2023-08-24 12:19:52",
            "2023-08-24 12:19:53"
           ],
           "hovertemplate": "%{meta}<br>(%{x}, %{y})<br>Time: %{customdata}",
           "meta": [
            "GaussianStateUpdate",
            "GaussianStateUpdate",
            "GaussianStateUpdate",
            "GaussianStateUpdate",
            "GaussianStateUpdate",
            "GaussianStateUpdate",
            "GaussianStateUpdate"
           ],
           "type": "scatter",
           "x": [
            4.237179420728312,
            4.92065708041839,
            5.812066326317894,
            5.768257036819314,
            6.706787693725208,
            8.539077886904911,
            10.6997236237059,
            null
           ],
           "y": [
            5.228944482501653,
            5.960233873646324,
            8.078700996622002,
            9.583636834655271,
            9.357087783080624,
            11.462963187985977,
            15.52976398421773,
            null
           ]
          },
          {
           "type": "scatter",
           "x": [
            null
           ],
           "y": [
            null
           ]
          },
          {
           "type": "scatter",
           "x": [
            11.374213022234356,
            11.293588775723975,
            11.193419608918305,
            11.073313050369428,
            10.932274892244473,
            10.768969286394874,
            10.583608956316315,
            10.384370391030416,
            10.197992261853509,
            10.056456956037426,
            9.967079562552378,
            9.921106996494213,
            9.909245669922333,
            9.925075717071806,
            9.964542323094825,
            10.025234225177444,
            10.105867131913037,
            10.206030997006135,
            10.326125285110349,
            10.467172190618841,
            10.630477378777142,
            10.815838396481238,
            11.015058747074155,
            11.201439723289585,
            11.342990353316928,
            11.432367465161256,
            11.478340221028278,
            11.49020177077165,
            11.474370670336116,
            11.434900098289482,
            null,
            null
           ],
           "y": [
            15.339767595335081,
            15.091747215898373,
            14.852434934107233,
            14.625831431895477,
            14.418077297327967,
            14.23928653240949,
            14.107611046904543,
            14.053212945474232,
            14.105719108788312,
            14.25610399657219,
            14.465170913436692,
            14.702912645630185,
            14.953754102186362,
            15.209705646713083,
            15.466099429574768,
            15.71976037310038,
            15.967804150688284,
            16.207100170318185,
            16.433681602706436,
            16.641450459472182,
            16.820240905461116,
            16.951916975075562,
            17.00631466965774,
            16.953818613363648,
            16.803423871184048,
            16.594357811460902,
            16.356615589211614,
            16.105791256032276,
            15.849814481929451,
            15.59340406065735,
            null,
            null
           ]
          }
         ],
         "name": "2023-08-24 12:19:53",
         "traces": [
          0,
          1,
          2,
          3,
          5,
          6,
          7,
          8
         ]
        },
        {
         "data": [
          {
           "type": "scatter",
           "x": [
            0,
            0
           ],
           "y": [
            0,
            0
           ]
          },
          {
           "hovertemplate": "GroundTruthState<br>(%{x}, %{y})<br>Time: %{meta}",
           "meta": [
            "2023-08-24 12:19:48",
            "2023-08-24 12:19:49",
            "2023-08-24 12:19:50",
            "2023-08-24 12:19:51",
            "2023-08-24 12:19:52",
            "2023-08-24 12:19:53",
            "2023-08-24 12:19:54"
           ],
           "type": "scatter",
           "x": [
            4.11148456878083,
            5.06891869996823,
            6.13410397013244,
            7.3366615923514376,
            8.708739774094598,
            9.661668970928945,
            10.289427281808939,
            null
           ],
           "y": [
            4.681546580969336,
            6.424096316700446,
            8.291557310607626,
            10.210133065599429,
            12.639171131337447,
            15.077240437037124,
            17.463880393414996,
            null
           ]
          },
          {
           "type": "scatter",
           "x": [
            null,
            null
           ],
           "y": [
            null,
            null
           ]
          },
          {
           "hovertemplate": "Detection<br>(%{x}, %{y})<br>Time: %{meta}",
           "meta": [
            "2023-08-24 12:19:48",
            "2023-08-24 12:19:49",
            "2023-08-24 12:19:50",
            "2023-08-24 12:19:51",
            "2023-08-24 12:19:52",
            "2023-08-24 12:19:53",
            "2023-08-24 12:19:54"
           ],
           "type": "scatter",
           "x": [
            4.473015456288891,
            5.832101951594829,
            4.671810836553469,
            6.911778516695591,
            9.916077567508744,
            13.220645587904379,
            9.849936778112074,
            null
           ],
           "y": [
            4.421986485240061,
            9.132252939840042,
            9.016148199021414,
            6.676642845595845,
            13.098478086148488,
            19.91019957588045,
            16.49658945828849,
            null
           ]
          },
          {
           "type": "scatter",
           "x": [
            null,
            null
           ],
           "y": [
            null,
            null
           ]
          },
          {
           "customdata": [
            "2023-08-24 12:19:48",
            "2023-08-24 12:19:49",
            "2023-08-24 12:19:50",
            "2023-08-24 12:19:51",
            "2023-08-24 12:19:52",
            "2023-08-24 12:19:53",
            "2023-08-24 12:19:54"
           ],
           "hovertemplate": "%{meta}<br>(%{x}, %{y})<br>Time: %{customdata}",
           "meta": [
            "GaussianStateUpdate",
            "GaussianStateUpdate",
            "GaussianStateUpdate",
            "GaussianStateUpdate",
            "GaussianStateUpdate",
            "GaussianStateUpdate",
            "GaussianStateUpdate"
           ],
           "type": "scatter",
           "x": [
            4.92065708041839,
            5.812066326317894,
            5.768257036819314,
            6.706787693725208,
            8.539077886904911,
            10.6997236237059,
            11.179326326493777,
            null
           ],
           "y": [
            5.960233873646324,
            8.078700996622002,
            9.583636834655271,
            9.357087783080624,
            11.462963187985977,
            15.52976398421773,
            17.363345714003476,
            null
           ]
          },
          {
           "type": "scatter",
           "x": [
            null
           ],
           "y": [
            null
           ]
          },
          {
           "type": "scatter",
           "x": [
            11.836269677622457,
            11.736897129586882,
            11.618448404047427,
            11.480980354822952,
            11.324232331229046,
            11.148091510670461,
            10.954941996078215,
            10.75581118191203,
            10.577715293204347,
            10.448875407232382,
            10.374341448324884,
            10.344773273587423,
            10.35046101732148,
            10.384598763123792,
            10.442804536332227,
            10.522382975365097,
            10.62176415823244,
            10.740207537594522,
            10.877657501960503,
            11.034420186578162,
            11.21056075396779,
            11.40371074436881,
            11.602827576827934,
            11.780926168220144,
            11.909777289945266,
            11.984311099494818,
            12.01387937082722,
            12.00819373013353,
            11.974052688143754,
            11.91584263067739,
            null,
            null
           ],
           "y": [
            17.116860416388764,
            16.882108150868973,
            16.65798959046782,
            16.44868373674081,
            16.26056041876602,
            16.10382569708571,
            15.995973247961844,
            15.963846448446242,
            16.030672175849947,
            16.185849483617638,
            16.394137330321975,
            16.628053876690878,
            16.87288053178027,
            17.120923435367764,
            17.367630525048483,
            17.609831011618187,
            17.84460150411117,
            18.068707430000718,
            18.277987565236646,
            18.466130867489234,
            18.62286544613135,
            18.730718213009347,
            18.762846084005435,
            18.69602755991425,
            18.540841862030128,
            18.33255456764262,
            18.098637747004027,
            17.85383578795071,
            17.605761617159335,
            17.35904149453459,
            null,
            null
           ]
          }
         ],
         "name": "2023-08-24 12:19:54",
         "traces": [
          0,
          1,
          2,
          3,
          5,
          6,
          7,
          8
         ]
        },
        {
         "data": [
          {
           "type": "scatter",
           "x": [
            0,
            0
           ],
           "y": [
            0,
            0
           ]
          },
          {
           "hovertemplate": "GroundTruthState<br>(%{x}, %{y})<br>Time: %{meta}",
           "meta": [
            "2023-08-24 12:19:49",
            "2023-08-24 12:19:50",
            "2023-08-24 12:19:51",
            "2023-08-24 12:19:52",
            "2023-08-24 12:19:53",
            "2023-08-24 12:19:54",
            "2023-08-24 12:19:55"
           ],
           "type": "scatter",
           "x": [
            5.06891869996823,
            6.13410397013244,
            7.3366615923514376,
            8.708739774094598,
            9.661668970928945,
            10.289427281808939,
            10.908516177930123,
            null
           ],
           "y": [
            6.424096316700446,
            8.291557310607626,
            10.210133065599429,
            12.639171131337447,
            15.077240437037124,
            17.463880393414996,
            19.922987588268054,
            null
           ]
          },
          {
           "type": "scatter",
           "x": [
            null,
            null
           ],
           "y": [
            null,
            null
           ]
          },
          {
           "hovertemplate": "Detection<br>(%{x}, %{y})<br>Time: %{meta}",
           "meta": [
            "2023-08-24 12:19:49",
            "2023-08-24 12:19:50",
            "2023-08-24 12:19:51",
            "2023-08-24 12:19:52",
            "2023-08-24 12:19:53",
            "2023-08-24 12:19:54",
            "2023-08-24 12:19:55"
           ],
           "type": "scatter",
           "x": [
            5.832101951594829,
            4.671810836553469,
            6.911778516695591,
            9.916077567508744,
            13.220645587904379,
            9.849936778112074,
            11.551415784923037,
            null
           ],
           "y": [
            9.132252939840042,
            9.016148199021414,
            6.676642845595845,
            13.098478086148488,
            19.91019957588045,
            16.49658945828849,
            20.2252725135359,
            null
           ]
          },
          {
           "type": "scatter",
           "x": [
            null,
            null
           ],
           "y": [
            null,
            null
           ]
          },
          {
           "customdata": [
            "2023-08-24 12:19:49",
            "2023-08-24 12:19:50",
            "2023-08-24 12:19:51",
            "2023-08-24 12:19:52",
            "2023-08-24 12:19:53",
            "2023-08-24 12:19:54",
            "2023-08-24 12:19:55"
           ],
           "hovertemplate": "%{meta}<br>(%{x}, %{y})<br>Time: %{customdata}",
           "meta": [
            "GaussianStateUpdate",
            "GaussianStateUpdate",
            "GaussianStateUpdate",
            "GaussianStateUpdate",
            "GaussianStateUpdate",
            "GaussianStateUpdate",
            "GaussianStateUpdate"
           ],
           "type": "scatter",
           "x": [
            5.812066326317894,
            5.768257036819314,
            6.706787693725208,
            8.539077886904911,
            10.6997236237059,
            11.179326326493777,
            11.912364262727289,
            null
           ],
           "y": [
            8.078700996622002,
            9.583636834655271,
            9.357087783080624,
            11.462963187985977,
            15.52976398421773,
            17.363345714003476,
            19.724985264915144,
            null
           ]
          },
          {
           "type": "scatter",
           "x": [
            null
           ],
           "y": [
            null
           ]
          },
          {
           "type": "scatter",
           "x": [
            12.550898853281947,
            12.436638960666375,
            12.304006144675606,
            12.153363969069789,
            11.984928242350026,
            11.799349272163987,
            11.60029788790028,
            11.400580137093993,
            11.228178467454518,
            11.109944396084263,
            11.048815081969334,
            11.034064848621052,
            11.055223869294245,
            11.105052805281886,
            11.178890045953306,
            11.273829672172631,
            11.388098943497942,
            11.520725883368069,
            11.671347465477774,
            11.839800148614465,
            12.025378888757627,
            12.224430721731975,
            12.424135401485346,
            12.596540034242576,
            12.714784166048176,
            12.775913375731296,
            12.790663680381106,
            12.769508560288623,
            12.71967417620933,
            12.645832045187438,
            null,
            null
           ],
           "y": [
            19.4353321950073,
            19.209134644808316,
            18.9948839928408,
            18.796774938432637,
            18.621205091679165,
            18.478347688148638,
            18.38533607103148,
            18.367649748160268,
            18.445858804086793,
            18.607770933660696,
            18.81880658784881,
            19.05253743024885,
            19.294942889125295,
            19.538748393981404,
            19.779655678536937,
            20.014638334822987,
            20.240852646953527,
            20.455091655265687,
            20.653175440726717,
            20.828765315699613,
            20.971622612607185,
            21.06463448374372,
            21.08232273466192,
            21.00412021087117,
            20.842199516401955,
            20.631164367150614,
            20.397433281431294,
            20.155053773183333,
            19.911216129097784,
            19.670296753720272,
            null,
            null
           ]
          }
         ],
         "name": "2023-08-24 12:19:55",
         "traces": [
          0,
          1,
          2,
          3,
          5,
          6,
          7,
          8
         ]
        },
        {
         "data": [
          {
           "type": "scatter",
           "x": [
            0,
            0
           ],
           "y": [
            0,
            0
           ]
          },
          {
           "hovertemplate": "GroundTruthState<br>(%{x}, %{y})<br>Time: %{meta}",
           "meta": [
            "2023-08-24 12:19:50",
            "2023-08-24 12:19:51",
            "2023-08-24 12:19:52",
            "2023-08-24 12:19:53",
            "2023-08-24 12:19:54",
            "2023-08-24 12:19:55",
            "2023-08-24 12:19:56"
           ],
           "type": "scatter",
           "x": [
            6.13410397013244,
            7.3366615923514376,
            8.708739774094598,
            9.661668970928945,
            10.289427281808939,
            10.908516177930123,
            11.436494854095882,
            null
           ],
           "y": [
            8.291557310607626,
            10.210133065599429,
            12.639171131337447,
            15.077240437037124,
            17.463880393414996,
            19.922987588268054,
            22.43523846129129,
            null
           ]
          },
          {
           "type": "scatter",
           "x": [
            null,
            null
           ],
           "y": [
            null,
            null
           ]
          },
          {
           "hovertemplate": "Detection<br>(%{x}, %{y})<br>Time: %{meta}",
           "meta": [
            "2023-08-24 12:19:50",
            "2023-08-24 12:19:51",
            "2023-08-24 12:19:52",
            "2023-08-24 12:19:53",
            "2023-08-24 12:19:54",
            "2023-08-24 12:19:55",
            "2023-08-24 12:19:56"
           ],
           "type": "scatter",
           "x": [
            4.671810836553469,
            6.911778516695591,
            9.916077567508744,
            13.220645587904379,
            9.849936778112074,
            11.551415784923037,
            13.495870684052171,
            null
           ],
           "y": [
            9.016148199021414,
            6.676642845595845,
            13.098478086148488,
            19.91019957588045,
            16.49658945828849,
            20.2252725135359,
            26.375572252575715,
            null
           ]
          },
          {
           "type": "scatter",
           "x": [
            null,
            null
           ],
           "y": [
            null,
            null
           ]
          },
          {
           "customdata": [
            "2023-08-24 12:19:50",
            "2023-08-24 12:19:51",
            "2023-08-24 12:19:52",
            "2023-08-24 12:19:53",
            "2023-08-24 12:19:54",
            "2023-08-24 12:19:55",
            "2023-08-24 12:19:56"
           ],
           "hovertemplate": "%{meta}<br>(%{x}, %{y})<br>Time: %{customdata}",
           "meta": [
            "GaussianStateUpdate",
            "GaussianStateUpdate",
            "GaussianStateUpdate",
            "GaussianStateUpdate",
            "GaussianStateUpdate",
            "GaussianStateUpdate",
            "GaussianStateUpdate"
           ],
           "type": "scatter",
           "x": [
            5.768257036819314,
            6.706787693725208,
            8.539077886904911,
            10.6997236237059,
            11.179326326493777,
            11.912364262727289,
            12.750422544487641,
            null
           ],
           "y": [
            9.583636834655271,
            9.357087783080624,
            11.462963187985977,
            15.52976398421773,
            17.363345714003476,
            19.724985264915144,
            23.55214707653741,
            null
           ]
          },
          {
           "type": "scatter",
           "x": [
            null
           ],
           "y": [
            null
           ]
          },
          {
           "type": "scatter",
           "x": [
            13.369534269611146,
            13.241275709182135,
            13.095451881186206,
            12.932672978118946,
            12.753528954762874,
            12.559265384306666,
            12.354558198028128,
            12.153770551143847,
            11.986327060267758,
            11.878495950796108,
            11.830935010176718,
            11.831119395580838,
            11.867652306554213,
            11.932836091400281,
            12.021749883039034,
            12.131310819364137,
            12.25957998376222,
            12.405397088162532,
            12.568154251132556,
            12.74731598814371,
            12.941579309010573,
            13.146286978722635,
            13.347061375819942,
            13.51450832766975,
            13.62234917048489,
            13.669910036469867,
            13.669725708957998,
            13.63319819764941,
            13.568007044603998,
            13.4790875039191,
            null,
            null
           ],
           "y": [
            23.223587941991894,
            23.004494161655494,
            22.79842732278065,
            22.609537283418057,
            22.444182697298167,
            22.31247970265788,
            22.231361067285576,
            22.225683847759058,
            22.31454935228749,
            22.48400457592029,
            22.699000990851246,
            22.933700493515683,
            23.17476590998077,
            23.41541398494698,
            23.651667601424936,
            23.880706211082924,
            24.099816468595243,
            24.30587181481757,
            24.494738242998306,
            24.660111338122093,
            24.791814233742087,
            24.872933106187524,
            24.87861311116484,
            24.789754128230797,
            24.62028949302982,
            24.405293611335544,
            24.17059384647204,
            23.92955347397673,
            23.68887416074272,
            23.452608534424282,
            null,
            null
           ]
          }
         ],
         "name": "2023-08-24 12:19:56",
         "traces": [
          0,
          1,
          2,
          3,
          5,
          6,
          7,
          8
         ]
        },
        {
         "data": [
          {
           "type": "scatter",
           "x": [
            0,
            0
           ],
           "y": [
            0,
            0
           ]
          },
          {
           "hovertemplate": "GroundTruthState<br>(%{x}, %{y})<br>Time: %{meta}",
           "meta": [
            "2023-08-24 12:19:51",
            "2023-08-24 12:19:52",
            "2023-08-24 12:19:53",
            "2023-08-24 12:19:54",
            "2023-08-24 12:19:55",
            "2023-08-24 12:19:56",
            "2023-08-24 12:19:57"
           ],
           "type": "scatter",
           "x": [
            7.3366615923514376,
            8.708739774094598,
            9.661668970928945,
            10.289427281808939,
            10.908516177930123,
            11.436494854095882,
            12.083757383111475,
            null
           ],
           "y": [
            10.210133065599429,
            12.639171131337447,
            15.077240437037124,
            17.463880393414996,
            19.922987588268054,
            22.43523846129129,
            25.226253707256983,
            null
           ]
          },
          {
           "type": "scatter",
           "x": [
            null,
            null
           ],
           "y": [
            null,
            null
           ]
          },
          {
           "hovertemplate": "Detection<br>(%{x}, %{y})<br>Time: %{meta}",
           "meta": [
            "2023-08-24 12:19:51",
            "2023-08-24 12:19:52",
            "2023-08-24 12:19:53",
            "2023-08-24 12:19:54",
            "2023-08-24 12:19:55",
            "2023-08-24 12:19:56",
            "2023-08-24 12:19:57"
           ],
           "type": "scatter",
           "x": [
            6.911778516695591,
            9.916077567508744,
            13.220645587904379,
            9.849936778112074,
            11.551415784923037,
            13.495870684052171,
            9.210581625879016,
            null
           ],
           "y": [
            6.676642845595845,
            13.098478086148488,
            19.91019957588045,
            16.49658945828849,
            20.2252725135359,
            26.375572252575715,
            20.92614686262786,
            null
           ]
          },
          {
           "type": "scatter",
           "x": [
            null,
            null
           ],
           "y": [
            null,
            null
           ]
          },
          {
           "customdata": [
            "2023-08-24 12:19:51",
            "2023-08-24 12:19:52",
            "2023-08-24 12:19:53",
            "2023-08-24 12:19:54",
            "2023-08-24 12:19:55",
            "2023-08-24 12:19:56",
            "2023-08-24 12:19:57"
           ],
           "hovertemplate": "%{meta}<br>(%{x}, %{y})<br>Time: %{customdata}",
           "meta": [
            "GaussianStateUpdate",
            "GaussianStateUpdate",
            "GaussianStateUpdate",
            "GaussianStateUpdate",
            "GaussianStateUpdate",
            "GaussianStateUpdate",
            "GaussianStateUpdate"
           ],
           "type": "scatter",
           "x": [
            6.706787693725208,
            8.539077886904911,
            10.6997236237059,
            11.179326326493777,
            11.912364262727289,
            12.750422544487641,
            12.09938806414312,
            null
           ],
           "y": [
            9.357087783080624,
            11.462963187985977,
            15.52976398421773,
            17.363345714003476,
            19.724985264915144,
            23.55214707653741,
            24.6604876994617,
            null
           ]
          },
          {
           "type": "scatter",
           "x": [
            null
           ],
           "y": [
            null
           ]
          },
          {
           "type": "scatter",
           "x": [
            12.691899713503513,
            12.546031389876358,
            12.383724266143407,
            12.205853271573258,
            12.013406267866323,
            11.80827151704731,
            11.596238777883864,
            11.393633810610218,
            11.23229802811251,
            11.138271732212054,
            11.10888099059366,
            11.128869303077522,
            11.185526072301203,
            11.270568027391786,
            11.378774926661688,
            11.506876414782727,
            11.652757529385115,
            11.815056421950725,
            11.992905533232133,
            12.185369686818879,
            12.390504119526224,
            12.602537448571477,
            12.805128072785621,
            12.96646828510178,
            13.060504423652283,
            13.08989513259567,
            13.069906860080824,
            13.01325677849691,
            12.928205494108441,
            12.819991369110262,
            null,
            null
           ],
           "y": [
            24.285234803219687,
            24.074577236958138,
            23.878134524405343,
            23.69995438232678,
            23.546298285093492,
            23.427196477745134,
            23.3594535246842,
            23.367675496110156,
            23.469858504727036,
            23.649495778185216,
            23.870139059328803,
            24.10649856953117,
            24.34618048927987,
            24.58311712853679,
            24.81380580979209,
            25.035740595703714,
            25.246415085993423,
            25.442845913973382,
            25.62100538962485,
            25.77467699317419,
            25.89377869432448,
            25.961521890150134,
            25.95330402444347,
            25.851128010360313,
            25.67147952518831,
            25.450836881090723,
            25.214477037908562,
            24.97481725048214,
            24.7378519940322,
            24.5071507914336,
            null,
            null
           ]
          }
         ],
         "name": "2023-08-24 12:19:57",
         "traces": [
          0,
          1,
          2,
          3,
          5,
          6,
          7,
          8
         ]
        },
        {
         "data": [
          {
           "type": "scatter",
           "x": [
            0,
            0
           ],
           "y": [
            0,
            0
           ]
          },
          {
           "hovertemplate": "GroundTruthState<br>(%{x}, %{y})<br>Time: %{meta}",
           "meta": [
            "2023-08-24 12:19:52",
            "2023-08-24 12:19:53",
            "2023-08-24 12:19:54",
            "2023-08-24 12:19:55",
            "2023-08-24 12:19:56",
            "2023-08-24 12:19:57",
            "2023-08-24 12:19:58"
           ],
           "type": "scatter",
           "x": [
            8.708739774094598,
            9.661668970928945,
            10.289427281808939,
            10.908516177930123,
            11.436494854095882,
            12.083757383111475,
            12.857255540294025,
            null
           ],
           "y": [
            12.639171131337447,
            15.077240437037124,
            17.463880393414996,
            19.922987588268054,
            22.43523846129129,
            25.226253707256983,
            28.317087024384634,
            null
           ]
          },
          {
           "type": "scatter",
           "x": [
            null,
            null
           ],
           "y": [
            null,
            null
           ]
          },
          {
           "hovertemplate": "Detection<br>(%{x}, %{y})<br>Time: %{meta}",
           "meta": [
            "2023-08-24 12:19:52",
            "2023-08-24 12:19:53",
            "2023-08-24 12:19:54",
            "2023-08-24 12:19:55",
            "2023-08-24 12:19:56",
            "2023-08-24 12:19:57",
            "2023-08-24 12:19:58"
           ],
           "type": "scatter",
           "x": [
            9.916077567508744,
            13.220645587904379,
            9.849936778112074,
            11.551415784923037,
            13.495870684052171,
            9.210581625879016,
            14.82617191695391,
            null
           ],
           "y": [
            13.098478086148488,
            19.91019957588045,
            16.49658945828849,
            20.2252725135359,
            26.375572252575715,
            20.92614686262786,
            29.981721626438464,
            null
           ]
          },
          {
           "type": "scatter",
           "x": [
            null,
            null
           ],
           "y": [
            null,
            null
           ]
          },
          {
           "customdata": [
            "2023-08-24 12:19:52",
            "2023-08-24 12:19:53",
            "2023-08-24 12:19:54",
            "2023-08-24 12:19:55",
            "2023-08-24 12:19:56",
            "2023-08-24 12:19:57",
            "2023-08-24 12:19:58"
           ],
           "hovertemplate": "%{meta}<br>(%{x}, %{y})<br>Time: %{customdata}",
           "meta": [
            "GaussianStateUpdate",
            "GaussianStateUpdate",
            "GaussianStateUpdate",
            "GaussianStateUpdate",
            "GaussianStateUpdate",
            "GaussianStateUpdate",
            "GaussianStateUpdate"
           ],
           "type": "scatter",
           "x": [
            8.539077886904911,
            10.6997236237059,
            11.179326326493777,
            11.912364262727289,
            12.750422544487641,
            12.09938806414312,
            13.198186310370232,
            null
           ],
           "y": [
            11.462963187985977,
            15.52976398421773,
            17.363345714003476,
            19.724985264915144,
            23.55214707653741,
            24.6604876994617,
            27.87973397620881,
            null
           ]
          },
          {
           "type": "scatter",
           "x": [
            null
           ],
           "y": [
            null
           ]
          },
          {
           "type": "scatter",
           "x": [
            13.775883215421658,
            13.619940490912132,
            13.44827725502005,
            13.261814124112247,
            13.061594227561093,
            12.849619523815837,
            12.631949126074431,
            12.426012598410702,
            12.266517765497069,
            12.180733360658607,
            12.163085784621558,
            12.19574081640663,
            12.26492620226226,
            12.362001316383342,
            12.481624914614967,
            12.620489405318807,
            12.776447714020117,
            12.9481007967684,
            13.13454497501269,
            13.334778172095232,
            13.54675238963084,
            13.764423610722393,
            13.970342955588807,
            14.12984365474295,
            14.215639286283825,
            14.233286869787761,
            14.200631860749931,
            14.131452303674395,
            14.034367999451696,
            13.91473538228743,
            null,
            null
           ],
           "y": [
            27.48295214692046,
            27.27421713139635,
            27.080028348419976,
            26.904306251443177,
            26.75319084415288,
            26.636687213267177,
            26.571887185595536,
            26.584613024390546,
            26.694165770600893,
            26.881797381799338,
            27.108222665744652,
            27.347888633124544,
            27.589023481967963,
            27.82611014880825,
            28.056020979195548,
            28.276515805497162,
            28.48527001779297,
            28.679445233426346,
            28.855150195717886,
            29.006276962800467,
            29.12278043108015,
            29.187580783380188,
            29.174860364982994,
            29.065316159761004,
            28.87767045635234,
            28.651246057411726,
            28.411579577856948,
            28.17046122065804,
            27.933350713873843,
            27.703425537128858,
            null,
            null
           ]
          }
         ],
         "name": "2023-08-24 12:19:58",
         "traces": [
          0,
          1,
          2,
          3,
          5,
          6,
          7,
          8
         ]
        },
        {
         "data": [
          {
           "type": "scatter",
           "x": [
            0,
            0
           ],
           "y": [
            0,
            0
           ]
          },
          {
           "hovertemplate": "GroundTruthState<br>(%{x}, %{y})<br>Time: %{meta}",
           "meta": [
            "2023-08-24 12:19:53",
            "2023-08-24 12:19:54",
            "2023-08-24 12:19:55",
            "2023-08-24 12:19:56",
            "2023-08-24 12:19:57",
            "2023-08-24 12:19:58",
            "2023-08-24 12:19:59"
           ],
           "type": "scatter",
           "x": [
            9.661668970928945,
            10.289427281808939,
            10.908516177930123,
            11.436494854095882,
            12.083757383111475,
            12.857255540294025,
            13.664009379110695,
            null
           ],
           "y": [
            15.077240437037124,
            17.463880393414996,
            19.922987588268054,
            22.43523846129129,
            25.226253707256983,
            28.317087024384634,
            31.653600280950233,
            null
           ]
          },
          {
           "type": "scatter",
           "x": [
            null,
            null
           ],
           "y": [
            null,
            null
           ]
          },
          {
           "hovertemplate": "Detection<br>(%{x}, %{y})<br>Time: %{meta}",
           "meta": [
            "2023-08-24 12:19:53",
            "2023-08-24 12:19:54",
            "2023-08-24 12:19:55",
            "2023-08-24 12:19:56",
            "2023-08-24 12:19:57",
            "2023-08-24 12:19:58",
            "2023-08-24 12:19:59"
           ],
           "type": "scatter",
           "x": [
            13.220645587904379,
            9.849936778112074,
            11.551415784923037,
            13.495870684052171,
            9.210581625879016,
            14.82617191695391,
            11.69408565874592,
            null
           ],
           "y": [
            19.91019957588045,
            16.49658945828849,
            20.2252725135359,
            26.375572252575715,
            20.92614686262786,
            29.981721626438464,
            27.230418264224394,
            null
           ]
          },
          {
           "type": "scatter",
           "x": [
            null,
            null
           ],
           "y": [
            null,
            null
           ]
          },
          {
           "customdata": [
            "2023-08-24 12:19:53",
            "2023-08-24 12:19:54",
            "2023-08-24 12:19:55",
            "2023-08-24 12:19:56",
            "2023-08-24 12:19:57",
            "2023-08-24 12:19:58",
            "2023-08-24 12:19:59"
           ],
           "hovertemplate": "%{meta}<br>(%{x}, %{y})<br>Time: %{customdata}",
           "meta": [
            "GaussianStateUpdate",
            "GaussianStateUpdate",
            "GaussianStateUpdate",
            "GaussianStateUpdate",
            "GaussianStateUpdate",
            "GaussianStateUpdate",
            "GaussianStateUpdate"
           ],
           "type": "scatter",
           "x": [
            10.6997236237059,
            11.179326326493777,
            11.912364262727289,
            12.750422544487641,
            12.09938806414312,
            13.198186310370232,
            13.166626259390288,
            null
           ],
           "y": [
            15.52976398421773,
            17.363345714003476,
            19.724985264915144,
            23.55214707653741,
            24.6604876994617,
            27.87973397620881,
            29.2984146767556,
            null
           ]
          },
          {
           "type": "scatter",
           "x": [
            null
           ],
           "y": [
            null
           ]
          },
          {
           "type": "scatter",
           "x": [
            13.722041501687691,
            13.55273240805497,
            13.368632331281004,
            13.17079243153958,
            12.960449525281138,
            12.739949178391264,
            12.516003394136611,
            12.307639447040852,
            12.152570151637548,
            12.078550082438747,
            12.076360559949276,
            12.12539683419094,
            12.210796584532517,
            12.323540257099518,
            12.45813745163062,
            12.611211017092884,
            12.780538759935816,
            12.964626547897964,
            13.162449942772527,
            13.372802725236355,
            13.593302397099944,
            13.817249252719414,
            14.025593620934437,
            14.180670447372416,
            14.254702456370149,
            14.256892070457338,
            14.20785577042855,
            14.122460909601049,
            14.009708122506428,
            13.875099857189335,
            null,
            null
           ],
           "y": [
            28.87056681728936,
            28.66758359355585,
            28.479778567628742,
            28.310951152432438,
            28.167118624015426,
            28.05820884623532,
            28.00136967203673,
            28.022945181646598,
            28.14240605907559,
            28.33834890254242,
            28.5693859878104,
            28.81037736562741,
            29.05047146495444,
            29.284823769003925,
            29.510737730496043,
            29.726262536221835,
            29.929266412613856,
            30.11705674542124,
            30.285870378038698,
            30.42971056991769,
            30.538620142874798,
            30.595459694562027,
            30.57389136632031,
            30.454440265383948,
            30.258480323793815,
            30.027444370749365,
            29.786452287986975,
            29.546369693473487,
            29.311997913913835,
            29.086068321031483,
            null,
            null
           ]
          }
         ],
         "name": "2023-08-24 12:19:59",
         "traces": [
          0,
          1,
          2,
          3,
          5,
          6,
          7,
          8
         ]
        },
        {
         "data": [
          {
           "type": "scatter",
           "x": [
            0,
            0
           ],
           "y": [
            0,
            0
           ]
          },
          {
           "hovertemplate": "GroundTruthState<br>(%{x}, %{y})<br>Time: %{meta}",
           "meta": [
            "2023-08-24 12:19:54",
            "2023-08-24 12:19:55",
            "2023-08-24 12:19:56",
            "2023-08-24 12:19:57",
            "2023-08-24 12:19:58",
            "2023-08-24 12:19:59",
            "2023-08-24 12:20:00"
           ],
           "type": "scatter",
           "x": [
            10.289427281808939,
            10.908516177930123,
            11.436494854095882,
            12.083757383111475,
            12.857255540294025,
            13.664009379110695,
            14.660941996461847,
            null
           ],
           "y": [
            17.463880393414996,
            19.922987588268054,
            22.43523846129129,
            25.226253707256983,
            28.317087024384634,
            31.653600280950233,
            34.95982666405545,
            null
           ]
          },
          {
           "type": "scatter",
           "x": [
            null,
            null
           ],
           "y": [
            null,
            null
           ]
          },
          {
           "hovertemplate": "Detection<br>(%{x}, %{y})<br>Time: %{meta}",
           "meta": [
            "2023-08-24 12:19:54",
            "2023-08-24 12:19:55",
            "2023-08-24 12:19:56",
            "2023-08-24 12:19:57",
            "2023-08-24 12:19:58",
            "2023-08-24 12:19:59",
            "2023-08-24 12:20:00"
           ],
           "type": "scatter",
           "x": [
            9.849936778112074,
            11.551415784923037,
            13.495870684052171,
            9.210581625879016,
            14.82617191695391,
            11.69408565874592,
            16.034063908529554,
            null
           ],
           "y": [
            16.49658945828849,
            20.2252725135359,
            26.375572252575715,
            20.92614686262786,
            29.981721626438464,
            27.230418264224394,
            36.07693971814103,
            null
           ]
          },
          {
           "type": "scatter",
           "x": [
            null,
            null
           ],
           "y": [
            null,
            null
           ]
          },
          {
           "customdata": [
            "2023-08-24 12:19:54",
            "2023-08-24 12:19:55",
            "2023-08-24 12:19:56",
            "2023-08-24 12:19:57",
            "2023-08-24 12:19:58",
            "2023-08-24 12:19:59",
            "2023-08-24 12:20:00"
           ],
           "hovertemplate": "%{meta}<br>(%{x}, %{y})<br>Time: %{customdata}",
           "meta": [
            "GaussianStateUpdate",
            "GaussianStateUpdate",
            "GaussianStateUpdate",
            "GaussianStateUpdate",
            "GaussianStateUpdate",
            "GaussianStateUpdate",
            "GaussianStateUpdate"
           ],
           "type": "scatter",
           "x": [
            11.179326326493777,
            11.912364262727289,
            12.750422544487641,
            12.09938806414312,
            13.198186310370232,
            13.166626259390288,
            14.125230466084785,
            null
           ],
           "y": [
            17.363345714003476,
            19.724985264915144,
            23.55214707653741,
            24.6604876994617,
            27.87973397620881,
            29.2984146767556,
            33.162874425093335,
            null
           ]
          },
          {
           "type": "scatter",
           "x": [
            null
           ],
           "y": [
            null
           ]
          },
          {
           "type": "scatter",
           "x": [
            14.66518747950808,
            14.486509263912417,
            14.293700375065152,
            14.087857799623382,
            13.870279839244123,
            13.6434481546532,
            13.414374948829039,
            13.203224619721407,
            13.050644641901554,
            12.98530280679323,
            12.994695373288076,
            13.05582361055487,
            13.152999915174526,
            13.27697391241888,
            13.422193285347914,
            13.58527345266149,
            13.763973454120544,
            13.956767856559319,
            14.162597447563673,
            14.380180773486904,
            14.607011525025591,
            14.836086118019027,
            15.047213924873132,
            15.199803325736394,
            15.26515813963039,
            15.25576576910397,
            15.194637437908117,
            15.09746401378398,
            14.973482068712185,
            14.828249534320967,
            null,
            null
           ],
           "y": [
            32.716058793444105,
            32.51603096396267,
            32.33146164717301,
            32.16604237027438,
            32.02567828790362,
            31.920244736199244,
            31.867050352944233,
            31.893360934186948,
            32.01963079824713,
            32.22210838387572,
            32.4570905972323,
            32.699643075344454,
            32.93964819041084,
            33.17279258956562,
            33.39671419185422,
            33.609690056742565,
            33.80974047407403,
            33.99429363344465,
            34.15970234638615,
            34.30007038305313,
            34.405503661414826,
            34.458698508385254,
            34.43239684930675,
            34.30613837257954,
            34.10364033192613,
            33.86865956800632,
            33.62610612217517,
            33.38610701778815,
            33.15294788687027,
            32.92900903076659,
            null,
            null
           ]
          }
         ],
         "name": "2023-08-24 12:20:00",
         "traces": [
          0,
          1,
          2,
          3,
          5,
          6,
          7,
          8
         ]
        },
        {
         "data": [
          {
           "type": "scatter",
           "x": [
            0,
            0
           ],
           "y": [
            0,
            0
           ]
          },
          {
           "hovertemplate": "GroundTruthState<br>(%{x}, %{y})<br>Time: %{meta}",
           "meta": [
            "2023-08-24 12:19:55",
            "2023-08-24 12:19:56",
            "2023-08-24 12:19:57",
            "2023-08-24 12:19:58",
            "2023-08-24 12:19:59",
            "2023-08-24 12:20:00",
            "2023-08-24 12:20:01"
           ],
           "type": "scatter",
           "x": [
            10.908516177930123,
            11.436494854095882,
            12.083757383111475,
            12.857255540294025,
            13.664009379110695,
            14.660941996461847,
            15.763691585187004,
            null
           ],
           "y": [
            19.922987588268054,
            22.43523846129129,
            25.226253707256983,
            28.317087024384634,
            31.653600280950233,
            34.95982666405545,
            38.32678424492485,
            null
           ]
          },
          {
           "type": "scatter",
           "x": [
            null,
            null
           ],
           "y": [
            null,
            null
           ]
          },
          {
           "hovertemplate": "Detection<br>(%{x}, %{y})<br>Time: %{meta}",
           "meta": [
            "2023-08-24 12:19:55",
            "2023-08-24 12:19:56",
            "2023-08-24 12:19:57",
            "2023-08-24 12:19:58",
            "2023-08-24 12:19:59",
            "2023-08-24 12:20:00",
            "2023-08-24 12:20:01"
           ],
           "type": "scatter",
           "x": [
            11.551415784923037,
            13.495870684052171,
            9.210581625879016,
            14.82617191695391,
            11.69408565874592,
            16.034063908529554,
            19.222623463959337,
            null
           ],
           "y": [
            20.2252725135359,
            26.375572252575715,
            20.92614686262786,
            29.981721626438464,
            27.230418264224394,
            36.07693971814103,
            39.61561849446899,
            null
           ]
          },
          {
           "type": "scatter",
           "x": [
            null,
            null
           ],
           "y": [
            null,
            null
           ]
          },
          {
           "customdata": [
            "2023-08-24 12:19:55",
            "2023-08-24 12:19:56",
            "2023-08-24 12:19:57",
            "2023-08-24 12:19:58",
            "2023-08-24 12:19:59",
            "2023-08-24 12:20:00",
            "2023-08-24 12:20:01"
           ],
           "hovertemplate": "%{meta}<br>(%{x}, %{y})<br>Time: %{customdata}",
           "meta": [
            "GaussianStateUpdate",
            "GaussianStateUpdate",
            "GaussianStateUpdate",
            "GaussianStateUpdate",
            "GaussianStateUpdate",
            "GaussianStateUpdate",
            "GaussianStateUpdate"
           ],
           "type": "scatter",
           "x": [
            11.912364262727289,
            12.750422544487641,
            12.09938806414312,
            13.198186310370232,
            13.166626259390288,
            14.125230466084785,
            15.902094388970763,
            null
           ],
           "y": [
            19.724985264915144,
            23.55214707653741,
            24.6604876994617,
            27.87973397620881,
            29.2984146767556,
            33.162874425093335,
            36.98247299022167,
            null
           ]
          },
          {
           "type": "scatter",
           "x": [
            null
           ],
           "y": [
            null
           ]
          },
          {
           "type": "scatter",
           "x": [
            16.416191036308632,
            16.223634865227616,
            16.017945144025,
            15.800335600557352,
            15.572280453411318,
            15.336600582594038,
            15.100972255961207,
            14.887368058775388,
            14.74023215340512,
            14.68860737501508,
            14.715292219677057,
            14.79421489153488,
            14.908694813071662,
            15.049205070053597,
            15.210109126798448,
            15.387997741632894,
            15.580579893629412,
            15.786252161129797,
            16.003852895656998,
            16.231907943072496,
            16.467586515615714,
            16.703216652770625,
            16.916828406926495,
            17.06396068042866,
            17.115581407219103,
            17.08889695681087,
            17.009974048380098,
            16.89549412734267,
            16.754977612442936,
            16.59405751449682,
            null,
            null
           ],
           "y": [
            36.505790419999144,
            36.31285246050558,
            36.13591595906376,
            35.97853978957878,
            35.846484549726405,
            35.749511198984166,
            35.70492940040131,
            35.740542160418826,
            35.87696640952307,
            36.0872837439261,
            36.32560509175124,
            36.56792588557545,
            36.80529066124615,
            37.03414000273259,
            37.252569240910994,
            37.4591555604442,
            37.65211768480643,
            37.8290367791671,
            37.98640600662002,
            38.11846123943032,
            38.215434254732365,
            38.260016585629096,
            38.22440033399221,
            38.08797216796014,
            37.87766210567808,
            37.63934260336431,
            37.39702048966551,
            37.15965561401721,
            36.930796965130185,
            36.71234901016632,
            null,
            null
           ]
          }
         ],
         "name": "2023-08-24 12:20:01",
         "traces": [
          0,
          1,
          2,
          3,
          5,
          6,
          7,
          8
         ]
        },
        {
         "data": [
          {
           "type": "scatter",
           "x": [
            0,
            0
           ],
           "y": [
            0,
            0
           ]
          },
          {
           "hovertemplate": "GroundTruthState<br>(%{x}, %{y})<br>Time: %{meta}",
           "meta": [
            "2023-08-24 12:19:56",
            "2023-08-24 12:19:57",
            "2023-08-24 12:19:58",
            "2023-08-24 12:19:59",
            "2023-08-24 12:20:00",
            "2023-08-24 12:20:01",
            "2023-08-24 12:20:02"
           ],
           "type": "scatter",
           "x": [
            11.436494854095882,
            12.083757383111475,
            12.857255540294025,
            13.664009379110695,
            14.660941996461847,
            15.763691585187004,
            16.994297584708747,
            null
           ],
           "y": [
            22.43523846129129,
            25.226253707256983,
            28.317087024384634,
            31.653600280950233,
            34.95982666405545,
            38.32678424492485,
            41.65059655664205,
            null
           ]
          },
          {
           "type": "scatter",
           "x": [
            null,
            null
           ],
           "y": [
            null,
            null
           ]
          },
          {
           "hovertemplate": "Detection<br>(%{x}, %{y})<br>Time: %{meta}",
           "meta": [
            "2023-08-24 12:19:56",
            "2023-08-24 12:19:57",
            "2023-08-24 12:19:58",
            "2023-08-24 12:19:59",
            "2023-08-24 12:20:00",
            "2023-08-24 12:20:01",
            "2023-08-24 12:20:02"
           ],
           "type": "scatter",
           "x": [
            13.495870684052171,
            9.210581625879016,
            14.82617191695391,
            11.69408565874592,
            16.034063908529554,
            19.222623463959337,
            17.806013715912897,
            null
           ],
           "y": [
            26.375572252575715,
            20.92614686262786,
            29.981721626438464,
            27.230418264224394,
            36.07693971814103,
            39.61561849446899,
            42.69631698501642,
            null
           ]
          },
          {
           "type": "scatter",
           "x": [
            null,
            null
           ],
           "y": [
            null,
            null
           ]
          },
          {
           "customdata": [
            "2023-08-24 12:19:56",
            "2023-08-24 12:19:57",
            "2023-08-24 12:19:58",
            "2023-08-24 12:19:59",
            "2023-08-24 12:20:00",
            "2023-08-24 12:20:01",
            "2023-08-24 12:20:02"
           ],
           "hovertemplate": "%{meta}<br>(%{x}, %{y})<br>Time: %{customdata}",
           "meta": [
            "GaussianStateUpdate",
            "GaussianStateUpdate",
            "GaussianStateUpdate",
            "GaussianStateUpdate",
            "GaussianStateUpdate",
            "GaussianStateUpdate",
            "GaussianStateUpdate"
           ],
           "type": "scatter",
           "x": [
            12.750422544487641,
            12.09938806414312,
            13.198186310370232,
            13.166626259390288,
            14.125230466084785,
            15.902094388970763,
            16.908064798359828,
            null
           ],
           "y": [
            23.55214707653741,
            24.6604876994617,
            27.87973397620881,
            29.2984146767556,
            33.162874425093335,
            36.98247299022167,
            41.02185974297869,
            null
           ]
          },
          {
           "type": "scatter",
           "x": [
            null
           ],
           "y": [
            null
           ]
          },
          {
           "type": "scatter",
           "x": [
            16.429186808503296,
            16.637951500219334,
            16.858596137187398,
            17.089738658568255,
            17.329620035357788,
            17.57492332992023,
            17.81700084854927,
            18.03160264916891,
            18.170249259491342,
            18.204308403318063,
            18.156639108477588,
            18.05650880120273,
            17.921551878130945,
            17.76154315979509,
            17.582194609055573,
            17.38694278821636,
            17.178147430664442,
            16.957523592426124,
            16.726390004666207,
            16.486510004516457,
            16.241208433055487,
            15.999128635896273,
            15.784522917270582,
            15.645878476623428,
            15.611821199411706,
            15.659489803314269,
            15.759620577642524,
            15.894578307035452,
            16.05459387294801,
            16.2339617745646,
            null,
            null
           ],
           "y": [
            41.53443528677912,
            41.715904470871536,
            41.880671358529106,
            42.02532671751527,
            42.144271560090736,
            42.22793990442944,
            42.25924426014925,
            42.210503550314705,
            42.062102868357314,
            41.844682873044384,
            41.60528725307658,
            41.36623262405308,
            41.13498222083048,
            40.914203352720826,
            40.70527470973515,
            40.50928419917826,
            40.32779025317964,
            40.16304134570772,
            40.0183922421623,
            39.899448114086255,
            39.81578012061615,
            39.78447522742489,
            39.83321807483064,
            39.981620783825335,
            40.19903672503776,
            40.438430108226605,
            40.67748643255205,
            40.90873816072473,
            41.12952551710956,
            41.33847369001565,
            null,
            null
           ]
          }
         ],
         "name": "2023-08-24 12:20:02",
         "traces": [
          0,
          1,
          2,
          3,
          5,
          6,
          7,
          8
         ]
        },
        {
         "data": [
          {
           "type": "scatter",
           "x": [
            0,
            0
           ],
           "y": [
            0,
            0
           ]
          },
          {
           "hovertemplate": "GroundTruthState<br>(%{x}, %{y})<br>Time: %{meta}",
           "meta": [
            "2023-08-24 12:19:57",
            "2023-08-24 12:19:58",
            "2023-08-24 12:19:59",
            "2023-08-24 12:20:00",
            "2023-08-24 12:20:01",
            "2023-08-24 12:20:02",
            "2023-08-24 12:20:03"
           ],
           "type": "scatter",
           "x": [
            12.083757383111475,
            12.857255540294025,
            13.664009379110695,
            14.660941996461847,
            15.763691585187004,
            16.994297584708747,
            18.302114239501257,
            null
           ],
           "y": [
            25.226253707256983,
            28.317087024384634,
            31.653600280950233,
            34.95982666405545,
            38.32678424492485,
            41.65059655664205,
            44.94718306572588,
            null
           ]
          },
          {
           "type": "scatter",
           "x": [
            null,
            null
           ],
           "y": [
            null,
            null
           ]
          },
          {
           "hovertemplate": "Detection<br>(%{x}, %{y})<br>Time: %{meta}",
           "meta": [
            "2023-08-24 12:19:57",
            "2023-08-24 12:19:58",
            "2023-08-24 12:19:59",
            "2023-08-24 12:20:00",
            "2023-08-24 12:20:01",
            "2023-08-24 12:20:02",
            "2023-08-24 12:20:03"
           ],
           "type": "scatter",
           "x": [
            9.210581625879016,
            14.82617191695391,
            11.69408565874592,
            16.034063908529554,
            19.222623463959337,
            17.806013715912897,
            22.259832475318472,
            null
           ],
           "y": [
            20.92614686262786,
            29.981721626438464,
            27.230418264224394,
            36.07693971814103,
            39.61561849446899,
            42.69631698501642,
            45.97561544057756,
            null
           ]
          },
          {
           "type": "scatter",
           "x": [
            null,
            null
           ],
           "y": [
            null,
            null
           ]
          },
          {
           "customdata": [
            "2023-08-24 12:19:57",
            "2023-08-24 12:19:58",
            "2023-08-24 12:19:59",
            "2023-08-24 12:20:00",
            "2023-08-24 12:20:01",
            "2023-08-24 12:20:02",
            "2023-08-24 12:20:03"
           ],
           "hovertemplate": "%{meta}<br>(%{x}, %{y})<br>Time: %{customdata}",
           "meta": [
            "GaussianStateUpdate",
            "GaussianStateUpdate",
            "GaussianStateUpdate",
            "GaussianStateUpdate",
            "GaussianStateUpdate",
            "GaussianStateUpdate",
            "GaussianStateUpdate"
           ],
           "type": "scatter",
           "x": [
            12.09938806414312,
            13.198186310370232,
            13.166626259390288,
            14.125230466084785,
            15.902094388970763,
            16.908064798359828,
            18.941395586818718,
            null
           ],
           "y": [
            24.6604876994617,
            27.87973397620881,
            29.2984146767556,
            33.162874425093335,
            36.98247299022167,
            41.02185974297869,
            44.48707263518764,
            null
           ]
          },
          {
           "type": "scatter",
           "x": [
            null
           ],
           "y": [
            null
           ]
          },
          {
           "type": "scatter",
           "x": [
            18.499490948969317,
            18.724834741295776,
            18.960768648702878,
            19.205802154046513,
            19.457967279470065,
            19.71358027633475,
            19.963188077779197,
            20.180110579416134,
            20.310274023082968,
            20.32496053544041,
            20.254382572603216,
            20.131568750531965,
            19.975056104368676,
            19.794756282284443,
            19.596311516008303,
            19.38330022466812,
            19.157987700958905,
            18.922010765223472,
            18.67698774209211,
            18.424824420658073,
            18.169213955000313,
            17.91960305094564,
            17.70268226320194,
            17.57251779292936,
            17.55783064469427,
            17.628407392157452,
            17.7512221300025,
            17.907735939466843,
            18.08804417604273,
            18.286451735007592,
            null,
            null
           ],
           "y": [
            45.03174173571379,
            45.201994678714215,
            45.355064583690165,
            45.48772162940919,
            45.594560250575675,
            45.66623435407419,
            45.685789237214976,
            45.625093601972104,
            45.46465973609859,
            45.23988702434882,
            44.999664687628396,
            44.7643126223325,
            44.53958066999479,
            44.327155501741615,
            44.127796399122225,
            43.94240353466149,
            43.77217254132845,
            43.61907367503442,
            43.48642302073311,
            43.379585208447864,
            43.307911507713044,
            43.2883560359796,
            43.34905066043011,
            43.509483693390905,
            43.734258290555864,
            43.974477712572686,
            44.20983217173273,
            44.434565722631554,
            44.646999830869326,
            44.84632279748215,
            null,
            null
           ]
          }
         ],
         "name": "2023-08-24 12:20:03",
         "traces": [
          0,
          1,
          2,
          3,
          5,
          6,
          7,
          8
         ]
        },
        {
         "data": [
          {
           "type": "scatter",
           "x": [
            0,
            0
           ],
           "y": [
            0,
            0
           ]
          },
          {
           "hovertemplate": "GroundTruthState<br>(%{x}, %{y})<br>Time: %{meta}",
           "meta": [
            "2023-08-24 12:19:58",
            "2023-08-24 12:19:59",
            "2023-08-24 12:20:00",
            "2023-08-24 12:20:01",
            "2023-08-24 12:20:02",
            "2023-08-24 12:20:03",
            "2023-08-24 12:20:04"
           ],
           "type": "scatter",
           "x": [
            12.857255540294025,
            13.664009379110695,
            14.660941996461847,
            15.763691585187004,
            16.994297584708747,
            18.302114239501257,
            19.719724360267328,
            null
           ],
           "y": [
            28.317087024384634,
            31.653600280950233,
            34.95982666405545,
            38.32678424492485,
            41.65059655664205,
            44.94718306572588,
            48.066958689446075,
            null
           ]
          },
          {
           "type": "scatter",
           "x": [
            null,
            null
           ],
           "y": [
            null,
            null
           ]
          },
          {
           "hovertemplate": "Detection<br>(%{x}, %{y})<br>Time: %{meta}",
           "meta": [
            "2023-08-24 12:19:58",
            "2023-08-24 12:19:59",
            "2023-08-24 12:20:00",
            "2023-08-24 12:20:01",
            "2023-08-24 12:20:02",
            "2023-08-24 12:20:03",
            "2023-08-24 12:20:04"
           ],
           "type": "scatter",
           "x": [
            14.82617191695391,
            11.69408565874592,
            16.034063908529554,
            19.222623463959337,
            17.806013715912897,
            22.259832475318472,
            25.39563418666202,
            null
           ],
           "y": [
            29.981721626438464,
            27.230418264224394,
            36.07693971814103,
            39.61561849446899,
            42.69631698501642,
            45.97561544057756,
            51.124483044129015,
            null
           ]
          },
          {
           "type": "scatter",
           "x": [
            null,
            null
           ],
           "y": [
            null,
            null
           ]
          },
          {
           "customdata": [
            "2023-08-24 12:19:58",
            "2023-08-24 12:19:59",
            "2023-08-24 12:20:00",
            "2023-08-24 12:20:01",
            "2023-08-24 12:20:02",
            "2023-08-24 12:20:03",
            "2023-08-24 12:20:04"
           ],
           "hovertemplate": "%{meta}<br>(%{x}, %{y})<br>Time: %{customdata}",
           "meta": [
            "GaussianStateUpdate",
            "GaussianStateUpdate",
            "GaussianStateUpdate",
            "GaussianStateUpdate",
            "GaussianStateUpdate",
            "GaussianStateUpdate",
            "GaussianStateUpdate"
           ],
           "type": "scatter",
           "x": [
            13.198186310370232,
            13.166626259390288,
            14.125230466084785,
            15.902094388970763,
            16.908064798359828,
            18.941395586818718,
            21.39495525122236,
            null
           ],
           "y": [
            27.87973397620881,
            29.2984146767556,
            33.162874425093335,
            36.98247299022167,
            41.02185974297869,
            44.48707263518764,
            48.81657442839131,
            null
           ]
          },
          {
           "type": "scatter",
           "x": [
            null
           ],
           "y": [
            null
           ]
          },
          {
           "type": "scatter",
           "x": [
            20.992337719616156,
            21.23349271765481,
            21.48394078532576,
            21.742082245394545,
            22.005732951167808,
            22.27082492902389,
            22.527069144972565,
            22.74530967322332,
            22.865801959478468,
            22.860329735786042,
            22.766829821123434,
            22.621750451936762,
            22.44428956420851,
            22.244392316231732,
            22.027642909204882,
            21.797572782828563,
            21.55644699699426,
            21.305956014174658,
            21.0478265793653,
            20.784178147868886,
            20.519089689413914,
            20.262841435756258,
            20.04460214955748,
            19.92410894151445,
            19.92958074834008,
            20.023078748437445,
            20.168159682966373,
            20.34562215715049,
            20.54552943666875,
            20.7622410173284,
            null,
            null
           ],
           "y": [
            49.39090709250273,
            49.548197740772125,
            49.687878903141744,
            49.80689366798115,
            49.900034183115984,
            49.958205787920846,
            49.96471509424584,
            49.891371318676335,
            49.71948846428636,
            49.489319788990784,
            49.2506499082424,
            49.021286097133036,
            48.805200179902975,
            48.60312368966735,
            48.41528560268199,
            48.242241764279896,
            48.084968789915145,
            47.945262956483326,
            47.82625450073483,
            47.7331148482343,
            47.67494363194827,
            47.6684337536266,
            47.74177663520966,
            47.91365884340981,
            48.14382899116142,
            48.382495271255145,
            48.61186225834229,
            48.82795001938113,
            49.03003566274015,
            49.2178418195323,
            null,
            null
           ]
          }
         ],
         "name": "2023-08-24 12:20:04",
         "traces": [
          0,
          1,
          2,
          3,
          5,
          6,
          7,
          8
         ]
        }
       ],
       "layout": {
        "autosize": true,
        "colorway": [
         "#EF553B",
         "#00CC96",
         "#AB63FA",
         "#FFA15A",
         "#19D3F3",
         "#FF6692",
         "#B6E880",
         "#FF97FF",
         "#FECB52"
        ],
        "height": 550,
        "sliders": [
         {
          "currentvalue": {
           "font": {
            "size": 16
           },
           "prefix": "Time: ",
           "visible": true,
           "xanchor": "right"
          },
          "len": 0.9,
          "pad": {
           "b": 10,
           "t": 50
          },
          "steps": [
           {
            "args": [
             [
              "2023-08-24 12:19:44"
             ],
             {
              "frame": {
               "duration": 1,
               "easing": "linear",
               "redraw": true
              },
              "transition": {
               "duration": 0,
               "easing": "linear"
              }
             }
            ],
            "label": "12:19:44",
            "method": "animate"
           },
           {
            "args": [
             [
              "2023-08-24 12:19:45"
             ],
             {
              "frame": {
               "duration": 1,
               "easing": "linear",
               "redraw": true
              },
              "transition": {
               "duration": 0,
               "easing": "linear"
              }
             }
            ],
            "label": "12:19:45",
            "method": "animate"
           },
           {
            "args": [
             [
              "2023-08-24 12:19:46"
             ],
             {
              "frame": {
               "duration": 1,
               "easing": "linear",
               "redraw": true
              },
              "transition": {
               "duration": 0,
               "easing": "linear"
              }
             }
            ],
            "label": "12:19:46",
            "method": "animate"
           },
           {
            "args": [
             [
              "2023-08-24 12:19:47"
             ],
             {
              "frame": {
               "duration": 1,
               "easing": "linear",
               "redraw": true
              },
              "transition": {
               "duration": 0,
               "easing": "linear"
              }
             }
            ],
            "label": "12:19:47",
            "method": "animate"
           },
           {
            "args": [
             [
              "2023-08-24 12:19:48"
             ],
             {
              "frame": {
               "duration": 1,
               "easing": "linear",
               "redraw": true
              },
              "transition": {
               "duration": 0,
               "easing": "linear"
              }
             }
            ],
            "label": "12:19:48",
            "method": "animate"
           },
           {
            "args": [
             [
              "2023-08-24 12:19:49"
             ],
             {
              "frame": {
               "duration": 1,
               "easing": "linear",
               "redraw": true
              },
              "transition": {
               "duration": 0,
               "easing": "linear"
              }
             }
            ],
            "label": "12:19:49",
            "method": "animate"
           },
           {
            "args": [
             [
              "2023-08-24 12:19:50"
             ],
             {
              "frame": {
               "duration": 1,
               "easing": "linear",
               "redraw": true
              },
              "transition": {
               "duration": 0,
               "easing": "linear"
              }
             }
            ],
            "label": "12:19:50",
            "method": "animate"
           },
           {
            "args": [
             [
              "2023-08-24 12:19:51"
             ],
             {
              "frame": {
               "duration": 1,
               "easing": "linear",
               "redraw": true
              },
              "transition": {
               "duration": 0,
               "easing": "linear"
              }
             }
            ],
            "label": "12:19:51",
            "method": "animate"
           },
           {
            "args": [
             [
              "2023-08-24 12:19:52"
             ],
             {
              "frame": {
               "duration": 1,
               "easing": "linear",
               "redraw": true
              },
              "transition": {
               "duration": 0,
               "easing": "linear"
              }
             }
            ],
            "label": "12:19:52",
            "method": "animate"
           },
           {
            "args": [
             [
              "2023-08-24 12:19:53"
             ],
             {
              "frame": {
               "duration": 1,
               "easing": "linear",
               "redraw": true
              },
              "transition": {
               "duration": 0,
               "easing": "linear"
              }
             }
            ],
            "label": "12:19:53",
            "method": "animate"
           },
           {
            "args": [
             [
              "2023-08-24 12:19:54"
             ],
             {
              "frame": {
               "duration": 1,
               "easing": "linear",
               "redraw": true
              },
              "transition": {
               "duration": 0,
               "easing": "linear"
              }
             }
            ],
            "label": "12:19:54",
            "method": "animate"
           },
           {
            "args": [
             [
              "2023-08-24 12:19:55"
             ],
             {
              "frame": {
               "duration": 1,
               "easing": "linear",
               "redraw": true
              },
              "transition": {
               "duration": 0,
               "easing": "linear"
              }
             }
            ],
            "label": "12:19:55",
            "method": "animate"
           },
           {
            "args": [
             [
              "2023-08-24 12:19:56"
             ],
             {
              "frame": {
               "duration": 1,
               "easing": "linear",
               "redraw": true
              },
              "transition": {
               "duration": 0,
               "easing": "linear"
              }
             }
            ],
            "label": "12:19:56",
            "method": "animate"
           },
           {
            "args": [
             [
              "2023-08-24 12:19:57"
             ],
             {
              "frame": {
               "duration": 1,
               "easing": "linear",
               "redraw": true
              },
              "transition": {
               "duration": 0,
               "easing": "linear"
              }
             }
            ],
            "label": "12:19:57",
            "method": "animate"
           },
           {
            "args": [
             [
              "2023-08-24 12:19:58"
             ],
             {
              "frame": {
               "duration": 1,
               "easing": "linear",
               "redraw": true
              },
              "transition": {
               "duration": 0,
               "easing": "linear"
              }
             }
            ],
            "label": "12:19:58",
            "method": "animate"
           },
           {
            "args": [
             [
              "2023-08-24 12:19:59"
             ],
             {
              "frame": {
               "duration": 1,
               "easing": "linear",
               "redraw": true
              },
              "transition": {
               "duration": 0,
               "easing": "linear"
              }
             }
            ],
            "label": "12:19:59",
            "method": "animate"
           },
           {
            "args": [
             [
              "2023-08-24 12:20:00"
             ],
             {
              "frame": {
               "duration": 1,
               "easing": "linear",
               "redraw": true
              },
              "transition": {
               "duration": 0,
               "easing": "linear"
              }
             }
            ],
            "label": "12:20:00",
            "method": "animate"
           },
           {
            "args": [
             [
              "2023-08-24 12:20:01"
             ],
             {
              "frame": {
               "duration": 1,
               "easing": "linear",
               "redraw": true
              },
              "transition": {
               "duration": 0,
               "easing": "linear"
              }
             }
            ],
            "label": "12:20:01",
            "method": "animate"
           },
           {
            "args": [
             [
              "2023-08-24 12:20:02"
             ],
             {
              "frame": {
               "duration": 1,
               "easing": "linear",
               "redraw": true
              },
              "transition": {
               "duration": 0,
               "easing": "linear"
              }
             }
            ],
            "label": "12:20:02",
            "method": "animate"
           },
           {
            "args": [
             [
              "2023-08-24 12:20:03"
             ],
             {
              "frame": {
               "duration": 1,
               "easing": "linear",
               "redraw": true
              },
              "transition": {
               "duration": 0,
               "easing": "linear"
              }
             }
            ],
            "label": "12:20:03",
            "method": "animate"
           },
           {
            "args": [
             [
              "2023-08-24 12:20:04"
             ],
             {
              "frame": {
               "duration": 1,
               "easing": "linear",
               "redraw": true
              },
              "transition": {
               "duration": 0,
               "easing": "linear"
              }
             }
            ],
            "label": "12:20:04",
            "method": "animate"
           }
          ],
          "transition": {
           "duration": 285.7142857142857,
           "easing": "linear"
          },
          "x": 0.1,
          "xanchor": "left",
          "y": 0,
          "yanchor": "top"
         }
        ],
        "template": {
         "data": {
          "bar": [
           {
            "error_x": {
             "color": "#2a3f5f"
            },
            "error_y": {
             "color": "#2a3f5f"
            },
            "marker": {
             "line": {
              "color": "#E5ECF6",
              "width": 0.5
             },
             "pattern": {
              "fillmode": "overlay",
              "size": 10,
              "solidity": 0.2
             }
            },
            "type": "bar"
           }
          ],
          "barpolar": [
           {
            "marker": {
             "line": {
              "color": "#E5ECF6",
              "width": 0.5
             },
             "pattern": {
              "fillmode": "overlay",
              "size": 10,
              "solidity": 0.2
             }
            },
            "type": "barpolar"
           }
          ],
          "carpet": [
           {
            "aaxis": {
             "endlinecolor": "#2a3f5f",
             "gridcolor": "white",
             "linecolor": "white",
             "minorgridcolor": "white",
             "startlinecolor": "#2a3f5f"
            },
            "baxis": {
             "endlinecolor": "#2a3f5f",
             "gridcolor": "white",
             "linecolor": "white",
             "minorgridcolor": "white",
             "startlinecolor": "#2a3f5f"
            },
            "type": "carpet"
           }
          ],
          "choropleth": [
           {
            "colorbar": {
             "outlinewidth": 0,
             "ticks": ""
            },
            "type": "choropleth"
           }
          ],
          "contour": [
           {
            "colorbar": {
             "outlinewidth": 0,
             "ticks": ""
            },
            "colorscale": [
             [
              0,
              "#0d0887"
             ],
             [
              0.1111111111111111,
              "#46039f"
             ],
             [
              0.2222222222222222,
              "#7201a8"
             ],
             [
              0.3333333333333333,
              "#9c179e"
             ],
             [
              0.4444444444444444,
              "#bd3786"
             ],
             [
              0.5555555555555556,
              "#d8576b"
             ],
             [
              0.6666666666666666,
              "#ed7953"
             ],
             [
              0.7777777777777778,
              "#fb9f3a"
             ],
             [
              0.8888888888888888,
              "#fdca26"
             ],
             [
              1,
              "#f0f921"
             ]
            ],
            "type": "contour"
           }
          ],
          "contourcarpet": [
           {
            "colorbar": {
             "outlinewidth": 0,
             "ticks": ""
            },
            "type": "contourcarpet"
           }
          ],
          "heatmap": [
           {
            "colorbar": {
             "outlinewidth": 0,
             "ticks": ""
            },
            "colorscale": [
             [
              0,
              "#0d0887"
             ],
             [
              0.1111111111111111,
              "#46039f"
             ],
             [
              0.2222222222222222,
              "#7201a8"
             ],
             [
              0.3333333333333333,
              "#9c179e"
             ],
             [
              0.4444444444444444,
              "#bd3786"
             ],
             [
              0.5555555555555556,
              "#d8576b"
             ],
             [
              0.6666666666666666,
              "#ed7953"
             ],
             [
              0.7777777777777778,
              "#fb9f3a"
             ],
             [
              0.8888888888888888,
              "#fdca26"
             ],
             [
              1,
              "#f0f921"
             ]
            ],
            "type": "heatmap"
           }
          ],
          "heatmapgl": [
           {
            "colorbar": {
             "outlinewidth": 0,
             "ticks": ""
            },
            "colorscale": [
             [
              0,
              "#0d0887"
             ],
             [
              0.1111111111111111,
              "#46039f"
             ],
             [
              0.2222222222222222,
              "#7201a8"
             ],
             [
              0.3333333333333333,
              "#9c179e"
             ],
             [
              0.4444444444444444,
              "#bd3786"
             ],
             [
              0.5555555555555556,
              "#d8576b"
             ],
             [
              0.6666666666666666,
              "#ed7953"
             ],
             [
              0.7777777777777778,
              "#fb9f3a"
             ],
             [
              0.8888888888888888,
              "#fdca26"
             ],
             [
              1,
              "#f0f921"
             ]
            ],
            "type": "heatmapgl"
           }
          ],
          "histogram": [
           {
            "marker": {
             "pattern": {
              "fillmode": "overlay",
              "size": 10,
              "solidity": 0.2
             }
            },
            "type": "histogram"
           }
          ],
          "histogram2d": [
           {
            "colorbar": {
             "outlinewidth": 0,
             "ticks": ""
            },
            "colorscale": [
             [
              0,
              "#0d0887"
             ],
             [
              0.1111111111111111,
              "#46039f"
             ],
             [
              0.2222222222222222,
              "#7201a8"
             ],
             [
              0.3333333333333333,
              "#9c179e"
             ],
             [
              0.4444444444444444,
              "#bd3786"
             ],
             [
              0.5555555555555556,
              "#d8576b"
             ],
             [
              0.6666666666666666,
              "#ed7953"
             ],
             [
              0.7777777777777778,
              "#fb9f3a"
             ],
             [
              0.8888888888888888,
              "#fdca26"
             ],
             [
              1,
              "#f0f921"
             ]
            ],
            "type": "histogram2d"
           }
          ],
          "histogram2dcontour": [
           {
            "colorbar": {
             "outlinewidth": 0,
             "ticks": ""
            },
            "colorscale": [
             [
              0,
              "#0d0887"
             ],
             [
              0.1111111111111111,
              "#46039f"
             ],
             [
              0.2222222222222222,
              "#7201a8"
             ],
             [
              0.3333333333333333,
              "#9c179e"
             ],
             [
              0.4444444444444444,
              "#bd3786"
             ],
             [
              0.5555555555555556,
              "#d8576b"
             ],
             [
              0.6666666666666666,
              "#ed7953"
             ],
             [
              0.7777777777777778,
              "#fb9f3a"
             ],
             [
              0.8888888888888888,
              "#fdca26"
             ],
             [
              1,
              "#f0f921"
             ]
            ],
            "type": "histogram2dcontour"
           }
          ],
          "mesh3d": [
           {
            "colorbar": {
             "outlinewidth": 0,
             "ticks": ""
            },
            "type": "mesh3d"
           }
          ],
          "parcoords": [
           {
            "line": {
             "colorbar": {
              "outlinewidth": 0,
              "ticks": ""
             }
            },
            "type": "parcoords"
           }
          ],
          "pie": [
           {
            "automargin": true,
            "type": "pie"
           }
          ],
          "scatter": [
           {
            "fillpattern": {
             "fillmode": "overlay",
             "size": 10,
             "solidity": 0.2
            },
            "type": "scatter"
           }
          ],
          "scatter3d": [
           {
            "line": {
             "colorbar": {
              "outlinewidth": 0,
              "ticks": ""
             }
            },
            "marker": {
             "colorbar": {
              "outlinewidth": 0,
              "ticks": ""
             }
            },
            "type": "scatter3d"
           }
          ],
          "scattercarpet": [
           {
            "marker": {
             "colorbar": {
              "outlinewidth": 0,
              "ticks": ""
             }
            },
            "type": "scattercarpet"
           }
          ],
          "scattergeo": [
           {
            "marker": {
             "colorbar": {
              "outlinewidth": 0,
              "ticks": ""
             }
            },
            "type": "scattergeo"
           }
          ],
          "scattergl": [
           {
            "marker": {
             "colorbar": {
              "outlinewidth": 0,
              "ticks": ""
             }
            },
            "type": "scattergl"
           }
          ],
          "scattermapbox": [
           {
            "marker": {
             "colorbar": {
              "outlinewidth": 0,
              "ticks": ""
             }
            },
            "type": "scattermapbox"
           }
          ],
          "scatterpolar": [
           {
            "marker": {
             "colorbar": {
              "outlinewidth": 0,
              "ticks": ""
             }
            },
            "type": "scatterpolar"
           }
          ],
          "scatterpolargl": [
           {
            "marker": {
             "colorbar": {
              "outlinewidth": 0,
              "ticks": ""
             }
            },
            "type": "scatterpolargl"
           }
          ],
          "scatterternary": [
           {
            "marker": {
             "colorbar": {
              "outlinewidth": 0,
              "ticks": ""
             }
            },
            "type": "scatterternary"
           }
          ],
          "surface": [
           {
            "colorbar": {
             "outlinewidth": 0,
             "ticks": ""
            },
            "colorscale": [
             [
              0,
              "#0d0887"
             ],
             [
              0.1111111111111111,
              "#46039f"
             ],
             [
              0.2222222222222222,
              "#7201a8"
             ],
             [
              0.3333333333333333,
              "#9c179e"
             ],
             [
              0.4444444444444444,
              "#bd3786"
             ],
             [
              0.5555555555555556,
              "#d8576b"
             ],
             [
              0.6666666666666666,
              "#ed7953"
             ],
             [
              0.7777777777777778,
              "#fb9f3a"
             ],
             [
              0.8888888888888888,
              "#fdca26"
             ],
             [
              1,
              "#f0f921"
             ]
            ],
            "type": "surface"
           }
          ],
          "table": [
           {
            "cells": {
             "fill": {
              "color": "#EBF0F8"
             },
             "line": {
              "color": "white"
             }
            },
            "header": {
             "fill": {
              "color": "#C8D4E3"
             },
             "line": {
              "color": "white"
             }
            },
            "type": "table"
           }
          ]
         },
         "layout": {
          "annotationdefaults": {
           "arrowcolor": "#2a3f5f",
           "arrowhead": 0,
           "arrowwidth": 1
          },
          "autotypenumbers": "strict",
          "coloraxis": {
           "colorbar": {
            "outlinewidth": 0,
            "ticks": ""
           }
          },
          "colorscale": {
           "diverging": [
            [
             0,
             "#8e0152"
            ],
            [
             0.1,
             "#c51b7d"
            ],
            [
             0.2,
             "#de77ae"
            ],
            [
             0.3,
             "#f1b6da"
            ],
            [
             0.4,
             "#fde0ef"
            ],
            [
             0.5,
             "#f7f7f7"
            ],
            [
             0.6,
             "#e6f5d0"
            ],
            [
             0.7,
             "#b8e186"
            ],
            [
             0.8,
             "#7fbc41"
            ],
            [
             0.9,
             "#4d9221"
            ],
            [
             1,
             "#276419"
            ]
           ],
           "sequential": [
            [
             0,
             "#0d0887"
            ],
            [
             0.1111111111111111,
             "#46039f"
            ],
            [
             0.2222222222222222,
             "#7201a8"
            ],
            [
             0.3333333333333333,
             "#9c179e"
            ],
            [
             0.4444444444444444,
             "#bd3786"
            ],
            [
             0.5555555555555556,
             "#d8576b"
            ],
            [
             0.6666666666666666,
             "#ed7953"
            ],
            [
             0.7777777777777778,
             "#fb9f3a"
            ],
            [
             0.8888888888888888,
             "#fdca26"
            ],
            [
             1,
             "#f0f921"
            ]
           ],
           "sequentialminus": [
            [
             0,
             "#0d0887"
            ],
            [
             0.1111111111111111,
             "#46039f"
            ],
            [
             0.2222222222222222,
             "#7201a8"
            ],
            [
             0.3333333333333333,
             "#9c179e"
            ],
            [
             0.4444444444444444,
             "#bd3786"
            ],
            [
             0.5555555555555556,
             "#d8576b"
            ],
            [
             0.6666666666666666,
             "#ed7953"
            ],
            [
             0.7777777777777778,
             "#fb9f3a"
            ],
            [
             0.8888888888888888,
             "#fdca26"
            ],
            [
             1,
             "#f0f921"
            ]
           ]
          },
          "colorway": [
           "#636efa",
           "#EF553B",
           "#00cc96",
           "#ab63fa",
           "#FFA15A",
           "#19d3f3",
           "#FF6692",
           "#B6E880",
           "#FF97FF",
           "#FECB52"
          ],
          "font": {
           "color": "#2a3f5f"
          },
          "geo": {
           "bgcolor": "white",
           "lakecolor": "white",
           "landcolor": "#E5ECF6",
           "showlakes": true,
           "showland": true,
           "subunitcolor": "white"
          },
          "hoverlabel": {
           "align": "left"
          },
          "hovermode": "closest",
          "mapbox": {
           "style": "light"
          },
          "paper_bgcolor": "white",
          "plot_bgcolor": "#E5ECF6",
          "polar": {
           "angularaxis": {
            "gridcolor": "white",
            "linecolor": "white",
            "ticks": ""
           },
           "bgcolor": "#E5ECF6",
           "radialaxis": {
            "gridcolor": "white",
            "linecolor": "white",
            "ticks": ""
           }
          },
          "scene": {
           "xaxis": {
            "backgroundcolor": "#E5ECF6",
            "gridcolor": "white",
            "gridwidth": 2,
            "linecolor": "white",
            "showbackground": true,
            "ticks": "",
            "zerolinecolor": "white"
           },
           "yaxis": {
            "backgroundcolor": "#E5ECF6",
            "gridcolor": "white",
            "gridwidth": 2,
            "linecolor": "white",
            "showbackground": true,
            "ticks": "",
            "zerolinecolor": "white"
           },
           "zaxis": {
            "backgroundcolor": "#E5ECF6",
            "gridcolor": "white",
            "gridwidth": 2,
            "linecolor": "white",
            "showbackground": true,
            "ticks": "",
            "zerolinecolor": "white"
           }
          },
          "shapedefaults": {
           "line": {
            "color": "#2a3f5f"
           }
          },
          "ternary": {
           "aaxis": {
            "gridcolor": "white",
            "linecolor": "white",
            "ticks": ""
           },
           "baxis": {
            "gridcolor": "white",
            "linecolor": "white",
            "ticks": ""
           },
           "bgcolor": "#E5ECF6",
           "caxis": {
            "gridcolor": "white",
            "linecolor": "white",
            "ticks": ""
           }
          },
          "title": {
           "x": 0.05
          },
          "xaxis": {
           "automargin": true,
           "gridcolor": "white",
           "linecolor": "white",
           "ticks": "",
           "title": {
            "standoff": 15
           },
           "zerolinecolor": "white",
           "zerolinewidth": 2
          },
          "yaxis": {
           "automargin": true,
           "gridcolor": "white",
           "linecolor": "white",
           "ticks": "",
           "title": {
            "standoff": 15
           },
           "zerolinecolor": "white",
           "zerolinewidth": 2
          }
         }
        },
        "updatemenus": [
         {
          "buttons": [
           {
            "args": [
             null,
             {
              "frame": {
               "duration": 285.7142857142857,
               "redraw": true
              },
              "fromcurrent": true,
              "transition": {
               "duration": 0
              }
             }
            ],
            "label": "Play",
            "method": "animate"
           },
           {
            "args": [
             [
              null
             ],
             {
              "frame": {
               "duration": 0,
               "redraw": true
              },
              "mode": "immediate",
              "transition": {
               "duration": 0
              }
             }
            ],
            "label": "Stop",
            "method": "animate"
           }
          ],
          "direction": "left",
          "pad": {
           "r": 10,
           "t": 75
          },
          "showactive": true,
          "type": "buttons",
          "x": 0.1,
          "xanchor": "right",
          "y": 0,
          "yanchor": "top"
         }
        ],
        "xaxis": {
         "range": [
          -2.3050672382471356,
          26.71471520689579
         ],
         "title": {
          "text": "<i>x</i>"
         }
        },
        "yaxis": {
         "range": [
          -5.079739483402369,
          53.80087459305908
         ],
         "title": {
          "text": "<i>y</i>"
         }
        }
       }
      }
     },
     "metadata": {},
     "output_type": "display_data"
    }
   ],
   "source": [
    "plotter.plot_tracks(track, [0,2], uncertainty=True)\n",
    "plotter.fig"
   ]
  },
  {
   "cell_type": "markdown",
   "metadata": {},
   "source": [
    "NOT FINISHED"
   ]
  },
  {
   "cell_type": "code",
   "execution_count": null,
   "metadata": {},
   "outputs": [],
   "source": []
  }
 ],
 "metadata": {
  "kernelspec": {
   "display_name": "Python 3",
   "language": "python",
   "name": "python3"
  },
  "language_info": {
   "codemirror_mode": {
    "name": "ipython",
    "version": 3
   },
   "file_extension": ".py",
   "mimetype": "text/x-python",
   "name": "python",
   "nbconvert_exporter": "python",
   "pygments_lexer": "ipython3",
   "version": "3.8.5"
  },
  "orig_nbformat": 4
 },
 "nbformat": 4,
 "nbformat_minor": 2
}
